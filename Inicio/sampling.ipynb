{
 "cells": [
  {
   "cell_type": "code",
   "execution_count": 1,
   "metadata": {},
   "outputs": [
    {
     "data": {
      "text/html": [
       "\n",
       "    <script src=\"/files/netpixi.min.js\"></script>\n"
      ],
      "text/plain": [
       "<IPython.core.display.HTML object>"
      ]
     },
     "metadata": {},
     "output_type": "display_data"
    },
    {
     "name": "stderr",
     "output_type": "stream",
     "text": [
      "<frozen importlib._bootstrap>:914: ImportWarning: VendorImporter.find_spec() not found; falling back to find_module()\n"
     ]
    }
   ],
   "source": [
    "import os\n",
    "import pandas as pd\n",
    "import json\n",
    "from collections import Counter\n",
    "import seaborn as sns\n",
    "from netpixi.integration.gt import *\n",
    "from netpixi.integration.gt import Graph\n",
    "from regression.integration.gt import *\n",
    "import netpixi\n",
    "from collections import defaultdict\n",
    "from itertools import combinations\n",
    "import matplotlib.pyplot as plt\n",
    "import seaborn as sns\n",
    "from itertools import combinations\n",
    "import cpnet\n",
    "from graph_tool import spectral\n",
    "\n",
    "import numpy as np\n",
    "from collections import defaultdict\n",
    "import itertools\n",
    "g = Graph(directed=False)\n",
    "files = os.listdir('./jsons')\n",
    "\n",
    "json_files = [file for file in files if file.endswith('.json')]"
   ]
  },
  {
   "cell_type": "markdown",
   "metadata": {},
   "source": [
    "Na célula a seguir pegamos todas as informações encontradas nos arquivos JSON e juntamos em um dataframe."
   ]
  },
  {
   "cell_type": "code",
   "execution_count": 2,
   "metadata": {},
   "outputs": [
    {
     "name": "stdout",
     "output_type": "stream",
     "text": [
      "13707\n"
     ]
    }
   ],
   "source": [
    "df_combined = pd.DataFrame()\n",
    "\n",
    "for json_file in json_files:\n",
    "    data = []\n",
    "    with open(f\"jsons/{json_file}\", 'r', encoding='utf-8') as f:\n",
    "        for line in f:\n",
    "            try:\n",
    "                data.append(json.loads(line))\n",
    "            except json.JSONDecodeError:\n",
    "                pass\n",
    "    df = pd.DataFrame(data)\n",
    "    df_combined = pd.concat([df_combined, df], ignore_index=True)\n",
    "print(len(df_combined))"
   ]
  },
  {
   "cell_type": "code",
   "execution_count": 3,
   "metadata": {
    "scrolled": false
   },
   "outputs": [
    {
     "data": {
      "text/plain": [
       "Index(['apiURLs', 'asins', 'brand', 'categories', 'colors', 'dateAdded',\n",
       "       'dateUpdated', 'descriptions', 'dimension', 'domains', 'ean', 'ean13',\n",
       "       'features', 'gtins', 'imageURLs', 'keys', 'manufacturer',\n",
       "       'manufacturerNumber', 'merchants', 'mostRecentPriceAmount',\n",
       "       'mostRecentPriceNonSalesAmount', 'mostRecentPriceAvailability',\n",
       "       'mostRecentPriceCurrency', 'mostRecentPriceColor',\n",
       "       'mostRecentPriceIsSale', 'mostRecentPriceDomain',\n",
       "       'mostRecentPriceSourceURL', 'mostRecentPriceDate',\n",
       "       'mostRecentPriceFirstDateSeen', 'mostRecentPriceByDomain', 'name',\n",
       "       'prices', 'primaryCategories', 'primaryImageURLs', 'quantities',\n",
       "       'reviews', 'secondaryCategories', 'skus', 'sourceURLs', 'taxonomy',\n",
       "       'taxonomyLevel1', 'taxonomyLevel2', 'taxonomyLevel3', 'taxonomyLevel4',\n",
       "       'taxonomyLevel5', 'taxonomyLevel6', 'taxonomyLevel7', 'upc', 'upca',\n",
       "       'websiteIDs', 'weight', 'id', 'financingAndLeasing', 'sizes',\n",
       "       'mostRecentPriceCondition', 'sdsURLs', 'taxonomyLevel8', 'count',\n",
       "       'isbn', 'mostRecentPriceSize'],\n",
       "      dtype='object')"
      ]
     },
     "execution_count": 3,
     "metadata": {},
     "output_type": "execute_result"
    }
   ],
   "source": [
    "df_combined.columns"
   ]
  },
  {
   "cell_type": "markdown",
   "metadata": {},
   "source": [
    "Pegamos todos os usuários dentro de todos os reviews"
   ]
  },
  {
   "cell_type": "code",
   "execution_count": 4,
   "metadata": {},
   "outputs": [],
   "source": [
    "usuarios = []\n",
    "ratings = []\n",
    "for reviews_produto in df_combined['reviews']:\n",
    "    ratings_produto = []\n",
    "    for review in reviews_produto:\n",
    "        if 'username' in review.keys():\n",
    "            usuarios.append(review['username'])\n",
    "        if 'rating' in review.keys():\n",
    "            ratings_produto.append(review['rating'])\n",
    "    ratings.append(sum(ratings_produto)/len(ratings_produto))"
   ]
  },
  {
   "cell_type": "code",
   "execution_count": 5,
   "metadata": {},
   "outputs": [
    {
     "data": {
      "text/plain": [
       "13707"
      ]
     },
     "execution_count": 5,
     "metadata": {},
     "output_type": "execute_result"
    }
   ],
   "source": [
    "len(ratings)"
   ]
  },
  {
   "cell_type": "code",
   "execution_count": 6,
   "metadata": {
    "scrolled": false
   },
   "outputs": [
    {
     "data": {
      "text/html": [
       "<div>\n",
       "<style scoped>\n",
       "    .dataframe tbody tr th:only-of-type {\n",
       "        vertical-align: middle;\n",
       "    }\n",
       "\n",
       "    .dataframe tbody tr th {\n",
       "        vertical-align: top;\n",
       "    }\n",
       "\n",
       "    .dataframe thead th {\n",
       "        text-align: right;\n",
       "    }\n",
       "</style>\n",
       "<table border=\"1\" class=\"dataframe\">\n",
       "  <thead>\n",
       "    <tr style=\"text-align: right;\">\n",
       "      <th></th>\n",
       "      <th>product_name</th>\n",
       "      <th>usernames</th>\n",
       "    </tr>\n",
       "  </thead>\n",
       "  <tbody>\n",
       "    <tr>\n",
       "      <th>0</th>\n",
       "      <td>ThinkVision T23d 22.5\" LED Monitor (HDMI, DP, ...</td>\n",
       "      <td>[Gomi, Terryc, myOwnTwoCents, Justin from Mich...</td>\n",
       "    </tr>\n",
       "    <tr>\n",
       "      <th>1</th>\n",
       "      <td>ThinkVision M14t 14\" LED Mobile Monitor with T...</td>\n",
       "      <td>[RogueStudio, Vvvsss, Anonymous, Zusan, Jenni2...</td>\n",
       "    </tr>\n",
       "    <tr>\n",
       "      <th>2</th>\n",
       "      <td>ThinkCentre Tiny-In-One 24 Gen 4 23.8\" IPS LCD...</td>\n",
       "      <td>[Robert W in TX, ucvb9, ucvb9, AlanS3, Robert ...</td>\n",
       "    </tr>\n",
       "    <tr>\n",
       "      <th>3</th>\n",
       "      <td>ThinkVision T22v-20 21.5\" VoIP LED Monitor (HD...</td>\n",
       "      <td>[MDREAM, Kent A, Norm01, Anonymous, Sam W, Ric...</td>\n",
       "    </tr>\n",
       "    <tr>\n",
       "      <th>4</th>\n",
       "      <td>Legion KM300 Full-size Wired RGB Gaming Keyboa...</td>\n",
       "      <td>[BCarter · Review provided by  lenovo.com, fwi...</td>\n",
       "    </tr>\n",
       "    <tr>\n",
       "      <th>...</th>\n",
       "      <td>...</td>\n",
       "      <td>...</td>\n",
       "    </tr>\n",
       "    <tr>\n",
       "      <th>12967</th>\n",
       "      <td>Frigidaire FDB2410HIC - Dishwasher - built-in ...</td>\n",
       "      <td>[Lupe51, nanapattiann, Bobbi, Ruthie, kkdidit2...</td>\n",
       "    </tr>\n",
       "    <tr>\n",
       "      <th>12968</th>\n",
       "      <td>FRIGIDAIRE FFCD2418UW0A 24\" Built-In Dishwashe...</td>\n",
       "      <td>[Stealmonkey, The ok dishwasher, Randa, Dishwa...</td>\n",
       "    </tr>\n",
       "    <tr>\n",
       "      <th>12969</th>\n",
       "      <td>Frigidaire Gallery 8,000 BTU Window Air Condit...</td>\n",
       "      <td>[Review provided by  Overstock.com, Jon_M, 246...</td>\n",
       "    </tr>\n",
       "    <tr>\n",
       "      <th>12970</th>\n",
       "      <td>Frigidaire® Top Freezer Refrigerator, 18 Cu. Ft.</td>\n",
       "      <td>[TheHenees, Blanca63, Large and roomy, Cougdud...</td>\n",
       "    </tr>\n",
       "    <tr>\n",
       "      <th>12971</th>\n",
       "      <td>Gallery 19.0 Cu. Ft. Frost-Free Upright Freezer</td>\n",
       "      <td>[METOO77, Vic3, lsada, Satisfied Customer2018,...</td>\n",
       "    </tr>\n",
       "  </tbody>\n",
       "</table>\n",
       "<p>12972 rows × 2 columns</p>\n",
       "</div>"
      ],
      "text/plain": [
       "                                            product_name  \\\n",
       "0      ThinkVision T23d 22.5\" LED Monitor (HDMI, DP, ...   \n",
       "1      ThinkVision M14t 14\" LED Mobile Monitor with T...   \n",
       "2      ThinkCentre Tiny-In-One 24 Gen 4 23.8\" IPS LCD...   \n",
       "3      ThinkVision T22v-20 21.5\" VoIP LED Monitor (HD...   \n",
       "4      Legion KM300 Full-size Wired RGB Gaming Keyboa...   \n",
       "...                                                  ...   \n",
       "12967  Frigidaire FDB2410HIC - Dishwasher - built-in ...   \n",
       "12968  FRIGIDAIRE FFCD2418UW0A 24\" Built-In Dishwashe...   \n",
       "12969  Frigidaire Gallery 8,000 BTU Window Air Condit...   \n",
       "12970   Frigidaire® Top Freezer Refrigerator, 18 Cu. Ft.   \n",
       "12971    Gallery 19.0 Cu. Ft. Frost-Free Upright Freezer   \n",
       "\n",
       "                                               usernames  \n",
       "0      [Gomi, Terryc, myOwnTwoCents, Justin from Mich...  \n",
       "1      [RogueStudio, Vvvsss, Anonymous, Zusan, Jenni2...  \n",
       "2      [Robert W in TX, ucvb9, ucvb9, AlanS3, Robert ...  \n",
       "3      [MDREAM, Kent A, Norm01, Anonymous, Sam W, Ric...  \n",
       "4      [BCarter · Review provided by  lenovo.com, fwi...  \n",
       "...                                                  ...  \n",
       "12967  [Lupe51, nanapattiann, Bobbi, Ruthie, kkdidit2...  \n",
       "12968  [Stealmonkey, The ok dishwasher, Randa, Dishwa...  \n",
       "12969  [Review provided by  Overstock.com, Jon_M, 246...  \n",
       "12970  [TheHenees, Blanca63, Large and roomy, Cougdud...  \n",
       "12971  [METOO77, Vic3, lsada, Satisfied Customer2018,...  \n",
       "\n",
       "[12972 rows x 2 columns]"
      ]
     },
     "execution_count": 6,
     "metadata": {},
     "output_type": "execute_result"
    }
   ],
   "source": [
    "from collections import defaultdict\n",
    "\n",
    "product_reviewers = defaultdict(list)\n",
    "\n",
    "for i, row in df_combined.iterrows():\n",
    "    for review in row['reviews']:\n",
    "        if 'username' in review.keys() and 'rating' in review.keys():\n",
    "            username = review['username']\n",
    "            product_name = row['name']\n",
    "            product_reviewers[product_name].append(username)\n",
    "\n",
    "new_df = pd.DataFrame(list(product_reviewers.items()), columns=['product_name', 'usernames'])\n",
    "\n",
    "new_df"
   ]
  },
  {
   "cell_type": "code",
   "execution_count": 7,
   "metadata": {},
   "outputs": [],
   "source": [
    "from collections import defaultdict\n",
    "\n",
    "product_reviewers = defaultdict(lambda: defaultdict(list))\n",
    "\n",
    "for i, row in df_combined.iterrows():\n",
    "    for review in row['reviews']:\n",
    "        if 'username' in review.keys() and 'rating' in review.keys():\n",
    "            username = review['username']\n",
    "            rating_medio = review['rating']\n",
    "            product_name = row['name']\n",
    "            product_reviewers[product_name]['usernames'].append(username)\n",
    "            product_reviewers[product_name]['ratings'].append(rating_medio)\n",
    "\n",
    "# Convert the defaultdict to a list of dictionaries\n",
    "data = [{'product_name': k, 'usernames': v['usernames'], 'ratings': v['ratings']} \n",
    "        for k, v in product_reviewers.items()]\n",
    "\n",
    "# Create a new DataFrame\n",
    "new_df = pd.DataFrame(data)"
   ]
  },
  {
   "cell_type": "code",
   "execution_count": 8,
   "metadata": {},
   "outputs": [
    {
     "data": {
      "text/html": [
       "<div>\n",
       "<style scoped>\n",
       "    .dataframe tbody tr th:only-of-type {\n",
       "        vertical-align: middle;\n",
       "    }\n",
       "\n",
       "    .dataframe tbody tr th {\n",
       "        vertical-align: top;\n",
       "    }\n",
       "\n",
       "    .dataframe thead th {\n",
       "        text-align: right;\n",
       "    }\n",
       "</style>\n",
       "<table border=\"1\" class=\"dataframe\">\n",
       "  <thead>\n",
       "    <tr style=\"text-align: right;\">\n",
       "      <th></th>\n",
       "      <th>product_name</th>\n",
       "      <th>usernames</th>\n",
       "      <th>ratings</th>\n",
       "    </tr>\n",
       "  </thead>\n",
       "  <tbody>\n",
       "    <tr>\n",
       "      <th>0</th>\n",
       "      <td>ThinkVision T23d 22.5\" LED Monitor (HDMI, DP, ...</td>\n",
       "      <td>[Gomi, Terryc, myOwnTwoCents, Justin from Mich...</td>\n",
       "      <td>[5.0, 5.0, 5.0, 5.0, 5.0, 5.0, 4.0, 5.0, 5.0, ...</td>\n",
       "    </tr>\n",
       "    <tr>\n",
       "      <th>1</th>\n",
       "      <td>ThinkVision M14t 14\" LED Mobile Monitor with T...</td>\n",
       "      <td>[RogueStudio, Vvvsss, Anonymous, Zusan, Jenni2...</td>\n",
       "      <td>[5.0, 4.0, 5.0, 5.0, 5.0, 5.0, 5.0, 5.0, 5.0, ...</td>\n",
       "    </tr>\n",
       "    <tr>\n",
       "      <th>2</th>\n",
       "      <td>ThinkCentre Tiny-In-One 24 Gen 4 23.8\" IPS LCD...</td>\n",
       "      <td>[Robert W in TX, ucvb9, ucvb9, AlanS3, Robert ...</td>\n",
       "      <td>[5.0, 5.0, 5.0, 5.0, 5.0, 5.0, 3.0, 5.0, 5.0, ...</td>\n",
       "    </tr>\n",
       "    <tr>\n",
       "      <th>3</th>\n",
       "      <td>ThinkVision T22v-20 21.5\" VoIP LED Monitor (HD...</td>\n",
       "      <td>[MDREAM, Kent A, Norm01, Anonymous, Sam W, Ric...</td>\n",
       "      <td>[5.0, 5.0, 5.0, 3.0, 4.0, 5.0, 1.0, 5.0, 5.0, ...</td>\n",
       "    </tr>\n",
       "    <tr>\n",
       "      <th>4</th>\n",
       "      <td>Legion KM300 Full-size Wired RGB Gaming Keyboa...</td>\n",
       "      <td>[BCarter · Review provided by  lenovo.com, fwi...</td>\n",
       "      <td>[5.0, 3.0, 5.0, 5.0, 5.0, 4.0, 5.0, 5.0, 4.0, ...</td>\n",
       "    </tr>\n",
       "    <tr>\n",
       "      <th>...</th>\n",
       "      <td>...</td>\n",
       "      <td>...</td>\n",
       "      <td>...</td>\n",
       "    </tr>\n",
       "    <tr>\n",
       "      <th>12967</th>\n",
       "      <td>Frigidaire FDB2410HIC - Dishwasher - built-in ...</td>\n",
       "      <td>[Lupe51, nanapattiann, Bobbi, Ruthie, kkdidit2...</td>\n",
       "      <td>[5.0, 2.0, 5.0, 5.0, 1.0, 5.0, 4.0, 1.0, 5.0, ...</td>\n",
       "    </tr>\n",
       "    <tr>\n",
       "      <th>12968</th>\n",
       "      <td>FRIGIDAIRE FFCD2418UW0A 24\" Built-In Dishwashe...</td>\n",
       "      <td>[Stealmonkey, The ok dishwasher, Randa, Dishwa...</td>\n",
       "      <td>[5.0, 4.0, 3.0, 1.0, 2.0, 3.0, 2.0, 1.0, 5.0, ...</td>\n",
       "    </tr>\n",
       "    <tr>\n",
       "      <th>12969</th>\n",
       "      <td>Frigidaire Gallery 8,000 BTU Window Air Condit...</td>\n",
       "      <td>[Review provided by  Overstock.com, Jon_M, 246...</td>\n",
       "      <td>[4.0, 5.0, 5.0, 4.0, 4.0, 5.0, 5.0, 5.0, 5.0, ...</td>\n",
       "    </tr>\n",
       "    <tr>\n",
       "      <th>12970</th>\n",
       "      <td>Frigidaire® Top Freezer Refrigerator, 18 Cu. Ft.</td>\n",
       "      <td>[TheHenees, Blanca63, Large and roomy, Cougdud...</td>\n",
       "      <td>[5.0, 5.0, 5.0, 5.0, 4.0, 5.0, 5.0, 5.0, 5.0, ...</td>\n",
       "    </tr>\n",
       "    <tr>\n",
       "      <th>12971</th>\n",
       "      <td>Gallery 19.0 Cu. Ft. Frost-Free Upright Freezer</td>\n",
       "      <td>[METOO77, Vic3, lsada, Satisfied Customer2018,...</td>\n",
       "      <td>[5.0, 5.0, 5.0, 5.0, 4.0, 4.0, 5.0, 5.0, 4.0, ...</td>\n",
       "    </tr>\n",
       "  </tbody>\n",
       "</table>\n",
       "<p>12972 rows × 3 columns</p>\n",
       "</div>"
      ],
      "text/plain": [
       "                                            product_name  \\\n",
       "0      ThinkVision T23d 22.5\" LED Monitor (HDMI, DP, ...   \n",
       "1      ThinkVision M14t 14\" LED Mobile Monitor with T...   \n",
       "2      ThinkCentre Tiny-In-One 24 Gen 4 23.8\" IPS LCD...   \n",
       "3      ThinkVision T22v-20 21.5\" VoIP LED Monitor (HD...   \n",
       "4      Legion KM300 Full-size Wired RGB Gaming Keyboa...   \n",
       "...                                                  ...   \n",
       "12967  Frigidaire FDB2410HIC - Dishwasher - built-in ...   \n",
       "12968  FRIGIDAIRE FFCD2418UW0A 24\" Built-In Dishwashe...   \n",
       "12969  Frigidaire Gallery 8,000 BTU Window Air Condit...   \n",
       "12970   Frigidaire® Top Freezer Refrigerator, 18 Cu. Ft.   \n",
       "12971    Gallery 19.0 Cu. Ft. Frost-Free Upright Freezer   \n",
       "\n",
       "                                               usernames  \\\n",
       "0      [Gomi, Terryc, myOwnTwoCents, Justin from Mich...   \n",
       "1      [RogueStudio, Vvvsss, Anonymous, Zusan, Jenni2...   \n",
       "2      [Robert W in TX, ucvb9, ucvb9, AlanS3, Robert ...   \n",
       "3      [MDREAM, Kent A, Norm01, Anonymous, Sam W, Ric...   \n",
       "4      [BCarter · Review provided by  lenovo.com, fwi...   \n",
       "...                                                  ...   \n",
       "12967  [Lupe51, nanapattiann, Bobbi, Ruthie, kkdidit2...   \n",
       "12968  [Stealmonkey, The ok dishwasher, Randa, Dishwa...   \n",
       "12969  [Review provided by  Overstock.com, Jon_M, 246...   \n",
       "12970  [TheHenees, Blanca63, Large and roomy, Cougdud...   \n",
       "12971  [METOO77, Vic3, lsada, Satisfied Customer2018,...   \n",
       "\n",
       "                                                 ratings  \n",
       "0      [5.0, 5.0, 5.0, 5.0, 5.0, 5.0, 4.0, 5.0, 5.0, ...  \n",
       "1      [5.0, 4.0, 5.0, 5.0, 5.0, 5.0, 5.0, 5.0, 5.0, ...  \n",
       "2      [5.0, 5.0, 5.0, 5.0, 5.0, 5.0, 3.0, 5.0, 5.0, ...  \n",
       "3      [5.0, 5.0, 5.0, 3.0, 4.0, 5.0, 1.0, 5.0, 5.0, ...  \n",
       "4      [5.0, 3.0, 5.0, 5.0, 5.0, 4.0, 5.0, 5.0, 4.0, ...  \n",
       "...                                                  ...  \n",
       "12967  [5.0, 2.0, 5.0, 5.0, 1.0, 5.0, 4.0, 1.0, 5.0, ...  \n",
       "12968  [5.0, 4.0, 3.0, 1.0, 2.0, 3.0, 2.0, 1.0, 5.0, ...  \n",
       "12969  [4.0, 5.0, 5.0, 4.0, 4.0, 5.0, 5.0, 5.0, 5.0, ...  \n",
       "12970  [5.0, 5.0, 5.0, 5.0, 4.0, 5.0, 5.0, 5.0, 5.0, ...  \n",
       "12971  [5.0, 5.0, 5.0, 5.0, 4.0, 4.0, 5.0, 5.0, 4.0, ...  \n",
       "\n",
       "[12972 rows x 3 columns]"
      ]
     },
     "execution_count": 8,
     "metadata": {},
     "output_type": "execute_result"
    }
   ],
   "source": [
    "new_df"
   ]
  },
  {
   "cell_type": "code",
   "execution_count": 9,
   "metadata": {},
   "outputs": [],
   "source": [
    "ratings = []\n",
    "for i, row in new_df.iterrows():\n",
    "    ratings.append(sum(row['ratings'])/len(row['ratings']))\n",
    "    "
   ]
  },
  {
   "cell_type": "code",
   "execution_count": 10,
   "metadata": {},
   "outputs": [],
   "source": [
    "new_df['rating_medio'] = ratings"
   ]
  },
  {
   "cell_type": "code",
   "execution_count": 11,
   "metadata": {},
   "outputs": [
    {
     "data": {
      "text/html": [
       "<div>\n",
       "<style scoped>\n",
       "    .dataframe tbody tr th:only-of-type {\n",
       "        vertical-align: middle;\n",
       "    }\n",
       "\n",
       "    .dataframe tbody tr th {\n",
       "        vertical-align: top;\n",
       "    }\n",
       "\n",
       "    .dataframe thead th {\n",
       "        text-align: right;\n",
       "    }\n",
       "</style>\n",
       "<table border=\"1\" class=\"dataframe\">\n",
       "  <thead>\n",
       "    <tr style=\"text-align: right;\">\n",
       "      <th></th>\n",
       "      <th>product_name</th>\n",
       "      <th>usernames</th>\n",
       "      <th>ratings</th>\n",
       "      <th>rating_medio</th>\n",
       "    </tr>\n",
       "  </thead>\n",
       "  <tbody>\n",
       "    <tr>\n",
       "      <th>0</th>\n",
       "      <td>ThinkVision T23d 22.5\" LED Monitor (HDMI, DP, ...</td>\n",
       "      <td>[Gomi, Terryc, myOwnTwoCents, Justin from Mich...</td>\n",
       "      <td>[5.0, 5.0, 5.0, 5.0, 5.0, 5.0, 4.0, 5.0, 5.0, ...</td>\n",
       "      <td>4.786885</td>\n",
       "    </tr>\n",
       "    <tr>\n",
       "      <th>1</th>\n",
       "      <td>ThinkVision M14t 14\" LED Mobile Monitor with T...</td>\n",
       "      <td>[RogueStudio, Vvvsss, Anonymous, Zusan, Jenni2...</td>\n",
       "      <td>[5.0, 4.0, 5.0, 5.0, 5.0, 5.0, 5.0, 5.0, 5.0, ...</td>\n",
       "      <td>4.581395</td>\n",
       "    </tr>\n",
       "    <tr>\n",
       "      <th>2</th>\n",
       "      <td>ThinkCentre Tiny-In-One 24 Gen 4 23.8\" IPS LCD...</td>\n",
       "      <td>[Robert W in TX, ucvb9, ucvb9, AlanS3, Robert ...</td>\n",
       "      <td>[5.0, 5.0, 5.0, 5.0, 5.0, 5.0, 3.0, 5.0, 5.0, ...</td>\n",
       "      <td>4.645161</td>\n",
       "    </tr>\n",
       "    <tr>\n",
       "      <th>3</th>\n",
       "      <td>ThinkVision T22v-20 21.5\" VoIP LED Monitor (HD...</td>\n",
       "      <td>[MDREAM, Kent A, Norm01, Anonymous, Sam W, Ric...</td>\n",
       "      <td>[5.0, 5.0, 5.0, 3.0, 4.0, 5.0, 1.0, 5.0, 5.0, ...</td>\n",
       "      <td>4.344262</td>\n",
       "    </tr>\n",
       "    <tr>\n",
       "      <th>4</th>\n",
       "      <td>Legion KM300 Full-size Wired RGB Gaming Keyboa...</td>\n",
       "      <td>[BCarter · Review provided by  lenovo.com, fwi...</td>\n",
       "      <td>[5.0, 3.0, 5.0, 5.0, 5.0, 4.0, 5.0, 5.0, 4.0, ...</td>\n",
       "      <td>4.736842</td>\n",
       "    </tr>\n",
       "    <tr>\n",
       "      <th>...</th>\n",
       "      <td>...</td>\n",
       "      <td>...</td>\n",
       "      <td>...</td>\n",
       "      <td>...</td>\n",
       "    </tr>\n",
       "    <tr>\n",
       "      <th>12967</th>\n",
       "      <td>Frigidaire FDB2410HIC - Dishwasher - built-in ...</td>\n",
       "      <td>[Lupe51, nanapattiann, Bobbi, Ruthie, kkdidit2...</td>\n",
       "      <td>[5.0, 2.0, 5.0, 5.0, 1.0, 5.0, 4.0, 1.0, 5.0, ...</td>\n",
       "      <td>3.700000</td>\n",
       "    </tr>\n",
       "    <tr>\n",
       "      <th>12968</th>\n",
       "      <td>FRIGIDAIRE FFCD2418UW0A 24\" Built-In Dishwashe...</td>\n",
       "      <td>[Stealmonkey, The ok dishwasher, Randa, Dishwa...</td>\n",
       "      <td>[5.0, 4.0, 3.0, 1.0, 2.0, 3.0, 2.0, 1.0, 5.0, ...</td>\n",
       "      <td>3.000000</td>\n",
       "    </tr>\n",
       "    <tr>\n",
       "      <th>12969</th>\n",
       "      <td>Frigidaire Gallery 8,000 BTU Window Air Condit...</td>\n",
       "      <td>[Review provided by  Overstock.com, Jon_M, 246...</td>\n",
       "      <td>[4.0, 5.0, 5.0, 4.0, 4.0, 5.0, 5.0, 5.0, 5.0, ...</td>\n",
       "      <td>4.321995</td>\n",
       "    </tr>\n",
       "    <tr>\n",
       "      <th>12970</th>\n",
       "      <td>Frigidaire® Top Freezer Refrigerator, 18 Cu. Ft.</td>\n",
       "      <td>[TheHenees, Blanca63, Large and roomy, Cougdud...</td>\n",
       "      <td>[5.0, 5.0, 5.0, 5.0, 4.0, 5.0, 5.0, 5.0, 5.0, ...</td>\n",
       "      <td>4.900000</td>\n",
       "    </tr>\n",
       "    <tr>\n",
       "      <th>12971</th>\n",
       "      <td>Gallery 19.0 Cu. Ft. Frost-Free Upright Freezer</td>\n",
       "      <td>[METOO77, Vic3, lsada, Satisfied Customer2018,...</td>\n",
       "      <td>[5.0, 5.0, 5.0, 5.0, 4.0, 4.0, 5.0, 5.0, 4.0, ...</td>\n",
       "      <td>4.441026</td>\n",
       "    </tr>\n",
       "  </tbody>\n",
       "</table>\n",
       "<p>12972 rows × 4 columns</p>\n",
       "</div>"
      ],
      "text/plain": [
       "                                            product_name  \\\n",
       "0      ThinkVision T23d 22.5\" LED Monitor (HDMI, DP, ...   \n",
       "1      ThinkVision M14t 14\" LED Mobile Monitor with T...   \n",
       "2      ThinkCentre Tiny-In-One 24 Gen 4 23.8\" IPS LCD...   \n",
       "3      ThinkVision T22v-20 21.5\" VoIP LED Monitor (HD...   \n",
       "4      Legion KM300 Full-size Wired RGB Gaming Keyboa...   \n",
       "...                                                  ...   \n",
       "12967  Frigidaire FDB2410HIC - Dishwasher - built-in ...   \n",
       "12968  FRIGIDAIRE FFCD2418UW0A 24\" Built-In Dishwashe...   \n",
       "12969  Frigidaire Gallery 8,000 BTU Window Air Condit...   \n",
       "12970   Frigidaire® Top Freezer Refrigerator, 18 Cu. Ft.   \n",
       "12971    Gallery 19.0 Cu. Ft. Frost-Free Upright Freezer   \n",
       "\n",
       "                                               usernames  \\\n",
       "0      [Gomi, Terryc, myOwnTwoCents, Justin from Mich...   \n",
       "1      [RogueStudio, Vvvsss, Anonymous, Zusan, Jenni2...   \n",
       "2      [Robert W in TX, ucvb9, ucvb9, AlanS3, Robert ...   \n",
       "3      [MDREAM, Kent A, Norm01, Anonymous, Sam W, Ric...   \n",
       "4      [BCarter · Review provided by  lenovo.com, fwi...   \n",
       "...                                                  ...   \n",
       "12967  [Lupe51, nanapattiann, Bobbi, Ruthie, kkdidit2...   \n",
       "12968  [Stealmonkey, The ok dishwasher, Randa, Dishwa...   \n",
       "12969  [Review provided by  Overstock.com, Jon_M, 246...   \n",
       "12970  [TheHenees, Blanca63, Large and roomy, Cougdud...   \n",
       "12971  [METOO77, Vic3, lsada, Satisfied Customer2018,...   \n",
       "\n",
       "                                                 ratings  rating_medio  \n",
       "0      [5.0, 5.0, 5.0, 5.0, 5.0, 5.0, 4.0, 5.0, 5.0, ...      4.786885  \n",
       "1      [5.0, 4.0, 5.0, 5.0, 5.0, 5.0, 5.0, 5.0, 5.0, ...      4.581395  \n",
       "2      [5.0, 5.0, 5.0, 5.0, 5.0, 5.0, 3.0, 5.0, 5.0, ...      4.645161  \n",
       "3      [5.0, 5.0, 5.0, 3.0, 4.0, 5.0, 1.0, 5.0, 5.0, ...      4.344262  \n",
       "4      [5.0, 3.0, 5.0, 5.0, 5.0, 4.0, 5.0, 5.0, 4.0, ...      4.736842  \n",
       "...                                                  ...           ...  \n",
       "12967  [5.0, 2.0, 5.0, 5.0, 1.0, 5.0, 4.0, 1.0, 5.0, ...      3.700000  \n",
       "12968  [5.0, 4.0, 3.0, 1.0, 2.0, 3.0, 2.0, 1.0, 5.0, ...      3.000000  \n",
       "12969  [4.0, 5.0, 5.0, 4.0, 4.0, 5.0, 5.0, 5.0, 5.0, ...      4.321995  \n",
       "12970  [5.0, 5.0, 5.0, 5.0, 4.0, 5.0, 5.0, 5.0, 5.0, ...      4.900000  \n",
       "12971  [5.0, 5.0, 5.0, 5.0, 4.0, 4.0, 5.0, 5.0, 4.0, ...      4.441026  \n",
       "\n",
       "[12972 rows x 4 columns]"
      ]
     },
     "execution_count": 11,
     "metadata": {},
     "output_type": "execute_result"
    }
   ],
   "source": [
    "new_df"
   ]
  },
  {
   "cell_type": "markdown",
   "metadata": {},
   "source": [
    "Fazemos o sampling do dataframe, pois ele é muito grande e um computador comum seria incapaz de rodar todo o \n",
    "código a seguir com um dataframe tão grande"
   ]
  },
  {
   "cell_type": "code",
   "execution_count": 12,
   "metadata": {},
   "outputs": [],
   "source": [
    "dicionario = {}\n",
    "\n",
    "for i, row in new_df.iterrows():\n",
    "    dicionario[row['product_name']] = row['rating_medio']"
   ]
  },
  {
   "cell_type": "code",
   "execution_count": 13,
   "metadata": {},
   "outputs": [
    {
     "name": "stdout",
     "output_type": "stream",
     "text": [
      "2000\n"
     ]
    }
   ],
   "source": [
    "df_sample = new_df.sample(n=2000, random_state = 42)\n",
    "print(len(df_sample))"
   ]
  },
  {
   "cell_type": "code",
   "execution_count": 14,
   "metadata": {},
   "outputs": [
    {
     "data": {
      "text/html": [
       "<div>\n",
       "<style scoped>\n",
       "    .dataframe tbody tr th:only-of-type {\n",
       "        vertical-align: middle;\n",
       "    }\n",
       "\n",
       "    .dataframe tbody tr th {\n",
       "        vertical-align: top;\n",
       "    }\n",
       "\n",
       "    .dataframe thead th {\n",
       "        text-align: right;\n",
       "    }\n",
       "</style>\n",
       "<table border=\"1\" class=\"dataframe\">\n",
       "  <thead>\n",
       "    <tr style=\"text-align: right;\">\n",
       "      <th></th>\n",
       "      <th>product_name</th>\n",
       "      <th>usernames</th>\n",
       "      <th>ratings</th>\n",
       "      <th>rating_medio</th>\n",
       "    </tr>\n",
       "  </thead>\n",
       "  <tbody>\n",
       "    <tr>\n",
       "      <th>5030</th>\n",
       "      <td>HP 123A LaserJet Toner Cartridge - Yellow</td>\n",
       "      <td>[Anonymous, Anonymous, Aaron O., Aaron O.]</td>\n",
       "      <td>[5.0, 5.0, 5.0, 5.0]</td>\n",
       "      <td>5.000000</td>\n",
       "    </tr>\n",
       "    <tr>\n",
       "      <th>6312</th>\n",
       "      <td>Dell Inspiron 7370 - i5-8250U - 13.3\" - 8GB RA...</td>\n",
       "      <td>[NK Tulsa, Mike168, Adahy, kitchenman, Nath, k...</td>\n",
       "      <td>[1.0, 5.0, 4.0, 1.0, 3.0, 5.0, 4.0, 4.0, 4.0]</td>\n",
       "      <td>3.444444</td>\n",
       "    </tr>\n",
       "    <tr>\n",
       "      <th>304</th>\n",
       "      <td>Lenovo IdeaPad 15.6\" Laptop, Intel Core i3 i3-...</td>\n",
       "      <td>[Wally, TJ18, Csh0032, DonMc, Moonintheburgh, ...</td>\n",
       "      <td>[5.0, 4.0, 5.0, 5.0, 1.0, 1.0, 5.0, 3.0, 5.0, ...</td>\n",
       "      <td>3.622951</td>\n",
       "    </tr>\n",
       "    <tr>\n",
       "      <th>6286</th>\n",
       "      <td>Dell Inspiron 15.6\" Full HD Touchscreen Laptop...</td>\n",
       "      <td>[Amazon Customer, Big critic or supporter, xia...</td>\n",
       "      <td>[3.0, 3.0, 5.0, 1.0, 1.0, 5.0, 4.0]</td>\n",
       "      <td>3.142857</td>\n",
       "    </tr>\n",
       "    <tr>\n",
       "      <th>4441</th>\n",
       "      <td>LaserJet Pro M255dw Wireless Color Laser Printer</td>\n",
       "      <td>[Unique Nickname 2, NorthernWeaver · Review pr...</td>\n",
       "      <td>[2.0, 5.0, 1.0, 5.0, 5.0, 4.0, 2.0, 1.0, 2.0, ...</td>\n",
       "      <td>3.619171</td>\n",
       "    </tr>\n",
       "    <tr>\n",
       "      <th>...</th>\n",
       "      <td>...</td>\n",
       "      <td>...</td>\n",
       "      <td>...</td>\n",
       "      <td>...</td>\n",
       "    </tr>\n",
       "    <tr>\n",
       "      <th>11562</th>\n",
       "      <td>JBL CLUB ONE Noise-Canceling Wireless Over-Ear...</td>\n",
       "      <td>[Samsungjunky · Review provided by  Best Buy, ...</td>\n",
       "      <td>[3.0, 2.0, 4.0, 5.0, 1.0, 4.0, 1.0, 5.0, 4.0, ...</td>\n",
       "      <td>4.000000</td>\n",
       "    </tr>\n",
       "    <tr>\n",
       "      <th>9932</th>\n",
       "      <td>BenQ 1080P 3D HD Short Throw Home Theater Proj...</td>\n",
       "      <td>[Emily, Tcass · Review provided by  bestbuy.ca...</td>\n",
       "      <td>[5.0, 5.0, 5.0, 5.0, 5.0, 5.0, 5.0, 5.0, 5.0, ...</td>\n",
       "      <td>4.918367</td>\n",
       "    </tr>\n",
       "    <tr>\n",
       "      <th>7387</th>\n",
       "      <td>DJI Ronin-SC RSS Control Cable for Fujifilm Ca...</td>\n",
       "      <td>[Robert]</td>\n",
       "      <td>[4.0]</td>\n",
       "      <td>4.000000</td>\n",
       "    </tr>\n",
       "    <tr>\n",
       "      <th>5263</th>\n",
       "      <td>HP Color LaserJet Pro M452dw - printer - color...</td>\n",
       "      <td>[Maria H.]</td>\n",
       "      <td>[5.0]</td>\n",
       "      <td>5.000000</td>\n",
       "    </tr>\n",
       "    <tr>\n",
       "      <th>8627</th>\n",
       "      <td>Intel Core i5-8400 Processor</td>\n",
       "      <td>[Anonymous, YAT W., sean, Michael C., Erick, L...</td>\n",
       "      <td>[5.0, 1.0, 1.0, 5.0, 5.0, 5.0, 5.0, 5.0, 5.0, ...</td>\n",
       "      <td>4.411765</td>\n",
       "    </tr>\n",
       "  </tbody>\n",
       "</table>\n",
       "<p>2000 rows × 4 columns</p>\n",
       "</div>"
      ],
      "text/plain": [
       "                                            product_name  \\\n",
       "5030           HP 123A LaserJet Toner Cartridge - Yellow   \n",
       "6312   Dell Inspiron 7370 - i5-8250U - 13.3\" - 8GB RA...   \n",
       "304    Lenovo IdeaPad 15.6\" Laptop, Intel Core i3 i3-...   \n",
       "6286   Dell Inspiron 15.6\" Full HD Touchscreen Laptop...   \n",
       "4441    LaserJet Pro M255dw Wireless Color Laser Printer   \n",
       "...                                                  ...   \n",
       "11562  JBL CLUB ONE Noise-Canceling Wireless Over-Ear...   \n",
       "9932   BenQ 1080P 3D HD Short Throw Home Theater Proj...   \n",
       "7387   DJI Ronin-SC RSS Control Cable for Fujifilm Ca...   \n",
       "5263   HP Color LaserJet Pro M452dw - printer - color...   \n",
       "8627                        Intel Core i5-8400 Processor   \n",
       "\n",
       "                                               usernames  \\\n",
       "5030          [Anonymous, Anonymous, Aaron O., Aaron O.]   \n",
       "6312   [NK Tulsa, Mike168, Adahy, kitchenman, Nath, k...   \n",
       "304    [Wally, TJ18, Csh0032, DonMc, Moonintheburgh, ...   \n",
       "6286   [Amazon Customer, Big critic or supporter, xia...   \n",
       "4441   [Unique Nickname 2, NorthernWeaver · Review pr...   \n",
       "...                                                  ...   \n",
       "11562  [Samsungjunky · Review provided by  Best Buy, ...   \n",
       "9932   [Emily, Tcass · Review provided by  bestbuy.ca...   \n",
       "7387                                            [Robert]   \n",
       "5263                                          [Maria H.]   \n",
       "8627   [Anonymous, YAT W., sean, Michael C., Erick, L...   \n",
       "\n",
       "                                                 ratings  rating_medio  \n",
       "5030                                [5.0, 5.0, 5.0, 5.0]      5.000000  \n",
       "6312       [1.0, 5.0, 4.0, 1.0, 3.0, 5.0, 4.0, 4.0, 4.0]      3.444444  \n",
       "304    [5.0, 4.0, 5.0, 5.0, 1.0, 1.0, 5.0, 3.0, 5.0, ...      3.622951  \n",
       "6286                 [3.0, 3.0, 5.0, 1.0, 1.0, 5.0, 4.0]      3.142857  \n",
       "4441   [2.0, 5.0, 1.0, 5.0, 5.0, 4.0, 2.0, 1.0, 2.0, ...      3.619171  \n",
       "...                                                  ...           ...  \n",
       "11562  [3.0, 2.0, 4.0, 5.0, 1.0, 4.0, 1.0, 5.0, 4.0, ...      4.000000  \n",
       "9932   [5.0, 5.0, 5.0, 5.0, 5.0, 5.0, 5.0, 5.0, 5.0, ...      4.918367  \n",
       "7387                                               [4.0]      4.000000  \n",
       "5263                                               [5.0]      5.000000  \n",
       "8627   [5.0, 1.0, 1.0, 5.0, 5.0, 5.0, 5.0, 5.0, 5.0, ...      4.411765  \n",
       "\n",
       "[2000 rows x 4 columns]"
      ]
     },
     "execution_count": 14,
     "metadata": {},
     "output_type": "execute_result"
    }
   ],
   "source": [
    "df_sample"
   ]
  },
  {
   "cell_type": "code",
   "execution_count": 15,
   "metadata": {
    "scrolled": false
   },
   "outputs": [],
   "source": [
    "df = df_sample.explode('usernames')\n",
    "\n",
    "\n",
    "pivot_table = df.groupby(['usernames','product_name']).size().unstack(fill_value=0)\n",
    "\n",
    "new_df_data = []\n",
    "for _, row in pivot_table.iterrows():\n",
    "    reviewed_products = row[row > 0].index.tolist()\n",
    "    \n",
    "    for product1, product2 in combinations(reviewed_products, 2):\n",
    "        new_df_data.append((f\"{product1}_{product2}\", 1))\n",
    "\n",
    "new_df = pd.DataFrame(new_df_data, columns=['product_pair', 'weight'])\n",
    "\n",
    "new_df = new_df.groupby('product_pair').sum().reset_index()"
   ]
  },
  {
   "cell_type": "code",
   "execution_count": 16,
   "metadata": {},
   "outputs": [
    {
     "data": {
      "text/html": [
       "<div>\n",
       "<style scoped>\n",
       "    .dataframe tbody tr th:only-of-type {\n",
       "        vertical-align: middle;\n",
       "    }\n",
       "\n",
       "    .dataframe tbody tr th {\n",
       "        vertical-align: top;\n",
       "    }\n",
       "\n",
       "    .dataframe thead th {\n",
       "        text-align: right;\n",
       "    }\n",
       "</style>\n",
       "<table border=\"1\" class=\"dataframe\">\n",
       "  <thead>\n",
       "    <tr style=\"text-align: right;\">\n",
       "      <th></th>\n",
       "      <th>product_pair</th>\n",
       "      <th>weight</th>\n",
       "    </tr>\n",
       "  </thead>\n",
       "  <tbody>\n",
       "    <tr>\n",
       "      <th>0</th>\n",
       "      <td>(New) JBL OnBeat Micro Speaker Dock with Light...</td>\n",
       "      <td>1</td>\n",
       "    </tr>\n",
       "    <tr>\n",
       "      <th>1</th>\n",
       "      <td>(New) JBL OnBeat Micro Speaker Dock with Light...</td>\n",
       "      <td>1</td>\n",
       "    </tr>\n",
       "    <tr>\n",
       "      <th>2</th>\n",
       "      <td>(New) JBL OnBeat Micro Speaker Dock with Light...</td>\n",
       "      <td>1</td>\n",
       "    </tr>\n",
       "    <tr>\n",
       "      <th>3</th>\n",
       "      <td>(New) JBL OnBeat Micro Speaker Dock with Light...</td>\n",
       "      <td>1</td>\n",
       "    </tr>\n",
       "    <tr>\n",
       "      <th>4</th>\n",
       "      <td>(New) JBL OnBeat Micro Speaker Dock with Light...</td>\n",
       "      <td>1</td>\n",
       "    </tr>\n",
       "    <tr>\n",
       "      <th>...</th>\n",
       "      <td>...</td>\n",
       "      <td>...</td>\n",
       "    </tr>\n",
       "    <tr>\n",
       "      <th>442593</th>\n",
       "      <td>iPhone 12 Pro Max Clear Case with MagSafe_iPho...</td>\n",
       "      <td>5</td>\n",
       "    </tr>\n",
       "    <tr>\n",
       "      <th>442594</th>\n",
       "      <td>iPhone 12 Pro Max Clear Case with MagSafe_iPho...</td>\n",
       "      <td>10</td>\n",
       "    </tr>\n",
       "    <tr>\n",
       "      <th>442595</th>\n",
       "      <td>iPhone 12 Pro Max Clear Case with MagSafe_xb1 ...</td>\n",
       "      <td>1</td>\n",
       "    </tr>\n",
       "    <tr>\n",
       "      <th>442596</th>\n",
       "      <td>iPhone 12 Pro Max Silicone Case with MagSafe_i...</td>\n",
       "      <td>11</td>\n",
       "    </tr>\n",
       "    <tr>\n",
       "      <th>442597</th>\n",
       "      <td>iPhone 12 Pro Max Silicone Case with MagSafe_x...</td>\n",
       "      <td>1</td>\n",
       "    </tr>\n",
       "  </tbody>\n",
       "</table>\n",
       "<p>442598 rows × 2 columns</p>\n",
       "</div>"
      ],
      "text/plain": [
       "                                             product_pair  weight\n",
       "0       (New) JBL OnBeat Micro Speaker Dock with Light...       1\n",
       "1       (New) JBL OnBeat Micro Speaker Dock with Light...       1\n",
       "2       (New) JBL OnBeat Micro Speaker Dock with Light...       1\n",
       "3       (New) JBL OnBeat Micro Speaker Dock with Light...       1\n",
       "4       (New) JBL OnBeat Micro Speaker Dock with Light...       1\n",
       "...                                                   ...     ...\n",
       "442593  iPhone 12 Pro Max Clear Case with MagSafe_iPho...       5\n",
       "442594  iPhone 12 Pro Max Clear Case with MagSafe_iPho...      10\n",
       "442595  iPhone 12 Pro Max Clear Case with MagSafe_xb1 ...       1\n",
       "442596  iPhone 12 Pro Max Silicone Case with MagSafe_i...      11\n",
       "442597  iPhone 12 Pro Max Silicone Case with MagSafe_x...       1\n",
       "\n",
       "[442598 rows x 2 columns]"
      ]
     },
     "execution_count": 16,
     "metadata": {},
     "output_type": "execute_result"
    }
   ],
   "source": [
    "new_df"
   ]
  },
  {
   "cell_type": "code",
   "execution_count": 17,
   "metadata": {},
   "outputs": [
    {
     "data": {
      "text/html": [
       "<div>\n",
       "<style scoped>\n",
       "    .dataframe tbody tr th:only-of-type {\n",
       "        vertical-align: middle;\n",
       "    }\n",
       "\n",
       "    .dataframe tbody tr th {\n",
       "        vertical-align: top;\n",
       "    }\n",
       "\n",
       "    .dataframe thead th {\n",
       "        text-align: right;\n",
       "    }\n",
       "</style>\n",
       "<table border=\"1\" class=\"dataframe\">\n",
       "  <thead>\n",
       "    <tr style=\"text-align: right;\">\n",
       "      <th></th>\n",
       "      <th>weight</th>\n",
       "      <th>count</th>\n",
       "    </tr>\n",
       "  </thead>\n",
       "  <tbody>\n",
       "    <tr>\n",
       "      <th>0</th>\n",
       "      <td>1</td>\n",
       "      <td>339559</td>\n",
       "    </tr>\n",
       "    <tr>\n",
       "      <th>1</th>\n",
       "      <td>2</td>\n",
       "      <td>56661</td>\n",
       "    </tr>\n",
       "    <tr>\n",
       "      <th>2</th>\n",
       "      <td>3</td>\n",
       "      <td>19692</td>\n",
       "    </tr>\n",
       "    <tr>\n",
       "      <th>3</th>\n",
       "      <td>4</td>\n",
       "      <td>9193</td>\n",
       "    </tr>\n",
       "    <tr>\n",
       "      <th>4</th>\n",
       "      <td>5</td>\n",
       "      <td>5217</td>\n",
       "    </tr>\n",
       "    <tr>\n",
       "      <th>5</th>\n",
       "      <td>6</td>\n",
       "      <td>3080</td>\n",
       "    </tr>\n",
       "    <tr>\n",
       "      <th>6</th>\n",
       "      <td>7</td>\n",
       "      <td>2115</td>\n",
       "    </tr>\n",
       "    <tr>\n",
       "      <th>7</th>\n",
       "      <td>8</td>\n",
       "      <td>1426</td>\n",
       "    </tr>\n",
       "    <tr>\n",
       "      <th>8</th>\n",
       "      <td>9</td>\n",
       "      <td>1093</td>\n",
       "    </tr>\n",
       "    <tr>\n",
       "      <th>9</th>\n",
       "      <td>10</td>\n",
       "      <td>846</td>\n",
       "    </tr>\n",
       "    <tr>\n",
       "      <th>10</th>\n",
       "      <td>11</td>\n",
       "      <td>616</td>\n",
       "    </tr>\n",
       "    <tr>\n",
       "      <th>11</th>\n",
       "      <td>12</td>\n",
       "      <td>536</td>\n",
       "    </tr>\n",
       "    <tr>\n",
       "      <th>12</th>\n",
       "      <td>13</td>\n",
       "      <td>386</td>\n",
       "    </tr>\n",
       "    <tr>\n",
       "      <th>13</th>\n",
       "      <td>14</td>\n",
       "      <td>302</td>\n",
       "    </tr>\n",
       "    <tr>\n",
       "      <th>14</th>\n",
       "      <td>15</td>\n",
       "      <td>279</td>\n",
       "    </tr>\n",
       "    <tr>\n",
       "      <th>15</th>\n",
       "      <td>16</td>\n",
       "      <td>226</td>\n",
       "    </tr>\n",
       "    <tr>\n",
       "      <th>16</th>\n",
       "      <td>17</td>\n",
       "      <td>179</td>\n",
       "    </tr>\n",
       "    <tr>\n",
       "      <th>17</th>\n",
       "      <td>18</td>\n",
       "      <td>168</td>\n",
       "    </tr>\n",
       "    <tr>\n",
       "      <th>18</th>\n",
       "      <td>19</td>\n",
       "      <td>135</td>\n",
       "    </tr>\n",
       "    <tr>\n",
       "      <th>19</th>\n",
       "      <td>20</td>\n",
       "      <td>104</td>\n",
       "    </tr>\n",
       "    <tr>\n",
       "      <th>20</th>\n",
       "      <td>21</td>\n",
       "      <td>81</td>\n",
       "    </tr>\n",
       "    <tr>\n",
       "      <th>21</th>\n",
       "      <td>22</td>\n",
       "      <td>94</td>\n",
       "    </tr>\n",
       "    <tr>\n",
       "      <th>22</th>\n",
       "      <td>23</td>\n",
       "      <td>79</td>\n",
       "    </tr>\n",
       "    <tr>\n",
       "      <th>23</th>\n",
       "      <td>24</td>\n",
       "      <td>64</td>\n",
       "    </tr>\n",
       "    <tr>\n",
       "      <th>24</th>\n",
       "      <td>25</td>\n",
       "      <td>46</td>\n",
       "    </tr>\n",
       "  </tbody>\n",
       "</table>\n",
       "</div>"
      ],
      "text/plain": [
       "    weight   count\n",
       "0        1  339559\n",
       "1        2   56661\n",
       "2        3   19692\n",
       "3        4    9193\n",
       "4        5    5217\n",
       "5        6    3080\n",
       "6        7    2115\n",
       "7        8    1426\n",
       "8        9    1093\n",
       "9       10     846\n",
       "10      11     616\n",
       "11      12     536\n",
       "12      13     386\n",
       "13      14     302\n",
       "14      15     279\n",
       "15      16     226\n",
       "16      17     179\n",
       "17      18     168\n",
       "18      19     135\n",
       "19      20     104\n",
       "20      21      81\n",
       "21      22      94\n",
       "22      23      79\n",
       "23      24      64\n",
       "24      25      46"
      ]
     },
     "execution_count": 17,
     "metadata": {},
     "output_type": "execute_result"
    }
   ],
   "source": [
    "df_novo_dataset = new_df.groupby('weight').size().reset_index(name='count')\n",
    "\n",
    "df_filtrado = df_novo_dataset.loc[df_novo_dataset['weight'] < 26]\n",
    "df_filtrado"
   ]
  },
  {
   "cell_type": "code",
   "execution_count": 18,
   "metadata": {
    "scrolled": true
   },
   "outputs": [
    {
     "data": {
      "text/html": [
       "<div>\n",
       "<style scoped>\n",
       "    .dataframe tbody tr th:only-of-type {\n",
       "        vertical-align: middle;\n",
       "    }\n",
       "\n",
       "    .dataframe tbody tr th {\n",
       "        vertical-align: top;\n",
       "    }\n",
       "\n",
       "    .dataframe thead th {\n",
       "        text-align: right;\n",
       "    }\n",
       "</style>\n",
       "<table border=\"1\" class=\"dataframe\">\n",
       "  <thead>\n",
       "    <tr style=\"text-align: right;\">\n",
       "      <th></th>\n",
       "      <th>product_pair</th>\n",
       "      <th>weight</th>\n",
       "    </tr>\n",
       "  </thead>\n",
       "  <tbody>\n",
       "    <tr>\n",
       "      <th>14</th>\n",
       "      <td>(New) JBL OnBeat Micro Speaker Dock with Light...</td>\n",
       "      <td>2</td>\n",
       "    </tr>\n",
       "    <tr>\n",
       "      <th>15</th>\n",
       "      <td>(New) JBL OnBeat Micro Speaker Dock with Light...</td>\n",
       "      <td>2</td>\n",
       "    </tr>\n",
       "    <tr>\n",
       "      <th>57</th>\n",
       "      <td>- Kingston 240GB 2.5-inch 6GB/s HyperX 3K MLC ...</td>\n",
       "      <td>2</td>\n",
       "    </tr>\n",
       "    <tr>\n",
       "      <th>81</th>\n",
       "      <td>- Kingston 240GB 2.5-inch 6GB/s HyperX 3K MLC ...</td>\n",
       "      <td>3</td>\n",
       "    </tr>\n",
       "    <tr>\n",
       "      <th>106</th>\n",
       "      <td>- Kingston 240GB 2.5-inch 6GB/s HyperX 3K MLC ...</td>\n",
       "      <td>2</td>\n",
       "    </tr>\n",
       "    <tr>\n",
       "      <th>...</th>\n",
       "      <td>...</td>\n",
       "      <td>...</td>\n",
       "    </tr>\n",
       "    <tr>\n",
       "      <th>442590</th>\n",
       "      <td>iPhone 12 12 Pro Leather Case with MagSafe - S...</td>\n",
       "      <td>3</td>\n",
       "    </tr>\n",
       "    <tr>\n",
       "      <th>442592</th>\n",
       "      <td>iPhone 12 12 Pro Leather Case with MagSafe - S...</td>\n",
       "      <td>4</td>\n",
       "    </tr>\n",
       "    <tr>\n",
       "      <th>442593</th>\n",
       "      <td>iPhone 12 Pro Max Clear Case with MagSafe_iPho...</td>\n",
       "      <td>5</td>\n",
       "    </tr>\n",
       "    <tr>\n",
       "      <th>442594</th>\n",
       "      <td>iPhone 12 Pro Max Clear Case with MagSafe_iPho...</td>\n",
       "      <td>10</td>\n",
       "    </tr>\n",
       "    <tr>\n",
       "      <th>442596</th>\n",
       "      <td>iPhone 12 Pro Max Silicone Case with MagSafe_i...</td>\n",
       "      <td>11</td>\n",
       "    </tr>\n",
       "  </tbody>\n",
       "</table>\n",
       "<p>103039 rows × 2 columns</p>\n",
       "</div>"
      ],
      "text/plain": [
       "                                             product_pair  weight\n",
       "14      (New) JBL OnBeat Micro Speaker Dock with Light...       2\n",
       "15      (New) JBL OnBeat Micro Speaker Dock with Light...       2\n",
       "57      - Kingston 240GB 2.5-inch 6GB/s HyperX 3K MLC ...       2\n",
       "81      - Kingston 240GB 2.5-inch 6GB/s HyperX 3K MLC ...       3\n",
       "106     - Kingston 240GB 2.5-inch 6GB/s HyperX 3K MLC ...       2\n",
       "...                                                   ...     ...\n",
       "442590  iPhone 12 12 Pro Leather Case with MagSafe - S...       3\n",
       "442592  iPhone 12 12 Pro Leather Case with MagSafe - S...       4\n",
       "442593  iPhone 12 Pro Max Clear Case with MagSafe_iPho...       5\n",
       "442594  iPhone 12 Pro Max Clear Case with MagSafe_iPho...      10\n",
       "442596  iPhone 12 Pro Max Silicone Case with MagSafe_i...      11\n",
       "\n",
       "[103039 rows x 2 columns]"
      ]
     },
     "execution_count": 18,
     "metadata": {},
     "output_type": "execute_result"
    }
   ],
   "source": [
    "new_df = new_df.loc[new_df['weight'] >= 2]\n",
    "new_df"
   ]
  },
  {
   "cell_type": "code",
   "execution_count": 19,
   "metadata": {
    "scrolled": false
   },
   "outputs": [
    {
     "data": {
      "image/png": "[encoded data removed]",
      "text/plain": [
       "<Figure size 640x480 with 1 Axes>"
      ]
     },
     "metadata": {},
     "output_type": "display_data"
    }
   ],
   "source": [
    "new_df[\"weight\"].plot.hist(bins=80)\n",
    "plt.xlabel(\"weight\")\n",
    "plt.show()"
   ]
  },
  {
   "cell_type": "code",
   "execution_count": 20,
   "metadata": {},
   "outputs": [
    {
     "name": "stderr",
     "output_type": "stream",
     "text": [
      "<frozen importlib._bootstrap>:914: ImportWarning: VendorImporter.find_spec() not found; falling back to find_module()\n"
     ]
    }
   ],
   "source": [
    "import csv\n",
    "from collections import defaultdict\n",
    "from itertools import combinations\n",
    "from sklearn.preprocessing import LabelEncoder\n",
    "\n",
    "username_counts = defaultdict(int)\n",
    "\n",
    "for username, row in pivot_table.iterrows():\n",
    "    if username in ['Anonymous', 'anonymous', 'ByAmazonCustomer', 'Amazon Customer']:\n",
    "        continue\n",
    "\n",
    "    reviewed_products = row[row > 0].index.tolist()\n",
    "\n",
    "    username_counts[username] += len(reviewed_products)\n",
    "\n",
    "data_dict = defaultdict(list)\n",
    "\n",
    "for username, row in pivot_table.iterrows():\n",
    "\n",
    "    reviewed_products = row[row > 0].index.tolist()\n",
    "\n",
    "    for product1, product2 in combinations(reviewed_products, 2):\n",
    "        data_dict[(product1, product2)].append(username)\n",
    "\n",
    "new_df = pd.DataFrame(list(data_dict.items()), columns=['product_pair', 'usernames'])\n",
    "\n",
    "new_df['weight'] = new_df['usernames'].apply(len)\n",
    "\n",
    "new_df = new_df[new_df['weight'] >= 4]\n",
    "\n",
    "product_encoder = LabelEncoder()\n",
    "\n",
    "all_product_names = set([product for pair in new_df['product_pair'] for product in pair])\n",
    "\n",
    "product_encoder.fit(list(all_product_names))\n",
    "\n",
    "with open('edges.txt', 'w', newline='') as f:\n",
    "    writer = csv.writer(f, delimiter='\\t')\n",
    "    for _, row in new_df.iterrows():\n",
    "        product1, product2 = row['product_pair']\n",
    "        encoded_product1 = product_encoder.transform([product1])[0]\n",
    "        encoded_product2 = product_encoder.transform([product2])[0]\n",
    "        writer.writerow([encoded_product1, encoded_product2])\n"
   ]
  },
  {
   "cell_type": "code",
   "execution_count": 21,
   "metadata": {
    "scrolled": false
   },
   "outputs": [
    {
     "data": {
      "text/html": [
       "<div>\n",
       "<style scoped>\n",
       "    .dataframe tbody tr th:only-of-type {\n",
       "        vertical-align: middle;\n",
       "    }\n",
       "\n",
       "    .dataframe tbody tr th {\n",
       "        vertical-align: top;\n",
       "    }\n",
       "\n",
       "    .dataframe thead th {\n",
       "        text-align: right;\n",
       "    }\n",
       "</style>\n",
       "<table border=\"1\" class=\"dataframe\">\n",
       "  <thead>\n",
       "    <tr style=\"text-align: right;\">\n",
       "      <th></th>\n",
       "      <th>product_pair</th>\n",
       "      <th>usernames</th>\n",
       "      <th>weight</th>\n",
       "    </tr>\n",
       "  </thead>\n",
       "  <tbody>\n",
       "    <tr>\n",
       "      <th>0</th>\n",
       "      <td>(Canon CLI-281 XXL Black Ink Tank (11.7mL), Ca...</td>\n",
       "      <td>[\" · Review provided by  staples.com, DAN · Re...</td>\n",
       "      <td>4</td>\n",
       "    </tr>\n",
       "    <tr>\n",
       "      <th>1</th>\n",
       "      <td>(Canon CLI-281 XXL Black Ink Tank (11.7mL), Ca...</td>\n",
       "      <td>[\" · Review provided by  staples.com, DAN · Re...</td>\n",
       "      <td>12</td>\n",
       "    </tr>\n",
       "    <tr>\n",
       "      <th>6</th>\n",
       "      <td>(Canon CLI-8 Ink Cartridge - Yellow, Canon PGI...</td>\n",
       "      <td>[\" · Review provided by  staples.com, Anonymou...</td>\n",
       "      <td>11</td>\n",
       "    </tr>\n",
       "    <tr>\n",
       "      <th>16</th>\n",
       "      <td>(Epson T288XL Yellow High Yield Ink Cartridge ...</td>\n",
       "      <td>[\" · Review provided by  staples.com, CAROL M....</td>\n",
       "      <td>4</td>\n",
       "    </tr>\n",
       "    <tr>\n",
       "      <th>21</th>\n",
       "      <td>(Nikon - D7200 DSLR Camera (Body Only) - Black...</td>\n",
       "      <td>[$pare$tuff · Review provided by  ebay.com, DA...</td>\n",
       "      <td>14</td>\n",
       "    </tr>\n",
       "    <tr>\n",
       "      <th>...</th>\n",
       "      <td>...</td>\n",
       "      <td>...</td>\n",
       "      <td>...</td>\n",
       "    </tr>\n",
       "    <tr>\n",
       "      <th>427659</th>\n",
       "      <td>(Certified Refurbished - Apple 10.2-Inch iPad ...</td>\n",
       "      <td>[Robert, Ronald, Susan, Tim]</td>\n",
       "      <td>4</td>\n",
       "    </tr>\n",
       "    <tr>\n",
       "      <th>430274</th>\n",
       "      <td>(Nintendo Blue/ Neon Yellow Joy-Con (L-R) - Sw...</td>\n",
       "      <td>[Robert, Scott, Vanessa, Will]</td>\n",
       "      <td>4</td>\n",
       "    </tr>\n",
       "    <tr>\n",
       "      <th>432180</th>\n",
       "      <td>(Samsung - 70\" Class Q60a Series Qled 4k Uhd S...</td>\n",
       "      <td>[Samsung2021Buyer · Review provided by  samsun...</td>\n",
       "      <td>5</td>\n",
       "    </tr>\n",
       "    <tr>\n",
       "      <th>432182</th>\n",
       "      <td>(Samsung Q70A 85\" Class HDR 4K UHD Smart QLED ...</td>\n",
       "      <td>[Samsung2021Buyer · Review provided by  samsun...</td>\n",
       "      <td>5</td>\n",
       "    </tr>\n",
       "    <tr>\n",
       "      <th>441356</th>\n",
       "      <td>(Canon Ivy Mini Photo Printer - Mint Green, Iv...</td>\n",
       "      <td>[jenniferr629 · Review provided by  canon.com,...</td>\n",
       "      <td>6</td>\n",
       "    </tr>\n",
       "  </tbody>\n",
       "</table>\n",
       "<p>26686 rows × 3 columns</p>\n",
       "</div>"
      ],
      "text/plain": [
       "                                             product_pair  \\\n",
       "0       (Canon CLI-281 XXL Black Ink Tank (11.7mL), Ca...   \n",
       "1       (Canon CLI-281 XXL Black Ink Tank (11.7mL), Ca...   \n",
       "6       (Canon CLI-8 Ink Cartridge - Yellow, Canon PGI...   \n",
       "16      (Epson T288XL Yellow High Yield Ink Cartridge ...   \n",
       "21      (Nikon - D7200 DSLR Camera (Body Only) - Black...   \n",
       "...                                                   ...   \n",
       "427659  (Certified Refurbished - Apple 10.2-Inch iPad ...   \n",
       "430274  (Nintendo Blue/ Neon Yellow Joy-Con (L-R) - Sw...   \n",
       "432180  (Samsung - 70\" Class Q60a Series Qled 4k Uhd S...   \n",
       "432182  (Samsung Q70A 85\" Class HDR 4K UHD Smart QLED ...   \n",
       "441356  (Canon Ivy Mini Photo Printer - Mint Green, Iv...   \n",
       "\n",
       "                                                usernames  weight  \n",
       "0       [\" · Review provided by  staples.com, DAN · Re...       4  \n",
       "1       [\" · Review provided by  staples.com, DAN · Re...      12  \n",
       "6       [\" · Review provided by  staples.com, Anonymou...      11  \n",
       "16      [\" · Review provided by  staples.com, CAROL M....       4  \n",
       "21      [$pare$tuff · Review provided by  ebay.com, DA...      14  \n",
       "...                                                   ...     ...  \n",
       "427659                       [Robert, Ronald, Susan, Tim]       4  \n",
       "430274                     [Robert, Scott, Vanessa, Will]       4  \n",
       "432180  [Samsung2021Buyer · Review provided by  samsun...       5  \n",
       "432182  [Samsung2021Buyer · Review provided by  samsun...       5  \n",
       "441356  [jenniferr629 · Review provided by  canon.com,...       6  \n",
       "\n",
       "[26686 rows x 3 columns]"
      ]
     },
     "execution_count": 21,
     "metadata": {},
     "output_type": "execute_result"
    }
   ],
   "source": [
    "new_df"
   ]
  },
  {
   "cell_type": "code",
   "execution_count": 22,
   "metadata": {},
   "outputs": [
    {
     "name": "stdout",
     "output_type": "stream",
     "text": [
      "0\n",
      "1000\n",
      "2000\n",
      "3000\n",
      "4000\n",
      "5000\n",
      "6000\n",
      "7000\n",
      "8000\n",
      "9000\n",
      "10000\n",
      "11000\n",
      "12000\n",
      "13000\n",
      "14000\n",
      "15000\n",
      "16000\n",
      "17000\n",
      "18000\n",
      "19000\n",
      "20000\n",
      "21000\n",
      "22000\n",
      "23000\n",
      "24000\n",
      "25000\n",
      "26000\n"
     ]
    }
   ],
   "source": [
    "f = open(\"edges.txt\", \"r\")\n",
    "x = f.readlines()\n",
    "\n",
    "vertices = []\n",
    "i = 0\n",
    "while i <= len(x)-1:\n",
    "    z = x[i].split('\\t')\n",
    "    y = z[1].strip('\\n')\n",
    "    if z[0] not in vertices:\n",
    "        vertices.append(int(z[0]))\n",
    "    if y not in vertices:\n",
    "        vertices.append(int(y))\n",
    "    if i%1000 == 0:\n",
    "        print(i)\n",
    "    i +=1\n",
    "vertices = list(dict.fromkeys(vertices) )"
   ]
  },
  {
   "cell_type": "code",
   "execution_count": 23,
   "metadata": {},
   "outputs": [
    {
     "name": "stdout",
     "output_type": "stream",
     "text": [
      "número de vértices de g: 930\n"
     ]
    }
   ],
   "source": [
    "for v in vertices:\n",
    "    g.add_vertex(v)\n",
    "print('número de vértices de g:', g.num_vertices())"
   ]
  },
  {
   "cell_type": "code",
   "execution_count": 24,
   "metadata": {},
   "outputs": [
    {
     "name": "stdout",
     "output_type": "stream",
     "text": [
      "número de arestas de g: 26686\n"
     ]
    }
   ],
   "source": [
    "i = 0\n",
    "while i <= len(x)-1:\n",
    "    z = x[i].split('\\t')\n",
    "    y = int(z[1].strip('\\n'))\n",
    "    g.add_edge(int(z[0]), y)\n",
    "    i +=1\n",
    "    \n",
    "print('número de arestas de g:', g.num_edges())"
   ]
  },
  {
   "cell_type": "code",
   "execution_count": 25,
   "metadata": {},
   "outputs": [],
   "source": [
    "gt_save(g, 'products.net.gz')"
   ]
  },
  {
   "cell_type": "code",
   "execution_count": 26,
   "metadata": {},
   "outputs": [],
   "source": [
    "g = gt_load('products.net.gz')"
   ]
  },
  {
   "cell_type": "code",
   "execution_count": 27,
   "metadata": {},
   "outputs": [
    {
     "name": "stdout",
     "output_type": "stream",
     "text": [
      "Arestas = 26686\n",
      "Vertices = 930\n",
      "Densidade = 0.06177529312360383\n"
     ]
    }
   ],
   "source": [
    "m = g.num_edges()\n",
    "n = g.num_vertices()\n",
    "print(f\"Arestas = {m}\")\n",
    "print(f\"Vertices = {n}\")\n",
    "if g.is_directed():\n",
    "    max_edges = n * (n - 1)\n",
    "else:\n",
    "    max_edges = n * (n - 1) // 2\n",
    "max_edges\n",
    "d = m / max_edges\n",
    "print(f\"Densidade = {d}\")"
   ]
  },
  {
   "cell_type": "code",
   "execution_count": 28,
   "metadata": {},
   "outputs": [
    {
     "data": {
      "text/html": [
       "<div>\n",
       "<style scoped>\n",
       "    .dataframe tbody tr th:only-of-type {\n",
       "        vertical-align: middle;\n",
       "    }\n",
       "\n",
       "    .dataframe tbody tr th {\n",
       "        vertical-align: top;\n",
       "    }\n",
       "\n",
       "    .dataframe thead th {\n",
       "        text-align: right;\n",
       "    }\n",
       "</style>\n",
       "<table border=\"1\" class=\"dataframe\">\n",
       "  <thead>\n",
       "    <tr style=\"text-align: right;\">\n",
       "      <th></th>\n",
       "    </tr>\n",
       "    <tr>\n",
       "      <th>id</th>\n",
       "    </tr>\n",
       "  </thead>\n",
       "  <tbody>\n",
       "    <tr>\n",
       "      <th>205</th>\n",
       "    </tr>\n",
       "    <tr>\n",
       "      <th>207</th>\n",
       "    </tr>\n",
       "    <tr>\n",
       "      <th>224</th>\n",
       "    </tr>\n",
       "    <tr>\n",
       "      <th>318</th>\n",
       "    </tr>\n",
       "    <tr>\n",
       "      <th>403</th>\n",
       "    </tr>\n",
       "    <tr>\n",
       "      <th>...</th>\n",
       "    </tr>\n",
       "    <tr>\n",
       "      <th>136</th>\n",
       "    </tr>\n",
       "    <tr>\n",
       "      <th>82</th>\n",
       "    </tr>\n",
       "    <tr>\n",
       "      <th>374</th>\n",
       "    </tr>\n",
       "    <tr>\n",
       "      <th>221</th>\n",
       "    </tr>\n",
       "    <tr>\n",
       "      <th>465</th>\n",
       "    </tr>\n",
       "  </tbody>\n",
       "</table>\n",
       "<p>930 rows × 0 columns</p>\n",
       "</div>"
      ],
      "text/plain": [
       "Empty DataFrame\n",
       "Columns: []\n",
       "Index: [205, 207, 224, 318, 403, 625, 641, 471, 487, 522, 525, 26, 795, 20, 832, 523, 583, 698, 729, 34, 779, 624, 875, 91, 337, 789, 436, 437, 177, 689, 287, 417, 341, 347, 811, 813, 392, 393, 415, 484, 485, 420, 433, 357, 728, 778, 86, 335, 634, 635, 901, 902, 601, 878, 481, 482, 358, 570, 571, 203, 204, 408, 409, 370, 377, 308, 642, 222, 227, 455, 462, 887, 905, 892, 776, 777, 173, 194, 425, 99, 130, 690, 109, 872, 145, 281, 182, 491, 903, 475, 476, 244, 478, 71, 230, 781, 250, 788, 610, 501, ...]\n",
       "\n",
       "[930 rows x 0 columns]"
      ]
     },
     "execution_count": 28,
     "metadata": {},
     "output_type": "execute_result"
    }
   ],
   "source": [
    "data = gt_data(g)\n",
    "data"
   ]
  },
  {
   "cell_type": "code",
   "execution_count": 29,
   "metadata": {},
   "outputs": [
    {
     "data": {
      "text/html": [
       "<div>\n",
       "<style scoped>\n",
       "    .dataframe tbody tr th:only-of-type {\n",
       "        vertical-align: middle;\n",
       "    }\n",
       "\n",
       "    .dataframe tbody tr th {\n",
       "        vertical-align: top;\n",
       "    }\n",
       "\n",
       "    .dataframe thead th {\n",
       "        text-align: right;\n",
       "    }\n",
       "</style>\n",
       "<table border=\"1\" class=\"dataframe\">\n",
       "  <thead>\n",
       "    <tr style=\"text-align: right;\">\n",
       "      <th></th>\n",
       "      <th>degree</th>\n",
       "    </tr>\n",
       "    <tr>\n",
       "      <th>id</th>\n",
       "      <th></th>\n",
       "    </tr>\n",
       "  </thead>\n",
       "  <tbody>\n",
       "    <tr>\n",
       "      <th>205</th>\n",
       "      <td>51</td>\n",
       "    </tr>\n",
       "    <tr>\n",
       "      <th>207</th>\n",
       "      <td>4</td>\n",
       "    </tr>\n",
       "    <tr>\n",
       "      <th>224</th>\n",
       "      <td>16</td>\n",
       "    </tr>\n",
       "    <tr>\n",
       "      <th>318</th>\n",
       "      <td>6</td>\n",
       "    </tr>\n",
       "    <tr>\n",
       "      <th>403</th>\n",
       "      <td>45</td>\n",
       "    </tr>\n",
       "    <tr>\n",
       "      <th>...</th>\n",
       "      <td>...</td>\n",
       "    </tr>\n",
       "    <tr>\n",
       "      <th>136</th>\n",
       "      <td>1</td>\n",
       "    </tr>\n",
       "    <tr>\n",
       "      <th>82</th>\n",
       "      <td>3</td>\n",
       "    </tr>\n",
       "    <tr>\n",
       "      <th>374</th>\n",
       "      <td>1</td>\n",
       "    </tr>\n",
       "    <tr>\n",
       "      <th>221</th>\n",
       "      <td>1</td>\n",
       "    </tr>\n",
       "    <tr>\n",
       "      <th>465</th>\n",
       "      <td>1</td>\n",
       "    </tr>\n",
       "  </tbody>\n",
       "</table>\n",
       "<p>930 rows × 1 columns</p>\n",
       "</div>"
      ],
      "text/plain": [
       "     degree\n",
       "id         \n",
       "205      51\n",
       "207       4\n",
       "224      16\n",
       "318       6\n",
       "403      45\n",
       "..      ...\n",
       "136       1\n",
       "82        3\n",
       "374       1\n",
       "221       1\n",
       "465       1\n",
       "\n",
       "[930 rows x 1 columns]"
      ]
     },
     "execution_count": 29,
     "metadata": {},
     "output_type": "execute_result"
    }
   ],
   "source": [
    "degrees = []\n",
    "for v in g.all_vertices():\n",
    "    degrees.append(v.total_degree())\n",
    "data['degree'] = degrees\n",
    "data"
   ]
  },
  {
   "cell_type": "code",
   "execution_count": 30,
   "metadata": {},
   "outputs": [
    {
     "data": {
      "text/plain": [
       "count    930.000000\n",
       "mean      57.389247\n",
       "std       91.790332\n",
       "min        1.000000\n",
       "25%        3.000000\n",
       "50%       13.000000\n",
       "75%       71.000000\n",
       "max      613.000000\n",
       "Name: degree, dtype: float64"
      ]
     },
     "execution_count": 30,
     "metadata": {},
     "output_type": "execute_result"
    },
    {
     "data": {
      "image/png": "[encoded data removed]",
      "text/plain": [
       "<Figure size 640x480 with 1 Axes>"
      ]
     },
     "metadata": {},
     "output_type": "display_data"
    }
   ],
   "source": [
    "sns.histplot(data['degree'])\n",
    "data['degree'].describe()"
   ]
  },
  {
   "cell_type": "code",
   "execution_count": 31,
   "metadata": {
    "scrolled": false
   },
   "outputs": [
    {
     "data": {
      "text/html": [
       "\n",
       "        <div id=\"7aadWUCkCWrBsAf4hME3EH\"></div>\n",
       "        <script>netpixi.render('7aadWUCkCWrBsAf4hME3EH', 'exemplo.net.gz', 1.7777777777777777, true, false, false);</script>\n",
       "    "
      ],
      "text/plain": [
       "<IPython.core.display.HTML object>"
      ]
     },
     "metadata": {},
     "output_type": "display_data"
    }
   ],
   "source": [
    "g = gt_load('products.net.gz')\n",
    "m = gt_draw.sfdp_layout(g)\n",
    "gt_move(g, m)\n",
    "gt_save(g, 'exemplo.net.gz')\n",
    "netpixi.render('exemplo.net.gz');"
   ]
  },
  {
   "cell_type": "code",
   "execution_count": 32,
   "metadata": {
    "scrolled": false
   },
   "outputs": [
    {
     "data": {
      "text/html": [
       "\n",
       "        <div id=\"dXk3a4tqEjFijUrzxfv563\"></div>\n",
       "        <script>netpixi.render('dXk3a4tqEjFijUrzxfv563', 'exemplo.net.gz', 1.7777777777777777, true, true, false);</script>\n",
       "    "
      ],
      "text/plain": [
       "<IPython.core.display.HTML object>"
      ]
     },
     "metadata": {},
     "output_type": "display_data"
    }
   ],
   "source": [
    "g = gt_clean(g)\n",
    "m = gt_draw.sfdp_layout(g)\n",
    "gt_move(g, m)\n",
    "gt_save(g, 'exemplo.net.gz')\n",
    "r = netpixi.render('exemplo.net.gz', infinite=True);"
   ]
  },
  {
   "cell_type": "code",
   "execution_count": 33,
   "metadata": {},
   "outputs": [
    {
     "name": "stderr",
     "output_type": "stream",
     "text": [
      "<frozen importlib._bootstrap>:914: ImportWarning: VendorImporter.find_spec() not found; falling back to find_module()\n"
     ]
    }
   ],
   "source": [
    "matrix = spectral.adjacency(g)\n",
    "algorithm = cpnet.Rombach()\n",
    "algorithm.detect(matrix)\n",
    "c = algorithm.get_coreness()"
   ]
  },
  {
   "cell_type": "code",
   "execution_count": 34,
   "metadata": {},
   "outputs": [
    {
     "data": {
      "text/html": [
       "\n",
       "        <div id=\"9yAePL8bF4VJj6MnceFqYT\"></div>\n",
       "        <script>netpixi.call('9yAePL8bF4VJj6MnceFqYT', 'dXk3a4tqEjFijUrzxfv563', 'changeGraph', 'eyJpZCI6IDAsICJ0eXBlIjogInZlcnRleCIsICJwcm9wcyI6IHsic2l6ZSI6IDE5LjU2MTQwMzUwODc3MTkzfX0K');</script>\n",
       "    "
      ],
      "text/plain": [
       "<IPython.core.display.HTML object>"
      ]
     },
     "metadata": {},
     "output_type": "display_data"
    },
    {
     "data": {
      "text/html": [
       "\n",
       "        <div id=\"3zDXhEypovju2UzUHx3vzJ\"></div>\n",
       "        <script>netpixi.call('3zDXhEypovju2UzUHx3vzJ', 'dXk3a4tqEjFijUrzxfv563', 'changeGraph', 'eyJpZCI6IDEsICJ0eXBlIjogInZlcnRleCIsICJwcm9wcyI6IHsic2l6ZSI6IDEyLjc3Nzc3Nzc3Nzc3Nzc3OX19Cg==');</script>\n",
       "    "
      ],
      "text/plain": [
       "<IPython.core.display.HTML object>"
      ]
     },
     "metadata": {},
     "output_type": "display_data"
    },
    {
     "data": {
      "text/html": [
       "\n",
       "        <div id=\"nLgBgYMhbDknxvQUcjquvL\"></div>\n",
       "        <script>netpixi.call('nLgBgYMhbDknxvQUcjquvL', 'dXk3a4tqEjFijUrzxfv563', 'changeGraph', 'eyJpZCI6IDIsICJ0eXBlIjogInZlcnRleCIsICJwcm9wcyI6IHsic2l6ZSI6IDEzLjIzMDk5NDE1MjA0Njc4M319Cg==');</script>\n",
       "    "
      ],
      "text/plain": [
       "<IPython.core.display.HTML object>"
      ]
     },
     "metadata": {},
     "output_type": "display_data"
    },
    {
     "data": {
      "text/html": [
       "\n",
       "        <div id=\"BdQcU4yKBZM7rFcsBeA8xf\"></div>\n",
       "        <script>netpixi.call('BdQcU4yKBZM7rFcsBeA8xf', 'dXk3a4tqEjFijUrzxfv563', 'changeGraph', 'eyJpZCI6IDMsICJ0eXBlIjogInZlcnRleCIsICJwcm9wcyI6IHsic2l6ZSI6IDE1LjU0MDkzNTY3MjUxNDYyfX0K');</script>\n",
       "    "
      ],
      "text/plain": [
       "<IPython.core.display.HTML object>"
      ]
     },
     "metadata": {},
     "output_type": "display_data"
    },
    {
     "data": {
      "text/html": [
       "\n",
       "        <div id=\"FVCx4sMRpTvpNKagTEoymn\"></div>\n",
       "        <script>netpixi.call('FVCx4sMRpTvpNKagTEoymn', 'dXk3a4tqEjFijUrzxfv563', 'changeGraph', 'eyJpZCI6IDQsICJ0eXBlIjogInZlcnRleCIsICJwcm9wcyI6IHsic2l6ZSI6IDE4LjAxMTY5NTkwNjQzMjc1fX0K');</script>\n",
       "    "
      ],
      "text/plain": [
       "<IPython.core.display.HTML object>"
      ]
     },
     "metadata": {},
     "output_type": "display_data"
    },
    {
     "data": {
      "text/html": [
       "\n",
       "        <div id=\"jA3jCV8Piqy2pReHRvc3Rw\"></div>\n",
       "        <script>netpixi.call('jA3jCV8Piqy2pReHRvc3Rw', 'dXk3a4tqEjFijUrzxfv563', 'changeGraph', 'eyJpZCI6IDUsICJ0eXBlIjogInZlcnRleCIsICJwcm9wcyI6IHsic2l6ZSI6IDE1LjEzMTU3ODk0NzM2ODQyMX19Cg==');</script>\n",
       "    "
      ],
      "text/plain": [
       "<IPython.core.display.HTML object>"
      ]
     },
     "metadata": {},
     "output_type": "display_data"
    },
    {
     "data": {
      "text/html": [
       "\n",
       "        <div id=\"d4Vp3M2Yd7uKFVBgdt8FTi\"></div>\n",
       "        <script>netpixi.call('d4Vp3M2Yd7uKFVBgdt8FTi', 'dXk3a4tqEjFijUrzxfv563', 'changeGraph', 'eyJpZCI6IDYsICJ0eXBlIjogInZlcnRleCIsICJwcm9wcyI6IHsic2l6ZSI6IDE4LjE0MzI3NDg1MzgwMTE2N319Cg==');</script>\n",
       "    "
      ],
      "text/plain": [
       "<IPython.core.display.HTML object>"
      ]
     },
     "metadata": {},
     "output_type": "display_data"
    },
    {
     "data": {
      "text/html": [
       "\n",
       "        <div id=\"GFbySvSPdHm3YwFYtHwCnt\"></div>\n",
       "        <script>netpixi.call('GFbySvSPdHm3YwFYtHwCnt', 'dXk3a4tqEjFijUrzxfv563', 'changeGraph', 'eyJpZCI6IDcsICJ0eXBlIjogInZlcnRleCIsICJwcm9wcyI6IHsic2l6ZSI6IDQ1Ljk4ODM3MjA5MzAyMzI1fX0K');</script>\n",
       "    "
      ],
      "text/plain": [
       "<IPython.core.display.HTML object>"
      ]
     },
     "metadata": {},
     "output_type": "display_data"
    },
    {
     "data": {
      "text/html": [
       "\n",
       "        <div id=\"bHnP86hBwiZwmaWT2VVsx8\"></div>\n",
       "        <script>netpixi.call('bHnP86hBwiZwmaWT2VVsx8', 'dXk3a4tqEjFijUrzxfv563', 'changeGraph', 'eyJpZCI6IDgsICJ0eXBlIjogInZlcnRleCIsICJwcm9wcyI6IHsic2l6ZSI6IDQyLjU1ODEzOTUzNDg4MzcyfX0K');</script>\n",
       "    "
      ],
      "text/plain": [
       "<IPython.core.display.HTML object>"
      ]
     },
     "metadata": {},
     "output_type": "display_data"
    },
    {
     "data": {
      "text/html": [
       "\n",
       "        <div id=\"kgpQBnNdLiFJpRuuTMi7vD\"></div>\n",
       "        <script>netpixi.call('kgpQBnNdLiFJpRuuTMi7vD', 'dXk3a4tqEjFijUrzxfv563', 'changeGraph', 'eyJpZCI6IDksICJ0eXBlIjogInZlcnRleCIsICJwcm9wcyI6IHsic2l6ZSI6IDE1Ljk2NDkxMjI4MDcwMTc1M319Cg==');</script>\n",
       "    "
      ],
      "text/plain": [
       "<IPython.core.display.HTML object>"
      ]
     },
     "metadata": {},
     "output_type": "display_data"
    },
    {
     "data": {
      "text/html": [
       "\n",
       "        <div id=\"jYpQSv5CGazJD3wagPJgjD\"></div>\n",
       "        <script>netpixi.call('jYpQSv5CGazJD3wagPJgjD', 'dXk3a4tqEjFijUrzxfv563', 'changeGraph', 'eyJpZCI6IDEwLCAidHlwZSI6ICJ2ZXJ0ZXgiLCAicHJvcHMiOiB7InNpemUiOiAxNi40MzI3NDg1MzgwMTE2OTR9fQo=');</script>\n",
       "    "
      ],
      "text/plain": [
       "<IPython.core.display.HTML object>"
      ]
     },
     "metadata": {},
     "output_type": "display_data"
    },
    {
     "data": {
      "text/html": [
       "\n",
       "        <div id=\"VyVcF9xU6hUvKJmLfmZ5Cg\"></div>\n",
       "        <script>netpixi.call('VyVcF9xU6hUvKJmLfmZ5Cg', 'dXk3a4tqEjFijUrzxfv563', 'changeGraph', 'eyJpZCI6IDExLCAidHlwZSI6ICJ2ZXJ0ZXgiLCAicHJvcHMiOiB7InNpemUiOiA0MS42ODYwNDY1MTE2Mjc5MX19Cg==');</script>\n",
       "    "
      ],
      "text/plain": [
       "<IPython.core.display.HTML object>"
      ]
     },
     "metadata": {},
     "output_type": "display_data"
    },
    {
     "data": {
      "text/html": [
       "\n",
       "        <div id=\"JXHc6mBQsQ5HAqLTsYPtWN\"></div>\n",
       "        <script>netpixi.call('JXHc6mBQsQ5HAqLTsYPtWN', 'dXk3a4tqEjFijUrzxfv563', 'changeGraph', 'eyJpZCI6IDEyLCAidHlwZSI6ICJ2ZXJ0ZXgiLCAicHJvcHMiOiB7InNpemUiOiA0Ny4wMzQ4ODM3MjA5MzAyM319Cg==');</script>\n",
       "    "
      ],
      "text/plain": [
       "<IPython.core.display.HTML object>"
      ]
     },
     "metadata": {},
     "output_type": "display_data"
    },
    {
     "data": {
      "text/html": [
       "\n",
       "        <div id=\"YdQxoEx3kcwjETfPR7AHuh\"></div>\n",
       "        <script>netpixi.call('YdQxoEx3kcwjETfPR7AHuh', 'dXk3a4tqEjFijUrzxfv563', 'changeGraph', 'eyJpZCI6IDEzLCAidHlwZSI6ICJ2ZXJ0ZXgiLCAicHJvcHMiOiB7InNpemUiOiAxNS4wMjkyMzk3NjYwODE4NzJ9fQo=');</script>\n",
       "    "
      ],
      "text/plain": [
       "<IPython.core.display.HTML object>"
      ]
     },
     "metadata": {},
     "output_type": "display_data"
    },
    {
     "data": {
      "text/html": [
       "\n",
       "        <div id=\"ZKzDX5Lw8betfTaaYwA58g\"></div>\n",
       "        <script>netpixi.call('ZKzDX5Lw8betfTaaYwA58g', 'dXk3a4tqEjFijUrzxfv563', 'changeGraph', 'eyJpZCI6IDE0LCAidHlwZSI6ICJ2ZXJ0ZXgiLCAicHJvcHMiOiB7InNpemUiOiAxMi40MjY5MDA1ODQ3OTUzMjF9fQo=');</script>\n",
       "    "
      ],
      "text/plain": [
       "<IPython.core.display.HTML object>"
      ]
     },
     "metadata": {},
     "output_type": "display_data"
    },
    {
     "data": {
      "text/html": [
       "\n",
       "        <div id=\"fEWpapBpGNCxwUnvkzkC3e\"></div>\n",
       "        <script>netpixi.call('fEWpapBpGNCxwUnvkzkC3e', 'dXk3a4tqEjFijUrzxfv563', 'changeGraph', 'eyJpZCI6IDE1LCAidHlwZSI6ICJ2ZXJ0ZXgiLCAicHJvcHMiOiB7InNpemUiOiAxMy4xODcxMzQ1MDI5MjM5Nzd9fQo=');</script>\n",
       "    "
      ],
      "text/plain": [
       "<IPython.core.display.HTML object>"
      ]
     },
     "metadata": {},
     "output_type": "display_data"
    },
    {
     "data": {
      "text/html": [
       "\n",
       "        <div id=\"MDWuRKszLAiWNgJ9Uk9m7z\"></div>\n",
       "        <script>netpixi.call('MDWuRKszLAiWNgJ9Uk9m7z', 'dXk3a4tqEjFijUrzxfv563', 'changeGraph', 'eyJpZCI6IDE2LCAidHlwZSI6ICJ2ZXJ0ZXgiLCAicHJvcHMiOiB7InNpemUiOiAxMi4yNTE0NjE5ODgzMDQwOTR9fQo=');</script>\n",
       "    "
      ],
      "text/plain": [
       "<IPython.core.display.HTML object>"
      ]
     },
     "metadata": {},
     "output_type": "display_data"
    },
    {
     "data": {
      "text/html": [
       "\n",
       "        <div id=\"nqVPATMgA3VmTw7mTNEp23\"></div>\n",
       "        <script>netpixi.call('nqVPATMgA3VmTw7mTNEp23', 'dXk3a4tqEjFijUrzxfv563', 'changeGraph', 'eyJpZCI6IDE3LCAidHlwZSI6ICJ2ZXJ0ZXgiLCAicHJvcHMiOiB7InNpemUiOiA0Ni4yNzkwNjk3Njc0NDE4Nn19Cg==');</script>\n",
       "    "
      ],
      "text/plain": [
       "<IPython.core.display.HTML object>"
      ]
     },
     "metadata": {},
     "output_type": "display_data"
    },
    {
     "data": {
      "text/html": [
       "\n",
       "        <div id=\"fjtCpX6awgSptiVopwbmHG\"></div>\n",
       "        <script>netpixi.call('fjtCpX6awgSptiVopwbmHG', 'dXk3a4tqEjFijUrzxfv563', 'changeGraph', 'eyJpZCI6IDE4LCAidHlwZSI6ICJ2ZXJ0ZXgiLCAicHJvcHMiOiB7InNpemUiOiA0OC44MzcyMDkzMDIzMjU1NzZ9fQo=');</script>\n",
       "    "
      ],
      "text/plain": [
       "<IPython.core.display.HTML object>"
      ]
     },
     "metadata": {},
     "output_type": "display_data"
    },
    {
     "data": {
      "text/html": [
       "\n",
       "        <div id=\"cFpvU2Gt3bVa34VfJX2dao\"></div>\n",
       "        <script>netpixi.call('cFpvU2Gt3bVa34VfJX2dao', 'dXk3a4tqEjFijUrzxfv563', 'changeGraph', 'eyJpZCI6IDE5LCAidHlwZSI6ICJ2ZXJ0ZXgiLCAicHJvcHMiOiB7InNpemUiOiAxNS44NjI1NzMwOTk0MTUyMDR9fQo=');</script>\n",
       "    "
      ],
      "text/plain": [
       "<IPython.core.display.HTML object>"
      ]
     },
     "metadata": {},
     "output_type": "display_data"
    },
    {
     "data": {
      "text/html": [
       "\n",
       "        <div id=\"5fmHVTbSETrx4gAFtguSwh\"></div>\n",
       "        <script>netpixi.call('5fmHVTbSETrx4gAFtguSwh', 'dXk3a4tqEjFijUrzxfv563', 'changeGraph', 'eyJpZCI6IDIwLCAidHlwZSI6ICJ2ZXJ0ZXgiLCAicHJvcHMiOiB7InNpemUiOiA0OS44MjU1ODEzOTUzNDg4MzR9fQo=');</script>\n",
       "    "
      ],
      "text/plain": [
       "<IPython.core.display.HTML object>"
      ]
     },
     "metadata": {},
     "output_type": "display_data"
    },
    {
     "data": {
      "text/html": [
       "\n",
       "        <div id=\"SiM43kadA5c2Xgior76edP\"></div>\n",
       "        <script>netpixi.call('SiM43kadA5c2Xgior76edP', 'dXk3a4tqEjFijUrzxfv563', 'changeGraph', 'eyJpZCI6IDIxLCAidHlwZSI6ICJ2ZXJ0ZXgiLCAicHJvcHMiOiB7InNpemUiOiAxOS43MDc2MDIzMzkxODEyODV9fQo=');</script>\n",
       "    "
      ],
      "text/plain": [
       "<IPython.core.display.HTML object>"
      ]
     },
     "metadata": {},
     "output_type": "display_data"
    },
    {
     "data": {
      "text/html": [
       "\n",
       "        <div id=\"FRcp24tyooT5n59RdDEBPc\"></div>\n",
       "        <script>netpixi.call('FRcp24tyooT5n59RdDEBPc', 'dXk3a4tqEjFijUrzxfv563', 'changeGraph', 'eyJpZCI6IDIyLCAidHlwZSI6ICJ2ZXJ0ZXgiLCAicHJvcHMiOiB7InNpemUiOiA0Ni4xMDQ2NTExNjI3OTA2OTV9fQo=');</script>\n",
       "    "
      ],
      "text/plain": [
       "<IPython.core.display.HTML object>"
      ]
     },
     "metadata": {},
     "output_type": "display_data"
    },
    {
     "data": {
      "text/html": [
       "\n",
       "        <div id=\"2PkdgDHK4CqPzqxYkcCrBx\"></div>\n",
       "        <script>netpixi.call('2PkdgDHK4CqPzqxYkcCrBx', 'dXk3a4tqEjFijUrzxfv563', 'changeGraph', 'eyJpZCI6IDIzLCAidHlwZSI6ICJ2ZXJ0ZXgiLCAicHJvcHMiOiB7InNpemUiOiAxNy4zMjQ1NjE0MDM1MDg3N319Cg==');</script>\n",
       "    "
      ],
      "text/plain": [
       "<IPython.core.display.HTML object>"
      ]
     },
     "metadata": {},
     "output_type": "display_data"
    },
    {
     "data": {
      "text/html": [
       "\n",
       "        <div id=\"knXkcZMYg3D5iEFTEcGP8Q\"></div>\n",
       "        <script>netpixi.call('knXkcZMYg3D5iEFTEcGP8Q', 'dXk3a4tqEjFijUrzxfv563', 'changeGraph', 'eyJpZCI6IDI0LCAidHlwZSI6ICJ2ZXJ0ZXgiLCAicHJvcHMiOiB7InNpemUiOiAxOC43NTczMDk5NDE1MjA0Njh9fQo=');</script>\n",
       "    "
      ],
      "text/plain": [
       "<IPython.core.display.HTML object>"
      ]
     },
     "metadata": {},
     "output_type": "display_data"
    },
    {
     "data": {
      "text/html": [
       "\n",
       "        <div id=\"3f7VSeWErLugqyradKDWHT\"></div>\n",
       "        <script>netpixi.call('3f7VSeWErLugqyradKDWHT', 'dXk3a4tqEjFijUrzxfv563', 'changeGraph', 'eyJpZCI6IDI1LCAidHlwZSI6ICJ2ZXJ0ZXgiLCAicHJvcHMiOiB7InNpemUiOiA0My41NDY1MTE2Mjc5MDY5OH19Cg==');</script>\n",
       "    "
      ],
      "text/plain": [
       "<IPython.core.display.HTML object>"
      ]
     },
     "metadata": {},
     "output_type": "display_data"
    },
    {
     "data": {
      "text/html": [
       "\n",
       "        <div id=\"HNgPCfzb5frSZ7jvGTQAWd\"></div>\n",
       "        <script>netpixi.call('HNgPCfzb5frSZ7jvGTQAWd', 'dXk3a4tqEjFijUrzxfv563', 'changeGraph', 'eyJpZCI6IDI2LCAidHlwZSI6ICJ2ZXJ0ZXgiLCAicHJvcHMiOiB7InNpemUiOiAxMi4wMDI5MjM5NzY2MDgxODd9fQo=');</script>\n",
       "    "
      ],
      "text/plain": [
       "<IPython.core.display.HTML object>"
      ]
     },
     "metadata": {},
     "output_type": "display_data"
    },
    {
     "data": {
      "text/html": [
       "\n",
       "        <div id=\"25YD6GqyZ2DfpLKaMy7Beh\"></div>\n",
       "        <script>netpixi.call('25YD6GqyZ2DfpLKaMy7Beh', 'dXk3a4tqEjFijUrzxfv563', 'changeGraph', 'eyJpZCI6IDI3LCAidHlwZSI6ICJ2ZXJ0ZXgiLCAicHJvcHMiOiB7InNpemUiOiAxMC4wfX0K');</script>\n",
       "    "
      ],
      "text/plain": [
       "<IPython.core.display.HTML object>"
      ]
     },
     "metadata": {},
     "output_type": "display_data"
    },
    {
     "data": {
      "text/html": [
       "\n",
       "        <div id=\"bw9zj5obLbrcaYj6AnrZ6N\"></div>\n",
       "        <script>netpixi.call('bw9zj5obLbrcaYj6AnrZ6N', 'dXk3a4tqEjFijUrzxfv563', 'changeGraph', 'eyJpZCI6IDI4LCAidHlwZSI6ICJ2ZXJ0ZXgiLCAicHJvcHMiOiB7InNpemUiOiAxNy41NDM4NTk2NDkxMjI4MX19Cg==');</script>\n",
       "    "
      ],
      "text/plain": [
       "<IPython.core.display.HTML object>"
      ]
     },
     "metadata": {},
     "output_type": "display_data"
    },
    {
     "data": {
      "text/html": [
       "\n",
       "        <div id=\"bKWXMLRQDcgV2Di2B2zJsm\"></div>\n",
       "        <script>netpixi.call('bKWXMLRQDcgV2Di2B2zJsm', 'dXk3a4tqEjFijUrzxfv563', 'changeGraph', 'eyJpZCI6IDI5LCAidHlwZSI6ICJ2ZXJ0ZXgiLCAicHJvcHMiOiB7InNpemUiOiA0NS4xNzQ0MTg2MDQ2NTExNjZ9fQo=');</script>\n",
       "    "
      ],
      "text/plain": [
       "<IPython.core.display.HTML object>"
      ]
     },
     "metadata": {},
     "output_type": "display_data"
    },
    {
     "data": {
      "text/html": [
       "\n",
       "        <div id=\"UUYGku94k4T4f2naE9Q85Y\"></div>\n",
       "        <script>netpixi.call('UUYGku94k4T4f2naE9Q85Y', 'dXk3a4tqEjFijUrzxfv563', 'changeGraph', 'eyJpZCI6IDMwLCAidHlwZSI6ICJ2ZXJ0ZXgiLCAicHJvcHMiOiB7InNpemUiOiA0Mi4zODM3MjA5MzAyMzI1NTZ9fQo=');</script>\n",
       "    "
      ],
      "text/plain": [
       "<IPython.core.display.HTML object>"
      ]
     },
     "metadata": {},
     "output_type": "display_data"
    },
    {
     "data": {
      "text/html": [
       "\n",
       "        <div id=\"hmCA67FSUsn3vLDGABJKi9\"></div>\n",
       "        <script>netpixi.call('hmCA67FSUsn3vLDGABJKi9', 'dXk3a4tqEjFijUrzxfv563', 'changeGraph', 'eyJpZCI6IDMxLCAidHlwZSI6ICJ2ZXJ0ZXgiLCAicHJvcHMiOiB7InNpemUiOiA0My42MDQ2NTExNjI3OTA2OTV9fQo=');</script>\n",
       "    "
      ],
      "text/plain": [
       "<IPython.core.display.HTML object>"
      ]
     },
     "metadata": {},
     "output_type": "display_data"
    },
    {
     "data": {
      "text/html": [
       "\n",
       "        <div id=\"J2gP5okweJPYyqxMzcgYfb\"></div>\n",
       "        <script>netpixi.call('J2gP5okweJPYyqxMzcgYfb', 'dXk3a4tqEjFijUrzxfv563', 'changeGraph', 'eyJpZCI6IDMyLCAidHlwZSI6ICJ2ZXJ0ZXgiLCAicHJvcHMiOiB7InNpemUiOiA0OC41NDY1MTE2Mjc5MDY5OH19Cg==');</script>\n",
       "    "
      ],
      "text/plain": [
       "<IPython.core.display.HTML object>"
      ]
     },
     "metadata": {},
     "output_type": "display_data"
    },
    {
     "data": {
      "text/html": [
       "\n",
       "        <div id=\"AAYBSYLUK6KfbqUKu8jsTB\"></div>\n",
       "        <script>netpixi.call('AAYBSYLUK6KfbqUKu8jsTB', 'dXk3a4tqEjFijUrzxfv563', 'changeGraph', 'eyJpZCI6IDMzLCAidHlwZSI6ICJ2ZXJ0ZXgiLCAicHJvcHMiOiB7InNpemUiOiA0Ny4yMDkzMDIzMjU1ODE0fX0K');</script>\n",
       "    "
      ],
      "text/plain": [
       "<IPython.core.display.HTML object>"
      ]
     },
     "metadata": {},
     "output_type": "display_data"
    },
    {
     "data": {
      "text/html": [
       "\n",
       "        <div id=\"g2WMe6DEyTdoZbL8i8kRMA\"></div>\n",
       "        <script>netpixi.call('g2WMe6DEyTdoZbL8i8kRMA', 'dXk3a4tqEjFijUrzxfv563', 'changeGraph', 'eyJpZCI6IDM0LCAidHlwZSI6ICJ2ZXJ0ZXgiLCAicHJvcHMiOiB7InNpemUiOiAxMC45MDY0MzI3NDg1MzgwMTN9fQo=');</script>\n",
       "    "
      ],
      "text/plain": [
       "<IPython.core.display.HTML object>"
      ]
     },
     "metadata": {},
     "output_type": "display_data"
    },
    {
     "data": {
      "text/html": [
       "\n",
       "        <div id=\"NodipmZrS6kLxnNFqAVbhg\"></div>\n",
       "        <script>netpixi.call('NodipmZrS6kLxnNFqAVbhg', 'dXk3a4tqEjFijUrzxfv563', 'changeGraph', 'eyJpZCI6IDM1LCAidHlwZSI6ICJ2ZXJ0ZXgiLCAicHJvcHMiOiB7InNpemUiOiAxNS4wNzMwOTk0MTUyMDQ2Nzl9fQo=');</script>\n",
       "    "
      ],
      "text/plain": [
       "<IPython.core.display.HTML object>"
      ]
     },
     "metadata": {},
     "output_type": "display_data"
    },
    {
     "data": {
      "text/html": [
       "\n",
       "        <div id=\"bEsAYArWnk3zV8XAgJPFxb\"></div>\n",
       "        <script>netpixi.call('bEsAYArWnk3zV8XAgJPFxb', 'dXk3a4tqEjFijUrzxfv563', 'changeGraph', 'eyJpZCI6IDM2LCAidHlwZSI6ICJ2ZXJ0ZXgiLCAicHJvcHMiOiB7InNpemUiOiA0NS45MzAyMzI1NTgxMzk1NH19Cg==');</script>\n",
       "    "
      ],
      "text/plain": [
       "<IPython.core.display.HTML object>"
      ]
     },
     "metadata": {},
     "output_type": "display_data"
    },
    {
     "data": {
      "text/html": [
       "\n",
       "        <div id=\"fS4u86kV8JEgXogcf3G3G3\"></div>\n",
       "        <script>netpixi.call('fS4u86kV8JEgXogcf3G3G3', 'dXk3a4tqEjFijUrzxfv563', 'changeGraph', 'eyJpZCI6IDM3LCAidHlwZSI6ICJ2ZXJ0ZXgiLCAicHJvcHMiOiB7InNpemUiOiA0NC40NzY3NDQxODYwNDY1MX19Cg==');</script>\n",
       "    "
      ],
      "text/plain": [
       "<IPython.core.display.HTML object>"
      ]
     },
     "metadata": {},
     "output_type": "display_data"
    },
    {
     "data": {
      "text/html": [
       "\n",
       "        <div id=\"MUGaTjuuAUfd8fo3uqvCLm\"></div>\n",
       "        <script>netpixi.call('MUGaTjuuAUfd8fo3uqvCLm', 'dXk3a4tqEjFijUrzxfv563', 'changeGraph', 'eyJpZCI6IDM4LCAidHlwZSI6ICJ2ZXJ0ZXgiLCAicHJvcHMiOiB7InNpemUiOiA0Mi40NDE4NjA0NjUxMTYyOH19Cg==');</script>\n",
       "    "
      ],
      "text/plain": [
       "<IPython.core.display.HTML object>"
      ]
     },
     "metadata": {},
     "output_type": "display_data"
    },
    {
     "data": {
      "text/html": [
       "\n",
       "        <div id=\"bs7GCvgQqid9a7oqLYiqV7\"></div>\n",
       "        <script>netpixi.call('bs7GCvgQqid9a7oqLYiqV7', 'dXk3a4tqEjFijUrzxfv563', 'changeGraph', 'eyJpZCI6IDM5LCAidHlwZSI6ICJ2ZXJ0ZXgiLCAicHJvcHMiOiB7InNpemUiOiAxMC45Nzk1MzIxNjM3NDI2OX19Cg==');</script>\n",
       "    "
      ],
      "text/plain": [
       "<IPython.core.display.HTML object>"
      ]
     },
     "metadata": {},
     "output_type": "display_data"
    },
    {
     "data": {
      "text/html": [
       "\n",
       "        <div id=\"8dBoSGNtDnQbD2qUwMJWeH\"></div>\n",
       "        <script>netpixi.call('8dBoSGNtDnQbD2qUwMJWeH', 'dXk3a4tqEjFijUrzxfv563', 'changeGraph', 'eyJpZCI6IDQwLCAidHlwZSI6ICJ2ZXJ0ZXgiLCAicHJvcHMiOiB7InNpemUiOiAxNS45MDY0MzI3NDg1MzgwMX19Cg==');</script>\n",
       "    "
      ],
      "text/plain": [
       "<IPython.core.display.HTML object>"
      ]
     },
     "metadata": {},
     "output_type": "display_data"
    },
    {
     "data": {
      "text/html": [
       "\n",
       "        <div id=\"BRrnSqpXddVeuVN7XZFvMT\"></div>\n",
       "        <script>netpixi.call('BRrnSqpXddVeuVN7XZFvMT', 'dXk3a4tqEjFijUrzxfv563', 'changeGraph', 'eyJpZCI6IDQxLCAidHlwZSI6ICJ2ZXJ0ZXgiLCAicHJvcHMiOiB7InNpemUiOiAxMC4wODc3MTkyOTgyNDU2MTV9fQo=');</script>\n",
       "    "
      ],
      "text/plain": [
       "<IPython.core.display.HTML object>"
      ]
     },
     "metadata": {},
     "output_type": "display_data"
    },
    {
     "data": {
      "text/html": [
       "\n",
       "        <div id=\"Z6ojsYsU5w9mHvn2tmAkm9\"></div>\n",
       "        <script>netpixi.call('Z6ojsYsU5w9mHvn2tmAkm9', 'dXk3a4tqEjFijUrzxfv563', 'changeGraph', 'eyJpZCI6IDQyLCAidHlwZSI6ICJ2ZXJ0ZXgiLCAicHJvcHMiOiB7InNpemUiOiAxMC4zMDcwMTc1NDM4NTk2NDl9fQo=');</script>\n",
       "    "
      ],
      "text/plain": [
       "<IPython.core.display.HTML object>"
      ]
     },
     "metadata": {},
     "output_type": "display_data"
    },
    {
     "data": {
      "text/html": [
       "\n",
       "        <div id=\"SBXRPXUmyNwKth8JZZGQHk\"></div>\n",
       "        <script>netpixi.call('SBXRPXUmyNwKth8JZZGQHk', 'dXk3a4tqEjFijUrzxfv563', 'changeGraph', 'eyJpZCI6IDQzLCAidHlwZSI6ICJ2ZXJ0ZXgiLCAicHJvcHMiOiB7InNpemUiOiAxNS4yNDg1MzgwMTE2OTU5MDZ9fQo=');</script>\n",
       "    "
      ],
      "text/plain": [
       "<IPython.core.display.HTML object>"
      ]
     },
     "metadata": {},
     "output_type": "display_data"
    },
    {
     "data": {
      "text/html": [
       "\n",
       "        <div id=\"HuvxSPypVPnCMVN8QpsVk3\"></div>\n",
       "        <script>netpixi.call('HuvxSPypVPnCMVN8QpsVk3', 'dXk3a4tqEjFijUrzxfv563', 'changeGraph', 'eyJpZCI6IDQ0LCAidHlwZSI6ICJ2ZXJ0ZXgiLCAicHJvcHMiOiB7InNpemUiOiAxOC4xNTc4OTQ3MzY4NDIxMDN9fQo=');</script>\n",
       "    "
      ],
      "text/plain": [
       "<IPython.core.display.HTML object>"
      ]
     },
     "metadata": {},
     "output_type": "display_data"
    },
    {
     "data": {
      "text/html": [
       "\n",
       "        <div id=\"WN42AU4cztx2McoubZCtcW\"></div>\n",
       "        <script>netpixi.call('WN42AU4cztx2McoubZCtcW', 'dXk3a4tqEjFijUrzxfv563', 'changeGraph', 'eyJpZCI6IDQ1LCAidHlwZSI6ICJ2ZXJ0ZXgiLCAicHJvcHMiOiB7InNpemUiOiAxOS4zMjc0ODUzODAxMTY5Nn19Cg==');</script>\n",
       "    "
      ],
      "text/plain": [
       "<IPython.core.display.HTML object>"
      ]
     },
     "metadata": {},
     "output_type": "display_data"
    },
    {
     "data": {
      "text/html": [
       "\n",
       "        <div id=\"WJThshK2qBWYRfZvq6dFWM\"></div>\n",
       "        <script>netpixi.call('WJThshK2qBWYRfZvq6dFWM', 'dXk3a4tqEjFijUrzxfv563', 'changeGraph', 'eyJpZCI6IDQ2LCAidHlwZSI6ICJ2ZXJ0ZXgiLCAicHJvcHMiOiB7InNpemUiOiAxOS43MzY4NDIxMDUyNjMxNTh9fQo=');</script>\n",
       "    "
      ],
      "text/plain": [
       "<IPython.core.display.HTML object>"
      ]
     },
     "metadata": {},
     "output_type": "display_data"
    },
    {
     "data": {
      "text/html": [
       "\n",
       "        <div id=\"DBP5jNuqGGV3YqAwdfvCYM\"></div>\n",
       "        <script>netpixi.call('DBP5jNuqGGV3YqAwdfvCYM', 'dXk3a4tqEjFijUrzxfv563', 'changeGraph', 'eyJpZCI6IDQ3LCAidHlwZSI6ICJ2ZXJ0ZXgiLCAicHJvcHMiOiB7InNpemUiOiAxOC4zMzMzMzMzMzMzMzMzMzJ9fQo=');</script>\n",
       "    "
      ],
      "text/plain": [
       "<IPython.core.display.HTML object>"
      ]
     },
     "metadata": {},
     "output_type": "display_data"
    },
    {
     "data": {
      "text/html": [
       "\n",
       "        <div id=\"TusAMgWQS6CJrYxUxzm9ZJ\"></div>\n",
       "        <script>netpixi.call('TusAMgWQS6CJrYxUxzm9ZJ', 'dXk3a4tqEjFijUrzxfv563', 'changeGraph', 'eyJpZCI6IDQ4LCAidHlwZSI6ICJ2ZXJ0ZXgiLCAicHJvcHMiOiB7InNpemUiOiA0NC4yNDQxODYwNDY1MTE2M319Cg==');</script>\n",
       "    "
      ],
      "text/plain": [
       "<IPython.core.display.HTML object>"
      ]
     },
     "metadata": {},
     "output_type": "display_data"
    },
    {
     "data": {
      "text/html": [
       "\n",
       "        <div id=\"66BEBAqxfzLqfKxiugHqyt\"></div>\n",
       "        <script>netpixi.call('66BEBAqxfzLqfKxiugHqyt', 'dXk3a4tqEjFijUrzxfv563', 'changeGraph', 'eyJpZCI6IDQ5LCAidHlwZSI6ICJ2ZXJ0ZXgiLCAicHJvcHMiOiB7InNpemUiOiAxOC41ODE4NzEzNDUwMjkyNH19Cg==');</script>\n",
       "    "
      ],
      "text/plain": [
       "<IPython.core.display.HTML object>"
      ]
     },
     "metadata": {},
     "output_type": "display_data"
    },
    {
     "data": {
      "text/html": [
       "\n",
       "        <div id=\"fTpDmNj4aw29uVonVRqk4x\"></div>\n",
       "        <script>netpixi.call('fTpDmNj4aw29uVonVRqk4x', 'dXk3a4tqEjFijUrzxfv563', 'changeGraph', 'eyJpZCI6IDUwLCAidHlwZSI6ICJ2ZXJ0ZXgiLCAicHJvcHMiOiB7InNpemUiOiAxNC43MjIyMjIyMjIyMjIyMjF9fQo=');</script>\n",
       "    "
      ],
      "text/plain": [
       "<IPython.core.display.HTML object>"
      ]
     },
     "metadata": {},
     "output_type": "display_data"
    },
    {
     "data": {
      "text/html": [
       "\n",
       "        <div id=\"BfaSboCQHc3ENqAHLtjZb4\"></div>\n",
       "        <script>netpixi.call('BfaSboCQHc3ENqAHLtjZb4', 'dXk3a4tqEjFijUrzxfv563', 'changeGraph', 'eyJpZCI6IDUxLCAidHlwZSI6ICJ2ZXJ0ZXgiLCAicHJvcHMiOiB7InNpemUiOiAxNC40NzM2ODQyMTA1MjYzMTV9fQo=');</script>\n",
       "    "
      ],
      "text/plain": [
       "<IPython.core.display.HTML object>"
      ]
     },
     "metadata": {},
     "output_type": "display_data"
    },
    {
     "data": {
      "text/html": [
       "\n",
       "        <div id=\"aGpyZ2ibbczoDZXQEEfPcw\"></div>\n",
       "        <script>netpixi.call('aGpyZ2ibbczoDZXQEEfPcw', 'dXk3a4tqEjFijUrzxfv563', 'changeGraph', 'eyJpZCI6IDUyLCAidHlwZSI6ICJ2ZXJ0ZXgiLCAicHJvcHMiOiB7InNpemUiOiAxNS4yNjMxNTc4OTQ3MzY4NDJ9fQo=');</script>\n",
       "    "
      ],
      "text/plain": [
       "<IPython.core.display.HTML object>"
      ]
     },
     "metadata": {},
     "output_type": "display_data"
    },
    {
     "data": {
      "text/html": [
       "\n",
       "        <div id=\"dJPmusiKRErgnW2qvCngX5\"></div>\n",
       "        <script>netpixi.call('dJPmusiKRErgnW2qvCngX5', 'dXk3a4tqEjFijUrzxfv563', 'changeGraph', 'eyJpZCI6IDUzLCAidHlwZSI6ICJ2ZXJ0ZXgiLCAicHJvcHMiOiB7InNpemUiOiAxMC4yOTIzOTc2NjA4MTg3MTN9fQo=');</script>\n",
       "    "
      ],
      "text/plain": [
       "<IPython.core.display.HTML object>"
      ]
     },
     "metadata": {},
     "output_type": "display_data"
    },
    {
     "data": {
      "text/html": [
       "\n",
       "        <div id=\"UV6mEfdyNs5aBgeHsarz8R\"></div>\n",
       "        <script>netpixi.call('UV6mEfdyNs5aBgeHsarz8R', 'dXk3a4tqEjFijUrzxfv563', 'changeGraph', 'eyJpZCI6IDU0LCAidHlwZSI6ICJ2ZXJ0ZXgiLCAicHJvcHMiOiB7InNpemUiOiAxMC41OTk0MTUyMDQ2NzgzNjJ9fQo=');</script>\n",
       "    "
      ],
      "text/plain": [
       "<IPython.core.display.HTML object>"
      ]
     },
     "metadata": {},
     "output_type": "display_data"
    },
    {
     "data": {
      "text/html": [
       "\n",
       "        <div id=\"oN8PuCgV42dGjZKczHfufq\"></div>\n",
       "        <script>netpixi.call('oN8PuCgV42dGjZKczHfufq', 'dXk3a4tqEjFijUrzxfv563', 'changeGraph', 'eyJpZCI6IDU1LCAidHlwZSI6ICJ2ZXJ0ZXgiLCAicHJvcHMiOiB7InNpemUiOiA0OS42NTExNjI3OTA2OTc2NzZ9fQo=');</script>\n",
       "    "
      ],
      "text/plain": [
       "<IPython.core.display.HTML object>"
      ]
     },
     "metadata": {},
     "output_type": "display_data"
    },
    {
     "data": {
      "text/html": [
       "\n",
       "        <div id=\"niJKa5buDiuKY28dr37HMq\"></div>\n",
       "        <script>netpixi.call('niJKa5buDiuKY28dr37HMq', 'dXk3a4tqEjFijUrzxfv563', 'changeGraph', 'eyJpZCI6IDU2LCAidHlwZSI6ICJ2ZXJ0ZXgiLCAicHJvcHMiOiB7InNpemUiOiA0OS40NzY3NDQxODYwNDY1MX19Cg==');</script>\n",
       "    "
      ],
      "text/plain": [
       "<IPython.core.display.HTML object>"
      ]
     },
     "metadata": {},
     "output_type": "display_data"
    },
    {
     "data": {
      "text/html": [
       "\n",
       "        <div id=\"2sCqaVy64w27NE7vwV8Fpg\"></div>\n",
       "        <script>netpixi.call('2sCqaVy64w27NE7vwV8Fpg', 'dXk3a4tqEjFijUrzxfv563', 'changeGraph', 'eyJpZCI6IDU3LCAidHlwZSI6ICJ2ZXJ0ZXgiLCAicHJvcHMiOiB7InNpemUiOiA0MC40NjUxMTYyNzkwNjk3N319Cg==');</script>\n",
       "    "
      ],
      "text/plain": [
       "<IPython.core.display.HTML object>"
      ]
     },
     "metadata": {},
     "output_type": "display_data"
    },
    {
     "data": {
      "text/html": [
       "\n",
       "        <div id=\"UHVhEwJjVQ7iQ4iGdUGiDD\"></div>\n",
       "        <script>netpixi.call('UHVhEwJjVQ7iQ4iGdUGiDD', 'dXk3a4tqEjFijUrzxfv563', 'changeGraph', 'eyJpZCI6IDU4LCAidHlwZSI6ICJ2ZXJ0ZXgiLCAicHJvcHMiOiB7InNpemUiOiAxOC4yMDE3NTQzODU5NjQ5MX19Cg==');</script>\n",
       "    "
      ],
      "text/plain": [
       "<IPython.core.display.HTML object>"
      ]
     },
     "metadata": {},
     "output_type": "display_data"
    },
    {
     "data": {
      "text/html": [
       "\n",
       "        <div id=\"PeCsJQRbsBxUDeaSpbFZsh\"></div>\n",
       "        <script>netpixi.call('PeCsJQRbsBxUDeaSpbFZsh', 'dXk3a4tqEjFijUrzxfv563', 'changeGraph', 'eyJpZCI6IDU5LCAidHlwZSI6ICJ2ZXJ0ZXgiLCAicHJvcHMiOiB7InNpemUiOiAxNy4zNjg0MjEwNTI2MzE1OH19Cg==');</script>\n",
       "    "
      ],
      "text/plain": [
       "<IPython.core.display.HTML object>"
      ]
     },
     "metadata": {},
     "output_type": "display_data"
    },
    {
     "data": {
      "text/html": [
       "\n",
       "        <div id=\"BSMVEuqrJDpaTPGJgFJCxi\"></div>\n",
       "        <script>netpixi.call('BSMVEuqrJDpaTPGJgFJCxi', 'dXk3a4tqEjFijUrzxfv563', 'changeGraph', 'eyJpZCI6IDYwLCAidHlwZSI6ICJ2ZXJ0ZXgiLCAicHJvcHMiOiB7InNpemUiOiAxOS42MTk4ODMwNDA5MzU2NzJ9fQo=');</script>\n",
       "    "
      ],
      "text/plain": [
       "<IPython.core.display.HTML object>"
      ]
     },
     "metadata": {},
     "output_type": "display_data"
    },
    {
     "data": {
      "text/html": [
       "\n",
       "        <div id=\"LkHcVDh56WPcNyaxfQCM5p\"></div>\n",
       "        <script>netpixi.call('LkHcVDh56WPcNyaxfQCM5p', 'dXk3a4tqEjFijUrzxfv563', 'changeGraph', 'eyJpZCI6IDYxLCAidHlwZSI6ICJ2ZXJ0ZXgiLCAicHJvcHMiOiB7InNpemUiOiAxMC4zNjU0OTcwNzYwMjMzOTJ9fQo=');</script>\n",
       "    "
      ],
      "text/plain": [
       "<IPython.core.display.HTML object>"
      ]
     },
     "metadata": {},
     "output_type": "display_data"
    },
    {
     "data": {
      "text/html": [
       "\n",
       "        <div id=\"c2A78CDdhXwR4PwGMY6h3X\"></div>\n",
       "        <script>netpixi.call('c2A78CDdhXwR4PwGMY6h3X', 'dXk3a4tqEjFijUrzxfv563', 'changeGraph', 'eyJpZCI6IDYyLCAidHlwZSI6ICJ2ZXJ0ZXgiLCAicHJvcHMiOiB7InNpemUiOiAxMi45Mzg1OTY0OTEyMjgwN319Cg==');</script>\n",
       "    "
      ],
      "text/plain": [
       "<IPython.core.display.HTML object>"
      ]
     },
     "metadata": {},
     "output_type": "display_data"
    },
    {
     "data": {
      "text/html": [
       "\n",
       "        <div id=\"HRdC3HndHvdBVuKjbaKnYX\"></div>\n",
       "        <script>netpixi.call('HRdC3HndHvdBVuKjbaKnYX', 'dXk3a4tqEjFijUrzxfv563', 'changeGraph', 'eyJpZCI6IDYzLCAidHlwZSI6ICJ2ZXJ0ZXgiLCAicHJvcHMiOiB7InNpemUiOiAxMC40MjM5NzY2MDgxODcxMzR9fQo=');</script>\n",
       "    "
      ],
      "text/plain": [
       "<IPython.core.display.HTML object>"
      ]
     },
     "metadata": {},
     "output_type": "display_data"
    },
    {
     "data": {
      "text/html": [
       "\n",
       "        <div id=\"Dka9LxSpgwVitD2ZsCQcxo\"></div>\n",
       "        <script>netpixi.call('Dka9LxSpgwVitD2ZsCQcxo', 'dXk3a4tqEjFijUrzxfv563', 'changeGraph', 'eyJpZCI6IDY0LCAidHlwZSI6ICJ2ZXJ0ZXgiLCAicHJvcHMiOiB7InNpemUiOiAxMy4wODQ3OTUzMjE2Mzc0MjZ9fQo=');</script>\n",
       "    "
      ],
      "text/plain": [
       "<IPython.core.display.HTML object>"
      ]
     },
     "metadata": {},
     "output_type": "display_data"
    },
    {
     "data": {
      "text/html": [
       "\n",
       "        <div id=\"7SdtFzsBM64tc9MY3VnJ8b\"></div>\n",
       "        <script>netpixi.call('7SdtFzsBM64tc9MY3VnJ8b', 'dXk3a4tqEjFijUrzxfv563', 'changeGraph', 'eyJpZCI6IDY1LCAidHlwZSI6ICJ2ZXJ0ZXgiLCAicHJvcHMiOiB7InNpemUiOiAxNy4yMDc2MDIzMzkxODEyODV9fQo=');</script>\n",
       "    "
      ],
      "text/plain": [
       "<IPython.core.display.HTML object>"
      ]
     },
     "metadata": {},
     "output_type": "display_data"
    },
    {
     "data": {
      "text/html": [
       "\n",
       "        <div id=\"GcCfqWzDhcYrfgDe7mqoKy\"></div>\n",
       "        <script>netpixi.call('GcCfqWzDhcYrfgDe7mqoKy', 'dXk3a4tqEjFijUrzxfv563', 'changeGraph', 'eyJpZCI6IDY2LCAidHlwZSI6ICJ2ZXJ0ZXgiLCAicHJvcHMiOiB7InNpemUiOiAxOS42NzgzNjI1NzMwOTk0MTN9fQo=');</script>\n",
       "    "
      ],
      "text/plain": [
       "<IPython.core.display.HTML object>"
      ]
     },
     "metadata": {},
     "output_type": "display_data"
    },
    {
     "data": {
      "text/html": [
       "\n",
       "        <div id=\"UC5qBMkimPfyzf27CdNArC\"></div>\n",
       "        <script>netpixi.call('UC5qBMkimPfyzf27CdNArC', 'dXk3a4tqEjFijUrzxfv563', 'changeGraph', 'eyJpZCI6IDY3LCAidHlwZSI6ICJ2ZXJ0ZXgiLCAicHJvcHMiOiB7InNpemUiOiAxNS45NTAyOTIzOTc2NjA4MTd9fQo=');</script>\n",
       "    "
      ],
      "text/plain": [
       "<IPython.core.display.HTML object>"
      ]
     },
     "metadata": {},
     "output_type": "display_data"
    },
    {
     "data": {
      "text/html": [
       "\n",
       "        <div id=\"iTr7eBbF5qi77qYNgMBAU7\"></div>\n",
       "        <script>netpixi.call('iTr7eBbF5qi77qYNgMBAU7', 'dXk3a4tqEjFijUrzxfv563', 'changeGraph', 'eyJpZCI6IDY4LCAidHlwZSI6ICJ2ZXJ0ZXgiLCAicHJvcHMiOiB7InNpemUiOiAxOC45MTgxMjg2NTQ5NzA3NTh9fQo=');</script>\n",
       "    "
      ],
      "text/plain": [
       "<IPython.core.display.HTML object>"
      ]
     },
     "metadata": {},
     "output_type": "display_data"
    },
    {
     "data": {
      "text/html": [
       "\n",
       "        <div id=\"TBmTWyM8fUtJVQs5jQEiT3\"></div>\n",
       "        <script>netpixi.call('TBmTWyM8fUtJVQs5jQEiT3', 'dXk3a4tqEjFijUrzxfv563', 'changeGraph', 'eyJpZCI6IDY5LCAidHlwZSI6ICJ2ZXJ0ZXgiLCAicHJvcHMiOiB7InNpemUiOiAxNi4xOTg4MzA0MDkzNTY3MjR9fQo=');</script>\n",
       "    "
      ],
      "text/plain": [
       "<IPython.core.display.HTML object>"
      ]
     },
     "metadata": {},
     "output_type": "display_data"
    },
    {
     "data": {
      "text/html": [
       "\n",
       "        <div id=\"JU34YcSVhdDGxmvzEt4xKo\"></div>\n",
       "        <script>netpixi.call('JU34YcSVhdDGxmvzEt4xKo', 'dXk3a4tqEjFijUrzxfv563', 'changeGraph', 'eyJpZCI6IDcwLCAidHlwZSI6ICJ2ZXJ0ZXgiLCAicHJvcHMiOiB7InNpemUiOiAxMy43NDI2OTAwNTg0Nzk1MzJ9fQo=');</script>\n",
       "    "
      ],
      "text/plain": [
       "<IPython.core.display.HTML object>"
      ]
     },
     "metadata": {},
     "output_type": "display_data"
    },
    {
     "data": {
      "text/html": [
       "\n",
       "        <div id=\"LB6pWThoxrWqkm646sKUKb\"></div>\n",
       "        <script>netpixi.call('LB6pWThoxrWqkm646sKUKb', 'dXk3a4tqEjFijUrzxfv563', 'changeGraph', 'eyJpZCI6IDcxLCAidHlwZSI6ICJ2ZXJ0ZXgiLCAicHJvcHMiOiB7InNpemUiOiA0NC4zNjA0NjUxMTYyNzkwNjZ9fQo=');</script>\n",
       "    "
      ],
      "text/plain": [
       "<IPython.core.display.HTML object>"
      ]
     },
     "metadata": {},
     "output_type": "display_data"
    },
    {
     "data": {
      "text/html": [
       "\n",
       "        <div id=\"KWcBbUuXCwoRs57QuyX5Af\"></div>\n",
       "        <script>netpixi.call('KWcBbUuXCwoRs57QuyX5Af', 'dXk3a4tqEjFijUrzxfv563', 'changeGraph', 'eyJpZCI6IDcyLCAidHlwZSI6ICJ2ZXJ0ZXgiLCAicHJvcHMiOiB7InNpemUiOiA0Ny40NDE4NjA0NjUxMTYyOH19Cg==');</script>\n",
       "    "
      ],
      "text/plain": [
       "<IPython.core.display.HTML object>"
      ]
     },
     "metadata": {},
     "output_type": "display_data"
    },
    {
     "data": {
      "text/html": [
       "\n",
       "        <div id=\"WuYjWkVyXj3FFHHey6sHCE\"></div>\n",
       "        <script>netpixi.call('WuYjWkVyXj3FFHHey6sHCE', 'dXk3a4tqEjFijUrzxfv563', 'changeGraph', 'eyJpZCI6IDczLCAidHlwZSI6ICJ2ZXJ0ZXgiLCAicHJvcHMiOiB7InNpemUiOiA0Ny4yNjc0NDE4NjA0NjUxMX19Cg==');</script>\n",
       "    "
      ],
      "text/plain": [
       "<IPython.core.display.HTML object>"
      ]
     },
     "metadata": {},
     "output_type": "display_data"
    },
    {
     "data": {
      "text/html": [
       "\n",
       "        <div id=\"aXqn5A8geXgd7d6EFs2VS5\"></div>\n",
       "        <script>netpixi.call('aXqn5A8geXgd7d6EFs2VS5', 'dXk3a4tqEjFijUrzxfv563', 'changeGraph', 'eyJpZCI6IDc0LCAidHlwZSI6ICJ2ZXJ0ZXgiLCAicHJvcHMiOiB7InNpemUiOiAxMC40ODI0NTYxNDAzNTA4Nzd9fQo=');</script>\n",
       "    "
      ],
      "text/plain": [
       "<IPython.core.display.HTML object>"
      ]
     },
     "metadata": {},
     "output_type": "display_data"
    },
    {
     "data": {
      "text/html": [
       "\n",
       "        <div id=\"NnhvwkQjkwzwM4qdoEaFHU\"></div>\n",
       "        <script>netpixi.call('NnhvwkQjkwzwM4qdoEaFHU', 'dXk3a4tqEjFijUrzxfv563', 'changeGraph', 'eyJpZCI6IDc1LCAidHlwZSI6ICJ2ZXJ0ZXgiLCAicHJvcHMiOiB7InNpemUiOiAxMC4yNjMxNTc4OTQ3MzY4NDJ9fQo=');</script>\n",
       "    "
      ],
      "text/plain": [
       "<IPython.core.display.HTML object>"
      ]
     },
     "metadata": {},
     "output_type": "display_data"
    },
    {
     "data": {
      "text/html": [
       "\n",
       "        <div id=\"BdoX53R6KX8isALPzDtKnN\"></div>\n",
       "        <script>netpixi.call('BdoX53R6KX8isALPzDtKnN', 'dXk3a4tqEjFijUrzxfv563', 'changeGraph', 'eyJpZCI6IDc2LCAidHlwZSI6ICJ2ZXJ0ZXgiLCAicHJvcHMiOiB7InNpemUiOiAxNS4xMTY5NTkwNjQzMjc0ODV9fQo=');</script>\n",
       "    "
      ],
      "text/plain": [
       "<IPython.core.display.HTML object>"
      ]
     },
     "metadata": {},
     "output_type": "display_data"
    },
    {
     "data": {
      "text/html": [
       "\n",
       "        <div id=\"WTZfAYWiLUH4rJcYB9Fcoe\"></div>\n",
       "        <script>netpixi.call('WTZfAYWiLUH4rJcYB9Fcoe', 'dXk3a4tqEjFijUrzxfv563', 'changeGraph', 'eyJpZCI6IDc3LCAidHlwZSI6ICJ2ZXJ0ZXgiLCAicHJvcHMiOiB7InNpemUiOiA0Ny45NjUxMTYyNzkwNjk3N319Cg==');</script>\n",
       "    "
      ],
      "text/plain": [
       "<IPython.core.display.HTML object>"
      ]
     },
     "metadata": {},
     "output_type": "display_data"
    },
    {
     "data": {
      "text/html": [
       "\n",
       "        <div id=\"NQWzZDTLRgdQfNSm8zUXQo\"></div>\n",
       "        <script>netpixi.call('NQWzZDTLRgdQfNSm8zUXQo', 'dXk3a4tqEjFijUrzxfv563', 'changeGraph', 'eyJpZCI6IDc4LCAidHlwZSI6ICJ2ZXJ0ZXgiLCAicHJvcHMiOiB7InNpemUiOiA0MS4zMzcyMDkzMDIzMjU1NzZ9fQo=');</script>\n",
       "    "
      ],
      "text/plain": [
       "<IPython.core.display.HTML object>"
      ]
     },
     "metadata": {},
     "output_type": "display_data"
    },
    {
     "data": {
      "text/html": [
       "\n",
       "        <div id=\"Vk2XtNTcPyBufwvwHbsnML\"></div>\n",
       "        <script>netpixi.call('Vk2XtNTcPyBufwvwHbsnML', 'dXk3a4tqEjFijUrzxfv563', 'changeGraph', 'eyJpZCI6IDc5LCAidHlwZSI6ICJ2ZXJ0ZXgiLCAicHJvcHMiOiB7InNpemUiOiAxNi4xNDAzNTA4NzcxOTI5OH19Cg==');</script>\n",
       "    "
      ],
      "text/plain": [
       "<IPython.core.display.HTML object>"
      ]
     },
     "metadata": {},
     "output_type": "display_data"
    },
    {
     "data": {
      "text/html": [
       "\n",
       "        <div id=\"7RXNSkpLgz2rfdBjRnHjLW\"></div>\n",
       "        <script>netpixi.call('7RXNSkpLgz2rfdBjRnHjLW', 'dXk3a4tqEjFijUrzxfv563', 'changeGraph', 'eyJpZCI6IDgwLCAidHlwZSI6ICJ2ZXJ0ZXgiLCAicHJvcHMiOiB7InNpemUiOiAxMS44Mjc0ODUzODAxMTY5Nn19Cg==');</script>\n",
       "    "
      ],
      "text/plain": [
       "<IPython.core.display.HTML object>"
      ]
     },
     "metadata": {},
     "output_type": "display_data"
    },
    {
     "data": {
      "text/html": [
       "\n",
       "        <div id=\"APYnXSKWttumjDLgqoSH5u\"></div>\n",
       "        <script>netpixi.call('APYnXSKWttumjDLgqoSH5u', 'dXk3a4tqEjFijUrzxfv563', 'changeGraph', 'eyJpZCI6IDgxLCAidHlwZSI6ICJ2ZXJ0ZXgiLCAicHJvcHMiOiB7InNpemUiOiA0Mi4zMjU1ODEzOTUzNDg4MzR9fQo=');</script>\n",
       "    "
      ],
      "text/plain": [
       "<IPython.core.display.HTML object>"
      ]
     },
     "metadata": {},
     "output_type": "display_data"
    },
    {
     "data": {
      "text/html": [
       "\n",
       "        <div id=\"PEiYzUgQBKuFMHxhUFENfM\"></div>\n",
       "        <script>netpixi.call('PEiYzUgQBKuFMHxhUFENfM', 'dXk3a4tqEjFijUrzxfv563', 'changeGraph', 'eyJpZCI6IDgyLCAidHlwZSI6ICJ2ZXJ0ZXgiLCAicHJvcHMiOiB7InNpemUiOiAxNC4zODU5NjQ5MTIyODA3MDJ9fQo=');</script>\n",
       "    "
      ],
      "text/plain": [
       "<IPython.core.display.HTML object>"
      ]
     },
     "metadata": {},
     "output_type": "display_data"
    },
    {
     "data": {
      "text/html": [
       "\n",
       "        <div id=\"7FuPXQ46wkTirQXgegjPFY\"></div>\n",
       "        <script>netpixi.call('7FuPXQ46wkTirQXgegjPFY', 'dXk3a4tqEjFijUrzxfv563', 'changeGraph', 'eyJpZCI6IDgzLCAidHlwZSI6ICJ2ZXJ0ZXgiLCAicHJvcHMiOiB7InNpemUiOiAxOC4xNzI1MTQ2MTk4ODMwNH19Cg==');</script>\n",
       "    "
      ],
      "text/plain": [
       "<IPython.core.display.HTML object>"
      ]
     },
     "metadata": {},
     "output_type": "display_data"
    },
    {
     "data": {
      "text/html": [
       "\n",
       "        <div id=\"CJLn5SDkeXbKqRVbG6F5xb\"></div>\n",
       "        <script>netpixi.call('CJLn5SDkeXbKqRVbG6F5xb', 'dXk3a4tqEjFijUrzxfv563', 'changeGraph', 'eyJpZCI6IDg0LCAidHlwZSI6ICJ2ZXJ0ZXgiLCAicHJvcHMiOiB7InNpemUiOiAxMC4wNTg0Nzk1MzIxNjM3NDN9fQo=');</script>\n",
       "    "
      ],
      "text/plain": [
       "<IPython.core.display.HTML object>"
      ]
     },
     "metadata": {},
     "output_type": "display_data"
    },
    {
     "data": {
      "text/html": [
       "\n",
       "        <div id=\"3qxxDfsJPgX5qBaLM4SGc9\"></div>\n",
       "        <script>netpixi.call('3qxxDfsJPgX5qBaLM4SGc9', 'dXk3a4tqEjFijUrzxfv563', 'changeGraph', 'eyJpZCI6IDg1LCAidHlwZSI6ICJ2ZXJ0ZXgiLCAicHJvcHMiOiB7InNpemUiOiAxOS44ODMwNDA5MzU2NzI1MX19Cg==');</script>\n",
       "    "
      ],
      "text/plain": [
       "<IPython.core.display.HTML object>"
      ]
     },
     "metadata": {},
     "output_type": "display_data"
    },
    {
     "data": {
      "text/html": [
       "\n",
       "        <div id=\"YBBiEeJtqh64meoDGSD8Nu\"></div>\n",
       "        <script>netpixi.call('YBBiEeJtqh64meoDGSD8Nu', 'dXk3a4tqEjFijUrzxfv563', 'changeGraph', 'eyJpZCI6IDg2LCAidHlwZSI6ICJ2ZXJ0ZXgiLCAicHJvcHMiOiB7InNpemUiOiAxNi41MDU4NDc5NTMyMTYzNzR9fQo=');</script>\n",
       "    "
      ],
      "text/plain": [
       "<IPython.core.display.HTML object>"
      ]
     },
     "metadata": {},
     "output_type": "display_data"
    },
    {
     "data": {
      "text/html": [
       "\n",
       "        <div id=\"VkfdqZvFPBSD3KLpp4VUAM\"></div>\n",
       "        <script>netpixi.call('VkfdqZvFPBSD3KLpp4VUAM', 'dXk3a4tqEjFijUrzxfv563', 'changeGraph', 'eyJpZCI6IDg3LCAidHlwZSI6ICJ2ZXJ0ZXgiLCAicHJvcHMiOiB7InNpemUiOiA0MS4wNDY1MTE2Mjc5MDY5OH19Cg==');</script>\n",
       "    "
      ],
      "text/plain": [
       "<IPython.core.display.HTML object>"
      ]
     },
     "metadata": {},
     "output_type": "display_data"
    },
    {
     "data": {
      "text/html": [
       "\n",
       "        <div id=\"WVtKLXK3rtseQufwFs4xkC\"></div>\n",
       "        <script>netpixi.call('WVtKLXK3rtseQufwFs4xkC', 'dXk3a4tqEjFijUrzxfv563', 'changeGraph', 'eyJpZCI6IDg4LCAidHlwZSI6ICJ2ZXJ0ZXgiLCAicHJvcHMiOiB7InNpemUiOiA0NS4xMTYyNzkwNjk3Njc0NDR9fQo=');</script>\n",
       "    "
      ],
      "text/plain": [
       "<IPython.core.display.HTML object>"
      ]
     },
     "metadata": {},
     "output_type": "display_data"
    },
    {
     "data": {
      "text/html": [
       "\n",
       "        <div id=\"AJxz6NeaPWr2vjW9nLdBxD\"></div>\n",
       "        <script>netpixi.call('AJxz6NeaPWr2vjW9nLdBxD', 'dXk3a4tqEjFijUrzxfv563', 'changeGraph', 'eyJpZCI6IDg5LCAidHlwZSI6ICJ2ZXJ0ZXgiLCAicHJvcHMiOiB7InNpemUiOiA0MC44MTM5NTM0ODgzNzIwOX19Cg==');</script>\n",
       "    "
      ],
      "text/plain": [
       "<IPython.core.display.HTML object>"
      ]
     },
     "metadata": {},
     "output_type": "display_data"
    },
    {
     "data": {
      "text/html": [
       "\n",
       "        <div id=\"VtUwrCYzcLaknYhtbNy8jw\"></div>\n",
       "        <script>netpixi.call('VtUwrCYzcLaknYhtbNy8jw', 'dXk3a4tqEjFijUrzxfv563', 'changeGraph', 'eyJpZCI6IDkwLCAidHlwZSI6ICJ2ZXJ0ZXgiLCAicHJvcHMiOiB7InNpemUiOiAxNi41Nzg5NDczNjg0MjEwNX19Cg==');</script>\n",
       "    "
      ],
      "text/plain": [
       "<IPython.core.display.HTML object>"
      ]
     },
     "metadata": {},
     "output_type": "display_data"
    },
    {
     "data": {
      "text/html": [
       "\n",
       "        <div id=\"mWjADKm62ZoysTqQpNprdS\"></div>\n",
       "        <script>netpixi.call('mWjADKm62ZoysTqQpNprdS', 'dXk3a4tqEjFijUrzxfv563', 'changeGraph', 'eyJpZCI6IDkxLCAidHlwZSI6ICJ2ZXJ0ZXgiLCAicHJvcHMiOiB7InNpemUiOiAxNC4yNTQzODU5NjQ5MTIyOH19Cg==');</script>\n",
       "    "
      ],
      "text/plain": [
       "<IPython.core.display.HTML object>"
      ]
     },
     "metadata": {},
     "output_type": "display_data"
    },
    {
     "data": {
      "text/html": [
       "\n",
       "        <div id=\"HD3A42tfHByCFpng38euCq\"></div>\n",
       "        <script>netpixi.call('HD3A42tfHByCFpng38euCq', 'dXk3a4tqEjFijUrzxfv563', 'changeGraph', 'eyJpZCI6IDkyLCAidHlwZSI6ICJ2ZXJ0ZXgiLCAicHJvcHMiOiB7InNpemUiOiA0NC44ODM3MjA5MzAyMzI1NTZ9fQo=');</script>\n",
       "    "
      ],
      "text/plain": [
       "<IPython.core.display.HTML object>"
      ]
     },
     "metadata": {},
     "output_type": "display_data"
    },
    {
     "data": {
      "text/html": [
       "\n",
       "        <div id=\"QyCKT2mZJ6KHEqoQnxUxzm\"></div>\n",
       "        <script>netpixi.call('QyCKT2mZJ6KHEqoQnxUxzm', 'dXk3a4tqEjFijUrzxfv563', 'changeGraph', 'eyJpZCI6IDkzLCAidHlwZSI6ICJ2ZXJ0ZXgiLCAicHJvcHMiOiB7InNpemUiOiAxNi45NDQ0NDQ0NDQ0NDQ0NDN9fQo=');</script>\n",
       "    "
      ],
      "text/plain": [
       "<IPython.core.display.HTML object>"
      ]
     },
     "metadata": {},
     "output_type": "display_data"
    },
    {
     "data": {
      "text/html": [
       "\n",
       "        <div id=\"JvoWLhFDpvJx3QViCXeefk\"></div>\n",
       "        <script>netpixi.call('JvoWLhFDpvJx3QViCXeefk', 'dXk3a4tqEjFijUrzxfv563', 'changeGraph', 'eyJpZCI6IDk0LCAidHlwZSI6ICJ2ZXJ0ZXgiLCAicHJvcHMiOiB7InNpemUiOiAxMi4yMDc2MDIzMzkxODEyODd9fQo=');</script>\n",
       "    "
      ],
      "text/plain": [
       "<IPython.core.display.HTML object>"
      ]
     },
     "metadata": {},
     "output_type": "display_data"
    },
    {
     "data": {
      "text/html": [
       "\n",
       "        <div id=\"WSqBJL9mLSBMaptnK6zkeG\"></div>\n",
       "        <script>netpixi.call('WSqBJL9mLSBMaptnK6zkeG', 'dXk3a4tqEjFijUrzxfv563', 'changeGraph', 'eyJpZCI6IDk1LCAidHlwZSI6ICJ2ZXJ0ZXgiLCAicHJvcHMiOiB7InNpemUiOiAxOS4wMjA0Njc4MzYyNTczMX19Cg==');</script>\n",
       "    "
      ],
      "text/plain": [
       "<IPython.core.display.HTML object>"
      ]
     },
     "metadata": {},
     "output_type": "display_data"
    },
    {
     "data": {
      "text/html": [
       "\n",
       "        <div id=\"8XG74DfqtHypXZVuegWbPX\"></div>\n",
       "        <script>netpixi.call('8XG74DfqtHypXZVuegWbPX', 'dXk3a4tqEjFijUrzxfv563', 'changeGraph', 'eyJpZCI6IDk2LCAidHlwZSI6ICJ2ZXJ0ZXgiLCAicHJvcHMiOiB7InNpemUiOiAxOC4xMTQwMzUwODc3MTkyOTh9fQo=');</script>\n",
       "    "
      ],
      "text/plain": [
       "<IPython.core.display.HTML object>"
      ]
     },
     "metadata": {},
     "output_type": "display_data"
    },
    {
     "data": {
      "text/html": [
       "\n",
       "        <div id=\"cQSYWThJLh9mFsvaHbFeuT\"></div>\n",
       "        <script>netpixi.call('cQSYWThJLh9mFsvaHbFeuT', 'dXk3a4tqEjFijUrzxfv563', 'changeGraph', 'eyJpZCI6IDk3LCAidHlwZSI6ICJ2ZXJ0ZXgiLCAicHJvcHMiOiB7InNpemUiOiAxOC40MjEwNTI2MzE1Nzg5NDV9fQo=');</script>\n",
       "    "
      ],
      "text/plain": [
       "<IPython.core.display.HTML object>"
      ]
     },
     "metadata": {},
     "output_type": "display_data"
    },
    {
     "data": {
      "text/html": [
       "\n",
       "        <div id=\"m9MitXy4d7jXphzrvnJdJY\"></div>\n",
       "        <script>netpixi.call('m9MitXy4d7jXphzrvnJdJY', 'dXk3a4tqEjFijUrzxfv563', 'changeGraph', 'eyJpZCI6IDk4LCAidHlwZSI6ICJ2ZXJ0ZXgiLCAicHJvcHMiOiB7InNpemUiOiA0MC41ODEzOTUzNDg4MzcyMX19Cg==');</script>\n",
       "    "
      ],
      "text/plain": [
       "<IPython.core.display.HTML object>"
      ]
     },
     "metadata": {},
     "output_type": "display_data"
    },
    {
     "data": {
      "text/html": [
       "\n",
       "        <div id=\"VDmPaRzWtKcWEeVENm5SpW\"></div>\n",
       "        <script>netpixi.call('VDmPaRzWtKcWEeVENm5SpW', 'dXk3a4tqEjFijUrzxfv563', 'changeGraph', 'eyJpZCI6IDk5LCAidHlwZSI6ICJ2ZXJ0ZXgiLCAicHJvcHMiOiB7InNpemUiOiAxMC41NDA5MzU2NzI1MTQ2Mn19Cg==');</script>\n",
       "    "
      ],
      "text/plain": [
       "<IPython.core.display.HTML object>"
      ]
     },
     "metadata": {},
     "output_type": "display_data"
    },
    {
     "data": {
      "text/html": [
       "\n",
       "        <div id=\"fQkTgiPmpLLAi5rzZYqQoL\"></div>\n",
       "        <script>netpixi.call('fQkTgiPmpLLAi5rzZYqQoL', 'dXk3a4tqEjFijUrzxfv563', 'changeGraph', 'eyJpZCI6IDEwMCwgInR5cGUiOiAidmVydGV4IiwgInByb3BzIjogeyJzaXplIjogMTcuMTA1MjYzMTU3ODk0NzM2fX0K');</script>\n",
       "    "
      ],
      "text/plain": [
       "<IPython.core.display.HTML object>"
      ]
     },
     "metadata": {},
     "output_type": "display_data"
    },
    {
     "data": {
      "text/html": [
       "\n",
       "        <div id=\"f7xDZb2iub2n229YmNkut8\"></div>\n",
       "        <script>netpixi.call('f7xDZb2iub2n229YmNkut8', 'dXk3a4tqEjFijUrzxfv563', 'changeGraph', 'eyJpZCI6IDEwMSwgInR5cGUiOiAidmVydGV4IiwgInByb3BzIjogeyJzaXplIjogNDguNzc5MDY5NzY3NDQxODZ9fQo=');</script>\n",
       "    "
      ],
      "text/plain": [
       "<IPython.core.display.HTML object>"
      ]
     },
     "metadata": {},
     "output_type": "display_data"
    },
    {
     "data": {
      "text/html": [
       "\n",
       "        <div id=\"NS4p7hDMWKzA5odQbumqLb\"></div>\n",
       "        <script>netpixi.call('NS4p7hDMWKzA5odQbumqLb', 'dXk3a4tqEjFijUrzxfv563', 'changeGraph', 'eyJpZCI6IDEwMiwgInR5cGUiOiAidmVydGV4IiwgInByb3BzIjogeyJzaXplIjogNDkuMDY5NzY3NDQxODYwNDZ9fQo=');</script>\n",
       "    "
      ],
      "text/plain": [
       "<IPython.core.display.HTML object>"
      ]
     },
     "metadata": {},
     "output_type": "display_data"
    },
    {
     "data": {
      "text/html": [
       "\n",
       "        <div id=\"9ueakYrf5JCtgdoRowjhYj\"></div>\n",
       "        <script>netpixi.call('9ueakYrf5JCtgdoRowjhYj', 'dXk3a4tqEjFijUrzxfv563', 'changeGraph', 'eyJpZCI6IDEwMywgInR5cGUiOiAidmVydGV4IiwgInByb3BzIjogeyJzaXplIjogMTUuNTU1NTU1NTU1NTU1NTU1fX0K');</script>\n",
       "    "
      ],
      "text/plain": [
       "<IPython.core.display.HTML object>"
      ]
     },
     "metadata": {},
     "output_type": "display_data"
    },
    {
     "data": {
      "text/html": [
       "\n",
       "        <div id=\"PxWGiC55gbZtFRw3sXSt3M\"></div>\n",
       "        <script>netpixi.call('PxWGiC55gbZtFRw3sXSt3M', 'dXk3a4tqEjFijUrzxfv563', 'changeGraph', 'eyJpZCI6IDEwNCwgInR5cGUiOiAidmVydGV4IiwgInByb3BzIjogeyJzaXplIjogMTQuODk3NjYwODE4NzEzNDUxfX0K');</script>\n",
       "    "
      ],
      "text/plain": [
       "<IPython.core.display.HTML object>"
      ]
     },
     "metadata": {},
     "output_type": "display_data"
    },
    {
     "data": {
      "text/html": [
       "\n",
       "        <div id=\"HKrua8rhoARWFs4iRfUgoY\"></div>\n",
       "        <script>netpixi.call('HKrua8rhoARWFs4iRfUgoY', 'dXk3a4tqEjFijUrzxfv563', 'changeGraph', 'eyJpZCI6IDEwNSwgInR5cGUiOiAidmVydGV4IiwgInByb3BzIjogeyJzaXplIjogMTUuODE4NzEzNDUwMjkyMzk4fX0K');</script>\n",
       "    "
      ],
      "text/plain": [
       "<IPython.core.display.HTML object>"
      ]
     },
     "metadata": {},
     "output_type": "display_data"
    },
    {
     "data": {
      "text/html": [
       "\n",
       "        <div id=\"bmJG4jvLrDYw5sxbXdqf8s\"></div>\n",
       "        <script>netpixi.call('bmJG4jvLrDYw5sxbXdqf8s', 'dXk3a4tqEjFijUrzxfv563', 'changeGraph', 'eyJpZCI6IDEwNiwgInR5cGUiOiAidmVydGV4IiwgInByb3BzIjogeyJzaXplIjogMTcuODM2MjU3MzA5OTQxNTJ9fQo=');</script>\n",
       "    "
      ],
      "text/plain": [
       "<IPython.core.display.HTML object>"
      ]
     },
     "metadata": {},
     "output_type": "display_data"
    },
    {
     "data": {
      "text/html": [
       "\n",
       "        <div id=\"efk44wy4YgKGXDcpRnsBmP\"></div>\n",
       "        <script>netpixi.call('efk44wy4YgKGXDcpRnsBmP', 'dXk3a4tqEjFijUrzxfv563', 'changeGraph', 'eyJpZCI6IDEwNywgInR5cGUiOiAidmVydGV4IiwgInByb3BzIjogeyJzaXplIjogMTguNzg2NTQ5NzA3NjAyMzR9fQo=');</script>\n",
       "    "
      ],
      "text/plain": [
       "<IPython.core.display.HTML object>"
      ]
     },
     "metadata": {},
     "output_type": "display_data"
    },
    {
     "data": {
      "text/html": [
       "\n",
       "        <div id=\"6GjF6zYn7cvgcr8Yd28o2b\"></div>\n",
       "        <script>netpixi.call('6GjF6zYn7cvgcr8Yd28o2b', 'dXk3a4tqEjFijUrzxfv563', 'changeGraph', 'eyJpZCI6IDEwOCwgInR5cGUiOiAidmVydGV4IiwgInByb3BzIjogeyJzaXplIjogMTguMjE2Mzc0MjY5MDA1ODQ3fX0K');</script>\n",
       "    "
      ],
      "text/plain": [
       "<IPython.core.display.HTML object>"
      ]
     },
     "metadata": {},
     "output_type": "display_data"
    },
    {
     "data": {
      "text/html": [
       "\n",
       "        <div id=\"Dz6SGheozowvGeXFESLMoq\"></div>\n",
       "        <script>netpixi.call('Dz6SGheozowvGeXFESLMoq', 'dXk3a4tqEjFijUrzxfv563', 'changeGraph', 'eyJpZCI6IDEwOSwgInR5cGUiOiAidmVydGV4IiwgInByb3BzIjogeyJzaXplIjogMTcuOTA5MzU2NzI1MTQ2MTk2fX0K');</script>\n",
       "    "
      ],
      "text/plain": [
       "<IPython.core.display.HTML object>"
      ]
     },
     "metadata": {},
     "output_type": "display_data"
    },
    {
     "data": {
      "text/html": [
       "\n",
       "        <div id=\"8nAQRu3SzeEqtviBsH8mvf\"></div>\n",
       "        <script>netpixi.call('8nAQRu3SzeEqtviBsH8mvf', 'dXk3a4tqEjFijUrzxfv563', 'changeGraph', 'eyJpZCI6IDExMCwgInR5cGUiOiAidmVydGV4IiwgInByb3BzIjogeyJzaXplIjogMTkuMzEyODY1NDk3MDc2MDI1fX0K');</script>\n",
       "    "
      ],
      "text/plain": [
       "<IPython.core.display.HTML object>"
      ]
     },
     "metadata": {},
     "output_type": "display_data"
    },
    {
     "data": {
      "text/html": [
       "\n",
       "        <div id=\"NgXhPKQVC2QfiHyTZVpZhR\"></div>\n",
       "        <script>netpixi.call('NgXhPKQVC2QfiHyTZVpZhR', 'dXk3a4tqEjFijUrzxfv563', 'changeGraph', 'eyJpZCI6IDExMSwgInR5cGUiOiAidmVydGV4IiwgInByb3BzIjogeyJzaXplIjogMTkuMDA1ODQ3OTUzMjE2Mzc0fX0K');</script>\n",
       "    "
      ],
      "text/plain": [
       "<IPython.core.display.HTML object>"
      ]
     },
     "metadata": {},
     "output_type": "display_data"
    },
    {
     "data": {
      "text/html": [
       "\n",
       "        <div id=\"j5CaT25YFhEihzL37UjKcG\"></div>\n",
       "        <script>netpixi.call('j5CaT25YFhEihzL37UjKcG', 'dXk3a4tqEjFijUrzxfv563', 'changeGraph', 'eyJpZCI6IDExMiwgInR5cGUiOiAidmVydGV4IiwgInByb3BzIjogeyJzaXplIjogMTYuMjg2NTQ5NzA3NjAyMzR9fQo=');</script>\n",
       "    "
      ],
      "text/plain": [
       "<IPython.core.display.HTML object>"
      ]
     },
     "metadata": {},
     "output_type": "display_data"
    },
    {
     "data": {
      "text/html": [
       "\n",
       "        <div id=\"ixGHHdPV9rmgZQ58MQrPEc\"></div>\n",
       "        <script>netpixi.call('ixGHHdPV9rmgZQ58MQrPEc', 'dXk3a4tqEjFijUrzxfv563', 'changeGraph', 'eyJpZCI6IDExMywgInR5cGUiOiAidmVydGV4IiwgInByb3BzIjogeyJzaXplIjogNDguMDIzMjU1ODEzOTUzNDl9fQo=');</script>\n",
       "    "
      ],
      "text/plain": [
       "<IPython.core.display.HTML object>"
      ]
     },
     "metadata": {},
     "output_type": "display_data"
    },
    {
     "data": {
      "text/html": [
       "\n",
       "        <div id=\"XpbeXSFdqCFepbWrq2Ttm6\"></div>\n",
       "        <script>netpixi.call('XpbeXSFdqCFepbWrq2Ttm6', 'dXk3a4tqEjFijUrzxfv563', 'changeGraph', 'eyJpZCI6IDExNCwgInR5cGUiOiAidmVydGV4IiwgInByb3BzIjogeyJzaXplIjogNDcuODQ4ODM3MjA5MzAyMzI0fX0K');</script>\n",
       "    "
      ],
      "text/plain": [
       "<IPython.core.display.HTML object>"
      ]
     },
     "metadata": {},
     "output_type": "display_data"
    },
    {
     "data": {
      "text/html": [
       "\n",
       "        <div id=\"XXThRr5Yni4aM2FdhAwgGe\"></div>\n",
       "        <script>netpixi.call('XXThRr5Yni4aM2FdhAwgGe', 'dXk3a4tqEjFijUrzxfv563', 'changeGraph', 'eyJpZCI6IDExNSwgInR5cGUiOiAidmVydGV4IiwgInByb3BzIjogeyJzaXplIjogMTcuNzA0Njc4MzYyNTczMDk4fX0K');</script>\n",
       "    "
      ],
      "text/plain": [
       "<IPython.core.display.HTML object>"
      ]
     },
     "metadata": {},
     "output_type": "display_data"
    },
    {
     "data": {
      "text/html": [
       "\n",
       "        <div id=\"RXJMtNXGM2WVZz6CsSChKc\"></div>\n",
       "        <script>netpixi.call('RXJMtNXGM2WVZz6CsSChKc', 'dXk3a4tqEjFijUrzxfv563', 'changeGraph', 'eyJpZCI6IDExNiwgInR5cGUiOiAidmVydGV4IiwgInByb3BzIjogeyJzaXplIjogNDYuNTExNjI3OTA2OTc2NzV9fQo=');</script>\n",
       "    "
      ],
      "text/plain": [
       "<IPython.core.display.HTML object>"
      ]
     },
     "metadata": {},
     "output_type": "display_data"
    },
    {
     "data": {
      "text/html": [
       "\n",
       "        <div id=\"fpeoCETByh3eqStDUpgnAv\"></div>\n",
       "        <script>netpixi.call('fpeoCETByh3eqStDUpgnAv', 'dXk3a4tqEjFijUrzxfv563', 'changeGraph', 'eyJpZCI6IDExNywgInR5cGUiOiAidmVydGV4IiwgInByb3BzIjogeyJzaXplIjogNDAuMDU4MTM5NTM0ODgzNzJ9fQo=');</script>\n",
       "    "
      ],
      "text/plain": [
       "<IPython.core.display.HTML object>"
      ]
     },
     "metadata": {},
     "output_type": "display_data"
    },
    {
     "data": {
      "text/html": [
       "\n",
       "        <div id=\"KErRpzVXEbuRTzaXM73Q2t\"></div>\n",
       "        <script>netpixi.call('KErRpzVXEbuRTzaXM73Q2t', 'dXk3a4tqEjFijUrzxfv563', 'changeGraph', 'eyJpZCI6IDExOCwgInR5cGUiOiAidmVydGV4IiwgInByb3BzIjogeyJzaXplIjogNDQuNzY3NDQxODYwNDY1MTF9fQo=');</script>\n",
       "    "
      ],
      "text/plain": [
       "<IPython.core.display.HTML object>"
      ]
     },
     "metadata": {},
     "output_type": "display_data"
    },
    {
     "data": {
      "text/html": [
       "\n",
       "        <div id=\"6BxHHwe5iy3W8ZGcEA5793\"></div>\n",
       "        <script>netpixi.call('6BxHHwe5iy3W8ZGcEA5793', 'dXk3a4tqEjFijUrzxfv563', 'changeGraph', 'eyJpZCI6IDExOSwgInR5cGUiOiAidmVydGV4IiwgInByb3BzIjogeyJzaXplIjogNDIuNzkwNjk3Njc0NDE4Nn19Cg==');</script>\n",
       "    "
      ],
      "text/plain": [
       "<IPython.core.display.HTML object>"
      ]
     },
     "metadata": {},
     "output_type": "display_data"
    },
    {
     "data": {
      "text/html": [
       "\n",
       "        <div id=\"6NxdkdUJHHDxBKatnzLvoa\"></div>\n",
       "        <script>netpixi.call('6NxdkdUJHHDxBKatnzLvoa', 'dXk3a4tqEjFijUrzxfv563', 'changeGraph', 'eyJpZCI6IDEyMCwgInR5cGUiOiAidmVydGV4IiwgInByb3BzIjogeyJzaXplIjogNDUuNzU1ODEzOTUzNDg4Mzd9fQo=');</script>\n",
       "    "
      ],
      "text/plain": [
       "<IPython.core.display.HTML object>"
      ]
     },
     "metadata": {},
     "output_type": "display_data"
    },
    {
     "data": {
      "text/html": [
       "\n",
       "        <div id=\"bb7DBDHD6knwUKAGyvLeV2\"></div>\n",
       "        <script>netpixi.call('bb7DBDHD6knwUKAGyvLeV2', 'dXk3a4tqEjFijUrzxfv563', 'changeGraph', 'eyJpZCI6IDEyMSwgInR5cGUiOiAidmVydGV4IiwgInByb3BzIjogeyJzaXplIjogMTYuNTM1MDg3NzE5Mjk4MjQ3fX0K');</script>\n",
       "    "
      ],
      "text/plain": [
       "<IPython.core.display.HTML object>"
      ]
     },
     "metadata": {},
     "output_type": "display_data"
    },
    {
     "data": {
      "text/html": [
       "\n",
       "        <div id=\"icoV5v4tdj4GxFRhxnL3Sr\"></div>\n",
       "        <script>netpixi.call('icoV5v4tdj4GxFRhxnL3Sr', 'dXk3a4tqEjFijUrzxfv563', 'changeGraph', 'eyJpZCI6IDEyMiwgInR5cGUiOiAidmVydGV4IiwgInByb3BzIjogeyJzaXplIjogNDUuMzQ4ODM3MjA5MzAyMzI0fX0K');</script>\n",
       "    "
      ],
      "text/plain": [
       "<IPython.core.display.HTML object>"
      ]
     },
     "metadata": {},
     "output_type": "display_data"
    },
    {
     "data": {
      "text/html": [
       "\n",
       "        <div id=\"S6gvdQgs2PnqTqGtWCpgCH\"></div>\n",
       "        <script>netpixi.call('S6gvdQgs2PnqTqGtWCpgCH', 'dXk3a4tqEjFijUrzxfv563', 'changeGraph', 'eyJpZCI6IDEyMywgInR5cGUiOiAidmVydGV4IiwgInByb3BzIjogeyJzaXplIjogNDYuMzM3MjA5MzAyMzI1NTc2fX0K');</script>\n",
       "    "
      ],
      "text/plain": [
       "<IPython.core.display.HTML object>"
      ]
     },
     "metadata": {},
     "output_type": "display_data"
    },
    {
     "data": {
      "text/html": [
       "\n",
       "        <div id=\"jPtispgSZN8gEr5ZFkR84j\"></div>\n",
       "        <script>netpixi.call('jPtispgSZN8gEr5ZFkR84j', 'dXk3a4tqEjFijUrzxfv563', 'changeGraph', 'eyJpZCI6IDEyNCwgInR5cGUiOiAidmVydGV4IiwgInByb3BzIjogeyJzaXplIjogNDkuNTkzMDIzMjU1ODEzOTU0fX0K');</script>\n",
       "    "
      ],
      "text/plain": [
       "<IPython.core.display.HTML object>"
      ]
     },
     "metadata": {},
     "output_type": "display_data"
    },
    {
     "data": {
      "text/html": [
       "\n",
       "        <div id=\"HtoBomTCrgr6UZWNW58CoN\"></div>\n",
       "        <script>netpixi.call('HtoBomTCrgr6UZWNW58CoN', 'dXk3a4tqEjFijUrzxfv563', 'changeGraph', 'eyJpZCI6IDEyNSwgInR5cGUiOiAidmVydGV4IiwgInByb3BzIjogeyJzaXplIjogNDkuODgzNzIwOTMwMjMyNTU2fX0K');</script>\n",
       "    "
      ],
      "text/plain": [
       "<IPython.core.display.HTML object>"
      ]
     },
     "metadata": {},
     "output_type": "display_data"
    },
    {
     "data": {
      "text/html": [
       "\n",
       "        <div id=\"3eUAamgcXvm2uLhDuCUaSG\"></div>\n",
       "        <script>netpixi.call('3eUAamgcXvm2uLhDuCUaSG', 'dXk3a4tqEjFijUrzxfv563', 'changeGraph', 'eyJpZCI6IDEyNiwgInR5cGUiOiAidmVydGV4IiwgInByb3BzIjogeyJzaXplIjogMTAuODkxODEyODY1NDk3MDc3fX0K');</script>\n",
       "    "
      ],
      "text/plain": [
       "<IPython.core.display.HTML object>"
      ]
     },
     "metadata": {},
     "output_type": "display_data"
    },
    {
     "data": {
      "text/html": [
       "\n",
       "        <div id=\"dnGyHGghwPGjFosB5mxuhb\"></div>\n",
       "        <script>netpixi.call('dnGyHGghwPGjFosB5mxuhb', 'dXk3a4tqEjFijUrzxfv563', 'changeGraph', 'eyJpZCI6IDEyNywgInR5cGUiOiAidmVydGV4IiwgInByb3BzIjogeyJzaXplIjogNDguNDMwMjMyNTU4MTM5NTR9fQo=');</script>\n",
       "    "
      ],
      "text/plain": [
       "<IPython.core.display.HTML object>"
      ]
     },
     "metadata": {},
     "output_type": "display_data"
    },
    {
     "data": {
      "text/html": [
       "\n",
       "        <div id=\"BjPLgXUvR7vHu3Sk4SSzGo\"></div>\n",
       "        <script>netpixi.call('BjPLgXUvR7vHu3Sk4SSzGo', 'dXk3a4tqEjFijUrzxfv563', 'changeGraph', 'eyJpZCI6IDEyOCwgInR5cGUiOiAidmVydGV4IiwgInByb3BzIjogeyJzaXplIjogNDAuOTg4MzcyMDkzMDIzMjZ9fQo=');</script>\n",
       "    "
      ],
      "text/plain": [
       "<IPython.core.display.HTML object>"
      ]
     },
     "metadata": {},
     "output_type": "display_data"
    },
    {
     "data": {
      "text/html": [
       "\n",
       "        <div id=\"PsbGMcwEqQHuwKWdnq97Q7\"></div>\n",
       "        <script>netpixi.call('PsbGMcwEqQHuwKWdnq97Q7', 'dXk3a4tqEjFijUrzxfv563', 'changeGraph', 'eyJpZCI6IDEyOSwgInR5cGUiOiAidmVydGV4IiwgInByb3BzIjogeyJzaXplIjogNDcuMzgzNzIwOTMwMjMyNTU2fX0K');</script>\n",
       "    "
      ],
      "text/plain": [
       "<IPython.core.display.HTML object>"
      ]
     },
     "metadata": {},
     "output_type": "display_data"
    },
    {
     "data": {
      "text/html": [
       "\n",
       "        <div id=\"JdJrqEprJznem48VPU3Wqv\"></div>\n",
       "        <script>netpixi.call('JdJrqEprJznem48VPU3Wqv', 'dXk3a4tqEjFijUrzxfv563', 'changeGraph', 'eyJpZCI6IDEzMCwgInR5cGUiOiAidmVydGV4IiwgInByb3BzIjogeyJzaXplIjogMTkuNzIyMjIyMjIyMjIyMjJ9fQo=');</script>\n",
       "    "
      ],
      "text/plain": [
       "<IPython.core.display.HTML object>"
      ]
     },
     "metadata": {},
     "output_type": "display_data"
    },
    {
     "data": {
      "text/html": [
       "\n",
       "        <div id=\"6BzWgSbUB8WU6BPL8XZjAu\"></div>\n",
       "        <script>netpixi.call('6BzWgSbUB8WU6BPL8XZjAu', 'dXk3a4tqEjFijUrzxfv563', 'changeGraph', 'eyJpZCI6IDEzMSwgInR5cGUiOiAidmVydGV4IiwgInByb3BzIjogeyJzaXplIjogNDkuOTQxODYwNDY1MTE2Mjh9fQo=');</script>\n",
       "    "
      ],
      "text/plain": [
       "<IPython.core.display.HTML object>"
      ]
     },
     "metadata": {},
     "output_type": "display_data"
    },
    {
     "data": {
      "text/html": [
       "\n",
       "        <div id=\"XQYMBGuUJHiZt6AMnN9Pyv\"></div>\n",
       "        <script>netpixi.call('XQYMBGuUJHiZt6AMnN9Pyv', 'dXk3a4tqEjFijUrzxfv563', 'changeGraph', 'eyJpZCI6IDEzMiwgInR5cGUiOiAidmVydGV4IiwgInByb3BzIjogeyJzaXplIjogNDguNDg4MzcyMDkzMDIzMjV9fQo=');</script>\n",
       "    "
      ],
      "text/plain": [
       "<IPython.core.display.HTML object>"
      ]
     },
     "metadata": {},
     "output_type": "display_data"
    },
    {
     "data": {
      "text/html": [
       "\n",
       "        <div id=\"JxgdQDJLKxtFNAYD8v7jyF\"></div>\n",
       "        <script>netpixi.call('JxgdQDJLKxtFNAYD8v7jyF', 'dXk3a4tqEjFijUrzxfv563', 'changeGraph', 'eyJpZCI6IDEzMywgInR5cGUiOiAidmVydGV4IiwgInByb3BzIjogeyJzaXplIjogMTguMDg0Nzk1MzIxNjM3NDN9fQo=');</script>\n",
       "    "
      ],
      "text/plain": [
       "<IPython.core.display.HTML object>"
      ]
     },
     "metadata": {},
     "output_type": "display_data"
    },
    {
     "data": {
      "text/html": [
       "\n",
       "        <div id=\"mLatDakGotQTmzzAQVgU4N\"></div>\n",
       "        <script>netpixi.call('mLatDakGotQTmzzAQVgU4N', 'dXk3a4tqEjFijUrzxfv563', 'changeGraph', 'eyJpZCI6IDEzNCwgInR5cGUiOiAidmVydGV4IiwgInByb3BzIjogeyJzaXplIjogMTguODAxMTY5NTkwNjQzMjc2fX0K');</script>\n",
       "    "
      ],
      "text/plain": [
       "<IPython.core.display.HTML object>"
      ]
     },
     "metadata": {},
     "output_type": "display_data"
    },
    {
     "data": {
      "text/html": [
       "\n",
       "        <div id=\"MbnB5c7EaEd9RGvWskwZgj\"></div>\n",
       "        <script>netpixi.call('MbnB5c7EaEd9RGvWskwZgj', 'dXk3a4tqEjFijUrzxfv563', 'changeGraph', 'eyJpZCI6IDEzNSwgInR5cGUiOiAidmVydGV4IiwgInByb3BzIjogeyJzaXplIjogMTguNDk0MTUyMDQ2NzgzNjI2fX0K');</script>\n",
       "    "
      ],
      "text/plain": [
       "<IPython.core.display.HTML object>"
      ]
     },
     "metadata": {},
     "output_type": "display_data"
    },
    {
     "data": {
      "text/html": [
       "\n",
       "        <div id=\"hsNNSn7n6LEwMtKZVA4Uge\"></div>\n",
       "        <script>netpixi.call('hsNNSn7n6LEwMtKZVA4Uge', 'dXk3a4tqEjFijUrzxfv563', 'changeGraph', 'eyJpZCI6IDEzNiwgInR5cGUiOiAidmVydGV4IiwgInByb3BzIjogeyJzaXplIjogNDIuMjA5MzAyMzI1NTgxNH19Cg==');</script>\n",
       "    "
      ],
      "text/plain": [
       "<IPython.core.display.HTML object>"
      ]
     },
     "metadata": {},
     "output_type": "display_data"
    },
    {
     "data": {
      "text/html": [
       "\n",
       "        <div id=\"GBJrTSJhsZYjzTDr3ciwVN\"></div>\n",
       "        <script>netpixi.call('GBJrTSJhsZYjzTDr3ciwVN', 'dXk3a4tqEjFijUrzxfv563', 'changeGraph', 'eyJpZCI6IDEzNywgInR5cGUiOiAidmVydGV4IiwgInByb3BzIjogeyJzaXplIjogNDEuMTA0NjUxMTYyNzkwN319Cg==');</script>\n",
       "    "
      ],
      "text/plain": [
       "<IPython.core.display.HTML object>"
      ]
     },
     "metadata": {},
     "output_type": "display_data"
    },
    {
     "data": {
      "text/html": [
       "\n",
       "        <div id=\"A2MX8a8WxWvx2MCEe5qeCQ\"></div>\n",
       "        <script>netpixi.call('A2MX8a8WxWvx2MCEe5qeCQ', 'dXk3a4tqEjFijUrzxfv563', 'changeGraph', 'eyJpZCI6IDEzOCwgInR5cGUiOiAidmVydGV4IiwgInByb3BzIjogeyJzaXplIjogMTkuNjQ5MTIyODA3MDE3NTR9fQo=');</script>\n",
       "    "
      ],
      "text/plain": [
       "<IPython.core.display.HTML object>"
      ]
     },
     "metadata": {},
     "output_type": "display_data"
    },
    {
     "data": {
      "text/html": [
       "\n",
       "        <div id=\"JppG8nf7B2sgHTCitJ4Adr\"></div>\n",
       "        <script>netpixi.call('JppG8nf7B2sgHTCitJ4Adr', 'dXk3a4tqEjFijUrzxfv563', 'changeGraph', 'eyJpZCI6IDEzOSwgInR5cGUiOiAidmVydGV4IiwgInByb3BzIjogeyJzaXplIjogNDUuNDA2OTc2NzQ0MTg2MDQ2fX0K');</script>\n",
       "    "
      ],
      "text/plain": [
       "<IPython.core.display.HTML object>"
      ]
     },
     "metadata": {},
     "output_type": "display_data"
    },
    {
     "data": {
      "text/html": [
       "\n",
       "        <div id=\"HeNtWgUSEKgrLZHV8iV5N5\"></div>\n",
       "        <script>netpixi.call('HeNtWgUSEKgrLZHV8iV5N5', 'dXk3a4tqEjFijUrzxfv563', 'changeGraph', 'eyJpZCI6IDE0MCwgInR5cGUiOiAidmVydGV4IiwgInByb3BzIjogeyJzaXplIjogNDIuOTA2OTc2NzQ0MTg2MDQ2fX0K');</script>\n",
       "    "
      ],
      "text/plain": [
       "<IPython.core.display.HTML object>"
      ]
     },
     "metadata": {},
     "output_type": "display_data"
    },
    {
     "data": {
      "text/html": [
       "\n",
       "        <div id=\"oEKrqCGpuLDxDPCpejYWEa\"></div>\n",
       "        <script>netpixi.call('oEKrqCGpuLDxDPCpejYWEa', 'dXk3a4tqEjFijUrzxfv563', 'changeGraph', 'eyJpZCI6IDE0MSwgInR5cGUiOiAidmVydGV4IiwgInByb3BzIjogeyJzaXplIjogNDkuMjQ0MTg2MDQ2NTExNjN9fQo=');</script>\n",
       "    "
      ],
      "text/plain": [
       "<IPython.core.display.HTML object>"
      ]
     },
     "metadata": {},
     "output_type": "display_data"
    },
    {
     "data": {
      "text/html": [
       "\n",
       "        <div id=\"2e7g8PxkKYjeYpGdUri5kM\"></div>\n",
       "        <script>netpixi.call('2e7g8PxkKYjeYpGdUri5kM', 'dXk3a4tqEjFijUrzxfv563', 'changeGraph', 'eyJpZCI6IDE0MiwgInR5cGUiOiAidmVydGV4IiwgInByb3BzIjogeyJzaXplIjogNDUuNDY1MTE2Mjc5MDY5Nzd9fQo=');</script>\n",
       "    "
      ],
      "text/plain": [
       "<IPython.core.display.HTML object>"
      ]
     },
     "metadata": {},
     "output_type": "display_data"
    },
    {
     "data": {
      "text/html": [
       "\n",
       "        <div id=\"GQNUnfGinbZ3otY49WmiwN\"></div>\n",
       "        <script>netpixi.call('GQNUnfGinbZ3otY49WmiwN', 'dXk3a4tqEjFijUrzxfv563', 'changeGraph', 'eyJpZCI6IDE0MywgInR5cGUiOiAidmVydGV4IiwgInByb3BzIjogeyJzaXplIjogMTkuNTQ2NzgzNjI1NzMwOTk1fX0K');</script>\n",
       "    "
      ],
      "text/plain": [
       "<IPython.core.display.HTML object>"
      ]
     },
     "metadata": {},
     "output_type": "display_data"
    },
    {
     "data": {
      "text/html": [
       "\n",
       "        <div id=\"3xXU3p7BsSiWLNNgufX6pb\"></div>\n",
       "        <script>netpixi.call('3xXU3p7BsSiWLNNgufX6pb', 'dXk3a4tqEjFijUrzxfv563', 'changeGraph', 'eyJpZCI6IDE0NCwgInR5cGUiOiAidmVydGV4IiwgInByb3BzIjogeyJzaXplIjogNDkuMzYwNDY1MTE2Mjc5MDY2fX0K');</script>\n",
       "    "
      ],
      "text/plain": [
       "<IPython.core.display.HTML object>"
      ]
     },
     "metadata": {},
     "output_type": "display_data"
    },
    {
     "data": {
      "text/html": [
       "\n",
       "        <div id=\"V3WynXNVHgynPiczRdAH3o\"></div>\n",
       "        <script>netpixi.call('V3WynXNVHgynPiczRdAH3o', 'dXk3a4tqEjFijUrzxfv563', 'changeGraph', 'eyJpZCI6IDE0NSwgInR5cGUiOiAidmVydGV4IiwgInByb3BzIjogeyJzaXplIjogNDQuNDE4NjA0NjUxMTYyNzl9fQo=');</script>\n",
       "    "
      ],
      "text/plain": [
       "<IPython.core.display.HTML object>"
      ]
     },
     "metadata": {},
     "output_type": "display_data"
    },
    {
     "data": {
      "text/html": [
       "\n",
       "        <div id=\"gSDAxqZjEska7KbVg5jpmt\"></div>\n",
       "        <script>netpixi.call('gSDAxqZjEska7KbVg5jpmt', 'dXk3a4tqEjFijUrzxfv563', 'changeGraph', 'eyJpZCI6IDE0NiwgInR5cGUiOiAidmVydGV4IiwgInByb3BzIjogeyJzaXplIjogMTMuNTY3MjUxNDYxOTg4MzA0fX0K');</script>\n",
       "    "
      ],
      "text/plain": [
       "<IPython.core.display.HTML object>"
      ]
     },
     "metadata": {},
     "output_type": "display_data"
    },
    {
     "data": {
      "text/html": [
       "\n",
       "        <div id=\"cJuNbm9EJ7r9nBiDsE5tKo\"></div>\n",
       "        <script>netpixi.call('cJuNbm9EJ7r9nBiDsE5tKo', 'dXk3a4tqEjFijUrzxfv563', 'changeGraph', 'eyJpZCI6IDE0NywgInR5cGUiOiAidmVydGV4IiwgInByb3BzIjogeyJzaXplIjogMTcuNjc1NDM4NTk2NDkxMjI2fX0K');</script>\n",
       "    "
      ],
      "text/plain": [
       "<IPython.core.display.HTML object>"
      ]
     },
     "metadata": {},
     "output_type": "display_data"
    },
    {
     "data": {
      "text/html": [
       "\n",
       "        <div id=\"69UqmxBy8uFxq6Wxm4vo2D\"></div>\n",
       "        <script>netpixi.call('69UqmxBy8uFxq6Wxm4vo2D', 'dXk3a4tqEjFijUrzxfv563', 'changeGraph', 'eyJpZCI6IDE0OCwgInR5cGUiOiAidmVydGV4IiwgInByb3BzIjogeyJzaXplIjogMTcuNTI5MjM5NzY2MDgxODcyfX0K');</script>\n",
       "    "
      ],
      "text/plain": [
       "<IPython.core.display.HTML object>"
      ]
     },
     "metadata": {},
     "output_type": "display_data"
    },
    {
     "data": {
      "text/html": [
       "\n",
       "        <div id=\"9DEBx9cxn4Wv9NKQuD7meu\"></div>\n",
       "        <script>netpixi.call('9DEBx9cxn4Wv9NKQuD7meu', 'dXk3a4tqEjFijUrzxfv563', 'changeGraph', 'eyJpZCI6IDE0OSwgInR5cGUiOiAidmVydGV4IiwgInByb3BzIjogeyJzaXplIjogMTQuMTA4MTg3MTM0NTAyOTIzfX0K');</script>\n",
       "    "
      ],
      "text/plain": [
       "<IPython.core.display.HTML object>"
      ]
     },
     "metadata": {},
     "output_type": "display_data"
    },
    {
     "data": {
      "text/html": [
       "\n",
       "        <div id=\"BmWV8VAVxTCjUnVNKP4iiZ\"></div>\n",
       "        <script>netpixi.call('BmWV8VAVxTCjUnVNKP4iiZ', 'dXk3a4tqEjFijUrzxfv563', 'changeGraph', 'eyJpZCI6IDE1MCwgInR5cGUiOiAidmVydGV4IiwgInByb3BzIjogeyJzaXplIjogMTAuNDA5MzU2NzI1MTQ2MTk4fX0K');</script>\n",
       "    "
      ],
      "text/plain": [
       "<IPython.core.display.HTML object>"
      ]
     },
     "metadata": {},
     "output_type": "display_data"
    },
    {
     "data": {
      "text/html": [
       "\n",
       "        <div id=\"JzX42TJi4oWa6b9xUBvxUj\"></div>\n",
       "        <script>netpixi.call('JzX42TJi4oWa6b9xUBvxUj', 'dXk3a4tqEjFijUrzxfv563', 'changeGraph', 'eyJpZCI6IDE1MSwgInR5cGUiOiAidmVydGV4IiwgInByb3BzIjogeyJzaXplIjogMTYuMTg0MjEwNTI2MzE1Nzg4fX0K');</script>\n",
       "    "
      ],
      "text/plain": [
       "<IPython.core.display.HTML object>"
      ]
     },
     "metadata": {},
     "output_type": "display_data"
    },
    {
     "data": {
      "text/html": [
       "\n",
       "        <div id=\"QAiXPa76ZCaUffDQ5bHeiL\"></div>\n",
       "        <script>netpixi.call('QAiXPa76ZCaUffDQ5bHeiL', 'dXk3a4tqEjFijUrzxfv563', 'changeGraph', 'eyJpZCI6IDE1MiwgInR5cGUiOiAidmVydGV4IiwgInByb3BzIjogeyJzaXplIjogMTEuMjU3MzA5OTQxNTIwNDY4fX0K');</script>\n",
       "    "
      ],
      "text/plain": [
       "<IPython.core.display.HTML object>"
      ]
     },
     "metadata": {},
     "output_type": "display_data"
    },
    {
     "data": {
      "text/html": [
       "\n",
       "        <div id=\"LVaZoEo6oTjrBxXJziDSa6\"></div>\n",
       "        <script>netpixi.call('LVaZoEo6oTjrBxXJziDSa6', 'dXk3a4tqEjFijUrzxfv563', 'changeGraph', 'eyJpZCI6IDE1MywgInR5cGUiOiAidmVydGV4IiwgInByb3BzIjogeyJzaXplIjogMTYuOTU5MDY0MzI3NDg1Mzh9fQo=');</script>\n",
       "    "
      ],
      "text/plain": [
       "<IPython.core.display.HTML object>"
      ]
     },
     "metadata": {},
     "output_type": "display_data"
    },
    {
     "data": {
      "text/html": [
       "\n",
       "        <div id=\"ETGvHAnPqWHFDaRSqkYYEM\"></div>\n",
       "        <script>netpixi.call('ETGvHAnPqWHFDaRSqkYYEM', 'dXk3a4tqEjFijUrzxfv563', 'changeGraph', 'eyJpZCI6IDE1NCwgInR5cGUiOiAidmVydGV4IiwgInByb3BzIjogeyJzaXplIjogMTEuMjQyNjkwMDU4NDc5NTMyfX0K');</script>\n",
       "    "
      ],
      "text/plain": [
       "<IPython.core.display.HTML object>"
      ]
     },
     "metadata": {},
     "output_type": "display_data"
    },
    {
     "data": {
      "text/html": [
       "\n",
       "        <div id=\"KMLUP9YWT7X94fFTkW3JbG\"></div>\n",
       "        <script>netpixi.call('KMLUP9YWT7X94fFTkW3JbG', 'dXk3a4tqEjFijUrzxfv563', 'changeGraph', 'eyJpZCI6IDE1NSwgInR5cGUiOiAidmVydGV4IiwgInByb3BzIjogeyJzaXplIjogMTcuNjAyMzM5MTgxMjg2NTV9fQo=');</script>\n",
       "    "
      ],
      "text/plain": [
       "<IPython.core.display.HTML object>"
      ]
     },
     "metadata": {},
     "output_type": "display_data"
    },
    {
     "data": {
      "text/html": [
       "\n",
       "        <div id=\"SWzz3J4SyVjyawVCkAMLCX\"></div>\n",
       "        <script>netpixi.call('SWzz3J4SyVjyawVCkAMLCX', 'dXk3a4tqEjFijUrzxfv563', 'changeGraph', 'eyJpZCI6IDE1NiwgInR5cGUiOiAidmVydGV4IiwgInByb3BzIjogeyJzaXplIjogNDMuMjU1ODEzOTUzNDg4Mzd9fQo=');</script>\n",
       "    "
      ],
      "text/plain": [
       "<IPython.core.display.HTML object>"
      ]
     },
     "metadata": {},
     "output_type": "display_data"
    },
    {
     "data": {
      "text/html": [
       "\n",
       "        <div id=\"fLQNiv8GceazU3wyog4pnq\"></div>\n",
       "        <script>netpixi.call('fLQNiv8GceazU3wyog4pnq', 'dXk3a4tqEjFijUrzxfv563', 'changeGraph', 'eyJpZCI6IDE1NywgInR5cGUiOiAidmVydGV4IiwgInByb3BzIjogeyJzaXplIjogMTAuNTcwMTc1NDM4NTk2NDkxfX0K');</script>\n",
       "    "
      ],
      "text/plain": [
       "<IPython.core.display.HTML object>"
      ]
     },
     "metadata": {},
     "output_type": "display_data"
    },
    {
     "data": {
      "text/html": [
       "\n",
       "        <div id=\"XXiUdBFsvW3qot4jRPBqeJ\"></div>\n",
       "        <script>netpixi.call('XXiUdBFsvW3qot4jRPBqeJ', 'dXk3a4tqEjFijUrzxfv563', 'changeGraph', 'eyJpZCI6IDE1OCwgInR5cGUiOiAidmVydGV4IiwgInByb3BzIjogeyJzaXplIjogMTguMjg5NDczNjg0MjEwNTI3fX0K');</script>\n",
       "    "
      ],
      "text/plain": [
       "<IPython.core.display.HTML object>"
      ]
     },
     "metadata": {},
     "output_type": "display_data"
    },
    {
     "data": {
      "text/html": [
       "\n",
       "        <div id=\"BSifB9tunmA8sygckQqqpE\"></div>\n",
       "        <script>netpixi.call('BSifB9tunmA8sygckQqqpE', 'dXk3a4tqEjFijUrzxfv563', 'changeGraph', 'eyJpZCI6IDE1OSwgInR5cGUiOiAidmVydGV4IiwgInByb3BzIjogeyJzaXplIjogMTIuMjY2MDgxODcxMzQ1MDN9fQo=');</script>\n",
       "    "
      ],
      "text/plain": [
       "<IPython.core.display.HTML object>"
      ]
     },
     "metadata": {},
     "output_type": "display_data"
    },
    {
     "data": {
      "text/html": [
       "\n",
       "        <div id=\"ChCKCJMQDDQHiZDbBT4tk6\"></div>\n",
       "        <script>netpixi.call('ChCKCJMQDDQHiZDbBT4tk6', 'dXk3a4tqEjFijUrzxfv563', 'changeGraph', 'eyJpZCI6IDE2MCwgInR5cGUiOiAidmVydGV4IiwgInByb3BzIjogeyJzaXplIjogMTkuNDU5MDY0MzI3NDg1Mzh9fQo=');</script>\n",
       "    "
      ],
      "text/plain": [
       "<IPython.core.display.HTML object>"
      ]
     },
     "metadata": {},
     "output_type": "display_data"
    },
    {
     "data": {
      "text/html": [
       "\n",
       "        <div id=\"YhsTB9fvWRj7sbLnYkyrYw\"></div>\n",
       "        <script>netpixi.call('YhsTB9fvWRj7sbLnYkyrYw', 'dXk3a4tqEjFijUrzxfv563', 'changeGraph', 'eyJpZCI6IDE2MSwgInR5cGUiOiAidmVydGV4IiwgInByb3BzIjogeyJzaXplIjogNDEuNjI3OTA2OTc2NzQ0MTg1fX0K');</script>\n",
       "    "
      ],
      "text/plain": [
       "<IPython.core.display.HTML object>"
      ]
     },
     "metadata": {},
     "output_type": "display_data"
    },
    {
     "data": {
      "text/html": [
       "\n",
       "        <div id=\"jXwwQhEamPDD9SewhzZrEu\"></div>\n",
       "        <script>netpixi.call('jXwwQhEamPDD9SewhzZrEu', 'dXk3a4tqEjFijUrzxfv563', 'changeGraph', 'eyJpZCI6IDE2MiwgInR5cGUiOiAidmVydGV4IiwgInByb3BzIjogeyJzaXplIjogMTguODE1Nzg5NDczNjg0MjEyfX0K');</script>\n",
       "    "
      ],
      "text/plain": [
       "<IPython.core.display.HTML object>"
      ]
     },
     "metadata": {},
     "output_type": "display_data"
    },
    {
     "data": {
      "text/html": [
       "\n",
       "        <div id=\"kT8AfpAA284vz9gogKwTjR\"></div>\n",
       "        <script>netpixi.call('kT8AfpAA284vz9gogKwTjR', 'dXk3a4tqEjFijUrzxfv563', 'changeGraph', 'eyJpZCI6IDE2MywgInR5cGUiOiAidmVydGV4IiwgInByb3BzIjogeyJzaXplIjogMTEuNjM3NDI2OTAwNTg0Nzk2fX0K');</script>\n",
       "    "
      ],
      "text/plain": [
       "<IPython.core.display.HTML object>"
      ]
     },
     "metadata": {},
     "output_type": "display_data"
    },
    {
     "data": {
      "text/html": [
       "\n",
       "        <div id=\"n7omg57FWpeLMofuXBWCo5\"></div>\n",
       "        <script>netpixi.call('n7omg57FWpeLMofuXBWCo5', 'dXk3a4tqEjFijUrzxfv563', 'changeGraph', 'eyJpZCI6IDE2NCwgInR5cGUiOiAidmVydGV4IiwgInByb3BzIjogeyJzaXplIjogMTAuODQ3OTUzMjE2Mzc0MjY4fX0K');</script>\n",
       "    "
      ],
      "text/plain": [
       "<IPython.core.display.HTML object>"
      ]
     },
     "metadata": {},
     "output_type": "display_data"
    },
    {
     "data": {
      "text/html": [
       "\n",
       "        <div id=\"bkwJXTMnqrV9Q6UAoTYfMG\"></div>\n",
       "        <script>netpixi.call('bkwJXTMnqrV9Q6UAoTYfMG', 'dXk3a4tqEjFijUrzxfv563', 'changeGraph', 'eyJpZCI6IDE2NSwgInR5cGUiOiAidmVydGV4IiwgInByb3BzIjogeyJzaXplIjogMTMuMzE4NzEzNDUwMjkyMzk4fX0K');</script>\n",
       "    "
      ],
      "text/plain": [
       "<IPython.core.display.HTML object>"
      ]
     },
     "metadata": {},
     "output_type": "display_data"
    },
    {
     "data": {
      "text/html": [
       "\n",
       "        <div id=\"ATj4sxZbmh3gV4Qx3tG3fm\"></div>\n",
       "        <script>netpixi.call('ATj4sxZbmh3gV4Qx3tG3fm', 'dXk3a4tqEjFijUrzxfv563', 'changeGraph', 'eyJpZCI6IDE2NiwgInR5cGUiOiAidmVydGV4IiwgInByb3BzIjogeyJzaXplIjogMTcuMDQ2NzgzNjI1NzMwOTk1fX0K');</script>\n",
       "    "
      ],
      "text/plain": [
       "<IPython.core.display.HTML object>"
      ]
     },
     "metadata": {},
     "output_type": "display_data"
    },
    {
     "data": {
      "text/html": [
       "\n",
       "        <div id=\"XYttnGUwQUZKqB9btqEQ2j\"></div>\n",
       "        <script>netpixi.call('XYttnGUwQUZKqB9btqEQ2j', 'dXk3a4tqEjFijUrzxfv563', 'changeGraph', 'eyJpZCI6IDE2NywgInR5cGUiOiAidmVydGV4IiwgInByb3BzIjogeyJzaXplIjogMTcuMDc2MDIzMzkxODEyODY0fX0K');</script>\n",
       "    "
      ],
      "text/plain": [
       "<IPython.core.display.HTML object>"
      ]
     },
     "metadata": {},
     "output_type": "display_data"
    },
    {
     "data": {
      "text/html": [
       "\n",
       "        <div id=\"2HpxZ2PU9xKj5FqjxozoZ5\"></div>\n",
       "        <script>netpixi.call('2HpxZ2PU9xKj5FqjxozoZ5', 'dXk3a4tqEjFijUrzxfv563', 'changeGraph', 'eyJpZCI6IDE2OCwgInR5cGUiOiAidmVydGV4IiwgInByb3BzIjogeyJzaXplIjogNDQuMDExNjI3OTA2OTc2NzR9fQo=');</script>\n",
       "    "
      ],
      "text/plain": [
       "<IPython.core.display.HTML object>"
      ]
     },
     "metadata": {},
     "output_type": "display_data"
    },
    {
     "data": {
      "text/html": [
       "\n",
       "        <div id=\"SQmetL3oDrWJ4PkYuvJXvz\"></div>\n",
       "        <script>netpixi.call('SQmetL3oDrWJ4PkYuvJXvz', 'dXk3a4tqEjFijUrzxfv563', 'changeGraph', 'eyJpZCI6IDE2OSwgInR5cGUiOiAidmVydGV4IiwgInByb3BzIjogeyJzaXplIjogNDMuMTk3Njc0NDE4NjA0NjV9fQo=');</script>\n",
       "    "
      ],
      "text/plain": [
       "<IPython.core.display.HTML object>"
      ]
     },
     "metadata": {},
     "output_type": "display_data"
    },
    {
     "data": {
      "text/html": [
       "\n",
       "        <div id=\"bqoBem2zE7aHnPyL59vQKT\"></div>\n",
       "        <script>netpixi.call('bqoBem2zE7aHnPyL59vQKT', 'dXk3a4tqEjFijUrzxfv563', 'changeGraph', 'eyJpZCI6IDE3MCwgInR5cGUiOiAidmVydGV4IiwgInByb3BzIjogeyJzaXplIjogMTEuMTU0OTcwNzYwMjMzOTE5fX0K');</script>\n",
       "    "
      ],
      "text/plain": [
       "<IPython.core.display.HTML object>"
      ]
     },
     "metadata": {},
     "output_type": "display_data"
    },
    {
     "data": {
      "text/html": [
       "\n",
       "        <div id=\"WixhYrV56e2t2s2mR5GBJy\"></div>\n",
       "        <script>netpixi.call('WixhYrV56e2t2s2mR5GBJy', 'dXk3a4tqEjFijUrzxfv563', 'changeGraph', 'eyJpZCI6IDE3MSwgInR5cGUiOiAidmVydGV4IiwgInByb3BzIjogeyJzaXplIjogMTAuOTIxMDUyNjMxNTc4OTQ3fX0K');</script>\n",
       "    "
      ],
      "text/plain": [
       "<IPython.core.display.HTML object>"
      ]
     },
     "metadata": {},
     "output_type": "display_data"
    },
    {
     "data": {
      "text/html": [
       "\n",
       "        <div id=\"8nh6LnfQVmxeykv4uPpRtd\"></div>\n",
       "        <script>netpixi.call('8nh6LnfQVmxeykv4uPpRtd', 'dXk3a4tqEjFijUrzxfv563', 'changeGraph', 'eyJpZCI6IDE3MiwgInR5cGUiOiAidmVydGV4IiwgInByb3BzIjogeyJzaXplIjogNDcuMDkzMDIzMjU1ODEzOTU0fX0K');</script>\n",
       "    "
      ],
      "text/plain": [
       "<IPython.core.display.HTML object>"
      ]
     },
     "metadata": {},
     "output_type": "display_data"
    },
    {
     "data": {
      "text/html": [
       "\n",
       "        <div id=\"7Jjgg7xQz9ye228FBB4roM\"></div>\n",
       "        <script>netpixi.call('7Jjgg7xQz9ye228FBB4roM', 'dXk3a4tqEjFijUrzxfv563', 'changeGraph', 'eyJpZCI6IDE3MywgInR5cGUiOiAidmVydGV4IiwgInByb3BzIjogeyJzaXplIjogNDUuNTIzMjU1ODEzOTUzNDl9fQo=');</script>\n",
       "    "
      ],
      "text/plain": [
       "<IPython.core.display.HTML object>"
      ]
     },
     "metadata": {},
     "output_type": "display_data"
    },
    {
     "data": {
      "text/html": [
       "\n",
       "        <div id=\"fZ68d5VS7tqmnUS2j5M7B5\"></div>\n",
       "        <script>netpixi.call('fZ68d5VS7tqmnUS2j5M7B5', 'dXk3a4tqEjFijUrzxfv563', 'changeGraph', 'eyJpZCI6IDE3NCwgInR5cGUiOiAidmVydGV4IiwgInByb3BzIjogeyJzaXplIjogMTAuNDM4NTk2NDkxMjI4MDd9fQo=');</script>\n",
       "    "
      ],
      "text/plain": [
       "<IPython.core.display.HTML object>"
      ]
     },
     "metadata": {},
     "output_type": "display_data"
    },
    {
     "data": {
      "text/html": [
       "\n",
       "        <div id=\"YNKD4BCvnthZPj7sb6EF6b\"></div>\n",
       "        <script>netpixi.call('YNKD4BCvnthZPj7sb6EF6b', 'dXk3a4tqEjFijUrzxfv563', 'changeGraph', 'eyJpZCI6IDE3NSwgInR5cGUiOiAidmVydGV4IiwgInByb3BzIjogeyJzaXplIjogNDguMTk3Njc0NDE4NjA0NjV9fQo=');</script>\n",
       "    "
      ],
      "text/plain": [
       "<IPython.core.display.HTML object>"
      ]
     },
     "metadata": {},
     "output_type": "display_data"
    },
    {
     "data": {
      "text/html": [
       "\n",
       "        <div id=\"cjQcYw98i8iA4SuAoWXMWv\"></div>\n",
       "        <script>netpixi.call('cjQcYw98i8iA4SuAoWXMWv', 'dXk3a4tqEjFijUrzxfv563', 'changeGraph', 'eyJpZCI6IDE3NiwgInR5cGUiOiAidmVydGV4IiwgInByb3BzIjogeyJzaXplIjogMTYuMDIzMzkxODEyODY1NDk4fX0K');</script>\n",
       "    "
      ],
      "text/plain": [
       "<IPython.core.display.HTML object>"
      ]
     },
     "metadata": {},
     "output_type": "display_data"
    },
    {
     "data": {
      "text/html": [
       "\n",
       "        <div id=\"BJsw9KEFcno2tAbyfXJ2rT\"></div>\n",
       "        <script>netpixi.call('BJsw9KEFcno2tAbyfXJ2rT', 'dXk3a4tqEjFijUrzxfv563', 'changeGraph', 'eyJpZCI6IDE3NywgInR5cGUiOiAidmVydGV4IiwgInByb3BzIjogeyJzaXplIjogMTguNzQyNjkwMDU4NDc5NTMyfX0K');</script>\n",
       "    "
      ],
      "text/plain": [
       "<IPython.core.display.HTML object>"
      ]
     },
     "metadata": {},
     "output_type": "display_data"
    },
    {
     "data": {
      "text/html": [
       "\n",
       "        <div id=\"KDUiobXsjUjTsviYdBNXPm\"></div>\n",
       "        <script>netpixi.call('KDUiobXsjUjTsviYdBNXPm', 'dXk3a4tqEjFijUrzxfv563', 'changeGraph', 'eyJpZCI6IDE3OCwgInR5cGUiOiAidmVydGV4IiwgInByb3BzIjogeyJzaXplIjogMTcuMjIyMjIyMjIyMjIyMjJ9fQo=');</script>\n",
       "    "
      ],
      "text/plain": [
       "<IPython.core.display.HTML object>"
      ]
     },
     "metadata": {},
     "output_type": "display_data"
    },
    {
     "data": {
      "text/html": [
       "\n",
       "        <div id=\"FLiPeKb7Qqsgg8QCZLxesj\"></div>\n",
       "        <script>netpixi.call('FLiPeKb7Qqsgg8QCZLxesj', 'dXk3a4tqEjFijUrzxfv563', 'changeGraph', 'eyJpZCI6IDE3OSwgInR5cGUiOiAidmVydGV4IiwgInByb3BzIjogeyJzaXplIjogNDkuNTM0ODgzNzIwOTMwMjN9fQo=');</script>\n",
       "    "
      ],
      "text/plain": [
       "<IPython.core.display.HTML object>"
      ]
     },
     "metadata": {},
     "output_type": "display_data"
    },
    {
     "data": {
      "text/html": [
       "\n",
       "        <div id=\"Y3g7CYFqo6nf3SjZZCYBMZ\"></div>\n",
       "        <script>netpixi.call('Y3g7CYFqo6nf3SjZZCYBMZ', 'dXk3a4tqEjFijUrzxfv563', 'changeGraph', 'eyJpZCI6IDE4MCwgInR5cGUiOiAidmVydGV4IiwgInByb3BzIjogeyJzaXplIjogNDYuMjIwOTMwMjMyNTU4MTR9fQo=');</script>\n",
       "    "
      ],
      "text/plain": [
       "<IPython.core.display.HTML object>"
      ]
     },
     "metadata": {},
     "output_type": "display_data"
    },
    {
     "data": {
      "text/html": [
       "\n",
       "        <div id=\"8XNbdW9TsvE4ppFRVry78r\"></div>\n",
       "        <script>netpixi.call('8XNbdW9TsvE4ppFRVry78r', 'dXk3a4tqEjFijUrzxfv563', 'changeGraph', 'eyJpZCI6IDE4MSwgInR5cGUiOiAidmVydGV4IiwgInByb3BzIjogeyJzaXplIjogNDkuNzY3NDQxODYwNDY1MTF9fQo=');</script>\n",
       "    "
      ],
      "text/plain": [
       "<IPython.core.display.HTML object>"
      ]
     },
     "metadata": {},
     "output_type": "display_data"
    },
    {
     "data": {
      "text/html": [
       "\n",
       "        <div id=\"WY4jLN6qMcvLgn5Gsfrh7q\"></div>\n",
       "        <script>netpixi.call('WY4jLN6qMcvLgn5Gsfrh7q', 'dXk3a4tqEjFijUrzxfv563', 'changeGraph', 'eyJpZCI6IDE4MiwgInR5cGUiOiAidmVydGV4IiwgInByb3BzIjogeyJzaXplIjogMTAuNzYwMjMzOTE4MTI4NjU1fX0K');</script>\n",
       "    "
      ],
      "text/plain": [
       "<IPython.core.display.HTML object>"
      ]
     },
     "metadata": {},
     "output_type": "display_data"
    },
    {
     "data": {
      "text/html": [
       "\n",
       "        <div id=\"krCNUwdqUBNmthPRYgkTLm\"></div>\n",
       "        <script>netpixi.call('krCNUwdqUBNmthPRYgkTLm', 'dXk3a4tqEjFijUrzxfv563', 'changeGraph', 'eyJpZCI6IDE4MywgInR5cGUiOiAidmVydGV4IiwgInByb3BzIjogeyJzaXplIjogMjAuMH19Cg==');</script>\n",
       "    "
      ],
      "text/plain": [
       "<IPython.core.display.HTML object>"
      ]
     },
     "metadata": {},
     "output_type": "display_data"
    },
    {
     "data": {
      "text/html": [
       "\n",
       "        <div id=\"fapsUgHBPw4riDFByAKPTu\"></div>\n",
       "        <script>netpixi.call('fapsUgHBPw4riDFByAKPTu', 'dXk3a4tqEjFijUrzxfv563', 'changeGraph', 'eyJpZCI6IDE4NCwgInR5cGUiOiAidmVydGV4IiwgInByb3BzIjogeyJzaXplIjogMTcuOTgyNDU2MTQwMzUwODc3fX0K');</script>\n",
       "    "
      ],
      "text/plain": [
       "<IPython.core.display.HTML object>"
      ]
     },
     "metadata": {},
     "output_type": "display_data"
    },
    {
     "data": {
      "text/html": [
       "\n",
       "        <div id=\"DZzv268gtCTpH4JhTAmnwr\"></div>\n",
       "        <script>netpixi.call('DZzv268gtCTpH4JhTAmnwr', 'dXk3a4tqEjFijUrzxfv563', 'changeGraph', 'eyJpZCI6IDE4NSwgInR5cGUiOiAidmVydGV4IiwgInByb3BzIjogeyJzaXplIjogMTYuODcxMzQ1MDI5MjM5NzY2fX0K');</script>\n",
       "    "
      ],
      "text/plain": [
       "<IPython.core.display.HTML object>"
      ]
     },
     "metadata": {},
     "output_type": "display_data"
    },
    {
     "data": {
      "text/html": [
       "\n",
       "        <div id=\"AjrJsCFk43ssmC6wBeeSnR\"></div>\n",
       "        <script>netpixi.call('AjrJsCFk43ssmC6wBeeSnR', 'dXk3a4tqEjFijUrzxfv563', 'changeGraph', 'eyJpZCI6IDE4NiwgInR5cGUiOiAidmVydGV4IiwgInByb3BzIjogeyJzaXplIjogMTcuODk0NzM2ODQyMTA1MjY0fX0K');</script>\n",
       "    "
      ],
      "text/plain": [
       "<IPython.core.display.HTML object>"
      ]
     },
     "metadata": {},
     "output_type": "display_data"
    },
    {
     "data": {
      "text/html": [
       "\n",
       "        <div id=\"Tw3HNS2ZycLDmJhxfY97gv\"></div>\n",
       "        <script>netpixi.call('Tw3HNS2ZycLDmJhxfY97gv', 'dXk3a4tqEjFijUrzxfv563', 'changeGraph', 'eyJpZCI6IDE4NywgInR5cGUiOiAidmVydGV4IiwgInByb3BzIjogeyJzaXplIjogNDAuODcyMDkzMDIzMjU1ODE1fX0K');</script>\n",
       "    "
      ],
      "text/plain": [
       "<IPython.core.display.HTML object>"
      ]
     },
     "metadata": {},
     "output_type": "display_data"
    },
    {
     "data": {
      "text/html": [
       "\n",
       "        <div id=\"Q8AF9ceW8GPZ6Rhd7ZEiRR\"></div>\n",
       "        <script>netpixi.call('Q8AF9ceW8GPZ6Rhd7ZEiRR', 'dXk3a4tqEjFijUrzxfv563', 'changeGraph', 'eyJpZCI6IDE4OCwgInR5cGUiOiAidmVydGV4IiwgInByb3BzIjogeyJzaXplIjogMTkuMTIyODA3MDE3NTQzODZ9fQo=');</script>\n",
       "    "
      ],
      "text/plain": [
       "<IPython.core.display.HTML object>"
      ]
     },
     "metadata": {},
     "output_type": "display_data"
    },
    {
     "data": {
      "text/html": [
       "\n",
       "        <div id=\"MCvpq64QRad5CdR96kd7hV\"></div>\n",
       "        <script>netpixi.call('MCvpq64QRad5CdR96kd7hV', 'dXk3a4tqEjFijUrzxfv563', 'changeGraph', 'eyJpZCI6IDE4OSwgInR5cGUiOiAidmVydGV4IiwgInByb3BzIjogeyJzaXplIjogMTcuNDI2OTAwNTg0Nzk1MzJ9fQo=');</script>\n",
       "    "
      ],
      "text/plain": [
       "<IPython.core.display.HTML object>"
      ]
     },
     "metadata": {},
     "output_type": "display_data"
    },
    {
     "data": {
      "text/html": [
       "\n",
       "        <div id=\"WiuTztS2Q2fiwMfDtXvbwd\"></div>\n",
       "        <script>netpixi.call('WiuTztS2Q2fiwMfDtXvbwd', 'dXk3a4tqEjFijUrzxfv563', 'changeGraph', 'eyJpZCI6IDE5MCwgInR5cGUiOiAidmVydGV4IiwgInByb3BzIjogeyJzaXplIjogMTYuMzc0MjY5MDA1ODQ3OTUzfX0K');</script>\n",
       "    "
      ],
      "text/plain": [
       "<IPython.core.display.HTML object>"
      ]
     },
     "metadata": {},
     "output_type": "display_data"
    },
    {
     "data": {
      "text/html": [
       "\n",
       "        <div id=\"nuq7JKD6K9pQjrSqqMp7sW\"></div>\n",
       "        <script>netpixi.call('nuq7JKD6K9pQjrSqqMp7sW', 'dXk3a4tqEjFijUrzxfv563', 'changeGraph', 'eyJpZCI6IDE5MSwgInR5cGUiOiAidmVydGV4IiwgInByb3BzIjogeyJzaXplIjogMTEuMDUyNjMxNTc4OTQ3MzY4fX0K');</script>\n",
       "    "
      ],
      "text/plain": [
       "<IPython.core.display.HTML object>"
      ]
     },
     "metadata": {},
     "output_type": "display_data"
    },
    {
     "data": {
      "text/html": [
       "\n",
       "        <div id=\"65N2U7uMiNQWJ9oqpH5iPF\"></div>\n",
       "        <script>netpixi.call('65N2U7uMiNQWJ9oqpH5iPF', 'dXk3a4tqEjFijUrzxfv563', 'changeGraph', 'eyJpZCI6IDE5MiwgInR5cGUiOiAidmVydGV4IiwgInByb3BzIjogeyJzaXplIjogMTEuMzc0MjY5MDA1ODQ3OTUzfX0K');</script>\n",
       "    "
      ],
      "text/plain": [
       "<IPython.core.display.HTML object>"
      ]
     },
     "metadata": {},
     "output_type": "display_data"
    },
    {
     "data": {
      "text/html": [
       "\n",
       "        <div id=\"i5xsArrNeMMzbeokqgqXwx\"></div>\n",
       "        <script>netpixi.call('i5xsArrNeMMzbeokqgqXwx', 'dXk3a4tqEjFijUrzxfv563', 'changeGraph', 'eyJpZCI6IDE5MywgInR5cGUiOiAidmVydGV4IiwgInByb3BzIjogeyJzaXplIjogMTkuOTEyMjgwNzAxNzU0MzgzfX0K');</script>\n",
       "    "
      ],
      "text/plain": [
       "<IPython.core.display.HTML object>"
      ]
     },
     "metadata": {},
     "output_type": "display_data"
    },
    {
     "data": {
      "text/html": [
       "\n",
       "        <div id=\"ApB5XNWn2YeECwr9AYw2KW\"></div>\n",
       "        <script>netpixi.call('ApB5XNWn2YeECwr9AYw2KW', 'dXk3a4tqEjFijUrzxfv563', 'changeGraph', 'eyJpZCI6IDE5NCwgInR5cGUiOiAidmVydGV4IiwgInByb3BzIjogeyJzaXplIjogNDcuMTUxMTYyNzkwNjk3Njc2fX0K');</script>\n",
       "    "
      ],
      "text/plain": [
       "<IPython.core.display.HTML object>"
      ]
     },
     "metadata": {},
     "output_type": "display_data"
    },
    {
     "data": {
      "text/html": [
       "\n",
       "        <div id=\"eDWtxvp5Qyue86JuZfxHNr\"></div>\n",
       "        <script>netpixi.call('eDWtxvp5Qyue86JuZfxHNr', 'dXk3a4tqEjFijUrzxfv563', 'changeGraph', 'eyJpZCI6IDE5NSwgInR5cGUiOiAidmVydGV4IiwgInByb3BzIjogeyJzaXplIjogNDguMTM5NTM0ODgzNzIwOTM0fX0K');</script>\n",
       "    "
      ],
      "text/plain": [
       "<IPython.core.display.HTML object>"
      ]
     },
     "metadata": {},
     "output_type": "display_data"
    },
    {
     "data": {
      "text/html": [
       "\n",
       "        <div id=\"GKfCpCVgA9xe7sR7qFzACJ\"></div>\n",
       "        <script>netpixi.call('GKfCpCVgA9xe7sR7qFzACJ', 'dXk3a4tqEjFijUrzxfv563', 'changeGraph', 'eyJpZCI6IDE5NiwgInR5cGUiOiAidmVydGV4IiwgInByb3BzIjogeyJzaXplIjogNDQuOTQxODYwNDY1MTE2Mjh9fQo=');</script>\n",
       "    "
      ],
      "text/plain": [
       "<IPython.core.display.HTML object>"
      ]
     },
     "metadata": {},
     "output_type": "display_data"
    },
    {
     "data": {
      "text/html": [
       "\n",
       "        <div id=\"BwXzuunQYRWdY372tzpM6y\"></div>\n",
       "        <script>netpixi.call('BwXzuunQYRWdY372tzpM6y', 'dXk3a4tqEjFijUrzxfv563', 'changeGraph', 'eyJpZCI6IDE5NywgInR5cGUiOiAidmVydGV4IiwgInByb3BzIjogeyJzaXplIjogNDcuNjc0NDE4NjA0NjUxMTY2fX0K');</script>\n",
       "    "
      ],
      "text/plain": [
       "<IPython.core.display.HTML object>"
      ]
     },
     "metadata": {},
     "output_type": "display_data"
    },
    {
     "data": {
      "text/html": [
       "\n",
       "        <div id=\"eFUJpHpoN3v2t2txffvmsS\"></div>\n",
       "        <script>netpixi.call('eFUJpHpoN3v2t2txffvmsS', 'dXk3a4tqEjFijUrzxfv563', 'changeGraph', 'eyJpZCI6IDE5OCwgInR5cGUiOiAidmVydGV4IiwgInByb3BzIjogeyJzaXplIjogNDguMDgxMzk1MzQ4ODM3MjF9fQo=');</script>\n",
       "    "
      ],
      "text/plain": [
       "<IPython.core.display.HTML object>"
      ]
     },
     "metadata": {},
     "output_type": "display_data"
    },
    {
     "data": {
      "text/html": [
       "\n",
       "        <div id=\"BK3hfMsGrHQsemuBRSz97v\"></div>\n",
       "        <script>netpixi.call('BK3hfMsGrHQsemuBRSz97v', 'dXk3a4tqEjFijUrzxfv563', 'changeGraph', 'eyJpZCI6IDE5OSwgInR5cGUiOiAidmVydGV4IiwgInByb3BzIjogeyJzaXplIjogNDQuMDY5NzY3NDQxODYwNDZ9fQo=');</script>\n",
       "    "
      ],
      "text/plain": [
       "<IPython.core.display.HTML object>"
      ]
     },
     "metadata": {},
     "output_type": "display_data"
    },
    {
     "data": {
      "text/html": [
       "\n",
       "        <div id=\"68iYooUkazYZzqSaDmU4az\"></div>\n",
       "        <script>netpixi.call('68iYooUkazYZzqSaDmU4az', 'dXk3a4tqEjFijUrzxfv563', 'changeGraph', 'eyJpZCI6IDIwMCwgInR5cGUiOiAidmVydGV4IiwgInByb3BzIjogeyJzaXplIjogNDIuNjE2Mjc5MDY5NzY3NDQ0fX0K');</script>\n",
       "    "
      ],
      "text/plain": [
       "<IPython.core.display.HTML object>"
      ]
     },
     "metadata": {},
     "output_type": "display_data"
    },
    {
     "data": {
      "text/html": [
       "\n",
       "        <div id=\"DXbS5RCDL9ReF5GANLp33T\"></div>\n",
       "        <script>netpixi.call('DXbS5RCDL9ReF5GANLp33T', 'dXk3a4tqEjFijUrzxfv563', 'changeGraph', 'eyJpZCI6IDIwMSwgInR5cGUiOiAidmVydGV4IiwgInByb3BzIjogeyJzaXplIjogNDUuNjM5NTM0ODgzNzIwOTM0fX0K');</script>\n",
       "    "
      ],
      "text/plain": [
       "<IPython.core.display.HTML object>"
      ]
     },
     "metadata": {},
     "output_type": "display_data"
    },
    {
     "data": {
      "text/html": [
       "\n",
       "        <div id=\"H4N6w3xdKT3J7GFW6SAxhL\"></div>\n",
       "        <script>netpixi.call('H4N6w3xdKT3J7GFW6SAxhL', 'dXk3a4tqEjFijUrzxfv563', 'changeGraph', 'eyJpZCI6IDIwMiwgInR5cGUiOiAidmVydGV4IiwgInByb3BzIjogeyJzaXplIjogNDcuNjE2Mjc5MDY5NzY3NDQ0fX0K');</script>\n",
       "    "
      ],
      "text/plain": [
       "<IPython.core.display.HTML object>"
      ]
     },
     "metadata": {},
     "output_type": "display_data"
    },
    {
     "data": {
      "text/html": [
       "\n",
       "        <div id=\"7utpZy2ycjxfbarMo4fZfB\"></div>\n",
       "        <script>netpixi.call('7utpZy2ycjxfbarMo4fZfB', 'dXk3a4tqEjFijUrzxfv563', 'changeGraph', 'eyJpZCI6IDIwMywgInR5cGUiOiAidmVydGV4IiwgInByb3BzIjogeyJzaXplIjogNDguODk1MzQ4ODM3MjA5MzA1fX0K');</script>\n",
       "    "
      ],
      "text/plain": [
       "<IPython.core.display.HTML object>"
      ]
     },
     "metadata": {},
     "output_type": "display_data"
    },
    {
     "data": {
      "text/html": [
       "\n",
       "        <div id=\"FmLxTHgxF7kDNghanZtvVz\"></div>\n",
       "        <script>netpixi.call('FmLxTHgxF7kDNghanZtvVz', 'dXk3a4tqEjFijUrzxfv563', 'changeGraph', 'eyJpZCI6IDIwNCwgInR5cGUiOiAidmVydGV4IiwgInByb3BzIjogeyJzaXplIjogNDIuMjY3NDQxODYwNDY1MTF9fQo=');</script>\n",
       "    "
      ],
      "text/plain": [
       "<IPython.core.display.HTML object>"
      ]
     },
     "metadata": {},
     "output_type": "display_data"
    },
    {
     "data": {
      "text/html": [
       "\n",
       "        <div id=\"PnFQRi3qSJUSVo2pgyURqr\"></div>\n",
       "        <script>netpixi.call('PnFQRi3qSJUSVo2pgyURqr', 'dXk3a4tqEjFijUrzxfv563', 'changeGraph', 'eyJpZCI6IDIwNSwgInR5cGUiOiAidmVydGV4IiwgInByb3BzIjogeyJzaXplIjogMTcuMjk1MzIxNjM3NDI2OTAyfX0K');</script>\n",
       "    "
      ],
      "text/plain": [
       "<IPython.core.display.HTML object>"
      ]
     },
     "metadata": {},
     "output_type": "display_data"
    },
    {
     "data": {
      "text/html": [
       "\n",
       "        <div id=\"NpD4HGiyTLztSLucoSskSJ\"></div>\n",
       "        <script>netpixi.call('NpD4HGiyTLztSLucoSskSJ', 'dXk3a4tqEjFijUrzxfv563', 'changeGraph', 'eyJpZCI6IDIwNiwgInR5cGUiOiAidmVydGV4IiwgInByb3BzIjogeyJzaXplIjogNDUuMDU4MTM5NTM0ODgzNzJ9fQo=');</script>\n",
       "    "
      ],
      "text/plain": [
       "<IPython.core.display.HTML object>"
      ]
     },
     "metadata": {},
     "output_type": "display_data"
    },
    {
     "data": {
      "text/html": [
       "\n",
       "        <div id=\"eP9oErUBgGqbzUGmmHPwb8\"></div>\n",
       "        <script>netpixi.call('eP9oErUBgGqbzUGmmHPwb8', 'dXk3a4tqEjFijUrzxfv563', 'changeGraph', 'eyJpZCI6IDIwNywgInR5cGUiOiAidmVydGV4IiwgInByb3BzIjogeyJzaXplIjogNDYuNTY5NzY3NDQxODYwNDZ9fQo=');</script>\n",
       "    "
      ],
      "text/plain": [
       "<IPython.core.display.HTML object>"
      ]
     },
     "metadata": {},
     "output_type": "display_data"
    },
    {
     "data": {
      "text/html": [
       "\n",
       "        <div id=\"7K9Ygk824ppTEaaY23xYQb\"></div>\n",
       "        <script>netpixi.call('7K9Ygk824ppTEaaY23xYQb', 'dXk3a4tqEjFijUrzxfv563', 'changeGraph', 'eyJpZCI6IDIwOCwgInR5cGUiOiAidmVydGV4IiwgInByb3BzIjogeyJzaXplIjogNDIuNzMyNTU4MTM5NTM0ODl9fQo=');</script>\n",
       "    "
      ],
      "text/plain": [
       "<IPython.core.display.HTML object>"
      ]
     },
     "metadata": {},
     "output_type": "display_data"
    },
    {
     "data": {
      "text/html": [
       "\n",
       "        <div id=\"DBHn3bc8ZbsJG2TQPcqqJa\"></div>\n",
       "        <script>netpixi.call('DBHn3bc8ZbsJG2TQPcqqJa', 'dXk3a4tqEjFijUrzxfv563', 'changeGraph', 'eyJpZCI6IDIwOSwgInR5cGUiOiAidmVydGV4IiwgInByb3BzIjogeyJzaXplIjogNDYuOTc2NzQ0MTg2MDQ2NTF9fQo=');</script>\n",
       "    "
      ],
      "text/plain": [
       "<IPython.core.display.HTML object>"
      ]
     },
     "metadata": {},
     "output_type": "display_data"
    },
    {
     "data": {
      "text/html": [
       "\n",
       "        <div id=\"APR2sB4JULgCoZjSyRnw5Q\"></div>\n",
       "        <script>netpixi.call('APR2sB4JULgCoZjSyRnw5Q', 'dXk3a4tqEjFijUrzxfv563', 'changeGraph', 'eyJpZCI6IDIxMCwgInR5cGUiOiAidmVydGV4IiwgInByb3BzIjogeyJzaXplIjogNDUuMH19Cg==');</script>\n",
       "    "
      ],
      "text/plain": [
       "<IPython.core.display.HTML object>"
      ]
     },
     "metadata": {},
     "output_type": "display_data"
    },
    {
     "data": {
      "text/html": [
       "\n",
       "        <div id=\"3vwhU5xorurJmWdTpd7CGx\"></div>\n",
       "        <script>netpixi.call('3vwhU5xorurJmWdTpd7CGx', 'dXk3a4tqEjFijUrzxfv563', 'changeGraph', 'eyJpZCI6IDIxMSwgInR5cGUiOiAidmVydGV4IiwgInByb3BzIjogeyJzaXplIjogMTkuNDE1MjA0Njc4MzYyNTd9fQo=');</script>\n",
       "    "
      ],
      "text/plain": [
       "<IPython.core.display.HTML object>"
      ]
     },
     "metadata": {},
     "output_type": "display_data"
    },
    {
     "data": {
      "text/html": [
       "\n",
       "        <div id=\"68wcQNzmv2KLszTFTpbHJK\"></div>\n",
       "        <script>netpixi.call('68wcQNzmv2KLszTFTpbHJK', 'dXk3a4tqEjFijUrzxfv563', 'changeGraph', 'eyJpZCI6IDIxMiwgInR5cGUiOiAidmVydGV4IiwgInByb3BzIjogeyJzaXplIjogMTkuNDAwNTg0Nzk1MzIxNjM1fX0K');</script>\n",
       "    "
      ],
      "text/plain": [
       "<IPython.core.display.HTML object>"
      ]
     },
     "metadata": {},
     "output_type": "display_data"
    },
    {
     "data": {
      "text/html": [
       "\n",
       "        <div id=\"54swDEQtYcMP7mmw4v5NFY\"></div>\n",
       "        <script>netpixi.call('54swDEQtYcMP7mmw4v5NFY', 'dXk3a4tqEjFijUrzxfv563', 'changeGraph', 'eyJpZCI6IDIxMywgInR5cGUiOiAidmVydGV4IiwgInByb3BzIjogeyJzaXplIjogMTkuNTMyMTYzNzQyNjkwMDZ9fQo=');</script>\n",
       "    "
      ],
      "text/plain": [
       "<IPython.core.display.HTML object>"
      ]
     },
     "metadata": {},
     "output_type": "display_data"
    },
    {
     "data": {
      "text/html": [
       "\n",
       "        <div id=\"GEW2z5k9dZojf45r6g2n69\"></div>\n",
       "        <script>netpixi.call('GEW2z5k9dZojf45r6g2n69', 'dXk3a4tqEjFijUrzxfv563', 'changeGraph', 'eyJpZCI6IDIxNCwgInR5cGUiOiAidmVydGV4IiwgInByb3BzIjogeyJzaXplIjogNDUuNTgxMzk1MzQ4ODM3MjF9fQo=');</script>\n",
       "    "
      ],
      "text/plain": [
       "<IPython.core.display.HTML object>"
      ]
     },
     "metadata": {},
     "output_type": "display_data"
    },
    {
     "data": {
      "text/html": [
       "\n",
       "        <div id=\"74Lr5Rv25BYLTAexXGnWPE\"></div>\n",
       "        <script>netpixi.call('74Lr5Rv25BYLTAexXGnWPE', 'dXk3a4tqEjFijUrzxfv563', 'changeGraph', 'eyJpZCI6IDIxNSwgInR5cGUiOiAidmVydGV4IiwgInByb3BzIjogeyJzaXplIjogNDQuMTI3OTA2OTc2NzQ0MTg1fX0K');</script>\n",
       "    "
      ],
      "text/plain": [
       "<IPython.core.display.HTML object>"
      ]
     },
     "metadata": {},
     "output_type": "display_data"
    },
    {
     "data": {
      "text/html": [
       "\n",
       "        <div id=\"6swcuzb9rcoTkCGR4qxPBx\"></div>\n",
       "        <script>netpixi.call('6swcuzb9rcoTkCGR4qxPBx', 'dXk3a4tqEjFijUrzxfv563', 'changeGraph', 'eyJpZCI6IDIxNiwgInR5cGUiOiAidmVydGV4IiwgInByb3BzIjogeyJzaXplIjogMTcuNDEyMjgwNzAxNzU0MzgzfX0K');</script>\n",
       "    "
      ],
      "text/plain": [
       "<IPython.core.display.HTML object>"
      ]
     },
     "metadata": {},
     "output_type": "display_data"
    },
    {
     "data": {
      "text/html": [
       "\n",
       "        <div id=\"QeDxizTMEgDDynmAMSix6T\"></div>\n",
       "        <script>netpixi.call('QeDxizTMEgDDynmAMSix6T', 'dXk3a4tqEjFijUrzxfv563', 'changeGraph', 'eyJpZCI6IDIxNywgInR5cGUiOiAidmVydGV4IiwgInByb3BzIjogeyJzaXplIjogNDkuNDE4NjA0NjUxMTYyNzl9fQo=');</script>\n",
       "    "
      ],
      "text/plain": [
       "<IPython.core.display.HTML object>"
      ]
     },
     "metadata": {},
     "output_type": "display_data"
    },
    {
     "data": {
      "text/html": [
       "\n",
       "        <div id=\"QhUQetCY4jmi7pVg7iddLp\"></div>\n",
       "        <script>netpixi.call('QhUQetCY4jmi7pVg7iddLp', 'dXk3a4tqEjFijUrzxfv563', 'changeGraph', 'eyJpZCI6IDIxOCwgInR5cGUiOiAidmVydGV4IiwgInByb3BzIjogeyJzaXplIjogMTcuOTIzOTc2NjA4MTg3MTMyfX0K');</script>\n",
       "    "
      ],
      "text/plain": [
       "<IPython.core.display.HTML object>"
      ]
     },
     "metadata": {},
     "output_type": "display_data"
    },
    {
     "data": {
      "text/html": [
       "\n",
       "        <div id=\"Ct4dzpa8Yr6ndsyXudevhs\"></div>\n",
       "        <script>netpixi.call('Ct4dzpa8Yr6ndsyXudevhs', 'dXk3a4tqEjFijUrzxfv563', 'changeGraph', 'eyJpZCI6IDIxOSwgInR5cGUiOiAidmVydGV4IiwgInByb3BzIjogeyJzaXplIjogMTkuNzY2MDgxODcxMzQ1MDN9fQo=');</script>\n",
       "    "
      ],
      "text/plain": [
       "<IPython.core.display.HTML object>"
      ]
     },
     "metadata": {},
     "output_type": "display_data"
    },
    {
     "data": {
      "text/html": [
       "\n",
       "        <div id=\"fEWx2myhTjqELTrjfZUoBV\"></div>\n",
       "        <script>netpixi.call('fEWx2myhTjqELTrjfZUoBV', 'dXk3a4tqEjFijUrzxfv563', 'changeGraph', 'eyJpZCI6IDIyMCwgInR5cGUiOiAidmVydGV4IiwgInByb3BzIjogeyJzaXplIjogNDUuMjMyNTU4MTM5NTM0ODl9fQo=');</script>\n",
       "    "
      ],
      "text/plain": [
       "<IPython.core.display.HTML object>"
      ]
     },
     "metadata": {},
     "output_type": "display_data"
    },
    {
     "data": {
      "text/html": [
       "\n",
       "        <div id=\"kFBuSSmEPPtmMiWXgoipGx\"></div>\n",
       "        <script>netpixi.call('kFBuSSmEPPtmMiWXgoipGx', 'dXk3a4tqEjFijUrzxfv563', 'changeGraph', 'eyJpZCI6IDIyMSwgInR5cGUiOiAidmVydGV4IiwgInByb3BzIjogeyJzaXplIjogNDYuNjg2MDQ2NTExNjI3OTF9fQo=');</script>\n",
       "    "
      ],
      "text/plain": [
       "<IPython.core.display.HTML object>"
      ]
     },
     "metadata": {},
     "output_type": "display_data"
    },
    {
     "data": {
      "text/html": [
       "\n",
       "        <div id=\"GSedfid3zYWC6zMr79C35u\"></div>\n",
       "        <script>netpixi.call('GSedfid3zYWC6zMr79C35u', 'dXk3a4tqEjFijUrzxfv563', 'changeGraph', 'eyJpZCI6IDIyMiwgInR5cGUiOiAidmVydGV4IiwgInByb3BzIjogeyJzaXplIjogNDMuMzEzOTUzNDg4MzcyMDl9fQo=');</script>\n",
       "    "
      ],
      "text/plain": [
       "<IPython.core.display.HTML object>"
      ]
     },
     "metadata": {},
     "output_type": "display_data"
    },
    {
     "data": {
      "text/html": [
       "\n",
       "        <div id=\"ScLHNkv2jxcGD8soF5gYsi\"></div>\n",
       "        <script>netpixi.call('ScLHNkv2jxcGD8soF5gYsi', 'dXk3a4tqEjFijUrzxfv563', 'changeGraph', 'eyJpZCI6IDIyMywgInR5cGUiOiAidmVydGV4IiwgInByb3BzIjogeyJzaXplIjogMTguMDI2MzE1Nzg5NDczNjg1fX0K');</script>\n",
       "    "
      ],
      "text/plain": [
       "<IPython.core.display.HTML object>"
      ]
     },
     "metadata": {},
     "output_type": "display_data"
    },
    {
     "data": {
      "text/html": [
       "\n",
       "        <div id=\"UMXFw4UGngktLYd6w7d6fk\"></div>\n",
       "        <script>netpixi.call('UMXFw4UGngktLYd6w7d6fk', 'dXk3a4tqEjFijUrzxfv563', 'changeGraph', 'eyJpZCI6IDIyNCwgInR5cGUiOiAidmVydGV4IiwgInByb3BzIjogeyJzaXplIjogMTUuOTIxMDUyNjMxNTc4OTQ3fX0K');</script>\n",
       "    "
      ],
      "text/plain": [
       "<IPython.core.display.HTML object>"
      ]
     },
     "metadata": {},
     "output_type": "display_data"
    },
    {
     "data": {
      "text/html": [
       "\n",
       "        <div id=\"oRuR4azmyNFq4kZK9g6sjY\"></div>\n",
       "        <script>netpixi.call('oRuR4azmyNFq4kZK9g6sjY', 'dXk3a4tqEjFijUrzxfv563', 'changeGraph', 'eyJpZCI6IDIyNSwgInR5cGUiOiAidmVydGV4IiwgInByb3BzIjogeyJzaXplIjogMTguODU5NjQ5MTIyODA3MDE3fX0K');</script>\n",
       "    "
      ],
      "text/plain": [
       "<IPython.core.display.HTML object>"
      ]
     },
     "metadata": {},
     "output_type": "display_data"
    },
    {
     "data": {
      "text/html": [
       "\n",
       "        <div id=\"jbwCQLseSRgosryhQmvS4j\"></div>\n",
       "        <script>netpixi.call('jbwCQLseSRgosryhQmvS4j', 'dXk3a4tqEjFijUrzxfv563', 'changeGraph', 'eyJpZCI6IDIyNiwgInR5cGUiOiAidmVydGV4IiwgInByb3BzIjogeyJzaXplIjogMTguNzcxOTI5ODI0NTYxNDA0fX0K');</script>\n",
       "    "
      ],
      "text/plain": [
       "<IPython.core.display.HTML object>"
      ]
     },
     "metadata": {},
     "output_type": "display_data"
    },
    {
     "data": {
      "text/html": [
       "\n",
       "        <div id=\"EyKzHC7yxnmZEboT5NiNpT\"></div>\n",
       "        <script>netpixi.call('EyKzHC7yxnmZEboT5NiNpT', 'dXk3a4tqEjFijUrzxfv563', 'changeGraph', 'eyJpZCI6IDIyNywgInR5cGUiOiAidmVydGV4IiwgInByb3BzIjogeyJzaXplIjogMTcuNTczMDk5NDE1MjA0Njh9fQo=');</script>\n",
       "    "
      ],
      "text/plain": [
       "<IPython.core.display.HTML object>"
      ]
     },
     "metadata": {},
     "output_type": "display_data"
    },
    {
     "data": {
      "text/html": [
       "\n",
       "        <div id=\"jFa4AsqJ7YYMydJ4rpPYUL\"></div>\n",
       "        <script>netpixi.call('jFa4AsqJ7YYMydJ4rpPYUL', 'dXk3a4tqEjFijUrzxfv563', 'changeGraph', 'eyJpZCI6IDIyOCwgInR5cGUiOiAidmVydGV4IiwgInByb3BzIjogeyJzaXplIjogMTIuNzMzOTE4MTI4NjU0OTd9fQo=');</script>\n",
       "    "
      ],
      "text/plain": [
       "<IPython.core.display.HTML object>"
      ]
     },
     "metadata": {},
     "output_type": "display_data"
    },
    {
     "data": {
      "text/html": [
       "\n",
       "        <div id=\"m2xdngr8mpV83PB2tJXhLi\"></div>\n",
       "        <script>netpixi.call('m2xdngr8mpV83PB2tJXhLi', 'dXk3a4tqEjFijUrzxfv563', 'changeGraph', 'eyJpZCI6IDIyOSwgInR5cGUiOiAidmVydGV4IiwgInByb3BzIjogeyJzaXplIjogMTEuOTU5MDY0MzI3NDg1Mzh9fQo=');</script>\n",
       "    "
      ],
      "text/plain": [
       "<IPython.core.display.HTML object>"
      ]
     },
     "metadata": {},
     "output_type": "display_data"
    },
    {
     "data": {
      "text/html": [
       "\n",
       "        <div id=\"92rUFEjn3Ff3PPsY7ED9Hy\"></div>\n",
       "        <script>netpixi.call('92rUFEjn3Ff3PPsY7ED9Hy', 'dXk3a4tqEjFijUrzxfv563', 'changeGraph', 'eyJpZCI6IDIzMCwgInR5cGUiOiAidmVydGV4IiwgInByb3BzIjogeyJzaXplIjogMTAuODMzMzMzMzMzMzMzMzM0fX0K');</script>\n",
       "    "
      ],
      "text/plain": [
       "<IPython.core.display.HTML object>"
      ]
     },
     "metadata": {},
     "output_type": "display_data"
    },
    {
     "data": {
      "text/html": [
       "\n",
       "        <div id=\"M92rLLXikJaZt29PoFuNNF\"></div>\n",
       "        <script>netpixi.call('M92rLLXikJaZt29PoFuNNF', 'dXk3a4tqEjFijUrzxfv563', 'changeGraph', 'eyJpZCI6IDIzMSwgInR5cGUiOiAidmVydGV4IiwgInByb3BzIjogeyJzaXplIjogMTIuMzA5OTQxNTIwNDY3ODM2fX0K');</script>\n",
       "    "
      ],
      "text/plain": [
       "<IPython.core.display.HTML object>"
      ]
     },
     "metadata": {},
     "output_type": "display_data"
    },
    {
     "data": {
      "text/html": [
       "\n",
       "        <div id=\"YCuqApG5RiZxWcTGdZ77BQ\"></div>\n",
       "        <script>netpixi.call('YCuqApG5RiZxWcTGdZ77BQ', 'dXk3a4tqEjFijUrzxfv563', 'changeGraph', 'eyJpZCI6IDIzMiwgInR5cGUiOiAidmVydGV4IiwgInByb3BzIjogeyJzaXplIjogNDMuMDIzMjU1ODEzOTUzNDl9fQo=');</script>\n",
       "    "
      ],
      "text/plain": [
       "<IPython.core.display.HTML object>"
      ]
     },
     "metadata": {},
     "output_type": "display_data"
    },
    {
     "data": {
      "text/html": [
       "\n",
       "        <div id=\"mcDiPRyUVtm6XfYzSYKceU\"></div>\n",
       "        <script>netpixi.call('mcDiPRyUVtm6XfYzSYKceU', 'dXk3a4tqEjFijUrzxfv563', 'changeGraph', 'eyJpZCI6IDIzMywgInR5cGUiOiAidmVydGV4IiwgInByb3BzIjogeyJzaXplIjogMTYuNzI1MTQ2MTk4ODMwNDF9fQo=');</script>\n",
       "    "
      ],
      "text/plain": [
       "<IPython.core.display.HTML object>"
      ]
     },
     "metadata": {},
     "output_type": "display_data"
    },
    {
     "data": {
      "text/html": [
       "\n",
       "        <div id=\"auugtK5tmhnK9VsYmQGAyU\"></div>\n",
       "        <script>netpixi.call('auugtK5tmhnK9VsYmQGAyU', 'dXk3a4tqEjFijUrzxfv563', 'changeGraph', 'eyJpZCI6IDIzNCwgInR5cGUiOiAidmVydGV4IiwgInByb3BzIjogeyJzaXplIjogMTUuNjg3MTM0NTAyOTIzOTc3fX0K');</script>\n",
       "    "
      ],
      "text/plain": [
       "<IPython.core.display.HTML object>"
      ]
     },
     "metadata": {},
     "output_type": "display_data"
    },
    {
     "data": {
      "text/html": [
       "\n",
       "        <div id=\"ErTB6mrgsGEzfayXvpQ6cG\"></div>\n",
       "        <script>netpixi.call('ErTB6mrgsGEzfayXvpQ6cG', 'dXk3a4tqEjFijUrzxfv563', 'changeGraph', 'eyJpZCI6IDIzNSwgInR5cGUiOiAidmVydGV4IiwgInByb3BzIjogeyJzaXplIjogNDQuNTkzMDIzMjU1ODEzOTU0fX0K');</script>\n",
       "    "
      ],
      "text/plain": [
       "<IPython.core.display.HTML object>"
      ]
     },
     "metadata": {},
     "output_type": "display_data"
    },
    {
     "data": {
      "text/html": [
       "\n",
       "        <div id=\"BXwjRvXzh8nGfhYJKWSQ93\"></div>\n",
       "        <script>netpixi.call('BXwjRvXzh8nGfhYJKWSQ93', 'dXk3a4tqEjFijUrzxfv563', 'changeGraph', 'eyJpZCI6IDIzNiwgInR5cGUiOiAidmVydGV4IiwgInByb3BzIjogeyJzaXplIjogNDAuMTE2Mjc5MDY5NzY3NDQ0fX0K');</script>\n",
       "    "
      ],
      "text/plain": [
       "<IPython.core.display.HTML object>"
      ]
     },
     "metadata": {},
     "output_type": "display_data"
    },
    {
     "data": {
      "text/html": [
       "\n",
       "        <div id=\"W4wyhv2fMNenjQwvnEwqBm\"></div>\n",
       "        <script>netpixi.call('W4wyhv2fMNenjQwvnEwqBm', 'dXk3a4tqEjFijUrzxfv563', 'changeGraph', 'eyJpZCI6IDIzNywgInR5cGUiOiAidmVydGV4IiwgInByb3BzIjogeyJzaXplIjogMTYuMzU5NjQ5MTIyODA3MDE3fX0K');</script>\n",
       "    "
      ],
      "text/plain": [
       "<IPython.core.display.HTML object>"
      ]
     },
     "metadata": {},
     "output_type": "display_data"
    },
    {
     "data": {
      "text/html": [
       "\n",
       "        <div id=\"83QyZeSxhRbdbhNBD9GE3f\"></div>\n",
       "        <script>netpixi.call('83QyZeSxhRbdbhNBD9GE3f', 'dXk3a4tqEjFijUrzxfv563', 'changeGraph', 'eyJpZCI6IDIzOCwgInR5cGUiOiAidmVydGV4IiwgInByb3BzIjogeyJzaXplIjogMTEuMzAxMTY5NTkwNjQzMjc1fX0K');</script>\n",
       "    "
      ],
      "text/plain": [
       "<IPython.core.display.HTML object>"
      ]
     },
     "metadata": {},
     "output_type": "display_data"
    },
    {
     "data": {
      "text/html": [
       "\n",
       "        <div id=\"FBAeyxraPbq6XNyGHqGgyN\"></div>\n",
       "        <script>netpixi.call('FBAeyxraPbq6XNyGHqGgyN', 'dXk3a4tqEjFijUrzxfv563', 'changeGraph', 'eyJpZCI6IDIzOSwgInR5cGUiOiAidmVydGV4IiwgInByb3BzIjogeyJzaXplIjogMTYuMTExMTExMTExMTExMTF9fQo=');</script>\n",
       "    "
      ],
      "text/plain": [
       "<IPython.core.display.HTML object>"
      ]
     },
     "metadata": {},
     "output_type": "display_data"
    },
    {
     "data": {
      "text/html": [
       "\n",
       "        <div id=\"9BoifVHPHWCwQPsffKHVMq\"></div>\n",
       "        <script>netpixi.call('9BoifVHPHWCwQPsffKHVMq', 'dXk3a4tqEjFijUrzxfv563', 'changeGraph', 'eyJpZCI6IDI0MCwgInR5cGUiOiAidmVydGV4IiwgInByb3BzIjogeyJzaXplIjogMTEuMzE1Nzg5NDczNjg0MjF9fQo=');</script>\n",
       "    "
      ],
      "text/plain": [
       "<IPython.core.display.HTML object>"
      ]
     },
     "metadata": {},
     "output_type": "display_data"
    },
    {
     "data": {
      "text/html": [
       "\n",
       "        <div id=\"Msvr2rQLC3Hy9Uzk4VfUFq\"></div>\n",
       "        <script>netpixi.call('Msvr2rQLC3Hy9Uzk4VfUFq', 'dXk3a4tqEjFijUrzxfv563', 'changeGraph', 'eyJpZCI6IDI0MSwgInR5cGUiOiAidmVydGV4IiwgInByb3BzIjogeyJzaXplIjogMTIuMTc4MzYyNTczMDk5NDE1fX0K');</script>\n",
       "    "
      ],
      "text/plain": [
       "<IPython.core.display.HTML object>"
      ]
     },
     "metadata": {},
     "output_type": "display_data"
    },
    {
     "data": {
      "text/html": [
       "\n",
       "        <div id=\"AeUgmDdsdh9XJCsTeXfTrF\"></div>\n",
       "        <script>netpixi.call('AeUgmDdsdh9XJCsTeXfTrF', 'dXk3a4tqEjFijUrzxfv563', 'changeGraph', 'eyJpZCI6IDI0MiwgInR5cGUiOiAidmVydGV4IiwgInByb3BzIjogeyJzaXplIjogNDcuNX19Cg==');</script>\n",
       "    "
      ],
      "text/plain": [
       "<IPython.core.display.HTML object>"
      ]
     },
     "metadata": {},
     "output_type": "display_data"
    },
    {
     "data": {
      "text/html": [
       "\n",
       "        <div id=\"YVGXdWUAwUSfoVdfvnbGk9\"></div>\n",
       "        <script>netpixi.call('YVGXdWUAwUSfoVdfvnbGk9', 'dXk3a4tqEjFijUrzxfv563', 'changeGraph', 'eyJpZCI6IDI0MywgInR5cGUiOiAidmVydGV4IiwgInByb3BzIjogeyJzaXplIjogMTIuNTI5MjM5NzY2MDgxODcyfX0K');</script>\n",
       "    "
      ],
      "text/plain": [
       "<IPython.core.display.HTML object>"
      ]
     },
     "metadata": {},
     "output_type": "display_data"
    },
    {
     "data": {
      "text/html": [
       "\n",
       "        <div id=\"imRc7uWJVyiTtZAn8yEUsD\"></div>\n",
       "        <script>netpixi.call('imRc7uWJVyiTtZAn8yEUsD', 'dXk3a4tqEjFijUrzxfv563', 'changeGraph', 'eyJpZCI6IDI0NCwgInR5cGUiOiAidmVydGV4IiwgInByb3BzIjogeyJzaXplIjogNDQuNjUxMTYyNzkwNjk3Njc2fX0K');</script>\n",
       "    "
      ],
      "text/plain": [
       "<IPython.core.display.HTML object>"
      ]
     },
     "metadata": {},
     "output_type": "display_data"
    },
    {
     "data": {
      "text/html": [
       "\n",
       "        <div id=\"LbgAqsY8rfMeKmPVK92YR7\"></div>\n",
       "        <script>netpixi.call('LbgAqsY8rfMeKmPVK92YR7', 'dXk3a4tqEjFijUrzxfv563', 'changeGraph', 'eyJpZCI6IDI0NSwgInR5cGUiOiAidmVydGV4IiwgInByb3BzIjogeyJzaXplIjogMTcuMTYzNzQyNjkwMDU4NDc3fX0K');</script>\n",
       "    "
      ],
      "text/plain": [
       "<IPython.core.display.HTML object>"
      ]
     },
     "metadata": {},
     "output_type": "display_data"
    },
    {
     "data": {
      "text/html": [
       "\n",
       "        <div id=\"LUcBcyqCigmqcbdgCbmWVD\"></div>\n",
       "        <script>netpixi.call('LUcBcyqCigmqcbdgCbmWVD', 'dXk3a4tqEjFijUrzxfv563', 'changeGraph', 'eyJpZCI6IDI0NiwgInR5cGUiOiAidmVydGV4IiwgInByb3BzIjogeyJzaXplIjogNDAuNjM5NTM0ODgzNzIwOTN9fQo=');</script>\n",
       "    "
      ],
      "text/plain": [
       "<IPython.core.display.HTML object>"
      ]
     },
     "metadata": {},
     "output_type": "display_data"
    },
    {
     "data": {
      "text/html": [
       "\n",
       "        <div id=\"kUeYb47cVQgVHN9BHCf3kC\"></div>\n",
       "        <script>netpixi.call('kUeYb47cVQgVHN9BHCf3kC', 'dXk3a4tqEjFijUrzxfv563', 'changeGraph', 'eyJpZCI6IDI0NywgInR5cGUiOiAidmVydGV4IiwgInByb3BzIjogeyJzaXplIjogNDkuMDExNjI3OTA2OTc2NzV9fQo=');</script>\n",
       "    "
      ],
      "text/plain": [
       "<IPython.core.display.HTML object>"
      ]
     },
     "metadata": {},
     "output_type": "display_data"
    },
    {
     "data": {
      "text/html": [
       "\n",
       "        <div id=\"HZopxGgjVkWUsDLDK7hfHv\"></div>\n",
       "        <script>netpixi.call('HZopxGgjVkWUsDLDK7hfHv', 'dXk3a4tqEjFijUrzxfv563', 'changeGraph', 'eyJpZCI6IDI0OCwgInR5cGUiOiAidmVydGV4IiwgInByb3BzIjogeyJzaXplIjogMTYuNzEwNTI2MzE1Nzg5NDczfX0K');</script>\n",
       "    "
      ],
      "text/plain": [
       "<IPython.core.display.HTML object>"
      ]
     },
     "metadata": {},
     "output_type": "display_data"
    },
    {
     "data": {
      "text/html": [
       "\n",
       "        <div id=\"hQTCDM3k2Ac7RfaWzrThDg\"></div>\n",
       "        <script>netpixi.call('hQTCDM3k2Ac7RfaWzrThDg', 'dXk3a4tqEjFijUrzxfv563', 'changeGraph', 'eyJpZCI6IDI0OSwgInR5cGUiOiAidmVydGV4IiwgInByb3BzIjogeyJzaXplIjogNDcuNTU4MTM5NTM0ODgzNzJ9fQo=');</script>\n",
       "    "
      ],
      "text/plain": [
       "<IPython.core.display.HTML object>"
      ]
     },
     "metadata": {},
     "output_type": "display_data"
    },
    {
     "data": {
      "text/html": [
       "\n",
       "        <div id=\"NUKrZuk8K2hxnjWR4Swuta\"></div>\n",
       "        <script>netpixi.call('NUKrZuk8K2hxnjWR4Swuta', 'dXk3a4tqEjFijUrzxfv563', 'changeGraph', 'eyJpZCI6IDI1MCwgInR5cGUiOiAidmVydGV4IiwgInByb3BzIjogeyJzaXplIjogNDguNjA0NjUxMTYyNzkwNjk1fX0K');</script>\n",
       "    "
      ],
      "text/plain": [
       "<IPython.core.display.HTML object>"
      ]
     },
     "metadata": {},
     "output_type": "display_data"
    },
    {
     "data": {
      "text/html": [
       "\n",
       "        <div id=\"gPpwaV4RUCWvm5KvH8Jky2\"></div>\n",
       "        <script>netpixi.call('gPpwaV4RUCWvm5KvH8Jky2', 'dXk3a4tqEjFijUrzxfv563', 'changeGraph', 'eyJpZCI6IDI1MSwgInR5cGUiOiAidmVydGV4IiwgInByb3BzIjogeyJzaXplIjogNDguMzcyMDkzMDIzMjU1ODE1fX0K');</script>\n",
       "    "
      ],
      "text/plain": [
       "<IPython.core.display.HTML object>"
      ]
     },
     "metadata": {},
     "output_type": "display_data"
    },
    {
     "data": {
      "text/html": [
       "\n",
       "        <div id=\"VNSjEmufq5NbTA2P8bkNZf\"></div>\n",
       "        <script>netpixi.call('VNSjEmufq5NbTA2P8bkNZf', 'dXk3a4tqEjFijUrzxfv563', 'changeGraph', 'eyJpZCI6IDI1MiwgInR5cGUiOiAidmVydGV4IiwgInByb3BzIjogeyJzaXplIjogMTkuMTM3NDI2OTAwNTg0Nzk2fX0K');</script>\n",
       "    "
      ],
      "text/plain": [
       "<IPython.core.display.HTML object>"
      ]
     },
     "metadata": {},
     "output_type": "display_data"
    },
    {
     "data": {
      "text/html": [
       "\n",
       "        <div id=\"Gg45hPyUoeBA44fb5BxpvG\"></div>\n",
       "        <script>netpixi.call('Gg45hPyUoeBA44fb5BxpvG', 'dXk3a4tqEjFijUrzxfv563', 'changeGraph', 'eyJpZCI6IDI1MywgInR5cGUiOiAidmVydGV4IiwgInByb3BzIjogeyJzaXplIjogNDUuNjk3Njc0NDE4NjA0NjV9fQo=');</script>\n",
       "    "
      ],
      "text/plain": [
       "<IPython.core.display.HTML object>"
      ]
     },
     "metadata": {},
     "output_type": "display_data"
    },
    {
     "data": {
      "text/html": [
       "\n",
       "        <div id=\"EFsPUPMQeoLDq5685JgnyT\"></div>\n",
       "        <script>netpixi.call('EFsPUPMQeoLDq5685JgnyT', 'dXk3a4tqEjFijUrzxfv563', 'changeGraph', 'eyJpZCI6IDI1NCwgInR5cGUiOiAidmVydGV4IiwgInByb3BzIjogeyJzaXplIjogMTguNjg0MjEwNTI2MzE1Nzg4fX0K');</script>\n",
       "    "
      ],
      "text/plain": [
       "<IPython.core.display.HTML object>"
      ]
     },
     "metadata": {},
     "output_type": "display_data"
    },
    {
     "data": {
      "text/html": [
       "\n",
       "        <div id=\"26jiudsTwGPiCoFAJB9pxK\"></div>\n",
       "        <script>netpixi.call('26jiudsTwGPiCoFAJB9pxK', 'dXk3a4tqEjFijUrzxfv563', 'changeGraph', 'eyJpZCI6IDI1NSwgInR5cGUiOiAidmVydGV4IiwgInByb3BzIjogeyJzaXplIjogMTEuMjEzNDUwMjkyMzk3NjZ9fQo=');</script>\n",
       "    "
      ],
      "text/plain": [
       "<IPython.core.display.HTML object>"
      ]
     },
     "metadata": {},
     "output_type": "display_data"
    },
    {
     "data": {
      "text/html": [
       "\n",
       "        <div id=\"YchFD4AoNR6DsfSKzhtxEn\"></div>\n",
       "        <script>netpixi.call('YchFD4AoNR6DsfSKzhtxEn', 'dXk3a4tqEjFijUrzxfv563', 'changeGraph', 'eyJpZCI6IDI1NiwgInR5cGUiOiAidmVydGV4IiwgInByb3BzIjogeyJzaXplIjogMTYuMTU0OTcwNzYwMjMzOTE1fX0K');</script>\n",
       "    "
      ],
      "text/plain": [
       "<IPython.core.display.HTML object>"
      ]
     },
     "metadata": {},
     "output_type": "display_data"
    },
    {
     "data": {
      "text/html": [
       "\n",
       "        <div id=\"ewLbpKejGfA6LN2ieoeLzs\"></div>\n",
       "        <script>netpixi.call('ewLbpKejGfA6LN2ieoeLzs', 'dXk3a4tqEjFijUrzxfv563', 'changeGraph', 'eyJpZCI6IDI1NywgInR5cGUiOiAidmVydGV4IiwgInByb3BzIjogeyJzaXplIjogMTAuMzIxNjM3NDI2OTAwNTg1fX0K');</script>\n",
       "    "
      ],
      "text/plain": [
       "<IPython.core.display.HTML object>"
      ]
     },
     "metadata": {},
     "output_type": "display_data"
    },
    {
     "data": {
      "text/html": [
       "\n",
       "        <div id=\"DT6Gq5x8bELcFBeF5CGipg\"></div>\n",
       "        <script>netpixi.call('DT6Gq5x8bELcFBeF5CGipg', 'dXk3a4tqEjFijUrzxfv563', 'changeGraph', 'eyJpZCI6IDI1OCwgInR5cGUiOiAidmVydGV4IiwgInByb3BzIjogeyJzaXplIjogNDkuMTI3OTA2OTc2NzQ0MTg1fX0K');</script>\n",
       "    "
      ],
      "text/plain": [
       "<IPython.core.display.HTML object>"
      ]
     },
     "metadata": {},
     "output_type": "display_data"
    },
    {
     "data": {
      "text/html": [
       "\n",
       "        <div id=\"bFfRajR2tXxmPf8UDKbBXq\"></div>\n",
       "        <script>netpixi.call('bFfRajR2tXxmPf8UDKbBXq', 'dXk3a4tqEjFijUrzxfv563', 'changeGraph', 'eyJpZCI6IDI1OSwgInR5cGUiOiAidmVydGV4IiwgInByb3BzIjogeyJzaXplIjogNDQuODI1NTgxMzk1MzQ4ODM0fX0K');</script>\n",
       "    "
      ],
      "text/plain": [
       "<IPython.core.display.HTML object>"
      ]
     },
     "metadata": {},
     "output_type": "display_data"
    },
    {
     "data": {
      "text/html": [
       "\n",
       "        <div id=\"9UBr54KvHK8aqPdWFFsmYp\"></div>\n",
       "        <script>netpixi.call('9UBr54KvHK8aqPdWFFsmYp', 'dXk3a4tqEjFijUrzxfv563', 'changeGraph', 'eyJpZCI6IDI2MCwgInR5cGUiOiAidmVydGV4IiwgInByb3BzIjogeyJzaXplIjogNDYuODAyMzI1NTgxMzk1MzV9fQo=');</script>\n",
       "    "
      ],
      "text/plain": [
       "<IPython.core.display.HTML object>"
      ]
     },
     "metadata": {},
     "output_type": "display_data"
    },
    {
     "data": {
      "text/html": [
       "\n",
       "        <div id=\"BXp9WKupygLuPs375JSx8w\"></div>\n",
       "        <script>netpixi.call('BXp9WKupygLuPs375JSx8w', 'dXk3a4tqEjFijUrzxfv563', 'changeGraph', 'eyJpZCI6IDI2MSwgInR5cGUiOiAidmVydGV4IiwgInByb3BzIjogeyJzaXplIjogMTUuODA0MDkzNTY3MjUxNDYyfX0K');</script>\n",
       "    "
      ],
      "text/plain": [
       "<IPython.core.display.HTML object>"
      ]
     },
     "metadata": {},
     "output_type": "display_data"
    },
    {
     "data": {
      "text/html": [
       "\n",
       "        <div id=\"Z4zqVBwho4aPKEgoNZfQmK\"></div>\n",
       "        <script>netpixi.call('Z4zqVBwho4aPKEgoNZfQmK', 'dXk3a4tqEjFijUrzxfv563', 'changeGraph', 'eyJpZCI6IDI2MiwgInR5cGUiOiAidmVydGV4IiwgInByb3BzIjogeyJzaXplIjogMTcuNjYwODE4NzEzNDUwMjkzfX0K');</script>\n",
       "    "
      ],
      "text/plain": [
       "<IPython.core.display.HTML object>"
      ]
     },
     "metadata": {},
     "output_type": "display_data"
    },
    {
     "data": {
      "text/html": [
       "\n",
       "        <div id=\"AgZns9KVas7v96cESSgB3K\"></div>\n",
       "        <script>netpixi.call('AgZns9KVas7v96cESSgB3K', 'dXk3a4tqEjFijUrzxfv563', 'changeGraph', 'eyJpZCI6IDI2MywgInR5cGUiOiAidmVydGV4IiwgInByb3BzIjogeyJzaXplIjogNDkuMTg2MDQ2NTExNjI3OTF9fQo=');</script>\n",
       "    "
      ],
      "text/plain": [
       "<IPython.core.display.HTML object>"
      ]
     },
     "metadata": {},
     "output_type": "display_data"
    },
    {
     "data": {
      "text/html": [
       "\n",
       "        <div id=\"B2Xb7ovX4pzKTyJkW4MfAc\"></div>\n",
       "        <script>netpixi.call('B2Xb7ovX4pzKTyJkW4MfAc', 'dXk3a4tqEjFijUrzxfv563', 'changeGraph', 'eyJpZCI6IDI2NCwgInR5cGUiOiAidmVydGV4IiwgInByb3BzIjogeyJzaXplIjogMTcuMDE3NTQzODU5NjQ5MTIzfX0K');</script>\n",
       "    "
      ],
      "text/plain": [
       "<IPython.core.display.HTML object>"
      ]
     },
     "metadata": {},
     "output_type": "display_data"
    },
    {
     "data": {
      "text/html": [
       "\n",
       "        <div id=\"fYM4kL8EM29Y54RYFkSwAR\"></div>\n",
       "        <script>netpixi.call('fYM4kL8EM29Y54RYFkSwAR', 'dXk3a4tqEjFijUrzxfv563', 'changeGraph', 'eyJpZCI6IDI2NSwgInR5cGUiOiAidmVydGV4IiwgInByb3BzIjogeyJzaXplIjogMTIuNjQ2MTk4ODMwNDA5MzU3fX0K');</script>\n",
       "    "
      ],
      "text/plain": [
       "<IPython.core.display.HTML object>"
      ]
     },
     "metadata": {},
     "output_type": "display_data"
    },
    {
     "data": {
      "text/html": [
       "\n",
       "        <div id=\"gxRwJRZVgmE24VDVUKhamj\"></div>\n",
       "        <script>netpixi.call('gxRwJRZVgmE24VDVUKhamj', 'dXk3a4tqEjFijUrzxfv563', 'changeGraph', 'eyJpZCI6IDI2NiwgInR5cGUiOiAidmVydGV4IiwgInByb3BzIjogeyJzaXplIjogMTguODMwNDA5MzU2NzI1MTV9fQo=');</script>\n",
       "    "
      ],
      "text/plain": [
       "<IPython.core.display.HTML object>"
      ]
     },
     "metadata": {},
     "output_type": "display_data"
    },
    {
     "data": {
      "text/html": [
       "\n",
       "        <div id=\"b9kG6Y6JD8pUJzfrwUBdEz\"></div>\n",
       "        <script>netpixi.call('b9kG6Y6JD8pUJzfrwUBdEz', 'dXk3a4tqEjFijUrzxfv563', 'changeGraph', 'eyJpZCI6IDI2NywgInR5cGUiOiAidmVydGV4IiwgInByb3BzIjogeyJzaXplIjogMTYuMDUyNjMxNTc4OTQ3Mzd9fQo=');</script>\n",
       "    "
      ],
      "text/plain": [
       "<IPython.core.display.HTML object>"
      ]
     },
     "metadata": {},
     "output_type": "display_data"
    },
    {
     "data": {
      "text/html": [
       "\n",
       "        <div id=\"BLHtDZzwinhtwXo2LPy4w7\"></div>\n",
       "        <script>netpixi.call('BLHtDZzwinhtwXo2LPy4w7', 'dXk3a4tqEjFijUrzxfv563', 'changeGraph', 'eyJpZCI6IDI2OCwgInR5cGUiOiAidmVydGV4IiwgInByb3BzIjogeyJzaXplIjogMTUuMDQzODU5NjQ5MTIyODA4fX0K');</script>\n",
       "    "
      ],
      "text/plain": [
       "<IPython.core.display.HTML object>"
      ]
     },
     "metadata": {},
     "output_type": "display_data"
    },
    {
     "data": {
      "text/html": [
       "\n",
       "        <div id=\"3fpQm8aCmyjLNiY5VjnZo5\"></div>\n",
       "        <script>netpixi.call('3fpQm8aCmyjLNiY5VjnZo5', 'dXk3a4tqEjFijUrzxfv563', 'changeGraph', 'eyJpZCI6IDI2OSwgInR5cGUiOiAidmVydGV4IiwgInByb3BzIjogeyJzaXplIjogNDAuNjk3Njc0NDE4NjA0NjV9fQo=');</script>\n",
       "    "
      ],
      "text/plain": [
       "<IPython.core.display.HTML object>"
      ]
     },
     "metadata": {},
     "output_type": "display_data"
    },
    {
     "data": {
      "text/html": [
       "\n",
       "        <div id=\"kYzu9bYzsV6UEZQfWg2aJt\"></div>\n",
       "        <script>netpixi.call('kYzu9bYzsV6UEZQfWg2aJt', 'dXk3a4tqEjFijUrzxfv563', 'changeGraph', 'eyJpZCI6IDI3MCwgInR5cGUiOiAidmVydGV4IiwgInByb3BzIjogeyJzaXplIjogNDkuMzAyMzI1NTgxMzk1MzV9fQo=');</script>\n",
       "    "
      ],
      "text/plain": [
       "<IPython.core.display.HTML object>"
      ]
     },
     "metadata": {},
     "output_type": "display_data"
    },
    {
     "data": {
      "text/html": [
       "\n",
       "        <div id=\"eJZmEaBvcQhzo4HEuvmUM9\"></div>\n",
       "        <script>netpixi.call('eJZmEaBvcQhzo4HEuvmUM9', 'dXk3a4tqEjFijUrzxfv563', 'changeGraph', 'eyJpZCI6IDI3MSwgInR5cGUiOiAidmVydGV4IiwgInByb3BzIjogeyJzaXplIjogMTkuMTUyMDQ2NzgzNjI1NzI4fX0K');</script>\n",
       "    "
      ],
      "text/plain": [
       "<IPython.core.display.HTML object>"
      ]
     },
     "metadata": {},
     "output_type": "display_data"
    },
    {
     "data": {
      "text/html": [
       "\n",
       "        <div id=\"WGpDWuGZkez5pcsiazqcYR\"></div>\n",
       "        <script>netpixi.call('WGpDWuGZkez5pcsiazqcYR', 'dXk3a4tqEjFijUrzxfv563', 'changeGraph', 'eyJpZCI6IDI3MiwgInR5cGUiOiAidmVydGV4IiwgInByb3BzIjogeyJzaXplIjogNDEuMjc5MDY5NzY3NDQxODZ9fQo=');</script>\n",
       "    "
      ],
      "text/plain": [
       "<IPython.core.display.HTML object>"
      ]
     },
     "metadata": {},
     "output_type": "display_data"
    },
    {
     "data": {
      "text/html": [
       "\n",
       "        <div id=\"iAWpMAjNfZB4tSu3HuYskf\"></div>\n",
       "        <script>netpixi.call('iAWpMAjNfZB4tSu3HuYskf', 'dXk3a4tqEjFijUrzxfv563', 'changeGraph', 'eyJpZCI6IDI3MywgInR5cGUiOiAidmVydGV4IiwgInByb3BzIjogeyJzaXplIjogNDcuNzkwNjk3Njc0NDE4Nn19Cg==');</script>\n",
       "    "
      ],
      "text/plain": [
       "<IPython.core.display.HTML object>"
      ]
     },
     "metadata": {},
     "output_type": "display_data"
    },
    {
     "data": {
      "text/html": [
       "\n",
       "        <div id=\"SQvZXMKKmEmkyBt3piNe47\"></div>\n",
       "        <script>netpixi.call('SQvZXMKKmEmkyBt3piNe47', 'dXk3a4tqEjFijUrzxfv563', 'changeGraph', 'eyJpZCI6IDI3NCwgInR5cGUiOiAidmVydGV4IiwgInByb3BzIjogeyJzaXplIjogNDUuMjkwNjk3Njc0NDE4Nn19Cg==');</script>\n",
       "    "
      ],
      "text/plain": [
       "<IPython.core.display.HTML object>"
      ]
     },
     "metadata": {},
     "output_type": "display_data"
    },
    {
     "data": {
      "text/html": [
       "\n",
       "        <div id=\"DYsCuck2mtf3GcAaLnBXMc\"></div>\n",
       "        <script>netpixi.call('DYsCuck2mtf3GcAaLnBXMc', 'dXk3a4tqEjFijUrzxfv563', 'changeGraph', 'eyJpZCI6IDI3NSwgInR5cGUiOiAidmVydGV4IiwgInByb3BzIjogeyJzaXplIjogNDYuNzQ0MTg2MDQ2NTExNjN9fQo=');</script>\n",
       "    "
      ],
      "text/plain": [
       "<IPython.core.display.HTML object>"
      ]
     },
     "metadata": {},
     "output_type": "display_data"
    },
    {
     "data": {
      "text/html": [
       "\n",
       "        <div id=\"XpehSQSj4ALbqpEW62f8ah\"></div>\n",
       "        <script>netpixi.call('XpehSQSj4ALbqpEW62f8ah', 'dXk3a4tqEjFijUrzxfv563', 'changeGraph', 'eyJpZCI6IDI3NiwgInR5cGUiOiAidmVydGV4IiwgInByb3BzIjogeyJzaXplIjogMTguNjI1NzMwOTk0MTUyMDQ3fX0K');</script>\n",
       "    "
      ],
      "text/plain": [
       "<IPython.core.display.HTML object>"
      ]
     },
     "metadata": {},
     "output_type": "display_data"
    },
    {
     "data": {
      "text/html": [
       "\n",
       "        <div id=\"BTdEVGWPRqvDJwztEK7aXt\"></div>\n",
       "        <script>netpixi.call('BTdEVGWPRqvDJwztEK7aXt', 'dXk3a4tqEjFijUrzxfv563', 'changeGraph', 'eyJpZCI6IDI3NywgInR5cGUiOiAidmVydGV4IiwgInByb3BzIjogeyJzaXplIjogMTEuMDY3MjUxNDYxOTg4MzA0fX0K');</script>\n",
       "    "
      ],
      "text/plain": [
       "<IPython.core.display.HTML object>"
      ]
     },
     "metadata": {},
     "output_type": "display_data"
    },
    {
     "data": {
      "text/html": [
       "\n",
       "        <div id=\"aZi3iyHAxXMgcR338p8Pub\"></div>\n",
       "        <script>netpixi.call('aZi3iyHAxXMgcR338p8Pub', 'dXk3a4tqEjFijUrzxfv563', 'changeGraph', 'eyJpZCI6IDI3OCwgInR5cGUiOiAidmVydGV4IiwgInByb3BzIjogeyJzaXplIjogMTguNTk2NDkxMjI4MDcwMTc1fX0K');</script>\n",
       "    "
      ],
      "text/plain": [
       "<IPython.core.display.HTML object>"
      ]
     },
     "metadata": {},
     "output_type": "display_data"
    },
    {
     "data": {
      "text/html": [
       "\n",
       "        <div id=\"HvfPHTJFo84TFR8UGKG76y\"></div>\n",
       "        <script>netpixi.call('HvfPHTJFo84TFR8UGKG76y', 'dXk3a4tqEjFijUrzxfv563', 'changeGraph', 'eyJpZCI6IDI3OSwgInR5cGUiOiAidmVydGV4IiwgInByb3BzIjogeyJzaXplIjogMTIuNTQzODU5NjQ5MTIyODA4fX0K');</script>\n",
       "    "
      ],
      "text/plain": [
       "<IPython.core.display.HTML object>"
      ]
     },
     "metadata": {},
     "output_type": "display_data"
    },
    {
     "data": {
      "text/html": [
       "\n",
       "        <div id=\"6fj6DDKN5HdhiFMmneQAdq\"></div>\n",
       "        <script>netpixi.call('6fj6DDKN5HdhiFMmneQAdq', 'dXk3a4tqEjFijUrzxfv563', 'changeGraph', 'eyJpZCI6IDI4MCwgInR5cGUiOiAidmVydGV4IiwgInByb3BzIjogeyJzaXplIjogMTYuMzAxMTY5NTkwNjQzMjc2fX0K');</script>\n",
       "    "
      ],
      "text/plain": [
       "<IPython.core.display.HTML object>"
      ]
     },
     "metadata": {},
     "output_type": "display_data"
    },
    {
     "data": {
      "text/html": [
       "\n",
       "        <div id=\"amF2A3gKud5VxEgfAFwWBU\"></div>\n",
       "        <script>netpixi.call('amF2A3gKud5VxEgfAFwWBU', 'dXk3a4tqEjFijUrzxfv563', 'changeGraph', 'eyJpZCI6IDI4MSwgInR5cGUiOiAidmVydGV4IiwgInByb3BzIjogeyJzaXplIjogMTkuMjM5NzY2MDgxODcxMzQ1fX0K');</script>\n",
       "    "
      ],
      "text/plain": [
       "<IPython.core.display.HTML object>"
      ]
     },
     "metadata": {},
     "output_type": "display_data"
    },
    {
     "data": {
      "text/html": [
       "\n",
       "        <div id=\"MwkPELjMXzzR49jHp9rxtD\"></div>\n",
       "        <script>netpixi.call('MwkPELjMXzzR49jHp9rxtD', 'dXk3a4tqEjFijUrzxfv563', 'changeGraph', 'eyJpZCI6IDI4MiwgInR5cGUiOiAidmVydGV4IiwgInByb3BzIjogeyJzaXplIjogNDguNjYyNzkwNjk3Njc0NDI0fX0K');</script>\n",
       "    "
      ],
      "text/plain": [
       "<IPython.core.display.HTML object>"
      ]
     },
     "metadata": {},
     "output_type": "display_data"
    },
    {
     "data": {
      "text/html": [
       "\n",
       "        <div id=\"LbqgzjVv37rT3H47589aZK\"></div>\n",
       "        <script>netpixi.call('LbqgzjVv37rT3H47589aZK', 'dXk3a4tqEjFijUrzxfv563', 'changeGraph', 'eyJpZCI6IDI4MywgInR5cGUiOiAidmVydGV4IiwgInByb3BzIjogeyJzaXplIjogNDYuMTYyNzkwNjk3Njc0NDI0fX0K');</script>\n",
       "    "
      ],
      "text/plain": [
       "<IPython.core.display.HTML object>"
      ]
     },
     "metadata": {},
     "output_type": "display_data"
    },
    {
     "data": {
      "text/html": [
       "\n",
       "        <div id=\"CaQSitiZU5bVfS5xYa8MBE\"></div>\n",
       "        <script>netpixi.call('CaQSitiZU5bVfS5xYa8MBE', 'dXk3a4tqEjFijUrzxfv563', 'changeGraph', 'eyJpZCI6IDI4NCwgInR5cGUiOiAidmVydGV4IiwgInByb3BzIjogeyJzaXplIjogNDYuMDQ2NTExNjI3OTA2OTh9fQo=');</script>\n",
       "    "
      ],
      "text/plain": [
       "<IPython.core.display.HTML object>"
      ]
     },
     "metadata": {},
     "output_type": "display_data"
    },
    {
     "data": {
      "text/html": [
       "\n",
       "        <div id=\"gV24gmHSwcpQGQfG6Tam6f\"></div>\n",
       "        <script>netpixi.call('gV24gmHSwcpQGQfG6Tam6f', 'dXk3a4tqEjFijUrzxfv563', 'changeGraph', 'eyJpZCI6IDI4NSwgInR5cGUiOiAidmVydGV4IiwgInByb3BzIjogeyJzaXplIjogNDQuNzA5MzAyMzI1NTgxNH19Cg==');</script>\n",
       "    "
      ],
      "text/plain": [
       "<IPython.core.display.HTML object>"
      ]
     },
     "metadata": {},
     "output_type": "display_data"
    },
    {
     "data": {
      "text/html": [
       "\n",
       "        <div id=\"FPN3yrELHreZYJ7oJvcY5f\"></div>\n",
       "        <script>netpixi.call('FPN3yrELHreZYJ7oJvcY5f', 'dXk3a4tqEjFijUrzxfv563', 'changeGraph', 'eyJpZCI6IDI4NiwgInR5cGUiOiAidmVydGV4IiwgInByb3BzIjogeyJzaXplIjogNDQuNTM0ODgzNzIwOTMwMjN9fQo=');</script>\n",
       "    "
      ],
      "text/plain": [
       "<IPython.core.display.HTML object>"
      ]
     },
     "metadata": {},
     "output_type": "display_data"
    },
    {
     "data": {
      "text/html": [
       "\n",
       "        <div id=\"GWKDDS6Fqz64fyxr3P3GpD\"></div>\n",
       "        <script>netpixi.call('GWKDDS6Fqz64fyxr3P3GpD', 'dXk3a4tqEjFijUrzxfv563', 'changeGraph', 'eyJpZCI6IDI4NywgInR5cGUiOiAidmVydGV4IiwgInByb3BzIjogeyJzaXplIjogNDguMjU1ODEzOTUzNDg4Mzd9fQo=');</script>\n",
       "    "
      ],
      "text/plain": [
       "<IPython.core.display.HTML object>"
      ]
     },
     "metadata": {},
     "output_type": "display_data"
    },
    {
     "data": {
      "text/html": [
       "\n",
       "        <div id=\"NzhZ5DwoySLigMaqdKkr6T\"></div>\n",
       "        <script>netpixi.call('NzhZ5DwoySLigMaqdKkr6T', 'dXk3a4tqEjFijUrzxfv563', 'changeGraph', 'eyJpZCI6IDI4OCwgInR5cGUiOiAidmVydGV4IiwgInByb3BzIjogeyJzaXplIjogNDEuMzk1MzQ4ODM3MjA5M319Cg==');</script>\n",
       "    "
      ],
      "text/plain": [
       "<IPython.core.display.HTML object>"
      ]
     },
     "metadata": {},
     "output_type": "display_data"
    },
    {
     "data": {
      "text/html": [
       "\n",
       "        <div id=\"cucDKMJ5xDLpqkHg7w3jx8\"></div>\n",
       "        <script>netpixi.call('cucDKMJ5xDLpqkHg7w3jx8', 'dXk3a4tqEjFijUrzxfv563', 'changeGraph', 'eyJpZCI6IDI4OSwgInR5cGUiOiAidmVydGV4IiwgInByb3BzIjogeyJzaXplIjogNDguNzIwOTMwMjMyNTU4MTR9fQo=');</script>\n",
       "    "
      ],
      "text/plain": [
       "<IPython.core.display.HTML object>"
      ]
     },
     "metadata": {},
     "output_type": "display_data"
    },
    {
     "data": {
      "text/html": [
       "\n",
       "        <div id=\"7DmnqzwFe2N89BXjzKYEua\"></div>\n",
       "        <script>netpixi.call('7DmnqzwFe2N89BXjzKYEua', 'dXk3a4tqEjFijUrzxfv563', 'changeGraph', 'eyJpZCI6IDI5MCwgInR5cGUiOiAidmVydGV4IiwgInByb3BzIjogeyJzaXplIjogNDUuODEzOTUzNDg4MzcyMDl9fQo=');</script>\n",
       "    "
      ],
      "text/plain": [
       "<IPython.core.display.HTML object>"
      ]
     },
     "metadata": {},
     "output_type": "display_data"
    },
    {
     "data": {
      "text/html": [
       "\n",
       "        <div id=\"5SJLEsuMGkTYSRavzQqcoc\"></div>\n",
       "        <script>netpixi.call('5SJLEsuMGkTYSRavzQqcoc', 'dXk3a4tqEjFijUrzxfv563', 'changeGraph', 'eyJpZCI6IDI5MSwgInR5cGUiOiAidmVydGV4IiwgInByb3BzIjogeyJzaXplIjogMTcuODUwODc3MTkyOTgyNDU1fX0K');</script>\n",
       "    "
      ],
      "text/plain": [
       "<IPython.core.display.HTML object>"
      ]
     },
     "metadata": {},
     "output_type": "display_data"
    },
    {
     "data": {
      "text/html": [
       "\n",
       "        <div id=\"PtmKj9yvCVRhRvV8faGFDa\"></div>\n",
       "        <script>netpixi.call('PtmKj9yvCVRhRvV8faGFDa', 'dXk3a4tqEjFijUrzxfv563', 'changeGraph', 'eyJpZCI6IDI5MiwgInR5cGUiOiAidmVydGV4IiwgInByb3BzIjogeyJzaXplIjogMTIuMTkyOTgyNDU2MTQwMzUxfX0K');</script>\n",
       "    "
      ],
      "text/plain": [
       "<IPython.core.display.HTML object>"
      ]
     },
     "metadata": {},
     "output_type": "display_data"
    },
    {
     "data": {
      "text/html": [
       "\n",
       "        <div id=\"XoQUNriegodKeyAHXKBd78\"></div>\n",
       "        <script>netpixi.call('XoQUNriegodKeyAHXKBd78', 'dXk3a4tqEjFijUrzxfv563', 'changeGraph', 'eyJpZCI6IDI5MywgInR5cGUiOiAidmVydGV4IiwgInByb3BzIjogeyJzaXplIjogMTguNTM4MDExNjk1OTA2NDM0fX0K');</script>\n",
       "    "
      ],
      "text/plain": [
       "<IPython.core.display.HTML object>"
      ]
     },
     "metadata": {},
     "output_type": "display_data"
    },
    {
     "data": {
      "text/html": [
       "\n",
       "        <div id=\"Yo9NoKhfGeJPjt5KiaNHsm\"></div>\n",
       "        <script>netpixi.call('Yo9NoKhfGeJPjt5KiaNHsm', 'dXk3a4tqEjFijUrzxfv563', 'changeGraph', 'eyJpZCI6IDI5NCwgInR5cGUiOiAidmVydGV4IiwgInByb3BzIjogeyJzaXplIjogMTcuMzM5MTgxMjg2NTQ5NzA3fX0K');</script>\n",
       "    "
      ],
      "text/plain": [
       "<IPython.core.display.HTML object>"
      ]
     },
     "metadata": {},
     "output_type": "display_data"
    },
    {
     "data": {
      "text/html": [
       "\n",
       "        <div id=\"AvkJ8Ljjz3aerGR38NxFHo\"></div>\n",
       "        <script>netpixi.call('AvkJ8Ljjz3aerGR38NxFHo', 'dXk3a4tqEjFijUrzxfv563', 'changeGraph', 'eyJpZCI6IDI5NSwgInR5cGUiOiAidmVydGV4IiwgInByb3BzIjogeyJzaXplIjogMTcuNjE2OTU5MDY0MzI3NDg1fX0K');</script>\n",
       "    "
      ],
      "text/plain": [
       "<IPython.core.display.HTML object>"
      ]
     },
     "metadata": {},
     "output_type": "display_data"
    },
    {
     "data": {
      "text/html": [
       "\n",
       "        <div id=\"8eHfsDweiSuaF3tVqPmAGr\"></div>\n",
       "        <script>netpixi.call('8eHfsDweiSuaF3tVqPmAGr', 'dXk3a4tqEjFijUrzxfv563', 'changeGraph', 'eyJpZCI6IDI5NiwgInR5cGUiOiAidmVydGV4IiwgInByb3BzIjogeyJzaXplIjogMTYuODQyMTA1MjYzMTU3ODk0fX0K');</script>\n",
       "    "
      ],
      "text/plain": [
       "<IPython.core.display.HTML object>"
      ]
     },
     "metadata": {},
     "output_type": "display_data"
    },
    {
     "data": {
      "text/html": [
       "\n",
       "        <div id=\"cpGddzFCbtK3eio5Y4caVc\"></div>\n",
       "        <script>netpixi.call('cpGddzFCbtK3eio5Y4caVc', 'dXk3a4tqEjFijUrzxfv563', 'changeGraph', 'eyJpZCI6IDI5NywgInR5cGUiOiAidmVydGV4IiwgInByb3BzIjogeyJzaXplIjogMTIuODIxNjM3NDI2OTAwNTg1fX0K');</script>\n",
       "    "
      ],
      "text/plain": [
       "<IPython.core.display.HTML object>"
      ]
     },
     "metadata": {},
     "output_type": "display_data"
    },
    {
     "data": {
      "text/html": [
       "\n",
       "        <div id=\"bwegsj8C4JNLCVK3BghhLk\"></div>\n",
       "        <script>netpixi.call('bwegsj8C4JNLCVK3BghhLk', 'dXk3a4tqEjFijUrzxfv563', 'changeGraph', 'eyJpZCI6IDI5OCwgInR5cGUiOiAidmVydGV4IiwgInByb3BzIjogeyJzaXplIjogNDAuOTMwMjMyNTU4MTM5NTR9fQo=');</script>\n",
       "    "
      ],
      "text/plain": [
       "<IPython.core.display.HTML object>"
      ]
     },
     "metadata": {},
     "output_type": "display_data"
    },
    {
     "data": {
      "text/html": [
       "\n",
       "        <div id=\"54pTx285dBi8ksRjNHJCtP\"></div>\n",
       "        <script>netpixi.call('54pTx285dBi8ksRjNHJCtP', 'dXk3a4tqEjFijUrzxfv563', 'changeGraph', 'eyJpZCI6IDI5OSwgInR5cGUiOiAidmVydGV4IiwgInByb3BzIjogeyJzaXplIjogNDIuNjc0NDE4NjA0NjUxMTY2fX0K');</script>\n",
       "    "
      ],
      "text/plain": [
       "<IPython.core.display.HTML object>"
      ]
     },
     "metadata": {},
     "output_type": "display_data"
    },
    {
     "data": {
      "text/html": [
       "\n",
       "        <div id=\"Mgt2NgqbcP8Z5AtxMPApus\"></div>\n",
       "        <script>netpixi.call('Mgt2NgqbcP8Z5AtxMPApus', 'dXk3a4tqEjFijUrzxfv563', 'changeGraph', 'eyJpZCI6IDMwMCwgInR5cGUiOiAidmVydGV4IiwgInByb3BzIjogeyJzaXplIjogMTIuMTYzNzQyNjkwMDU4NDc5fX0K');</script>\n",
       "    "
      ],
      "text/plain": [
       "<IPython.core.display.HTML object>"
      ]
     },
     "metadata": {},
     "output_type": "display_data"
    },
    {
     "data": {
      "text/html": [
       "\n",
       "        <div id=\"N7CegDvXN93H7YkfdSszwQ\"></div>\n",
       "        <script>netpixi.call('N7CegDvXN93H7YkfdSszwQ', 'dXk3a4tqEjFijUrzxfv563', 'changeGraph', 'eyJpZCI6IDMwMSwgInR5cGUiOiAidmVydGV4IiwgInByb3BzIjogeyJzaXplIjogNDEuOTc2NzQ0MTg2MDQ2NTF9fQo=');</script>\n",
       "    "
      ],
      "text/plain": [
       "<IPython.core.display.HTML object>"
      ]
     },
     "metadata": {},
     "output_type": "display_data"
    },
    {
     "data": {
      "text/html": [
       "\n",
       "        <div id=\"BPPpLRh38fciLGdeL75SvC\"></div>\n",
       "        <script>netpixi.call('BPPpLRh38fciLGdeL75SvC', 'dXk3a4tqEjFijUrzxfv563', 'changeGraph', 'eyJpZCI6IDMwMiwgInR5cGUiOiAidmVydGV4IiwgInByb3BzIjogeyJzaXplIjogMTguNDM1NjcyNTE0NjE5ODh9fQo=');</script>\n",
       "    "
      ],
      "text/plain": [
       "<IPython.core.display.HTML object>"
      ]
     },
     "metadata": {},
     "output_type": "display_data"
    },
    {
     "data": {
      "text/html": [
       "\n",
       "        <div id=\"ZuWQrYCRjSAHCuVYsWxkwX\"></div>\n",
       "        <script>netpixi.call('ZuWQrYCRjSAHCuVYsWxkwX', 'dXk3a4tqEjFijUrzxfv563', 'changeGraph', 'eyJpZCI6IDMwMywgInR5cGUiOiAidmVydGV4IiwgInByb3BzIjogeyJzaXplIjogMTcuNTU4NDc5NTMyMTYzNzQ0fX0K');</script>\n",
       "    "
      ],
      "text/plain": [
       "<IPython.core.display.HTML object>"
      ]
     },
     "metadata": {},
     "output_type": "display_data"
    },
    {
     "data": {
      "text/html": [
       "\n",
       "        <div id=\"hHmDqW6QhkGsZmVqUxSuj4\"></div>\n",
       "        <script>netpixi.call('hHmDqW6QhkGsZmVqUxSuj4', 'dXk3a4tqEjFijUrzxfv563', 'changeGraph', 'eyJpZCI6IDMwNCwgInR5cGUiOiAidmVydGV4IiwgInByb3BzIjogeyJzaXplIjogMTcuMzUzODAxMTY5NTkwNjQzfX0K');</script>\n",
       "    "
      ],
      "text/plain": [
       "<IPython.core.display.HTML object>"
      ]
     },
     "metadata": {},
     "output_type": "display_data"
    },
    {
     "data": {
      "text/html": [
       "\n",
       "        <div id=\"aDBH5p93omG23EfLi9Ayr7\"></div>\n",
       "        <script>netpixi.call('aDBH5p93omG23EfLi9Ayr7', 'dXk3a4tqEjFijUrzxfv563', 'changeGraph', 'eyJpZCI6IDMwNSwgInR5cGUiOiAidmVydGV4IiwgInByb3BzIjogeyJzaXplIjogMTYuNjk1OTA2NDMyNzQ4NTM2fX0K');</script>\n",
       "    "
      ],
      "text/plain": [
       "<IPython.core.display.HTML object>"
      ]
     },
     "metadata": {},
     "output_type": "display_data"
    },
    {
     "data": {
      "text/html": [
       "\n",
       "        <div id=\"fqZeFbCAAvkLtexGqcZAt8\"></div>\n",
       "        <script>netpixi.call('fqZeFbCAAvkLtexGqcZAt8', 'dXk3a4tqEjFijUrzxfv563', 'changeGraph', 'eyJpZCI6IDMwNiwgInR5cGUiOiAidmVydGV4IiwgInByb3BzIjogeyJzaXplIjogMTAuNTI2MzE1Nzg5NDczNjg1fX0K');</script>\n",
       "    "
      ],
      "text/plain": [
       "<IPython.core.display.HTML object>"
      ]
     },
     "metadata": {},
     "output_type": "display_data"
    },
    {
     "data": {
      "text/html": [
       "\n",
       "        <div id=\"PWWbqJ9SwD6uGZP6s3KsA3\"></div>\n",
       "        <script>netpixi.call('PWWbqJ9SwD6uGZP6s3KsA3', 'dXk3a4tqEjFijUrzxfv563', 'changeGraph', 'eyJpZCI6IDMwNywgInR5cGUiOiAidmVydGV4IiwgInByb3BzIjogeyJzaXplIjogMTEuNjIyODA3MDE3NTQzODZ9fQo=');</script>\n",
       "    "
      ],
      "text/plain": [
       "<IPython.core.display.HTML object>"
      ]
     },
     "metadata": {},
     "output_type": "display_data"
    },
    {
     "data": {
      "text/html": [
       "\n",
       "        <div id=\"3457MWQydLYbqE4ibJdUXE\"></div>\n",
       "        <script>netpixi.call('3457MWQydLYbqE4ibJdUXE', 'dXk3a4tqEjFijUrzxfv563', 'changeGraph', 'eyJpZCI6IDMwOCwgInR5cGUiOiAidmVydGV4IiwgInByb3BzIjogeyJzaXplIjogMTAuMzk0NzM2ODQyMTA1MjY0fX0K');</script>\n",
       "    "
      ],
      "text/plain": [
       "<IPython.core.display.HTML object>"
      ]
     },
     "metadata": {},
     "output_type": "display_data"
    },
    {
     "data": {
      "text/html": [
       "\n",
       "        <div id=\"GYqanSCSdVSsuPvNtxenHB\"></div>\n",
       "        <script>netpixi.call('GYqanSCSdVSsuPvNtxenHB', 'dXk3a4tqEjFijUrzxfv563', 'changeGraph', 'eyJpZCI6IDMwOSwgInR5cGUiOiAidmVydGV4IiwgInByb3BzIjogeyJzaXplIjogMTEuMzMwNDA5MzU2NzI1MTQ3fX0K');</script>\n",
       "    "
      ],
      "text/plain": [
       "<IPython.core.display.HTML object>"
      ]
     },
     "metadata": {},
     "output_type": "display_data"
    },
    {
     "data": {
      "text/html": [
       "\n",
       "        <div id=\"mCFeVguzD7hXmTUTs6RF5a\"></div>\n",
       "        <script>netpixi.call('mCFeVguzD7hXmTUTs6RF5a', 'dXk3a4tqEjFijUrzxfv563', 'changeGraph', 'eyJpZCI6IDMxMCwgInR5cGUiOiAidmVydGV4IiwgInByb3BzIjogeyJzaXplIjogNDMuNDg4MzcyMDkzMDIzMjZ9fQo=');</script>\n",
       "    "
      ],
      "text/plain": [
       "<IPython.core.display.HTML object>"
      ]
     },
     "metadata": {},
     "output_type": "display_data"
    },
    {
     "data": {
      "text/html": [
       "\n",
       "        <div id=\"6NyDWuQMs98R77Lns6shDg\"></div>\n",
       "        <script>netpixi.call('6NyDWuQMs98R77Lns6shDg', 'dXk3a4tqEjFijUrzxfv563', 'changeGraph', 'eyJpZCI6IDMxMSwgInR5cGUiOiAidmVydGV4IiwgInByb3BzIjogeyJzaXplIjogNDQuMzAyMzI1NTgxMzk1MzV9fQo=');</script>\n",
       "    "
      ],
      "text/plain": [
       "<IPython.core.display.HTML object>"
      ]
     },
     "metadata": {},
     "output_type": "display_data"
    },
    {
     "data": {
      "text/html": [
       "\n",
       "        <div id=\"MKsF5wCKFpvWkWqsJ4DEeY\"></div>\n",
       "        <script>netpixi.call('MKsF5wCKFpvWkWqsJ4DEeY', 'dXk3a4tqEjFijUrzxfv563', 'changeGraph', 'eyJpZCI6IDMxMiwgInR5cGUiOiAidmVydGV4IiwgInByb3BzIjogeyJzaXplIjogMTkuNjM0NTAyOTIzOTc2NjF9fQo=');</script>\n",
       "    "
      ],
      "text/plain": [
       "<IPython.core.display.HTML object>"
      ]
     },
     "metadata": {},
     "output_type": "display_data"
    },
    {
     "data": {
      "text/html": [
       "\n",
       "        <div id=\"SqU9wExYprmPF3w6xdBnJP\"></div>\n",
       "        <script>netpixi.call('SqU9wExYprmPF3w6xdBnJP', 'dXk3a4tqEjFijUrzxfv563', 'changeGraph', 'eyJpZCI6IDMxMywgInR5cGUiOiAidmVydGV4IiwgInByb3BzIjogeyJzaXplIjogNDEuMjIwOTMwMjMyNTU4MTR9fQo=');</script>\n",
       "    "
      ],
      "text/plain": [
       "<IPython.core.display.HTML object>"
      ]
     },
     "metadata": {},
     "output_type": "display_data"
    },
    {
     "data": {
      "text/html": [
       "\n",
       "        <div id=\"BQFYXeHBK3L85WH6SiQ9yA\"></div>\n",
       "        <script>netpixi.call('BQFYXeHBK3L85WH6SiQ9yA', 'dXk3a4tqEjFijUrzxfv563', 'changeGraph', 'eyJpZCI6IDMxNCwgInR5cGUiOiAidmVydGV4IiwgInByb3BzIjogeyJzaXplIjogNDIuMTUxMTYyNzkwNjk3Njc2fX0K');</script>\n",
       "    "
      ],
      "text/plain": [
       "<IPython.core.display.HTML object>"
      ]
     },
     "metadata": {},
     "output_type": "display_data"
    },
    {
     "data": {
      "text/html": [
       "\n",
       "        <div id=\"Vc9uYpZth9qohD7hyoCw8U\"></div>\n",
       "        <script>netpixi.call('Vc9uYpZth9qohD7hyoCw8U', 'dXk3a4tqEjFijUrzxfv563', 'changeGraph', 'eyJpZCI6IDMxNSwgInR5cGUiOiAidmVydGV4IiwgInByb3BzIjogeyJzaXplIjogMTIuODY1NDk3MDc2MDIzMzkyfX0K');</script>\n",
       "    "
      ],
      "text/plain": [
       "<IPython.core.display.HTML object>"
      ]
     },
     "metadata": {},
     "output_type": "display_data"
    },
    {
     "data": {
      "text/html": [
       "\n",
       "        <div id=\"4iW3XNwmRnc8UgRRWcFZb9\"></div>\n",
       "        <script>netpixi.call('4iW3XNwmRnc8UgRRWcFZb9', 'dXk3a4tqEjFijUrzxfv563', 'changeGraph', 'eyJpZCI6IDMxNiwgInR5cGUiOiAidmVydGV4IiwgInByb3BzIjogeyJzaXplIjogMTguNTIzMzkxODEyODY1NDk4fX0K');</script>\n",
       "    "
      ],
      "text/plain": [
       "<IPython.core.display.HTML object>"
      ]
     },
     "metadata": {},
     "output_type": "display_data"
    },
    {
     "data": {
      "text/html": [
       "\n",
       "        <div id=\"9AdDAqNUwSczzaEJ5dKfz7\"></div>\n",
       "        <script>netpixi.call('9AdDAqNUwSczzaEJ5dKfz7', 'dXk3a4tqEjFijUrzxfv563', 'changeGraph', 'eyJpZCI6IDMxNywgInR5cGUiOiAidmVydGV4IiwgInByb3BzIjogeyJzaXplIjogNDMuODk1MzQ4ODM3MjA5MzA1fX0K');</script>\n",
       "    "
      ],
      "text/plain": [
       "<IPython.core.display.HTML object>"
      ]
     },
     "metadata": {},
     "output_type": "display_data"
    },
    {
     "data": {
      "text/html": [
       "\n",
       "        <div id=\"Eo3qgKAoFEQK2qLEPthMox\"></div>\n",
       "        <script>netpixi.call('Eo3qgKAoFEQK2qLEPthMox', 'dXk3a4tqEjFijUrzxfv563', 'changeGraph', 'eyJpZCI6IDMxOCwgInR5cGUiOiAidmVydGV4IiwgInByb3BzIjogeyJzaXplIjogNDMuNDMwMjMyNTU4MTM5NTR9fQo=');</script>\n",
       "    "
      ],
      "text/plain": [
       "<IPython.core.display.HTML object>"
      ]
     },
     "metadata": {},
     "output_type": "display_data"
    },
    {
     "data": {
      "text/html": [
       "\n",
       "        <div id=\"TtJgcQZGJiLxSTeXUkaF6p\"></div>\n",
       "        <script>netpixi.call('TtJgcQZGJiLxSTeXUkaF6p', 'dXk3a4tqEjFijUrzxfv563', 'changeGraph', 'eyJpZCI6IDMxOSwgInR5cGUiOiAidmVydGV4IiwgInByb3BzIjogeyJzaXplIjogMTMuOTYxOTg4MzA0MDkzNTY2fX0K');</script>\n",
       "    "
      ],
      "text/plain": [
       "<IPython.core.display.HTML object>"
      ]
     },
     "metadata": {},
     "output_type": "display_data"
    },
    {
     "data": {
      "text/html": [
       "\n",
       "        <div id=\"4XoQ5ipYFGS94sZCBwwpDP\"></div>\n",
       "        <script>netpixi.call('4XoQ5ipYFGS94sZCBwwpDP', 'dXk3a4tqEjFijUrzxfv563', 'changeGraph', 'eyJpZCI6IDMyMCwgInR5cGUiOiAidmVydGV4IiwgInByb3BzIjogeyJzaXplIjogMTguNDA2NDMyNzQ4NTM4MDF9fQo=');</script>\n",
       "    "
      ],
      "text/plain": [
       "<IPython.core.display.HTML object>"
      ]
     },
     "metadata": {},
     "output_type": "display_data"
    },
    {
     "data": {
      "text/html": [
       "\n",
       "        <div id=\"mRegr4DGCnQJhF6EzB8vsG\"></div>\n",
       "        <script>netpixi.call('mRegr4DGCnQJhF6EzB8vsG', 'dXk3a4tqEjFijUrzxfv563', 'changeGraph', 'eyJpZCI6IDMyMSwgInR5cGUiOiAidmVydGV4IiwgInByb3BzIjogeyJzaXplIjogNDguMzEzOTUzNDg4MzcyMDl9fQo=');</script>\n",
       "    "
      ],
      "text/plain": [
       "<IPython.core.display.HTML object>"
      ]
     },
     "metadata": {},
     "output_type": "display_data"
    },
    {
     "data": {
      "text/html": [
       "\n",
       "        <div id=\"NUPPphcUWL3jDJUnWKWfBC\"></div>\n",
       "        <script>netpixi.call('NUPPphcUWL3jDJUnWKWfBC', 'dXk3a4tqEjFijUrzxfv563', 'changeGraph', 'eyJpZCI6IDMyMiwgInR5cGUiOiAidmVydGV4IiwgInByb3BzIjogeyJzaXplIjogMTEuNjA4MTg3MTM0NTAyOTIzfX0K');</script>\n",
       "    "
      ],
      "text/plain": [
       "<IPython.core.display.HTML object>"
      ]
     },
     "metadata": {},
     "output_type": "display_data"
    },
    {
     "data": {
      "text/html": [
       "\n",
       "        <div id=\"hsyFMzoCXhkaM6h9UVJ55V\"></div>\n",
       "        <script>netpixi.call('hsyFMzoCXhkaM6h9UVJ55V', 'dXk3a4tqEjFijUrzxfv563', 'changeGraph', 'eyJpZCI6IDMyMywgInR5cGUiOiAidmVydGV4IiwgInByb3BzIjogeyJzaXplIjogMTguOTQ3MzY4NDIxMDUyNjN9fQo=');</script>\n",
       "    "
      ],
      "text/plain": [
       "<IPython.core.display.HTML object>"
      ]
     },
     "metadata": {},
     "output_type": "display_data"
    },
    {
     "data": {
      "text/html": [
       "\n",
       "        <div id=\"2bj3ZrB2QpGjFhitjsccEK\"></div>\n",
       "        <script>netpixi.call('2bj3ZrB2QpGjFhitjsccEK', 'dXk3a4tqEjFijUrzxfv563', 'changeGraph', 'eyJpZCI6IDMyNCwgInR5cGUiOiAidmVydGV4IiwgInByb3BzIjogeyJzaXplIjogMTkuMDM1MDg3NzE5Mjk4MjQ3fX0K');</script>\n",
       "    "
      ],
      "text/plain": [
       "<IPython.core.display.HTML object>"
      ]
     },
     "metadata": {},
     "output_type": "display_data"
    },
    {
     "data": {
      "text/html": [
       "\n",
       "        <div id=\"VYhfuVdjePKP2SdsQrP6LL\"></div>\n",
       "        <script>netpixi.call('VYhfuVdjePKP2SdsQrP6LL', 'dXk3a4tqEjFijUrzxfv563', 'changeGraph', 'eyJpZCI6IDMyNSwgInR5cGUiOiAidmVydGV4IiwgInByb3BzIjogeyJzaXplIjogMTguMTI4NjU0OTcwNzYwMjM0fX0K');</script>\n",
       "    "
      ],
      "text/plain": [
       "<IPython.core.display.HTML object>"
      ]
     },
     "metadata": {},
     "output_type": "display_data"
    },
    {
     "data": {
      "text/html": [
       "\n",
       "        <div id=\"RjFcGda4LkdHnspjHsJsWc\"></div>\n",
       "        <script>netpixi.call('RjFcGda4LkdHnspjHsJsWc', 'dXk3a4tqEjFijUrzxfv563', 'changeGraph', 'eyJpZCI6IDMyNiwgInR5cGUiOiAidmVydGV4IiwgInByb3BzIjogeyJzaXplIjogMTguOTkxMjI4MDcwMTc1NDR9fQo=');</script>\n",
       "    "
      ],
      "text/plain": [
       "<IPython.core.display.HTML object>"
      ]
     },
     "metadata": {},
     "output_type": "display_data"
    },
    {
     "data": {
      "text/html": [
       "\n",
       "        <div id=\"AsvFZ5baoBsRSkAzFVCjYW\"></div>\n",
       "        <script>netpixi.call('AsvFZ5baoBsRSkAzFVCjYW', 'dXk3a4tqEjFijUrzxfv563', 'changeGraph', 'eyJpZCI6IDMyNywgInR5cGUiOiAidmVydGV4IiwgInByb3BzIjogeyJzaXplIjogMTguMzA0MDkzNTY3MjUxNDY0fX0K');</script>\n",
       "    "
      ],
      "text/plain": [
       "<IPython.core.display.HTML object>"
      ]
     },
     "metadata": {},
     "output_type": "display_data"
    },
    {
     "data": {
      "text/html": [
       "\n",
       "        <div id=\"VrKU6R5YPQfpH54GgMYQbX\"></div>\n",
       "        <script>netpixi.call('VrKU6R5YPQfpH54GgMYQbX', 'dXk3a4tqEjFijUrzxfv563', 'changeGraph', 'eyJpZCI6IDMyOCwgInR5cGUiOiAidmVydGV4IiwgInByb3BzIjogeyJzaXplIjogMTQuODUzODAxMTY5NTkwNjQzfX0K');</script>\n",
       "    "
      ],
      "text/plain": [
       "<IPython.core.display.HTML object>"
      ]
     },
     "metadata": {},
     "output_type": "display_data"
    },
    {
     "data": {
      "text/html": [
       "\n",
       "        <div id=\"Q6V9p4qcCUCws4t35vv5XU\"></div>\n",
       "        <script>netpixi.call('Q6V9p4qcCUCws4t35vv5XU', 'dXk3a4tqEjFijUrzxfv563', 'changeGraph', 'eyJpZCI6IDMyOSwgInR5cGUiOiAidmVydGV4IiwgInByb3BzIjogeyJzaXplIjogNDAuNzU1ODEzOTUzNDg4Mzd9fQo=');</script>\n",
       "    "
      ],
      "text/plain": [
       "<IPython.core.display.HTML object>"
      ]
     },
     "metadata": {},
     "output_type": "display_data"
    },
    {
     "data": {
      "text/html": [
       "\n",
       "        <div id=\"g5HVijJzNeETQoTHj2QSsq\"></div>\n",
       "        <script>netpixi.call('g5HVijJzNeETQoTHj2QSsq', 'dXk3a4tqEjFijUrzxfv563', 'changeGraph', 'eyJpZCI6IDMzMCwgInR5cGUiOiAidmVydGV4IiwgInByb3BzIjogeyJzaXplIjogMTYuODg1OTY0OTEyMjgwNzAyfX0K');</script>\n",
       "    "
      ],
      "text/plain": [
       "<IPython.core.display.HTML object>"
      ]
     },
     "metadata": {},
     "output_type": "display_data"
    },
    {
     "data": {
      "text/html": [
       "\n",
       "        <div id=\"P7dw4cELgAfu35M4vFhAqE\"></div>\n",
       "        <script>netpixi.call('P7dw4cELgAfu35M4vFhAqE', 'dXk3a4tqEjFijUrzxfv563', 'changeGraph', 'eyJpZCI6IDMzMSwgInR5cGUiOiAidmVydGV4IiwgInByb3BzIjogeyJzaXplIjogMTguMDU1NTU1NTU1NTU1NTU3fX0K');</script>\n",
       "    "
      ],
      "text/plain": [
       "<IPython.core.display.HTML object>"
      ]
     },
     "metadata": {},
     "output_type": "display_data"
    },
    {
     "data": {
      "text/html": [
       "\n",
       "        <div id=\"MxxibMMpqQjVkp3rEgWkvH\"></div>\n",
       "        <script>netpixi.call('MxxibMMpqQjVkp3rEgWkvH', 'dXk3a4tqEjFijUrzxfv563', 'changeGraph', 'eyJpZCI6IDMzMiwgInR5cGUiOiAidmVydGV4IiwgInByb3BzIjogeyJzaXplIjogMTIuMDkwNjQzMjc0ODUzOH19Cg==');</script>\n",
       "    "
      ],
      "text/plain": [
       "<IPython.core.display.HTML object>"
      ]
     },
     "metadata": {},
     "output_type": "display_data"
    },
    {
     "data": {
      "text/html": [
       "\n",
       "        <div id=\"2MwKDsxzWNgWFMFY87FCsY\"></div>\n",
       "        <script>netpixi.call('2MwKDsxzWNgWFMFY87FCsY', 'dXk3a4tqEjFijUrzxfv563', 'changeGraph', 'eyJpZCI6IDMzMywgInR5cGUiOiAidmVydGV4IiwgInByb3BzIjogeyJzaXplIjogNDIuODQ4ODM3MjA5MzAyMzI0fX0K');</script>\n",
       "    "
      ],
      "text/plain": [
       "<IPython.core.display.HTML object>"
      ]
     },
     "metadata": {},
     "output_type": "display_data"
    },
    {
     "data": {
      "text/html": [
       "\n",
       "        <div id=\"cTaBJR99LdxUi6h2YhVgXV\"></div>\n",
       "        <script>netpixi.call('cTaBJR99LdxUi6h2YhVgXV', 'dXk3a4tqEjFijUrzxfv563', 'changeGraph', 'eyJpZCI6IDMzNCwgInR5cGUiOiAidmVydGV4IiwgInByb3BzIjogeyJzaXplIjogMTkuMzcxMzQ1MDI5MjM5NzY2fX0K');</script>\n",
       "    "
      ],
      "text/plain": [
       "<IPython.core.display.HTML object>"
      ]
     },
     "metadata": {},
     "output_type": "display_data"
    },
    {
     "data": {
      "text/html": [
       "\n",
       "        <div id=\"XKAtm4d8qUbtfFdiwcbu8C\"></div>\n",
       "        <script>netpixi.call('XKAtm4d8qUbtfFdiwcbu8C', 'dXk3a4tqEjFijUrzxfv563', 'changeGraph', 'eyJpZCI6IDMzNSwgInR5cGUiOiAidmVydGV4IiwgInByb3BzIjogeyJzaXplIjogMTcuMTc4MzYyNTczMDk5NDEzfX0K');</script>\n",
       "    "
      ],
      "text/plain": [
       "<IPython.core.display.HTML object>"
      ]
     },
     "metadata": {},
     "output_type": "display_data"
    },
    {
     "data": {
      "text/html": [
       "\n",
       "        <div id=\"QSpicXH8DM7y9CfkP3qerB\"></div>\n",
       "        <script>netpixi.call('QSpicXH8DM7y9CfkP3qerB', 'dXk3a4tqEjFijUrzxfv563', 'changeGraph', 'eyJpZCI6IDMzNiwgInR5cGUiOiAidmVydGV4IiwgInByb3BzIjogeyJzaXplIjogMTYuOTAwNTg0Nzk1MzIxNjM4fX0K');</script>\n",
       "    "
      ],
      "text/plain": [
       "<IPython.core.display.HTML object>"
      ]
     },
     "metadata": {},
     "output_type": "display_data"
    },
    {
     "data": {
      "text/html": [
       "\n",
       "        <div id=\"aDoYghZADqMN5SoDpRWUQh\"></div>\n",
       "        <script>netpixi.call('aDoYghZADqMN5SoDpRWUQh', 'dXk3a4tqEjFijUrzxfv563', 'changeGraph', 'eyJpZCI6IDMzNywgInR5cGUiOiAidmVydGV4IiwgInByb3BzIjogeyJzaXplIjogMTcuNjQ2MTk4ODMwNDA5MzU3fX0K');</script>\n",
       "    "
      ],
      "text/plain": [
       "<IPython.core.display.HTML object>"
      ]
     },
     "metadata": {},
     "output_type": "display_data"
    },
    {
     "data": {
      "text/html": [
       "\n",
       "        <div id=\"cmsdcU5ARA4M4BMNij7epw\"></div>\n",
       "        <script>netpixi.call('cmsdcU5ARA4M4BMNij7epw', 'dXk3a4tqEjFijUrzxfv563', 'changeGraph', 'eyJpZCI6IDMzOCwgInR5cGUiOiAidmVydGV4IiwgInByb3BzIjogeyJzaXplIjogMTQuOTcwNzYwMjMzOTE4MTI4fX0K');</script>\n",
       "    "
      ],
      "text/plain": [
       "<IPython.core.display.HTML object>"
      ]
     },
     "metadata": {},
     "output_type": "display_data"
    },
    {
     "data": {
      "text/html": [
       "\n",
       "        <div id=\"f7mddP9xMMjBSTby86WEU7\"></div>\n",
       "        <script>netpixi.call('f7mddP9xMMjBSTby86WEU7', 'dXk3a4tqEjFijUrzxfv563', 'changeGraph', 'eyJpZCI6IDMzOSwgInR5cGUiOiAidmVydGV4IiwgInByb3BzIjogeyJzaXplIjogMTIuMTQ5MTIyODA3MDE3NTQ1fX0K');</script>\n",
       "    "
      ],
      "text/plain": [
       "<IPython.core.display.HTML object>"
      ]
     },
     "metadata": {},
     "output_type": "display_data"
    },
    {
     "data": {
      "text/html": [
       "\n",
       "        <div id=\"nDFk39pc7AyLzdeMmZpjEQ\"></div>\n",
       "        <script>netpixi.call('nDFk39pc7AyLzdeMmZpjEQ', 'dXk3a4tqEjFijUrzxfv563', 'changeGraph', 'eyJpZCI6IDM0MCwgInR5cGUiOiAidmVydGV4IiwgInByb3BzIjogeyJzaXplIjogMTcuNzMzOTE4MTI4NjU0OTd9fQo=');</script>\n",
       "    "
      ],
      "text/plain": [
       "<IPython.core.display.HTML object>"
      ]
     },
     "metadata": {},
     "output_type": "display_data"
    },
    {
     "data": {
      "text/html": [
       "\n",
       "        <div id=\"nWzChDJ4sDru4p7C7h9MRL\"></div>\n",
       "        <script>netpixi.call('nWzChDJ4sDru4p7C7h9MRL', 'dXk3a4tqEjFijUrzxfv563', 'changeGraph', 'eyJpZCI6IDM0MSwgInR5cGUiOiAidmVydGV4IiwgInByb3BzIjogeyJzaXplIjogMTIuMzM5MTgxMjg2NTQ5NzA3fX0K');</script>\n",
       "    "
      ],
      "text/plain": [
       "<IPython.core.display.HTML object>"
      ]
     },
     "metadata": {},
     "output_type": "display_data"
    },
    {
     "data": {
      "text/html": [
       "\n",
       "        <div id=\"URYFhTuyoS6XH3iSJqE3UW\"></div>\n",
       "        <script>netpixi.call('URYFhTuyoS6XH3iSJqE3UW', 'dXk3a4tqEjFijUrzxfv563', 'changeGraph', 'eyJpZCI6IDM0MiwgInR5cGUiOiAidmVydGV4IiwgInByb3BzIjogeyJzaXplIjogMTMuNjExMTExMTExMTExMTF9fQo=');</script>\n",
       "    "
      ],
      "text/plain": [
       "<IPython.core.display.HTML object>"
      ]
     },
     "metadata": {},
     "output_type": "display_data"
    },
    {
     "data": {
      "text/html": [
       "\n",
       "        <div id=\"fS4tEPUqeNfgVRvQCnauzG\"></div>\n",
       "        <script>netpixi.call('fS4tEPUqeNfgVRvQCnauzG', 'dXk3a4tqEjFijUrzxfv563', 'changeGraph', 'eyJpZCI6IDM0MywgInR5cGUiOiAidmVydGV4IiwgInByb3BzIjogeyJzaXplIjogMTYuMjQyNjkwMDU4NDc5NTMyfX0K');</script>\n",
       "    "
      ],
      "text/plain": [
       "<IPython.core.display.HTML object>"
      ]
     },
     "metadata": {},
     "output_type": "display_data"
    },
    {
     "data": {
      "text/html": [
       "\n",
       "        <div id=\"KZmWjA62SydjzFZBgPAf3U\"></div>\n",
       "        <script>netpixi.call('KZmWjA62SydjzFZBgPAf3U', 'dXk3a4tqEjFijUrzxfv563', 'changeGraph', 'eyJpZCI6IDM0NCwgInR5cGUiOiAidmVydGV4IiwgInByb3BzIjogeyJzaXplIjogMTcuMTM0NTAyOTIzOTc2NjF9fQo=');</script>\n",
       "    "
      ],
      "text/plain": [
       "<IPython.core.display.HTML object>"
      ]
     },
     "metadata": {},
     "output_type": "display_data"
    },
    {
     "data": {
      "text/html": [
       "\n",
       "        <div id=\"eu99Fsky3TcvwjUng7q6BG\"></div>\n",
       "        <script>netpixi.call('eu99Fsky3TcvwjUng7q6BG', 'dXk3a4tqEjFijUrzxfv563', 'changeGraph', 'eyJpZCI6IDM0NSwgInR5cGUiOiAidmVydGV4IiwgInByb3BzIjogeyJzaXplIjogNDcuNzMyNTU4MTM5NTM0ODl9fQo=');</script>\n",
       "    "
      ],
      "text/plain": [
       "<IPython.core.display.HTML object>"
      ]
     },
     "metadata": {},
     "output_type": "display_data"
    },
    {
     "data": {
      "text/html": [
       "\n",
       "        <div id=\"jUMTRGRZnMCnjwLJ6d233m\"></div>\n",
       "        <script>netpixi.call('jUMTRGRZnMCnjwLJ6d233m', 'dXk3a4tqEjFijUrzxfv563', 'changeGraph', 'eyJpZCI6IDM0NiwgInR5cGUiOiAidmVydGV4IiwgInByb3BzIjogeyJzaXplIjogMTkuOTg1MzgwMTE2OTU5MDY0fX0K');</script>\n",
       "    "
      ],
      "text/plain": [
       "<IPython.core.display.HTML object>"
      ]
     },
     "metadata": {},
     "output_type": "display_data"
    },
    {
     "data": {
      "text/html": [
       "\n",
       "        <div id=\"aGiuRGVDBFyc9kVjU9or57\"></div>\n",
       "        <script>netpixi.call('aGiuRGVDBFyc9kVjU9or57', 'dXk3a4tqEjFijUrzxfv563', 'changeGraph', 'eyJpZCI6IDM0NywgInR5cGUiOiAidmVydGV4IiwgInByb3BzIjogeyJzaXplIjogMTMuNDIxMDUyNjMxNTc4OTQ3fX0K');</script>\n",
       "    "
      ],
      "text/plain": [
       "<IPython.core.display.HTML object>"
      ]
     },
     "metadata": {},
     "output_type": "display_data"
    },
    {
     "data": {
      "text/html": [
       "\n",
       "        <div id=\"SBkzMuzT8NDm6QxNbgBoqj\"></div>\n",
       "        <script>netpixi.call('SBkzMuzT8NDm6QxNbgBoqj', 'dXk3a4tqEjFijUrzxfv563', 'changeGraph', 'eyJpZCI6IDM0OCwgInR5cGUiOiAidmVydGV4IiwgInByb3BzIjogeyJzaXplIjogMTIuNX19Cg==');</script>\n",
       "    "
      ],
      "text/plain": [
       "<IPython.core.display.HTML object>"
      ]
     },
     "metadata": {},
     "output_type": "display_data"
    },
    {
     "data": {
      "text/html": [
       "\n",
       "        <div id=\"AKhTaEeENpDcyDVndKz8LN\"></div>\n",
       "        <script>netpixi.call('AKhTaEeENpDcyDVndKz8LN', 'dXk3a4tqEjFijUrzxfv563', 'changeGraph', 'eyJpZCI6IDM0OSwgInR5cGUiOiAidmVydGV4IiwgInByb3BzIjogeyJzaXplIjogNDIuMDM0ODgzNzIwOTMwMjN9fQo=');</script>\n",
       "    "
      ],
      "text/plain": [
       "<IPython.core.display.HTML object>"
      ]
     },
     "metadata": {},
     "output_type": "display_data"
    },
    {
     "data": {
      "text/html": [
       "\n",
       "        <div id=\"fNVTBaACJhEeKsdbGbZA4S\"></div>\n",
       "        <script>netpixi.call('fNVTBaACJhEeKsdbGbZA4S', 'dXk3a4tqEjFijUrzxfv563', 'changeGraph', 'eyJpZCI6IDM1MCwgInR5cGUiOiAidmVydGV4IiwgInByb3BzIjogeyJzaXplIjogMTcuMzA5OTQxNTIwNDY3ODM0fX0K');</script>\n",
       "    "
      ],
      "text/plain": [
       "<IPython.core.display.HTML object>"
      ]
     },
     "metadata": {},
     "output_type": "display_data"
    },
    {
     "data": {
      "text/html": [
       "\n",
       "        <div id=\"d2465bR9DYJRKNLsw9suAy\"></div>\n",
       "        <script>netpixi.call('d2465bR9DYJRKNLsw9suAy', 'dXk3a4tqEjFijUrzxfv563', 'changeGraph', 'eyJpZCI6IDM1MSwgInR5cGUiOiAidmVydGV4IiwgInByb3BzIjogeyJzaXplIjogNDMuNzc5MDY5NzY3NDQxODZ9fQo=');</script>\n",
       "    "
      ],
      "text/plain": [
       "<IPython.core.display.HTML object>"
      ]
     },
     "metadata": {},
     "output_type": "display_data"
    },
    {
     "data": {
      "text/html": [
       "\n",
       "        <div id=\"RREdFXndHXgJ4WEG3JZH9G\"></div>\n",
       "        <script>netpixi.call('RREdFXndHXgJ4WEG3JZH9G', 'dXk3a4tqEjFijUrzxfv563', 'changeGraph', 'eyJpZCI6IDM1MiwgInR5cGUiOiAidmVydGV4IiwgInByb3BzIjogeyJzaXplIjogMTguNjQwMzUwODc3MTkyOTh9fQo=');</script>\n",
       "    "
      ],
      "text/plain": [
       "<IPython.core.display.HTML object>"
      ]
     },
     "metadata": {},
     "output_type": "display_data"
    },
    {
     "data": {
      "text/html": [
       "\n",
       "        <div id=\"S3mz4oabjA8K3yJebFiq62\"></div>\n",
       "        <script>netpixi.call('S3mz4oabjA8K3yJebFiq62', 'dXk3a4tqEjFijUrzxfv563', 'changeGraph', 'eyJpZCI6IDM1MywgInR5cGUiOiAidmVydGV4IiwgInByb3BzIjogeyJzaXplIjogMTcuMDAyOTIzOTc2NjA4MTg3fX0K');</script>\n",
       "    "
      ],
      "text/plain": [
       "<IPython.core.display.HTML object>"
      ]
     },
     "metadata": {},
     "output_type": "display_data"
    },
    {
     "data": {
      "text/html": [
       "\n",
       "        <div id=\"Qzw57ECAh43R5TMvMbkqUi\"></div>\n",
       "        <script>netpixi.call('Qzw57ECAh43R5TMvMbkqUi', 'dXk3a4tqEjFijUrzxfv563', 'changeGraph', 'eyJpZCI6IDM1NCwgInR5cGUiOiAidmVydGV4IiwgInByb3BzIjogeyJzaXplIjogNDYuOTE4NjA0NjUxMTYyNzl9fQo=');</script>\n",
       "    "
      ],
      "text/plain": [
       "<IPython.core.display.HTML object>"
      ]
     },
     "metadata": {},
     "output_type": "display_data"
    },
    {
     "data": {
      "text/html": [
       "\n",
       "        <div id=\"nmpaxF5JokXXkAttzZQFQ2\"></div>\n",
       "        <script>netpixi.call('nmpaxF5JokXXkAttzZQFQ2', 'dXk3a4tqEjFijUrzxfv563', 'changeGraph', 'eyJpZCI6IDM1NSwgInR5cGUiOiAidmVydGV4IiwgInByb3BzIjogeyJzaXplIjogMTYuNDYxOTg4MzA0MDkzNTY2fX0K');</script>\n",
       "    "
      ],
      "text/plain": [
       "<IPython.core.display.HTML object>"
      ]
     },
     "metadata": {},
     "output_type": "display_data"
    },
    {
     "data": {
      "text/html": [
       "\n",
       "        <div id=\"hdvj4GD7vRWBcPK6i39CeU\"></div>\n",
       "        <script>netpixi.call('hdvj4GD7vRWBcPK6i39CeU', 'dXk3a4tqEjFijUrzxfv563', 'changeGraph', 'eyJpZCI6IDM1NiwgInR5cGUiOiAidmVydGV4IiwgInByb3BzIjogeyJzaXplIjogMTcuNzQ4NTM4MDExNjk1OTA2fX0K');</script>\n",
       "    "
      ],
      "text/plain": [
       "<IPython.core.display.HTML object>"
      ]
     },
     "metadata": {},
     "output_type": "display_data"
    },
    {
     "data": {
      "text/html": [
       "\n",
       "        <div id=\"nrhPKs75wD9ZejLKAhSMfV\"></div>\n",
       "        <script>netpixi.call('nrhPKs75wD9ZejLKAhSMfV', 'dXk3a4tqEjFijUrzxfv563', 'changeGraph', 'eyJpZCI6IDM1NywgInR5cGUiOiAidmVydGV4IiwgInByb3BzIjogeyJzaXplIjogMTIuNzYzMTU3ODk0NzM2ODQyfX0K');</script>\n",
       "    "
      ],
      "text/plain": [
       "<IPython.core.display.HTML object>"
      ]
     },
     "metadata": {},
     "output_type": "display_data"
    },
    {
     "data": {
      "text/html": [
       "\n",
       "        <div id=\"BqKEwLuiDHqPi4MTM3MLHk\"></div>\n",
       "        <script>netpixi.call('BqKEwLuiDHqPi4MTM3MLHk', 'dXk3a4tqEjFijUrzxfv563', 'changeGraph', 'eyJpZCI6IDM1OCwgInR5cGUiOiAidmVydGV4IiwgInByb3BzIjogeyJzaXplIjogMTIuMjM2ODQyMTA1MjYzMTU4fX0K');</script>\n",
       "    "
      ],
      "text/plain": [
       "<IPython.core.display.HTML object>"
      ]
     },
     "metadata": {},
     "output_type": "display_data"
    },
    {
     "data": {
      "text/html": [
       "\n",
       "        <div id=\"KTsjdpqKJv83SCkMQPjk2E\"></div>\n",
       "        <script>netpixi.call('KTsjdpqKJv83SCkMQPjk2E', 'dXk3a4tqEjFijUrzxfv563', 'changeGraph', 'eyJpZCI6IDM1OSwgInR5cGUiOiAidmVydGV4IiwgInByb3BzIjogeyJzaXplIjogMTEuODU2NzI1MTQ2MTk4ODN9fQo=');</script>\n",
       "    "
      ],
      "text/plain": [
       "<IPython.core.display.HTML object>"
      ]
     },
     "metadata": {},
     "output_type": "display_data"
    },
    {
     "data": {
      "text/html": [
       "\n",
       "        <div id=\"ZzN8P5Bj5bMBnaJkf3hM6h\"></div>\n",
       "        <script>netpixi.call('ZzN8P5Bj5bMBnaJkf3hM6h', 'dXk3a4tqEjFijUrzxfv563', 'changeGraph', 'eyJpZCI6IDM2MCwgInR5cGUiOiAidmVydGV4IiwgInByb3BzIjogeyJzaXplIjogMTYuODI3NDg1MzgwMTE2OTU4fX0K');</script>\n",
       "    "
      ],
      "text/plain": [
       "<IPython.core.display.HTML object>"
      ]
     },
     "metadata": {},
     "output_type": "display_data"
    },
    {
     "data": {
      "text/html": [
       "\n",
       "        <div id=\"Q5zZSvgdkY73JFQd6SKNT5\"></div>\n",
       "        <script>netpixi.call('Q5zZSvgdkY73JFQd6SKNT5', 'dXk3a4tqEjFijUrzxfv563', 'changeGraph', 'eyJpZCI6IDM2MSwgInR5cGUiOiAidmVydGV4IiwgInByb3BzIjogeyJzaXplIjogMTguMzYyNTczMDk5NDE1MjA0fX0K');</script>\n",
       "    "
      ],
      "text/plain": [
       "<IPython.core.display.HTML object>"
      ]
     },
     "metadata": {},
     "output_type": "display_data"
    },
    {
     "data": {
      "text/html": [
       "\n",
       "        <div id=\"m7GGBseSRW688b6wFMmZMy\"></div>\n",
       "        <script>netpixi.call('m7GGBseSRW688b6wFMmZMy', 'dXk3a4tqEjFijUrzxfv563', 'changeGraph', 'eyJpZCI6IDM2MiwgInR5cGUiOiAidmVydGV4IiwgInByb3BzIjogeyJzaXplIjogNDYuMzk1MzQ4ODM3MjA5MzA1fX0K');</script>\n",
       "    "
      ],
      "text/plain": [
       "<IPython.core.display.HTML object>"
      ]
     },
     "metadata": {},
     "output_type": "display_data"
    },
    {
     "data": {
      "text/html": [
       "\n",
       "        <div id=\"EHtoccxLUh8bhjgT6kbxFR\"></div>\n",
       "        <script>netpixi.call('EHtoccxLUh8bhjgT6kbxFR', 'dXk3a4tqEjFijUrzxfv563', 'changeGraph', 'eyJpZCI6IDM2MywgInR5cGUiOiAidmVydGV4IiwgInByb3BzIjogeyJzaXplIjogNDEuNTExNjI3OTA2OTc2NzR9fQo=');</script>\n",
       "    "
      ],
      "text/plain": [
       "<IPython.core.display.HTML object>"
      ]
     },
     "metadata": {},
     "output_type": "display_data"
    },
    {
     "data": {
      "text/html": [
       "\n",
       "        <div id=\"KYwerJUU8WG2Qg5fh4kQ5V\"></div>\n",
       "        <script>netpixi.call('KYwerJUU8WG2Qg5fh4kQ5V', 'dXk3a4tqEjFijUrzxfv563', 'changeGraph', 'eyJpZCI6IDM2NCwgInR5cGUiOiAidmVydGV4IiwgInByb3BzIjogeyJzaXplIjogMTguODc0MjY5MDA1ODQ3OTUzfX0K');</script>\n",
       "    "
      ],
      "text/plain": [
       "<IPython.core.display.HTML object>"
      ]
     },
     "metadata": {},
     "output_type": "display_data"
    },
    {
     "data": {
      "text/html": [
       "\n",
       "        <div id=\"NXaLVpSRfZvF9V7ymXZtsZ\"></div>\n",
       "        <script>netpixi.call('NXaLVpSRfZvF9V7ymXZtsZ', 'dXk3a4tqEjFijUrzxfv563', 'changeGraph', 'eyJpZCI6IDM2NSwgInR5cGUiOiAidmVydGV4IiwgInByb3BzIjogeyJzaXplIjogMTcuMDMyMTYzNzQyNjkwMDZ9fQo=');</script>\n",
       "    "
      ],
      "text/plain": [
       "<IPython.core.display.HTML object>"
      ]
     },
     "metadata": {},
     "output_type": "display_data"
    },
    {
     "data": {
      "text/html": [
       "\n",
       "        <div id=\"gr2KSLRLGiQSjb4nThBjXL\"></div>\n",
       "        <script>netpixi.call('gr2KSLRLGiQSjb4nThBjXL', 'dXk3a4tqEjFijUrzxfv563', 'changeGraph', 'eyJpZCI6IDM2NiwgInR5cGUiOiAidmVydGV4IiwgInByb3BzIjogeyJzaXplIjogMTkuOTcwNzYwMjMzOTE4MTI4fX0K');</script>\n",
       "    "
      ],
      "text/plain": [
       "<IPython.core.display.HTML object>"
      ]
     },
     "metadata": {},
     "output_type": "display_data"
    },
    {
     "data": {
      "text/html": [
       "\n",
       "        <div id=\"C8R4T8aW2Vbn2FjD4bCEQs\"></div>\n",
       "        <script>netpixi.call('C8R4T8aW2Vbn2FjD4bCEQs', 'dXk3a4tqEjFijUrzxfv563', 'changeGraph', 'eyJpZCI6IDM2NywgInR5cGUiOiAidmVydGV4IiwgInByb3BzIjogeyJzaXplIjogMTcuOTM4NTk2NDkxMjI4MDd9fQo=');</script>\n",
       "    "
      ],
      "text/plain": [
       "<IPython.core.display.HTML object>"
      ]
     },
     "metadata": {},
     "output_type": "display_data"
    },
    {
     "data": {
      "text/html": [
       "\n",
       "        <div id=\"FK6sdmxdDYC9VFVQLvLneW\"></div>\n",
       "        <script>netpixi.call('FK6sdmxdDYC9VFVQLvLneW', 'dXk3a4tqEjFijUrzxfv563', 'changeGraph', 'eyJpZCI6IDM2OCwgInR5cGUiOiAidmVydGV4IiwgInByb3BzIjogeyJzaXplIjogNDEuODYwNDY1MTE2Mjc5MDd9fQo=');</script>\n",
       "    "
      ],
      "text/plain": [
       "<IPython.core.display.HTML object>"
      ]
     },
     "metadata": {},
     "output_type": "display_data"
    },
    {
     "data": {
      "text/html": [
       "\n",
       "        <div id=\"BAhtwmBBiaHWq4Y2s6UU3C\"></div>\n",
       "        <script>netpixi.call('BAhtwmBBiaHWq4Y2s6UU3C', 'dXk3a4tqEjFijUrzxfv563', 'changeGraph', 'eyJpZCI6IDM2OSwgInR5cGUiOiAidmVydGV4IiwgInByb3BzIjogeyJzaXplIjogMTguMTg3MTM0NTAyOTIzOTc1fX0K');</script>\n",
       "    "
      ],
      "text/plain": [
       "<IPython.core.display.HTML object>"
      ]
     },
     "metadata": {},
     "output_type": "display_data"
    },
    {
     "data": {
      "text/html": [
       "\n",
       "        <div id=\"f4opAgg47mYtK4ThW6aTRf\"></div>\n",
       "        <script>netpixi.call('f4opAgg47mYtK4ThW6aTRf', 'dXk3a4tqEjFijUrzxfv563', 'changeGraph', 'eyJpZCI6IDM3MCwgInR5cGUiOiAidmVydGV4IiwgInByb3BzIjogeyJzaXplIjogNDEuODAyMzI1NTgxMzk1MzV9fQo=');</script>\n",
       "    "
      ],
      "text/plain": [
       "<IPython.core.display.HTML object>"
      ]
     },
     "metadata": {},
     "output_type": "display_data"
    },
    {
     "data": {
      "text/html": [
       "\n",
       "        <div id=\"8FgprrFUSABAbNjTrLNHbj\"></div>\n",
       "        <script>netpixi.call('8FgprrFUSABAbNjTrLNHbj', 'dXk3a4tqEjFijUrzxfv563', 'changeGraph', 'eyJpZCI6IDM3MSwgInR5cGUiOiAidmVydGV4IiwgInByb3BzIjogeyJzaXplIjogMTMuNDA2NDMyNzQ4NTM4MDF9fQo=');</script>\n",
       "    "
      ],
      "text/plain": [
       "<IPython.core.display.HTML object>"
      ]
     },
     "metadata": {},
     "output_type": "display_data"
    },
    {
     "data": {
      "text/html": [
       "\n",
       "        <div id=\"6BMq7GbMbbVwoCd9oU5ziN\"></div>\n",
       "        <script>netpixi.call('6BMq7GbMbbVwoCd9oU5ziN', 'dXk3a4tqEjFijUrzxfv563', 'changeGraph', 'eyJpZCI6IDM3MiwgInR5cGUiOiAidmVydGV4IiwgInByb3BzIjogeyJzaXplIjogMTEuNzEwNTI2MzE1Nzg5NDczfX0K');</script>\n",
       "    "
      ],
      "text/plain": [
       "<IPython.core.display.HTML object>"
      ]
     },
     "metadata": {},
     "output_type": "display_data"
    },
    {
     "data": {
      "text/html": [
       "\n",
       "        <div id=\"XeWkg6wLX8wmvqZ26iHqxV\"></div>\n",
       "        <script>netpixi.call('XeWkg6wLX8wmvqZ26iHqxV', 'dXk3a4tqEjFijUrzxfv563', 'changeGraph', 'eyJpZCI6IDM3MywgInR5cGUiOiAidmVydGV4IiwgInByb3BzIjogeyJzaXplIjogMTMuNDY0OTEyMjgwNzAxNzUzfX0K');</script>\n",
       "    "
      ],
      "text/plain": [
       "<IPython.core.display.HTML object>"
      ]
     },
     "metadata": {},
     "output_type": "display_data"
    },
    {
     "data": {
      "text/html": [
       "\n",
       "        <div id=\"MhvtKKNhbfFX5mQ5K2ZbfH\"></div>\n",
       "        <script>netpixi.call('MhvtKKNhbfFX5mQ5K2ZbfH', 'dXk3a4tqEjFijUrzxfv563', 'changeGraph', 'eyJpZCI6IDM3NCwgInR5cGUiOiAidmVydGV4IiwgInByb3BzIjogeyJzaXplIjogNDEuMTYyNzkwNjk3Njc0NDI0fX0K');</script>\n",
       "    "
      ],
      "text/plain": [
       "<IPython.core.display.HTML object>"
      ]
     },
     "metadata": {},
     "output_type": "display_data"
    },
    {
     "data": {
      "text/html": [
       "\n",
       "        <div id=\"EJTJHC4QXXhrr6obYNd3ES\"></div>\n",
       "        <script>netpixi.call('EJTJHC4QXXhrr6obYNd3ES', 'dXk3a4tqEjFijUrzxfv563', 'changeGraph', 'eyJpZCI6IDM3NSwgInR5cGUiOiAidmVydGV4IiwgInByb3BzIjogeyJzaXplIjogMTEuNTY0MzI3NDg1MzgwMTE3fX0K');</script>\n",
       "    "
      ],
      "text/plain": [
       "<IPython.core.display.HTML object>"
      ]
     },
     "metadata": {},
     "output_type": "display_data"
    },
    {
     "data": {
      "text/html": [
       "\n",
       "        <div id=\"QGh4UGoptTroLRZFYoWVtq\"></div>\n",
       "        <script>netpixi.call('QGh4UGoptTroLRZFYoWVtq', 'dXk3a4tqEjFijUrzxfv563', 'changeGraph', 'eyJpZCI6IDM3NiwgInR5cGUiOiAidmVydGV4IiwgInByb3BzIjogeyJzaXplIjogMTkuMjEwNTI2MzE1Nzg5NDczfX0K');</script>\n",
       "    "
      ],
      "text/plain": [
       "<IPython.core.display.HTML object>"
      ]
     },
     "metadata": {},
     "output_type": "display_data"
    },
    {
     "data": {
      "text/html": [
       "\n",
       "        <div id=\"PRtWhsWuTZLJkTe9EwLqgk\"></div>\n",
       "        <script>netpixi.call('PRtWhsWuTZLJkTe9EwLqgk', 'dXk3a4tqEjFijUrzxfv563', 'changeGraph', 'eyJpZCI6IDM3NywgInR5cGUiOiAidmVydGV4IiwgInByb3BzIjogeyJzaXplIjogNDcuOTA2OTc2NzQ0MTg2MDQ2fX0K');</script>\n",
       "    "
      ],
      "text/plain": [
       "<IPython.core.display.HTML object>"
      ]
     },
     "metadata": {},
     "output_type": "display_data"
    },
    {
     "data": {
      "text/html": [
       "\n",
       "        <div id=\"QC3Mt5SyrTj9vBRA94q28m\"></div>\n",
       "        <script>netpixi.call('QC3Mt5SyrTj9vBRA94q28m', 'dXk3a4tqEjFijUrzxfv563', 'changeGraph', 'eyJpZCI6IDM3OCwgInR5cGUiOiAidmVydGV4IiwgInByb3BzIjogeyJzaXplIjogNDAuNTIzMjU1ODEzOTUzNDl9fQo=');</script>\n",
       "    "
      ],
      "text/plain": [
       "<IPython.core.display.HTML object>"
      ]
     },
     "metadata": {},
     "output_type": "display_data"
    },
    {
     "data": {
      "text/html": [
       "\n",
       "        <div id=\"X34U9b52q797XxAF2zdpXn\"></div>\n",
       "        <script>netpixi.call('X34U9b52q797XxAF2zdpXn', 'dXk3a4tqEjFijUrzxfv563', 'changeGraph', 'eyJpZCI6IDM3OSwgInR5cGUiOiAidmVydGV4IiwgInByb3BzIjogeyJzaXplIjogNDAuMjkwNjk3Njc0NDE4NjF9fQo=');</script>\n",
       "    "
      ],
      "text/plain": [
       "<IPython.core.display.HTML object>"
      ]
     },
     "metadata": {},
     "output_type": "display_data"
    },
    {
     "data": {
      "text/html": [
       "\n",
       "        <div id=\"GxjxZFvb4ww5wVYJQrrEPd\"></div>\n",
       "        <script>netpixi.call('GxjxZFvb4ww5wVYJQrrEPd', 'dXk3a4tqEjFijUrzxfv563', 'changeGraph', 'eyJpZCI6IDM4MCwgInR5cGUiOiAidmVydGV4IiwgInByb3BzIjogeyJzaXplIjogMTcuOTk3MDc2MDIzMzkxODEzfX0K');</script>\n",
       "    "
      ],
      "text/plain": [
       "<IPython.core.display.HTML object>"
      ]
     },
     "metadata": {},
     "output_type": "display_data"
    },
    {
     "data": {
      "text/html": [
       "\n",
       "        <div id=\"6gzWeg8arT2GEJpNCbkMeH\"></div>\n",
       "        <script>netpixi.call('6gzWeg8arT2GEJpNCbkMeH', 'dXk3a4tqEjFijUrzxfv563', 'changeGraph', 'eyJpZCI6IDM4MSwgInR5cGUiOiAidmVydGV4IiwgInByb3BzIjogeyJzaXplIjogMTQuMDY0MzI3NDg1MzgwMTE3fX0K');</script>\n",
       "    "
      ],
      "text/plain": [
       "<IPython.core.display.HTML object>"
      ]
     },
     "metadata": {},
     "output_type": "display_data"
    },
    {
     "data": {
      "text/html": [
       "\n",
       "        <div id=\"NcbyVjUcUDYp2uDidrWrgy\"></div>\n",
       "        <script>netpixi.call('NcbyVjUcUDYp2uDidrWrgy', 'dXk3a4tqEjFijUrzxfv563', 'changeGraph', 'eyJpZCI6IDM4MiwgInR5cGUiOiAidmVydGV4IiwgInByb3BzIjogeyJzaXplIjogNDguOTUzNDg4MzcyMDkzMDJ9fQo=');</script>\n",
       "    "
      ],
      "text/plain": [
       "<IPython.core.display.HTML object>"
      ]
     },
     "metadata": {},
     "output_type": "display_data"
    },
    {
     "data": {
      "text/html": [
       "\n",
       "        <div id=\"Y3baq2MFc2nu5JzJTefdHt\"></div>\n",
       "        <script>netpixi.call('Y3baq2MFc2nu5JzJTefdHt', 'dXk3a4tqEjFijUrzxfv563', 'changeGraph', 'eyJpZCI6IDM4MywgInR5cGUiOiAidmVydGV4IiwgInByb3BzIjogeyJzaXplIjogNDkuNzA5MzAyMzI1NTgxNH19Cg==');</script>\n",
       "    "
      ],
      "text/plain": [
       "<IPython.core.display.HTML object>"
      ]
     },
     "metadata": {},
     "output_type": "display_data"
    },
    {
     "data": {
      "text/html": [
       "\n",
       "        <div id=\"ZaTPcrnKEvf9Tx5F9xQmTu\"></div>\n",
       "        <script>netpixi.call('ZaTPcrnKEvf9Tx5F9xQmTu', 'dXk3a4tqEjFijUrzxfv563', 'changeGraph', 'eyJpZCI6IDM4NCwgInR5cGUiOiAidmVydGV4IiwgInByb3BzIjogeyJzaXplIjogNDMuNjYyNzkwNjk3Njc0NDI0fX0K');</script>\n",
       "    "
      ],
      "text/plain": [
       "<IPython.core.display.HTML object>"
      ]
     },
     "metadata": {},
     "output_type": "display_data"
    },
    {
     "data": {
      "text/html": [
       "\n",
       "        <div id=\"K8mVRzeMoYsM8XVBzjEPTC\"></div>\n",
       "        <script>netpixi.call('K8mVRzeMoYsM8XVBzjEPTC', 'dXk3a4tqEjFijUrzxfv563', 'changeGraph', 'eyJpZCI6IDM4NSwgInR5cGUiOiAidmVydGV4IiwgInByb3BzIjogeyJzaXplIjogMTguMjQ1NjE0MDM1MDg3NzJ9fQo=');</script>\n",
       "    "
      ],
      "text/plain": [
       "<IPython.core.display.HTML object>"
      ]
     },
     "metadata": {},
     "output_type": "display_data"
    },
    {
     "data": {
      "text/html": [
       "\n",
       "        <div id=\"C8Ss6cNMFoE3VVeKdfxeKJ\"></div>\n",
       "        <script>netpixi.call('C8Ss6cNMFoE3VVeKdfxeKJ', 'dXk3a4tqEjFijUrzxfv563', 'changeGraph', 'eyJpZCI6IDM4NiwgInR5cGUiOiAidmVydGV4IiwgInByb3BzIjogeyJzaXplIjogMTEuMTg0MjEwNTI2MzE1Nzl9fQo=');</script>\n",
       "    "
      ],
      "text/plain": [
       "<IPython.core.display.HTML object>"
      ]
     },
     "metadata": {},
     "output_type": "display_data"
    },
    {
     "data": {
      "text/html": [
       "\n",
       "        <div id=\"JQipevJJTiXXaLv5x6d7Ff\"></div>\n",
       "        <script>netpixi.call('JQipevJJTiXXaLv5x6d7Ff', 'dXk3a4tqEjFijUrzxfv563', 'changeGraph', 'eyJpZCI6IDM4NywgInR5cGUiOiAidmVydGV4IiwgInByb3BzIjogeyJzaXplIjogMTMuMzc3MTkyOTgyNDU2MTR9fQo=');</script>\n",
       "    "
      ],
      "text/plain": [
       "<IPython.core.display.HTML object>"
      ]
     },
     "metadata": {},
     "output_type": "display_data"
    },
    {
     "data": {
      "text/html": [
       "\n",
       "        <div id=\"hEZBidEye5ht2iyJd32Wgr\"></div>\n",
       "        <script>netpixi.call('hEZBidEye5ht2iyJd32Wgr', 'dXk3a4tqEjFijUrzxfv563', 'changeGraph', 'eyJpZCI6IDM4OCwgInR5cGUiOiAidmVydGV4IiwgInByb3BzIjogeyJzaXplIjogMTkuODUzODAxMTY5NTkwNjQzfX0K');</script>\n",
       "    "
      ],
      "text/plain": [
       "<IPython.core.display.HTML object>"
      ]
     },
     "metadata": {},
     "output_type": "display_data"
    },
    {
     "data": {
      "text/html": [
       "\n",
       "        <div id=\"6w25sNjHopS92pSYVohUdW\"></div>\n",
       "        <script>netpixi.call('6w25sNjHopS92pSYVohUdW', 'dXk3a4tqEjFijUrzxfv563', 'changeGraph', 'eyJpZCI6IDM4OSwgInR5cGUiOiAidmVydGV4IiwgInByb3BzIjogeyJzaXplIjogMTQuNDI5ODI0NTYxNDAzNTA5fX0K');</script>\n",
       "    "
      ],
      "text/plain": [
       "<IPython.core.display.HTML object>"
      ]
     },
     "metadata": {},
     "output_type": "display_data"
    },
    {
     "data": {
      "text/html": [
       "\n",
       "        <div id=\"afwxx59G8JhU3qp9RkXcAF\"></div>\n",
       "        <script>netpixi.call('afwxx59G8JhU3qp9RkXcAF', 'dXk3a4tqEjFijUrzxfv563', 'changeGraph', 'eyJpZCI6IDM5MCwgInR5cGUiOiAidmVydGV4IiwgInByb3BzIjogeyJzaXplIjogMTIuOTIzOTc2NjA4MTg3MTM0fX0K');</script>\n",
       "    "
      ],
      "text/plain": [
       "<IPython.core.display.HTML object>"
      ]
     },
     "metadata": {},
     "output_type": "display_data"
    },
    {
     "data": {
      "text/html": [
       "\n",
       "        <div id=\"aX9notDMGcoRyUiDdv7aA7\"></div>\n",
       "        <script>netpixi.call('aX9notDMGcoRyUiDdv7aA7', 'dXk3a4tqEjFijUrzxfv563', 'changeGraph', 'eyJpZCI6IDM5MSwgInR5cGUiOiAidmVydGV4IiwgInByb3BzIjogeyJzaXplIjogNDYuODYwNDY1MTE2Mjc5MDY2fX0K');</script>\n",
       "    "
      ],
      "text/plain": [
       "<IPython.core.display.HTML object>"
      ]
     },
     "metadata": {},
     "output_type": "display_data"
    },
    {
     "data": {
      "text/html": [
       "\n",
       "        <div id=\"3q6yN29U2EUfjpEU9qho9i\"></div>\n",
       "        <script>netpixi.call('3q6yN29U2EUfjpEU9qho9i', 'dXk3a4tqEjFijUrzxfv563', 'changeGraph', 'eyJpZCI6IDM5MiwgInR5cGUiOiAidmVydGV4IiwgInByb3BzIjogeyJzaXplIjogMTkuNTkwNjQzMjc0ODUzOH19Cg==');</script>\n",
       "    "
      ],
      "text/plain": [
       "<IPython.core.display.HTML object>"
      ]
     },
     "metadata": {},
     "output_type": "display_data"
    },
    {
     "data": {
      "text/html": [
       "\n",
       "        <div id=\"bTrxnBsKRB3NgrXZa9eznu\"></div>\n",
       "        <script>netpixi.call('bTrxnBsKRB3NgrXZa9eznu', 'dXk3a4tqEjFijUrzxfv563', 'changeGraph', 'eyJpZCI6IDM5MywgInR5cGUiOiAidmVydGV4IiwgInByb3BzIjogeyJzaXplIjogMTkuMDY0MzI3NDg1MzgwMTJ9fQo=');</script>\n",
       "    "
      ],
      "text/plain": [
       "<IPython.core.display.HTML object>"
      ]
     },
     "metadata": {},
     "output_type": "display_data"
    },
    {
     "data": {
      "text/html": [
       "\n",
       "        <div id=\"3MzQAjgrmzziVG4vHtqwHH\"></div>\n",
       "        <script>netpixi.call('3MzQAjgrmzziVG4vHtqwHH', 'dXk3a4tqEjFijUrzxfv563', 'changeGraph', 'eyJpZCI6IDM5NCwgInR5cGUiOiAidmVydGV4IiwgInByb3BzIjogeyJzaXplIjogNDEuNzQ0MTg2MDQ2NTExNjN9fQo=');</script>\n",
       "    "
      ],
      "text/plain": [
       "<IPython.core.display.HTML object>"
      ]
     },
     "metadata": {},
     "output_type": "display_data"
    },
    {
     "data": {
      "text/html": [
       "\n",
       "        <div id=\"EQiUVdV6EiPuHgsNLFP6GA\"></div>\n",
       "        <script>netpixi.call('EQiUVdV6EiPuHgsNLFP6GA', 'dXk3a4tqEjFijUrzxfv563', 'changeGraph', 'eyJpZCI6IDM5NSwgInR5cGUiOiAidmVydGV4IiwgInByb3BzIjogeyJzaXplIjogMTguNTY3MjUxNDYxOTg4MzAyfX0K');</script>\n",
       "    "
      ],
      "text/plain": [
       "<IPython.core.display.HTML object>"
      ]
     },
     "metadata": {},
     "output_type": "display_data"
    },
    {
     "data": {
      "text/html": [
       "\n",
       "        <div id=\"Sp3osUFwoye3o68ShFPWLZ\"></div>\n",
       "        <script>netpixi.call('Sp3osUFwoye3o68ShFPWLZ', 'dXk3a4tqEjFijUrzxfv563', 'changeGraph', 'eyJpZCI6IDM5NiwgInR5cGUiOiAidmVydGV4IiwgInByb3BzIjogeyJzaXplIjogMTkuMjU0Mzg1OTY0OTEyMjh9fQo=');</script>\n",
       "    "
      ],
      "text/plain": [
       "<IPython.core.display.HTML object>"
      ]
     },
     "metadata": {},
     "output_type": "display_data"
    },
    {
     "data": {
      "text/html": [
       "\n",
       "        <div id=\"aqo9a76ehRH66iTqqJUX7L\"></div>\n",
       "        <script>netpixi.call('aqo9a76ehRH66iTqqJUX7L', 'dXk3a4tqEjFijUrzxfv563', 'changeGraph', 'eyJpZCI6IDM5NywgInR5cGUiOiAidmVydGV4IiwgInByb3BzIjogeyJzaXplIjogMTguMjc0ODUzODAxMTY5NTl9fQo=');</script>\n",
       "    "
      ],
      "text/plain": [
       "<IPython.core.display.HTML object>"
      ]
     },
     "metadata": {},
     "output_type": "display_data"
    },
    {
     "data": {
      "text/html": [
       "\n",
       "        <div id=\"Ywasg5esp4FBig8jPvHzfY\"></div>\n",
       "        <script>netpixi.call('Ywasg5esp4FBig8jPvHzfY', 'dXk3a4tqEjFijUrzxfv563', 'changeGraph', 'eyJpZCI6IDM5OCwgInR5cGUiOiAidmVydGV4IiwgInByb3BzIjogeyJzaXplIjogNDMuMTM5NTM0ODgzNzIwOTM0fX0K');</script>\n",
       "    "
      ],
      "text/plain": [
       "<IPython.core.display.HTML object>"
      ]
     },
     "metadata": {},
     "output_type": "display_data"
    },
    {
     "data": {
      "text/html": [
       "\n",
       "        <div id=\"K3VSz4DsX5fNzzt8D57E6P\"></div>\n",
       "        <script>netpixi.call('K3VSz4DsX5fNzzt8D57E6P', 'dXk3a4tqEjFijUrzxfv563', 'changeGraph', 'eyJpZCI6IDM5OSwgInR5cGUiOiAidmVydGV4IiwgInByb3BzIjogeyJzaXplIjogMTUuMjE5Mjk4MjQ1NjE0MDM0fX0K');</script>\n",
       "    "
      ],
      "text/plain": [
       "<IPython.core.display.HTML object>"
      ]
     },
     "metadata": {},
     "output_type": "display_data"
    },
    {
     "data": {
      "text/html": [
       "\n",
       "        <div id=\"YPqbVKv6c3HXXt8SZTFfVK\"></div>\n",
       "        <script>netpixi.call('YPqbVKv6c3HXXt8SZTFfVK', 'dXk3a4tqEjFijUrzxfv563', 'changeGraph', 'eyJpZCI6IDQwMCwgInR5cGUiOiAidmVydGV4IiwgInByb3BzIjogeyJzaXplIjogMTkuODY4NDIxMDUyNjMxNTh9fQo=');</script>\n",
       "    "
      ],
      "text/plain": [
       "<IPython.core.display.HTML object>"
      ]
     },
     "metadata": {},
     "output_type": "display_data"
    },
    {
     "data": {
      "text/html": [
       "\n",
       "        <div id=\"cpRKW2hgeRkrK8frKHdF42\"></div>\n",
       "        <script>netpixi.call('cpRKW2hgeRkrK8frKHdF42', 'dXk3a4tqEjFijUrzxfv563', 'changeGraph', 'eyJpZCI6IDQwMSwgInR5cGUiOiAidmVydGV4IiwgInByb3BzIjogeyJzaXplIjogMTguMzkxODEyODY1NDk3MDc3fX0K');</script>\n",
       "    "
      ],
      "text/plain": [
       "<IPython.core.display.HTML object>"
      ]
     },
     "metadata": {},
     "output_type": "display_data"
    },
    {
     "data": {
      "text/html": [
       "\n",
       "        <div id=\"bnMMspvbYxhBqEZ2JVS3ts\"></div>\n",
       "        <script>netpixi.call('bnMMspvbYxhBqEZ2JVS3ts', 'dXk3a4tqEjFijUrzxfv563', 'changeGraph', 'eyJpZCI6IDQwMiwgInR5cGUiOiAidmVydGV4IiwgInByb3BzIjogeyJzaXplIjogMTQuNzM2ODQyMTA1MjYzMTU4fX0K');</script>\n",
       "    "
      ],
      "text/plain": [
       "<IPython.core.display.HTML object>"
      ]
     },
     "metadata": {},
     "output_type": "display_data"
    },
    {
     "data": {
      "text/html": [
       "\n",
       "        <div id=\"K6BiEVpeJ8Sa2F6GCMrUDC\"></div>\n",
       "        <script>netpixi.call('K6BiEVpeJ8Sa2F6GCMrUDC', 'dXk3a4tqEjFijUrzxfv563', 'changeGraph', 'eyJpZCI6IDQwMywgInR5cGUiOiAidmVydGV4IiwgInByb3BzIjogeyJzaXplIjogMTQuNjE5ODgzMDQwOTM1NjcyfX0K');</script>\n",
       "    "
      ],
      "text/plain": [
       "<IPython.core.display.HTML object>"
      ]
     },
     "metadata": {},
     "output_type": "display_data"
    },
    {
     "data": {
      "text/html": [
       "\n",
       "        <div id=\"36EJ7f3asoDwprSFfSLMjZ\"></div>\n",
       "        <script>netpixi.call('36EJ7f3asoDwprSFfSLMjZ', 'dXk3a4tqEjFijUrzxfv563', 'changeGraph', 'eyJpZCI6IDQwNCwgInR5cGUiOiAidmVydGV4IiwgInByb3BzIjogeyJzaXplIjogMTEuMzQ1MDI5MjM5NzY2MDgxfX0K');</script>\n",
       "    "
      ],
      "text/plain": [
       "<IPython.core.display.HTML object>"
      ]
     },
     "metadata": {},
     "output_type": "display_data"
    },
    {
     "data": {
      "text/html": [
       "\n",
       "        <div id=\"GwPG4TH6UXZZaRAHU5sE3V\"></div>\n",
       "        <script>netpixi.call('GwPG4TH6UXZZaRAHU5sE3V', 'dXk3a4tqEjFijUrzxfv563', 'changeGraph', 'eyJpZCI6IDQwNSwgInR5cGUiOiAidmVydGV4IiwgInByb3BzIjogeyJzaXplIjogMTIuMTA1MjYzMTU3ODk0NzM2fX0K');</script>\n",
       "    "
      ],
      "text/plain": [
       "<IPython.core.display.HTML object>"
      ]
     },
     "metadata": {},
     "output_type": "display_data"
    },
    {
     "data": {
      "text/html": [
       "\n",
       "        <div id=\"i4tJfgzhoisepQ8rf68ZG7\"></div>\n",
       "        <script>netpixi.call('i4tJfgzhoisepQ8rf68ZG7', 'dXk3a4tqEjFijUrzxfv563', 'changeGraph', 'eyJpZCI6IDQwNiwgInR5cGUiOiAidmVydGV4IiwgInByb3BzIjogeyJzaXplIjogMTMuMTE0MDM1MDg3NzE5Mjk4fX0K');</script>\n",
       "    "
      ],
      "text/plain": [
       "<IPython.core.display.HTML object>"
      ]
     },
     "metadata": {},
     "output_type": "display_data"
    },
    {
     "data": {
      "text/html": [
       "\n",
       "        <div id=\"jZFTKuXXdWgkFEDXgEntas\"></div>\n",
       "        <script>netpixi.call('jZFTKuXXdWgkFEDXgEntas', 'dXk3a4tqEjFijUrzxfv563', 'changeGraph', 'eyJpZCI6IDQwNywgInR5cGUiOiAidmVydGV4IiwgInByb3BzIjogeyJzaXplIjogMTAuNzMwOTk0MTUyMDQ2NzgzfX0K');</script>\n",
       "    "
      ],
      "text/plain": [
       "<IPython.core.display.HTML object>"
      ]
     },
     "metadata": {},
     "output_type": "display_data"
    },
    {
     "data": {
      "text/html": [
       "\n",
       "        <div id=\"aRjpDyTXnfd7sywVYgKLzc\"></div>\n",
       "        <script>netpixi.call('aRjpDyTXnfd7sywVYgKLzc', 'dXk3a4tqEjFijUrzxfv563', 'changeGraph', 'eyJpZCI6IDQwOCwgInR5cGUiOiAidmVydGV4IiwgInByb3BzIjogeyJzaXplIjogMTguNjExMTExMTExMTExMTF9fQo=');</script>\n",
       "    "
      ],
      "text/plain": [
       "<IPython.core.display.HTML object>"
      ]
     },
     "metadata": {},
     "output_type": "display_data"
    },
    {
     "data": {
      "text/html": [
       "\n",
       "        <div id=\"m29YC6iqHrWMhMR76NmAXQ\"></div>\n",
       "        <script>netpixi.call('m29YC6iqHrWMhMR76NmAXQ', 'dXk3a4tqEjFijUrzxfv563', 'changeGraph', 'eyJpZCI6IDQwOSwgInR5cGUiOiAidmVydGV4IiwgInByb3BzIjogeyJzaXplIjogMTQuMjgzNjI1NzMwOTk0MTUxfX0K');</script>\n",
       "    "
      ],
      "text/plain": [
       "<IPython.core.display.HTML object>"
      ]
     },
     "metadata": {},
     "output_type": "display_data"
    },
    {
     "data": {
      "text/html": [
       "\n",
       "        <div id=\"NLjzswFvxfUp6rrPjQFVcm\"></div>\n",
       "        <script>netpixi.call('NLjzswFvxfUp6rrPjQFVcm', 'dXk3a4tqEjFijUrzxfv563', 'changeGraph', 'eyJpZCI6IDQxMCwgInR5cGUiOiAidmVydGV4IiwgInByb3BzIjogeyJzaXplIjogNDIuOTY1MTE2Mjc5MDY5Nzd9fQo=');</script>\n",
       "    "
      ],
      "text/plain": [
       "<IPython.core.display.HTML object>"
      ]
     },
     "metadata": {},
     "output_type": "display_data"
    },
    {
     "data": {
      "text/html": [
       "\n",
       "        <div id=\"msvmPryFAaC3tCgpD5yRJ4\"></div>\n",
       "        <script>netpixi.call('msvmPryFAaC3tCgpD5yRJ4', 'dXk3a4tqEjFijUrzxfv563', 'changeGraph', 'eyJpZCI6IDQxMSwgInR5cGUiOiAidmVydGV4IiwgInByb3BzIjogeyJzaXplIjogMTYuMzE1Nzg5NDczNjg0MjEyfX0K');</script>\n",
       "    "
      ],
      "text/plain": [
       "<IPython.core.display.HTML object>"
      ]
     },
     "metadata": {},
     "output_type": "display_data"
    },
    {
     "data": {
      "text/html": [
       "\n",
       "        <div id=\"Wdi5jWzMzrrXnDwmu7KkKH\"></div>\n",
       "        <script>netpixi.call('Wdi5jWzMzrrXnDwmu7KkKH', 'dXk3a4tqEjFijUrzxfv563', 'changeGraph', 'eyJpZCI6IDQxMiwgInR5cGUiOiAidmVydGV4IiwgInByb3BzIjogeyJzaXplIjogMTQuMDA1ODQ3OTUzMjE2Mzc0fX0K');</script>\n",
       "    "
      ],
      "text/plain": [
       "<IPython.core.display.HTML object>"
      ]
     },
     "metadata": {},
     "output_type": "display_data"
    },
    {
     "data": {
      "text/html": [
       "\n",
       "        <div id=\"SnijFwEGxNpTUStxECG6wR\"></div>\n",
       "        <script>netpixi.call('SnijFwEGxNpTUStxECG6wR', 'dXk3a4tqEjFijUrzxfv563', 'changeGraph', 'eyJpZCI6IDQxMywgInR5cGUiOiAidmVydGV4IiwgInByb3BzIjogeyJzaXplIjogMTEuOTg4MzA0MDkzNTY3MjUxfX0K');</script>\n",
       "    "
      ],
      "text/plain": [
       "<IPython.core.display.HTML object>"
      ]
     },
     "metadata": {},
     "output_type": "display_data"
    },
    {
     "data": {
      "text/html": [
       "\n",
       "        <div id=\"iUWpsQRLn9x6Q3CRrvKZo6\"></div>\n",
       "        <script>netpixi.call('iUWpsQRLn9x6Q3CRrvKZo6', 'dXk3a4tqEjFijUrzxfv563', 'changeGraph', 'eyJpZCI6IDQxNCwgInR5cGUiOiAidmVydGV4IiwgInByb3BzIjogeyJzaXplIjogMTIuMzY4NDIxMDUyNjMxNTc5fX0K');</script>\n",
       "    "
      ],
      "text/plain": [
       "<IPython.core.display.HTML object>"
      ]
     },
     "metadata": {},
     "output_type": "display_data"
    },
    {
     "data": {
      "text/html": [
       "\n",
       "        <div id=\"jwNSvZ3AVk5jPLQsauUWc7\"></div>\n",
       "        <script>netpixi.call('jwNSvZ3AVk5jPLQsauUWc7', 'dXk3a4tqEjFijUrzxfv563', 'changeGraph', 'eyJpZCI6IDQxNSwgInR5cGUiOiAidmVydGV4IiwgInByb3BzIjogeyJzaXplIjogMTEuMjg2NTQ5NzA3NjAyMzM4fX0K');</script>\n",
       "    "
      ],
      "text/plain": [
       "<IPython.core.display.HTML object>"
      ]
     },
     "metadata": {},
     "output_type": "display_data"
    },
    {
     "data": {
      "text/html": [
       "\n",
       "        <div id=\"9vJJjnPXHv7kxn9ZjBoMQ4\"></div>\n",
       "        <script>netpixi.call('9vJJjnPXHv7kxn9ZjBoMQ4', 'dXk3a4tqEjFijUrzxfv563', 'changeGraph', 'eyJpZCI6IDQxNiwgInR5cGUiOiAidmVydGV4IiwgInByb3BzIjogeyJzaXplIjogMTEuMTQwMzUwODc3MTkyOTgzfX0K');</script>\n",
       "    "
      ],
      "text/plain": [
       "<IPython.core.display.HTML object>"
      ]
     },
     "metadata": {},
     "output_type": "display_data"
    },
    {
     "data": {
      "text/html": [
       "\n",
       "        <div id=\"N6hjL4tisbT9bwy4zs4B2o\"></div>\n",
       "        <script>netpixi.call('N6hjL4tisbT9bwy4zs4B2o', 'dXk3a4tqEjFijUrzxfv563', 'changeGraph', 'eyJpZCI6IDQxNywgInR5cGUiOiAidmVydGV4IiwgInByb3BzIjogeyJzaXplIjogMTQuMTY2NjY2NjY2NjY2NjY2fX0K');</script>\n",
       "    "
      ],
      "text/plain": [
       "<IPython.core.display.HTML object>"
      ]
     },
     "metadata": {},
     "output_type": "display_data"
    },
    {
     "data": {
      "text/html": [
       "\n",
       "        <div id=\"XkVcsbqGyDbnQao7VBbSZG\"></div>\n",
       "        <script>netpixi.call('XkVcsbqGyDbnQao7VBbSZG', 'dXk3a4tqEjFijUrzxfv563', 'changeGraph', 'eyJpZCI6IDQxOCwgInR5cGUiOiAidmVydGV4IiwgInByb3BzIjogeyJzaXplIjogMTkuOTI2OTAwNTg0Nzk1MzJ9fQo=');</script>\n",
       "    "
      ],
      "text/plain": [
       "<IPython.core.display.HTML object>"
      ]
     },
     "metadata": {},
     "output_type": "display_data"
    },
    {
     "data": {
      "text/html": [
       "\n",
       "        <div id=\"5Yk5YetbWdu4kVAsevuW7P\"></div>\n",
       "        <script>netpixi.call('5Yk5YetbWdu4kVAsevuW7P', 'dXk3a4tqEjFijUrzxfv563', 'changeGraph', 'eyJpZCI6IDQxOSwgInR5cGUiOiAidmVydGV4IiwgInByb3BzIjogeyJzaXplIjogMTIuMDQ2NzgzNjI1NzMwOTk0fX0K');</script>\n",
       "    "
      ],
      "text/plain": [
       "<IPython.core.display.HTML object>"
      ]
     },
     "metadata": {},
     "output_type": "display_data"
    },
    {
     "data": {
      "text/html": [
       "\n",
       "        <div id=\"BDjvtRxrAktfcGmQTTr6hE\"></div>\n",
       "        <script>netpixi.call('BDjvtRxrAktfcGmQTTr6hE', 'dXk3a4tqEjFijUrzxfv563', 'changeGraph', 'eyJpZCI6IDQyMCwgInR5cGUiOiAidmVydGV4IiwgInByb3BzIjogeyJzaXplIjogMTguODg4ODg4ODg4ODg4ODl9fQo=');</script>\n",
       "    "
      ],
      "text/plain": [
       "<IPython.core.display.HTML object>"
      ]
     },
     "metadata": {},
     "output_type": "display_data"
    },
    {
     "data": {
      "text/html": [
       "\n",
       "        <div id=\"hZu39uVgVcmyWL9QyjjmgN\"></div>\n",
       "        <script>netpixi.call('hZu39uVgVcmyWL9QyjjmgN', 'dXk3a4tqEjFijUrzxfv563', 'changeGraph', 'eyJpZCI6IDQyMSwgInR5cGUiOiAidmVydGV4IiwgInByb3BzIjogeyJzaXplIjogNDMuMDgxMzk1MzQ4ODM3MjF9fQo=');</script>\n",
       "    "
      ],
      "text/plain": [
       "<IPython.core.display.HTML object>"
      ]
     },
     "metadata": {},
     "output_type": "display_data"
    },
    {
     "data": {
      "text/html": [
       "\n",
       "        <div id=\"LamX7nQKTZu4FkSN2ACVWr\"></div>\n",
       "        <script>netpixi.call('LamX7nQKTZu4FkSN2ACVWr', 'dXk3a4tqEjFijUrzxfv563', 'changeGraph', 'eyJpZCI6IDQyMiwgInR5cGUiOiAidmVydGV4IiwgInByb3BzIjogeyJzaXplIjogNDAuNDA2OTc2NzQ0MTg2MDQ2fX0K');</script>\n",
       "    "
      ],
      "text/plain": [
       "<IPython.core.display.HTML object>"
      ]
     },
     "metadata": {},
     "output_type": "display_data"
    },
    {
     "data": {
      "text/html": [
       "\n",
       "        <div id=\"FYSsYpNP5h4TdtxWRGMbHq\"></div>\n",
       "        <script>netpixi.call('FYSsYpNP5h4TdtxWRGMbHq', 'dXk3a4tqEjFijUrzxfv563', 'changeGraph', 'eyJpZCI6IDQyMywgInR5cGUiOiAidmVydGV4IiwgInByb3BzIjogeyJzaXplIjogMTguOTMyNzQ4NTM4MDExNjk0fX0K');</script>\n",
       "    "
      ],
      "text/plain": [
       "<IPython.core.display.HTML object>"
      ]
     },
     "metadata": {},
     "output_type": "display_data"
    },
    {
     "data": {
      "text/html": [
       "\n",
       "        <div id=\"FcCh8ZGdNfih5iKSRujwYd\"></div>\n",
       "        <script>netpixi.call('FcCh8ZGdNfih5iKSRujwYd', 'dXk3a4tqEjFijUrzxfv563', 'changeGraph', 'eyJpZCI6IDQyNCwgInR5cGUiOiAidmVydGV4IiwgInByb3BzIjogeyJzaXplIjogMTguNzEzNDUwMjkyMzk3NjZ9fQo=');</script>\n",
       "    "
      ],
      "text/plain": [
       "<IPython.core.display.HTML object>"
      ]
     },
     "metadata": {},
     "output_type": "display_data"
    },
    {
     "data": {
      "text/html": [
       "\n",
       "        <div id=\"5Z2gd9qsw2qvqdEtkmidcn\"></div>\n",
       "        <script>netpixi.call('5Z2gd9qsw2qvqdEtkmidcn', 'dXk3a4tqEjFijUrzxfv563', 'changeGraph', 'eyJpZCI6IDQyNSwgInR5cGUiOiAidmVydGV4IiwgInByb3BzIjogeyJzaXplIjogNDMuOTUzNDg4MzcyMDkzMDJ9fQo=');</script>\n",
       "    "
      ],
      "text/plain": [
       "<IPython.core.display.HTML object>"
      ]
     },
     "metadata": {},
     "output_type": "display_data"
    },
    {
     "data": {
      "text/html": [
       "\n",
       "        <div id=\"2pk24T9Z9tUBgR322DiQum\"></div>\n",
       "        <script>netpixi.call('2pk24T9Z9tUBgR322DiQum', 'dXk3a4tqEjFijUrzxfv563', 'changeGraph', 'eyJpZCI6IDQyNiwgInR5cGUiOiAidmVydGV4IiwgInByb3BzIjogeyJzaXplIjogNDIuMDkzMDIzMjU1ODEzOTU0fX0K');</script>\n",
       "    "
      ],
      "text/plain": [
       "<IPython.core.display.HTML object>"
      ]
     },
     "metadata": {},
     "output_type": "display_data"
    },
    {
     "data": {
      "text/html": [
       "\n",
       "        <div id=\"bKTH9B3zaXcytAntMaBfq5\"></div>\n",
       "        <script>netpixi.call('bKTH9B3zaXcytAntMaBfq5', 'dXk3a4tqEjFijUrzxfv563', 'changeGraph', 'eyJpZCI6IDQyNywgInR5cGUiOiAidmVydGV4IiwgInByb3BzIjogeyJzaXplIjogMTYuNTIwNDY3ODM2MjU3MzF9fQo=');</script>\n",
       "    "
      ],
      "text/plain": [
       "<IPython.core.display.HTML object>"
      ]
     },
     "metadata": {},
     "output_type": "display_data"
    },
    {
     "data": {
      "text/html": [
       "\n",
       "        <div id=\"PXaUkBUzioJ2GHQuc4mxp3\"></div>\n",
       "        <script>netpixi.call('PXaUkBUzioJ2GHQuc4mxp3', 'dXk3a4tqEjFijUrzxfv563', 'changeGraph', 'eyJpZCI6IDQyOCwgInR5cGUiOiAidmVydGV4IiwgInByb3BzIjogeyJzaXplIjogMTkuMzg1OTY0OTEyMjgwN319Cg==');</script>\n",
       "    "
      ],
      "text/plain": [
       "<IPython.core.display.HTML object>"
      ]
     },
     "metadata": {},
     "output_type": "display_data"
    },
    {
     "data": {
      "text/html": [
       "\n",
       "        <div id=\"3kxLaQn8JATERxVADFPLj9\"></div>\n",
       "        <script>netpixi.call('3kxLaQn8JATERxVADFPLj9', 'dXk3a4tqEjFijUrzxfv563', 'changeGraph', 'eyJpZCI6IDQyOSwgInR5cGUiOiAidmVydGV4IiwgInByb3BzIjogeyJzaXplIjogMTkuNDQ0NDQ0NDQ0NDQ0NDQzfX0K');</script>\n",
       "    "
      ],
      "text/plain": [
       "<IPython.core.display.HTML object>"
      ]
     },
     "metadata": {},
     "output_type": "display_data"
    },
    {
     "data": {
      "text/html": [
       "\n",
       "        <div id=\"eXZRm5TJTo7iCcndyJmgXW\"></div>\n",
       "        <script>netpixi.call('eXZRm5TJTo7iCcndyJmgXW', 'dXk3a4tqEjFijUrzxfv563', 'changeGraph', 'eyJpZCI6IDQzMCwgInR5cGUiOiAidmVydGV4IiwgInByb3BzIjogeyJzaXplIjogMTEuNDQ3MzY4NDIxMDUyNjMyfX0K');</script>\n",
       "    "
      ],
      "text/plain": [
       "<IPython.core.display.HTML object>"
      ]
     },
     "metadata": {},
     "output_type": "display_data"
    },
    {
     "data": {
      "text/html": [
       "\n",
       "        <div id=\"BfrFY7ohzRSaBcLbD9Q2M7\"></div>\n",
       "        <script>netpixi.call('BfrFY7ohzRSaBcLbD9Q2M7', 'dXk3a4tqEjFijUrzxfv563', 'changeGraph', 'eyJpZCI6IDQzMSwgInR5cGUiOiAidmVydGV4IiwgInByb3BzIjogeyJzaXplIjogMTkuMjY5MDA1ODQ3OTUzMjE3fX0K');</script>\n",
       "    "
      ],
      "text/plain": [
       "<IPython.core.display.HTML object>"
      ]
     },
     "metadata": {},
     "output_type": "display_data"
    },
    {
     "data": {
      "text/html": [
       "\n",
       "        <div id=\"8jebRU6AhTG3ETN8nz8GWH\"></div>\n",
       "        <script>netpixi.call('8jebRU6AhTG3ETN8nz8GWH', 'dXk3a4tqEjFijUrzxfv563', 'changeGraph', 'eyJpZCI6IDQzMiwgInR5cGUiOiAidmVydGV4IiwgInByb3BzIjogeyJzaXplIjogMTguNDUwMjkyMzk3NjYwODE3fX0K');</script>\n",
       "    "
      ],
      "text/plain": [
       "<IPython.core.display.HTML object>"
      ]
     },
     "metadata": {},
     "output_type": "display_data"
    },
    {
     "data": {
      "text/html": [
       "\n",
       "        <div id=\"7GNsHqnkXURcGNyoqa7TZM\"></div>\n",
       "        <script>netpixi.call('7GNsHqnkXURcGNyoqa7TZM', 'dXk3a4tqEjFijUrzxfv563', 'changeGraph', 'eyJpZCI6IDQzMywgInR5cGUiOiAidmVydGV4IiwgInByb3BzIjogeyJzaXplIjogMTUuOTc5NTMyMTYzNzQyNjl9fQo=');</script>\n",
       "    "
      ],
      "text/plain": [
       "<IPython.core.display.HTML object>"
      ]
     },
     "metadata": {},
     "output_type": "display_data"
    },
    {
     "data": {
      "text/html": [
       "\n",
       "        <div id=\"o9KQKwkEdmsGxsCFLeXczD\"></div>\n",
       "        <script>netpixi.call('o9KQKwkEdmsGxsCFLeXczD', 'dXk3a4tqEjFijUrzxfv563', 'changeGraph', 'eyJpZCI6IDQzNCwgInR5cGUiOiAidmVydGV4IiwgInByb3BzIjogeyJzaXplIjogMTQuMTM3NDI2OTAwNTg0Nzk2fX0K');</script>\n",
       "    "
      ],
      "text/plain": [
       "<IPython.core.display.HTML object>"
      ]
     },
     "metadata": {},
     "output_type": "display_data"
    },
    {
     "data": {
      "text/html": [
       "\n",
       "        <div id=\"JiAgCKcreiefkDPBHgr6oP\"></div>\n",
       "        <script>netpixi.call('JiAgCKcreiefkDPBHgr6oP', 'dXk3a4tqEjFijUrzxfv563', 'changeGraph', 'eyJpZCI6IDQzNSwgInR5cGUiOiAidmVydGV4IiwgInByb3BzIjogeyJzaXplIjogMTcuOTY3ODM2MjU3MzA5OTR9fQo=');</script>\n",
       "    "
      ],
      "text/plain": [
       "<IPython.core.display.HTML object>"
      ]
     },
     "metadata": {},
     "output_type": "display_data"
    },
    {
     "data": {
      "text/html": [
       "\n",
       "        <div id=\"Ydugr6hcYtoBhTPnGFzX8U\"></div>\n",
       "        <script>netpixi.call('Ydugr6hcYtoBhTPnGFzX8U', 'dXk3a4tqEjFijUrzxfv563', 'changeGraph', 'eyJpZCI6IDQzNiwgInR5cGUiOiAidmVydGV4IiwgInByb3BzIjogeyJzaXplIjogMTkuMDc4OTQ3MzY4NDIxMDV9fQo=');</script>\n",
       "    "
      ],
      "text/plain": [
       "<IPython.core.display.HTML object>"
      ]
     },
     "metadata": {},
     "output_type": "display_data"
    },
    {
     "data": {
      "text/html": [
       "\n",
       "        <div id=\"mBh8rLGha5ARDhpwExNRYK\"></div>\n",
       "        <script>netpixi.call('mBh8rLGha5ARDhpwExNRYK', 'dXk3a4tqEjFijUrzxfv563', 'changeGraph', 'eyJpZCI6IDQzNywgInR5cGUiOiAidmVydGV4IiwgInByb3BzIjogeyJzaXplIjogMTUuMzIxNjM3NDI2OTAwNTg1fX0K');</script>\n",
       "    "
      ],
      "text/plain": [
       "<IPython.core.display.HTML object>"
      ]
     },
     "metadata": {},
     "output_type": "display_data"
    },
    {
     "data": {
      "text/html": [
       "\n",
       "        <div id=\"aRJ3uscW4qWwjENaWBKn3C\"></div>\n",
       "        <script>netpixi.call('aRJ3uscW4qWwjENaWBKn3C', 'dXk3a4tqEjFijUrzxfv563', 'changeGraph', 'eyJpZCI6IDQzOCwgInR5cGUiOiAidmVydGV4IiwgInByb3BzIjogeyJzaXplIjogNDEuNTY5NzY3NDQxODYwNDZ9fQo=');</script>\n",
       "    "
      ],
      "text/plain": [
       "<IPython.core.display.HTML object>"
      ]
     },
     "metadata": {},
     "output_type": "display_data"
    },
    {
     "data": {
      "text/html": [
       "\n",
       "        <div id=\"JsNwYTd5c8vFoa882QchWd\"></div>\n",
       "        <script>netpixi.call('JsNwYTd5c8vFoa882QchWd', 'dXk3a4tqEjFijUrzxfv563', 'changeGraph', 'eyJpZCI6IDQzOSwgInR5cGUiOiAidmVydGV4IiwgInByb3BzIjogeyJzaXplIjogMTQuNTkwNjQzMjc0ODUzOH19Cg==');</script>\n",
       "    "
      ],
      "text/plain": [
       "<IPython.core.display.HTML object>"
      ]
     },
     "metadata": {},
     "output_type": "display_data"
    },
    {
     "data": {
      "text/html": [
       "\n",
       "        <div id=\"RH2NDPrufykHfY6Y3QPuck\"></div>\n",
       "        <script>netpixi.call('RH2NDPrufykHfY6Y3QPuck', 'dXk3a4tqEjFijUrzxfv563', 'changeGraph', 'eyJpZCI6IDQ0MCwgInR5cGUiOiAidmVydGV4IiwgInByb3BzIjogeyJzaXplIjogMTguOTYxOTg4MzA0MDkzNTY2fX0K');</script>\n",
       "    "
      ],
      "text/plain": [
       "<IPython.core.display.HTML object>"
      ]
     },
     "metadata": {},
     "output_type": "display_data"
    },
    {
     "data": {
      "text/html": [
       "\n",
       "        <div id=\"5LmaqgwxYWnvGhAU8TyEz3\"></div>\n",
       "        <script>netpixi.call('5LmaqgwxYWnvGhAU8TyEz3', 'dXk3a4tqEjFijUrzxfv563', 'changeGraph', 'eyJpZCI6IDQ0MSwgInR5cGUiOiAidmVydGV4IiwgInByb3BzIjogeyJzaXplIjogMTkuMDkzNTY3MjUxNDYxOTg3fX0K');</script>\n",
       "    "
      ],
      "text/plain": [
       "<IPython.core.display.HTML object>"
      ]
     },
     "metadata": {},
     "output_type": "display_data"
    },
    {
     "data": {
      "text/html": [
       "\n",
       "        <div id=\"NvUBnfHKVBLtkKzU9HvJrh\"></div>\n",
       "        <script>netpixi.call('NvUBnfHKVBLtkKzU9HvJrh', 'dXk3a4tqEjFijUrzxfv563', 'changeGraph', 'eyJpZCI6IDQ0MiwgInR5cGUiOiAidmVydGV4IiwgInByb3BzIjogeyJzaXplIjogMTIuMTE5ODgzMDQwOTM1NjcyfX0K');</script>\n",
       "    "
      ],
      "text/plain": [
       "<IPython.core.display.HTML object>"
      ]
     },
     "metadata": {},
     "output_type": "display_data"
    },
    {
     "data": {
      "text/html": [
       "\n",
       "        <div id=\"UnAFQXCYEW6p5RpPFroqay\"></div>\n",
       "        <script>netpixi.call('UnAFQXCYEW6p5RpPFroqay', 'dXk3a4tqEjFijUrzxfv563', 'changeGraph', 'eyJpZCI6IDQ0MywgInR5cGUiOiAidmVydGV4IiwgInByb3BzIjogeyJzaXplIjogMTQuMTk1OTA2NDMyNzQ4NTM4fX0K');</script>\n",
       "    "
      ],
      "text/plain": [
       "<IPython.core.display.HTML object>"
      ]
     },
     "metadata": {},
     "output_type": "display_data"
    },
    {
     "data": {
      "text/html": [
       "\n",
       "        <div id=\"8qXZL7JbP4EjNEhp6GaiH5\"></div>\n",
       "        <script>netpixi.call('8qXZL7JbP4EjNEhp6GaiH5', 'dXk3a4tqEjFijUrzxfv563', 'changeGraph', 'eyJpZCI6IDQ0NCwgInR5cGUiOiAidmVydGV4IiwgInByb3BzIjogeyJzaXplIjogMTMuNTk2NDkxMjI4MDcwMTc1fX0K');</script>\n",
       "    "
      ],
      "text/plain": [
       "<IPython.core.display.HTML object>"
      ]
     },
     "metadata": {},
     "output_type": "display_data"
    },
    {
     "data": {
      "text/html": [
       "\n",
       "        <div id=\"5QZMASDXzkEzPDcWhvH3rY\"></div>\n",
       "        <script>netpixi.call('5QZMASDXzkEzPDcWhvH3rY', 'dXk3a4tqEjFijUrzxfv563', 'changeGraph', 'eyJpZCI6IDQ0NSwgInR5cGUiOiAidmVydGV4IiwgInByb3BzIjogeyJzaXplIjogMTcuNjMxNTc4OTQ3MzY4NDJ9fQo=');</script>\n",
       "    "
      ],
      "text/plain": [
       "<IPython.core.display.HTML object>"
      ]
     },
     "metadata": {},
     "output_type": "display_data"
    },
    {
     "data": {
      "text/html": [
       "\n",
       "        <div id=\"VyA5yYXXr5cHGQ4GntkRkC\"></div>\n",
       "        <script>netpixi.call('VyA5yYXXr5cHGQ4GntkRkC', 'dXk3a4tqEjFijUrzxfv563', 'changeGraph', 'eyJpZCI6IDQ0NiwgInR5cGUiOiAidmVydGV4IiwgInByb3BzIjogeyJzaXplIjogMTcuODY1NDk3MDc2MDIzMzl9fQo=');</script>\n",
       "    "
      ],
      "text/plain": [
       "<IPython.core.display.HTML object>"
      ]
     },
     "metadata": {},
     "output_type": "display_data"
    },
    {
     "data": {
      "text/html": [
       "\n",
       "        <div id=\"Gwt6NXXfFjFkRHpYCCSfRM\"></div>\n",
       "        <script>netpixi.call('Gwt6NXXfFjFkRHpYCCSfRM', 'dXk3a4tqEjFijUrzxfv563', 'changeGraph', 'eyJpZCI6IDQ0NywgInR5cGUiOiAidmVydGV4IiwgInByb3BzIjogeyJzaXplIjogMTUuNjI4NjU0OTcwNzYwMjM0fX0K');</script>\n",
       "    "
      ],
      "text/plain": [
       "<IPython.core.display.HTML object>"
      ]
     },
     "metadata": {},
     "output_type": "display_data"
    },
    {
     "data": {
      "text/html": [
       "\n",
       "        <div id=\"jzUgVRA64aaiVqDYsWaxYq\"></div>\n",
       "        <script>netpixi.call('jzUgVRA64aaiVqDYsWaxYq', 'dXk3a4tqEjFijUrzxfv563', 'changeGraph', 'eyJpZCI6IDQ0OCwgInR5cGUiOiAidmVydGV4IiwgInByb3BzIjogeyJzaXplIjogMTUuMTc1NDM4NTk2NDkxMjI4fX0K');</script>\n",
       "    "
      ],
      "text/plain": [
       "<IPython.core.display.HTML object>"
      ]
     },
     "metadata": {},
     "output_type": "display_data"
    },
    {
     "data": {
      "text/html": [
       "\n",
       "        <div id=\"TGkYazjCJzDRt98C3hKU9Y\"></div>\n",
       "        <script>netpixi.call('TGkYazjCJzDRt98C3hKU9Y', 'dXk3a4tqEjFijUrzxfv563', 'changeGraph', 'eyJpZCI6IDQ0OSwgInR5cGUiOiAidmVydGV4IiwgInByb3BzIjogeyJzaXplIjogMTkuNzk1MzIxNjM3NDI2OTAyfX0K');</script>\n",
       "    "
      ],
      "text/plain": [
       "<IPython.core.display.HTML object>"
      ]
     },
     "metadata": {},
     "output_type": "display_data"
    },
    {
     "data": {
      "text/html": [
       "\n",
       "        <div id=\"MCjLr9LtGmxiNq9jFnzKYG\"></div>\n",
       "        <script>netpixi.call('MCjLr9LtGmxiNq9jFnzKYG', 'dXk3a4tqEjFijUrzxfv563', 'changeGraph', 'eyJpZCI6IDQ1MCwgInR5cGUiOiAidmVydGV4IiwgInByb3BzIjogeyJzaXplIjogMTQuNzUxNDYxOTg4MzA0MDk0fX0K');</script>\n",
       "    "
      ],
      "text/plain": [
       "<IPython.core.display.HTML object>"
      ]
     },
     "metadata": {},
     "output_type": "display_data"
    },
    {
     "data": {
      "text/html": [
       "\n",
       "        <div id=\"XAjzGd34x9oFJriaLZUehR\"></div>\n",
       "        <script>netpixi.call('XAjzGd34x9oFJriaLZUehR', 'dXk3a4tqEjFijUrzxfv563', 'changeGraph', 'eyJpZCI6IDQ1MSwgInR5cGUiOiAidmVydGV4IiwgInByb3BzIjogeyJzaXplIjogMTQuNTYxNDAzNTA4NzcxOTN9fQo=');</script>\n",
       "    "
      ],
      "text/plain": [
       "<IPython.core.display.HTML object>"
      ]
     },
     "metadata": {},
     "output_type": "display_data"
    },
    {
     "data": {
      "text/html": [
       "\n",
       "        <div id=\"bML3tg9wTvhkKzQ9eMe83M\"></div>\n",
       "        <script>netpixi.call('bML3tg9wTvhkKzQ9eMe83M', 'dXk3a4tqEjFijUrzxfv563', 'changeGraph', 'eyJpZCI6IDQ1MiwgInR5cGUiOiAidmVydGV4IiwgInByb3BzIjogeyJzaXplIjogMTkuMTk1OTA2NDMyNzQ4NTM2fX0K');</script>\n",
       "    "
      ],
      "text/plain": [
       "<IPython.core.display.HTML object>"
      ]
     },
     "metadata": {},
     "output_type": "display_data"
    },
    {
     "data": {
      "text/html": [
       "\n",
       "        <div id=\"KvRy632DchupRNsJnSDexd\"></div>\n",
       "        <script>netpixi.call('KvRy632DchupRNsJnSDexd', 'dXk3a4tqEjFijUrzxfv563', 'changeGraph', 'eyJpZCI6IDQ1MywgInR5cGUiOiAidmVydGV4IiwgInByb3BzIjogeyJzaXplIjogMTMuMjAxNzU0Mzg1OTY0OTEzfX0K');</script>\n",
       "    "
      ],
      "text/plain": [
       "<IPython.core.display.HTML object>"
      ]
     },
     "metadata": {},
     "output_type": "display_data"
    },
    {
     "data": {
      "text/html": [
       "\n",
       "        <div id=\"eE3XcJrLs9QRXWn8EEhP4o\"></div>\n",
       "        <script>netpixi.call('eE3XcJrLs9QRXWn8EEhP4o', 'dXk3a4tqEjFijUrzxfv563', 'changeGraph', 'eyJpZCI6IDQ1NCwgInR5cGUiOiAidmVydGV4IiwgInByb3BzIjogeyJzaXplIjogMTYuNTkzNTY3MjUxNDYxOTg3fX0K');</script>\n",
       "    "
      ],
      "text/plain": [
       "<IPython.core.display.HTML object>"
      ]
     },
     "metadata": {},
     "output_type": "display_data"
    },
    {
     "data": {
      "text/html": [
       "\n",
       "        <div id=\"CyuCiXVGBBzyQqm5yXEybP\"></div>\n",
       "        <script>netpixi.call('CyuCiXVGBBzyQqm5yXEybP', 'dXk3a4tqEjFijUrzxfv563', 'changeGraph', 'eyJpZCI6IDQ1NSwgInR5cGUiOiAidmVydGV4IiwgInByb3BzIjogeyJzaXplIjogMTcuMzgzMDQwOTM1NjcyNTE1fX0K');</script>\n",
       "    "
      ],
      "text/plain": [
       "<IPython.core.display.HTML object>"
      ]
     },
     "metadata": {},
     "output_type": "display_data"
    },
    {
     "data": {
      "text/html": [
       "\n",
       "        <div id=\"XQKGAgRqkr8K7QWFTiQKiD\"></div>\n",
       "        <script>netpixi.call('XQKGAgRqkr8K7QWFTiQKiD', 'dXk3a4tqEjFijUrzxfv563', 'changeGraph', 'eyJpZCI6IDQ1NiwgInR5cGUiOiAidmVydGV4IiwgInByb3BzIjogeyJzaXplIjogMTQuMzI3NDg1MzgwMTE2OTU4fX0K');</script>\n",
       "    "
      ],
      "text/plain": [
       "<IPython.core.display.HTML object>"
      ]
     },
     "metadata": {},
     "output_type": "display_data"
    },
    {
     "data": {
      "text/html": [
       "\n",
       "        <div id=\"AHs5XgZW7xyFSccXysd6BU\"></div>\n",
       "        <script>netpixi.call('AHs5XgZW7xyFSccXysd6BU', 'dXk3a4tqEjFijUrzxfv563', 'changeGraph', 'eyJpZCI6IDQ1NywgInR5cGUiOiAidmVydGV4IiwgInByb3BzIjogeyJzaXplIjogMTQuODA5OTQxNTIwNDY3ODM2fX0K');</script>\n",
       "    "
      ],
      "text/plain": [
       "<IPython.core.display.HTML object>"
      ]
     },
     "metadata": {},
     "output_type": "display_data"
    },
    {
     "data": {
      "text/html": [
       "\n",
       "        <div id=\"e5sGgrtWZaVfcKKYYJznQW\"></div>\n",
       "        <script>netpixi.call('e5sGgrtWZaVfcKKYYJznQW', 'dXk3a4tqEjFijUrzxfv563', 'changeGraph', 'eyJpZCI6IDQ1OCwgInR5cGUiOiAidmVydGV4IiwgInByb3BzIjogeyJzaXplIjogMTYuNjUyMDQ2NzgzNjI1NzI4fX0K');</script>\n",
       "    "
      ],
      "text/plain": [
       "<IPython.core.display.HTML object>"
      ]
     },
     "metadata": {},
     "output_type": "display_data"
    },
    {
     "data": {
      "text/html": [
       "\n",
       "        <div id=\"eHh3L4QeqRqmrfJZTA8sRD\"></div>\n",
       "        <script>netpixi.call('eHh3L4QeqRqmrfJZTA8sRD', 'dXk3a4tqEjFijUrzxfv563', 'changeGraph', 'eyJpZCI6IDQ1OSwgInR5cGUiOiAidmVydGV4IiwgInByb3BzIjogeyJzaXplIjogMTIuODA3MDE3NTQzODU5NjQ5fX0K');</script>\n",
       "    "
      ],
      "text/plain": [
       "<IPython.core.display.HTML object>"
      ]
     },
     "metadata": {},
     "output_type": "display_data"
    },
    {
     "data": {
      "text/html": [
       "\n",
       "        <div id=\"jarPDHpLdX6mcRVreNjiL2\"></div>\n",
       "        <script>netpixi.call('jarPDHpLdX6mcRVreNjiL2', 'dXk3a4tqEjFijUrzxfv563', 'changeGraph', 'eyJpZCI6IDQ2MCwgInR5cGUiOiAidmVydGV4IiwgInByb3BzIjogeyJzaXplIjogMTQuNDg4MzA0MDkzNTY3MjUxfX0K');</script>\n",
       "    "
      ],
      "text/plain": [
       "<IPython.core.display.HTML object>"
      ]
     },
     "metadata": {},
     "output_type": "display_data"
    },
    {
     "data": {
      "text/html": [
       "\n",
       "        <div id=\"KS8RoE2tb7McpB8TaFia36\"></div>\n",
       "        <script>netpixi.call('KS8RoE2tb7McpB8TaFia36', 'dXk3a4tqEjFijUrzxfv563', 'changeGraph', 'eyJpZCI6IDQ2MSwgInR5cGUiOiAidmVydGV4IiwgInByb3BzIjogeyJzaXplIjogMTkuMTgxMjg2NTQ5NzA3Nn19Cg==');</script>\n",
       "    "
      ],
      "text/plain": [
       "<IPython.core.display.HTML object>"
      ]
     },
     "metadata": {},
     "output_type": "display_data"
    },
    {
     "data": {
      "text/html": [
       "\n",
       "        <div id=\"inkBcTjU684piheFjRh2JM\"></div>\n",
       "        <script>netpixi.call('inkBcTjU684piheFjRh2JM', 'dXk3a4tqEjFijUrzxfv563', 'changeGraph', 'eyJpZCI6IDQ2MiwgInR5cGUiOiAidmVydGV4IiwgInByb3BzIjogeyJzaXplIjogMTQuNzY2MDgxODcxMzQ1MDN9fQo=');</script>\n",
       "    "
      ],
      "text/plain": [
       "<IPython.core.display.HTML object>"
      ]
     },
     "metadata": {},
     "output_type": "display_data"
    },
    {
     "data": {
      "text/html": [
       "\n",
       "        <div id=\"iHvUXhA4FbGoDdB33kxhMB\"></div>\n",
       "        <script>netpixi.call('iHvUXhA4FbGoDdB33kxhMB', 'dXk3a4tqEjFijUrzxfv563', 'changeGraph', 'eyJpZCI6IDQ2MywgInR5cGUiOiAidmVydGV4IiwgInByb3BzIjogeyJzaXplIjogMTQuNjM0NTAyOTIzOTc2NjA4fX0K');</script>\n",
       "    "
      ],
      "text/plain": [
       "<IPython.core.display.HTML object>"
      ]
     },
     "metadata": {},
     "output_type": "display_data"
    },
    {
     "data": {
      "text/html": [
       "\n",
       "        <div id=\"iXdyb7zocR9xeqERas8kpB\"></div>\n",
       "        <script>netpixi.call('iXdyb7zocR9xeqERas8kpB', 'dXk3a4tqEjFijUrzxfv563', 'changeGraph', 'eyJpZCI6IDQ2NCwgInR5cGUiOiAidmVydGV4IiwgInByb3BzIjogeyJzaXplIjogMTIuNzQ4NTM4MDExNjk1OTA2fX0K');</script>\n",
       "    "
      ],
      "text/plain": [
       "<IPython.core.display.HTML object>"
      ]
     },
     "metadata": {},
     "output_type": "display_data"
    },
    {
     "data": {
      "text/html": [
       "\n",
       "        <div id=\"DLNzvNZ8JeXquYdPksDEPM\"></div>\n",
       "        <script>netpixi.call('DLNzvNZ8JeXquYdPksDEPM', 'dXk3a4tqEjFijUrzxfv563', 'changeGraph', 'eyJpZCI6IDQ2NSwgInR5cGUiOiAidmVydGV4IiwgInByb3BzIjogeyJzaXplIjogMTcuNX19Cg==');</script>\n",
       "    "
      ],
      "text/plain": [
       "<IPython.core.display.HTML object>"
      ]
     },
     "metadata": {},
     "output_type": "display_data"
    },
    {
     "data": {
      "text/html": [
       "\n",
       "        <div id=\"5YEWxtvSoQkB6Z65FMuZsR\"></div>\n",
       "        <script>netpixi.call('5YEWxtvSoQkB6Z65FMuZsR', 'dXk3a4tqEjFijUrzxfv563', 'changeGraph', 'eyJpZCI6IDQ2NiwgInR5cGUiOiAidmVydGV4IiwgInByb3BzIjogeyJzaXplIjogMTIuNzkyMzk3NjYwODE4NzEzfX0K');</script>\n",
       "    "
      ],
      "text/plain": [
       "<IPython.core.display.HTML object>"
      ]
     },
     "metadata": {},
     "output_type": "display_data"
    },
    {
     "data": {
      "text/html": [
       "\n",
       "        <div id=\"TCe8EZrYvvVjfhm35gjun4\"></div>\n",
       "        <script>netpixi.call('TCe8EZrYvvVjfhm35gjun4', 'dXk3a4tqEjFijUrzxfv563', 'changeGraph', 'eyJpZCI6IDQ2NywgInR5cGUiOiAidmVydGV4IiwgInByb3BzIjogeyJzaXplIjogMTMuNDk0MTUyMDQ2NzgzNjI2fX0K');</script>\n",
       "    "
      ],
      "text/plain": [
       "<IPython.core.display.HTML object>"
      ]
     },
     "metadata": {},
     "output_type": "display_data"
    },
    {
     "data": {
      "text/html": [
       "\n",
       "        <div id=\"ahSDxGuenEcL3heGhHwE5y\"></div>\n",
       "        <script>netpixi.call('ahSDxGuenEcL3heGhHwE5y', 'dXk3a4tqEjFijUrzxfv563', 'changeGraph', 'eyJpZCI6IDQ2OCwgInR5cGUiOiAidmVydGV4IiwgInByb3BzIjogeyJzaXplIjogMTUuNDk3MDc2MDIzMzkxODEzfX0K');</script>\n",
       "    "
      ],
      "text/plain": [
       "<IPython.core.display.HTML object>"
      ]
     },
     "metadata": {},
     "output_type": "display_data"
    },
    {
     "data": {
      "text/html": [
       "\n",
       "        <div id=\"Tkjm29JJf7yErb7NV63bqP\"></div>\n",
       "        <script>netpixi.call('Tkjm29JJf7yErb7NV63bqP', 'dXk3a4tqEjFijUrzxfv563', 'changeGraph', 'eyJpZCI6IDQ2OSwgInR5cGUiOiAidmVydGV4IiwgInByb3BzIjogeyJzaXplIjogMTMuNjI1NzMwOTk0MTUyMDQ3fX0K');</script>\n",
       "    "
      ],
      "text/plain": [
       "<IPython.core.display.HTML object>"
      ]
     },
     "metadata": {},
     "output_type": "display_data"
    },
    {
     "data": {
      "text/html": [
       "\n",
       "        <div id=\"VoeTMsuvg3QNjHPQGCaAbe\"></div>\n",
       "        <script>netpixi.call('VoeTMsuvg3QNjHPQGCaAbe', 'dXk3a4tqEjFijUrzxfv563', 'changeGraph', 'eyJpZCI6IDQ3MCwgInR5cGUiOiAidmVydGV4IiwgInByb3BzIjogeyJzaXplIjogMTEuMDIzMzkxODEyODY1NDk4fX0K');</script>\n",
       "    "
      ],
      "text/plain": [
       "<IPython.core.display.HTML object>"
      ]
     },
     "metadata": {},
     "output_type": "display_data"
    },
    {
     "data": {
      "text/html": [
       "\n",
       "        <div id=\"AamBGpK56CFHGVXnD3on7f\"></div>\n",
       "        <script>netpixi.call('AamBGpK56CFHGVXnD3on7f', 'dXk3a4tqEjFijUrzxfv563', 'changeGraph', 'eyJpZCI6IDQ3MSwgInR5cGUiOiAidmVydGV4IiwgInByb3BzIjogeyJzaXplIjogMTYuNDE4MTI4NjU0OTcwNzU4fX0K');</script>\n",
       "    "
      ],
      "text/plain": [
       "<IPython.core.display.HTML object>"
      ]
     },
     "metadata": {},
     "output_type": "display_data"
    },
    {
     "data": {
      "text/html": [
       "\n",
       "        <div id=\"kqP77CZnJJDohZ62xEUtGv\"></div>\n",
       "        <script>netpixi.call('kqP77CZnJJDohZ62xEUtGv', 'dXk3a4tqEjFijUrzxfv563', 'changeGraph', 'eyJpZCI6IDQ3MiwgInR5cGUiOiAidmVydGV4IiwgInByb3BzIjogeyJzaXplIjogMTUuNDUzMjE2Mzc0MjY5MDA1fX0K');</script>\n",
       "    "
      ],
      "text/plain": [
       "<IPython.core.display.HTML object>"
      ]
     },
     "metadata": {},
     "output_type": "display_data"
    },
    {
     "data": {
      "text/html": [
       "\n",
       "        <div id=\"KnXbf7nWKZrSBbyUjUCtJx\"></div>\n",
       "        <script>netpixi.call('KnXbf7nWKZrSBbyUjUCtJx', 'dXk3a4tqEjFijUrzxfv563', 'changeGraph', 'eyJpZCI6IDQ3MywgInR5cGUiOiAidmVydGV4IiwgInByb3BzIjogeyJzaXplIjogMTMuMzMzMzMzMzMzMzMzMzMyfX0K');</script>\n",
       "    "
      ],
      "text/plain": [
       "<IPython.core.display.HTML object>"
      ]
     },
     "metadata": {},
     "output_type": "display_data"
    },
    {
     "data": {
      "text/html": [
       "\n",
       "        <div id=\"AhDnt4Z2rcdeUugH8fYmuG\"></div>\n",
       "        <script>netpixi.call('AhDnt4Z2rcdeUugH8fYmuG', 'dXk3a4tqEjFijUrzxfv563', 'changeGraph', 'eyJpZCI6IDQ3NCwgInR5cGUiOiAidmVydGV4IiwgInByb3BzIjogeyJzaXplIjogMTQuNjYzNzQyNjkwMDU4NDh9fQo=');</script>\n",
       "    "
      ],
      "text/plain": [
       "<IPython.core.display.HTML object>"
      ]
     },
     "metadata": {},
     "output_type": "display_data"
    },
    {
     "data": {
      "text/html": [
       "\n",
       "        <div id=\"Uvcd5PekSff5aUkCmdH3NC\"></div>\n",
       "        <script>netpixi.call('Uvcd5PekSff5aUkCmdH3NC', 'dXk3a4tqEjFijUrzxfv563', 'changeGraph', 'eyJpZCI6IDQ3NSwgInR5cGUiOiAidmVydGV4IiwgInByb3BzIjogeyJzaXplIjogMTUuNzQ1NjE0MDM1MDg3NzJ9fQo=');</script>\n",
       "    "
      ],
      "text/plain": [
       "<IPython.core.display.HTML object>"
      ]
     },
     "metadata": {},
     "output_type": "display_data"
    },
    {
     "data": {
      "text/html": [
       "\n",
       "        <div id=\"karseonW3YuAtk7ccR8BSL\"></div>\n",
       "        <script>netpixi.call('karseonW3YuAtk7ccR8BSL', 'dXk3a4tqEjFijUrzxfv563', 'changeGraph', 'eyJpZCI6IDQ3NiwgInR5cGUiOiAidmVydGV4IiwgInByb3BzIjogeyJzaXplIjogMTUuMzk0NzM2ODQyMTA1MjY0fX0K');</script>\n",
       "    "
      ],
      "text/plain": [
       "<IPython.core.display.HTML object>"
      ]
     },
     "metadata": {},
     "output_type": "display_data"
    },
    {
     "data": {
      "text/html": [
       "\n",
       "        <div id=\"32GCgYGVhUzUAUiB2pD5z6\"></div>\n",
       "        <script>netpixi.call('32GCgYGVhUzUAUiB2pD5z6', 'dXk3a4tqEjFijUrzxfv563', 'changeGraph', 'eyJpZCI6IDQ3NywgInR5cGUiOiAidmVydGV4IiwgInByb3BzIjogeyJzaXplIjogMTQuMzEyODY1NDk3MDc2MDIzfX0K');</script>\n",
       "    "
      ],
      "text/plain": [
       "<IPython.core.display.HTML object>"
      ]
     },
     "metadata": {},
     "output_type": "display_data"
    },
    {
     "data": {
      "text/html": [
       "\n",
       "        <div id=\"2U4LL5w93cB5AUHVTr7Rz6\"></div>\n",
       "        <script>netpixi.call('2U4LL5w93cB5AUHVTr7Rz6', 'dXk3a4tqEjFijUrzxfv563', 'changeGraph', 'eyJpZCI6IDQ3OCwgInR5cGUiOiAidmVydGV4IiwgInByb3BzIjogeyJzaXplIjogMTUuNjU3ODk0NzM2ODQyMTA2fX0K');</script>\n",
       "    "
      ],
      "text/plain": [
       "<IPython.core.display.HTML object>"
      ]
     },
     "metadata": {},
     "output_type": "display_data"
    },
    {
     "data": {
      "text/html": [
       "\n",
       "        <div id=\"FSPYs4Auev47aeSmK5Sr8T\"></div>\n",
       "        <script>netpixi.call('FSPYs4Auev47aeSmK5Sr8T', 'dXk3a4tqEjFijUrzxfv563', 'changeGraph', 'eyJpZCI6IDQ3OSwgInR5cGUiOiAidmVydGV4IiwgInByb3BzIjogeyJzaXplIjogMTUuMjc3Nzc3Nzc3Nzc3Nzc5fX0K');</script>\n",
       "    "
      ],
      "text/plain": [
       "<IPython.core.display.HTML object>"
      ]
     },
     "metadata": {},
     "output_type": "display_data"
    },
    {
     "data": {
      "text/html": [
       "\n",
       "        <div id=\"dkeZF7BYjcDje8kKYUAmds\"></div>\n",
       "        <script>netpixi.call('dkeZF7BYjcDje8kKYUAmds', 'dXk3a4tqEjFijUrzxfv563', 'changeGraph', 'eyJpZCI6IDQ4MCwgInR5cGUiOiAidmVydGV4IiwgInByb3BzIjogeyJzaXplIjogMTEuNzI1MTQ2MTk4ODMwNDA5fX0K');</script>\n",
       "    "
      ],
      "text/plain": [
       "<IPython.core.display.HTML object>"
      ]
     },
     "metadata": {},
     "output_type": "display_data"
    },
    {
     "data": {
      "text/html": [
       "\n",
       "        <div id=\"cxyyx4BZdai56wuPM44NGB\"></div>\n",
       "        <script>netpixi.call('cxyyx4BZdai56wuPM44NGB', 'dXk3a4tqEjFijUrzxfv563', 'changeGraph', 'eyJpZCI6IDQ4MSwgInR5cGUiOiAidmVydGV4IiwgInByb3BzIjogeyJzaXplIjogMTEuOTAwNTg0Nzk1MzIxNjM4fX0K');</script>\n",
       "    "
      ],
      "text/plain": [
       "<IPython.core.display.HTML object>"
      ]
     },
     "metadata": {},
     "output_type": "display_data"
    },
    {
     "data": {
      "text/html": [
       "\n",
       "        <div id=\"Zf7F7tiZAbpvD8u5fdppy6\"></div>\n",
       "        <script>netpixi.call('Zf7F7tiZAbpvD8u5fdppy6', 'dXk3a4tqEjFijUrzxfv563', 'changeGraph', 'eyJpZCI6IDQ4MiwgInR5cGUiOiAidmVydGV4IiwgInByb3BzIjogeyJzaXplIjogMTEuOTE1MjA0Njc4MzYyNTcyfX0K');</script>\n",
       "    "
      ],
      "text/plain": [
       "<IPython.core.display.HTML object>"
      ]
     },
     "metadata": {},
     "output_type": "display_data"
    },
    {
     "data": {
      "text/html": [
       "\n",
       "        <div id=\"ZApoxAvNfERsUqPzsESrbz\"></div>\n",
       "        <script>netpixi.call('ZApoxAvNfERsUqPzsESrbz', 'dXk3a4tqEjFijUrzxfv563', 'changeGraph', 'eyJpZCI6IDQ4MywgInR5cGUiOiAidmVydGV4IiwgInByb3BzIjogeyJzaXplIjogMTMuNDc5NTMyMTYzNzQyNjl9fQo=');</script>\n",
       "    "
      ],
      "text/plain": [
       "<IPython.core.display.HTML object>"
      ]
     },
     "metadata": {},
     "output_type": "display_data"
    },
    {
     "data": {
      "text/html": [
       "\n",
       "        <div id=\"Um2SBGxoaBHNKNuWu5jYxN\"></div>\n",
       "        <script>netpixi.call('Um2SBGxoaBHNKNuWu5jYxN', 'dXk3a4tqEjFijUrzxfv563', 'changeGraph', 'eyJpZCI6IDQ4NCwgInR5cGUiOiAidmVydGV4IiwgInByb3BzIjogeyJzaXplIjogMTMuODg4ODg4ODg4ODg4ODl9fQo=');</script>\n",
       "    "
      ],
      "text/plain": [
       "<IPython.core.display.HTML object>"
      ]
     },
     "metadata": {},
     "output_type": "display_data"
    },
    {
     "data": {
      "text/html": [
       "\n",
       "        <div id=\"b4Uurq8EeT4XwFipwXJmps\"></div>\n",
       "        <script>netpixi.call('b4Uurq8EeT4XwFipwXJmps', 'dXk3a4tqEjFijUrzxfv563', 'changeGraph', 'eyJpZCI6IDQ4NSwgInR5cGUiOiAidmVydGV4IiwgInByb3BzIjogeyJzaXplIjogMTEuNzY5MDA1ODQ3OTUzMjE3fX0K');</script>\n",
       "    "
      ],
      "text/plain": [
       "<IPython.core.display.HTML object>"
      ]
     },
     "metadata": {},
     "output_type": "display_data"
    },
    {
     "data": {
      "text/html": [
       "\n",
       "        <div id=\"7UUA6TDHxJZTfWg4XhGdSH\"></div>\n",
       "        <script>netpixi.call('7UUA6TDHxJZTfWg4XhGdSH', 'dXk3a4tqEjFijUrzxfv563', 'changeGraph', 'eyJpZCI6IDQ4NiwgInR5cGUiOiAidmVydGV4IiwgInByb3BzIjogeyJzaXplIjogMTMuODc0MjY5MDA1ODQ3OTUzfX0K');</script>\n",
       "    "
      ],
      "text/plain": [
       "<IPython.core.display.HTML object>"
      ]
     },
     "metadata": {},
     "output_type": "display_data"
    },
    {
     "data": {
      "text/html": [
       "\n",
       "        <div id=\"CASEqpVYVcy4rcMEd6wu84\"></div>\n",
       "        <script>netpixi.call('CASEqpVYVcy4rcMEd6wu84', 'dXk3a4tqEjFijUrzxfv563', 'changeGraph', 'eyJpZCI6IDQ4NywgInR5cGUiOiAidmVydGV4IiwgInByb3BzIjogeyJzaXplIjogMTUuNzYwMjMzOTE4MTI4NjU1fX0K');</script>\n",
       "    "
      ],
      "text/plain": [
       "<IPython.core.display.HTML object>"
      ]
     },
     "metadata": {},
     "output_type": "display_data"
    },
    {
     "data": {
      "text/html": [
       "\n",
       "        <div id=\"3DW5rbF53R9eoj7aitW4fT\"></div>\n",
       "        <script>netpixi.call('3DW5rbF53R9eoj7aitW4fT', 'dXk3a4tqEjFijUrzxfv563', 'changeGraph', 'eyJpZCI6IDQ4OCwgInR5cGUiOiAidmVydGV4IiwgInByb3BzIjogeyJzaXplIjogMTIuODUwODc3MTkyOTgyNDU1fX0K');</script>\n",
       "    "
      ],
      "text/plain": [
       "<IPython.core.display.HTML object>"
      ]
     },
     "metadata": {},
     "output_type": "display_data"
    },
    {
     "data": {
      "text/html": [
       "\n",
       "        <div id=\"QP6m4Gr2FHCcLqDSSqa5nA\"></div>\n",
       "        <script>netpixi.call('QP6m4Gr2FHCcLqDSSqa5nA', 'dXk3a4tqEjFijUrzxfv563', 'changeGraph', 'eyJpZCI6IDQ4OSwgInR5cGUiOiAidmVydGV4IiwgInByb3BzIjogeyJzaXplIjogMTAuOTY0OTEyMjgwNzAxNzUzfX0K');</script>\n",
       "    "
      ],
      "text/plain": [
       "<IPython.core.display.HTML object>"
      ]
     },
     "metadata": {},
     "output_type": "display_data"
    },
    {
     "data": {
      "text/html": [
       "\n",
       "        <div id=\"Djm2xCKhh7JsvhkTkCUqcx\"></div>\n",
       "        <script>netpixi.call('Djm2xCKhh7JsvhkTkCUqcx', 'dXk3a4tqEjFijUrzxfv563', 'changeGraph', 'eyJpZCI6IDQ5MCwgInR5cGUiOiAidmVydGV4IiwgInByb3BzIjogeyJzaXplIjogMTUuMTAyMzM5MTgxMjg2NTQ5fX0K');</script>\n",
       "    "
      ],
      "text/plain": [
       "<IPython.core.display.HTML object>"
      ]
     },
     "metadata": {},
     "output_type": "display_data"
    },
    {
     "data": {
      "text/html": [
       "\n",
       "        <div id=\"MTvbcwz4ZkkZTVvKxXxg6E\"></div>\n",
       "        <script>netpixi.call('MTvbcwz4ZkkZTVvKxXxg6E', 'dXk3a4tqEjFijUrzxfv563', 'changeGraph', 'eyJpZCI6IDQ5MSwgInR5cGUiOiAidmVydGV4IiwgInByb3BzIjogeyJzaXplIjogMTQuMDIwNDY3ODM2MjU3MzF9fQo=');</script>\n",
       "    "
      ],
      "text/plain": [
       "<IPython.core.display.HTML object>"
      ]
     },
     "metadata": {},
     "output_type": "display_data"
    },
    {
     "data": {
      "text/html": [
       "\n",
       "        <div id=\"GsV4r8B3u2k5DC83emt8kM\"></div>\n",
       "        <script>netpixi.call('GsV4r8B3u2k5DC83emt8kM', 'dXk3a4tqEjFijUrzxfv563', 'changeGraph', 'eyJpZCI6IDQ5MiwgInR5cGUiOiAidmVydGV4IiwgInByb3BzIjogeyJzaXplIjogMTQuNzk1MzIxNjM3NDI2OX19Cg==');</script>\n",
       "    "
      ],
      "text/plain": [
       "<IPython.core.display.HTML object>"
      ]
     },
     "metadata": {},
     "output_type": "display_data"
    },
    {
     "data": {
      "text/html": [
       "\n",
       "        <div id=\"SXKCtKAgycYVKahmShFdtd\"></div>\n",
       "        <script>netpixi.call('SXKCtKAgycYVKahmShFdtd', 'dXk3a4tqEjFijUrzxfv563', 'changeGraph', 'eyJpZCI6IDQ5MywgInR5cGUiOiAidmVydGV4IiwgInByb3BzIjogeyJzaXplIjogMTUuODc3MTkyOTgyNDU2MTR9fQo=');</script>\n",
       "    "
      ],
      "text/plain": [
       "<IPython.core.display.HTML object>"
      ]
     },
     "metadata": {},
     "output_type": "display_data"
    },
    {
     "data": {
      "text/html": [
       "\n",
       "        <div id=\"GFDffYx5wQCLec2fRdEZ2a\"></div>\n",
       "        <script>netpixi.call('GFDffYx5wQCLec2fRdEZ2a', 'dXk3a4tqEjFijUrzxfv563', 'changeGraph', 'eyJpZCI6IDQ5NCwgInR5cGUiOiAidmVydGV4IiwgInByb3BzIjogeyJzaXplIjogMTEuODg1OTY0OTEyMjgwNzAyfX0K');</script>\n",
       "    "
      ],
      "text/plain": [
       "<IPython.core.display.HTML object>"
      ]
     },
     "metadata": {},
     "output_type": "display_data"
    },
    {
     "data": {
      "text/html": [
       "\n",
       "        <div id=\"KZEYqQMz6QtasTnLwyGvzo\"></div>\n",
       "        <script>netpixi.call('KZEYqQMz6QtasTnLwyGvzo', 'dXk3a4tqEjFijUrzxfv563', 'changeGraph', 'eyJpZCI6IDQ5NSwgInR5cGUiOiAidmVydGV4IiwgInByb3BzIjogeyJzaXplIjogMTAuMDczMDk5NDE1MjA0Njc5fX0K');</script>\n",
       "    "
      ],
      "text/plain": [
       "<IPython.core.display.HTML object>"
      ]
     },
     "metadata": {},
     "output_type": "display_data"
    },
    {
     "data": {
      "text/html": [
       "\n",
       "        <div id=\"W5vvMtrpkRRaxzh4BoUqTa\"></div>\n",
       "        <script>netpixi.call('W5vvMtrpkRRaxzh4BoUqTa', 'dXk3a4tqEjFijUrzxfv563', 'changeGraph', 'eyJpZCI6IDQ5NiwgInR5cGUiOiAidmVydGV4IiwgInByb3BzIjogeyJzaXplIjogMTIuNDcwNzYwMjMzOTE4MTI4fX0K');</script>\n",
       "    "
      ],
      "text/plain": [
       "<IPython.core.display.HTML object>"
      ]
     },
     "metadata": {},
     "output_type": "display_data"
    },
    {
     "data": {
      "text/html": [
       "\n",
       "        <div id=\"WBAokboPFaezd4KWEDeN9M\"></div>\n",
       "        <script>netpixi.call('WBAokboPFaezd4KWEDeN9M', 'dXk3a4tqEjFijUrzxfv563', 'changeGraph', 'eyJpZCI6IDQ5NywgInR5cGUiOiAidmVydGV4IiwgInByb3BzIjogeyJzaXplIjogMTUuMzUwODc3MTkyOTgyNDU1fX0K');</script>\n",
       "    "
      ],
      "text/plain": [
       "<IPython.core.display.HTML object>"
      ]
     },
     "metadata": {},
     "output_type": "display_data"
    },
    {
     "data": {
      "text/html": [
       "\n",
       "        <div id=\"ktzRWDDZewrp5kEVUPQoau\"></div>\n",
       "        <script>netpixi.call('ktzRWDDZewrp5kEVUPQoau', 'dXk3a4tqEjFijUrzxfv563', 'changeGraph', 'eyJpZCI6IDQ5OCwgInR5cGUiOiAidmVydGV4IiwgInByb3BzIjogeyJzaXplIjogMTIuOTgyNDU2MTQwMzUwODc3fX0K');</script>\n",
       "    "
      ],
      "text/plain": [
       "<IPython.core.display.HTML object>"
      ]
     },
     "metadata": {},
     "output_type": "display_data"
    },
    {
     "data": {
      "text/html": [
       "\n",
       "        <div id=\"VCqcCfLCs9RVMtUfaKxfTZ\"></div>\n",
       "        <script>netpixi.call('VCqcCfLCs9RVMtUfaKxfTZ', 'dXk3a4tqEjFijUrzxfv563', 'changeGraph', 'eyJpZCI6IDQ5OSwgInR5cGUiOiAidmVydGV4IiwgInByb3BzIjogeyJzaXplIjogMTMuMzA0MDkzNTY3MjUxNDYyfX0K');</script>\n",
       "    "
      ],
      "text/plain": [
       "<IPython.core.display.HTML object>"
      ]
     },
     "metadata": {},
     "output_type": "display_data"
    },
    {
     "data": {
      "text/html": [
       "\n",
       "        <div id=\"TbTpueraVWEYspsAJacduH\"></div>\n",
       "        <script>netpixi.call('TbTpueraVWEYspsAJacduH', 'dXk3a4tqEjFijUrzxfv563', 'changeGraph', 'eyJpZCI6IDUwMCwgInR5cGUiOiAidmVydGV4IiwgInByb3BzIjogeyJzaXplIjogMTMuNzcxOTI5ODI0NTYxNDA0fX0K');</script>\n",
       "    "
      ],
      "text/plain": [
       "<IPython.core.display.HTML object>"
      ]
     },
     "metadata": {},
     "output_type": "display_data"
    },
    {
     "data": {
      "text/html": [
       "\n",
       "        <div id=\"FbDJfKmzrZ23gdYzg7Z87T\"></div>\n",
       "        <script>netpixi.call('FbDJfKmzrZ23gdYzg7Z87T', 'dXk3a4tqEjFijUrzxfv563', 'changeGraph', 'eyJpZCI6IDUwMSwgInR5cGUiOiAidmVydGV4IiwgInByb3BzIjogeyJzaXplIjogMTIuNDU2MTQwMzUwODc3MTkyfX0K');</script>\n",
       "    "
      ],
      "text/plain": [
       "<IPython.core.display.HTML object>"
      ]
     },
     "metadata": {},
     "output_type": "display_data"
    },
    {
     "data": {
      "text/html": [
       "\n",
       "        <div id=\"hU6bbM6HPaRRGLqA7HTh3P\"></div>\n",
       "        <script>netpixi.call('hU6bbM6HPaRRGLqA7HTh3P', 'dXk3a4tqEjFijUrzxfv563', 'changeGraph', 'eyJpZCI6IDUwMiwgInR5cGUiOiAidmVydGV4IiwgInByb3BzIjogeyJzaXplIjogMTQuNTE3NTQzODU5NjQ5MTIzfX0K');</script>\n",
       "    "
      ],
      "text/plain": [
       "<IPython.core.display.HTML object>"
      ]
     },
     "metadata": {},
     "output_type": "display_data"
    },
    {
     "data": {
      "text/html": [
       "\n",
       "        <div id=\"QSgodLKkpMpVpkvpKKrFkh\"></div>\n",
       "        <script>netpixi.call('QSgodLKkpMpVpkvpKKrFkh', 'dXk3a4tqEjFijUrzxfv563', 'changeGraph', 'eyJpZCI6IDUwMywgInR5cGUiOiAidmVydGV4IiwgInByb3BzIjogeyJzaXplIjogMTYuMzg4ODg4ODg4ODg4ODl9fQo=');</script>\n",
       "    "
      ],
      "text/plain": [
       "<IPython.core.display.HTML object>"
      ]
     },
     "metadata": {},
     "output_type": "display_data"
    },
    {
     "data": {
      "text/html": [
       "\n",
       "        <div id=\"STH3kpUknyf44MGGFz7VLK\"></div>\n",
       "        <script>netpixi.call('STH3kpUknyf44MGGFz7VLK', 'dXk3a4tqEjFijUrzxfv563', 'changeGraph', 'eyJpZCI6IDUwNCwgInR5cGUiOiAidmVydGV4IiwgInByb3BzIjogeyJzaXplIjogMTkuMjk4MjQ1NjE0MDM1MDl9fQo=');</script>\n",
       "    "
      ],
      "text/plain": [
       "<IPython.core.display.HTML object>"
      ]
     },
     "metadata": {},
     "output_type": "display_data"
    },
    {
     "data": {
      "text/html": [
       "\n",
       "        <div id=\"gYZBXMD2nq3LZG3bggXesr\"></div>\n",
       "        <script>netpixi.call('gYZBXMD2nq3LZG3bggXesr', 'dXk3a4tqEjFijUrzxfv563', 'changeGraph', 'eyJpZCI6IDUwNSwgInR5cGUiOiAidmVydGV4IiwgInByb3BzIjogeyJzaXplIjogNDUuODcyMDkzMDIzMjU1ODE1fX0K');</script>\n",
       "    "
      ],
      "text/plain": [
       "<IPython.core.display.HTML object>"
      ]
     },
     "metadata": {},
     "output_type": "display_data"
    },
    {
     "data": {
      "text/html": [
       "\n",
       "        <div id=\"NHpyff7gmJpj9DyQeF6zVa\"></div>\n",
       "        <script>netpixi.call('NHpyff7gmJpj9DyQeF6zVa', 'dXk3a4tqEjFijUrzxfv563', 'changeGraph', 'eyJpZCI6IDUwNiwgInR5cGUiOiAidmVydGV4IiwgInByb3BzIjogeyJzaXplIjogNDMuNzIwOTMwMjMyNTU4MTR9fQo=');</script>\n",
       "    "
      ],
      "text/plain": [
       "<IPython.core.display.HTML object>"
      ]
     },
     "metadata": {},
     "output_type": "display_data"
    },
    {
     "data": {
      "text/html": [
       "\n",
       "        <div id=\"SMgsGK9KXipYQ33PjsBKwh\"></div>\n",
       "        <script>netpixi.call('SMgsGK9KXipYQ33PjsBKwh', 'dXk3a4tqEjFijUrzxfv563', 'changeGraph', 'eyJpZCI6IDUwNywgInR5cGUiOiAidmVydGV4IiwgInByb3BzIjogeyJzaXplIjogNDcuMzI1NTgxMzk1MzQ4ODM0fX0K');</script>\n",
       "    "
      ],
      "text/plain": [
       "<IPython.core.display.HTML object>"
      ]
     },
     "metadata": {},
     "output_type": "display_data"
    },
    {
     "data": {
      "text/html": [
       "\n",
       "        <div id=\"DgL9DMKsJrnatGK85Nr2CM\"></div>\n",
       "        <script>netpixi.call('DgL9DMKsJrnatGK85Nr2CM', 'dXk3a4tqEjFijUrzxfv563', 'changeGraph', 'eyJpZCI6IDUwOCwgInR5cGUiOiAidmVydGV4IiwgInByb3BzIjogeyJzaXplIjogMTYuMjcxOTI5ODI0NTYxNDA0fX0K');</script>\n",
       "    "
      ],
      "text/plain": [
       "<IPython.core.display.HTML object>"
      ]
     },
     "metadata": {},
     "output_type": "display_data"
    },
    {
     "data": {
      "text/html": [
       "\n",
       "        <div id=\"X7LuQaq38fx8pkTUTfM4fa\"></div>\n",
       "        <script>netpixi.call('X7LuQaq38fx8pkTUTfM4fa', 'dXk3a4tqEjFijUrzxfv563', 'changeGraph', 'eyJpZCI6IDUwOSwgInR5cGUiOiAidmVydGV4IiwgInByb3BzIjogeyJzaXplIjogMTUuMjkyMzk3NjYwODE4NzEzfX0K');</script>\n",
       "    "
      ],
      "text/plain": [
       "<IPython.core.display.HTML object>"
      ]
     },
     "metadata": {},
     "output_type": "display_data"
    },
    {
     "data": {
      "text/html": [
       "\n",
       "        <div id=\"DSUMD7nA4caSTaufW9HKEG\"></div>\n",
       "        <script>netpixi.call('DSUMD7nA4caSTaufW9HKEG', 'dXk3a4tqEjFijUrzxfv563', 'changeGraph', 'eyJpZCI6IDUxMCwgInR5cGUiOiAidmVydGV4IiwgInByb3BzIjogeyJzaXplIjogMTAuNDk3MDc2MDIzMzkxODEzfX0K');</script>\n",
       "    "
      ],
      "text/plain": [
       "<IPython.core.display.HTML object>"
      ]
     },
     "metadata": {},
     "output_type": "display_data"
    },
    {
     "data": {
      "text/html": [
       "\n",
       "        <div id=\"G2vASR9fMch7QZqGkoRMCK\"></div>\n",
       "        <script>netpixi.call('G2vASR9fMch7QZqGkoRMCK', 'dXk3a4tqEjFijUrzxfv563', 'changeGraph', 'eyJpZCI6IDUxMSwgInR5cGUiOiAidmVydGV4IiwgInByb3BzIjogeyJzaXplIjogMTQuODI0NTYxNDAzNTA4Nzd9fQo=');</script>\n",
       "    "
      ],
      "text/plain": [
       "<IPython.core.display.HTML object>"
      ]
     },
     "metadata": {},
     "output_type": "display_data"
    },
    {
     "data": {
      "text/html": [
       "\n",
       "        <div id=\"TwLZJfbQpTG2pRwAEFFZxf\"></div>\n",
       "        <script>netpixi.call('TwLZJfbQpTG2pRwAEFFZxf', 'dXk3a4tqEjFijUrzxfv563', 'changeGraph', 'eyJpZCI6IDUxMiwgInR5cGUiOiAidmVydGV4IiwgInByb3BzIjogeyJzaXplIjogMTkuNzgwNzAxNzU0Mzg1OTY2fX0K');</script>\n",
       "    "
      ],
      "text/plain": [
       "<IPython.core.display.HTML object>"
      ]
     },
     "metadata": {},
     "output_type": "display_data"
    },
    {
     "data": {
      "text/html": [
       "\n",
       "        <div id=\"nYY2QeYW2Uhcor8HasXGEi\"></div>\n",
       "        <script>netpixi.call('nYY2QeYW2Uhcor8HasXGEi', 'dXk3a4tqEjFijUrzxfv563', 'changeGraph', 'eyJpZCI6IDUxMywgInR5cGUiOiAidmVydGV4IiwgInByb3BzIjogeyJzaXplIjogNDYuNDUzNDg4MzcyMDkzMDJ9fQo=');</script>\n",
       "    "
      ],
      "text/plain": [
       "<IPython.core.display.HTML object>"
      ]
     },
     "metadata": {},
     "output_type": "display_data"
    },
    {
     "data": {
      "text/html": [
       "\n",
       "        <div id=\"6i6dbAVmCmoQvuJh6cVns9\"></div>\n",
       "        <script>netpixi.call('6i6dbAVmCmoQvuJh6cVns9', 'dXk3a4tqEjFijUrzxfv563', 'changeGraph', 'eyJpZCI6IDUxNCwgInR5cGUiOiAidmVydGV4IiwgInByb3BzIjogeyJzaXplIjogMTMuMDExNjk1OTA2NDMyNzQ5fX0K');</script>\n",
       "    "
      ],
      "text/plain": [
       "<IPython.core.display.HTML object>"
      ]
     },
     "metadata": {},
     "output_type": "display_data"
    },
    {
     "data": {
      "text/html": [
       "\n",
       "        <div id=\"A8iRVvXxVzRD57ryrAxXbS\"></div>\n",
       "        <script>netpixi.call('A8iRVvXxVzRD57ryrAxXbS', 'dXk3a4tqEjFijUrzxfv563', 'changeGraph', 'eyJpZCI6IDUxNSwgInR5cGUiOiAidmVydGV4IiwgInByb3BzIjogeyJzaXplIjogMTEuOTczNjg0MjEwNTI2MzE1fX0K');</script>\n",
       "    "
      ],
      "text/plain": [
       "<IPython.core.display.HTML object>"
      ]
     },
     "metadata": {},
     "output_type": "display_data"
    },
    {
     "data": {
      "text/html": [
       "\n",
       "        <div id=\"cJXizA5SBrxHnXQEXoqkBE\"></div>\n",
       "        <script>netpixi.call('cJXizA5SBrxHnXQEXoqkBE', 'dXk3a4tqEjFijUrzxfv563', 'changeGraph', 'eyJpZCI6IDUxNiwgInR5cGUiOiAidmVydGV4IiwgInByb3BzIjogeyJzaXplIjogMTAuMzM2MjU3MzA5OTQxNTIxfX0K');</script>\n",
       "    "
      ],
      "text/plain": [
       "<IPython.core.display.HTML object>"
      ]
     },
     "metadata": {},
     "output_type": "display_data"
    },
    {
     "data": {
      "text/html": [
       "\n",
       "        <div id=\"mUcFAkUXX28XmkHNK4wbrf\"></div>\n",
       "        <script>netpixi.call('mUcFAkUXX28XmkHNK4wbrf', 'dXk3a4tqEjFijUrzxfv563', 'changeGraph', 'eyJpZCI6IDUxNywgInR5cGUiOiAidmVydGV4IiwgInByb3BzIjogeyJzaXplIjogMTAuOTUwMjkyMzk3NjYwODE5fX0K');</script>\n",
       "    "
      ],
      "text/plain": [
       "<IPython.core.display.HTML object>"
      ]
     },
     "metadata": {},
     "output_type": "display_data"
    },
    {
     "data": {
      "text/html": [
       "\n",
       "        <div id=\"99o2oX6MhFyxHreDSSfvGW\"></div>\n",
       "        <script>netpixi.call('99o2oX6MhFyxHreDSSfvGW', 'dXk3a4tqEjFijUrzxfv563', 'changeGraph', 'eyJpZCI6IDUxOCwgInR5cGUiOiAidmVydGV4IiwgInByb3BzIjogeyJzaXplIjogMTAuOTk0MTUyMDQ2NzgzNjI2fX0K');</script>\n",
       "    "
      ],
      "text/plain": [
       "<IPython.core.display.HTML object>"
      ]
     },
     "metadata": {},
     "output_type": "display_data"
    },
    {
     "data": {
      "text/html": [
       "\n",
       "        <div id=\"37ukTBqrfC8BjHebtwQiEj\"></div>\n",
       "        <script>netpixi.call('37ukTBqrfC8BjHebtwQiEj', 'dXk3a4tqEjFijUrzxfv563', 'changeGraph', 'eyJpZCI6IDUxOSwgInR5cGUiOiAidmVydGV4IiwgInByb3BzIjogeyJzaXplIjogMTIuMzUzODAxMTY5NTkwNjQzfX0K');</script>\n",
       "    "
      ],
      "text/plain": [
       "<IPython.core.display.HTML object>"
      ]
     },
     "metadata": {},
     "output_type": "display_data"
    },
    {
     "data": {
      "text/html": [
       "\n",
       "        <div id=\"EJBqe8dJhjWu5ddbnEMJGw\"></div>\n",
       "        <script>netpixi.call('EJBqe8dJhjWu5ddbnEMJGw', 'dXk3a4tqEjFijUrzxfv563', 'changeGraph', 'eyJpZCI6IDUyMCwgInR5cGUiOiAidmVydGV4IiwgInByb3BzIjogeyJzaXplIjogMTkuNjA1MjYzMTU3ODk0NzM2fX0K');</script>\n",
       "    "
      ],
      "text/plain": [
       "<IPython.core.display.HTML object>"
      ]
     },
     "metadata": {},
     "output_type": "display_data"
    },
    {
     "data": {
      "text/html": [
       "\n",
       "        <div id=\"eciHj3vPzVxFXZVYnEJs8f\"></div>\n",
       "        <script>netpixi.call('eciHj3vPzVxFXZVYnEJs8f', 'dXk3a4tqEjFijUrzxfv563', 'changeGraph', 'eyJpZCI6IDUyMSwgInR5cGUiOiAidmVydGV4IiwgInByb3BzIjogeyJzaXplIjogMTUuNjcyNTE0NjE5ODgzMDR9fQo=');</script>\n",
       "    "
      ],
      "text/plain": [
       "<IPython.core.display.HTML object>"
      ]
     },
     "metadata": {},
     "output_type": "display_data"
    },
    {
     "data": {
      "text/html": [
       "\n",
       "        <div id=\"jWxQRUzrQD6p9wMhsiMk2Y\"></div>\n",
       "        <script>netpixi.call('jWxQRUzrQD6p9wMhsiMk2Y', 'dXk3a4tqEjFijUrzxfv563', 'changeGraph', 'eyJpZCI6IDUyMiwgInR5cGUiOiAidmVydGV4IiwgInByb3BzIjogeyJzaXplIjogMTUuNzg5NDczNjg0MjEwNTI3fX0K');</script>\n",
       "    "
      ],
      "text/plain": [
       "<IPython.core.display.HTML object>"
      ]
     },
     "metadata": {},
     "output_type": "display_data"
    },
    {
     "data": {
      "text/html": [
       "\n",
       "        <div id=\"ft9FDsMGTMqVw5V62BcUjV\"></div>\n",
       "        <script>netpixi.call('ft9FDsMGTMqVw5V62BcUjV', 'dXk3a4tqEjFijUrzxfv563', 'changeGraph', 'eyJpZCI6IDUyMywgInR5cGUiOiAidmVydGV4IiwgInByb3BzIjogeyJzaXplIjogMTkuMDQ5NzA3NjAyMzM5MTgzfX0K');</script>\n",
       "    "
      ],
      "text/plain": [
       "<IPython.core.display.HTML object>"
      ]
     },
     "metadata": {},
     "output_type": "display_data"
    },
    {
     "data": {
      "text/html": [
       "\n",
       "        <div id=\"JGJ2znKfu2aJw3a5bJBSRA\"></div>\n",
       "        <script>netpixi.call('JGJ2znKfu2aJw3a5bJBSRA', 'dXk3a4tqEjFijUrzxfv563', 'changeGraph', 'eyJpZCI6IDUyNCwgInR5cGUiOiAidmVydGV4IiwgInByb3BzIjogeyJzaXplIjogNDQuMTg2MDQ2NTExNjI3OTF9fQo=');</script>\n",
       "    "
      ],
      "text/plain": [
       "<IPython.core.display.HTML object>"
      ]
     },
     "metadata": {},
     "output_type": "display_data"
    },
    {
     "data": {
      "text/html": [
       "\n",
       "        <div id=\"XVFiviCChmnXHZsULcVJPE\"></div>\n",
       "        <script>netpixi.call('XVFiviCChmnXHZsULcVJPE', 'dXk3a4tqEjFijUrzxfv563', 'changeGraph', 'eyJpZCI6IDUyNSwgInR5cGUiOiAidmVydGV4IiwgInByb3BzIjogeyJzaXplIjogMTguNjU0OTcwNzYwMjMzOTE1fX0K');</script>\n",
       "    "
      ],
      "text/plain": [
       "<IPython.core.display.HTML object>"
      ]
     },
     "metadata": {},
     "output_type": "display_data"
    },
    {
     "data": {
      "text/html": [
       "\n",
       "        <div id=\"P5mb7GV3qaSuZRY2XDRXjx\"></div>\n",
       "        <script>netpixi.call('P5mb7GV3qaSuZRY2XDRXjx', 'dXk3a4tqEjFijUrzxfv563', 'changeGraph', 'eyJpZCI6IDUyNiwgInR5cGUiOiAidmVydGV4IiwgInByb3BzIjogeyJzaXplIjogNDEuNDUzNDg4MzcyMDkzMDJ9fQo=');</script>\n",
       "    "
      ],
      "text/plain": [
       "<IPython.core.display.HTML object>"
      ]
     },
     "metadata": {},
     "output_type": "display_data"
    },
    {
     "data": {
      "text/html": [
       "\n",
       "        <div id=\"mJZ2ozHLwR8Rc7WhUusFZR\"></div>\n",
       "        <script>netpixi.call('mJZ2ozHLwR8Rc7WhUusFZR', 'dXk3a4tqEjFijUrzxfv563', 'changeGraph', 'eyJpZCI6IDUyNywgInR5cGUiOiAidmVydGV4IiwgInByb3BzIjogeyJzaXplIjogNDYuNjI3OTA2OTc2NzQ0MTg1fX0K');</script>\n",
       "    "
      ],
      "text/plain": [
       "<IPython.core.display.HTML object>"
      ]
     },
     "metadata": {},
     "output_type": "display_data"
    },
    {
     "data": {
      "text/html": [
       "\n",
       "        <div id=\"AMbvZnY2zd7h9A8rWkhWe9\"></div>\n",
       "        <script>netpixi.call('AMbvZnY2zd7h9A8rWkhWe9', 'dXk3a4tqEjFijUrzxfv563', 'changeGraph', 'eyJpZCI6IDUyOCwgInR5cGUiOiAidmVydGV4IiwgInByb3BzIjogeyJzaXplIjogMTUuMH19Cg==');</script>\n",
       "    "
      ],
      "text/plain": [
       "<IPython.core.display.HTML object>"
      ]
     },
     "metadata": {},
     "output_type": "display_data"
    },
    {
     "data": {
      "text/html": [
       "\n",
       "        <div id=\"JNnE7vGE2jGuW2f4kitV2y\"></div>\n",
       "        <script>netpixi.call('JNnE7vGE2jGuW2f4kitV2y', 'dXk3a4tqEjFijUrzxfv563', 'changeGraph', 'eyJpZCI6IDUyOSwgInR5cGUiOiAidmVydGV4IiwgInByb3BzIjogeyJzaXplIjogMTkuMjI1MTQ2MTk4ODMwNDF9fQo=');</script>\n",
       "    "
      ],
      "text/plain": [
       "<IPython.core.display.HTML object>"
      ]
     },
     "metadata": {},
     "output_type": "display_data"
    },
    {
     "data": {
      "text/html": [
       "\n",
       "        <div id=\"HqAdDti3bMVkkHeKNpPB42\"></div>\n",
       "        <script>netpixi.call('HqAdDti3bMVkkHeKNpPB42', 'dXk3a4tqEjFijUrzxfv563', 'changeGraph', 'eyJpZCI6IDUzMCwgInR5cGUiOiAidmVydGV4IiwgInByb3BzIjogeyJzaXplIjogMTguNDY0OTEyMjgwNzAxNzUzfX0K');</script>\n",
       "    "
      ],
      "text/plain": [
       "<IPython.core.display.HTML object>"
      ]
     },
     "metadata": {},
     "output_type": "display_data"
    },
    {
     "data": {
      "text/html": [
       "\n",
       "        <div id=\"fRdMXQA9GKLFPQgpqHYgKn\"></div>\n",
       "        <script>netpixi.call('fRdMXQA9GKLFPQgpqHYgKn', 'dXk3a4tqEjFijUrzxfv563', 'changeGraph', 'eyJpZCI6IDUzMSwgInR5cGUiOiAidmVydGV4IiwgInByb3BzIjogeyJzaXplIjogMTYuNDQ3MzY4NDIxMDUyNjN9fQo=');</script>\n",
       "    "
      ],
      "text/plain": [
       "<IPython.core.display.HTML object>"
      ]
     },
     "metadata": {},
     "output_type": "display_data"
    },
    {
     "data": {
      "text/html": [
       "\n",
       "        <div id=\"ebJRuPRVM5v2bYAmwQLh6h\"></div>\n",
       "        <script>netpixi.call('ebJRuPRVM5v2bYAmwQLh6h', 'dXk3a4tqEjFijUrzxfv563', 'changeGraph', 'eyJpZCI6IDUzMiwgInR5cGUiOiAidmVydGV4IiwgInByb3BzIjogeyJzaXplIjogMTYuMjU3MzA5OTQxNTIwNDY4fX0K');</script>\n",
       "    "
      ],
      "text/plain": [
       "<IPython.core.display.HTML object>"
      ]
     },
     "metadata": {},
     "output_type": "display_data"
    },
    {
     "data": {
      "text/html": [
       "\n",
       "        <div id=\"a7Hf6PuhwLCNBe9b53BAVf\"></div>\n",
       "        <script>netpixi.call('a7Hf6PuhwLCNBe9b53BAVf', 'dXk3a4tqEjFijUrzxfv563', 'changeGraph', 'eyJpZCI6IDUzMywgInR5cGUiOiAidmVydGV4IiwgInByb3BzIjogeyJzaXplIjogMTQuODY4NDIxMDUyNjMxNTc5fX0K');</script>\n",
       "    "
      ],
      "text/plain": [
       "<IPython.core.display.HTML object>"
      ]
     },
     "metadata": {},
     "output_type": "display_data"
    },
    {
     "data": {
      "text/html": [
       "\n",
       "        <div id=\"iDmtErPTcjTg35aQnmdjps\"></div>\n",
       "        <script>netpixi.call('iDmtErPTcjTg35aQnmdjps', 'dXk3a4tqEjFijUrzxfv563', 'changeGraph', 'eyJpZCI6IDUzNCwgInR5cGUiOiAidmVydGV4IiwgInByb3BzIjogeyJzaXplIjogMTQuOTEyMjgwNzAxNzU0Mzg1fX0K');</script>\n",
       "    "
      ],
      "text/plain": [
       "<IPython.core.display.HTML object>"
      ]
     },
     "metadata": {},
     "output_type": "display_data"
    },
    {
     "data": {
      "text/html": [
       "\n",
       "        <div id=\"Q5PX7UfGpXwSFQJA7fFzhJ\"></div>\n",
       "        <script>netpixi.call('Q5PX7UfGpXwSFQJA7fFzhJ', 'dXk3a4tqEjFijUrzxfv563', 'changeGraph', 'eyJpZCI6IDUzNSwgInR5cGUiOiAidmVydGV4IiwgInByb3BzIjogeyJzaXplIjogMTQuNTMyMTYzNzQyNjkwMDZ9fQo=');</script>\n",
       "    "
      ],
      "text/plain": [
       "<IPython.core.display.HTML object>"
      ]
     },
     "metadata": {},
     "output_type": "display_data"
    },
    {
     "data": {
      "text/html": [
       "\n",
       "        <div id=\"Zu9ypoXB3whn9LCfFZ94Cx\"></div>\n",
       "        <script>netpixi.call('Zu9ypoXB3whn9LCfFZ94Cx', 'dXk3a4tqEjFijUrzxfv563', 'changeGraph', 'eyJpZCI6IDUzNiwgInR5cGUiOiAidmVydGV4IiwgInByb3BzIjogeyJzaXplIjogMTQuNjc4MzYyNTczMDk5NDE1fX0K');</script>\n",
       "    "
      ],
      "text/plain": [
       "<IPython.core.display.HTML object>"
      ]
     },
     "metadata": {},
     "output_type": "display_data"
    },
    {
     "data": {
      "text/html": [
       "\n",
       "        <div id=\"PFE33TgUR4JKJQw9SpAU5x\"></div>\n",
       "        <script>netpixi.call('PFE33TgUR4JKJQw9SpAU5x', 'dXk3a4tqEjFijUrzxfv563', 'changeGraph', 'eyJpZCI6IDUzNywgInR5cGUiOiAidmVydGV4IiwgInByb3BzIjogeyJzaXplIjogMTQuNTAyOTIzOTc2NjA4MTg3fX0K');</script>\n",
       "    "
      ],
      "text/plain": [
       "<IPython.core.display.HTML object>"
      ]
     },
     "metadata": {},
     "output_type": "display_data"
    },
    {
     "data": {
      "text/html": [
       "\n",
       "        <div id=\"XqYJD9v62Z2xHLRtjMwDfo\"></div>\n",
       "        <script>netpixi.call('XqYJD9v62Z2xHLRtjMwDfo', 'dXk3a4tqEjFijUrzxfv563', 'changeGraph', 'eyJpZCI6IDUzOCwgInR5cGUiOiAidmVydGV4IiwgInByb3BzIjogeyJzaXplIjogMTguMDk5NDE1MjA0Njc4MzYyfX0K');</script>\n",
       "    "
      ],
      "text/plain": [
       "<IPython.core.display.HTML object>"
      ]
     },
     "metadata": {},
     "output_type": "display_data"
    },
    {
     "data": {
      "text/html": [
       "\n",
       "        <div id=\"m6po5q2TqTawUMSVsTVzFg\"></div>\n",
       "        <script>netpixi.call('m6po5q2TqTawUMSVsTVzFg', 'dXk3a4tqEjFijUrzxfv563', 'changeGraph', 'eyJpZCI6IDUzOSwgInR5cGUiOiAidmVydGV4IiwgInByb3BzIjogeyJzaXplIjogMTguMDQwOTM1NjcyNTE0NjJ9fQo=');</script>\n",
       "    "
      ],
      "text/plain": [
       "<IPython.core.display.HTML object>"
      ]
     },
     "metadata": {},
     "output_type": "display_data"
    },
    {
     "data": {
      "text/html": [
       "\n",
       "        <div id=\"UaXD5CBAoBLZHnrTJ95Kq6\"></div>\n",
       "        <script>netpixi.call('UaXD5CBAoBLZHnrTJ95Kq6', 'dXk3a4tqEjFijUrzxfv563', 'changeGraph', 'eyJpZCI6IDU0MCwgInR5cGUiOiAidmVydGV4IiwgInByb3BzIjogeyJzaXplIjogMTcuODIxNjM3NDI2OTAwNTgzfX0K');</script>\n",
       "    "
      ],
      "text/plain": [
       "<IPython.core.display.HTML object>"
      ]
     },
     "metadata": {},
     "output_type": "display_data"
    },
    {
     "data": {
      "text/html": [
       "\n",
       "        <div id=\"hJPkuAF79hUzgvSSPcFe7A\"></div>\n",
       "        <script>netpixi.call('hJPkuAF79hUzgvSSPcFe7A', 'dXk3a4tqEjFijUrzxfv563', 'changeGraph', 'eyJpZCI6IDU0MSwgInR5cGUiOiAidmVydGV4IiwgInByb3BzIjogeyJzaXplIjogMTUuOTM1NjcyNTE0NjE5ODgzfX0K');</script>\n",
       "    "
      ],
      "text/plain": [
       "<IPython.core.display.HTML object>"
      ]
     },
     "metadata": {},
     "output_type": "display_data"
    },
    {
     "data": {
      "text/html": [
       "\n",
       "        <div id=\"PyC23PXAt54FEhMQPRa5kk\"></div>\n",
       "        <script>netpixi.call('PyC23PXAt54FEhMQPRa5kk', 'dXk3a4tqEjFijUrzxfv563', 'changeGraph', 'eyJpZCI6IDU0MiwgInR5cGUiOiAidmVydGV4IiwgInByb3BzIjogeyJzaXplIjogMTIuOTUzMjE2Mzc0MjY5MDA1fX0K');</script>\n",
       "    "
      ],
      "text/plain": [
       "<IPython.core.display.HTML object>"
      ]
     },
     "metadata": {},
     "output_type": "display_data"
    },
    {
     "data": {
      "text/html": [
       "\n",
       "        <div id=\"PHvBhRMMS6BRT5ZwhmJVEv\"></div>\n",
       "        <script>netpixi.call('PHvBhRMMS6BRT5ZwhmJVEv', 'dXk3a4tqEjFijUrzxfv563', 'changeGraph', 'eyJpZCI6IDU0MywgInR5cGUiOiAidmVydGV4IiwgInByb3BzIjogeyJzaXplIjogMTEuOTQ0NDQ0NDQ0NDQ0NDQ1fX0K');</script>\n",
       "    "
      ],
      "text/plain": [
       "<IPython.core.display.HTML object>"
      ]
     },
     "metadata": {},
     "output_type": "display_data"
    },
    {
     "data": {
      "text/html": [
       "\n",
       "        <div id=\"7AadMge5qosCoZqLEX5i2v\"></div>\n",
       "        <script>netpixi.call('7AadMge5qosCoZqLEX5i2v', 'dXk3a4tqEjFijUrzxfv563', 'changeGraph', 'eyJpZCI6IDU0NCwgInR5cGUiOiAidmVydGV4IiwgInByb3BzIjogeyJzaXplIjogMTIuODgwMTE2OTU5MDY0MzI4fX0K');</script>\n",
       "    "
      ],
      "text/plain": [
       "<IPython.core.display.HTML object>"
      ]
     },
     "metadata": {},
     "output_type": "display_data"
    },
    {
     "data": {
      "text/html": [
       "\n",
       "        <div id=\"2YTXdNHZpZc5qKihdb5gj7\"></div>\n",
       "        <script>netpixi.call('2YTXdNHZpZc5qKihdb5gj7', 'dXk3a4tqEjFijUrzxfv563', 'changeGraph', 'eyJpZCI6IDU0NSwgInR5cGUiOiAidmVydGV4IiwgInByb3BzIjogeyJzaXplIjogMTUuMDU4NDc5NTMyMTYzNzQzfX0K');</script>\n",
       "    "
      ],
      "text/plain": [
       "<IPython.core.display.HTML object>"
      ]
     },
     "metadata": {},
     "output_type": "display_data"
    },
    {
     "data": {
      "text/html": [
       "\n",
       "        <div id=\"SLqXhUwXjretLBoYWeDN5y\"></div>\n",
       "        <script>netpixi.call('SLqXhUwXjretLBoYWeDN5y', 'dXk3a4tqEjFijUrzxfv563', 'changeGraph', 'eyJpZCI6IDU0NiwgInR5cGUiOiAidmVydGV4IiwgInByb3BzIjogeyJzaXplIjogMTMuMjE2Mzc0MjY5MDA1ODQ3fX0K');</script>\n",
       "    "
      ],
      "text/plain": [
       "<IPython.core.display.HTML object>"
      ]
     },
     "metadata": {},
     "output_type": "display_data"
    },
    {
     "data": {
      "text/html": [
       "\n",
       "        <div id=\"VDgtaq5WAAbk787xipnzYu\"></div>\n",
       "        <script>netpixi.call('VDgtaq5WAAbk787xipnzYu', 'dXk3a4tqEjFijUrzxfv563', 'changeGraph', 'eyJpZCI6IDU0NywgInR5cGUiOiAidmVydGV4IiwgInByb3BzIjogeyJzaXplIjogMTIuOTA5MzU2NzI1MTQ2Mn19Cg==');</script>\n",
       "    "
      ],
      "text/plain": [
       "<IPython.core.display.HTML object>"
      ]
     },
     "metadata": {},
     "output_type": "display_data"
    },
    {
     "data": {
      "text/html": [
       "\n",
       "        <div id=\"RgcYRY8kAFJkkDVhRP5Bp6\"></div>\n",
       "        <script>netpixi.call('RgcYRY8kAFJkkDVhRP5Bp6', 'dXk3a4tqEjFijUrzxfv563', 'changeGraph', 'eyJpZCI6IDU0OCwgInR5cGUiOiAidmVydGV4IiwgInByb3BzIjogeyJzaXplIjogMTQuMTIyODA3MDE3NTQzODZ9fQo=');</script>\n",
       "    "
      ],
      "text/plain": [
       "<IPython.core.display.HTML object>"
      ]
     },
     "metadata": {},
     "output_type": "display_data"
    },
    {
     "data": {
      "text/html": [
       "\n",
       "        <div id=\"TjdSxeSZfXL5W34Q67zKj5\"></div>\n",
       "        <script>netpixi.call('TjdSxeSZfXL5W34Q67zKj5', 'dXk3a4tqEjFijUrzxfv563', 'changeGraph', 'eyJpZCI6IDU0OSwgInR5cGUiOiAidmVydGV4IiwgInByb3BzIjogeyJzaXplIjogNDAuMTc0NDE4NjA0NjUxMTY2fX0K');</script>\n",
       "    "
      ],
      "text/plain": [
       "<IPython.core.display.HTML object>"
      ]
     },
     "metadata": {},
     "output_type": "display_data"
    },
    {
     "data": {
      "text/html": [
       "\n",
       "        <div id=\"Ao5QPTTCSv5kE6ZsiLLVQX\"></div>\n",
       "        <script>netpixi.call('Ao5QPTTCSv5kE6ZsiLLVQX', 'dXk3a4tqEjFijUrzxfv563', 'changeGraph', 'eyJpZCI6IDU1MCwgInR5cGUiOiAidmVydGV4IiwgInByb3BzIjogeyJzaXplIjogMTMuMzkxODEyODY1NDk3MDc3fX0K');</script>\n",
       "    "
      ],
      "text/plain": [
       "<IPython.core.display.HTML object>"
      ]
     },
     "metadata": {},
     "output_type": "display_data"
    },
    {
     "data": {
      "text/html": [
       "\n",
       "        <div id=\"RoRsfd2T6ycBvbJzaHeXfw\"></div>\n",
       "        <script>netpixi.call('RoRsfd2T6ycBvbJzaHeXfw', 'dXk3a4tqEjFijUrzxfv563', 'changeGraph', 'eyJpZCI6IDU1MSwgInR5cGUiOiAidmVydGV4IiwgInByb3BzIjogeyJzaXplIjogMTYuODU2NzI1MTQ2MTk4ODN9fQo=');</script>\n",
       "    "
      ],
      "text/plain": [
       "<IPython.core.display.HTML object>"
      ]
     },
     "metadata": {},
     "output_type": "display_data"
    },
    {
     "data": {
      "text/html": [
       "\n",
       "        <div id=\"QvQ6ay8xpXvnphxt8CiuwU\"></div>\n",
       "        <script>netpixi.call('QvQ6ay8xpXvnphxt8CiuwU', 'dXk3a4tqEjFijUrzxfv563', 'changeGraph', 'eyJpZCI6IDU1MiwgInR5cGUiOiAidmVydGV4IiwgInByb3BzIjogeyJzaXplIjogMTYuMTY5NTkwNjQzMjc0ODV9fQo=');</script>\n",
       "    "
      ],
      "text/plain": [
       "<IPython.core.display.HTML object>"
      ]
     },
     "metadata": {},
     "output_type": "display_data"
    },
    {
     "data": {
      "text/html": [
       "\n",
       "        <div id=\"TmXqepNoGN9gowrq4baasf\"></div>\n",
       "        <script>netpixi.call('TmXqepNoGN9gowrq4baasf', 'dXk3a4tqEjFijUrzxfv563', 'changeGraph', 'eyJpZCI6IDU1MywgInR5cGUiOiAidmVydGV4IiwgInByb3BzIjogeyJzaXplIjogMTYuOTg4MzA0MDkzNTY3MjV9fQo=');</script>\n",
       "    "
      ],
      "text/plain": [
       "<IPython.core.display.HTML object>"
      ]
     },
     "metadata": {},
     "output_type": "display_data"
    },
    {
     "data": {
      "text/html": [
       "\n",
       "        <div id=\"UfQK7yvwdivjohETUFThYs\"></div>\n",
       "        <script>netpixi.call('UfQK7yvwdivjohETUFThYs', 'dXk3a4tqEjFijUrzxfv563', 'changeGraph', 'eyJpZCI6IDU1NCwgInR5cGUiOiAidmVydGV4IiwgInByb3BzIjogeyJzaXplIjogMTguNjk4ODMwNDA5MzU2NzI0fX0K');</script>\n",
       "    "
      ],
      "text/plain": [
       "<IPython.core.display.HTML object>"
      ]
     },
     "metadata": {},
     "output_type": "display_data"
    },
    {
     "data": {
      "text/html": [
       "\n",
       "        <div id=\"68iTrBeufkvjY4fDT3Qx3e\"></div>\n",
       "        <script>netpixi.call('68iTrBeufkvjY4fDT3Qx3e', 'dXk3a4tqEjFijUrzxfv563', 'changeGraph', 'eyJpZCI6IDU1NSwgInR5cGUiOiAidmVydGV4IiwgInByb3BzIjogeyJzaXplIjogMTUuMzA3MDE3NTQzODU5NjQ5fX0K');</script>\n",
       "    "
      ],
      "text/plain": [
       "<IPython.core.display.HTML object>"
      ]
     },
     "metadata": {},
     "output_type": "display_data"
    },
    {
     "data": {
      "text/html": [
       "\n",
       "        <div id=\"WZ3HgcVLNA6gxC4PRExqTA\"></div>\n",
       "        <script>netpixi.call('WZ3HgcVLNA6gxC4PRExqTA', 'dXk3a4tqEjFijUrzxfv563', 'changeGraph', 'eyJpZCI6IDU1NiwgInR5cGUiOiAidmVydGV4IiwgInByb3BzIjogeyJzaXplIjogMTUuMzgwMTE2OTU5MDY0MzI4fX0K');</script>\n",
       "    "
      ],
      "text/plain": [
       "<IPython.core.display.HTML object>"
      ]
     },
     "metadata": {},
     "output_type": "display_data"
    },
    {
     "data": {
      "text/html": [
       "\n",
       "        <div id=\"C6cEh5cd6jMBb6tkcygMK9\"></div>\n",
       "        <script>netpixi.call('C6cEh5cd6jMBb6tkcygMK9', 'dXk3a4tqEjFijUrzxfv563', 'changeGraph', 'eyJpZCI6IDU1NywgInR5cGUiOiAidmVydGV4IiwgInByb3BzIjogeyJzaXplIjogMTMuMjQ1NjE0MDM1MDg3NzJ9fQo=');</script>\n",
       "    "
      ],
      "text/plain": [
       "<IPython.core.display.HTML object>"
      ]
     },
     "metadata": {},
     "output_type": "display_data"
    },
    {
     "data": {
      "text/html": [
       "\n",
       "        <div id=\"QLs4QpvAzSZXuAQiPPeP8n\"></div>\n",
       "        <script>netpixi.call('QLs4QpvAzSZXuAQiPPeP8n', 'dXk3a4tqEjFijUrzxfv563', 'changeGraph', 'eyJpZCI6IDU1OCwgInR5cGUiOiAidmVydGV4IiwgInByb3BzIjogeyJzaXplIjogMTcuMTE5ODgzMDQwOTM1NjcyfX0K');</script>\n",
       "    "
      ],
      "text/plain": [
       "<IPython.core.display.HTML object>"
      ]
     },
     "metadata": {},
     "output_type": "display_data"
    },
    {
     "data": {
      "text/html": [
       "\n",
       "        <div id=\"H6HDyXFCkkD2fHWGCSXGoG\"></div>\n",
       "        <script>netpixi.call('H6HDyXFCkkD2fHWGCSXGoG', 'dXk3a4tqEjFijUrzxfv563', 'changeGraph', 'eyJpZCI6IDU1OSwgInR5cGUiOiAidmVydGV4IiwgInByb3BzIjogeyJzaXplIjogMTYuNTY0MzI3NDg1MzgwMTJ9fQo=');</script>\n",
       "    "
      ],
      "text/plain": [
       "<IPython.core.display.HTML object>"
      ]
     },
     "metadata": {},
     "output_type": "display_data"
    },
    {
     "data": {
      "text/html": [
       "\n",
       "        <div id=\"kqCAPwmeUbVwY63EXL6J27\"></div>\n",
       "        <script>netpixi.call('kqCAPwmeUbVwY63EXL6J27', 'dXk3a4tqEjFijUrzxfv563', 'changeGraph', 'eyJpZCI6IDU2MCwgInR5cGUiOiAidmVydGV4IiwgInByb3BzIjogeyJzaXplIjogMTIuNTE0NjE5ODgzMDQwOTM2fX0K');</script>\n",
       "    "
      ],
      "text/plain": [
       "<IPython.core.display.HTML object>"
      ]
     },
     "metadata": {},
     "output_type": "display_data"
    },
    {
     "data": {
      "text/html": [
       "\n",
       "        <div id=\"W7Va5oXipivu6BdoM9EhkL\"></div>\n",
       "        <script>netpixi.call('W7Va5oXipivu6BdoM9EhkL', 'dXk3a4tqEjFijUrzxfv563', 'changeGraph', 'eyJpZCI6IDU2MSwgInR5cGUiOiAidmVydGV4IiwgInByb3BzIjogeyJzaXplIjogMTYuNzM5NzY2MDgxODcxMzQ1fX0K');</script>\n",
       "    "
      ],
      "text/plain": [
       "<IPython.core.display.HTML object>"
      ]
     },
     "metadata": {},
     "output_type": "display_data"
    },
    {
     "data": {
      "text/html": [
       "\n",
       "        <div id=\"VrXxaDB4Xuz9jgfHjkMuWt\"></div>\n",
       "        <script>netpixi.call('VrXxaDB4Xuz9jgfHjkMuWt', 'dXk3a4tqEjFijUrzxfv563', 'changeGraph', 'eyJpZCI6IDU2MiwgInR5cGUiOiAidmVydGV4IiwgInByb3BzIjogeyJzaXplIjogMTUuNDY3ODM2MjU3MzA5OTR9fQo=');</script>\n",
       "    "
      ],
      "text/plain": [
       "<IPython.core.display.HTML object>"
      ]
     },
     "metadata": {},
     "output_type": "display_data"
    },
    {
     "data": {
      "text/html": [
       "\n",
       "        <div id=\"jjQASusZ5zzdXVVkc4S65R\"></div>\n",
       "        <script>netpixi.call('jjQASusZ5zzdXVVkc4S65R', 'dXk3a4tqEjFijUrzxfv563', 'changeGraph', 'eyJpZCI6IDU2MywgInR5cGUiOiAidmVydGV4IiwgInByb3BzIjogeyJzaXplIjogMTYuODEyODY1NDk3MDc2MDJ9fQo=');</script>\n",
       "    "
      ],
      "text/plain": [
       "<IPython.core.display.HTML object>"
      ]
     },
     "metadata": {},
     "output_type": "display_data"
    },
    {
     "data": {
      "text/html": [
       "\n",
       "        <div id=\"4gnrALrvKXjrsMJu3iewo4\"></div>\n",
       "        <script>netpixi.call('4gnrALrvKXjrsMJu3iewo4', 'dXk3a4tqEjFijUrzxfv563', 'changeGraph', 'eyJpZCI6IDU2NCwgInR5cGUiOiAidmVydGV4IiwgInByb3BzIjogeyJzaXplIjogMTguMjMwOTk0MTUyMDQ2NzgzfX0K');</script>\n",
       "    "
      ],
      "text/plain": [
       "<IPython.core.display.HTML object>"
      ]
     },
     "metadata": {},
     "output_type": "display_data"
    },
    {
     "data": {
      "text/html": [
       "\n",
       "        <div id=\"k6WJoopiJwzgF44UN3Uuvr\"></div>\n",
       "        <script>netpixi.call('k6WJoopiJwzgF44UN3Uuvr', 'dXk3a4tqEjFijUrzxfv563', 'changeGraph', 'eyJpZCI6IDU2NSwgInR5cGUiOiAidmVydGV4IiwgInByb3BzIjogeyJzaXplIjogNDEuOTE4NjA0NjUxMTYyNzl9fQo=');</script>\n",
       "    "
      ],
      "text/plain": [
       "<IPython.core.display.HTML object>"
      ]
     },
     "metadata": {},
     "output_type": "display_data"
    },
    {
     "data": {
      "text/html": [
       "\n",
       "        <div id=\"X8QDdqLikyvTV5GyRA9dMR\"></div>\n",
       "        <script>netpixi.call('X8QDdqLikyvTV5GyRA9dMR', 'dXk3a4tqEjFijUrzxfv563', 'changeGraph', 'eyJpZCI6IDU2NiwgInR5cGUiOiAidmVydGV4IiwgInByb3BzIjogeyJzaXplIjogNDMuODM3MjA5MzAyMzI1NTc2fX0K');</script>\n",
       "    "
      ],
      "text/plain": [
       "<IPython.core.display.HTML object>"
      ]
     },
     "metadata": {},
     "output_type": "display_data"
    },
    {
     "data": {
      "text/html": [
       "\n",
       "        <div id=\"XACdieRV9kCwwMujs8mZk4\"></div>\n",
       "        <script>netpixi.call('XACdieRV9kCwwMujs8mZk4', 'dXk3a4tqEjFijUrzxfv563', 'changeGraph', 'eyJpZCI6IDU2NywgInR5cGUiOiAidmVydGV4IiwgInByb3BzIjogeyJzaXplIjogMTguMjYwMjMzOTE4MTI4NjU1fX0K');</script>\n",
       "    "
      ],
      "text/plain": [
       "<IPython.core.display.HTML object>"
      ]
     },
     "metadata": {},
     "output_type": "display_data"
    },
    {
     "data": {
      "text/html": [
       "\n",
       "        <div id=\"bBFhF95vrAxtDf23jD8HyG\"></div>\n",
       "        <script>netpixi.call('bBFhF95vrAxtDf23jD8HyG', 'dXk3a4tqEjFijUrzxfv563', 'changeGraph', 'eyJpZCI6IDU2OCwgInR5cGUiOiAidmVydGV4IiwgInByb3BzIjogeyJzaXplIjogMTguMDcwMTc1NDM4NTk2NDkzfX0K');</script>\n",
       "    "
      ],
      "text/plain": [
       "<IPython.core.display.HTML object>"
      ]
     },
     "metadata": {},
     "output_type": "display_data"
    },
    {
     "data": {
      "text/html": [
       "\n",
       "        <div id=\"UAbSo9kyKQPmb3CfaTUW5L\"></div>\n",
       "        <script>netpixi.call('UAbSo9kyKQPmb3CfaTUW5L', 'dXk3a4tqEjFijUrzxfv563', 'changeGraph', 'eyJpZCI6IDU2OSwgInR5cGUiOiAidmVydGV4IiwgInByb3BzIjogeyJzaXplIjogMTkuNDg4MzA0MDkzNTY3MjV9fQo=');</script>\n",
       "    "
      ],
      "text/plain": [
       "<IPython.core.display.HTML object>"
      ]
     },
     "metadata": {},
     "output_type": "display_data"
    },
    {
     "data": {
      "text/html": [
       "\n",
       "        <div id=\"5vu9onCAGoLBqBeNVtvyXo\"></div>\n",
       "        <script>netpixi.call('5vu9onCAGoLBqBeNVtvyXo', 'dXk3a4tqEjFijUrzxfv563', 'changeGraph', 'eyJpZCI6IDU3MCwgInR5cGUiOiAidmVydGV4IiwgInByb3BzIjogeyJzaXplIjogNDAuMzQ4ODM3MjA5MzAyMzI0fX0K');</script>\n",
       "    "
      ],
      "text/plain": [
       "<IPython.core.display.HTML object>"
      ]
     },
     "metadata": {},
     "output_type": "display_data"
    },
    {
     "data": {
      "text/html": [
       "\n",
       "        <div id=\"iCEhPnS93Jyu9rKSarZwEg\"></div>\n",
       "        <script>netpixi.call('iCEhPnS93Jyu9rKSarZwEg', 'dXk3a4tqEjFijUrzxfv563', 'changeGraph', 'eyJpZCI6IDU3MSwgInR5cGUiOiAidmVydGV4IiwgInByb3BzIjogeyJzaXplIjogMTcuNTg3NzE5Mjk4MjQ1NjEzfX0K');</script>\n",
       "    "
      ],
      "text/plain": [
       "<IPython.core.display.HTML object>"
      ]
     },
     "metadata": {},
     "output_type": "display_data"
    },
    {
     "data": {
      "text/html": [
       "\n",
       "        <div id=\"8EQ9HUbNr9N5n5h9EAn946\"></div>\n",
       "        <script>netpixi.call('8EQ9HUbNr9N5n5h9EAn946', 'dXk3a4tqEjFijUrzxfv563', 'changeGraph', 'eyJpZCI6IDU3MiwgInR5cGUiOiAidmVydGV4IiwgInByb3BzIjogeyJzaXplIjogNDAuMjMyNTU4MTM5NTM0ODl9fQo=');</script>\n",
       "    "
      ],
      "text/plain": [
       "<IPython.core.display.HTML object>"
      ]
     },
     "metadata": {},
     "output_type": "display_data"
    },
    {
     "data": {
      "text/html": [
       "\n",
       "        <div id=\"arpXNMW4z2yYaLB2u9fU7k\"></div>\n",
       "        <script>netpixi.call('arpXNMW4z2yYaLB2u9fU7k', 'dXk3a4tqEjFijUrzxfv563', 'changeGraph', 'eyJpZCI6IDU3MywgInR5cGUiOiAidmVydGV4IiwgInByb3BzIjogeyJzaXplIjogNDIuNX19Cg==');</script>\n",
       "    "
      ],
      "text/plain": [
       "<IPython.core.display.HTML object>"
      ]
     },
     "metadata": {},
     "output_type": "display_data"
    },
    {
     "data": {
      "text/html": [
       "\n",
       "        <div id=\"4tkTgFNARTZa3FZZqVLoXt\"></div>\n",
       "        <script>netpixi.call('4tkTgFNARTZa3FZZqVLoXt', 'dXk3a4tqEjFijUrzxfv563', 'changeGraph', 'eyJpZCI6IDU3NCwgInR5cGUiOiAidmVydGV4IiwgInByb3BzIjogeyJzaXplIjogMTkuODI0NTYxNDAzNTA4Nzd9fQo=');</script>\n",
       "    "
      ],
      "text/plain": [
       "<IPython.core.display.HTML object>"
      ]
     },
     "metadata": {},
     "output_type": "display_data"
    },
    {
     "data": {
      "text/html": [
       "\n",
       "        <div id=\"HQWrQi7CPmQSdYQ5pdvBdt\"></div>\n",
       "        <script>netpixi.call('HQWrQi7CPmQSdYQ5pdvBdt', 'dXk3a4tqEjFijUrzxfv563', 'changeGraph', 'eyJpZCI6IDU3NSwgInR5cGUiOiAidmVydGV4IiwgInByb3BzIjogeyJzaXplIjogMTUuNDA5MzU2NzI1MTQ2MTk4fX0K');</script>\n",
       "    "
      ],
      "text/plain": [
       "<IPython.core.display.HTML object>"
      ]
     },
     "metadata": {},
     "output_type": "display_data"
    },
    {
     "data": {
      "text/html": [
       "\n",
       "        <div id=\"KotgW3kz59XE7m894tGt8h\"></div>\n",
       "        <script>netpixi.call('KotgW3kz59XE7m894tGt8h', 'dXk3a4tqEjFijUrzxfv563', 'changeGraph', 'eyJpZCI6IDU3NiwgInR5cGUiOiAidmVydGV4IiwgInByb3BzIjogeyJzaXplIjogMTYuNjgxMjg2NTQ5NzA3Nn19Cg==');</script>\n",
       "    "
      ],
      "text/plain": [
       "<IPython.core.display.HTML object>"
      ]
     },
     "metadata": {},
     "output_type": "display_data"
    },
    {
     "data": {
      "text/html": [
       "\n",
       "        <div id=\"7HcfjCTSjgW7up3idUmLFz\"></div>\n",
       "        <script>netpixi.call('7HcfjCTSjgW7up3idUmLFz', 'dXk3a4tqEjFijUrzxfv563', 'changeGraph', 'eyJpZCI6IDU3NywgInR5cGUiOiAidmVydGV4IiwgInByb3BzIjogeyJzaXplIjogMTUuNDM4NTk2NDkxMjI4MDY4fX0K');</script>\n",
       "    "
      ],
      "text/plain": [
       "<IPython.core.display.HTML object>"
      ]
     },
     "metadata": {},
     "output_type": "display_data"
    },
    {
     "data": {
      "text/html": [
       "\n",
       "        <div id=\"EUzkLBNmP9doFL96AwoBmQ\"></div>\n",
       "        <script>netpixi.call('EUzkLBNmP9doFL96AwoBmQ', 'dXk3a4tqEjFijUrzxfv563', 'changeGraph', 'eyJpZCI6IDU3OCwgInR5cGUiOiAidmVydGV4IiwgInByb3BzIjogeyJzaXplIjogMTQuMzcxMzQ1MDI5MjM5NzY2fX0K');</script>\n",
       "    "
      ],
      "text/plain": [
       "<IPython.core.display.HTML object>"
      ]
     },
     "metadata": {},
     "output_type": "display_data"
    },
    {
     "data": {
      "text/html": [
       "\n",
       "        <div id=\"hDzdGiTPox5a5yx5nXwHgZ\"></div>\n",
       "        <script>netpixi.call('hDzdGiTPox5a5yx5nXwHgZ', 'dXk3a4tqEjFijUrzxfv563', 'changeGraph', 'eyJpZCI6IDU3OSwgInR5cGUiOiAidmVydGV4IiwgInByb3BzIjogeyJzaXplIjogMTkuMzQyMTA1MjYzMTU3ODk0fX0K');</script>\n",
       "    "
      ],
      "text/plain": [
       "<IPython.core.display.HTML object>"
      ]
     },
     "metadata": {},
     "output_type": "display_data"
    },
    {
     "data": {
      "text/html": [
       "\n",
       "        <div id=\"6W7XWgrJL4VojHzmtD2Zes\"></div>\n",
       "        <script>netpixi.call('6W7XWgrJL4VojHzmtD2Zes', 'dXk3a4tqEjFijUrzxfv563', 'changeGraph', 'eyJpZCI6IDU4MCwgInR5cGUiOiAidmVydGV4IiwgInByb3BzIjogeyJzaXplIjogMTUuNzAxNzU0Mzg1OTY0OTEzfX0K');</script>\n",
       "    "
      ],
      "text/plain": [
       "<IPython.core.display.HTML object>"
      ]
     },
     "metadata": {},
     "output_type": "display_data"
    },
    {
     "data": {
      "text/html": [
       "\n",
       "        <div id=\"EPN29MdZgvSgPnd7cS5LCN\"></div>\n",
       "        <script>netpixi.call('EPN29MdZgvSgPnd7cS5LCN', 'dXk3a4tqEjFijUrzxfv563', 'changeGraph', 'eyJpZCI6IDU4MSwgInR5cGUiOiAidmVydGV4IiwgInByb3BzIjogeyJzaXplIjogMTMuMTI4NjU0OTcwNzYwMjM0fX0K');</script>\n",
       "    "
      ],
      "text/plain": [
       "<IPython.core.display.HTML object>"
      ]
     },
     "metadata": {},
     "output_type": "display_data"
    },
    {
     "data": {
      "text/html": [
       "\n",
       "        <div id=\"3z32ygiHATJYATYRNY86yQ\"></div>\n",
       "        <script>netpixi.call('3z32ygiHATJYATYRNY86yQ', 'dXk3a4tqEjFijUrzxfv563', 'changeGraph', 'eyJpZCI6IDU4MiwgInR5cGUiOiAidmVydGV4IiwgInByb3BzIjogeyJzaXplIjogMTguNjY5NTkwNjQzMjc0ODV9fQo=');</script>\n",
       "    "
      ],
      "text/plain": [
       "<IPython.core.display.HTML object>"
      ]
     },
     "metadata": {},
     "output_type": "display_data"
    },
    {
     "data": {
      "text/html": [
       "\n",
       "        <div id=\"5MCbT8EsXpjrRxJY6CvNii\"></div>\n",
       "        <script>netpixi.call('5MCbT8EsXpjrRxJY6CvNii', 'dXk3a4tqEjFijUrzxfv563', 'changeGraph', 'eyJpZCI6IDU4MywgInR5cGUiOiAidmVydGV4IiwgInByb3BzIjogeyJzaXplIjogMTEuNTM1MDg3NzE5Mjk4MjQ1fX0K');</script>\n",
       "    "
      ],
      "text/plain": [
       "<IPython.core.display.HTML object>"
      ]
     },
     "metadata": {},
     "output_type": "display_data"
    },
    {
     "data": {
      "text/html": [
       "\n",
       "        <div id=\"bFmXGaWGVqxGqgGw9ywcqt\"></div>\n",
       "        <script>netpixi.call('bFmXGaWGVqxGqgGw9ywcqt', 'dXk3a4tqEjFijUrzxfv563', 'changeGraph', 'eyJpZCI6IDU4NCwgInR5cGUiOiAidmVydGV4IiwgInByb3BzIjogeyJzaXplIjogMTMuOTMyNzQ4NTM4MDExNjk2fX0K');</script>\n",
       "    "
      ],
      "text/plain": [
       "<IPython.core.display.HTML object>"
      ]
     },
     "metadata": {},
     "output_type": "display_data"
    },
    {
     "data": {
      "text/html": [
       "\n",
       "        <div id=\"R8MV5zY3vXKHMG5jBKFrmp\"></div>\n",
       "        <script>netpixi.call('R8MV5zY3vXKHMG5jBKFrmp', 'dXk3a4tqEjFijUrzxfv563', 'changeGraph', 'eyJpZCI6IDU4NSwgInR5cGUiOiAidmVydGV4IiwgInByb3BzIjogeyJzaXplIjogMTcuMzk3NjYwODE4NzEzNDQ3fX0K');</script>\n",
       "    "
      ],
      "text/plain": [
       "<IPython.core.display.HTML object>"
      ]
     },
     "metadata": {},
     "output_type": "display_data"
    },
    {
     "data": {
      "text/html": [
       "\n",
       "        <div id=\"m45gHciZxnEF3p4kUBF6Pb\"></div>\n",
       "        <script>netpixi.call('m45gHciZxnEF3p4kUBF6Pb', 'dXk3a4tqEjFijUrzxfv563', 'changeGraph', 'eyJpZCI6IDU4NiwgInR5cGUiOiAidmVydGV4IiwgInByb3BzIjogeyJzaXplIjogMTcuMjgwNzAxNzU0Mzg1OTY2fX0K');</script>\n",
       "    "
      ],
      "text/plain": [
       "<IPython.core.display.HTML object>"
      ]
     },
     "metadata": {},
     "output_type": "display_data"
    },
    {
     "data": {
      "text/html": [
       "\n",
       "        <div id=\"9U84q5kHGG5nkFGrpPTL3e\"></div>\n",
       "        <script>netpixi.call('9U84q5kHGG5nkFGrpPTL3e', 'dXk3a4tqEjFijUrzxfv563', 'changeGraph', 'eyJpZCI6IDU4NywgInR5cGUiOiAidmVydGV4IiwgInByb3BzIjogeyJzaXplIjogMTcuMTkyOTgyNDU2MTQwMzV9fQo=');</script>\n",
       "    "
      ],
      "text/plain": [
       "<IPython.core.display.HTML object>"
      ]
     },
     "metadata": {},
     "output_type": "display_data"
    },
    {
     "data": {
      "text/html": [
       "\n",
       "        <div id=\"T2iDXmoQiBf9ywPArZMVvQ\"></div>\n",
       "        <script>netpixi.call('T2iDXmoQiBf9ywPArZMVvQ', 'dXk3a4tqEjFijUrzxfv563', 'changeGraph', 'eyJpZCI6IDU4OCwgInR5cGUiOiAidmVydGV4IiwgInByb3BzIjogeyJzaXplIjogMTguNzI4MDcwMTc1NDM4NTk2fX0K');</script>\n",
       "    "
      ],
      "text/plain": [
       "<IPython.core.display.HTML object>"
      ]
     },
     "metadata": {},
     "output_type": "display_data"
    },
    {
     "data": {
      "text/html": [
       "\n",
       "        <div id=\"caHppN9KBth6ySxUMuPzUx\"></div>\n",
       "        <script>netpixi.call('caHppN9KBth6ySxUMuPzUx', 'dXk3a4tqEjFijUrzxfv563', 'changeGraph', 'eyJpZCI6IDU4OSwgInR5cGUiOiAidmVydGV4IiwgInByb3BzIjogeyJzaXplIjogMTkuODM5MTgxMjg2NTQ5NzA3fX0K');</script>\n",
       "    "
      ],
      "text/plain": [
       "<IPython.core.display.HTML object>"
      ]
     },
     "metadata": {},
     "output_type": "display_data"
    },
    {
     "data": {
      "text/html": [
       "\n",
       "        <div id=\"hNUi3utRsYK8dZ3xSRTXva\"></div>\n",
       "        <script>netpixi.call('hNUi3utRsYK8dZ3xSRTXva', 'dXk3a4tqEjFijUrzxfv563', 'changeGraph', 'eyJpZCI6IDU5MCwgInR5cGUiOiAidmVydGV4IiwgInByb3BzIjogeyJzaXplIjogMTguMzE4NzEzNDUwMjkyNH19Cg==');</script>\n",
       "    "
      ],
      "text/plain": [
       "<IPython.core.display.HTML object>"
      ]
     },
     "metadata": {},
     "output_type": "display_data"
    },
    {
     "data": {
      "text/html": [
       "\n",
       "        <div id=\"JBMkAN6oz8cacZVJYVnDDS\"></div>\n",
       "        <script>netpixi.call('JBMkAN6oz8cacZVJYVnDDS', 'dXk3a4tqEjFijUrzxfv563', 'changeGraph', 'eyJpZCI6IDU5MSwgInR5cGUiOiAidmVydGV4IiwgInByb3BzIjogeyJzaXplIjogMTguMzc3MTkyOTgyNDU2MTR9fQo=');</script>\n",
       "    "
      ],
      "text/plain": [
       "<IPython.core.display.HTML object>"
      ]
     },
     "metadata": {},
     "output_type": "display_data"
    },
    {
     "data": {
      "text/html": [
       "\n",
       "        <div id=\"6Wha5hxG9RJV5wcNMMhR3w\"></div>\n",
       "        <script>netpixi.call('6Wha5hxG9RJV5wcNMMhR3w', 'dXk3a4tqEjFijUrzxfv563', 'changeGraph', 'eyJpZCI6IDU5MiwgInR5cGUiOiAidmVydGV4IiwgInByb3BzIjogeyJzaXplIjogMTYuMzMwNDA5MzU2NzI1MTV9fQo=');</script>\n",
       "    "
      ],
      "text/plain": [
       "<IPython.core.display.HTML object>"
      ]
     },
     "metadata": {},
     "output_type": "display_data"
    },
    {
     "data": {
      "text/html": [
       "\n",
       "        <div id=\"i8pESL8SCPgAWYqRBSsqv6\"></div>\n",
       "        <script>netpixi.call('i8pESL8SCPgAWYqRBSsqv6', 'dXk3a4tqEjFijUrzxfv563', 'changeGraph', 'eyJpZCI6IDU5MywgInR5cGUiOiAidmVydGV4IiwgInByb3BzIjogeyJzaXplIjogMTQuNjkyOTgyNDU2MTQwMzV9fQo=');</script>\n",
       "    "
      ],
      "text/plain": [
       "<IPython.core.display.HTML object>"
      ]
     },
     "metadata": {},
     "output_type": "display_data"
    },
    {
     "data": {
      "text/html": [
       "\n",
       "        <div id=\"cLUhEQKSFoLUv4pTCSabCr\"></div>\n",
       "        <script>netpixi.call('cLUhEQKSFoLUv4pTCSabCr', 'dXk3a4tqEjFijUrzxfv563', 'changeGraph', 'eyJpZCI6IDU5NCwgInR5cGUiOiAidmVydGV4IiwgInByb3BzIjogeyJzaXplIjogMTcuNDcwNzYwMjMzOTE4MTI4fX0K');</script>\n",
       "    "
      ],
      "text/plain": [
       "<IPython.core.display.HTML object>"
      ]
     },
     "metadata": {},
     "output_type": "display_data"
    },
    {
     "data": {
      "text/html": [
       "\n",
       "        <div id=\"JWstCkDwLJQEBCPMUY3ncS\"></div>\n",
       "        <script>netpixi.call('JWstCkDwLJQEBCPMUY3ncS', 'dXk3a4tqEjFijUrzxfv563', 'changeGraph', 'eyJpZCI6IDU5NSwgInR5cGUiOiAidmVydGV4IiwgInByb3BzIjogeyJzaXplIjogMTcuMDYxNDAzNTA4NzcxOTN9fQo=');</script>\n",
       "    "
      ],
      "text/plain": [
       "<IPython.core.display.HTML object>"
      ]
     },
     "metadata": {},
     "output_type": "display_data"
    },
    {
     "data": {
      "text/html": [
       "\n",
       "        <div id=\"A9vtpBi95AqfUjaM9ZBaH7\"></div>\n",
       "        <script>netpixi.call('A9vtpBi95AqfUjaM9ZBaH7', 'dXk3a4tqEjFijUrzxfv563', 'changeGraph', 'eyJpZCI6IDU5NiwgInR5cGUiOiAidmVydGV4IiwgInByb3BzIjogeyJzaXplIjogMTYuNzU0Mzg1OTY0OTEyMjh9fQo=');</script>\n",
       "    "
      ],
      "text/plain": [
       "<IPython.core.display.HTML object>"
      ]
     },
     "metadata": {},
     "output_type": "display_data"
    },
    {
     "data": {
      "text/html": [
       "\n",
       "        <div id=\"MnWBXyZMwGCG2CQ6zBCApe\"></div>\n",
       "        <script>netpixi.call('MnWBXyZMwGCG2CQ6zBCApe', 'dXk3a4tqEjFijUrzxfv563', 'changeGraph', 'eyJpZCI6IDU5NywgInR5cGUiOiAidmVydGV4IiwgInByb3BzIjogeyJzaXplIjogMTkuNTc2MDIzMzkxODEyODY0fX0K');</script>\n",
       "    "
      ],
      "text/plain": [
       "<IPython.core.display.HTML object>"
      ]
     },
     "metadata": {},
     "output_type": "display_data"
    },
    {
     "data": {
      "text/html": [
       "\n",
       "        <div id=\"Ep9cd7ZDV42NVyqtU26bXg\"></div>\n",
       "        <script>netpixi.call('Ep9cd7ZDV42NVyqtU26bXg', 'dXk3a4tqEjFijUrzxfv563', 'changeGraph', 'eyJpZCI6IDU5OCwgInR5cGUiOiAidmVydGV4IiwgInByb3BzIjogeyJzaXplIjogMTcuNDg1MzgwMTE2OTU5MDY0fX0K');</script>\n",
       "    "
      ],
      "text/plain": [
       "<IPython.core.display.HTML object>"
      ]
     },
     "metadata": {},
     "output_type": "display_data"
    },
    {
     "data": {
      "text/html": [
       "\n",
       "        <div id=\"RK4P9dvkKhNamGdGmX5ts7\"></div>\n",
       "        <script>netpixi.call('RK4P9dvkKhNamGdGmX5ts7', 'dXk3a4tqEjFijUrzxfv563', 'changeGraph', 'eyJpZCI6IDU5OSwgInR5cGUiOiAidmVydGV4IiwgInByb3BzIjogeyJzaXplIjogMTcuNzE5Mjk4MjQ1NjE0MDM0fX0K');</script>\n",
       "    "
      ],
      "text/plain": [
       "<IPython.core.display.HTML object>"
      ]
     },
     "metadata": {},
     "output_type": "display_data"
    },
    {
     "data": {
      "text/html": [
       "\n",
       "        <div id=\"gQZanSjygGfz8tTopEghF4\"></div>\n",
       "        <script>netpixi.call('gQZanSjygGfz8tTopEghF4', 'dXk3a4tqEjFijUrzxfv563', 'changeGraph', 'eyJpZCI6IDYwMCwgInR5cGUiOiAidmVydGV4IiwgInByb3BzIjogeyJzaXplIjogMTMuNTgxODcxMzQ1MDI5MjM5fX0K');</script>\n",
       "    "
      ],
      "text/plain": [
       "<IPython.core.display.HTML object>"
      ]
     },
     "metadata": {},
     "output_type": "display_data"
    },
    {
     "data": {
      "text/html": [
       "\n",
       "        <div id=\"Jez8z5vLTTM55qyB28i3gF\"></div>\n",
       "        <script>netpixi.call('Jez8z5vLTTM55qyB28i3gF', 'dXk3a4tqEjFijUrzxfv563', 'changeGraph', 'eyJpZCI6IDYwMSwgInR5cGUiOiAidmVydGV4IiwgInByb3BzIjogeyJzaXplIjogMTQuNDAwNTg0Nzk1MzIxNjM4fX0K');</script>\n",
       "    "
      ],
      "text/plain": [
       "<IPython.core.display.HTML object>"
      ]
     },
     "metadata": {},
     "output_type": "display_data"
    },
    {
     "data": {
      "text/html": [
       "\n",
       "        <div id=\"jw9Zskgv8AQdfW8toEb6mu\"></div>\n",
       "        <script>netpixi.call('jw9Zskgv8AQdfW8toEb6mu', 'dXk3a4tqEjFijUrzxfv563', 'changeGraph', 'eyJpZCI6IDYwMiwgInR5cGUiOiAidmVydGV4IiwgInByb3BzIjogeyJzaXplIjogMTEuNzk4MjQ1NjE0MDM1MDg3fX0K');</script>\n",
       "    "
      ],
      "text/plain": [
       "<IPython.core.display.HTML object>"
      ]
     },
     "metadata": {},
     "output_type": "display_data"
    },
    {
     "data": {
      "text/html": [
       "\n",
       "        <div id=\"GaXmDCyuKy9WaXhKeWgFMc\"></div>\n",
       "        <script>netpixi.call('GaXmDCyuKy9WaXhKeWgFMc', 'dXk3a4tqEjFijUrzxfv563', 'changeGraph', 'eyJpZCI6IDYwMywgInR5cGUiOiAidmVydGV4IiwgInByb3BzIjogeyJzaXplIjogMTUuODkxODEyODY1NDk3MDc3fX0K');</script>\n",
       "    "
      ],
      "text/plain": [
       "<IPython.core.display.HTML object>"
      ]
     },
     "metadata": {},
     "output_type": "display_data"
    },
    {
     "data": {
      "text/html": [
       "\n",
       "        <div id=\"GyFAtNUxb2bB724N8KSnnx\"></div>\n",
       "        <script>netpixi.call('GyFAtNUxb2bB724N8KSnnx', 'dXk3a4tqEjFijUrzxfv563', 'changeGraph', 'eyJpZCI6IDYwNCwgInR5cGUiOiAidmVydGV4IiwgInByb3BzIjogeyJzaXplIjogMTYuNDkxMjI4MDcwMTc1NDR9fQo=');</script>\n",
       "    "
      ],
      "text/plain": [
       "<IPython.core.display.HTML object>"
      ]
     },
     "metadata": {},
     "output_type": "display_data"
    },
    {
     "data": {
      "text/html": [
       "\n",
       "        <div id=\"B3HMUjAXjL99Y6N6PhGE64\"></div>\n",
       "        <script>netpixi.call('B3HMUjAXjL99Y6N6PhGE64', 'dXk3a4tqEjFijUrzxfv563', 'changeGraph', 'eyJpZCI6IDYwNSwgInR5cGUiOiAidmVydGV4IiwgInByb3BzIjogeyJzaXplIjogMTkuNjYzNzQyNjkwMDU4NDc3fX0K');</script>\n",
       "    "
      ],
      "text/plain": [
       "<IPython.core.display.HTML object>"
      ]
     },
     "metadata": {},
     "output_type": "display_data"
    },
    {
     "data": {
      "text/html": [
       "\n",
       "        <div id=\"DKYPDstzSWMehdeR3TFyQu\"></div>\n",
       "        <script>netpixi.call('DKYPDstzSWMehdeR3TFyQu', 'dXk3a4tqEjFijUrzxfv563', 'changeGraph', 'eyJpZCI6IDYwNiwgInR5cGUiOiAidmVydGV4IiwgInByb3BzIjogeyJzaXplIjogMTkuODk3NjYwODE4NzEzNDQ3fX0K');</script>\n",
       "    "
      ],
      "text/plain": [
       "<IPython.core.display.HTML object>"
      ]
     },
     "metadata": {},
     "output_type": "display_data"
    },
    {
     "data": {
      "text/html": [
       "\n",
       "        <div id=\"i9kYvFEuE8Lyrd9eQzcNrz\"></div>\n",
       "        <script>netpixi.call('i9kYvFEuE8Lyrd9eQzcNrz', 'dXk3a4tqEjFijUrzxfv563', 'changeGraph', 'eyJpZCI6IDYwNywgInR5cGUiOiAidmVydGV4IiwgInByb3BzIjogeyJzaXplIjogMTcuODA3MDE3NTQzODU5NjV9fQo=');</script>\n",
       "    "
      ],
      "text/plain": [
       "<IPython.core.display.HTML object>"
      ]
     },
     "metadata": {},
     "output_type": "display_data"
    },
    {
     "data": {
      "text/html": [
       "\n",
       "        <div id=\"R4ZHVBKM4xKt3jRxSrDyqW\"></div>\n",
       "        <script>netpixi.call('R4ZHVBKM4xKt3jRxSrDyqW', 'dXk3a4tqEjFijUrzxfv563', 'changeGraph', 'eyJpZCI6IDYwOCwgInR5cGUiOiAidmVydGV4IiwgInByb3BzIjogeyJzaXplIjogMTYuMTI1NzMwOTk0MTUyMDQ3fX0K');</script>\n",
       "    "
      ],
      "text/plain": [
       "<IPython.core.display.HTML object>"
      ]
     },
     "metadata": {},
     "output_type": "display_data"
    },
    {
     "data": {
      "text/html": [
       "\n",
       "        <div id=\"HaFA3cagiJAzt9W4bino2f\"></div>\n",
       "        <script>netpixi.call('HaFA3cagiJAzt9W4bino2f', 'dXk3a4tqEjFijUrzxfv563', 'changeGraph', 'eyJpZCI6IDYwOSwgInR5cGUiOiAidmVydGV4IiwgInByb3BzIjogeyJzaXplIjogMTkuODA5OTQxNTIwNDY3ODM0fX0K');</script>\n",
       "    "
      ],
      "text/plain": [
       "<IPython.core.display.HTML object>"
      ]
     },
     "metadata": {},
     "output_type": "display_data"
    },
    {
     "data": {
      "text/html": [
       "\n",
       "        <div id=\"hknpXRYNmF7yUp3CR6zXRo\"></div>\n",
       "        <script>netpixi.call('hknpXRYNmF7yUp3CR6zXRo', 'dXk3a4tqEjFijUrzxfv563', 'changeGraph', 'eyJpZCI6IDYxMCwgInR5cGUiOiAidmVydGV4IiwgInByb3BzIjogeyJzaXplIjogMTYuOTI5ODI0NTYxNDAzNTA3fX0K');</script>\n",
       "    "
      ],
      "text/plain": [
       "<IPython.core.display.HTML object>"
      ]
     },
     "metadata": {},
     "output_type": "display_data"
    },
    {
     "data": {
      "text/html": [
       "\n",
       "        <div id=\"crgTJY4PVt3LiXUf6uyPT7\"></div>\n",
       "        <script>netpixi.call('crgTJY4PVt3LiXUf6uyPT7', 'dXk3a4tqEjFijUrzxfv563', 'changeGraph', 'eyJpZCI6IDYxMSwgInR5cGUiOiAidmVydGV4IiwgInByb3BzIjogeyJzaXplIjogMTYuNjY2NjY2NjY2NjY2NjY0fX0K');</script>\n",
       "    "
      ],
      "text/plain": [
       "<IPython.core.display.HTML object>"
      ]
     },
     "metadata": {},
     "output_type": "display_data"
    },
    {
     "data": {
      "text/html": [
       "\n",
       "        <div id=\"nVborA8aoXKH9sxuSSZUy7\"></div>\n",
       "        <script>netpixi.call('nVborA8aoXKH9sxuSSZUy7', 'dXk3a4tqEjFijUrzxfv563', 'changeGraph', 'eyJpZCI6IDYxMiwgInR5cGUiOiAidmVydGV4IiwgInByb3BzIjogeyJzaXplIjogMTYuMDA4NzcxOTI5ODI0NTZ9fQo=');</script>\n",
       "    "
      ],
      "text/plain": [
       "<IPython.core.display.HTML object>"
      ]
     },
     "metadata": {},
     "output_type": "display_data"
    },
    {
     "data": {
      "text/html": [
       "\n",
       "        <div id=\"HLrwVJ3i6ErqeQNmfnxM9r\"></div>\n",
       "        <script>netpixi.call('HLrwVJ3i6ErqeQNmfnxM9r', 'dXk3a4tqEjFijUrzxfv563', 'changeGraph', 'eyJpZCI6IDYxMywgInR5cGUiOiAidmVydGV4IiwgInByb3BzIjogeyJzaXplIjogMTAuMTkwMDU4NDc5NTMyMTY0fX0K');</script>\n",
       "    "
      ],
      "text/plain": [
       "<IPython.core.display.HTML object>"
      ]
     },
     "metadata": {},
     "output_type": "display_data"
    },
    {
     "data": {
      "text/html": [
       "\n",
       "        <div id=\"WBF4QSzfoP5but3PV76XQs\"></div>\n",
       "        <script>netpixi.call('WBF4QSzfoP5but3PV76XQs', 'dXk3a4tqEjFijUrzxfv563', 'changeGraph', 'eyJpZCI6IDYxNCwgInR5cGUiOiAidmVydGV4IiwgInByb3BzIjogeyJzaXplIjogMTAuMTc1NDM4NTk2NDkxMjI4fX0K');</script>\n",
       "    "
      ],
      "text/plain": [
       "<IPython.core.display.HTML object>"
      ]
     },
     "metadata": {},
     "output_type": "display_data"
    },
    {
     "data": {
      "text/html": [
       "\n",
       "        <div id=\"CzrsxCcxzM5urQGKVLky4H\"></div>\n",
       "        <script>netpixi.call('CzrsxCcxzM5urQGKVLky4H', 'dXk3a4tqEjFijUrzxfv563', 'changeGraph', 'eyJpZCI6IDYxNSwgInR5cGUiOiAidmVydGV4IiwgInByb3BzIjogeyJzaXplIjogMTQuMjEwNTI2MzE1Nzg5NDczfX0K');</script>\n",
       "    "
      ],
      "text/plain": [
       "<IPython.core.display.HTML object>"
      ]
     },
     "metadata": {},
     "output_type": "display_data"
    },
    {
     "data": {
      "text/html": [
       "\n",
       "        <div id=\"HCNW4dUG8C77C9FxwQ6SuC\"></div>\n",
       "        <script>netpixi.call('HCNW4dUG8C77C9FxwQ6SuC', 'dXk3a4tqEjFijUrzxfv563', 'changeGraph', 'eyJpZCI6IDYxNiwgInR5cGUiOiAidmVydGV4IiwgInByb3BzIjogeyJzaXplIjogMTMuODAxMTY5NTkwNjQzMjc1fX0K');</script>\n",
       "    "
      ],
      "text/plain": [
       "<IPython.core.display.HTML object>"
      ]
     },
     "metadata": {},
     "output_type": "display_data"
    },
    {
     "data": {
      "text/html": [
       "\n",
       "        <div id=\"VWur6GspprL4TGYTDdEdxQ\"></div>\n",
       "        <script>netpixi.call('VWur6GspprL4TGYTDdEdxQ', 'dXk3a4tqEjFijUrzxfv563', 'changeGraph', 'eyJpZCI6IDYxNywgInR5cGUiOiAidmVydGV4IiwgInByb3BzIjogeyJzaXplIjogMTEuNDYxOTg4MzA0MDkzNTY2fX0K');</script>\n",
       "    "
      ],
      "text/plain": [
       "<IPython.core.display.HTML object>"
      ]
     },
     "metadata": {},
     "output_type": "display_data"
    },
    {
     "data": {
      "text/html": [
       "\n",
       "        <div id=\"kZDDKbT7jWQ8XT9Uf8kAE6\"></div>\n",
       "        <script>netpixi.call('kZDDKbT7jWQ8XT9Uf8kAE6', 'dXk3a4tqEjFijUrzxfv563', 'changeGraph', 'eyJpZCI6IDYxOCwgInR5cGUiOiAidmVydGV4IiwgInByb3BzIjogeyJzaXplIjogMTUuNjE0MDM1MDg3NzE5Mjk4fX0K');</script>\n",
       "    "
      ],
      "text/plain": [
       "<IPython.core.display.HTML object>"
      ]
     },
     "metadata": {},
     "output_type": "display_data"
    },
    {
     "data": {
      "text/html": [
       "\n",
       "        <div id=\"ebtmCfXXEV37Bh7G5TrYhy\"></div>\n",
       "        <script>netpixi.call('ebtmCfXXEV37Bh7G5TrYhy', 'dXk3a4tqEjFijUrzxfv563', 'changeGraph', 'eyJpZCI6IDYxOSwgInR5cGUiOiAidmVydGV4IiwgInByb3BzIjogeyJzaXplIjogMTYuOTczNjg0MjEwNTI2MzE1fX0K');</script>\n",
       "    "
      ],
      "text/plain": [
       "<IPython.core.display.HTML object>"
      ]
     },
     "metadata": {},
     "output_type": "display_data"
    },
    {
     "data": {
      "text/html": [
       "\n",
       "        <div id=\"6XanpxrnnGgo2NySepJdKh\"></div>\n",
       "        <script>netpixi.call('6XanpxrnnGgo2NySepJdKh', 'dXk3a4tqEjFijUrzxfv563', 'changeGraph', 'eyJpZCI6IDYyMCwgInR5cGUiOiAidmVydGV4IiwgInByb3BzIjogeyJzaXplIjogMTYuMzQ1MDI5MjM5NzY2MDh9fQo=');</script>\n",
       "    "
      ],
      "text/plain": [
       "<IPython.core.display.HTML object>"
      ]
     },
     "metadata": {},
     "output_type": "display_data"
    },
    {
     "data": {
      "text/html": [
       "\n",
       "        <div id=\"5pzsfMN9vMoXtNQVYsbW4E\"></div>\n",
       "        <script>netpixi.call('5pzsfMN9vMoXtNQVYsbW4E', 'dXk3a4tqEjFijUrzxfv563', 'changeGraph', 'eyJpZCI6IDYyMSwgInR5cGUiOiAidmVydGV4IiwgInByb3BzIjogeyJzaXplIjogMTcuMjY2MDgxODcxMzQ1MDN9fQo=');</script>\n",
       "    "
      ],
      "text/plain": [
       "<IPython.core.display.HTML object>"
      ]
     },
     "metadata": {},
     "output_type": "display_data"
    },
    {
     "data": {
      "text/html": [
       "\n",
       "        <div id=\"G5Nuz8RHpDLsBNGjA32unU\"></div>\n",
       "        <script>netpixi.call('G5Nuz8RHpDLsBNGjA32unU', 'dXk3a4tqEjFijUrzxfv563', 'changeGraph', 'eyJpZCI6IDYyMiwgInR5cGUiOiAidmVydGV4IiwgInByb3BzIjogeyJzaXplIjogMTQuNDU5MDY0MzI3NDg1Mzc5fX0K');</script>\n",
       "    "
      ],
      "text/plain": [
       "<IPython.core.display.HTML object>"
      ]
     },
     "metadata": {},
     "output_type": "display_data"
    },
    {
     "data": {
      "text/html": [
       "\n",
       "        <div id=\"jQ9ANrwhJgYFAqHzMiv7Fg\"></div>\n",
       "        <script>netpixi.call('jQ9ANrwhJgYFAqHzMiv7Fg', 'dXk3a4tqEjFijUrzxfv563', 'changeGraph', 'eyJpZCI6IDYyMywgInR5cGUiOiAidmVydGV4IiwgInByb3BzIjogeyJzaXplIjogMTQuODM5MTgxMjg2NTQ5NzA3fX0K');</script>\n",
       "    "
      ],
      "text/plain": [
       "<IPython.core.display.HTML object>"
      ]
     },
     "metadata": {},
     "output_type": "display_data"
    },
    {
     "data": {
      "text/html": [
       "\n",
       "        <div id=\"ekFMWGSnTtL3XqpM2on6k8\"></div>\n",
       "        <script>netpixi.call('ekFMWGSnTtL3XqpM2on6k8', 'dXk3a4tqEjFijUrzxfv563', 'changeGraph', 'eyJpZCI6IDYyNCwgInR5cGUiOiAidmVydGV4IiwgInByb3BzIjogeyJzaXplIjogMTMuODMwNDA5MzU2NzI1MTQ3fX0K');</script>\n",
       "    "
      ],
      "text/plain": [
       "<IPython.core.display.HTML object>"
      ]
     },
     "metadata": {},
     "output_type": "display_data"
    },
    {
     "data": {
      "text/html": [
       "\n",
       "        <div id=\"oTHjWroAkojHvfbvV33AF8\"></div>\n",
       "        <script>netpixi.call('oTHjWroAkojHvfbvV33AF8', 'dXk3a4tqEjFijUrzxfv563', 'changeGraph', 'eyJpZCI6IDYyNSwgInR5cGUiOiAidmVydGV4IiwgInByb3BzIjogeyJzaXplIjogMTcuMjUxNDYxOTg4MzA0MDk0fX0K');</script>\n",
       "    "
      ],
      "text/plain": [
       "<IPython.core.display.HTML object>"
      ]
     },
     "metadata": {},
     "output_type": "display_data"
    },
    {
     "data": {
      "text/html": [
       "\n",
       "        <div id=\"JtPJFro3FdCgQaXBsHAe72\"></div>\n",
       "        <script>netpixi.call('JtPJFro3FdCgQaXBsHAe72', 'dXk3a4tqEjFijUrzxfv563', 'changeGraph', 'eyJpZCI6IDYyNiwgInR5cGUiOiAidmVydGV4IiwgInByb3BzIjogeyJzaXplIjogMTcuNTE0NjE5ODgzMDQwOTM2fX0K');</script>\n",
       "    "
      ],
      "text/plain": [
       "<IPython.core.display.HTML object>"
      ]
     },
     "metadata": {},
     "output_type": "display_data"
    },
    {
     "data": {
      "text/html": [
       "\n",
       "        <div id=\"PVgFWvGTWVXkenac3NVJ5g\"></div>\n",
       "        <script>netpixi.call('PVgFWvGTWVXkenac3NVJ5g', 'dXk3a4tqEjFijUrzxfv563', 'changeGraph', 'eyJpZCI6IDYyNywgInR5cGUiOiAidmVydGV4IiwgInByb3BzIjogeyJzaXplIjogMTEuNjY2NjY2NjY2NjY2NjY2fX0K');</script>\n",
       "    "
      ],
      "text/plain": [
       "<IPython.core.display.HTML object>"
      ]
     },
     "metadata": {},
     "output_type": "display_data"
    },
    {
     "data": {
      "text/html": [
       "\n",
       "        <div id=\"Qp4mXBg4pt58ZNbVAAoYFH\"></div>\n",
       "        <script>netpixi.call('Qp4mXBg4pt58ZNbVAAoYFH', 'dXk3a4tqEjFijUrzxfv563', 'changeGraph', 'eyJpZCI6IDYyOCwgInR5cGUiOiAidmVydGV4IiwgInByb3BzIjogeyJzaXplIjogMTcuMDkwNjQzMjc0ODUzOH19Cg==');</script>\n",
       "    "
      ],
      "text/plain": [
       "<IPython.core.display.HTML object>"
      ]
     },
     "metadata": {},
     "output_type": "display_data"
    },
    {
     "data": {
      "text/html": [
       "\n",
       "        <div id=\"YiMYBoMCRvA6sHyQAxKx3U\"></div>\n",
       "        <script>netpixi.call('YiMYBoMCRvA6sHyQAxKx3U', 'dXk3a4tqEjFijUrzxfv563', 'changeGraph', 'eyJpZCI6IDYyOSwgInR5cGUiOiAidmVydGV4IiwgInByb3BzIjogeyJzaXplIjogMTMuNjY5NTkwNjQzMjc0ODUzfX0K');</script>\n",
       "    "
      ],
      "text/plain": [
       "<IPython.core.display.HTML object>"
      ]
     },
     "metadata": {},
     "output_type": "display_data"
    },
    {
     "data": {
      "text/html": [
       "\n",
       "        <div id=\"87WvkzssY4ehw5pYKXU8mM\"></div>\n",
       "        <script>netpixi.call('87WvkzssY4ehw5pYKXU8mM', 'dXk3a4tqEjFijUrzxfv563', 'changeGraph', 'eyJpZCI6IDYzMCwgInR5cGUiOiAidmVydGV4IiwgInByb3BzIjogeyJzaXplIjogMTYuMDgxODcxMzQ1MDI5MjR9fQo=');</script>\n",
       "    "
      ],
      "text/plain": [
       "<IPython.core.display.HTML object>"
      ]
     },
     "metadata": {},
     "output_type": "display_data"
    },
    {
     "data": {
      "text/html": [
       "\n",
       "        <div id=\"SM6qSpXBbrobAbe3bupEMy\"></div>\n",
       "        <script>netpixi.call('SM6qSpXBbrobAbe3bupEMy', 'dXk3a4tqEjFijUrzxfv563', 'changeGraph', 'eyJpZCI6IDYzMSwgInR5cGUiOiAidmVydGV4IiwgInByb3BzIjogeyJzaXplIjogMTIuOTk3MDc2MDIzMzkxODEzfX0K');</script>\n",
       "    "
      ],
      "text/plain": [
       "<IPython.core.display.HTML object>"
      ]
     },
     "metadata": {},
     "output_type": "display_data"
    },
    {
     "data": {
      "text/html": [
       "\n",
       "        <div id=\"nCBRpdSY5C2gsjC9QrXcoQ\"></div>\n",
       "        <script>netpixi.call('nCBRpdSY5C2gsjC9QrXcoQ', 'dXk3a4tqEjFijUrzxfv563', 'changeGraph', 'eyJpZCI6IDYzMiwgInR5cGUiOiAidmVydGV4IiwgInByb3BzIjogeyJzaXplIjogMTQuMDkzNTY3MjUxNDYxOTg3fX0K');</script>\n",
       "    "
      ],
      "text/plain": [
       "<IPython.core.display.HTML object>"
      ]
     },
     "metadata": {},
     "output_type": "display_data"
    },
    {
     "data": {
      "text/html": [
       "\n",
       "        <div id=\"TMbR6ij3HqqkaYJ8dNtfUb\"></div>\n",
       "        <script>netpixi.call('TMbR6ij3HqqkaYJ8dNtfUb', 'dXk3a4tqEjFijUrzxfv563', 'changeGraph', 'eyJpZCI6IDYzMywgInR5cGUiOiAidmVydGV4IiwgInByb3BzIjogeyJzaXplIjogMTYuOTE1MjA0Njc4MzYyNTc0fX0K');</script>\n",
       "    "
      ],
      "text/plain": [
       "<IPython.core.display.HTML object>"
      ]
     },
     "metadata": {},
     "output_type": "display_data"
    },
    {
     "data": {
      "text/html": [
       "\n",
       "        <div id=\"6DvxKwHDyUPPG9Y4DxCpud\"></div>\n",
       "        <script>netpixi.call('6DvxKwHDyUPPG9Y4DxCpud', 'dXk3a4tqEjFijUrzxfv563', 'changeGraph', 'eyJpZCI6IDYzNCwgInR5cGUiOiAidmVydGV4IiwgInByb3BzIjogeyJzaXplIjogMTYuNTQ5NzA3NjAyMzM5MTgzfX0K');</script>\n",
       "    "
      ],
      "text/plain": [
       "<IPython.core.display.HTML object>"
      ]
     },
     "metadata": {},
     "output_type": "display_data"
    },
    {
     "data": {
      "text/html": [
       "\n",
       "        <div id=\"j6FqWNjvJfeNCYPr799HXB\"></div>\n",
       "        <script>netpixi.call('j6FqWNjvJfeNCYPr799HXB', 'dXk3a4tqEjFijUrzxfv563', 'changeGraph', 'eyJpZCI6IDYzNSwgInR5cGUiOiAidmVydGV4IiwgInByb3BzIjogeyJzaXplIjogMTMuMDU1NTU1NTU1NTU1NTU1fX0K');</script>\n",
       "    "
      ],
      "text/plain": [
       "<IPython.core.display.HTML object>"
      ]
     },
     "metadata": {},
     "output_type": "display_data"
    },
    {
     "data": {
      "text/html": [
       "\n",
       "        <div id=\"B4z8woLQLUaVNTMvwuPL6U\"></div>\n",
       "        <script>netpixi.call('B4z8woLQLUaVNTMvwuPL6U', 'dXk3a4tqEjFijUrzxfv563', 'changeGraph', 'eyJpZCI6IDYzNiwgInR5cGUiOiAidmVydGV4IiwgInByb3BzIjogeyJzaXplIjogMTIuNjYwODE4NzEzNDUwMjkzfX0K');</script>\n",
       "    "
      ],
      "text/plain": [
       "<IPython.core.display.HTML object>"
      ]
     },
     "metadata": {},
     "output_type": "display_data"
    },
    {
     "data": {
      "text/html": [
       "\n",
       "        <div id=\"L2tghAoKRWZsHdJPoPaDYr\"></div>\n",
       "        <script>netpixi.call('L2tghAoKRWZsHdJPoPaDYr', 'dXk3a4tqEjFijUrzxfv563', 'changeGraph', 'eyJpZCI6IDYzNywgInR5cGUiOiAidmVydGV4IiwgInByb3BzIjogeyJzaXplIjogMTAuMjMzOTE4MTI4NjU0OTd9fQo=');</script>\n",
       "    "
      ],
      "text/plain": [
       "<IPython.core.display.HTML object>"
      ]
     },
     "metadata": {},
     "output_type": "display_data"
    },
    {
     "data": {
      "text/html": [
       "\n",
       "        <div id=\"HQtseqNyS8sEEoCagdWUbP\"></div>\n",
       "        <script>netpixi.call('HQtseqNyS8sEEoCagdWUbP', 'dXk3a4tqEjFijUrzxfv563', 'changeGraph', 'eyJpZCI6IDYzOCwgInR5cGUiOiAidmVydGV4IiwgInByb3BzIjogeyJzaXplIjogMTQuMTUyMDQ2NzgzNjI1NzMyfX0K');</script>\n",
       "    "
      ],
      "text/plain": [
       "<IPython.core.display.HTML object>"
      ]
     },
     "metadata": {},
     "output_type": "display_data"
    },
    {
     "data": {
      "text/html": [
       "\n",
       "        <div id=\"VU9zhN9fH2fBy34hQrRncx\"></div>\n",
       "        <script>netpixi.call('VU9zhN9fH2fBy34hQrRncx', 'dXk3a4tqEjFijUrzxfv563', 'changeGraph', 'eyJpZCI6IDYzOSwgInR5cGUiOiAidmVydGV4IiwgInByb3BzIjogeyJzaXplIjogMTQuOTI2OTAwNTg0Nzk1MzIxfX0K');</script>\n",
       "    "
      ],
      "text/plain": [
       "<IPython.core.display.HTML object>"
      ]
     },
     "metadata": {},
     "output_type": "display_data"
    },
    {
     "data": {
      "text/html": [
       "\n",
       "        <div id=\"8GfAS344eb6edZvLZn9cTa\"></div>\n",
       "        <script>netpixi.call('8GfAS344eb6edZvLZn9cTa', 'dXk3a4tqEjFijUrzxfv563', 'changeGraph', 'eyJpZCI6IDY0MCwgInR5cGUiOiAidmVydGV4IiwgInByb3BzIjogeyJzaXplIjogMTMuNjU0OTcwNzYwMjMzOTE3fX0K');</script>\n",
       "    "
      ],
      "text/plain": [
       "<IPython.core.display.HTML object>"
      ]
     },
     "metadata": {},
     "output_type": "display_data"
    },
    {
     "data": {
      "text/html": [
       "\n",
       "        <div id=\"m9L5FNWw6xGNnmHDdEwZWj\"></div>\n",
       "        <script>netpixi.call('m9L5FNWw6xGNnmHDdEwZWj', 'dXk3a4tqEjFijUrzxfv563', 'changeGraph', 'eyJpZCI6IDY0MSwgInR5cGUiOiAidmVydGV4IiwgInByb3BzIjogeyJzaXplIjogMTIuNjMxNTc4OTQ3MzY4NDIxfX0K');</script>\n",
       "    "
      ],
      "text/plain": [
       "<IPython.core.display.HTML object>"
      ]
     },
     "metadata": {},
     "output_type": "display_data"
    },
    {
     "data": {
      "text/html": [
       "\n",
       "        <div id=\"8UvHdbZWcyuQU5ATdrSRNu\"></div>\n",
       "        <script>netpixi.call('8UvHdbZWcyuQU5ATdrSRNu', 'dXk3a4tqEjFijUrzxfv563', 'changeGraph', 'eyJpZCI6IDY0MiwgInR5cGUiOiAidmVydGV4IiwgInByb3BzIjogeyJzaXplIjogMTIuODM2MjU3MzA5OTQxNTJ9fQo=');</script>\n",
       "    "
      ],
      "text/plain": [
       "<IPython.core.display.HTML object>"
      ]
     },
     "metadata": {},
     "output_type": "display_data"
    },
    {
     "data": {
      "text/html": [
       "\n",
       "        <div id=\"dBQV75fcZWRAeUfaDZm4uC\"></div>\n",
       "        <script>netpixi.call('dBQV75fcZWRAeUfaDZm4uC', 'dXk3a4tqEjFijUrzxfv563', 'changeGraph', 'eyJpZCI6IDY0MywgInR5cGUiOiAidmVydGV4IiwgInByb3BzIjogeyJzaXplIjogMTYuMjEzNDUwMjkyMzk3NjZ9fQo=');</script>\n",
       "    "
      ],
      "text/plain": [
       "<IPython.core.display.HTML object>"
      ]
     },
     "metadata": {},
     "output_type": "display_data"
    },
    {
     "data": {
      "text/html": [
       "\n",
       "        <div id=\"9uwrqDJVfoYrF9yEruQ7TE\"></div>\n",
       "        <script>netpixi.call('9uwrqDJVfoYrF9yEruQ7TE', 'dXk3a4tqEjFijUrzxfv563', 'changeGraph', 'eyJpZCI6IDY0NCwgInR5cGUiOiAidmVydGV4IiwgInByb3BzIjogeyJzaXplIjogMTMuNjQwMzUwODc3MTkyOTgzfX0K');</script>\n",
       "    "
      ],
      "text/plain": [
       "<IPython.core.display.HTML object>"
      ]
     },
     "metadata": {},
     "output_type": "display_data"
    },
    {
     "data": {
      "text/html": [
       "\n",
       "        <div id=\"TuSNZ6QnFMFrmpMqtLajkw\"></div>\n",
       "        <script>netpixi.call('TuSNZ6QnFMFrmpMqtLajkw', 'dXk3a4tqEjFijUrzxfv563', 'changeGraph', 'eyJpZCI6IDY0NSwgInR5cGUiOiAidmVydGV4IiwgInByb3BzIjogeyJzaXplIjogMTMuNTM4MDExNjk1OTA2NDMyfX0K');</script>\n",
       "    "
      ],
      "text/plain": [
       "<IPython.core.display.HTML object>"
      ]
     },
     "metadata": {},
     "output_type": "display_data"
    },
    {
     "data": {
      "text/html": [
       "\n",
       "        <div id=\"H2DCbUTsL9z6jFE2yfkgHF\"></div>\n",
       "        <script>netpixi.call('H2DCbUTsL9z6jFE2yfkgHF', 'dXk3a4tqEjFijUrzxfv563', 'changeGraph', 'eyJpZCI6IDY0NiwgInR5cGUiOiAidmVydGV4IiwgInByb3BzIjogeyJzaXplIjogMTMuNzEzNDUwMjkyMzk3NjZ9fQo=');</script>\n",
       "    "
      ],
      "text/plain": [
       "<IPython.core.display.HTML object>"
      ]
     },
     "metadata": {},
     "output_type": "display_data"
    },
    {
     "data": {
      "text/html": [
       "\n",
       "        <div id=\"EA6WieDaWehX5Jpigu2BoZ\"></div>\n",
       "        <script>netpixi.call('EA6WieDaWehX5Jpigu2BoZ', 'dXk3a4tqEjFijUrzxfv563', 'changeGraph', 'eyJpZCI6IDY0NywgInR5cGUiOiAidmVydGV4IiwgInByb3BzIjogeyJzaXplIjogMTQuMDM1MDg3NzE5Mjk4MjQ3fX0K');</script>\n",
       "    "
      ],
      "text/plain": [
       "<IPython.core.display.HTML object>"
      ]
     },
     "metadata": {},
     "output_type": "display_data"
    },
    {
     "data": {
      "text/html": [
       "\n",
       "        <div id=\"LTVc6SAnA769B5v5nC922B\"></div>\n",
       "        <script>netpixi.call('LTVc6SAnA769B5v5nC922B', 'dXk3a4tqEjFijUrzxfv563', 'changeGraph', 'eyJpZCI6IDY0OCwgInR5cGUiOiAidmVydGV4IiwgInByb3BzIjogeyJzaXplIjogMTEuOTI5ODI0NTYxNDAzNTA5fX0K');</script>\n",
       "    "
      ],
      "text/plain": [
       "<IPython.core.display.HTML object>"
      ]
     },
     "metadata": {},
     "output_type": "display_data"
    },
    {
     "data": {
      "text/html": [
       "\n",
       "        <div id=\"dRHSMHco4qNWZDPzDrK6W6\"></div>\n",
       "        <script>netpixi.call('dRHSMHco4qNWZDPzDrK6W6', 'dXk3a4tqEjFijUrzxfv563', 'changeGraph', 'eyJpZCI6IDY0OSwgInR5cGUiOiAidmVydGV4IiwgInByb3BzIjogeyJzaXplIjogMTQuMTgxMjg2NTQ5NzA3NjAyfX0K');</script>\n",
       "    "
      ],
      "text/plain": [
       "<IPython.core.display.HTML object>"
      ]
     },
     "metadata": {},
     "output_type": "display_data"
    },
    {
     "data": {
      "text/html": [
       "\n",
       "        <div id=\"MfReaqRwtU86tNM4r4Ln4r\"></div>\n",
       "        <script>netpixi.call('MfReaqRwtU86tNM4r4Ln4r', 'dXk3a4tqEjFijUrzxfv563', 'changeGraph', 'eyJpZCI6IDY1MCwgInR5cGUiOiAidmVydGV4IiwgInByb3BzIjogeyJzaXplIjogMTIuODk0NzM2ODQyMTA1MjY0fX0K');</script>\n",
       "    "
      ],
      "text/plain": [
       "<IPython.core.display.HTML object>"
      ]
     },
     "metadata": {},
     "output_type": "display_data"
    },
    {
     "data": {
      "text/html": [
       "\n",
       "        <div id=\"MxohX8UQCUETkPdZbpfQoA\"></div>\n",
       "        <script>netpixi.call('MxohX8UQCUETkPdZbpfQoA', 'dXk3a4tqEjFijUrzxfv563', 'changeGraph', 'eyJpZCI6IDY1MSwgInR5cGUiOiAidmVydGV4IiwgInByb3BzIjogeyJzaXplIjogMTQuNzgwNzAxNzU0Mzg1OTY2fX0K');</script>\n",
       "    "
      ],
      "text/plain": [
       "<IPython.core.display.HTML object>"
      ]
     },
     "metadata": {},
     "output_type": "display_data"
    },
    {
     "data": {
      "text/html": [
       "\n",
       "        <div id=\"e8xiWk28eXgXtXg8MjCiLJ\"></div>\n",
       "        <script>netpixi.call('e8xiWk28eXgXtXg8MjCiLJ', 'dXk3a4tqEjFijUrzxfv563', 'changeGraph', 'eyJpZCI6IDY1MiwgInR5cGUiOiAidmVydGV4IiwgInByb3BzIjogeyJzaXplIjogMTMuMDI2MzE1Nzg5NDczNjg1fX0K');</script>\n",
       "    "
      ],
      "text/plain": [
       "<IPython.core.display.HTML object>"
      ]
     },
     "metadata": {},
     "output_type": "display_data"
    },
    {
     "data": {
      "text/html": [
       "\n",
       "        <div id=\"TMK5A9pveoaTSdZa2tghiZ\"></div>\n",
       "        <script>netpixi.call('TMK5A9pveoaTSdZa2tghiZ', 'dXk3a4tqEjFijUrzxfv563', 'changeGraph', 'eyJpZCI6IDY1MywgInR5cGUiOiAidmVydGV4IiwgInByb3BzIjogeyJzaXplIjogMTIuMDMyMTYzNzQyNjkwMDZ9fQo=');</script>\n",
       "    "
      ],
      "text/plain": [
       "<IPython.core.display.HTML object>"
      ]
     },
     "metadata": {},
     "output_type": "display_data"
    },
    {
     "data": {
      "text/html": [
       "\n",
       "        <div id=\"MU5H9689QVemVgHu5XZUTP\"></div>\n",
       "        <script>netpixi.call('MU5H9689QVemVgHu5XZUTP', 'dXk3a4tqEjFijUrzxfv563', 'changeGraph', 'eyJpZCI6IDY1NCwgInR5cGUiOiAidmVydGV4IiwgInByb3BzIjogeyJzaXplIjogMTYuMDY3MjUxNDYxOTg4MzAyfX0K');</script>\n",
       "    "
      ],
      "text/plain": [
       "<IPython.core.display.HTML object>"
      ]
     },
     "metadata": {},
     "output_type": "display_data"
    },
    {
     "data": {
      "text/html": [
       "\n",
       "        <div id=\"hqQafZXL3DU9jvF5PYAxJ2\"></div>\n",
       "        <script>netpixi.call('hqQafZXL3DU9jvF5PYAxJ2', 'dXk3a4tqEjFijUrzxfv563', 'changeGraph', 'eyJpZCI6IDY1NSwgInR5cGUiOiAidmVydGV4IiwgInByb3BzIjogeyJzaXplIjogMTUuMTkwMDU4NDc5NTMyMTY0fX0K');</script>\n",
       "    "
      ],
      "text/plain": [
       "<IPython.core.display.HTML object>"
      ]
     },
     "metadata": {},
     "output_type": "display_data"
    },
    {
     "data": {
      "text/html": [
       "\n",
       "        <div id=\"6SNEgdJKvsaAFvM7yb8MVB\"></div>\n",
       "        <script>netpixi.call('6SNEgdJKvsaAFvM7yb8MVB', 'dXk3a4tqEjFijUrzxfv563', 'changeGraph', 'eyJpZCI6IDY1NiwgInR5cGUiOiAidmVydGV4IiwgInByb3BzIjogeyJzaXplIjogMTUuNDIzOTc2NjA4MTg3MTM0fX0K');</script>\n",
       "    "
      ],
      "text/plain": [
       "<IPython.core.display.HTML object>"
      ]
     },
     "metadata": {},
     "output_type": "display_data"
    },
    {
     "data": {
      "text/html": [
       "\n",
       "        <div id=\"3Yfj4wtj68HzEdJh4xAT98\"></div>\n",
       "        <script>netpixi.call('3Yfj4wtj68HzEdJh4xAT98', 'dXk3a4tqEjFijUrzxfv563', 'changeGraph', 'eyJpZCI6IDY1NywgInR5cGUiOiAidmVydGV4IiwgInByb3BzIjogeyJzaXplIjogMTQuOTg1MzgwMTE2OTU5MDY0fX0K');</script>\n",
       "    "
      ],
      "text/plain": [
       "<IPython.core.display.HTML object>"
      ]
     },
     "metadata": {},
     "output_type": "display_data"
    },
    {
     "data": {
      "text/html": [
       "\n",
       "        <div id=\"XVXghsGwGVXyBz8TEHqSJ3\"></div>\n",
       "        <script>netpixi.call('XVXghsGwGVXyBz8TEHqSJ3', 'dXk3a4tqEjFijUrzxfv563', 'changeGraph', 'eyJpZCI6IDY1OCwgInR5cGUiOiAidmVydGV4IiwgInByb3BzIjogeyJzaXplIjogMTMuMDk5NDE1MjA0Njc4MzYyfX0K');</script>\n",
       "    "
      ],
      "text/plain": [
       "<IPython.core.display.HTML object>"
      ]
     },
     "metadata": {},
     "output_type": "display_data"
    },
    {
     "data": {
      "text/html": [
       "\n",
       "        <div id=\"R2RhsSnxvqUVPoVUNnQZfu\"></div>\n",
       "        <script>netpixi.call('R2RhsSnxvqUVPoVUNnQZfu', 'dXk3a4tqEjFijUrzxfv563', 'changeGraph', 'eyJpZCI6IDY1OSwgInR5cGUiOiAidmVydGV4IiwgInByb3BzIjogeyJzaXplIjogMTAuNzQ1NjE0MDM1MDg3NzJ9fQo=');</script>\n",
       "    "
      ],
      "text/plain": [
       "<IPython.core.display.HTML object>"
      ]
     },
     "metadata": {},
     "output_type": "display_data"
    },
    {
     "data": {
      "text/html": [
       "\n",
       "        <div id=\"VNu4Bytykrr3VdpQvD8nfH\"></div>\n",
       "        <script>netpixi.call('VNu4Bytykrr3VdpQvD8nfH', 'dXk3a4tqEjFijUrzxfv563', 'changeGraph', 'eyJpZCI6IDY2MCwgInR5cGUiOiAidmVydGV4IiwgInByb3BzIjogeyJzaXplIjogMTUuNjQzMjc0ODUzODAxMTd9fQo=');</script>\n",
       "    "
      ],
      "text/plain": [
       "<IPython.core.display.HTML object>"
      ]
     },
     "metadata": {},
     "output_type": "display_data"
    },
    {
     "data": {
      "text/html": [
       "\n",
       "        <div id=\"jcFV6xrhbhgLv5AkVD9aJ4\"></div>\n",
       "        <script>netpixi.call('jcFV6xrhbhgLv5AkVD9aJ4', 'dXk3a4tqEjFijUrzxfv563', 'changeGraph', 'eyJpZCI6IDY2MSwgInR5cGUiOiAidmVydGV4IiwgInByb3BzIjogeyJzaXplIjogMTMuMTQzMjc0ODUzODAxMTd9fQo=');</script>\n",
       "    "
      ],
      "text/plain": [
       "<IPython.core.display.HTML object>"
      ]
     },
     "metadata": {},
     "output_type": "display_data"
    },
    {
     "data": {
      "text/html": [
       "\n",
       "        <div id=\"gFSkHDuXD6f4bEUijt5FJh\"></div>\n",
       "        <script>netpixi.call('gFSkHDuXD6f4bEUijt5FJh', 'dXk3a4tqEjFijUrzxfv563', 'changeGraph', 'eyJpZCI6IDY2MiwgInR5cGUiOiAidmVydGV4IiwgInByb3BzIjogeyJzaXplIjogMTMuNTA4NzcxOTI5ODI0NTYyfX0K');</script>\n",
       "    "
      ],
      "text/plain": [
       "<IPython.core.display.HTML object>"
      ]
     },
     "metadata": {},
     "output_type": "display_data"
    },
    {
     "data": {
      "text/html": [
       "\n",
       "        <div id=\"iXXCdfJdaXmP6c62dcUJL2\"></div>\n",
       "        <script>netpixi.call('iXXCdfJdaXmP6c62dcUJL2', 'dXk3a4tqEjFijUrzxfv563', 'changeGraph', 'eyJpZCI6IDY2MywgInR5cGUiOiAidmVydGV4IiwgInByb3BzIjogeyJzaXplIjogMTIuNjE2OTU5MDY0MzI3NDg1fX0K');</script>\n",
       "    "
      ],
      "text/plain": [
       "<IPython.core.display.HTML object>"
      ]
     },
     "metadata": {},
     "output_type": "display_data"
    },
    {
     "data": {
      "text/html": [
       "\n",
       "        <div id=\"banrsSugCS9XmcMzXW7UeT\"></div>\n",
       "        <script>netpixi.call('banrsSugCS9XmcMzXW7UeT', 'dXk3a4tqEjFijUrzxfv563', 'changeGraph', 'eyJpZCI6IDY2NCwgInR5cGUiOiAidmVydGV4IiwgInByb3BzIjogeyJzaXplIjogMTEuMTk4ODMwNDA5MzU2NzI1fX0K');</script>\n",
       "    "
      ],
      "text/plain": [
       "<IPython.core.display.HTML object>"
      ]
     },
     "metadata": {},
     "output_type": "display_data"
    },
    {
     "data": {
      "text/html": [
       "\n",
       "        <div id=\"MzfBphtecLwrDZWFsrSxGp\"></div>\n",
       "        <script>netpixi.call('MzfBphtecLwrDZWFsrSxGp', 'dXk3a4tqEjFijUrzxfv563', 'changeGraph', 'eyJpZCI6IDY2NSwgInR5cGUiOiAidmVydGV4IiwgInByb3BzIjogeyJzaXplIjogMTIuNzE5Mjk4MjQ1NjE0MDM0fX0K');</script>\n",
       "    "
      ],
      "text/plain": [
       "<IPython.core.display.HTML object>"
      ]
     },
     "metadata": {},
     "output_type": "display_data"
    },
    {
     "data": {
      "text/html": [
       "\n",
       "        <div id=\"44MuMThJD2kYPtLghisWsP\"></div>\n",
       "        <script>netpixi.call('44MuMThJD2kYPtLghisWsP', 'dXk3a4tqEjFijUrzxfv563', 'changeGraph', 'eyJpZCI6IDY2NiwgInR5cGUiOiAidmVydGV4IiwgInByb3BzIjogeyJzaXplIjogMTEuMjI4MDcwMTc1NDM4NTk2fX0K');</script>\n",
       "    "
      ],
      "text/plain": [
       "<IPython.core.display.HTML object>"
      ]
     },
     "metadata": {},
     "output_type": "display_data"
    },
    {
     "data": {
      "text/html": [
       "\n",
       "        <div id=\"LqViWv52eRagzWd7C5oboq\"></div>\n",
       "        <script>netpixi.call('LqViWv52eRagzWd7C5oboq', 'dXk3a4tqEjFijUrzxfv563', 'changeGraph', 'eyJpZCI6IDY2NywgInR5cGUiOiAidmVydGV4IiwgInByb3BzIjogeyJzaXplIjogMTEuNDkxMjI4MDcwMTc1NDM4fX0K');</script>\n",
       "    "
      ],
      "text/plain": [
       "<IPython.core.display.HTML object>"
      ]
     },
     "metadata": {},
     "output_type": "display_data"
    },
    {
     "data": {
      "text/html": [
       "\n",
       "        <div id=\"asTmNTrAXCBmNMnM59wYXJ\"></div>\n",
       "        <script>netpixi.call('asTmNTrAXCBmNMnM59wYXJ', 'dXk3a4tqEjFijUrzxfv563', 'changeGraph', 'eyJpZCI6IDY2OCwgInR5cGUiOiAidmVydGV4IiwgInByb3BzIjogeyJzaXplIjogMTAuMjQ4NTM4MDExNjk1OTA2fX0K');</script>\n",
       "    "
      ],
      "text/plain": [
       "<IPython.core.display.HTML object>"
      ]
     },
     "metadata": {},
     "output_type": "display_data"
    },
    {
     "data": {
      "text/html": [
       "\n",
       "        <div id=\"WDjjc3hdx5fGmAcgXJWcQP\"></div>\n",
       "        <script>netpixi.call('WDjjc3hdx5fGmAcgXJWcQP', 'dXk3a4tqEjFijUrzxfv563', 'changeGraph', 'eyJpZCI6IDY2OSwgInR5cGUiOiAidmVydGV4IiwgInByb3BzIjogeyJzaXplIjogMTEuNDE4MTI4NjU0OTcwNzZ9fQo=');</script>\n",
       "    "
      ],
      "text/plain": [
       "<IPython.core.display.HTML object>"
      ]
     },
     "metadata": {},
     "output_type": "display_data"
    },
    {
     "data": {
      "text/html": [
       "\n",
       "        <div id=\"ZBgA64KaSjpivBT6tEyfj9\"></div>\n",
       "        <script>netpixi.call('ZBgA64KaSjpivBT6tEyfj9', 'dXk3a4tqEjFijUrzxfv563', 'changeGraph', 'eyJpZCI6IDY3MCwgInR5cGUiOiAidmVydGV4IiwgInByb3BzIjogeyJzaXplIjogMTAuNTg0Nzk1MzIxNjM3NDI4fX0K');</script>\n",
       "    "
      ],
      "text/plain": [
       "<IPython.core.display.HTML object>"
      ]
     },
     "metadata": {},
     "output_type": "display_data"
    },
    {
     "data": {
      "text/html": [
       "\n",
       "        <div id=\"DxHNd75WFD2fhpNw8yXFU7\"></div>\n",
       "        <script>netpixi.call('DxHNd75WFD2fhpNw8yXFU7', 'dXk3a4tqEjFijUrzxfv563', 'changeGraph', 'eyJpZCI6IDY3MSwgInR5cGUiOiAidmVydGV4IiwgInByb3BzIjogeyJzaXplIjogMTQuNjQ5MTIyODA3MDE3NTQ1fX0K');</script>\n",
       "    "
      ],
      "text/plain": [
       "<IPython.core.display.HTML object>"
      ]
     },
     "metadata": {},
     "output_type": "display_data"
    },
    {
     "data": {
      "text/html": [
       "\n",
       "        <div id=\"fsu87iGoZfotaB7QnMxLXM\"></div>\n",
       "        <script>netpixi.call('fsu87iGoZfotaB7QnMxLXM', 'dXk3a4tqEjFijUrzxfv563', 'changeGraph', 'eyJpZCI6IDY3MiwgInR5cGUiOiAidmVydGV4IiwgInByb3BzIjogeyJzaXplIjogMTEuNTIwNDY3ODM2MjU3MzF9fQo=');</script>\n",
       "    "
      ],
      "text/plain": [
       "<IPython.core.display.HTML object>"
      ]
     },
     "metadata": {},
     "output_type": "display_data"
    },
    {
     "data": {
      "text/html": [
       "\n",
       "        <div id=\"ct6UQ4zBaVswp2HieMuijW\"></div>\n",
       "        <script>netpixi.call('ct6UQ4zBaVswp2HieMuijW', 'dXk3a4tqEjFijUrzxfv563', 'changeGraph', 'eyJpZCI6IDY3MywgInR5cGUiOiAidmVydGV4IiwgInByb3BzIjogeyJzaXplIjogMTMuNDM1NjcyNTE0NjE5ODgzfX0K');</script>\n",
       "    "
      ],
      "text/plain": [
       "<IPython.core.display.HTML object>"
      ]
     },
     "metadata": {},
     "output_type": "display_data"
    },
    {
     "data": {
      "text/html": [
       "\n",
       "        <div id=\"KZqh2Xhxmz88xa5E74z5uj\"></div>\n",
       "        <script>netpixi.call('KZqh2Xhxmz88xa5E74z5uj', 'dXk3a4tqEjFijUrzxfv563', 'changeGraph', 'eyJpZCI6IDY3NCwgInR5cGUiOiAidmVydGV4IiwgInByb3BzIjogeyJzaXplIjogMTIuMjgwNzAxNzU0Mzg1OTY2fX0K');</script>\n",
       "    "
      ],
      "text/plain": [
       "<IPython.core.display.HTML object>"
      ]
     },
     "metadata": {},
     "output_type": "display_data"
    },
    {
     "data": {
      "text/html": [
       "\n",
       "        <div id=\"YGMAhLHSXSNd6NfUytHgbr\"></div>\n",
       "        <script>netpixi.call('YGMAhLHSXSNd6NfUytHgbr', 'dXk3a4tqEjFijUrzxfv563', 'changeGraph', 'eyJpZCI6IDY3NSwgInR5cGUiOiAidmVydGV4IiwgInByb3BzIjogeyJzaXplIjogMTEuMzg4ODg4ODg4ODg4ODl9fQo=');</script>\n",
       "    "
      ],
      "text/plain": [
       "<IPython.core.display.HTML object>"
      ]
     },
     "metadata": {},
     "output_type": "display_data"
    },
    {
     "data": {
      "text/html": [
       "\n",
       "        <div id=\"nPh8ETYc2sH4nNt98u7oU6\"></div>\n",
       "        <script>netpixi.call('nPh8ETYc2sH4nNt98u7oU6', 'dXk3a4tqEjFijUrzxfv563', 'changeGraph', 'eyJpZCI6IDY3NiwgInR5cGUiOiAidmVydGV4IiwgInByb3BzIjogeyJzaXplIjogMTMuOTAzNTA4NzcxOTI5ODI1fX0K');</script>\n",
       "    "
      ],
      "text/plain": [
       "<IPython.core.display.HTML object>"
      ]
     },
     "metadata": {},
     "output_type": "display_data"
    },
    {
     "data": {
      "text/html": [
       "\n",
       "        <div id=\"JA3Cj8qF9kKb4Fn6hWSmHh\"></div>\n",
       "        <script>netpixi.call('JA3Cj8qF9kKb4Fn6hWSmHh', 'dXk3a4tqEjFijUrzxfv563', 'changeGraph', 'eyJpZCI6IDY3NywgInR5cGUiOiAidmVydGV4IiwgInByb3BzIjogeyJzaXplIjogMTAuMjc3Nzc3Nzc3Nzc3Nzc5fX0K');</script>\n",
       "    "
      ],
      "text/plain": [
       "<IPython.core.display.HTML object>"
      ]
     },
     "metadata": {},
     "output_type": "display_data"
    },
    {
     "data": {
      "text/html": [
       "\n",
       "        <div id=\"oYfHNkB6PzDJ5gxDPo9XBs\"></div>\n",
       "        <script>netpixi.call('oYfHNkB6PzDJ5gxDPo9XBs', 'dXk3a4tqEjFijUrzxfv563', 'changeGraph', 'eyJpZCI6IDY3OCwgInR5cGUiOiAidmVydGV4IiwgInByb3BzIjogeyJzaXplIjogMTEuMTExMTExMTExMTExMTF9fQo=');</script>\n",
       "    "
      ],
      "text/plain": [
       "<IPython.core.display.HTML object>"
      ]
     },
     "metadata": {},
     "output_type": "display_data"
    },
    {
     "data": {
      "text/html": [
       "\n",
       "        <div id=\"Tp2vmGHjxTySUNcGM5idNR\"></div>\n",
       "        <script>netpixi.call('Tp2vmGHjxTySUNcGM5idNR', 'dXk3a4tqEjFijUrzxfv563', 'changeGraph', 'eyJpZCI6IDY3OSwgInR5cGUiOiAidmVydGV4IiwgInByb3BzIjogeyJzaXplIjogMTMuNzU3MzA5OTQxNTIwNDY4fX0K');</script>\n",
       "    "
      ],
      "text/plain": [
       "<IPython.core.display.HTML object>"
      ]
     },
     "metadata": {},
     "output_type": "display_data"
    },
    {
     "data": {
      "text/html": [
       "\n",
       "        <div id=\"84Ltx8nDBzBfNParMFmedu\"></div>\n",
       "        <script>netpixi.call('84Ltx8nDBzBfNParMFmedu', 'dXk3a4tqEjFijUrzxfv563', 'changeGraph', 'eyJpZCI6IDY4MCwgInR5cGUiOiAidmVydGV4IiwgInByb3BzIjogeyJzaXplIjogMTAuMTYwODE4NzEzNDUwMjkyfX0K');</script>\n",
       "    "
      ],
      "text/plain": [
       "<IPython.core.display.HTML object>"
      ]
     },
     "metadata": {},
     "output_type": "display_data"
    },
    {
     "data": {
      "text/html": [
       "\n",
       "        <div id=\"jMoKhvsyYSRDeLi9BvV8Br\"></div>\n",
       "        <script>netpixi.call('jMoKhvsyYSRDeLi9BvV8Br', 'dXk3a4tqEjFijUrzxfv563', 'changeGraph', 'eyJpZCI6IDY4MSwgInR5cGUiOiAidmVydGV4IiwgInByb3BzIjogeyJzaXplIjogMTAuMDI5MjM5NzY2MDgxODcyfX0K');</script>\n",
       "    "
      ],
      "text/plain": [
       "<IPython.core.display.HTML object>"
      ]
     },
     "metadata": {},
     "output_type": "display_data"
    },
    {
     "data": {
      "text/html": [
       "\n",
       "        <div id=\"k3XpWbDTJQYNGY8RJCXKpi\"></div>\n",
       "        <script>netpixi.call('k3XpWbDTJQYNGY8RJCXKpi', 'dXk3a4tqEjFijUrzxfv563', 'changeGraph', 'eyJpZCI6IDY4MiwgInR5cGUiOiAidmVydGV4IiwgInByb3BzIjogeyJzaXplIjogMTAuMTMxNTc4OTQ3MzY4NDIxfX0K');</script>\n",
       "    "
      ],
      "text/plain": [
       "<IPython.core.display.HTML object>"
      ]
     },
     "metadata": {},
     "output_type": "display_data"
    },
    {
     "data": {
      "text/html": [
       "\n",
       "        <div id=\"H73YsRU9i5S9ghMoFrdk5f\"></div>\n",
       "        <script>netpixi.call('H73YsRU9i5S9ghMoFrdk5f', 'dXk3a4tqEjFijUrzxfv563', 'changeGraph', 'eyJpZCI6IDY4MywgInR5cGUiOiAidmVydGV4IiwgInByb3BzIjogeyJzaXplIjogMTEuODQyMTA1MjYzMTU3ODk0fX0K');</script>\n",
       "    "
      ],
      "text/plain": [
       "<IPython.core.display.HTML object>"
      ]
     },
     "metadata": {},
     "output_type": "display_data"
    },
    {
     "data": {
      "text/html": [
       "\n",
       "        <div id=\"6UbFMiiL3XL6AZJBFurDSQ\"></div>\n",
       "        <script>netpixi.call('6UbFMiiL3XL6AZJBFurDSQ', 'dXk3a4tqEjFijUrzxfv563', 'changeGraph', 'eyJpZCI6IDY4NCwgInR5cGUiOiAidmVydGV4IiwgInByb3BzIjogeyJzaXplIjogMTEuMDM4MDExNjk1OTA2NDMyfX0K');</script>\n",
       "    "
      ],
      "text/plain": [
       "<IPython.core.display.HTML object>"
      ]
     },
     "metadata": {},
     "output_type": "display_data"
    },
    {
     "data": {
      "text/html": [
       "\n",
       "        <div id=\"NRKVsAU3AiBMxVq74uYZFr\"></div>\n",
       "        <script>netpixi.call('NRKVsAU3AiBMxVq74uYZFr', 'dXk3a4tqEjFijUrzxfv563', 'changeGraph', 'eyJpZCI6IDY4NSwgInR5cGUiOiAidmVydGV4IiwgInByb3BzIjogeyJzaXplIjogMTEuMDk2NDkxMjI4MDcwMTc1fX0K');</script>\n",
       "    "
      ],
      "text/plain": [
       "<IPython.core.display.HTML object>"
      ]
     },
     "metadata": {},
     "output_type": "display_data"
    },
    {
     "data": {
      "text/html": [
       "\n",
       "        <div id=\"5A3RaWe52rEM8LMdAWMsV9\"></div>\n",
       "        <script>netpixi.call('5A3RaWe52rEM8LMdAWMsV9', 'dXk3a4tqEjFijUrzxfv563', 'changeGraph', 'eyJpZCI6IDY4NiwgInR5cGUiOiAidmVydGV4IiwgInByb3BzIjogeyJzaXplIjogMTUuMjMzOTE4MTI4NjU0OTd9fQo=');</script>\n",
       "    "
      ],
      "text/plain": [
       "<IPython.core.display.HTML object>"
      ]
     },
     "metadata": {},
     "output_type": "display_data"
    },
    {
     "data": {
      "text/html": [
       "\n",
       "        <div id=\"iiRt3YymBt2GgQgKvhgAmf\"></div>\n",
       "        <script>netpixi.call('iiRt3YymBt2GgQgKvhgAmf', 'dXk3a4tqEjFijUrzxfv563', 'changeGraph', 'eyJpZCI6IDY4NywgInR5cGUiOiAidmVydGV4IiwgInByb3BzIjogeyJzaXplIjogMTkuNDczNjg0MjEwNTI2MzE1fX0K');</script>\n",
       "    "
      ],
      "text/plain": [
       "<IPython.core.display.HTML object>"
      ]
     },
     "metadata": {},
     "output_type": "display_data"
    },
    {
     "data": {
      "text/html": [
       "\n",
       "        <div id=\"YzPAxaFgkt6gLxdSgfwdh2\"></div>\n",
       "        <script>netpixi.call('YzPAxaFgkt6gLxdSgfwdh2', 'dXk3a4tqEjFijUrzxfv563', 'changeGraph', 'eyJpZCI6IDY4OCwgInR5cGUiOiAidmVydGV4IiwgInByb3BzIjogeyJzaXplIjogMTIuMzI0NTYxNDAzNTA4NzcyfX0K');</script>\n",
       "    "
      ],
      "text/plain": [
       "<IPython.core.display.HTML object>"
      ]
     },
     "metadata": {},
     "output_type": "display_data"
    },
    {
     "data": {
      "text/html": [
       "\n",
       "        <div id=\"CSYVGKYTPUCbwHnrsyzujf\"></div>\n",
       "        <script>netpixi.call('CSYVGKYTPUCbwHnrsyzujf', 'dXk3a4tqEjFijUrzxfv563', 'changeGraph', 'eyJpZCI6IDY4OSwgInR5cGUiOiAidmVydGV4IiwgInByb3BzIjogeyJzaXplIjogMTIuMzk3NjYwODE4NzEzNDUxfX0K');</script>\n",
       "    "
      ],
      "text/plain": [
       "<IPython.core.display.HTML object>"
      ]
     },
     "metadata": {},
     "output_type": "display_data"
    },
    {
     "data": {
      "text/html": [
       "\n",
       "        <div id=\"QRqcRBYBkQnzY7EPyYyuqc\"></div>\n",
       "        <script>netpixi.call('QRqcRBYBkQnzY7EPyYyuqc', 'dXk3a4tqEjFijUrzxfv563', 'changeGraph', 'eyJpZCI6IDY5MCwgInR5cGUiOiAidmVydGV4IiwgInByb3BzIjogeyJzaXplIjogMTQuMzQyMTA1MjYzMTU3ODk0fX0K');</script>\n",
       "    "
      ],
      "text/plain": [
       "<IPython.core.display.HTML object>"
      ]
     },
     "metadata": {},
     "output_type": "display_data"
    },
    {
     "data": {
      "text/html": [
       "\n",
       "        <div id=\"cNpWQj6yNV6ef3oDyfZ96c\"></div>\n",
       "        <script>netpixi.call('cNpWQj6yNV6ef3oDyfZ96c', 'dXk3a4tqEjFijUrzxfv563', 'changeGraph', 'eyJpZCI6IDY5MSwgInR5cGUiOiAidmVydGV4IiwgInByb3BzIjogeyJzaXplIjogMTMuOTQ3MzY4NDIxMDUyNjMyfX0K');</script>\n",
       "    "
      ],
      "text/plain": [
       "<IPython.core.display.HTML object>"
      ]
     },
     "metadata": {},
     "output_type": "display_data"
    },
    {
     "data": {
      "text/html": [
       "\n",
       "        <div id=\"93zhGLPMdrvv6KF5Spr3Fc\"></div>\n",
       "        <script>netpixi.call('93zhGLPMdrvv6KF5Spr3Fc', 'dXk3a4tqEjFijUrzxfv563', 'changeGraph', 'eyJpZCI6IDY5MiwgInR5cGUiOiAidmVydGV4IiwgInByb3BzIjogeyJzaXplIjogMTkuOTQxNTIwNDY3ODM2MjU2fX0K');</script>\n",
       "    "
      ],
      "text/plain": [
       "<IPython.core.display.HTML object>"
      ]
     },
     "metadata": {},
     "output_type": "display_data"
    },
    {
     "data": {
      "text/html": [
       "\n",
       "        <div id=\"YMcvokYW4b6efXZw4JFF8L\"></div>\n",
       "        <script>netpixi.call('YMcvokYW4b6efXZw4JFF8L', 'dXk3a4tqEjFijUrzxfv563', 'changeGraph', 'eyJpZCI6IDY5MywgInR5cGUiOiAidmVydGV4IiwgInByb3BzIjogeyJzaXplIjogMTQuNDE1MjA0Njc4MzYyNTc0fX0K');</script>\n",
       "    "
      ],
      "text/plain": [
       "<IPython.core.display.HTML object>"
      ]
     },
     "metadata": {},
     "output_type": "display_data"
    },
    {
     "data": {
      "text/html": [
       "\n",
       "        <div id=\"EvKqUuRzfxvRn9g2RLdXhc\"></div>\n",
       "        <script>netpixi.call('EvKqUuRzfxvRn9g2RLdXhc', 'dXk3a4tqEjFijUrzxfv563', 'changeGraph', 'eyJpZCI6IDY5NCwgInR5cGUiOiAidmVydGV4IiwgInByb3BzIjogeyJzaXplIjogMTEuODcxMzQ1MDI5MjM5NzY2fX0K');</script>\n",
       "    "
      ],
      "text/plain": [
       "<IPython.core.display.HTML object>"
      ]
     },
     "metadata": {},
     "output_type": "display_data"
    },
    {
     "data": {
      "text/html": [
       "\n",
       "        <div id=\"naekjktrDQhCDBLBh7gTdJ\"></div>\n",
       "        <script>netpixi.call('naekjktrDQhCDBLBh7gTdJ', 'dXk3a4tqEjFijUrzxfv563', 'changeGraph', 'eyJpZCI6IDY5NSwgInR5cGUiOiAidmVydGV4IiwgInByb3BzIjogeyJzaXplIjogMTcuNzc3Nzc3Nzc3Nzc3Nzh9fQo=');</script>\n",
       "    "
      ],
      "text/plain": [
       "<IPython.core.display.HTML object>"
      ]
     },
     "metadata": {},
     "output_type": "display_data"
    },
    {
     "data": {
      "text/html": [
       "\n",
       "        <div id=\"decGNvap9fkn7AefBz4vyF\"></div>\n",
       "        <script>netpixi.call('decGNvap9fkn7AefBz4vyF', 'dXk3a4tqEjFijUrzxfv563', 'changeGraph', 'eyJpZCI6IDY5NiwgInR5cGUiOiAidmVydGV4IiwgInByb3BzIjogeyJzaXplIjogMTAuNjcyNTE0NjE5ODgzMDR9fQo=');</script>\n",
       "    "
      ],
      "text/plain": [
       "<IPython.core.display.HTML object>"
      ]
     },
     "metadata": {},
     "output_type": "display_data"
    },
    {
     "data": {
      "text/html": [
       "\n",
       "        <div id=\"45VsT98nzvxrfFkooA8GWC\"></div>\n",
       "        <script>netpixi.call('45VsT98nzvxrfFkooA8GWC', 'dXk3a4tqEjFijUrzxfv563', 'changeGraph', 'eyJpZCI6IDY5NywgInR5cGUiOiAidmVydGV4IiwgInByb3BzIjogeyJzaXplIjogMTguOTAzNTA4NzcxOTI5ODI1fX0K');</script>\n",
       "    "
      ],
      "text/plain": [
       "<IPython.core.display.HTML object>"
      ]
     },
     "metadata": {},
     "output_type": "display_data"
    },
    {
     "data": {
      "text/html": [
       "\n",
       "        <div id=\"YmS9eiw2ySMRBdrfz8fmfP\"></div>\n",
       "        <script>netpixi.call('YmS9eiw2ySMRBdrfz8fmfP', 'dXk3a4tqEjFijUrzxfv563', 'changeGraph', 'eyJpZCI6IDY5OCwgInR5cGUiOiAidmVydGV4IiwgInByb3BzIjogeyJzaXplIjogMTMuMTU3ODk0NzM2ODQyMTA2fX0K');</script>\n",
       "    "
      ],
      "text/plain": [
       "<IPython.core.display.HTML object>"
      ]
     },
     "metadata": {},
     "output_type": "display_data"
    },
    {
     "data": {
      "text/html": [
       "\n",
       "        <div id=\"m3UjQbGSVFMK4N6fDVC5yZ\"></div>\n",
       "        <script>netpixi.call('m3UjQbGSVFMK4N6fDVC5yZ', 'dXk3a4tqEjFijUrzxfv563', 'changeGraph', 'eyJpZCI6IDY5OSwgInR5cGUiOiAidmVydGV4IiwgInByb3BzIjogeyJzaXplIjogMTUuNDgyNDU2MTQwMzUwODc3fX0K');</script>\n",
       "    "
      ],
      "text/plain": [
       "<IPython.core.display.HTML object>"
      ]
     },
     "metadata": {},
     "output_type": "display_data"
    },
    {
     "data": {
      "text/html": [
       "\n",
       "        <div id=\"2CJco9y2SjMkLAGqznSrqi\"></div>\n",
       "        <script>netpixi.call('2CJco9y2SjMkLAGqznSrqi', 'dXk3a4tqEjFijUrzxfv563', 'changeGraph', 'eyJpZCI6IDcwMCwgInR5cGUiOiAidmVydGV4IiwgInByb3BzIjogeyJzaXplIjogMTEuNjk1OTA2NDMyNzQ4NTM4fX0K');</script>\n",
       "    "
      ],
      "text/plain": [
       "<IPython.core.display.HTML object>"
      ]
     },
     "metadata": {},
     "output_type": "display_data"
    },
    {
     "data": {
      "text/html": [
       "\n",
       "        <div id=\"XRgTj3eepPPjdCQnVdYcuS\"></div>\n",
       "        <script>netpixi.call('XRgTj3eepPPjdCQnVdYcuS', 'dXk3a4tqEjFijUrzxfv563', 'changeGraph', 'eyJpZCI6IDcwMSwgInR5cGUiOiAidmVydGV4IiwgInByb3BzIjogeyJzaXplIjogMTEuNTQ5NzA3NjAyMzM5MTgxfX0K');</script>\n",
       "    "
      ],
      "text/plain": [
       "<IPython.core.display.HTML object>"
      ]
     },
     "metadata": {},
     "output_type": "display_data"
    },
    {
     "data": {
      "text/html": [
       "\n",
       "        <div id=\"TB3ZY8TvFbNeewg4gkNhAV\"></div>\n",
       "        <script>netpixi.call('TB3ZY8TvFbNeewg4gkNhAV', 'dXk3a4tqEjFijUrzxfv563', 'changeGraph', 'eyJpZCI6IDcwMiwgInR5cGUiOiAidmVydGV4IiwgInByb3BzIjogeyJzaXplIjogMTAuNDUzMjE2Mzc0MjY5MDA2fX0K');</script>\n",
       "    "
      ],
      "text/plain": [
       "<IPython.core.display.HTML object>"
      ]
     },
     "metadata": {},
     "output_type": "display_data"
    },
    {
     "data": {
      "text/html": [
       "\n",
       "        <div id=\"fCCdKo3HBeRAiDxhdNyDQN\"></div>\n",
       "        <script>netpixi.call('fCCdKo3HBeRAiDxhdNyDQN', 'dXk3a4tqEjFijUrzxfv563', 'changeGraph', 'eyJpZCI6IDcwMywgInR5cGUiOiAidmVydGV4IiwgInByb3BzIjogeyJzaXplIjogMTAuMzgwMTE2OTU5MDY0MzI4fX0K');</script>\n",
       "    "
      ],
      "text/plain": [
       "<IPython.core.display.HTML object>"
      ]
     },
     "metadata": {},
     "output_type": "display_data"
    },
    {
     "data": {
      "text/html": [
       "\n",
       "        <div id=\"JogzS3HiULvn4tazyGW4xv\"></div>\n",
       "        <script>netpixi.call('JogzS3HiULvn4tazyGW4xv', 'dXk3a4tqEjFijUrzxfv563', 'changeGraph', 'eyJpZCI6IDcwNCwgInR5cGUiOiAidmVydGV4IiwgInByb3BzIjogeyJzaXplIjogMTMuMzQ3OTUzMjE2Mzc0MjY4fX0K');</script>\n",
       "    "
      ],
      "text/plain": [
       "<IPython.core.display.HTML object>"
      ]
     },
     "metadata": {},
     "output_type": "display_data"
    },
    {
     "data": {
      "text/html": [
       "\n",
       "        <div id=\"PVZLexp7wYYSBUrBtFL2fo\"></div>\n",
       "        <script>netpixi.call('PVZLexp7wYYSBUrBtFL2fo', 'dXk3a4tqEjFijUrzxfv563', 'changeGraph', 'eyJpZCI6IDcwNSwgInR5cGUiOiAidmVydGV4IiwgInByb3BzIjogeyJzaXplIjogMTYuNzk4MjQ1NjE0MDM1MDl9fQo=');</script>\n",
       "    "
      ],
      "text/plain": [
       "<IPython.core.display.HTML object>"
      ]
     },
     "metadata": {},
     "output_type": "display_data"
    },
    {
     "data": {
      "text/html": [
       "\n",
       "        <div id=\"NRAdQ8cqwvCAdm2MSBDDPG\"></div>\n",
       "        <script>netpixi.call('NRAdQ8cqwvCAdm2MSBDDPG', 'dXk3a4tqEjFijUrzxfv563', 'changeGraph', 'eyJpZCI6IDcwNiwgInR5cGUiOiAidmVydGV4IiwgInByb3BzIjogeyJzaXplIjogMTQuMDc4OTQ3MzY4NDIxMDUxfX0K');</script>\n",
       "    "
      ],
      "text/plain": [
       "<IPython.core.display.HTML object>"
      ]
     },
     "metadata": {},
     "output_type": "display_data"
    },
    {
     "data": {
      "text/html": [
       "\n",
       "        <div id=\"6wnMbSY4QZtysGtnFA3Svr\"></div>\n",
       "        <script>netpixi.call('6wnMbSY4QZtysGtnFA3Svr', 'dXk3a4tqEjFijUrzxfv563', 'changeGraph', 'eyJpZCI6IDcwNywgInR5cGUiOiAidmVydGV4IiwgInByb3BzIjogeyJzaXplIjogMTcuMjM2ODQyMTA1MjYzMTU4fX0K');</script>\n",
       "    "
      ],
      "text/plain": [
       "<IPython.core.display.HTML object>"
      ]
     },
     "metadata": {},
     "output_type": "display_data"
    },
    {
     "data": {
      "text/html": [
       "\n",
       "        <div id=\"7Vr8ZTKuXmsorMNzqpQ3ok\"></div>\n",
       "        <script>netpixi.call('7Vr8ZTKuXmsorMNzqpQ3ok', 'dXk3a4tqEjFijUrzxfv563', 'changeGraph', 'eyJpZCI6IDcwOCwgInR5cGUiOiAidmVydGV4IiwgInByb3BzIjogeyJzaXplIjogMTEuMDA4NzcxOTI5ODI0NTYyfX0K');</script>\n",
       "    "
      ],
      "text/plain": [
       "<IPython.core.display.HTML object>"
      ]
     },
     "metadata": {},
     "output_type": "display_data"
    },
    {
     "data": {
      "text/html": [
       "\n",
       "        <div id=\"ZKnLhnAhfHgP3rfd2dtm5K\"></div>\n",
       "        <script>netpixi.call('ZKnLhnAhfHgP3rfd2dtm5K', 'dXk3a4tqEjFijUrzxfv563', 'changeGraph', 'eyJpZCI6IDcwOSwgInR5cGUiOiAidmVydGV4IiwgInByb3BzIjogeyJzaXplIjogMTMuOTkxMjI4MDcwMTc1NDM4fX0K');</script>\n",
       "    "
      ],
      "text/plain": [
       "<IPython.core.display.HTML object>"
      ]
     },
     "metadata": {},
     "output_type": "display_data"
    },
    {
     "data": {
      "text/html": [
       "\n",
       "        <div id=\"Y72gbrD7AFTBZTZmZgjpEd\"></div>\n",
       "        <script>netpixi.call('Y72gbrD7AFTBZTZmZgjpEd', 'dXk3a4tqEjFijUrzxfv563', 'changeGraph', 'eyJpZCI6IDcxMCwgInR5cGUiOiAidmVydGV4IiwgInByb3BzIjogeyJzaXplIjogMTQuNzA3NjAyMzM5MTgxMjg1fX0K');</script>\n",
       "    "
      ],
      "text/plain": [
       "<IPython.core.display.HTML object>"
      ]
     },
     "metadata": {},
     "output_type": "display_data"
    },
    {
     "data": {
      "text/html": [
       "\n",
       "        <div id=\"XfUEUL87yu9DUeCLrEqc9h\"></div>\n",
       "        <script>netpixi.call('XfUEUL87yu9DUeCLrEqc9h', 'dXk3a4tqEjFijUrzxfv563', 'changeGraph', 'eyJpZCI6IDcxMSwgInR5cGUiOiAidmVydGV4IiwgInByb3BzIjogeyJzaXplIjogMTUuODMzMzMzMzMzMzMzMzMyfX0K');</script>\n",
       "    "
      ],
      "text/plain": [
       "<IPython.core.display.HTML object>"
      ]
     },
     "metadata": {},
     "output_type": "display_data"
    },
    {
     "data": {
      "text/html": [
       "\n",
       "        <div id=\"ekuhAVDUih4JmDzPUdjpEs\"></div>\n",
       "        <script>netpixi.call('ekuhAVDUih4JmDzPUdjpEs', 'dXk3a4tqEjFijUrzxfv563', 'changeGraph', 'eyJpZCI6IDcxMiwgInR5cGUiOiAidmVydGV4IiwgInByb3BzIjogeyJzaXplIjogMTYuNjIyODA3MDE3NTQzODZ9fQo=');</script>\n",
       "    "
      ],
      "text/plain": [
       "<IPython.core.display.HTML object>"
      ]
     },
     "metadata": {},
     "output_type": "display_data"
    },
    {
     "data": {
      "text/html": [
       "\n",
       "        <div id=\"fWgAEKaatKkwC25U43giys\"></div>\n",
       "        <script>netpixi.call('fWgAEKaatKkwC25U43giys', 'dXk3a4tqEjFijUrzxfv563', 'changeGraph', 'eyJpZCI6IDcxMywgInR5cGUiOiAidmVydGV4IiwgInByb3BzIjogeyJzaXplIjogMTQuNDQ0NDQ0NDQ0NDQ0NDQ1fX0K');</script>\n",
       "    "
      ],
      "text/plain": [
       "<IPython.core.display.HTML object>"
      ]
     },
     "metadata": {},
     "output_type": "display_data"
    },
    {
     "data": {
      "text/html": [
       "\n",
       "        <div id=\"JNUxwVQEUEXuLEDS7iRMqU\"></div>\n",
       "        <script>netpixi.call('JNUxwVQEUEXuLEDS7iRMqU', 'dXk3a4tqEjFijUrzxfv563', 'changeGraph', 'eyJpZCI6IDcxNCwgInR5cGUiOiAidmVydGV4IiwgInByb3BzIjogeyJzaXplIjogMTQuMjY5MDA1ODQ3OTUzMjE3fX0K');</script>\n",
       "    "
      ],
      "text/plain": [
       "<IPython.core.display.HTML object>"
      ]
     },
     "metadata": {},
     "output_type": "display_data"
    },
    {
     "data": {
      "text/html": [
       "\n",
       "        <div id=\"AA4LyCxyhskKSori723YYF\"></div>\n",
       "        <script>netpixi.call('AA4LyCxyhskKSori723YYF', 'dXk3a4tqEjFijUrzxfv563', 'changeGraph', 'eyJpZCI6IDcxNSwgInR5cGUiOiAidmVydGV4IiwgInByb3BzIjogeyJzaXplIjogMTMuOTE4MTI4NjU0OTcwNzZ9fQo=');</script>\n",
       "    "
      ],
      "text/plain": [
       "<IPython.core.display.HTML object>"
      ]
     },
     "metadata": {},
     "output_type": "display_data"
    },
    {
     "data": {
      "text/html": [
       "\n",
       "        <div id=\"fMuAjV3d5Hjy7zF7AUURFy\"></div>\n",
       "        <script>netpixi.call('fMuAjV3d5Hjy7zF7AUURFy', 'dXk3a4tqEjFijUrzxfv563', 'changeGraph', 'eyJpZCI6IDcxNiwgInR5cGUiOiAidmVydGV4IiwgInByb3BzIjogeyJzaXplIjogMTEuNzM5NzY2MDgxODcxMzQ1fX0K');</script>\n",
       "    "
      ],
      "text/plain": [
       "<IPython.core.display.HTML object>"
      ]
     },
     "metadata": {},
     "output_type": "display_data"
    },
    {
     "data": {
      "text/html": [
       "\n",
       "        <div id=\"cmdUhW4FzxNF8KEvn5PDfk\"></div>\n",
       "        <script>netpixi.call('cmdUhW4FzxNF8KEvn5PDfk', 'dXk3a4tqEjFijUrzxfv563', 'changeGraph', 'eyJpZCI6IDcxNywgInR5cGUiOiAidmVydGV4IiwgInByb3BzIjogeyJzaXplIjogMTQuMDQ5NzA3NjAyMzM5MTgxfX0K');</script>\n",
       "    "
      ],
      "text/plain": [
       "<IPython.core.display.HTML object>"
      ]
     },
     "metadata": {},
     "output_type": "display_data"
    },
    {
     "data": {
      "text/html": [
       "\n",
       "        <div id=\"4PDXbusDnCuWMVGxR3srLe\"></div>\n",
       "        <script>netpixi.call('4PDXbusDnCuWMVGxR3srLe', 'dXk3a4tqEjFijUrzxfv563', 'changeGraph', 'eyJpZCI6IDcxOCwgInR5cGUiOiAidmVydGV4IiwgInByb3BzIjogeyJzaXplIjogMTcuODgwMTE2OTU5MDY0MzI4fX0K');</script>\n",
       "    "
      ],
      "text/plain": [
       "<IPython.core.display.HTML object>"
      ]
     },
     "metadata": {},
     "output_type": "display_data"
    },
    {
     "data": {
      "text/html": [
       "\n",
       "        <div id=\"nu6NpWAMAjjmz8EN6R8ySF\"></div>\n",
       "        <script>netpixi.call('nu6NpWAMAjjmz8EN6R8ySF', 'dXk3a4tqEjFijUrzxfv563', 'changeGraph', 'eyJpZCI6IDcxOSwgInR5cGUiOiAidmVydGV4IiwgInByb3BzIjogeyJzaXplIjogMTUuNTg0Nzk1MzIxNjM3NDI2fX0K');</script>\n",
       "    "
      ],
      "text/plain": [
       "<IPython.core.display.HTML object>"
      ]
     },
     "metadata": {},
     "output_type": "display_data"
    },
    {
     "data": {
      "text/html": [
       "\n",
       "        <div id=\"PaKrC4PnQFniKwfygibaJq\"></div>\n",
       "        <script>netpixi.call('PaKrC4PnQFniKwfygibaJq', 'dXk3a4tqEjFijUrzxfv563', 'changeGraph', 'eyJpZCI6IDcyMCwgInR5cGUiOiAidmVydGV4IiwgInByb3BzIjogeyJzaXplIjogMTkuMzU2NzI1MTQ2MTk4ODN9fQo=');</script>\n",
       "    "
      ],
      "text/plain": [
       "<IPython.core.display.HTML object>"
      ]
     },
     "metadata": {},
     "output_type": "display_data"
    },
    {
     "data": {
      "text/html": [
       "\n",
       "        <div id=\"RxgSWjQo3s7tp6L3BdRfE7\"></div>\n",
       "        <script>netpixi.call('RxgSWjQo3s7tp6L3BdRfE7', 'dXk3a4tqEjFijUrzxfv563', 'changeGraph', 'eyJpZCI6IDcyMSwgInR5cGUiOiAidmVydGV4IiwgInByb3BzIjogeyJzaXplIjogMTQuMjk4MjQ1NjE0MDM1MDg3fX0K');</script>\n",
       "    "
      ],
      "text/plain": [
       "<IPython.core.display.HTML object>"
      ]
     },
     "metadata": {},
     "output_type": "display_data"
    },
    {
     "data": {
      "text/html": [
       "\n",
       "        <div id=\"MMiYcJHPX72U6aSWzJMzZ3\"></div>\n",
       "        <script>netpixi.call('MMiYcJHPX72U6aSWzJMzZ3', 'dXk3a4tqEjFijUrzxfv563', 'changeGraph', 'eyJpZCI6IDcyMiwgInR5cGUiOiAidmVydGV4IiwgInByb3BzIjogeyJzaXplIjogMTQuOTU2MTQwMzUwODc3MTkyfX0K');</script>\n",
       "    "
      ],
      "text/plain": [
       "<IPython.core.display.HTML object>"
      ]
     },
     "metadata": {},
     "output_type": "display_data"
    },
    {
     "data": {
      "text/html": [
       "\n",
       "        <div id=\"7VYASySs3fJKL9gkLF6TeM\"></div>\n",
       "        <script>netpixi.call('7VYASySs3fJKL9gkLF6TeM', 'dXk3a4tqEjFijUrzxfv563', 'changeGraph', 'eyJpZCI6IDcyMywgInR5cGUiOiAidmVydGV4IiwgInByb3BzIjogeyJzaXplIjogMTguODQ1MDI5MjM5NzY2MDh9fQo=');</script>\n",
       "    "
      ],
      "text/plain": [
       "<IPython.core.display.HTML object>"
      ]
     },
     "metadata": {},
     "output_type": "display_data"
    },
    {
     "data": {
      "text/html": [
       "\n",
       "        <div id=\"WKRFfCZ2fwGXvFQL8PR8T7\"></div>\n",
       "        <script>netpixi.call('WKRFfCZ2fwGXvFQL8PR8T7', 'dXk3a4tqEjFijUrzxfv563', 'changeGraph', 'eyJpZCI6IDcyNCwgInR5cGUiOiAidmVydGV4IiwgInByb3BzIjogeyJzaXplIjogMTEuODEyODY1NDk3MDc2MDIzfX0K');</script>\n",
       "    "
      ],
      "text/plain": [
       "<IPython.core.display.HTML object>"
      ]
     },
     "metadata": {},
     "output_type": "display_data"
    },
    {
     "data": {
      "text/html": [
       "\n",
       "        <div id=\"JNakRJVesHGPwNAwV3TuWE\"></div>\n",
       "        <script>netpixi.call('JNakRJVesHGPwNAwV3TuWE', 'dXk3a4tqEjFijUrzxfv563', 'changeGraph', 'eyJpZCI6IDcyNSwgInR5cGUiOiAidmVydGV4IiwgInByb3BzIjogeyJzaXplIjogMTcuNzYzMTU3ODk0NzM2ODQyfX0K');</script>\n",
       "    "
      ],
      "text/plain": [
       "<IPython.core.display.HTML object>"
      ]
     },
     "metadata": {},
     "output_type": "display_data"
    },
    {
     "data": {
      "text/html": [
       "\n",
       "        <div id=\"XnvBWWYUnS5dUuTvRpCJaS\"></div>\n",
       "        <script>netpixi.call('XnvBWWYUnS5dUuTvRpCJaS', 'dXk3a4tqEjFijUrzxfv563', 'changeGraph', 'eyJpZCI6IDcyNiwgInR5cGUiOiAidmVydGV4IiwgInByb3BzIjogeyJzaXplIjogMTEuMjcxOTI5ODI0NTYxNDA0fX0K');</script>\n",
       "    "
      ],
      "text/plain": [
       "<IPython.core.display.HTML object>"
      ]
     },
     "metadata": {},
     "output_type": "display_data"
    },
    {
     "data": {
      "text/html": [
       "\n",
       "        <div id=\"i436DHeMniS7qCip47vNoh\"></div>\n",
       "        <script>netpixi.call('i436DHeMniS7qCip47vNoh', 'dXk3a4tqEjFijUrzxfv563', 'changeGraph', 'eyJpZCI6IDcyNywgInR5cGUiOiAidmVydGV4IiwgInByb3BzIjogeyJzaXplIjogMTYuNDAzNTA4NzcxOTI5ODI1fX0K');</script>\n",
       "    "
      ],
      "text/plain": [
       "<IPython.core.display.HTML object>"
      ]
     },
     "metadata": {},
     "output_type": "display_data"
    },
    {
     "data": {
      "text/html": [
       "\n",
       "        <div id=\"mzfRBLKTTrdT5wy9Ecwsmw\"></div>\n",
       "        <script>netpixi.call('mzfRBLKTTrdT5wy9Ecwsmw', 'dXk3a4tqEjFijUrzxfv563', 'changeGraph', 'eyJpZCI6IDcyOCwgInR5cGUiOiAidmVydGV4IiwgInByb3BzIjogeyJzaXplIjogMTkuOTU2MTQwMzUwODc3MTl9fQo=');</script>\n",
       "    "
      ],
      "text/plain": [
       "<IPython.core.display.HTML object>"
      ]
     },
     "metadata": {},
     "output_type": "display_data"
    },
    {
     "data": {
      "text/html": [
       "\n",
       "        <div id=\"mzCGxCC4yVqWWdKKsiChW2\"></div>\n",
       "        <script>netpixi.call('mzCGxCC4yVqWWdKKsiChW2', 'dXk3a4tqEjFijUrzxfv563', 'changeGraph', 'eyJpZCI6IDcyOSwgInR5cGUiOiAidmVydGV4IiwgInByb3BzIjogeyJzaXplIjogMTkuNjkyOTgyNDU2MTQwMzV9fQo=');</script>\n",
       "    "
      ],
      "text/plain": [
       "<IPython.core.display.HTML object>"
      ]
     },
     "metadata": {},
     "output_type": "display_data"
    },
    {
     "data": {
      "text/html": [
       "\n",
       "        <div id=\"HyVRZLuyhNWEzdNyPwGaES\"></div>\n",
       "        <script>netpixi.call('HyVRZLuyhNWEzdNyPwGaES', 'dXk3a4tqEjFijUrzxfv563', 'changeGraph', 'eyJpZCI6IDczMCwgInR5cGUiOiAidmVydGV4IiwgInByb3BzIjogeyJzaXplIjogMTAuMzUwODc3MTkyOTgyNDU1fX0K');</script>\n",
       "    "
      ],
      "text/plain": [
       "<IPython.core.display.HTML object>"
      ]
     },
     "metadata": {},
     "output_type": "display_data"
    },
    {
     "data": {
      "text/html": [
       "\n",
       "        <div id=\"S4gpdAauvribsKCQvfYvEc\"></div>\n",
       "        <script>netpixi.call('S4gpdAauvribsKCQvfYvEc', 'dXk3a4tqEjFijUrzxfv563', 'changeGraph', 'eyJpZCI6IDczMSwgInR5cGUiOiAidmVydGV4IiwgInByb3BzIjogeyJzaXplIjogMTIuMjk1MzIxNjM3NDI2OX19Cg==');</script>\n",
       "    "
      ],
      "text/plain": [
       "<IPython.core.display.HTML object>"
      ]
     },
     "metadata": {},
     "output_type": "display_data"
    },
    {
     "data": {
      "text/html": [
       "\n",
       "        <div id=\"cvRFsAbLgtByFfu4WCY2dw\"></div>\n",
       "        <script>netpixi.call('cvRFsAbLgtByFfu4WCY2dw', 'dXk3a4tqEjFijUrzxfv563', 'changeGraph', 'eyJpZCI6IDczMiwgInR5cGUiOiAidmVydGV4IiwgInByb3BzIjogeyJzaXplIjogMTAuMjA0Njc4MzYyNTczMX19Cg==');</script>\n",
       "    "
      ],
      "text/plain": [
       "<IPython.core.display.HTML object>"
      ]
     },
     "metadata": {},
     "output_type": "display_data"
    },
    {
     "data": {
      "text/html": [
       "\n",
       "        <div id=\"Ag8GkTFwcxaQMMRoZ4GGFN\"></div>\n",
       "        <script>netpixi.call('Ag8GkTFwcxaQMMRoZ4GGFN', 'dXk3a4tqEjFijUrzxfv563', 'changeGraph', 'eyJpZCI6IDczMywgInR5cGUiOiAidmVydGV4IiwgInByb3BzIjogeyJzaXplIjogMTMuODU5NjQ5MTIyODA3MDE3fX0K');</script>\n",
       "    "
      ],
      "text/plain": [
       "<IPython.core.display.HTML object>"
      ]
     },
     "metadata": {},
     "output_type": "display_data"
    },
    {
     "data": {
      "text/html": [
       "\n",
       "        <div id=\"3bCEyRWhDoQmDTmoAuKFGK\"></div>\n",
       "        <script>netpixi.call('3bCEyRWhDoQmDTmoAuKFGK', 'dXk3a4tqEjFijUrzxfv563', 'changeGraph', 'eyJpZCI6IDczNCwgInR5cGUiOiAidmVydGV4IiwgInByb3BzIjogeyJzaXplIjogMTguOTc2NjA4MTg3MTM0NTAyfX0K');</script>\n",
       "    "
      ],
      "text/plain": [
       "<IPython.core.display.HTML object>"
      ]
     },
     "metadata": {},
     "output_type": "display_data"
    },
    {
     "data": {
      "text/html": [
       "\n",
       "        <div id=\"UNWDUXzyiAW5AJ4wwiJmHg\"></div>\n",
       "        <script>netpixi.call('UNWDUXzyiAW5AJ4wwiJmHg', 'dXk3a4tqEjFijUrzxfv563', 'changeGraph', 'eyJpZCI6IDczNSwgInR5cGUiOiAidmVydGV4IiwgInByb3BzIjogeyJzaXplIjogMTIuNTU4NDc5NTMyMTYzNzQzfX0K');</script>\n",
       "    "
      ],
      "text/plain": [
       "<IPython.core.display.HTML object>"
      ]
     },
     "metadata": {},
     "output_type": "display_data"
    },
    {
     "data": {
      "text/html": [
       "\n",
       "        <div id=\"SsZyHXxwFLRP3ELjXtKnat\"></div>\n",
       "        <script>netpixi.call('SsZyHXxwFLRP3ELjXtKnat', 'dXk3a4tqEjFijUrzxfv563', 'changeGraph', 'eyJpZCI6IDczNiwgInR5cGUiOiAidmVydGV4IiwgInByb3BzIjogeyJzaXplIjogMTUuNTExNjk1OTA2NDMyNzQ5fX0K');</script>\n",
       "    "
      ],
      "text/plain": [
       "<IPython.core.display.HTML object>"
      ]
     },
     "metadata": {},
     "output_type": "display_data"
    },
    {
     "data": {
      "text/html": [
       "\n",
       "        <div id=\"MB8KKbm6paaRxRbLVF4U7U\"></div>\n",
       "        <script>netpixi.call('MB8KKbm6paaRxRbLVF4U7U', 'dXk3a4tqEjFijUrzxfv563', 'changeGraph', 'eyJpZCI6IDczNywgInR5cGUiOiAidmVydGV4IiwgInByb3BzIjogeyJzaXplIjogMTguNTA4NzcxOTI5ODI0NTZ9fQo=');</script>\n",
       "    "
      ],
      "text/plain": [
       "<IPython.core.display.HTML object>"
      ]
     },
     "metadata": {},
     "output_type": "display_data"
    },
    {
     "data": {
      "text/html": [
       "\n",
       "        <div id=\"dia78tdjKP8C4bP8KD8U5U\"></div>\n",
       "        <script>netpixi.call('dia78tdjKP8C4bP8KD8U5U', 'dXk3a4tqEjFijUrzxfv563', 'changeGraph', 'eyJpZCI6IDczOCwgInR5cGUiOiAidmVydGV4IiwgInByb3BzIjogeyJzaXplIjogMTMuNzI4MDcwMTc1NDM4NTk2fX0K');</script>\n",
       "    "
      ],
      "text/plain": [
       "<IPython.core.display.HTML object>"
      ]
     },
     "metadata": {},
     "output_type": "display_data"
    },
    {
     "data": {
      "text/html": [
       "\n",
       "        <div id=\"6ZAS4apUdorPFFMLBhbhi7\"></div>\n",
       "        <script>netpixi.call('6ZAS4apUdorPFFMLBhbhi7', 'dXk3a4tqEjFijUrzxfv563', 'changeGraph', 'eyJpZCI6IDczOSwgInR5cGUiOiAidmVydGV4IiwgInByb3BzIjogeyJzaXplIjogMTUuODQ3OTUzMjE2Mzc0MjY4fX0K');</script>\n",
       "    "
      ],
      "text/plain": [
       "<IPython.core.display.HTML object>"
      ]
     },
     "metadata": {},
     "output_type": "display_data"
    },
    {
     "data": {
      "text/html": [
       "\n",
       "        <div id=\"69ovFcBWJUJWtvjifazcRM\"></div>\n",
       "        <script>netpixi.call('69ovFcBWJUJWtvjifazcRM', 'dXk3a4tqEjFijUrzxfv563', 'changeGraph', 'eyJpZCI6IDc0MCwgInR5cGUiOiAidmVydGV4IiwgInByb3BzIjogeyJzaXplIjogMTYuMjI4MDcwMTc1NDM4NTk2fX0K');</script>\n",
       "    "
      ],
      "text/plain": [
       "<IPython.core.display.HTML object>"
      ]
     },
     "metadata": {},
     "output_type": "display_data"
    },
    {
     "data": {
      "text/html": [
       "\n",
       "        <div id=\"7RHRRp2DBtaCeUkWLabgxJ\"></div>\n",
       "        <script>netpixi.call('7RHRRp2DBtaCeUkWLabgxJ', 'dXk3a4tqEjFijUrzxfv563', 'changeGraph', 'eyJpZCI6IDc0MSwgInR5cGUiOiAidmVydGV4IiwgInByb3BzIjogeyJzaXplIjogMTIuNjAyMzM5MTgxMjg2NTQ5fX0K');</script>\n",
       "    "
      ],
      "text/plain": [
       "<IPython.core.display.HTML object>"
      ]
     },
     "metadata": {},
     "output_type": "display_data"
    },
    {
     "data": {
      "text/html": [
       "\n",
       "        <div id=\"BYemjA8WD538Xf5yH8Xmp4\"></div>\n",
       "        <script>netpixi.call('BYemjA8WD538Xf5yH8Xmp4', 'dXk3a4tqEjFijUrzxfv563', 'changeGraph', 'eyJpZCI6IDc0MiwgInR5cGUiOiAidmVydGV4IiwgInByb3BzIjogeyJzaXplIjogMTkuNTAyOTIzOTc2NjA4MTg3fX0K');</script>\n",
       "    "
      ],
      "text/plain": [
       "<IPython.core.display.HTML object>"
      ]
     },
     "metadata": {},
     "output_type": "display_data"
    },
    {
     "data": {
      "text/html": [
       "\n",
       "        <div id=\"j8iCD5FLjMkJCWH4hxpeRY\"></div>\n",
       "        <script>netpixi.call('j8iCD5FLjMkJCWH4hxpeRY', 'dXk3a4tqEjFijUrzxfv563', 'changeGraph', 'eyJpZCI6IDc0MywgInR5cGUiOiAidmVydGV4IiwgInByb3BzIjogeyJzaXplIjogMTkuNDI5ODI0NTYxNDAzNTA3fX0K');</script>\n",
       "    "
      ],
      "text/plain": [
       "<IPython.core.display.HTML object>"
      ]
     },
     "metadata": {},
     "output_type": "display_data"
    },
    {
     "data": {
      "text/html": [
       "\n",
       "        <div id=\"HuKVF8yozxGMnNg3HXJfeq\"></div>\n",
       "        <script>netpixi.call('HuKVF8yozxGMnNg3HXJfeq', 'dXk3a4tqEjFijUrzxfv563', 'changeGraph', 'eyJpZCI6IDc0NCwgInR5cGUiOiAidmVydGV4IiwgInByb3BzIjogeyJzaXplIjogMTMuNTUyNjMxNTc4OTQ3MzY4fX0K');</script>\n",
       "    "
      ],
      "text/plain": [
       "<IPython.core.display.HTML object>"
      ]
     },
     "metadata": {},
     "output_type": "display_data"
    },
    {
     "data": {
      "text/html": [
       "\n",
       "        <div id=\"XmuEZXT2MNvtva6jpHheZk\"></div>\n",
       "        <script>netpixi.call('XmuEZXT2MNvtva6jpHheZk', 'dXk3a4tqEjFijUrzxfv563', 'changeGraph', 'eyJpZCI6IDc0NSwgInR5cGUiOiAidmVydGV4IiwgInByb3BzIjogeyJzaXplIjogMTIuNjkwMDU4NDc5NTMyMTY0fX0K');</script>\n",
       "    "
      ],
      "text/plain": [
       "<IPython.core.display.HTML object>"
      ]
     },
     "metadata": {},
     "output_type": "display_data"
    },
    {
     "data": {
      "text/html": [
       "\n",
       "        <div id=\"KeZ2dcjRuL45y87RA42Hyf\"></div>\n",
       "        <script>netpixi.call('KeZ2dcjRuL45y87RA42Hyf', 'dXk3a4tqEjFijUrzxfv563', 'changeGraph', 'eyJpZCI6IDc0NiwgInR5cGUiOiAidmVydGV4IiwgInByb3BzIjogeyJzaXplIjogMTcuMTQ5MTIyODA3MDE3NTQ1fX0K');</script>\n",
       "    "
      ],
      "text/plain": [
       "<IPython.core.display.HTML object>"
      ]
     },
     "metadata": {},
     "output_type": "display_data"
    },
    {
     "data": {
      "text/html": [
       "\n",
       "        <div id=\"LUDqvkHwRrJsvgNtXe2dqX\"></div>\n",
       "        <script>netpixi.call('LUDqvkHwRrJsvgNtXe2dqX', 'dXk3a4tqEjFijUrzxfv563', 'changeGraph', 'eyJpZCI6IDc0NywgInR5cGUiOiAidmVydGV4IiwgInByb3BzIjogeyJzaXplIjogMTcuNzkyMzk3NjYwODE4NzE1fX0K');</script>\n",
       "    "
      ],
      "text/plain": [
       "<IPython.core.display.HTML object>"
      ]
     },
     "metadata": {},
     "output_type": "display_data"
    },
    {
     "data": {
      "text/html": [
       "\n",
       "        <div id=\"PSbD8p4pXTEPG7waXxwmQQ\"></div>\n",
       "        <script>netpixi.call('PSbD8p4pXTEPG7waXxwmQQ', 'dXk3a4tqEjFijUrzxfv563', 'changeGraph', 'eyJpZCI6IDc0OCwgInR5cGUiOiAidmVydGV4IiwgInByb3BzIjogeyJzaXplIjogMTYuNjA4MTg3MTM0NTAyOTIzfX0K');</script>\n",
       "    "
      ],
      "text/plain": [
       "<IPython.core.display.HTML object>"
      ]
     },
     "metadata": {},
     "output_type": "display_data"
    },
    {
     "data": {
      "text/html": [
       "\n",
       "        <div id=\"iG4ZXTgf8Z6XapPhmfisqS\"></div>\n",
       "        <script>netpixi.call('iG4ZXTgf8Z6XapPhmfisqS', 'dXk3a4tqEjFijUrzxfv563', 'changeGraph', 'eyJpZCI6IDc0OSwgInR5cGUiOiAidmVydGV4IiwgInByb3BzIjogeyJzaXplIjogMTEuMTY5NTkwNjQzMjc0ODUzfX0K');</script>\n",
       "    "
      ],
      "text/plain": [
       "<IPython.core.display.HTML object>"
      ]
     },
     "metadata": {},
     "output_type": "display_data"
    },
    {
     "data": {
      "text/html": [
       "\n",
       "        <div id=\"DzKkDLTfuYQn44XNnEteaC\"></div>\n",
       "        <script>netpixi.call('DzKkDLTfuYQn44XNnEteaC', 'dXk3a4tqEjFijUrzxfv563', 'changeGraph', 'eyJpZCI6IDc1MCwgInR5cGUiOiAidmVydGV4IiwgInByb3BzIjogeyJzaXplIjogMTQuMjM5NzY2MDgxODcxMzQ1fX0K');</script>\n",
       "    "
      ],
      "text/plain": [
       "<IPython.core.display.HTML object>"
      ]
     },
     "metadata": {},
     "output_type": "display_data"
    },
    {
     "data": {
      "text/html": [
       "\n",
       "        <div id=\"FvxPfvfDBfdoQxdVmK8Fsf\"></div>\n",
       "        <script>netpixi.call('FvxPfvfDBfdoQxdVmK8Fsf', 'dXk3a4tqEjFijUrzxfv563', 'changeGraph', 'eyJpZCI6IDc1MSwgInR5cGUiOiAidmVydGV4IiwgInByb3BzIjogeyJzaXplIjogMTIuOTY3ODM2MjU3MzA5OTR9fQo=');</script>\n",
       "    "
      ],
      "text/plain": [
       "<IPython.core.display.HTML object>"
      ]
     },
     "metadata": {},
     "output_type": "display_data"
    },
    {
     "data": {
      "text/html": [
       "\n",
       "        <div id=\"5MUAeouoj3a8x6uiYLGsHy\"></div>\n",
       "        <script>netpixi.call('5MUAeouoj3a8x6uiYLGsHy', 'dXk3a4tqEjFijUrzxfv563', 'changeGraph', 'eyJpZCI6IDc1MiwgInR5cGUiOiAidmVydGV4IiwgInByb3BzIjogeyJzaXplIjogMTguNTUyNjMxNTc4OTQ3Mzd9fQo=');</script>\n",
       "    "
      ],
      "text/plain": [
       "<IPython.core.display.HTML object>"
      ]
     },
     "metadata": {},
     "output_type": "display_data"
    },
    {
     "data": {
      "text/html": [
       "\n",
       "        <div id=\"2KhAZBXxrLSVntu96JZTRb\"></div>\n",
       "        <script>netpixi.call('2KhAZBXxrLSVntu96JZTRb', 'dXk3a4tqEjFijUrzxfv563', 'changeGraph', 'eyJpZCI6IDc1MywgInR5cGUiOiAidmVydGV4IiwgInByb3BzIjogeyJzaXplIjogMTcuNDU2MTQwMzUwODc3MTl9fQo=');</script>\n",
       "    "
      ],
      "text/plain": [
       "<IPython.core.display.HTML object>"
      ]
     },
     "metadata": {},
     "output_type": "display_data"
    },
    {
     "data": {
      "text/html": [
       "\n",
       "        <div id=\"aBb9GGLyPjGbLhVc3LxyUr\"></div>\n",
       "        <script>netpixi.call('aBb9GGLyPjGbLhVc3LxyUr', 'dXk3a4tqEjFijUrzxfv563', 'changeGraph', 'eyJpZCI6IDc1NCwgInR5cGUiOiAidmVydGV4IiwgInByb3BzIjogeyJzaXplIjogMTYuNjM3NDI2OTAwNTg0Nzk2fX0K');</script>\n",
       "    "
      ],
      "text/plain": [
       "<IPython.core.display.HTML object>"
      ]
     },
     "metadata": {},
     "output_type": "display_data"
    },
    {
     "data": {
      "text/html": [
       "\n",
       "        <div id=\"NK4UCskPSSn6hfhEotbmaB\"></div>\n",
       "        <script>netpixi.call('NK4UCskPSSn6hfhEotbmaB', 'dXk3a4tqEjFijUrzxfv563', 'changeGraph', 'eyJpZCI6IDc1NSwgInR5cGUiOiAidmVydGV4IiwgInByb3BzIjogeyJzaXplIjogMTcuOTUzMjE2Mzc0MjY5MDA1fX0K');</script>\n",
       "    "
      ],
      "text/plain": [
       "<IPython.core.display.HTML object>"
      ]
     },
     "metadata": {},
     "output_type": "display_data"
    },
    {
     "data": {
      "text/html": [
       "\n",
       "        <div id=\"RBYXZ9W2RJmcTDCvRgJEtY\"></div>\n",
       "        <script>netpixi.call('RBYXZ9W2RJmcTDCvRgJEtY', 'dXk3a4tqEjFijUrzxfv563', 'changeGraph', 'eyJpZCI6IDc1NiwgInR5cGUiOiAidmVydGV4IiwgInByb3BzIjogeyJzaXplIjogMTIuMzgzMDQwOTM1NjcyNTE1fX0K');</script>\n",
       "    "
      ],
      "text/plain": [
       "<IPython.core.display.HTML object>"
      ]
     },
     "metadata": {},
     "output_type": "display_data"
    },
    {
     "data": {
      "text/html": [
       "\n",
       "        <div id=\"iAfFHFXEbqVEYdWeswXdMq\"></div>\n",
       "        <script>netpixi.call('iAfFHFXEbqVEYdWeswXdMq', 'dXk3a4tqEjFijUrzxfv563', 'changeGraph', 'eyJpZCI6IDc1NywgInR5cGUiOiAidmVydGV4IiwgInByb3BzIjogeyJzaXplIjogNDMuMzcyMDkzMDIzMjU1ODE1fX0K');</script>\n",
       "    "
      ],
      "text/plain": [
       "<IPython.core.display.HTML object>"
      ]
     },
     "metadata": {},
     "output_type": "display_data"
    },
    {
     "data": {
      "text/html": [
       "\n",
       "        <div id=\"5ck5HoPvssSvfgzDLuBGDy\"></div>\n",
       "        <script>netpixi.call('5ck5HoPvssSvfgzDLuBGDy', 'dXk3a4tqEjFijUrzxfv563', 'changeGraph', 'eyJpZCI6IDc1OCwgInR5cGUiOiAidmVydGV4IiwgInByb3BzIjogeyJzaXplIjogMTYuNzgzNjI1NzMwOTk0MTUzfX0K');</script>\n",
       "    "
      ],
      "text/plain": [
       "<IPython.core.display.HTML object>"
      ]
     },
     "metadata": {},
     "output_type": "display_data"
    },
    {
     "data": {
      "text/html": [
       "\n",
       "        <div id=\"CJhBt7EFUHm4G78oTnqNdq\"></div>\n",
       "        <script>netpixi.call('CJhBt7EFUHm4G78oTnqNdq', 'dXk3a4tqEjFijUrzxfv563', 'changeGraph', 'eyJpZCI6IDc1OSwgInR5cGUiOiAidmVydGV4IiwgInByb3BzIjogeyJzaXplIjogMTAuMTQ2MTk4ODMwNDA5MzU3fX0K');</script>\n",
       "    "
      ],
      "text/plain": [
       "<IPython.core.display.HTML object>"
      ]
     },
     "metadata": {},
     "output_type": "display_data"
    },
    {
     "data": {
      "text/html": [
       "\n",
       "        <div id=\"D4QA4rgvnYMrqTtq6fCTz8\"></div>\n",
       "        <script>netpixi.call('D4QA4rgvnYMrqTtq6fCTz8', 'dXk3a4tqEjFijUrzxfv563', 'changeGraph', 'eyJpZCI6IDc2MCwgInR5cGUiOiAidmVydGV4IiwgInByb3BzIjogeyJzaXplIjogMTQuMzU2NzI1MTQ2MTk4ODN9fQo=');</script>\n",
       "    "
      ],
      "text/plain": [
       "<IPython.core.display.HTML object>"
      ]
     },
     "metadata": {},
     "output_type": "display_data"
    },
    {
     "data": {
      "text/html": [
       "\n",
       "        <div id=\"4HjTR8q3CHAvYocGSPbtHY\"></div>\n",
       "        <script>netpixi.call('4HjTR8q3CHAvYocGSPbtHY', 'dXk3a4tqEjFijUrzxfv563', 'changeGraph', 'eyJpZCI6IDc2MSwgInR5cGUiOiAidmVydGV4IiwgInByb3BzIjogeyJzaXplIjogMTkuMjgzNjI1NzMwOTk0MTUzfX0K');</script>\n",
       "    "
      ],
      "text/plain": [
       "<IPython.core.display.HTML object>"
      ]
     },
     "metadata": {},
     "output_type": "display_data"
    },
    {
     "data": {
      "text/html": [
       "\n",
       "        <div id=\"AFvE6hSgaAVpx7cJxdHWsH\"></div>\n",
       "        <script>netpixi.call('AFvE6hSgaAVpx7cJxdHWsH', 'dXk3a4tqEjFijUrzxfv563', 'changeGraph', 'eyJpZCI6IDc2MiwgInR5cGUiOiAidmVydGV4IiwgInByb3BzIjogeyJzaXplIjogMTUuMTQ2MTk4ODMwNDA5MzU3fX0K');</script>\n",
       "    "
      ],
      "text/plain": [
       "<IPython.core.display.HTML object>"
      ]
     },
     "metadata": {},
     "output_type": "display_data"
    },
    {
     "data": {
      "text/html": [
       "\n",
       "        <div id=\"dLrh8S3mebf3ywHR5ioVM9\"></div>\n",
       "        <script>netpixi.call('dLrh8S3mebf3ywHR5ioVM9', 'dXk3a4tqEjFijUrzxfv563', 'changeGraph', 'eyJpZCI6IDc2MywgInR5cGUiOiAidmVydGV4IiwgInByb3BzIjogeyJzaXplIjogMTAuOTM1NjcyNTE0NjE5ODgzfX0K');</script>\n",
       "    "
      ],
      "text/plain": [
       "<IPython.core.display.HTML object>"
      ]
     },
     "metadata": {},
     "output_type": "display_data"
    },
    {
     "data": {
      "text/html": [
       "\n",
       "        <div id=\"mCGg3oaCZHG9dpy77CupMD\"></div>\n",
       "        <script>netpixi.call('mCGg3oaCZHG9dpy77CupMD', 'dXk3a4tqEjFijUrzxfv563', 'changeGraph', 'eyJpZCI6IDc2NCwgInR5cGUiOiAidmVydGV4IiwgInByb3BzIjogeyJzaXplIjogMTAuNjg3MTM0NTAyOTIzOTc3fX0K');</script>\n",
       "    "
      ],
      "text/plain": [
       "<IPython.core.display.HTML object>"
      ]
     },
     "metadata": {},
     "output_type": "display_data"
    },
    {
     "data": {
      "text/html": [
       "\n",
       "        <div id=\"oLPxPGYe6CfRD7NZdAemo8\"></div>\n",
       "        <script>netpixi.call('oLPxPGYe6CfRD7NZdAemo8', 'dXk3a4tqEjFijUrzxfv563', 'changeGraph', 'eyJpZCI6IDc2NSwgInR5cGUiOiAidmVydGV4IiwgInByb3BzIjogeyJzaXplIjogMTQuNjA1MjYzMTU3ODk0NzM2fX0K');</script>\n",
       "    "
      ],
      "text/plain": [
       "<IPython.core.display.HTML object>"
      ]
     },
     "metadata": {},
     "output_type": "display_data"
    },
    {
     "data": {
      "text/html": [
       "\n",
       "        <div id=\"N7YkUuWqwdBTF6wVpQ66ki\"></div>\n",
       "        <script>netpixi.call('N7YkUuWqwdBTF6wVpQ66ki', 'dXk3a4tqEjFijUrzxfv563', 'changeGraph', 'eyJpZCI6IDc2NiwgInR5cGUiOiAidmVydGV4IiwgInByb3BzIjogeyJzaXplIjogMTAuODc3MTkyOTgyNDU2MTR9fQo=');</script>\n",
       "    "
      ],
      "text/plain": [
       "<IPython.core.display.HTML object>"
      ]
     },
     "metadata": {},
     "output_type": "display_data"
    },
    {
     "data": {
      "text/html": [
       "\n",
       "        <div id=\"TSmzccaXJqnWwHmHZiEDsG\"></div>\n",
       "        <script>netpixi.call('TSmzccaXJqnWwHmHZiEDsG', 'dXk3a4tqEjFijUrzxfv563', 'changeGraph', 'eyJpZCI6IDc2NywgInR5cGUiOiAidmVydGV4IiwgInByb3BzIjogeyJzaXplIjogMTAuNjE0MDM1MDg3NzE5Mjk4fX0K');</script>\n",
       "    "
      ],
      "text/plain": [
       "<IPython.core.display.HTML object>"
      ]
     },
     "metadata": {},
     "output_type": "display_data"
    },
    {
     "data": {
      "text/html": [
       "\n",
       "        <div id=\"AT7HSSAqJSTYJEPqoZKQNH\"></div>\n",
       "        <script>netpixi.call('AT7HSSAqJSTYJEPqoZKQNH', 'dXk3a4tqEjFijUrzxfv563', 'changeGraph', 'eyJpZCI6IDc2OCwgInR5cGUiOiAidmVydGV4IiwgInByb3BzIjogeyJzaXplIjogMTAuMDQzODU5NjQ5MTIyODA2fX0K');</script>\n",
       "    "
      ],
      "text/plain": [
       "<IPython.core.display.HTML object>"
      ]
     },
     "metadata": {},
     "output_type": "display_data"
    },
    {
     "data": {
      "text/html": [
       "\n",
       "        <div id=\"g6mkZrrpGRcsQzeHZvVjiy\"></div>\n",
       "        <script>netpixi.call('g6mkZrrpGRcsQzeHZvVjiy', 'dXk3a4tqEjFijUrzxfv563', 'changeGraph', 'eyJpZCI6IDc2OSwgInR5cGUiOiAidmVydGV4IiwgInByb3BzIjogeyJzaXplIjogMTEuNDc2NjA4MTg3MTM0NTAyfX0K');</script>\n",
       "    "
      ],
      "text/plain": [
       "<IPython.core.display.HTML object>"
      ]
     },
     "metadata": {},
     "output_type": "display_data"
    },
    {
     "data": {
      "text/html": [
       "\n",
       "        <div id=\"W7mFBpm3Tc3m4hpBg3bQmT\"></div>\n",
       "        <script>netpixi.call('W7mFBpm3Tc3m4hpBg3bQmT', 'dXk3a4tqEjFijUrzxfv563', 'changeGraph', 'eyJpZCI6IDc3MCwgInR5cGUiOiAidmVydGV4IiwgInByb3BzIjogeyJzaXplIjogMTAuNjU3ODk0NzM2ODQyMTA0fX0K');</script>\n",
       "    "
      ],
      "text/plain": [
       "<IPython.core.display.HTML object>"
      ]
     },
     "metadata": {},
     "output_type": "display_data"
    },
    {
     "data": {
      "text/html": [
       "\n",
       "        <div id=\"NgXDh2ago6MGBjgSc2C4JW\"></div>\n",
       "        <script>netpixi.call('NgXDh2ago6MGBjgSc2C4JW', 'dXk3a4tqEjFijUrzxfv563', 'changeGraph', 'eyJpZCI6IDc3MSwgInR5cGUiOiAidmVydGV4IiwgInByb3BzIjogeyJzaXplIjogMTIuNjc1NDM4NTk2NDkxMjI4fX0K');</script>\n",
       "    "
      ],
      "text/plain": [
       "<IPython.core.display.HTML object>"
      ]
     },
     "metadata": {},
     "output_type": "display_data"
    },
    {
     "data": {
      "text/html": [
       "\n",
       "        <div id=\"Z2g9uFt3E9Yc2iMjGWvKum\"></div>\n",
       "        <script>netpixi.call('Z2g9uFt3E9Yc2iMjGWvKum', 'dXk3a4tqEjFijUrzxfv563', 'changeGraph', 'eyJpZCI6IDc3MiwgInR5cGUiOiAidmVydGV4IiwgInByb3BzIjogeyJzaXplIjogMTIuNTg3NzE5Mjk4MjQ1NjEzfX0K');</script>\n",
       "    "
      ],
      "text/plain": [
       "<IPython.core.display.HTML object>"
      ]
     },
     "metadata": {},
     "output_type": "display_data"
    },
    {
     "data": {
      "text/html": [
       "\n",
       "        <div id=\"Leu2sBSx7ShSF452RVGpNa\"></div>\n",
       "        <script>netpixi.call('Leu2sBSx7ShSF452RVGpNa', 'dXk3a4tqEjFijUrzxfv563', 'changeGraph', 'eyJpZCI6IDc3MywgInR5cGUiOiAidmVydGV4IiwgInByb3BzIjogeyJzaXplIjogMTUuNzE2Mzc0MjY5MDA1ODQ3fX0K');</script>\n",
       "    "
      ],
      "text/plain": [
       "<IPython.core.display.HTML object>"
      ]
     },
     "metadata": {},
     "output_type": "display_data"
    },
    {
     "data": {
      "text/html": [
       "\n",
       "        <div id=\"N3TUhwo8qxshL5sHGq6ZiX\"></div>\n",
       "        <script>netpixi.call('N3TUhwo8qxshL5sHGq6ZiX', 'dXk3a4tqEjFijUrzxfv563', 'changeGraph', 'eyJpZCI6IDc3NCwgInR5cGUiOiAidmVydGV4IiwgInByb3BzIjogeyJzaXplIjogMTMuOTc2NjA4MTg3MTM0NTAyfX0K');</script>\n",
       "    "
      ],
      "text/plain": [
       "<IPython.core.display.HTML object>"
      ]
     },
     "metadata": {},
     "output_type": "display_data"
    },
    {
     "data": {
      "text/html": [
       "\n",
       "        <div id=\"9vnUqdqZwhZjC8fSY3NoFS\"></div>\n",
       "        <script>netpixi.call('9vnUqdqZwhZjC8fSY3NoFS', 'dXk3a4tqEjFijUrzxfv563', 'changeGraph', 'eyJpZCI6IDc3NSwgInR5cGUiOiAidmVydGV4IiwgInByb3BzIjogeyJzaXplIjogMTIuNTczMDk5NDE1MjA0Njc5fX0K');</script>\n",
       "    "
      ],
      "text/plain": [
       "<IPython.core.display.HTML object>"
      ]
     },
     "metadata": {},
     "output_type": "display_data"
    },
    {
     "data": {
      "text/html": [
       "\n",
       "        <div id=\"2sfBkmr26MRCGaoSYTisR7\"></div>\n",
       "        <script>netpixi.call('2sfBkmr26MRCGaoSYTisR7', 'dXk3a4tqEjFijUrzxfv563', 'changeGraph', 'eyJpZCI6IDc3NiwgInR5cGUiOiAidmVydGV4IiwgInByb3BzIjogeyJzaXplIjogMTEuNjgxMjg2NTQ5NzA3NjAyfX0K');</script>\n",
       "    "
      ],
      "text/plain": [
       "<IPython.core.display.HTML object>"
      ]
     },
     "metadata": {},
     "output_type": "display_data"
    },
    {
     "data": {
      "text/html": [
       "\n",
       "        <div id=\"7Zxs6U4qYDAj9xdxSFHrnw\"></div>\n",
       "        <script>netpixi.call('7Zxs6U4qYDAj9xdxSFHrnw', 'dXk3a4tqEjFijUrzxfv563', 'changeGraph', 'eyJpZCI6IDc3NywgInR5cGUiOiAidmVydGV4IiwgInByb3BzIjogeyJzaXplIjogMTAuODYyNTczMDk5NDE1MjA0fX0K');</script>\n",
       "    "
      ],
      "text/plain": [
       "<IPython.core.display.HTML object>"
      ]
     },
     "metadata": {},
     "output_type": "display_data"
    },
    {
     "data": {
      "text/html": [
       "\n",
       "        <div id=\"2xy8FjPmnpqRmG69ueoNUg\"></div>\n",
       "        <script>netpixi.call('2xy8FjPmnpqRmG69ueoNUg', 'dXk3a4tqEjFijUrzxfv563', 'changeGraph', 'eyJpZCI6IDc3OCwgInR5cGUiOiAidmVydGV4IiwgInByb3BzIjogeyJzaXplIjogMTAuNjI4NjU0OTcwNzYwMjM0fX0K');</script>\n",
       "    "
      ],
      "text/plain": [
       "<IPython.core.display.HTML object>"
      ]
     },
     "metadata": {},
     "output_type": "display_data"
    },
    {
     "data": {
      "text/html": [
       "\n",
       "        <div id=\"PPsbVYqKXJxuPs4shnKpzc\"></div>\n",
       "        <script>netpixi.call('PPsbVYqKXJxuPs4shnKpzc', 'dXk3a4tqEjFijUrzxfv563', 'changeGraph', 'eyJpZCI6IDc3OSwgInR5cGUiOiAidmVydGV4IiwgInByb3BzIjogeyJzaXplIjogMTAuMjE5Mjk4MjQ1NjE0MDM0fX0K');</script>\n",
       "    "
      ],
      "text/plain": [
       "<IPython.core.display.HTML object>"
      ]
     },
     "metadata": {},
     "output_type": "display_data"
    },
    {
     "data": {
      "text/html": [
       "\n",
       "        <div id=\"g4aHCmVASqbLW4rWeZSMKj\"></div>\n",
       "        <script>netpixi.call('g4aHCmVASqbLW4rWeZSMKj', 'dXk3a4tqEjFijUrzxfv563', 'changeGraph', 'eyJpZCI6IDc4MCwgInR5cGUiOiAidmVydGV4IiwgInByb3BzIjogeyJzaXplIjogMTYuNDc2NjA4MTg3MTM0NTAyfX0K');</script>\n",
       "    "
      ],
      "text/plain": [
       "<IPython.core.display.HTML object>"
      ]
     },
     "metadata": {},
     "output_type": "display_data"
    },
    {
     "data": {
      "text/html": [
       "\n",
       "        <div id=\"kjL96N5fmSfgafFiFHFer3\"></div>\n",
       "        <script>netpixi.call('kjL96N5fmSfgafFiFHFer3', 'dXk3a4tqEjFijUrzxfv563', 'changeGraph', 'eyJpZCI6IDc4MSwgInR5cGUiOiAidmVydGV4IiwgInByb3BzIjogeyJzaXplIjogMTYuMDk2NDkxMjI4MDcwMTc1fX0K');</script>\n",
       "    "
      ],
      "text/plain": [
       "<IPython.core.display.HTML object>"
      ]
     },
     "metadata": {},
     "output_type": "display_data"
    },
    {
     "data": {
      "text/html": [
       "\n",
       "        <div id=\"fu5GwnMnu5MymPXSCtqLvJ\"></div>\n",
       "        <script>netpixi.call('fu5GwnMnu5MymPXSCtqLvJ', 'dXk3a4tqEjFijUrzxfv563', 'changeGraph', 'eyJpZCI6IDc4MiwgInR5cGUiOiAidmVydGV4IiwgInByb3BzIjogeyJzaXplIjogMTQuOTQxNTIwNDY3ODM2MjU2fX0K');</script>\n",
       "    "
      ],
      "text/plain": [
       "<IPython.core.display.HTML object>"
      ]
     },
     "metadata": {},
     "output_type": "display_data"
    },
    {
     "data": {
      "text/html": [
       "\n",
       "        <div id=\"c7nJ5eS6D7vKT2JAoCDctV\"></div>\n",
       "        <script>netpixi.call('c7nJ5eS6D7vKT2JAoCDctV', 'dXk3a4tqEjFijUrzxfv563', 'changeGraph', 'eyJpZCI6IDc4MywgInR5cGUiOiAidmVydGV4IiwgInByb3BzIjogeyJzaXplIjogMTAuMTE2OTU5MDY0MzI3NDg1fX0K');</script>\n",
       "    "
      ],
      "text/plain": [
       "<IPython.core.display.HTML object>"
      ]
     },
     "metadata": {},
     "output_type": "display_data"
    },
    {
     "data": {
      "text/html": [
       "\n",
       "        <div id=\"UV3famwiCW4EtXiTt54cQj\"></div>\n",
       "        <script>netpixi.call('UV3famwiCW4EtXiTt54cQj', 'dXk3a4tqEjFijUrzxfv563', 'changeGraph', 'eyJpZCI6IDc4NCwgInR5cGUiOiAidmVydGV4IiwgInByb3BzIjogeyJzaXplIjogMTQuMjI1MTQ2MTk4ODMwNDA5fX0K');</script>\n",
       "    "
      ],
      "text/plain": [
       "<IPython.core.display.HTML object>"
      ]
     },
     "metadata": {},
     "output_type": "display_data"
    },
    {
     "data": {
      "text/html": [
       "\n",
       "        <div id=\"mzXiwJ73Eb8cY4r8RyQAQm\"></div>\n",
       "        <script>netpixi.call('mzXiwJ73Eb8cY4r8RyQAQm', 'dXk3a4tqEjFijUrzxfv563', 'changeGraph', 'eyJpZCI6IDc4NSwgInR5cGUiOiAidmVydGV4IiwgInByb3BzIjogeyJzaXplIjogMTEuNTc4OTQ3MzY4NDIxMDUzfX0K');</script>\n",
       "    "
      ],
      "text/plain": [
       "<IPython.core.display.HTML object>"
      ]
     },
     "metadata": {},
     "output_type": "display_data"
    },
    {
     "data": {
      "text/html": [
       "\n",
       "        <div id=\"CMZzesBBDeEUsFpn5GpwGt\"></div>\n",
       "        <script>netpixi.call('CMZzesBBDeEUsFpn5GpwGt', 'dXk3a4tqEjFijUrzxfv563', 'changeGraph', 'eyJpZCI6IDc4NiwgInR5cGUiOiAidmVydGV4IiwgInByb3BzIjogeyJzaXplIjogMTUuOTk0MTUyMDQ2NzgzNjI2fX0K');</script>\n",
       "    "
      ],
      "text/plain": [
       "<IPython.core.display.HTML object>"
      ]
     },
     "metadata": {},
     "output_type": "display_data"
    },
    {
     "data": {
      "text/html": [
       "\n",
       "        <div id=\"P2amTXpECz7a7pUYMYyqDh\"></div>\n",
       "        <script>netpixi.call('P2amTXpECz7a7pUYMYyqDh', 'dXk3a4tqEjFijUrzxfv563', 'changeGraph', 'eyJpZCI6IDc4NywgInR5cGUiOiAidmVydGV4IiwgInByb3BzIjogeyJzaXplIjogMTkuMTY2NjY2NjY2NjY2NjY0fX0K');</script>\n",
       "    "
      ],
      "text/plain": [
       "<IPython.core.display.HTML object>"
      ]
     },
     "metadata": {},
     "output_type": "display_data"
    },
    {
     "data": {
      "text/html": [
       "\n",
       "        <div id=\"GBueG5gZZEz2FNxRtToFNp\"></div>\n",
       "        <script>netpixi.call('GBueG5gZZEz2FNxRtToFNp', 'dXk3a4tqEjFijUrzxfv563', 'changeGraph', 'eyJpZCI6IDc4OCwgInR5cGUiOiAidmVydGV4IiwgInByb3BzIjogeyJzaXplIjogMTUuNTk5NDE1MjA0Njc4MzYyfX0K');</script>\n",
       "    "
      ],
      "text/plain": [
       "<IPython.core.display.HTML object>"
      ]
     },
     "metadata": {},
     "output_type": "display_data"
    },
    {
     "data": {
      "text/html": [
       "\n",
       "        <div id=\"LBw5Ay8P8TrEaupwhauPr6\"></div>\n",
       "        <script>netpixi.call('LBw5Ay8P8TrEaupwhauPr6', 'dXk3a4tqEjFijUrzxfv563', 'changeGraph', 'eyJpZCI6IDc4OSwgInR5cGUiOiAidmVydGV4IiwgInByb3BzIjogeyJzaXplIjogMTUuMDg3NzE5Mjk4MjQ1NjE1fX0K');</script>\n",
       "    "
      ],
      "text/plain": [
       "<IPython.core.display.HTML object>"
      ]
     },
     "metadata": {},
     "output_type": "display_data"
    },
    {
     "data": {
      "text/html": [
       "\n",
       "        <div id=\"B4sdbXvZQ5EXeuRhGrrqso\"></div>\n",
       "        <script>netpixi.call('B4sdbXvZQ5EXeuRhGrrqso', 'dXk3a4tqEjFijUrzxfv563', 'changeGraph', 'eyJpZCI6IDc5MCwgInR5cGUiOiAidmVydGV4IiwgInByb3BzIjogeyJzaXplIjogMTUuMjA0Njc4MzYyNTczMDk4fX0K');</script>\n",
       "    "
      ],
      "text/plain": [
       "<IPython.core.display.HTML object>"
      ]
     },
     "metadata": {},
     "output_type": "display_data"
    },
    {
     "data": {
      "text/html": [
       "\n",
       "        <div id=\"StUzUrEDNRfLV3rKH6runN\"></div>\n",
       "        <script>netpixi.call('StUzUrEDNRfLV3rKH6runN', 'dXk3a4tqEjFijUrzxfv563', 'changeGraph', 'eyJpZCI6IDc5MSwgInR5cGUiOiAidmVydGV4IiwgInByb3BzIjogeyJzaXplIjogMTAuNzE2Mzc0MjY5MDA1ODQ3fX0K');</script>\n",
       "    "
      ],
      "text/plain": [
       "<IPython.core.display.HTML object>"
      ]
     },
     "metadata": {},
     "output_type": "display_data"
    },
    {
     "data": {
      "text/html": [
       "\n",
       "        <div id=\"LCAvPXZQYDgt6e7ERe9saB\"></div>\n",
       "        <script>netpixi.call('LCAvPXZQYDgt6e7ERe9saB', 'dXk3a4tqEjFijUrzxfv563', 'changeGraph', 'eyJpZCI6IDc5MiwgInR5cGUiOiAidmVydGV4IiwgInByb3BzIjogeyJzaXplIjogMTEuNzU0Mzg1OTY0OTEyMjh9fQo=');</script>\n",
       "    "
      ],
      "text/plain": [
       "<IPython.core.display.HTML object>"
      ]
     },
     "metadata": {},
     "output_type": "display_data"
    },
    {
     "data": {
      "text/html": [
       "\n",
       "        <div id=\"dReBpGeghAuuakqBpwyqfT\"></div>\n",
       "        <script>netpixi.call('dReBpGeghAuuakqBpwyqfT', 'dXk3a4tqEjFijUrzxfv563', 'changeGraph', 'eyJpZCI6IDc5MywgInR5cGUiOiAidmVydGV4IiwgInByb3BzIjogeyJzaXplIjogMTAuNzc0ODUzODAxMTY5NTkxfX0K');</script>\n",
       "    "
      ],
      "text/plain": [
       "<IPython.core.display.HTML object>"
      ]
     },
     "metadata": {},
     "output_type": "display_data"
    },
    {
     "data": {
      "text/html": [
       "\n",
       "        <div id=\"VvLYhZF6U7Uiqm847GbStT\"></div>\n",
       "        <script>netpixi.call('VvLYhZF6U7Uiqm847GbStT', 'dXk3a4tqEjFijUrzxfv563', 'changeGraph', 'eyJpZCI6IDc5NCwgInR5cGUiOiAidmVydGV4IiwgInByb3BzIjogeyJzaXplIjogMTMuMjYwMjMzOTE4MTI4NjU1fX0K');</script>\n",
       "    "
      ],
      "text/plain": [
       "<IPython.core.display.HTML object>"
      ]
     },
     "metadata": {},
     "output_type": "display_data"
    },
    {
     "data": {
      "text/html": [
       "\n",
       "        <div id=\"f5yL8LQpBGoAbfWMfTFhjs\"></div>\n",
       "        <script>netpixi.call('f5yL8LQpBGoAbfWMfTFhjs', 'dXk3a4tqEjFijUrzxfv563', 'changeGraph', 'eyJpZCI6IDc5NSwgInR5cGUiOiAidmVydGV4IiwgInByb3BzIjogeyJzaXplIjogMTkuNTE3NTQzODU5NjQ5MTIzfX0K');</script>\n",
       "    "
      ],
      "text/plain": [
       "<IPython.core.display.HTML object>"
      ]
     },
     "metadata": {},
     "output_type": "display_data"
    },
    {
     "data": {
      "text/html": [
       "\n",
       "        <div id=\"euCvDLY3vWxxMxAdibBoxa\"></div>\n",
       "        <script>netpixi.call('euCvDLY3vWxxMxAdibBoxa', 'dXk3a4tqEjFijUrzxfv563', 'changeGraph', 'eyJpZCI6IDc5NiwgInR5cGUiOiAidmVydGV4IiwgInByb3BzIjogeyJzaXplIjogMTMuMzYyNTczMDk5NDE1MjA0fX0K');</script>\n",
       "    "
      ],
      "text/plain": [
       "<IPython.core.display.HTML object>"
      ]
     },
     "metadata": {},
     "output_type": "display_data"
    },
    {
     "data": {
      "text/html": [
       "\n",
       "        <div id=\"hkMjfi24DhNnuk4ChSsp78\"></div>\n",
       "        <script>netpixi.call('hkMjfi24DhNnuk4ChSsp78', 'dXk3a4tqEjFijUrzxfv563', 'changeGraph', 'eyJpZCI6IDc5NywgInR5cGUiOiAidmVydGV4IiwgInByb3BzIjogeyJzaXplIjogMTkuMTA4MTg3MTM0NTAyOTIzfX0K');</script>\n",
       "    "
      ],
      "text/plain": [
       "<IPython.core.display.HTML object>"
      ]
     },
     "metadata": {},
     "output_type": "display_data"
    },
    {
     "data": {
      "text/html": [
       "\n",
       "        <div id=\"VKBLjbPXngQHacD8guTHaE\"></div>\n",
       "        <script>netpixi.call('VKBLjbPXngQHacD8guTHaE', 'dXk3a4tqEjFijUrzxfv563', 'changeGraph', 'eyJpZCI6IDc5OCwgInR5cGUiOiAidmVydGV4IiwgInByb3BzIjogeyJzaXplIjogMTAuODA0MDkzNTY3MjUxNDYyfX0K');</script>\n",
       "    "
      ],
      "text/plain": [
       "<IPython.core.display.HTML object>"
      ]
     },
     "metadata": {},
     "output_type": "display_data"
    },
    {
     "data": {
      "text/html": [
       "\n",
       "        <div id=\"cCCMDcyZe2eua8VnpCvZaE\"></div>\n",
       "        <script>netpixi.call('cCCMDcyZe2eua8VnpCvZaE', 'dXk3a4tqEjFijUrzxfv563', 'changeGraph', 'eyJpZCI6IDc5OSwgInR5cGUiOiAidmVydGV4IiwgInByb3BzIjogeyJzaXplIjogMTYuNzY5MDA1ODQ3OTUzMjE3fX0K');</script>\n",
       "    "
      ],
      "text/plain": [
       "<IPython.core.display.HTML object>"
      ]
     },
     "metadata": {},
     "output_type": "display_data"
    },
    {
     "data": {
      "text/html": [
       "\n",
       "        <div id=\"RohhnpwmYVxa85hvNrVTaP\"></div>\n",
       "        <script>netpixi.call('RohhnpwmYVxa85hvNrVTaP', 'dXk3a4tqEjFijUrzxfv563', 'changeGraph', 'eyJpZCI6IDgwMCwgInR5cGUiOiAidmVydGV4IiwgInByb3BzIjogeyJzaXplIjogMTcuNjkwMDU4NDc5NTMyMTYyfX0K');</script>\n",
       "    "
      ],
      "text/plain": [
       "<IPython.core.display.HTML object>"
      ]
     },
     "metadata": {},
     "output_type": "display_data"
    },
    {
     "data": {
      "text/html": [
       "\n",
       "        <div id=\"ZHj6bEjxwb2abBsEVWKijj\"></div>\n",
       "        <script>netpixi.call('ZHj6bEjxwb2abBsEVWKijj', 'dXk3a4tqEjFijUrzxfv563', 'changeGraph', 'eyJpZCI6IDgwMSwgInR5cGUiOiAidmVydGV4IiwgInByb3BzIjogeyJzaXplIjogMTkuNzUxNDYxOTg4MzA0MDk0fX0K');</script>\n",
       "    "
      ],
      "text/plain": [
       "<IPython.core.display.HTML object>"
      ]
     },
     "metadata": {},
     "output_type": "display_data"
    },
    {
     "data": {
      "text/html": [
       "\n",
       "        <div id=\"Ec5c3b9tm3LRizYmdxmBTU\"></div>\n",
       "        <script>netpixi.call('Ec5c3b9tm3LRizYmdxmBTU', 'dXk3a4tqEjFijUrzxfv563', 'changeGraph', 'eyJpZCI6IDgwMiwgInR5cGUiOiAidmVydGV4IiwgInByb3BzIjogeyJzaXplIjogMTIuMDYxNDAzNTA4NzcxOTN9fQo=');</script>\n",
       "    "
      ],
      "text/plain": [
       "<IPython.core.display.HTML object>"
      ]
     },
     "metadata": {},
     "output_type": "display_data"
    },
    {
     "data": {
      "text/html": [
       "\n",
       "        <div id=\"FHFMeiLqrHmur8TmJvmc7a\"></div>\n",
       "        <script>netpixi.call('FHFMeiLqrHmur8TmJvmc7a', 'dXk3a4tqEjFijUrzxfv563', 'changeGraph', 'eyJpZCI6IDgwMywgInR5cGUiOiAidmVydGV4IiwgInByb3BzIjogeyJzaXplIjogMTMuMTcyNTE0NjE5ODgzMDR9fQo=');</script>\n",
       "    "
      ],
      "text/plain": [
       "<IPython.core.display.HTML object>"
      ]
     },
     "metadata": {},
     "output_type": "display_data"
    },
    {
     "data": {
      "text/html": [
       "\n",
       "        <div id=\"NUgDcvTXQ2wz4gCQJpxmtM\"></div>\n",
       "        <script>netpixi.call('NUgDcvTXQ2wz4gCQJpxmtM', 'dXk3a4tqEjFijUrzxfv563', 'changeGraph', 'eyJpZCI6IDgwNCwgInR5cGUiOiAidmVydGV4IiwgInByb3BzIjogeyJzaXplIjogMTIuNDg1MzgwMTE2OTU5MDY0fX0K');</script>\n",
       "    "
      ],
      "text/plain": [
       "<IPython.core.display.HTML object>"
      ]
     },
     "metadata": {},
     "output_type": "display_data"
    },
    {
     "data": {
      "text/html": [
       "\n",
       "        <div id=\"YN9jXXp6K4GAw3gBZjD35Y\"></div>\n",
       "        <script>netpixi.call('YN9jXXp6K4GAw3gBZjD35Y', 'dXk3a4tqEjFijUrzxfv563', 'changeGraph', 'eyJpZCI6IDgwNSwgInR5cGUiOiAidmVydGV4IiwgInByb3BzIjogeyJzaXplIjogMTMuMjg5NDczNjg0MjEwNTI2fX0K');</script>\n",
       "    "
      ],
      "text/plain": [
       "<IPython.core.display.HTML object>"
      ]
     },
     "metadata": {},
     "output_type": "display_data"
    },
    {
     "data": {
      "text/html": [
       "\n",
       "        <div id=\"VXZgLyCqrpUaxLeU7dikS5\"></div>\n",
       "        <script>netpixi.call('VXZgLyCqrpUaxLeU7dikS5', 'dXk3a4tqEjFijUrzxfv563', 'changeGraph', 'eyJpZCI6IDgwNiwgInR5cGUiOiAidmVydGV4IiwgInByb3BzIjogeyJzaXplIjogMTEuMDgxODcxMzQ1MDI5MjR9fQo=');</script>\n",
       "    "
      ],
      "text/plain": [
       "<IPython.core.display.HTML object>"
      ]
     },
     "metadata": {},
     "output_type": "display_data"
    },
    {
     "data": {
      "text/html": [
       "\n",
       "        <div id=\"jPadcjafW5Qhy7PbchD2jp\"></div>\n",
       "        <script>netpixi.call('jPadcjafW5Qhy7PbchD2jp', 'dXk3a4tqEjFijUrzxfv563', 'changeGraph', 'eyJpZCI6IDgwNywgInR5cGUiOiAidmVydGV4IiwgInByb3BzIjogeyJzaXplIjogMTEuNDMyNzQ4NTM4MDExNjk2fX0K');</script>\n",
       "    "
      ],
      "text/plain": [
       "<IPython.core.display.HTML object>"
      ]
     },
     "metadata": {},
     "output_type": "display_data"
    },
    {
     "data": {
      "text/html": [
       "\n",
       "        <div id=\"NYFuTfyN6zrxgrdsuU8TQq\"></div>\n",
       "        <script>netpixi.call('NYFuTfyN6zrxgrdsuU8TQq', 'dXk3a4tqEjFijUrzxfv563', 'changeGraph', 'eyJpZCI6IDgwOCwgInR5cGUiOiAidmVydGV4IiwgInByb3BzIjogeyJzaXplIjogMTEuNTkzNTY3MjUxNDYxOTg3fX0K');</script>\n",
       "    "
      ],
      "text/plain": [
       "<IPython.core.display.HTML object>"
      ]
     },
     "metadata": {},
     "output_type": "display_data"
    },
    {
     "data": {
      "text/html": [
       "\n",
       "        <div id=\"d5LxBSwX4aoCBakdnjo27b\"></div>\n",
       "        <script>netpixi.call('d5LxBSwX4aoCBakdnjo27b', 'dXk3a4tqEjFijUrzxfv563', 'changeGraph', 'eyJpZCI6IDgwOSwgInR5cGUiOiAidmVydGV4IiwgInByb3BzIjogeyJzaXplIjogMTguNDc5NTMyMTYzNzQyNjl9fQo=');</script>\n",
       "    "
      ],
      "text/plain": [
       "<IPython.core.display.HTML object>"
      ]
     },
     "metadata": {},
     "output_type": "display_data"
    },
    {
     "data": {
      "text/html": [
       "\n",
       "        <div id=\"gtY5p3R6VCroedjybtMTWL\"></div>\n",
       "        <script>netpixi.call('gtY5p3R6VCroedjybtMTWL', 'dXk3a4tqEjFijUrzxfv563', 'changeGraph', 'eyJpZCI6IDgxMCwgInR5cGUiOiAidmVydGV4IiwgInByb3BzIjogeyJzaXplIjogMTcuNDQxNTIwNDY3ODM2MjU2fX0K');</script>\n",
       "    "
      ],
      "text/plain": [
       "<IPython.core.display.HTML object>"
      ]
     },
     "metadata": {},
     "output_type": "display_data"
    },
    {
     "data": {
      "text/html": [
       "\n",
       "        <div id=\"izUvGMSDT4eNVgfDUtY3xd\"></div>\n",
       "        <script>netpixi.call('izUvGMSDT4eNVgfDUtY3xd', 'dXk3a4tqEjFijUrzxfv563', 'changeGraph', 'eyJpZCI6IDgxMSwgInR5cGUiOiAidmVydGV4IiwgInByb3BzIjogeyJzaXplIjogMTAuNTExNjk1OTA2NDMyNzQ5fX0K');</script>\n",
       "    "
      ],
      "text/plain": [
       "<IPython.core.display.HTML object>"
      ]
     },
     "metadata": {},
     "output_type": "display_data"
    },
    {
     "data": {
      "text/html": [
       "\n",
       "        <div id=\"2HiWPuEg4z5u2vzcv9eLug\"></div>\n",
       "        <script>netpixi.call('2HiWPuEg4z5u2vzcv9eLug', 'dXk3a4tqEjFijUrzxfv563', 'changeGraph', 'eyJpZCI6IDgxMiwgInR5cGUiOiAidmVydGV4IiwgInByb3BzIjogeyJzaXplIjogMTUuNTI2MzE1Nzg5NDczNjgzfX0K');</script>\n",
       "    "
      ],
      "text/plain": [
       "<IPython.core.display.HTML object>"
      ]
     },
     "metadata": {},
     "output_type": "display_data"
    },
    {
     "data": {
      "text/html": [
       "\n",
       "        <div id=\"5PfbU2JFkdrL4Zgo3YcXSY\"></div>\n",
       "        <script>netpixi.call('5PfbU2JFkdrL4Zgo3YcXSY', 'dXk3a4tqEjFijUrzxfv563', 'changeGraph', 'eyJpZCI6IDgxMywgInR5cGUiOiAidmVydGV4IiwgInByb3BzIjogeyJzaXplIjogMTUuMDE0NjE5ODgzMDQwOTM2fX0K');</script>\n",
       "    "
      ],
      "text/plain": [
       "<IPython.core.display.HTML object>"
      ]
     },
     "metadata": {},
     "output_type": "display_data"
    },
    {
     "data": {
      "text/html": [
       "\n",
       "        <div id=\"6pmBxrN4StqVQfpPKCirxf\"></div>\n",
       "        <script>netpixi.call('6pmBxrN4StqVQfpPKCirxf', 'dXk3a4tqEjFijUrzxfv563', 'changeGraph', 'eyJpZCI6IDgxNCwgInR5cGUiOiAidmVydGV4IiwgInByb3BzIjogeyJzaXplIjogMTEuMzU5NjQ5MTIyODA3MDE3fX0K');</script>\n",
       "    "
      ],
      "text/plain": [
       "<IPython.core.display.HTML object>"
      ]
     },
     "metadata": {},
     "output_type": "display_data"
    },
    {
     "data": {
      "text/html": [
       "\n",
       "        <div id=\"TTVi4AFJFEehhMzXpx4btf\"></div>\n",
       "        <script>netpixi.call('TTVi4AFJFEehhMzXpx4btf', 'dXk3a4tqEjFijUrzxfv563', 'changeGraph', 'eyJpZCI6IDgxNSwgInR5cGUiOiAidmVydGV4IiwgInByb3BzIjogeyJzaXplIjogMTIuNDEyMjgwNzAxNzU0Mzg1fX0K');</script>\n",
       "    "
      ],
      "text/plain": [
       "<IPython.core.display.HTML object>"
      ]
     },
     "metadata": {},
     "output_type": "display_data"
    },
    {
     "data": {
      "text/html": [
       "\n",
       "        <div id=\"FNgayToiKMM4cTkpKWSdUe\"></div>\n",
       "        <script>netpixi.call('FNgayToiKMM4cTkpKWSdUe', 'dXk3a4tqEjFijUrzxfv563', 'changeGraph', 'eyJpZCI6IDgxNiwgInR5cGUiOiAidmVydGV4IiwgInByb3BzIjogeyJzaXplIjogMTEuNTA1ODQ3OTUzMjE2Mzc0fX0K');</script>\n",
       "    "
      ],
      "text/plain": [
       "<IPython.core.display.HTML object>"
      ]
     },
     "metadata": {},
     "output_type": "display_data"
    },
    {
     "data": {
      "text/html": [
       "\n",
       "        <div id=\"TRQwRdWUmhVe8GxEw7xF9y\"></div>\n",
       "        <script>netpixi.call('TRQwRdWUmhVe8GxEw7xF9y', 'dXk3a4tqEjFijUrzxfv563', 'changeGraph', 'eyJpZCI6IDgxNywgInR5cGUiOiAidmVydGV4IiwgInByb3BzIjogeyJzaXplIjogMTMuNjk4ODMwNDA5MzU2NzI0fX0K');</script>\n",
       "    "
      ],
      "text/plain": [
       "<IPython.core.display.HTML object>"
      ]
     },
     "metadata": {},
     "output_type": "display_data"
    },
    {
     "data": {
      "text/html": [
       "\n",
       "        <div id=\"36ZEiKEebbZfEoJgjmiNsk\"></div>\n",
       "        <script>netpixi.call('36ZEiKEebbZfEoJgjmiNsk', 'dXk3a4tqEjFijUrzxfv563', 'changeGraph', 'eyJpZCI6IDgxOCwgInR5cGUiOiAidmVydGV4IiwgInByb3BzIjogeyJzaXplIjogMTQuNTc2MDIzMzkxODEyODY0fX0K');</script>\n",
       "    "
      ],
      "text/plain": [
       "<IPython.core.display.HTML object>"
      ]
     },
     "metadata": {},
     "output_type": "display_data"
    },
    {
     "data": {
      "text/html": [
       "\n",
       "        <div id=\"FiD9s9jNaUChv68LfMccmR\"></div>\n",
       "        <script>netpixi.call('FiD9s9jNaUChv68LfMccmR', 'dXk3a4tqEjFijUrzxfv563', 'changeGraph', 'eyJpZCI6IDgxOSwgInR5cGUiOiAidmVydGV4IiwgInByb3BzIjogeyJzaXplIjogMTMuNTIzMzkxODEyODY1NDk4fX0K');</script>\n",
       "    "
      ],
      "text/plain": [
       "<IPython.core.display.HTML object>"
      ]
     },
     "metadata": {},
     "output_type": "display_data"
    },
    {
     "data": {
      "text/html": [
       "\n",
       "        <div id=\"aM3dmGqunsmcLnwK6ormxp\"></div>\n",
       "        <script>netpixi.call('aM3dmGqunsmcLnwK6ormxp', 'dXk3a4tqEjFijUrzxfv563', 'changeGraph', 'eyJpZCI6IDgyMCwgInR5cGUiOiAidmVydGV4IiwgInByb3BzIjogeyJzaXplIjogMTAuMTAyMzM5MTgxMjg2NTQ5fX0K');</script>\n",
       "    "
      ],
      "text/plain": [
       "<IPython.core.display.HTML object>"
      ]
     },
     "metadata": {},
     "output_type": "display_data"
    },
    {
     "data": {
      "text/html": [
       "\n",
       "        <div id=\"8DjZDQez8hdPLpg7ThTdcE\"></div>\n",
       "        <script>netpixi.call('8DjZDQez8hdPLpg7ThTdcE', 'dXk3a4tqEjFijUrzxfv563', 'changeGraph', 'eyJpZCI6IDgyMSwgInR5cGUiOiAidmVydGV4IiwgInByb3BzIjogeyJzaXplIjogMTUuMTYwODE4NzEzNDUwMjkzfX0K');</script>\n",
       "    "
      ],
      "text/plain": [
       "<IPython.core.display.HTML object>"
      ]
     },
     "metadata": {},
     "output_type": "display_data"
    },
    {
     "data": {
      "text/html": [
       "\n",
       "        <div id=\"M3nQ7WBxkHDC3WBXAsfUtz\"></div>\n",
       "        <script>netpixi.call('M3nQ7WBxkHDC3WBXAsfUtz', 'dXk3a4tqEjFijUrzxfv563', 'changeGraph', 'eyJpZCI6IDgyMiwgInR5cGUiOiAidmVydGV4IiwgInByb3BzIjogeyJzaXplIjogMTMuMDcwMTc1NDM4NTk2NDl9fQo=');</script>\n",
       "    "
      ],
      "text/plain": [
       "<IPython.core.display.HTML object>"
      ]
     },
     "metadata": {},
     "output_type": "display_data"
    },
    {
     "data": {
      "text/html": [
       "\n",
       "        <div id=\"jg7iiU43VTuxtcC8ijMpBv\"></div>\n",
       "        <script>netpixi.call('jg7iiU43VTuxtcC8ijMpBv', 'dXk3a4tqEjFijUrzxfv563', 'changeGraph', 'eyJpZCI6IDgyMywgInR5cGUiOiAidmVydGV4IiwgInByb3BzIjogeyJzaXplIjogMTUuMzM2MjU3MzA5OTQxNTJ9fQo=');</script>\n",
       "    "
      ],
      "text/plain": [
       "<IPython.core.display.HTML object>"
      ]
     },
     "metadata": {},
     "output_type": "display_data"
    },
    {
     "data": {
      "text/html": [
       "\n",
       "        <div id=\"EaJ86U5UEDNrpgvjdpVdfh\"></div>\n",
       "        <script>netpixi.call('EaJ86U5UEDNrpgvjdpVdfh', 'dXk3a4tqEjFijUrzxfv563', 'changeGraph', 'eyJpZCI6IDgyNCwgInR5cGUiOiAidmVydGV4IiwgInByb3BzIjogeyJzaXplIjogMTIuNzA0Njc4MzYyNTczMDk4fX0K');</script>\n",
       "    "
      ],
      "text/plain": [
       "<IPython.core.display.HTML object>"
      ]
     },
     "metadata": {},
     "output_type": "display_data"
    },
    {
     "data": {
      "text/html": [
       "\n",
       "        <div id=\"2mCBMgFsKGXPwLu9uDafHR\"></div>\n",
       "        <script>netpixi.call('2mCBMgFsKGXPwLu9uDafHR', 'dXk3a4tqEjFijUrzxfv563', 'changeGraph', 'eyJpZCI6IDgyNSwgInR5cGUiOiAidmVydGV4IiwgInByb3BzIjogeyJzaXplIjogMTMuNDUwMjkyMzk3NjYwODE5fX0K');</script>\n",
       "    "
      ],
      "text/plain": [
       "<IPython.core.display.HTML object>"
      ]
     },
     "metadata": {},
     "output_type": "display_data"
    },
    {
     "data": {
      "text/html": [
       "\n",
       "        <div id=\"Qb7C8jyZrmpNyLbAfbE7if\"></div>\n",
       "        <script>netpixi.call('Qb7C8jyZrmpNyLbAfbE7if', 'dXk3a4tqEjFijUrzxfv563', 'changeGraph', 'eyJpZCI6IDgyNiwgInR5cGUiOiAidmVydGV4IiwgInByb3BzIjogeyJzaXplIjogMTYuMDM4MDExNjk1OTA2NDM0fX0K');</script>\n",
       "    "
      ],
      "text/plain": [
       "<IPython.core.display.HTML object>"
      ]
     },
     "metadata": {},
     "output_type": "display_data"
    },
    {
     "data": {
      "text/html": [
       "\n",
       "        <div id=\"AuxQwPfS8buT7Q4vCQZ3mH\"></div>\n",
       "        <script>netpixi.call('AuxQwPfS8buT7Q4vCQZ3mH', 'dXk3a4tqEjFijUrzxfv563', 'changeGraph', 'eyJpZCI6IDgyNywgInR5cGUiOiAidmVydGV4IiwgInByb3BzIjogeyJzaXplIjogMTMuMDQwOTM1NjcyNTE0NjJ9fQo=');</script>\n",
       "    "
      ],
      "text/plain": [
       "<IPython.core.display.HTML object>"
      ]
     },
     "metadata": {},
     "output_type": "display_data"
    },
    {
     "data": {
      "text/html": [
       "\n",
       "        <div id=\"AbZ9r2vTwJuih3rSMp4F9H\"></div>\n",
       "        <script>netpixi.call('AbZ9r2vTwJuih3rSMp4F9H', 'dXk3a4tqEjFijUrzxfv563', 'changeGraph', 'eyJpZCI6IDgyOCwgInR5cGUiOiAidmVydGV4IiwgInByb3BzIjogeyJzaXplIjogMTIuMDE3NTQzODU5NjQ5MTIzfX0K');</script>\n",
       "    "
      ],
      "text/plain": [
       "<IPython.core.display.HTML object>"
      ]
     },
     "metadata": {},
     "output_type": "display_data"
    },
    {
     "data": {
      "text/html": [
       "\n",
       "        <div id=\"8X2AvUpM4GGx9KWXEXDoTr\"></div>\n",
       "        <script>netpixi.call('8X2AvUpM4GGx9KWXEXDoTr', 'dXk3a4tqEjFijUrzxfv563', 'changeGraph', 'eyJpZCI6IDgyOSwgInR5cGUiOiAidmVydGV4IiwgInByb3BzIjogeyJzaXplIjogMTAuNzg5NDczNjg0MjEwNTI2fX0K');</script>\n",
       "    "
      ],
      "text/plain": [
       "<IPython.core.display.HTML object>"
      ]
     },
     "metadata": {},
     "output_type": "display_data"
    },
    {
     "data": {
      "text/html": [
       "\n",
       "        <div id=\"Wu9JZyPkanRagyrChzBG5p\"></div>\n",
       "        <script>netpixi.call('Wu9JZyPkanRagyrChzBG5p', 'dXk3a4tqEjFijUrzxfv563', 'changeGraph', 'eyJpZCI6IDgzMCwgInR5cGUiOiAidmVydGV4IiwgInByb3BzIjogeyJzaXplIjogMTMuODQ1MDI5MjM5NzY2MDgxfX0K');</script>\n",
       "    "
      ],
      "text/plain": [
       "<IPython.core.display.HTML object>"
      ]
     },
     "metadata": {},
     "output_type": "display_data"
    },
    {
     "data": {
      "text/html": [
       "\n",
       "        <div id=\"7DnXG7iSTTGLorxtsDtYB2\"></div>\n",
       "        <script>netpixi.call('7DnXG7iSTTGLorxtsDtYB2', 'dXk3a4tqEjFijUrzxfv563', 'changeGraph', 'eyJpZCI6IDgzMSwgInR5cGUiOiAidmVydGV4IiwgInByb3BzIjogeyJzaXplIjogMTQuODgzMDQwOTM1NjcyNTE1fX0K');</script>\n",
       "    "
      ],
      "text/plain": [
       "<IPython.core.display.HTML object>"
      ]
     },
     "metadata": {},
     "output_type": "display_data"
    },
    {
     "data": {
      "text/html": [
       "\n",
       "        <div id=\"aadUWzcoMjo5DQLZK2KJpJ\"></div>\n",
       "        <script>netpixi.call('aadUWzcoMjo5DQLZK2KJpJ', 'dXk3a4tqEjFijUrzxfv563', 'changeGraph', 'eyJpZCI6IDgzMiwgInR5cGUiOiAidmVydGV4IiwgInByb3BzIjogeyJzaXplIjogMTMuMjc0ODUzODAxMTY5NTkxfX0K');</script>\n",
       "    "
      ],
      "text/plain": [
       "<IPython.core.display.HTML object>"
      ]
     },
     "metadata": {},
     "output_type": "display_data"
    },
    {
     "data": {
      "text/html": [
       "\n",
       "        <div id=\"gaUWsXnWyCDFZr4bokDd6v\"></div>\n",
       "        <script>netpixi.call('gaUWsXnWyCDFZr4bokDd6v', 'dXk3a4tqEjFijUrzxfv563', 'changeGraph', 'eyJpZCI6IDgzMywgInR5cGUiOiAidmVydGV4IiwgInByb3BzIjogeyJzaXplIjogMTEuNDAzNTA4NzcxOTI5ODI1fX0K');</script>\n",
       "    "
      ],
      "text/plain": [
       "<IPython.core.display.HTML object>"
      ]
     },
     "metadata": {},
     "output_type": "display_data"
    },
    {
     "data": {
      "text/html": [
       "\n",
       "        <div id=\"bwwFAXWmQe3GyJ3aTXMwtL\"></div>\n",
       "        <script>netpixi.call('bwwFAXWmQe3GyJ3aTXMwtL', 'dXk3a4tqEjFijUrzxfv563', 'changeGraph', 'eyJpZCI6IDgzNCwgInR5cGUiOiAidmVydGV4IiwgInByb3BzIjogeyJzaXplIjogMTUuNzMwOTk0MTUyMDQ2NzgzfX0K');</script>\n",
       "    "
      ],
      "text/plain": [
       "<IPython.core.display.HTML object>"
      ]
     },
     "metadata": {},
     "output_type": "display_data"
    },
    {
     "data": {
      "text/html": [
       "\n",
       "        <div id=\"DsGUrvDCoFpNKpUehRN8yF\"></div>\n",
       "        <script>netpixi.call('DsGUrvDCoFpNKpUehRN8yF', 'dXk3a4tqEjFijUrzxfv563', 'changeGraph', 'eyJpZCI6IDgzNSwgInR5cGUiOiAidmVydGV4IiwgInByb3BzIjogeyJzaXplIjogMTAuNzAxNzU0Mzg1OTY0OTEzfX0K');</script>\n",
       "    "
      ],
      "text/plain": [
       "<IPython.core.display.HTML object>"
      ]
     },
     "metadata": {},
     "output_type": "display_data"
    },
    {
     "data": {
      "text/html": [
       "\n",
       "        <div id=\"TKqEa6EJgXpZdfqLPrkrjw\"></div>\n",
       "        <script>netpixi.call('TKqEa6EJgXpZdfqLPrkrjw', 'dXk3a4tqEjFijUrzxfv563', 'changeGraph', 'eyJpZCI6IDgzNiwgInR5cGUiOiAidmVydGV4IiwgInByb3BzIjogeyJzaXplIjogMTMuNjg0MjEwNTI2MzE1Nzl9fQo=');</script>\n",
       "    "
      ],
      "text/plain": [
       "<IPython.core.display.HTML object>"
      ]
     },
     "metadata": {},
     "output_type": "display_data"
    },
    {
     "data": {
      "text/html": [
       "\n",
       "        <div id=\"AZ6z28e7sRpyVovUznCdZj\"></div>\n",
       "        <script>netpixi.call('AZ6z28e7sRpyVovUznCdZj', 'dXk3a4tqEjFijUrzxfv563', 'changeGraph', 'eyJpZCI6IDgzNywgInR5cGUiOiAidmVydGV4IiwgInByb3BzIjogeyJzaXplIjogMTEuNjUyMDQ2NzgzNjI1NzMyfX0K');</script>\n",
       "    "
      ],
      "text/plain": [
       "<IPython.core.display.HTML object>"
      ]
     },
     "metadata": {},
     "output_type": "display_data"
    },
    {
     "data": {
      "text/html": [
       "\n",
       "        <div id=\"jhdiiWXhZeRqs5Lgy8Hu42\"></div>\n",
       "        <script>netpixi.call('jhdiiWXhZeRqs5Lgy8Hu42', 'dXk3a4tqEjFijUrzxfv563', 'changeGraph', 'eyJpZCI6IDgzOCwgInR5cGUiOiAidmVydGV4IiwgInByb3BzIjogeyJzaXplIjogMTEuNzgzNjI1NzMwOTk0MTUxfX0K');</script>\n",
       "    "
      ],
      "text/plain": [
       "<IPython.core.display.HTML object>"
      ]
     },
     "metadata": {},
     "output_type": "display_data"
    },
    {
     "data": {
      "text/html": [
       "\n",
       "        <div id=\"Y8ioRQ7iotVCBYDG3hiYki\"></div>\n",
       "        <script>netpixi.call('Y8ioRQ7iotVCBYDG3hiYki', 'dXk3a4tqEjFijUrzxfv563', 'changeGraph', 'eyJpZCI6IDgzOSwgInR5cGUiOiAidmVydGV4IiwgInByb3BzIjogeyJzaXplIjogMTUuNTcwMTc1NDM4NTk2NDl9fQo=');</script>\n",
       "    "
      ],
      "text/plain": [
       "<IPython.core.display.HTML object>"
      ]
     },
     "metadata": {},
     "output_type": "display_data"
    },
    {
     "data": {
      "text/html": [
       "\n",
       "        <div id=\"Su7kWEFqSVorXsdnPhLdbQ\"></div>\n",
       "        <script>netpixi.call('Su7kWEFqSVorXsdnPhLdbQ', 'dXk3a4tqEjFijUrzxfv563', 'changeGraph', 'eyJpZCI6IDg0MCwgInR5cGUiOiAidmVydGV4IiwgInByb3BzIjogeyJzaXplIjogMTUuNzc0ODUzODAxMTY5NTkxfX0K');</script>\n",
       "    "
      ],
      "text/plain": [
       "<IPython.core.display.HTML object>"
      ]
     },
     "metadata": {},
     "output_type": "display_data"
    },
    {
     "data": {
      "text/html": [
       "\n",
       "        <div id=\"g7U3te6irWnSPC4JShTqF2\"></div>\n",
       "        <script>netpixi.call('g7U3te6irWnSPC4JShTqF2', 'dXk3a4tqEjFijUrzxfv563', 'changeGraph', 'eyJpZCI6IDg0MSwgInR5cGUiOiAidmVydGV4IiwgInByb3BzIjogeyJzaXplIjogMTQuNTQ2NzgzNjI1NzMwOTk0fX0K');</script>\n",
       "    "
      ],
      "text/plain": [
       "<IPython.core.display.HTML object>"
      ]
     },
     "metadata": {},
     "output_type": "display_data"
    },
    {
     "data": {
      "text/html": [
       "\n",
       "        <div id=\"XQYvGEZspndCN95ym72Vwc\"></div>\n",
       "        <script>netpixi.call('XQYvGEZspndCN95ym72Vwc', 'dXk3a4tqEjFijUrzxfv563', 'changeGraph', 'eyJpZCI6IDg0MiwgInR5cGUiOiAidmVydGV4IiwgInByb3BzIjogeyJzaXplIjogMTAuODE4NzEzNDUwMjkyMzk4fX0K');</script>\n",
       "    "
      ],
      "text/plain": [
       "<IPython.core.display.HTML object>"
      ]
     },
     "metadata": {},
     "output_type": "display_data"
    },
    {
     "data": {
      "text/html": [
       "\n",
       "        <div id=\"CAhDhFCbuUYBH8xbeA8rCb\"></div>\n",
       "        <script>netpixi.call('CAhDhFCbuUYBH8xbeA8rCb', 'dXk3a4tqEjFijUrzxfv563', 'changeGraph', 'eyJpZCI6IDg0MywgInR5cGUiOiAidmVydGV4IiwgInByb3BzIjogeyJzaXplIjogMTMuODE1Nzg5NDczNjg0MjF9fQo=');</script>\n",
       "    "
      ],
      "text/plain": [
       "<IPython.core.display.HTML object>"
      ]
     },
     "metadata": {},
     "output_type": "display_data"
    },
    {
     "data": {
      "text/html": [
       "\n",
       "        <div id=\"kLsLtmWEC6UvazKkicLSPB\"></div>\n",
       "        <script>netpixi.call('kLsLtmWEC6UvazKkicLSPB', 'dXk3a4tqEjFijUrzxfv563', 'changeGraph', 'eyJpZCI6IDg0NCwgInR5cGUiOiAidmVydGV4IiwgInByb3BzIjogeyJzaXplIjogMTIuMDc2MDIzMzkxODEyODY2fX0K');</script>\n",
       "    "
      ],
      "text/plain": [
       "<IPython.core.display.HTML object>"
      ]
     },
     "metadata": {},
     "output_type": "display_data"
    },
    {
     "data": {
      "text/html": [
       "\n",
       "        <div id=\"87beZN3PVEL7k3Yogn6F7K\"></div>\n",
       "        <script>netpixi.call('87beZN3PVEL7k3Yogn6F7K', 'dXk3a4tqEjFijUrzxfv563', 'changeGraph', 'eyJpZCI6IDg0NSwgInR5cGUiOiAidmVydGV4IiwgInByb3BzIjogeyJzaXplIjogMTAuMDE0NjE5ODgzMDQwOTM2fX0K');</script>\n",
       "    "
      ],
      "text/plain": [
       "<IPython.core.display.HTML object>"
      ]
     },
     "metadata": {},
     "output_type": "display_data"
    },
    {
     "data": {
      "text/html": [
       "\n",
       "        <div id=\"kQ8hh6bXGtqZEttwsC9esa\"></div>\n",
       "        <script>netpixi.call('kQ8hh6bXGtqZEttwsC9esa', 'dXk3a4tqEjFijUrzxfv563', 'changeGraph', 'eyJpZCI6IDg0NiwgInR5cGUiOiAidmVydGV4IiwgInByb3BzIjogeyJzaXplIjogMTMuNzg2NTQ5NzA3NjAyMzR9fQo=');</script>\n",
       "    "
      ],
      "text/plain": [
       "<IPython.core.display.HTML object>"
      ]
     },
     "metadata": {},
     "output_type": "display_data"
    },
    {
     "data": {
      "text/html": [
       "\n",
       "        <div id=\"LtQjkvxBnvhHXioZjx2gbs\"></div>\n",
       "        <script>netpixi.call('LtQjkvxBnvhHXioZjx2gbs', 'dXk3a4tqEjFijUrzxfv563', 'changeGraph', 'eyJpZCI6IDg0NywgInR5cGUiOiAidmVydGV4IiwgInByb3BzIjogeyJzaXplIjogMTIuNDQxNTIwNDY3ODM2MjU3fX0K');</script>\n",
       "    "
      ],
      "text/plain": [
       "<IPython.core.display.HTML object>"
      ]
     },
     "metadata": {},
     "output_type": "display_data"
    },
    {
     "data": {
      "text/html": [
       "\n",
       "        <div id=\"YwFAuFH2gr2Ah5gWp2cqrX\"></div>\n",
       "        <script>netpixi.call('YwFAuFH2gr2Ah5gWp2cqrX', 'dXk3a4tqEjFijUrzxfv563', 'changeGraph', 'eyJpZCI6IDg0OCwgInR5cGUiOiAidmVydGV4IiwgInByb3BzIjogeyJzaXplIjogMTEuMTI1NzMwOTk0MTUyMDQ3fX0K');</script>\n",
       "    "
      ],
      "text/plain": [
       "<IPython.core.display.HTML object>"
      ]
     },
     "metadata": {},
     "output_type": "display_data"
    },
    {
     "data": {
      "text/html": [
       "\n",
       "        <div id=\"dYeLYakV9JRzEEZ6DSX3FT\"></div>\n",
       "        <script>netpixi.call('dYeLYakV9JRzEEZ6DSX3FT', 'dXk3a4tqEjFijUrzxfv563', 'changeGraph', 'eyJpZCI6IDg0OSwgInR5cGUiOiAidmVydGV4IiwgInByb3BzIjogeyJzaXplIjogMTguMzQ3OTUzMjE2Mzc0Mjd9fQo=');</script>\n",
       "    "
      ],
      "text/plain": [
       "<IPython.core.display.HTML object>"
      ]
     },
     "metadata": {},
     "output_type": "display_data"
    },
    {
     "data": {
      "text/html": [
       "\n",
       "        <div id=\"R8dsngcemdC3FTTowHLPY4\"></div>\n",
       "        <script>netpixi.call('R8dsngcemdC3FTTowHLPY4', 'dXk3a4tqEjFijUrzxfv563', 'changeGraph', 'eyJpZCI6IDg1MCwgInR5cGUiOiAidmVydGV4IiwgInByb3BzIjogeyJzaXplIjogMTUuMzY1NDk3MDc2MDIzMzkyfX0K');</script>\n",
       "    "
      ],
      "text/plain": [
       "<IPython.core.display.HTML object>"
      ]
     },
     "metadata": {},
     "output_type": "display_data"
    },
    {
     "data": {
      "text/html": [
       "\n",
       "        <div id=\"YY7W9AZeKPN2A3uFvNqkZ3\"></div>\n",
       "        <script>netpixi.call('YY7W9AZeKPN2A3uFvNqkZ3', 'dXk3a4tqEjFijUrzxfv563', 'changeGraph', 'eyJpZCI6IDg1MSwgInR5cGUiOiAidmVydGV4IiwgInByb3BzIjogeyJzaXplIjogMTIuMjIyMjIyMjIyMjIyMjIxfX0K');</script>\n",
       "    "
      ],
      "text/plain": [
       "<IPython.core.display.HTML object>"
      ]
     },
     "metadata": {},
     "output_type": "display_data"
    },
    {
     "data": {
      "text/html": [
       "\n",
       "        <div id=\"DSfzoYJCXh3QtvjHQU3UpV\"></div>\n",
       "        <script>netpixi.call('DSfzoYJCXh3QtvjHQU3UpV', 'dXk3a4tqEjFijUrzxfv563', 'changeGraph', 'eyJpZCI6IDg1MiwgInR5cGUiOiAidmVydGV4IiwgInByb3BzIjogeyJzaXplIjogMTAuNjQzMjc0ODUzODAxMTd9fQo=');</script>\n",
       "    "
      ],
      "text/plain": [
       "<IPython.core.display.HTML object>"
      ]
     },
     "metadata": {},
     "output_type": "display_data"
    },
    {
     "data": {
      "text/html": [
       "\n",
       "        <div id=\"LG3sJi5Zgi9LmmQKffe7DS\"></div>\n",
       "        <script>netpixi.call('LG3sJi5Zgi9LmmQKffe7DS', 'dXk3a4tqEjFijUrzxfv563', 'changeGraph', 'eyJpZCI6IDg1MywgInR5cGUiOiAidmVydGV4IiwgInByb3BzIjogeyJzaXplIjogMTAuNTU1NTU1NTU1NTU1NTU1fX0K');</script>\n",
       "    "
      ],
      "text/plain": [
       "<IPython.core.display.HTML object>"
      ]
     },
     "metadata": {},
     "output_type": "display_data"
    },
    {
     "data": {
      "text/html": [
       "\n",
       "        <div id=\"dvYRbXmG2UuhJJHxsJs2un\"></div>\n",
       "        <script>netpixi.call('dvYRbXmG2UuhJJHxsJs2un', 'dXk3a4tqEjFijUrzxfv563', 'changeGraph', 'eyJpZCI6IDg1NCwgInR5cGUiOiAidmVydGV4IiwgInByb3BzIjogeyJzaXplIjogMTIuMTM0NTAyOTIzOTc2NjA4fX0K');</script>\n",
       "    "
      ],
      "text/plain": [
       "<IPython.core.display.HTML object>"
      ]
     },
     "metadata": {},
     "output_type": "display_data"
    },
    {
     "data": {
      "text/html": [
       "\n",
       "        <div id=\"ChQiqrFTD3RUWqthAUsQwP\"></div>\n",
       "        <script>netpixi.call('ChQiqrFTD3RUWqthAUsQwP', 'dXk3a4tqEjFijUrzxfv563', 'changeGraph', 'eyJpZCI6IDg1NSwgInR5cGUiOiAidmVydGV4IiwgInByb3BzIjogeyJzaXplIjogMTAuNDY3ODM2MjU3MzA5OTR9fQo=');</script>\n",
       "    "
      ],
      "text/plain": [
       "<IPython.core.display.HTML object>"
      ]
     },
     "metadata": {},
     "output_type": "display_data"
    }
   ],
   "source": [
    "g.add_vp('coreness')\n",
    "for i, coreness in c.items():\n",
    "    v = g.get_vertex_by_index(i)\n",
    "    v['coreness'] = float(coreness)\n",
    "\n",
    "for v in g.all_vertices():\n",
    "    r.vertex(v['id'], size=(10 + 40 * v['coreness']))"
   ]
  },
  {
   "cell_type": "code",
   "execution_count": 35,
   "metadata": {},
   "outputs": [],
   "source": [
    "df_single_product = new_df.explode('product_pair')"
   ]
  },
  {
   "cell_type": "code",
   "execution_count": 36,
   "metadata": {},
   "outputs": [],
   "source": [
    "df_final = df_single_product.groupby('product_pair')['usernames'].count().reset_index()\n",
    "df_final.columns = ['product', 'usernames_count']"
   ]
  },
  {
   "cell_type": "code",
   "execution_count": 37,
   "metadata": {
    "scrolled": false
   },
   "outputs": [],
   "source": [
    "df_final['coreness'] = df_final.index.map(c.get)"
   ]
  },
  {
   "cell_type": "code",
   "execution_count": 38,
   "metadata": {
    "scrolled": true
   },
   "outputs": [
    {
     "data": {
      "text/html": [
       "<div>\n",
       "<style scoped>\n",
       "    .dataframe tbody tr th:only-of-type {\n",
       "        vertical-align: middle;\n",
       "    }\n",
       "\n",
       "    .dataframe tbody tr th {\n",
       "        vertical-align: top;\n",
       "    }\n",
       "\n",
       "    .dataframe thead th {\n",
       "        text-align: right;\n",
       "    }\n",
       "</style>\n",
       "<table border=\"1\" class=\"dataframe\">\n",
       "  <thead>\n",
       "    <tr style=\"text-align: right;\">\n",
       "      <th></th>\n",
       "      <th>product</th>\n",
       "      <th>usernames_count</th>\n",
       "      <th>coreness</th>\n",
       "    </tr>\n",
       "  </thead>\n",
       "  <tbody>\n",
       "    <tr>\n",
       "      <th>0</th>\n",
       "      <td>1 AW1 Waterproof Mirrorless Camera with 11-27....</td>\n",
       "      <td>8</td>\n",
       "      <td>0.239035</td>\n",
       "    </tr>\n",
       "    <tr>\n",
       "      <th>1</th>\n",
       "      <td>1.2 Cu. Ft. 1200 Watt SN66KB Microwave with In...</td>\n",
       "      <td>6</td>\n",
       "      <td>0.069444</td>\n",
       "    </tr>\n",
       "    <tr>\n",
       "      <th>2</th>\n",
       "      <td>100S-14IBR 14\" Laptop - Intel Celeron - 2GB Me...</td>\n",
       "      <td>222</td>\n",
       "      <td>0.080775</td>\n",
       "    </tr>\n",
       "    <tr>\n",
       "      <th>3</th>\n",
       "      <td>1155W 7.2-Ch. with Dolby Atmos 4K Ultra HD HDR...</td>\n",
       "      <td>18</td>\n",
       "      <td>0.138523</td>\n",
       "    </tr>\n",
       "    <tr>\n",
       "      <th>4</th>\n",
       "      <td>2019 Google Pixel 3a XL 64GB LTE Cell Phone (U...</td>\n",
       "      <td>21</td>\n",
       "      <td>0.200292</td>\n",
       "    </tr>\n",
       "    <tr>\n",
       "      <th>...</th>\n",
       "      <td>...</td>\n",
       "      <td>...</td>\n",
       "      <td>...</td>\n",
       "    </tr>\n",
       "    <tr>\n",
       "      <th>851</th>\n",
       "      <td>Sony NP-FV100A V-Series Rechargeable Battery P...</td>\n",
       "      <td>26</td>\n",
       "      <td>0.055556</td>\n",
       "    </tr>\n",
       "    <tr>\n",
       "      <th>852</th>\n",
       "      <td>Sony NP-FV70A V-Series Battery Pack for Handyc...</td>\n",
       "      <td>84</td>\n",
       "      <td>0.016082</td>\n",
       "    </tr>\n",
       "    <tr>\n",
       "      <th>853</th>\n",
       "      <td>Sony NP-FW50 Lithium-Ion Rechargeable Battery ...</td>\n",
       "      <td>207</td>\n",
       "      <td>0.013889</td>\n",
       "    </tr>\n",
       "    <tr>\n",
       "      <th>854</th>\n",
       "      <td>Sony Np-fv100 Rechargeable Battery</td>\n",
       "      <td>1</td>\n",
       "      <td>0.053363</td>\n",
       "    </tr>\n",
       "    <tr>\n",
       "      <th>855</th>\n",
       "      <td>Sony PXW-Z90V XDCAM 4K Camcorder</td>\n",
       "      <td>57</td>\n",
       "      <td>0.011696</td>\n",
       "    </tr>\n",
       "  </tbody>\n",
       "</table>\n",
       "<p>856 rows × 3 columns</p>\n",
       "</div>"
      ],
      "text/plain": [
       "                                               product  usernames_count  \\\n",
       "0    1 AW1 Waterproof Mirrorless Camera with 11-27....                8   \n",
       "1    1.2 Cu. Ft. 1200 Watt SN66KB Microwave with In...                6   \n",
       "2    100S-14IBR 14\" Laptop - Intel Celeron - 2GB Me...              222   \n",
       "3    1155W 7.2-Ch. with Dolby Atmos 4K Ultra HD HDR...               18   \n",
       "4    2019 Google Pixel 3a XL 64GB LTE Cell Phone (U...               21   \n",
       "..                                                 ...              ...   \n",
       "851  Sony NP-FV100A V-Series Rechargeable Battery P...               26   \n",
       "852  Sony NP-FV70A V-Series Battery Pack for Handyc...               84   \n",
       "853  Sony NP-FW50 Lithium-Ion Rechargeable Battery ...              207   \n",
       "854                 Sony Np-fv100 Rechargeable Battery                1   \n",
       "855                   Sony PXW-Z90V XDCAM 4K Camcorder               57   \n",
       "\n",
       "     coreness  \n",
       "0    0.239035  \n",
       "1    0.069444  \n",
       "2    0.080775  \n",
       "3    0.138523  \n",
       "4    0.200292  \n",
       "..        ...  \n",
       "851  0.055556  \n",
       "852  0.016082  \n",
       "853  0.013889  \n",
       "854  0.053363  \n",
       "855  0.011696  \n",
       "\n",
       "[856 rows x 3 columns]"
      ]
     },
     "execution_count": 38,
     "metadata": {},
     "output_type": "execute_result"
    }
   ],
   "source": [
    "df_final = df_final.dropna()\n",
    "df_final"
   ]
  },
  {
   "cell_type": "code",
   "execution_count": 39,
   "metadata": {},
   "outputs": [],
   "source": [
    "rating_medio_produto = []\n",
    "for i, row in df_final.iterrows():\n",
    "    rating_medio_produto.append(dicionario[row['product']])"
   ]
  },
  {
   "cell_type": "code",
   "execution_count": 40,
   "metadata": {},
   "outputs": [],
   "source": [
    "df_final['rating_medio'] = rating_medio_produto"
   ]
  },
  {
   "cell_type": "code",
   "execution_count": 41,
   "metadata": {},
   "outputs": [
    {
     "data": {
      "text/html": [
       "<div>\n",
       "<style scoped>\n",
       "    .dataframe tbody tr th:only-of-type {\n",
       "        vertical-align: middle;\n",
       "    }\n",
       "\n",
       "    .dataframe tbody tr th {\n",
       "        vertical-align: top;\n",
       "    }\n",
       "\n",
       "    .dataframe thead th {\n",
       "        text-align: right;\n",
       "    }\n",
       "</style>\n",
       "<table border=\"1\" class=\"dataframe\">\n",
       "  <thead>\n",
       "    <tr style=\"text-align: right;\">\n",
       "      <th></th>\n",
       "      <th>product</th>\n",
       "      <th>usernames_count</th>\n",
       "      <th>coreness</th>\n",
       "      <th>rating_medio</th>\n",
       "    </tr>\n",
       "  </thead>\n",
       "  <tbody>\n",
       "    <tr>\n",
       "      <th>0</th>\n",
       "      <td>1 AW1 Waterproof Mirrorless Camera with 11-27....</td>\n",
       "      <td>8</td>\n",
       "      <td>0.239035</td>\n",
       "      <td>2.846154</td>\n",
       "    </tr>\n",
       "    <tr>\n",
       "      <th>1</th>\n",
       "      <td>1.2 Cu. Ft. 1200 Watt SN66KB Microwave with In...</td>\n",
       "      <td>6</td>\n",
       "      <td>0.069444</td>\n",
       "      <td>4.037975</td>\n",
       "    </tr>\n",
       "    <tr>\n",
       "      <th>2</th>\n",
       "      <td>100S-14IBR 14\" Laptop - Intel Celeron - 2GB Me...</td>\n",
       "      <td>222</td>\n",
       "      <td>0.080775</td>\n",
       "      <td>4.180036</td>\n",
       "    </tr>\n",
       "    <tr>\n",
       "      <th>3</th>\n",
       "      <td>1155W 7.2-Ch. with Dolby Atmos 4K Ultra HD HDR...</td>\n",
       "      <td>18</td>\n",
       "      <td>0.138523</td>\n",
       "      <td>3.987805</td>\n",
       "    </tr>\n",
       "    <tr>\n",
       "      <th>4</th>\n",
       "      <td>2019 Google Pixel 3a XL 64GB LTE Cell Phone (U...</td>\n",
       "      <td>21</td>\n",
       "      <td>0.200292</td>\n",
       "      <td>4.138889</td>\n",
       "    </tr>\n",
       "    <tr>\n",
       "      <th>...</th>\n",
       "      <td>...</td>\n",
       "      <td>...</td>\n",
       "      <td>...</td>\n",
       "      <td>...</td>\n",
       "    </tr>\n",
       "    <tr>\n",
       "      <th>851</th>\n",
       "      <td>Sony NP-FV100A V-Series Rechargeable Battery P...</td>\n",
       "      <td>26</td>\n",
       "      <td>0.055556</td>\n",
       "      <td>4.681818</td>\n",
       "    </tr>\n",
       "    <tr>\n",
       "      <th>852</th>\n",
       "      <td>Sony NP-FV70A V-Series Battery Pack for Handyc...</td>\n",
       "      <td>84</td>\n",
       "      <td>0.016082</td>\n",
       "      <td>4.460000</td>\n",
       "    </tr>\n",
       "    <tr>\n",
       "      <th>853</th>\n",
       "      <td>Sony NP-FW50 Lithium-Ion Rechargeable Battery ...</td>\n",
       "      <td>207</td>\n",
       "      <td>0.013889</td>\n",
       "      <td>4.102041</td>\n",
       "    </tr>\n",
       "    <tr>\n",
       "      <th>854</th>\n",
       "      <td>Sony Np-fv100 Rechargeable Battery</td>\n",
       "      <td>1</td>\n",
       "      <td>0.053363</td>\n",
       "      <td>4.636364</td>\n",
       "    </tr>\n",
       "    <tr>\n",
       "      <th>855</th>\n",
       "      <td>Sony PXW-Z90V XDCAM 4K Camcorder</td>\n",
       "      <td>57</td>\n",
       "      <td>0.011696</td>\n",
       "      <td>4.038462</td>\n",
       "    </tr>\n",
       "  </tbody>\n",
       "</table>\n",
       "<p>856 rows × 4 columns</p>\n",
       "</div>"
      ],
      "text/plain": [
       "                                               product  usernames_count  \\\n",
       "0    1 AW1 Waterproof Mirrorless Camera with 11-27....                8   \n",
       "1    1.2 Cu. Ft. 1200 Watt SN66KB Microwave with In...                6   \n",
       "2    100S-14IBR 14\" Laptop - Intel Celeron - 2GB Me...              222   \n",
       "3    1155W 7.2-Ch. with Dolby Atmos 4K Ultra HD HDR...               18   \n",
       "4    2019 Google Pixel 3a XL 64GB LTE Cell Phone (U...               21   \n",
       "..                                                 ...              ...   \n",
       "851  Sony NP-FV100A V-Series Rechargeable Battery P...               26   \n",
       "852  Sony NP-FV70A V-Series Battery Pack for Handyc...               84   \n",
       "853  Sony NP-FW50 Lithium-Ion Rechargeable Battery ...              207   \n",
       "854                 Sony Np-fv100 Rechargeable Battery                1   \n",
       "855                   Sony PXW-Z90V XDCAM 4K Camcorder               57   \n",
       "\n",
       "     coreness  rating_medio  \n",
       "0    0.239035      2.846154  \n",
       "1    0.069444      4.037975  \n",
       "2    0.080775      4.180036  \n",
       "3    0.138523      3.987805  \n",
       "4    0.200292      4.138889  \n",
       "..        ...           ...  \n",
       "851  0.055556      4.681818  \n",
       "852  0.016082      4.460000  \n",
       "853  0.013889      4.102041  \n",
       "854  0.053363      4.636364  \n",
       "855  0.011696      4.038462  \n",
       "\n",
       "[856 rows x 4 columns]"
      ]
     },
     "execution_count": 41,
     "metadata": {},
     "output_type": "execute_result"
    }
   ],
   "source": [
    "df_final"
   ]
  },
  {
   "cell_type": "code",
   "execution_count": 42,
   "metadata": {},
   "outputs": [
    {
     "data": {
      "text/plain": [
       "product             object\n",
       "usernames_count      int64\n",
       "coreness           float64\n",
       "rating_medio       float64\n",
       "dtype: object"
      ]
     },
     "execution_count": 42,
     "metadata": {},
     "output_type": "execute_result"
    }
   ],
   "source": [
    "df_final.dtypes"
   ]
  },
  {
   "cell_type": "code",
   "execution_count": 43,
   "metadata": {},
   "outputs": [
    {
     "data": {
      "text/html": [
       "<style type=\"text/css\">\n",
       "</style>\n",
       "<table id=\"T_5e68f\">\n",
       "  <thead>\n",
       "    <tr>\n",
       "      <th id=\"T_5e68f_level0_col0\" class=\"col_heading level0 col0\" >variable</th>\n",
       "      <th id=\"T_5e68f_level0_col1\" class=\"col_heading level0 col1\" >coefficient</th>\n",
       "      <th id=\"T_5e68f_level0_col2\" class=\"col_heading level0 col2\" >std error</th>\n",
       "      <th id=\"T_5e68f_level0_col3\" class=\"col_heading level0 col3\" >p-value</th>\n",
       "    </tr>\n",
       "  </thead>\n",
       "  <tbody>\n",
       "    <tr>\n",
       "      <td id=\"T_5e68f_row0_col0\" class=\"data row0 col0\" >usernames_count</td>\n",
       "      <td id=\"T_5e68f_row0_col1\" class=\"data row0 col1\" >-0.000092</td>\n",
       "      <td id=\"T_5e68f_row0_col2\" class=\"data row0 col2\" >0.000112</td>\n",
       "      <td id=\"T_5e68f_row0_col3\" class=\"data row0 col3\" >0.414885</td>\n",
       "    </tr>\n",
       "  </tbody>\n",
       "</table>\n"
      ],
      "text/plain": [
       "<pandas.io.formats.style.Styler at 0x7f4f4f5a9720>"
      ]
     },
     "execution_count": 43,
     "metadata": {},
     "output_type": "execute_result"
    }
   ],
   "source": [
    "import regression as reg\n",
    "result = reg.linear(data=df_final, formula='coreness ~ usernames_count')\n",
    "result.micro_summary()   "
   ]
  },
  {
   "cell_type": "code",
   "execution_count": 44,
   "metadata": {},
   "outputs": [
    {
     "data": {
      "image/png": "[encoded data removed]",
      "text/plain": [
       "<Figure size 1280x480 with 2 Axes>"
      ]
     },
     "metadata": {},
     "output_type": "display_data"
    }
   ],
   "source": [
    "result.plot_residuals()"
   ]
  },
  {
   "cell_type": "code",
   "execution_count": 45,
   "metadata": {},
   "outputs": [
    {
     "data": {
      "text/html": [
       "<div>\n",
       "<style scoped>\n",
       "    .dataframe tbody tr th:only-of-type {\n",
       "        vertical-align: middle;\n",
       "    }\n",
       "\n",
       "    .dataframe tbody tr th {\n",
       "        vertical-align: top;\n",
       "    }\n",
       "\n",
       "    .dataframe thead th {\n",
       "        text-align: right;\n",
       "    }\n",
       "</style>\n",
       "<table border=\"1\" class=\"dataframe\">\n",
       "  <thead>\n",
       "    <tr style=\"text-align: right;\">\n",
       "      <th></th>\n",
       "      <th>product</th>\n",
       "      <th>usernames_count</th>\n",
       "      <th>coreness</th>\n",
       "      <th>rating_medio</th>\n",
       "    </tr>\n",
       "  </thead>\n",
       "  <tbody>\n",
       "    <tr>\n",
       "      <th>27</th>\n",
       "      <td>8x External Double-Layer DVD±RW/CD-RW SuperMul...</td>\n",
       "      <td>1</td>\n",
       "      <td>0.000000</td>\n",
       "      <td>4.119266</td>\n",
       "    </tr>\n",
       "    <tr>\n",
       "      <th>845</th>\n",
       "      <td>Sony FE 28-60mm f/4-5.6 Lens</td>\n",
       "      <td>4</td>\n",
       "      <td>0.000365</td>\n",
       "      <td>4.475000</td>\n",
       "    </tr>\n",
       "    <tr>\n",
       "      <th>681</th>\n",
       "      <td>Panasonic Lumix GH5 Battery Grip - DMW-BGGH5</td>\n",
       "      <td>36</td>\n",
       "      <td>0.000731</td>\n",
       "      <td>3.513514</td>\n",
       "    </tr>\n",
       "    <tr>\n",
       "      <th>768</th>\n",
       "      <td>Samsung Galaxy S21 Ultra 5G - 512 GB - Phantom...</td>\n",
       "      <td>3</td>\n",
       "      <td>0.001096</td>\n",
       "      <td>3.394737</td>\n",
       "    </tr>\n",
       "    <tr>\n",
       "      <th>84</th>\n",
       "      <td>Amazon Echo Show 5 - Compact Smart Display wit...</td>\n",
       "      <td>143</td>\n",
       "      <td>0.001462</td>\n",
       "      <td>4.625000</td>\n",
       "    </tr>\n",
       "    <tr>\n",
       "      <th>...</th>\n",
       "      <td>...</td>\n",
       "      <td>...</td>\n",
       "      <td>...</td>\n",
       "      <td>...</td>\n",
       "    </tr>\n",
       "    <tr>\n",
       "      <th>383</th>\n",
       "      <td>HP - LaserJet Pro M402n Laser Printer</td>\n",
       "      <td>1</td>\n",
       "      <td>0.992733</td>\n",
       "      <td>4.164835</td>\n",
       "    </tr>\n",
       "    <tr>\n",
       "      <th>181</th>\n",
       "      <td>BenQ 24.1\" 16:10 PhotoVue IPS Monitor</td>\n",
       "      <td>108</td>\n",
       "      <td>0.994186</td>\n",
       "      <td>4.687500</td>\n",
       "    </tr>\n",
       "    <tr>\n",
       "      <th>20</th>\n",
       "      <td>55” Class BRAVIA XR A90J Series OLED 4K UHD Sm...</td>\n",
       "      <td>4</td>\n",
       "      <td>0.995640</td>\n",
       "      <td>4.654545</td>\n",
       "    </tr>\n",
       "    <tr>\n",
       "      <th>125</th>\n",
       "      <td>Apple Watch SE - 44mm - GPS - Gold Aluminum Ca...</td>\n",
       "      <td>213</td>\n",
       "      <td>0.997093</td>\n",
       "      <td>4.833333</td>\n",
       "    </tr>\n",
       "    <tr>\n",
       "      <th>131</th>\n",
       "      <td>Apple iPad Pro 10.5\" - 64GB Wifi - 2017 Model ...</td>\n",
       "      <td>4</td>\n",
       "      <td>0.998547</td>\n",
       "      <td>4.842105</td>\n",
       "    </tr>\n",
       "  </tbody>\n",
       "</table>\n",
       "<p>856 rows × 4 columns</p>\n",
       "</div>"
      ],
      "text/plain": [
       "                                               product  usernames_count  \\\n",
       "27   8x External Double-Layer DVD±RW/CD-RW SuperMul...                1   \n",
       "845                       Sony FE 28-60mm f/4-5.6 Lens                4   \n",
       "681       Panasonic Lumix GH5 Battery Grip - DMW-BGGH5               36   \n",
       "768  Samsung Galaxy S21 Ultra 5G - 512 GB - Phantom...                3   \n",
       "84   Amazon Echo Show 5 - Compact Smart Display wit...              143   \n",
       "..                                                 ...              ...   \n",
       "383              HP - LaserJet Pro M402n Laser Printer                1   \n",
       "181              BenQ 24.1\" 16:10 PhotoVue IPS Monitor              108   \n",
       "20   55” Class BRAVIA XR A90J Series OLED 4K UHD Sm...                4   \n",
       "125  Apple Watch SE - 44mm - GPS - Gold Aluminum Ca...              213   \n",
       "131  Apple iPad Pro 10.5\" - 64GB Wifi - 2017 Model ...                4   \n",
       "\n",
       "     coreness  rating_medio  \n",
       "27   0.000000      4.119266  \n",
       "845  0.000365      4.475000  \n",
       "681  0.000731      3.513514  \n",
       "768  0.001096      3.394737  \n",
       "84   0.001462      4.625000  \n",
       "..        ...           ...  \n",
       "383  0.992733      4.164835  \n",
       "181  0.994186      4.687500  \n",
       "20   0.995640      4.654545  \n",
       "125  0.997093      4.833333  \n",
       "131  0.998547      4.842105  \n",
       "\n",
       "[856 rows x 4 columns]"
      ]
     },
     "execution_count": 45,
     "metadata": {},
     "output_type": "execute_result"
    }
   ],
   "source": [
    "df_final.sort_values(by = 'coreness',\n",
    "                      axis=0,\n",
    "                      ascending=True,\n",
    "                      inplace=False,\n",
    "                      kind='quicksort',\n",
    "                      na_position='last')"
   ]
  },
  {
   "cell_type": "code",
   "execution_count": 46,
   "metadata": {},
   "outputs": [
    {
     "data": {
      "text/html": [
       "<div>\n",
       "<style scoped>\n",
       "    .dataframe tbody tr th:only-of-type {\n",
       "        vertical-align: middle;\n",
       "    }\n",
       "\n",
       "    .dataframe tbody tr th {\n",
       "        vertical-align: top;\n",
       "    }\n",
       "\n",
       "    .dataframe thead th {\n",
       "        text-align: right;\n",
       "    }\n",
       "</style>\n",
       "<table border=\"1\" class=\"dataframe\">\n",
       "  <thead>\n",
       "    <tr style=\"text-align: right;\">\n",
       "      <th></th>\n",
       "      <th>product</th>\n",
       "      <th>usernames_count</th>\n",
       "      <th>coreness</th>\n",
       "      <th>rating_medio</th>\n",
       "    </tr>\n",
       "  </thead>\n",
       "  <tbody>\n",
       "    <tr>\n",
       "      <th>0</th>\n",
       "      <td>1 AW1 Waterproof Mirrorless Camera with 11-27....</td>\n",
       "      <td>8</td>\n",
       "      <td>0.239035</td>\n",
       "      <td>2.846154</td>\n",
       "    </tr>\n",
       "    <tr>\n",
       "      <th>1</th>\n",
       "      <td>1.2 Cu. Ft. 1200 Watt SN66KB Microwave with In...</td>\n",
       "      <td>6</td>\n",
       "      <td>0.069444</td>\n",
       "      <td>4.037975</td>\n",
       "    </tr>\n",
       "    <tr>\n",
       "      <th>2</th>\n",
       "      <td>100S-14IBR 14\" Laptop - Intel Celeron - 2GB Me...</td>\n",
       "      <td>222</td>\n",
       "      <td>0.080775</td>\n",
       "      <td>4.180036</td>\n",
       "    </tr>\n",
       "    <tr>\n",
       "      <th>3</th>\n",
       "      <td>1155W 7.2-Ch. with Dolby Atmos 4K Ultra HD HDR...</td>\n",
       "      <td>18</td>\n",
       "      <td>0.138523</td>\n",
       "      <td>3.987805</td>\n",
       "    </tr>\n",
       "    <tr>\n",
       "      <th>4</th>\n",
       "      <td>2019 Google Pixel 3a XL 64GB LTE Cell Phone (U...</td>\n",
       "      <td>21</td>\n",
       "      <td>0.200292</td>\n",
       "      <td>4.138889</td>\n",
       "    </tr>\n",
       "    <tr>\n",
       "      <th>...</th>\n",
       "      <td>...</td>\n",
       "      <td>...</td>\n",
       "      <td>...</td>\n",
       "      <td>...</td>\n",
       "    </tr>\n",
       "    <tr>\n",
       "      <th>851</th>\n",
       "      <td>Sony NP-FV100A V-Series Rechargeable Battery P...</td>\n",
       "      <td>26</td>\n",
       "      <td>0.055556</td>\n",
       "      <td>4.681818</td>\n",
       "    </tr>\n",
       "    <tr>\n",
       "      <th>852</th>\n",
       "      <td>Sony NP-FV70A V-Series Battery Pack for Handyc...</td>\n",
       "      <td>84</td>\n",
       "      <td>0.016082</td>\n",
       "      <td>4.460000</td>\n",
       "    </tr>\n",
       "    <tr>\n",
       "      <th>853</th>\n",
       "      <td>Sony NP-FW50 Lithium-Ion Rechargeable Battery ...</td>\n",
       "      <td>207</td>\n",
       "      <td>0.013889</td>\n",
       "      <td>4.102041</td>\n",
       "    </tr>\n",
       "    <tr>\n",
       "      <th>854</th>\n",
       "      <td>Sony Np-fv100 Rechargeable Battery</td>\n",
       "      <td>1</td>\n",
       "      <td>0.053363</td>\n",
       "      <td>4.636364</td>\n",
       "    </tr>\n",
       "    <tr>\n",
       "      <th>855</th>\n",
       "      <td>Sony PXW-Z90V XDCAM 4K Camcorder</td>\n",
       "      <td>57</td>\n",
       "      <td>0.011696</td>\n",
       "      <td>4.038462</td>\n",
       "    </tr>\n",
       "  </tbody>\n",
       "</table>\n",
       "<p>856 rows × 4 columns</p>\n",
       "</div>"
      ],
      "text/plain": [
       "                                               product  usernames_count  \\\n",
       "0    1 AW1 Waterproof Mirrorless Camera with 11-27....                8   \n",
       "1    1.2 Cu. Ft. 1200 Watt SN66KB Microwave with In...                6   \n",
       "2    100S-14IBR 14\" Laptop - Intel Celeron - 2GB Me...              222   \n",
       "3    1155W 7.2-Ch. with Dolby Atmos 4K Ultra HD HDR...               18   \n",
       "4    2019 Google Pixel 3a XL 64GB LTE Cell Phone (U...               21   \n",
       "..                                                 ...              ...   \n",
       "851  Sony NP-FV100A V-Series Rechargeable Battery P...               26   \n",
       "852  Sony NP-FV70A V-Series Battery Pack for Handyc...               84   \n",
       "853  Sony NP-FW50 Lithium-Ion Rechargeable Battery ...              207   \n",
       "854                 Sony Np-fv100 Rechargeable Battery                1   \n",
       "855                   Sony PXW-Z90V XDCAM 4K Camcorder               57   \n",
       "\n",
       "     coreness  rating_medio  \n",
       "0    0.239035      2.846154  \n",
       "1    0.069444      4.037975  \n",
       "2    0.080775      4.180036  \n",
       "3    0.138523      3.987805  \n",
       "4    0.200292      4.138889  \n",
       "..        ...           ...  \n",
       "851  0.055556      4.681818  \n",
       "852  0.016082      4.460000  \n",
       "853  0.013889      4.102041  \n",
       "854  0.053363      4.636364  \n",
       "855  0.011696      4.038462  \n",
       "\n",
       "[856 rows x 4 columns]"
      ]
     },
     "execution_count": 46,
     "metadata": {},
     "output_type": "execute_result"
    }
   ],
   "source": [
    "df_final"
   ]
  },
  {
   "cell_type": "code",
   "execution_count": 47,
   "metadata": {},
   "outputs": [],
   "source": [
    "recorte1 = df_final.copy()\n",
    "recorte2 = df_final.copy()"
   ]
  },
  {
   "cell_type": "code",
   "execution_count": 48,
   "metadata": {},
   "outputs": [],
   "source": [
    "recorte1 = recorte1.loc[recorte1['rating_medio'] > 4]"
   ]
  },
  {
   "cell_type": "code",
   "execution_count": 49,
   "metadata": {
    "scrolled": false
   },
   "outputs": [
    {
     "data": {
      "text/html": [
       "<div>\n",
       "<style scoped>\n",
       "    .dataframe tbody tr th:only-of-type {\n",
       "        vertical-align: middle;\n",
       "    }\n",
       "\n",
       "    .dataframe tbody tr th {\n",
       "        vertical-align: top;\n",
       "    }\n",
       "\n",
       "    .dataframe thead th {\n",
       "        text-align: right;\n",
       "    }\n",
       "</style>\n",
       "<table border=\"1\" class=\"dataframe\">\n",
       "  <thead>\n",
       "    <tr style=\"text-align: right;\">\n",
       "      <th></th>\n",
       "      <th>product</th>\n",
       "      <th>usernames_count</th>\n",
       "      <th>coreness</th>\n",
       "      <th>rating_medio</th>\n",
       "    </tr>\n",
       "  </thead>\n",
       "  <tbody>\n",
       "    <tr>\n",
       "      <th>1</th>\n",
       "      <td>1.2 Cu. Ft. 1200 Watt SN66KB Microwave with In...</td>\n",
       "      <td>6</td>\n",
       "      <td>0.069444</td>\n",
       "      <td>4.037975</td>\n",
       "    </tr>\n",
       "    <tr>\n",
       "      <th>2</th>\n",
       "      <td>100S-14IBR 14\" Laptop - Intel Celeron - 2GB Me...</td>\n",
       "      <td>222</td>\n",
       "      <td>0.080775</td>\n",
       "      <td>4.180036</td>\n",
       "    </tr>\n",
       "    <tr>\n",
       "      <th>4</th>\n",
       "      <td>2019 Google Pixel 3a XL 64GB LTE Cell Phone (U...</td>\n",
       "      <td>21</td>\n",
       "      <td>0.200292</td>\n",
       "      <td>4.138889</td>\n",
       "    </tr>\n",
       "    <tr>\n",
       "      <th>6</th>\n",
       "      <td>24 A9-9425 8GB 1TB W10</td>\n",
       "      <td>1</td>\n",
       "      <td>0.203582</td>\n",
       "      <td>4.062500</td>\n",
       "    </tr>\n",
       "    <tr>\n",
       "      <th>9</th>\n",
       "      <td>29\" IPS LED HD 21:9 Ultrawide Monitor</td>\n",
       "      <td>2</td>\n",
       "      <td>0.149123</td>\n",
       "      <td>4.105263</td>\n",
       "    </tr>\n",
       "    <tr>\n",
       "      <th>...</th>\n",
       "      <td>...</td>\n",
       "      <td>...</td>\n",
       "      <td>...</td>\n",
       "      <td>...</td>\n",
       "    </tr>\n",
       "    <tr>\n",
       "      <th>851</th>\n",
       "      <td>Sony NP-FV100A V-Series Rechargeable Battery P...</td>\n",
       "      <td>26</td>\n",
       "      <td>0.055556</td>\n",
       "      <td>4.681818</td>\n",
       "    </tr>\n",
       "    <tr>\n",
       "      <th>852</th>\n",
       "      <td>Sony NP-FV70A V-Series Battery Pack for Handyc...</td>\n",
       "      <td>84</td>\n",
       "      <td>0.016082</td>\n",
       "      <td>4.460000</td>\n",
       "    </tr>\n",
       "    <tr>\n",
       "      <th>853</th>\n",
       "      <td>Sony NP-FW50 Lithium-Ion Rechargeable Battery ...</td>\n",
       "      <td>207</td>\n",
       "      <td>0.013889</td>\n",
       "      <td>4.102041</td>\n",
       "    </tr>\n",
       "    <tr>\n",
       "      <th>854</th>\n",
       "      <td>Sony Np-fv100 Rechargeable Battery</td>\n",
       "      <td>1</td>\n",
       "      <td>0.053363</td>\n",
       "      <td>4.636364</td>\n",
       "    </tr>\n",
       "    <tr>\n",
       "      <th>855</th>\n",
       "      <td>Sony PXW-Z90V XDCAM 4K Camcorder</td>\n",
       "      <td>57</td>\n",
       "      <td>0.011696</td>\n",
       "      <td>4.038462</td>\n",
       "    </tr>\n",
       "  </tbody>\n",
       "</table>\n",
       "<p>587 rows × 4 columns</p>\n",
       "</div>"
      ],
      "text/plain": [
       "                                               product  usernames_count  \\\n",
       "1    1.2 Cu. Ft. 1200 Watt SN66KB Microwave with In...                6   \n",
       "2    100S-14IBR 14\" Laptop - Intel Celeron - 2GB Me...              222   \n",
       "4    2019 Google Pixel 3a XL 64GB LTE Cell Phone (U...               21   \n",
       "6                               24 A9-9425 8GB 1TB W10                1   \n",
       "9                29\" IPS LED HD 21:9 Ultrawide Monitor                2   \n",
       "..                                                 ...              ...   \n",
       "851  Sony NP-FV100A V-Series Rechargeable Battery P...               26   \n",
       "852  Sony NP-FV70A V-Series Battery Pack for Handyc...               84   \n",
       "853  Sony NP-FW50 Lithium-Ion Rechargeable Battery ...              207   \n",
       "854                 Sony Np-fv100 Rechargeable Battery                1   \n",
       "855                   Sony PXW-Z90V XDCAM 4K Camcorder               57   \n",
       "\n",
       "     coreness  rating_medio  \n",
       "1    0.069444      4.037975  \n",
       "2    0.080775      4.180036  \n",
       "4    0.200292      4.138889  \n",
       "6    0.203582      4.062500  \n",
       "9    0.149123      4.105263  \n",
       "..        ...           ...  \n",
       "851  0.055556      4.681818  \n",
       "852  0.016082      4.460000  \n",
       "853  0.013889      4.102041  \n",
       "854  0.053363      4.636364  \n",
       "855  0.011696      4.038462  \n",
       "\n",
       "[587 rows x 4 columns]"
      ]
     },
     "execution_count": 49,
     "metadata": {},
     "output_type": "execute_result"
    }
   ],
   "source": [
    "recorte1"
   ]
  },
  {
   "cell_type": "code",
   "execution_count": 50,
   "metadata": {},
   "outputs": [
    {
     "data": {
      "text/html": [
       "<style type=\"text/css\">\n",
       "</style>\n",
       "<table id=\"T_10899\">\n",
       "  <thead>\n",
       "    <tr>\n",
       "      <th id=\"T_10899_level0_col0\" class=\"col_heading level0 col0\" >variable</th>\n",
       "      <th id=\"T_10899_level0_col1\" class=\"col_heading level0 col1\" >coefficient</th>\n",
       "      <th id=\"T_10899_level0_col2\" class=\"col_heading level0 col2\" >std error</th>\n",
       "      <th id=\"T_10899_level0_col3\" class=\"col_heading level0 col3\" >p-value</th>\n",
       "    </tr>\n",
       "  </thead>\n",
       "  <tbody>\n",
       "    <tr>\n",
       "      <td id=\"T_10899_row0_col0\" class=\"data row0 col0\" >usernames_count</td>\n",
       "      <td id=\"T_10899_row0_col1\" class=\"data row0 col1\" >-0.000119</td>\n",
       "      <td id=\"T_10899_row0_col2\" class=\"data row0 col2\" >0.000125</td>\n",
       "      <td id=\"T_10899_row0_col3\" class=\"data row0 col3\" >0.340571</td>\n",
       "    </tr>\n",
       "  </tbody>\n",
       "</table>\n"
      ],
      "text/plain": [
       "<pandas.io.formats.style.Styler at 0x7f4f4a923760>"
      ]
     },
     "execution_count": 50,
     "metadata": {},
     "output_type": "execute_result"
    }
   ],
   "source": [
    "result_recorte1 = reg.linear(data=recorte1, formula='coreness ~ usernames_count')\n",
    "result_recorte1.micro_summary() "
   ]
  },
  {
   "cell_type": "code",
   "execution_count": 51,
   "metadata": {},
   "outputs": [
    {
     "data": {
      "image/png": "[encoded data removed]",
      "text/plain": [
       "<Figure size 1280x480 with 2 Axes>"
      ]
     },
     "metadata": {},
     "output_type": "display_data"
    }
   ],
   "source": [
    "result_recorte1.plot_residuals()"
   ]
  },
  {
   "cell_type": "code",
   "execution_count": 52,
   "metadata": {},
   "outputs": [],
   "source": [
    "# Explode the 'usernames' column\n",
    "df_exploded = df_sample.explode('usernames')\n",
    "\n",
    "# Count the number of occurrences for each username\n",
    "user_counts = df_exploded['usernames'].value_counts()\n",
    "\n",
    "# Convert the Series to a DataFrame and reset the index\n",
    "user_counts_df = user_counts.reset_index()\n",
    "\n",
    "# Rename the columns\n",
    "user_counts_df.columns = ['username', 'count']\n",
    "user_counts_df = user_counts_df[~user_counts_df['username'].isin(['Anonymous', 'Amazon Customer', 'ByAmazon Customer'])]"
   ]
  },
  {
   "cell_type": "code",
   "execution_count": 53,
   "metadata": {},
   "outputs": [
    {
     "name": "stdout",
     "output_type": "stream",
     "text": [
      "Temos 88301 reviewers\n",
      "1.5641498963771645\n",
      "5.17262577912531\n"
     ]
    }
   ],
   "source": [
    "print(f\"Temos {len(user_counts_df)} reviewers\")\n",
    "print(user_counts_df['count'].mean())\n",
    "print(user_counts_df['count'].std())\n",
    "threshold_above = 1\n",
    "superusers_df = user_counts_df[(user_counts_df['count'] > threshold_above)]"
   ]
  },
  {
   "cell_type": "code",
   "execution_count": 54,
   "metadata": {},
   "outputs": [
    {
     "data": {
      "image/png": "[encoded data removed]",
      "text/plain": [
       "<Figure size 1000x600 with 1 Axes>"
      ]
     },
     "metadata": {},
     "output_type": "display_data"
    }
   ],
   "source": [
    "plt.figure(figsize=(10, 6))\n",
    "plt.hist(superusers_df['count'], bins=100, alpha=0.5)\n",
    "plt.yscale('log')  # to view the data in logarithmic scale\n",
    "plt.title('User Review Counts')\n",
    "plt.xlabel('Reviews')\n",
    "plt.ylabel('Users')\n",
    "plt.grid(True)\n",
    "plt.show()"
   ]
  },
  {
   "cell_type": "code",
   "execution_count": 55,
   "metadata": {},
   "outputs": [
    {
     "name": "stdout",
     "output_type": "stream",
     "text": [
      "25.0\n"
     ]
    },
    {
     "data": {
      "text/html": [
       "<div>\n",
       "<style scoped>\n",
       "    .dataframe tbody tr th:only-of-type {\n",
       "        vertical-align: middle;\n",
       "    }\n",
       "\n",
       "    .dataframe tbody tr th {\n",
       "        vertical-align: top;\n",
       "    }\n",
       "\n",
       "    .dataframe thead th {\n",
       "        text-align: right;\n",
       "    }\n",
       "</style>\n",
       "<table border=\"1\" class=\"dataframe\">\n",
       "  <thead>\n",
       "    <tr style=\"text-align: right;\">\n",
       "      <th></th>\n",
       "      <th>username</th>\n",
       "      <th>count</th>\n",
       "    </tr>\n",
       "  </thead>\n",
       "  <tbody>\n",
       "    <tr>\n",
       "      <th>1</th>\n",
       "      <td>samsung</td>\n",
       "      <td>817</td>\n",
       "    </tr>\n",
       "    <tr>\n",
       "      <th>3</th>\n",
       "      <td>John</td>\n",
       "      <td>419</td>\n",
       "    </tr>\n",
       "    <tr>\n",
       "      <th>4</th>\n",
       "      <td>Michael</td>\n",
       "      <td>375</td>\n",
       "    </tr>\n",
       "    <tr>\n",
       "      <th>5</th>\n",
       "      <td>David</td>\n",
       "      <td>346</td>\n",
       "    </tr>\n",
       "    <tr>\n",
       "      <th>6</th>\n",
       "      <td>lg</td>\n",
       "      <td>294</td>\n",
       "    </tr>\n",
       "    <tr>\n",
       "      <th>...</th>\n",
       "      <td>...</td>\n",
       "      <td>...</td>\n",
       "    </tr>\n",
       "    <tr>\n",
       "      <th>185</th>\n",
       "      <td>Disappointed</td>\n",
       "      <td>26</td>\n",
       "    </tr>\n",
       "    <tr>\n",
       "      <th>186</th>\n",
       "      <td>William · Review provided by  bhphotovideo.com</td>\n",
       "      <td>26</td>\n",
       "    </tr>\n",
       "    <tr>\n",
       "      <th>187</th>\n",
       "      <td>Luke</td>\n",
       "      <td>26</td>\n",
       "    </tr>\n",
       "    <tr>\n",
       "      <th>188</th>\n",
       "      <td>Rafael</td>\n",
       "      <td>26</td>\n",
       "    </tr>\n",
       "    <tr>\n",
       "      <th>189</th>\n",
       "      <td>· Review provided by  walmart.com</td>\n",
       "      <td>26</td>\n",
       "    </tr>\n",
       "  </tbody>\n",
       "</table>\n",
       "<p>187 rows × 2 columns</p>\n",
       "</div>"
      ],
      "text/plain": [
       "                                           username  count\n",
       "1                                           samsung    817\n",
       "3                                              John    419\n",
       "4                                           Michael    375\n",
       "5                                             David    346\n",
       "6                                                lg    294\n",
       "..                                              ...    ...\n",
       "185                                    Disappointed     26\n",
       "186  William · Review provided by  bhphotovideo.com     26\n",
       "187                                            Luke     26\n",
       "188                                          Rafael     26\n",
       "189               · Review provided by  walmart.com     26\n",
       "\n",
       "[187 rows x 2 columns]"
      ]
     },
     "execution_count": 55,
     "metadata": {},
     "output_type": "execute_result"
    }
   ],
   "source": [
    "threshold = superusers_df['count'].quantile(0.99)\n",
    "print(threshold)\n",
    "superusers_df = user_counts_df[user_counts_df['count'] > threshold]\n",
    "superusers_df"
   ]
  },
  {
   "cell_type": "code",
   "execution_count": 56,
   "metadata": {},
   "outputs": [
    {
     "data": {
      "text/html": [
       "<div>\n",
       "<style scoped>\n",
       "    .dataframe tbody tr th:only-of-type {\n",
       "        vertical-align: middle;\n",
       "    }\n",
       "\n",
       "    .dataframe tbody tr th {\n",
       "        vertical-align: top;\n",
       "    }\n",
       "\n",
       "    .dataframe thead th {\n",
       "        text-align: right;\n",
       "    }\n",
       "</style>\n",
       "<table border=\"1\" class=\"dataframe\">\n",
       "  <thead>\n",
       "    <tr style=\"text-align: right;\">\n",
       "      <th></th>\n",
       "      <th>product</th>\n",
       "      <th>usernames_count</th>\n",
       "      <th>coreness</th>\n",
       "      <th>rating_medio</th>\n",
       "    </tr>\n",
       "  </thead>\n",
       "  <tbody>\n",
       "    <tr>\n",
       "      <th>0</th>\n",
       "      <td>1 AW1 Waterproof Mirrorless Camera with 11-27....</td>\n",
       "      <td>8</td>\n",
       "      <td>0.239035</td>\n",
       "      <td>2.846154</td>\n",
       "    </tr>\n",
       "    <tr>\n",
       "      <th>1</th>\n",
       "      <td>1.2 Cu. Ft. 1200 Watt SN66KB Microwave with In...</td>\n",
       "      <td>6</td>\n",
       "      <td>0.069444</td>\n",
       "      <td>4.037975</td>\n",
       "    </tr>\n",
       "    <tr>\n",
       "      <th>2</th>\n",
       "      <td>100S-14IBR 14\" Laptop - Intel Celeron - 2GB Me...</td>\n",
       "      <td>222</td>\n",
       "      <td>0.080775</td>\n",
       "      <td>4.180036</td>\n",
       "    </tr>\n",
       "    <tr>\n",
       "      <th>3</th>\n",
       "      <td>1155W 7.2-Ch. with Dolby Atmos 4K Ultra HD HDR...</td>\n",
       "      <td>18</td>\n",
       "      <td>0.138523</td>\n",
       "      <td>3.987805</td>\n",
       "    </tr>\n",
       "    <tr>\n",
       "      <th>4</th>\n",
       "      <td>2019 Google Pixel 3a XL 64GB LTE Cell Phone (U...</td>\n",
       "      <td>21</td>\n",
       "      <td>0.200292</td>\n",
       "      <td>4.138889</td>\n",
       "    </tr>\n",
       "    <tr>\n",
       "      <th>...</th>\n",
       "      <td>...</td>\n",
       "      <td>...</td>\n",
       "      <td>...</td>\n",
       "      <td>...</td>\n",
       "    </tr>\n",
       "    <tr>\n",
       "      <th>851</th>\n",
       "      <td>Sony NP-FV100A V-Series Rechargeable Battery P...</td>\n",
       "      <td>26</td>\n",
       "      <td>0.055556</td>\n",
       "      <td>4.681818</td>\n",
       "    </tr>\n",
       "    <tr>\n",
       "      <th>852</th>\n",
       "      <td>Sony NP-FV70A V-Series Battery Pack for Handyc...</td>\n",
       "      <td>84</td>\n",
       "      <td>0.016082</td>\n",
       "      <td>4.460000</td>\n",
       "    </tr>\n",
       "    <tr>\n",
       "      <th>853</th>\n",
       "      <td>Sony NP-FW50 Lithium-Ion Rechargeable Battery ...</td>\n",
       "      <td>207</td>\n",
       "      <td>0.013889</td>\n",
       "      <td>4.102041</td>\n",
       "    </tr>\n",
       "    <tr>\n",
       "      <th>854</th>\n",
       "      <td>Sony Np-fv100 Rechargeable Battery</td>\n",
       "      <td>1</td>\n",
       "      <td>0.053363</td>\n",
       "      <td>4.636364</td>\n",
       "    </tr>\n",
       "    <tr>\n",
       "      <th>855</th>\n",
       "      <td>Sony PXW-Z90V XDCAM 4K Camcorder</td>\n",
       "      <td>57</td>\n",
       "      <td>0.011696</td>\n",
       "      <td>4.038462</td>\n",
       "    </tr>\n",
       "  </tbody>\n",
       "</table>\n",
       "<p>856 rows × 4 columns</p>\n",
       "</div>"
      ],
      "text/plain": [
       "                                               product  usernames_count  \\\n",
       "0    1 AW1 Waterproof Mirrorless Camera with 11-27....                8   \n",
       "1    1.2 Cu. Ft. 1200 Watt SN66KB Microwave with In...                6   \n",
       "2    100S-14IBR 14\" Laptop - Intel Celeron - 2GB Me...              222   \n",
       "3    1155W 7.2-Ch. with Dolby Atmos 4K Ultra HD HDR...               18   \n",
       "4    2019 Google Pixel 3a XL 64GB LTE Cell Phone (U...               21   \n",
       "..                                                 ...              ...   \n",
       "851  Sony NP-FV100A V-Series Rechargeable Battery P...               26   \n",
       "852  Sony NP-FV70A V-Series Battery Pack for Handyc...               84   \n",
       "853  Sony NP-FW50 Lithium-Ion Rechargeable Battery ...              207   \n",
       "854                 Sony Np-fv100 Rechargeable Battery                1   \n",
       "855                   Sony PXW-Z90V XDCAM 4K Camcorder               57   \n",
       "\n",
       "     coreness  rating_medio  \n",
       "0    0.239035      2.846154  \n",
       "1    0.069444      4.037975  \n",
       "2    0.080775      4.180036  \n",
       "3    0.138523      3.987805  \n",
       "4    0.200292      4.138889  \n",
       "..        ...           ...  \n",
       "851  0.055556      4.681818  \n",
       "852  0.016082      4.460000  \n",
       "853  0.013889      4.102041  \n",
       "854  0.053363      4.636364  \n",
       "855  0.011696      4.038462  \n",
       "\n",
       "[856 rows x 4 columns]"
      ]
     },
     "execution_count": 56,
     "metadata": {},
     "output_type": "execute_result"
    }
   ],
   "source": [
    "df_final"
   ]
  },
  {
   "cell_type": "code",
   "execution_count": 57,
   "metadata": {},
   "outputs": [],
   "source": [
    "df_recorte_2 = df_single_product.groupby('product_pair')['usernames'].agg(list).reset_index()\n",
    "df_recorte_2.columns = ['product', 'usernames']\n",
    "df_recorte_2['usernames'] = df_recorte_2['usernames'].apply(lambda usernames_list: list(set([user for sublist in usernames_list for user in sublist])))"
   ]
  },
  {
   "cell_type": "code",
   "execution_count": 62,
   "metadata": {},
   "outputs": [],
   "source": [
    "superuser_usernames = set.union(*df_recorte_2['usernames'].apply(set))"
   ]
  },
  {
   "cell_type": "code",
   "execution_count": 65,
   "metadata": {},
   "outputs": [],
   "source": [
    "# Filter and keep only the superusers in the 'usernames' column of df_recorte_2\n",
    "df_recorte_2['usernames'] = df_recorte_2['usernames'].apply(lambda usernames: [user for user in usernames if user in superuser_usernames])"
   ]
  },
  {
   "cell_type": "code",
   "execution_count": 66,
   "metadata": {},
   "outputs": [
    {
     "ename": "ValueError",
     "evalue": "Length of values (856) does not match length of index (930)",
     "output_type": "error",
     "traceback": [
      "\u001b[0;31m---------------------------------------------------------------------------\u001b[0m",
      "\u001b[0;31mValueError\u001b[0m                                Traceback (most recent call last)",
      "Cell \u001b[0;32mIn[66], line 2\u001b[0m\n\u001b[1;32m      1\u001b[0m df_recorte_2[\u001b[38;5;124m'\u001b[39m\u001b[38;5;124musername_count\u001b[39m\u001b[38;5;124m'\u001b[39m] \u001b[38;5;241m=\u001b[39m df_recorte_2[\u001b[38;5;124m'\u001b[39m\u001b[38;5;124musernames\u001b[39m\u001b[38;5;124m'\u001b[39m]\u001b[38;5;241m.\u001b[39mapply(\u001b[38;5;28mlen\u001b[39m)\n\u001b[0;32m----> 2\u001b[0m \u001b[43mdf_recorte_2\u001b[49m\u001b[43m[\u001b[49m\u001b[38;5;124;43m'\u001b[39;49m\u001b[38;5;124;43mcoreness\u001b[39;49m\u001b[38;5;124;43m'\u001b[39;49m\u001b[43m]\u001b[49m \u001b[38;5;241m=\u001b[39m df_final\u001b[38;5;241m.\u001b[39mindex\u001b[38;5;241m.\u001b[39mmap(c\u001b[38;5;241m.\u001b[39mget)\n",
      "File \u001b[0;32m/usr/local/lib/python3.10/site-packages/pandas/core/frame.py:3980\u001b[0m, in \u001b[0;36mDataFrame.__setitem__\u001b[0;34m(self, key, value)\u001b[0m\n\u001b[1;32m   3977\u001b[0m     \u001b[38;5;28mself\u001b[39m\u001b[38;5;241m.\u001b[39m_setitem_array([key], value)\n\u001b[1;32m   3978\u001b[0m \u001b[38;5;28;01melse\u001b[39;00m:\n\u001b[1;32m   3979\u001b[0m     \u001b[38;5;66;03m# set column\u001b[39;00m\n\u001b[0;32m-> 3980\u001b[0m     \u001b[38;5;28;43mself\u001b[39;49m\u001b[38;5;241;43m.\u001b[39;49m\u001b[43m_set_item\u001b[49m\u001b[43m(\u001b[49m\u001b[43mkey\u001b[49m\u001b[43m,\u001b[49m\u001b[43m \u001b[49m\u001b[43mvalue\u001b[49m\u001b[43m)\u001b[49m\n",
      "File \u001b[0;32m/usr/local/lib/python3.10/site-packages/pandas/core/frame.py:4174\u001b[0m, in \u001b[0;36mDataFrame._set_item\u001b[0;34m(self, key, value)\u001b[0m\n\u001b[1;32m   4164\u001b[0m \u001b[38;5;28;01mdef\u001b[39;00m \u001b[38;5;21m_set_item\u001b[39m(\u001b[38;5;28mself\u001b[39m, key, value) \u001b[38;5;241m-\u001b[39m\u001b[38;5;241m>\u001b[39m \u001b[38;5;28;01mNone\u001b[39;00m:\n\u001b[1;32m   4165\u001b[0m \u001b[38;5;250m    \u001b[39m\u001b[38;5;124;03m\"\"\"\u001b[39;00m\n\u001b[1;32m   4166\u001b[0m \u001b[38;5;124;03m    Add series to DataFrame in specified column.\u001b[39;00m\n\u001b[1;32m   4167\u001b[0m \n\u001b[0;32m   (...)\u001b[0m\n\u001b[1;32m   4172\u001b[0m \u001b[38;5;124;03m    ensure homogeneity.\u001b[39;00m\n\u001b[1;32m   4173\u001b[0m \u001b[38;5;124;03m    \"\"\"\u001b[39;00m\n\u001b[0;32m-> 4174\u001b[0m     value \u001b[38;5;241m=\u001b[39m \u001b[38;5;28;43mself\u001b[39;49m\u001b[38;5;241;43m.\u001b[39;49m\u001b[43m_sanitize_column\u001b[49m\u001b[43m(\u001b[49m\u001b[43mvalue\u001b[49m\u001b[43m)\u001b[49m\n\u001b[1;32m   4176\u001b[0m     \u001b[38;5;28;01mif\u001b[39;00m (\n\u001b[1;32m   4177\u001b[0m         key \u001b[38;5;129;01min\u001b[39;00m \u001b[38;5;28mself\u001b[39m\u001b[38;5;241m.\u001b[39mcolumns\n\u001b[1;32m   4178\u001b[0m         \u001b[38;5;129;01mand\u001b[39;00m value\u001b[38;5;241m.\u001b[39mndim \u001b[38;5;241m==\u001b[39m \u001b[38;5;241m1\u001b[39m\n\u001b[1;32m   4179\u001b[0m         \u001b[38;5;129;01mand\u001b[39;00m \u001b[38;5;129;01mnot\u001b[39;00m is_extension_array_dtype(value)\n\u001b[1;32m   4180\u001b[0m     ):\n\u001b[1;32m   4181\u001b[0m         \u001b[38;5;66;03m# broadcast across multiple columns if necessary\u001b[39;00m\n\u001b[1;32m   4182\u001b[0m         \u001b[38;5;28;01mif\u001b[39;00m \u001b[38;5;129;01mnot\u001b[39;00m \u001b[38;5;28mself\u001b[39m\u001b[38;5;241m.\u001b[39mcolumns\u001b[38;5;241m.\u001b[39mis_unique \u001b[38;5;129;01mor\u001b[39;00m \u001b[38;5;28misinstance\u001b[39m(\u001b[38;5;28mself\u001b[39m\u001b[38;5;241m.\u001b[39mcolumns, MultiIndex):\n",
      "File \u001b[0;32m/usr/local/lib/python3.10/site-packages/pandas/core/frame.py:4915\u001b[0m, in \u001b[0;36mDataFrame._sanitize_column\u001b[0;34m(self, value)\u001b[0m\n\u001b[1;32m   4912\u001b[0m     \u001b[38;5;28;01mreturn\u001b[39;00m _reindex_for_setitem(Series(value), \u001b[38;5;28mself\u001b[39m\u001b[38;5;241m.\u001b[39mindex)\n\u001b[1;32m   4914\u001b[0m \u001b[38;5;28;01mif\u001b[39;00m is_list_like(value):\n\u001b[0;32m-> 4915\u001b[0m     \u001b[43mcom\u001b[49m\u001b[38;5;241;43m.\u001b[39;49m\u001b[43mrequire_length_match\u001b[49m\u001b[43m(\u001b[49m\u001b[43mvalue\u001b[49m\u001b[43m,\u001b[49m\u001b[43m \u001b[49m\u001b[38;5;28;43mself\u001b[39;49m\u001b[38;5;241;43m.\u001b[39;49m\u001b[43mindex\u001b[49m\u001b[43m)\u001b[49m\n\u001b[1;32m   4916\u001b[0m \u001b[38;5;28;01mreturn\u001b[39;00m sanitize_array(value, \u001b[38;5;28mself\u001b[39m\u001b[38;5;241m.\u001b[39mindex, copy\u001b[38;5;241m=\u001b[39m\u001b[38;5;28;01mTrue\u001b[39;00m, allow_2d\u001b[38;5;241m=\u001b[39m\u001b[38;5;28;01mTrue\u001b[39;00m)\n",
      "File \u001b[0;32m/usr/local/lib/python3.10/site-packages/pandas/core/common.py:571\u001b[0m, in \u001b[0;36mrequire_length_match\u001b[0;34m(data, index)\u001b[0m\n\u001b[1;32m    567\u001b[0m \u001b[38;5;250m\u001b[39m\u001b[38;5;124;03m\"\"\"\u001b[39;00m\n\u001b[1;32m    568\u001b[0m \u001b[38;5;124;03mCheck the length of data matches the length of the index.\u001b[39;00m\n\u001b[1;32m    569\u001b[0m \u001b[38;5;124;03m\"\"\"\u001b[39;00m\n\u001b[1;32m    570\u001b[0m \u001b[38;5;28;01mif\u001b[39;00m \u001b[38;5;28mlen\u001b[39m(data) \u001b[38;5;241m!=\u001b[39m \u001b[38;5;28mlen\u001b[39m(index):\n\u001b[0;32m--> 571\u001b[0m     \u001b[38;5;28;01mraise\u001b[39;00m \u001b[38;5;167;01mValueError\u001b[39;00m(\n\u001b[1;32m    572\u001b[0m         \u001b[38;5;124m\"\u001b[39m\u001b[38;5;124mLength of values \u001b[39m\u001b[38;5;124m\"\u001b[39m\n\u001b[1;32m    573\u001b[0m         \u001b[38;5;124mf\u001b[39m\u001b[38;5;124m\"\u001b[39m\u001b[38;5;124m(\u001b[39m\u001b[38;5;132;01m{\u001b[39;00m\u001b[38;5;28mlen\u001b[39m(data)\u001b[38;5;132;01m}\u001b[39;00m\u001b[38;5;124m) \u001b[39m\u001b[38;5;124m\"\u001b[39m\n\u001b[1;32m    574\u001b[0m         \u001b[38;5;124m\"\u001b[39m\u001b[38;5;124mdoes not match length of index \u001b[39m\u001b[38;5;124m\"\u001b[39m\n\u001b[1;32m    575\u001b[0m         \u001b[38;5;124mf\u001b[39m\u001b[38;5;124m\"\u001b[39m\u001b[38;5;124m(\u001b[39m\u001b[38;5;132;01m{\u001b[39;00m\u001b[38;5;28mlen\u001b[39m(index)\u001b[38;5;132;01m}\u001b[39;00m\u001b[38;5;124m)\u001b[39m\u001b[38;5;124m\"\u001b[39m\n\u001b[1;32m    576\u001b[0m     )\n",
      "\u001b[0;31mValueError\u001b[0m: Length of values (856) does not match length of index (930)"
     ]
    }
   ],
   "source": [
    "df_recorte_2['username_count'] = df_recorte_2['usernames'].apply(len)\n",
    "df_recorte_2['coreness'] = df_final.index.map(c.get)"
   ]
  },
  {
   "cell_type": "code",
   "execution_count": null,
   "metadata": {},
   "outputs": [],
   "source": [
    "df_recorte_2"
   ]
  },
  {
   "cell_type": "code",
   "execution_count": null,
   "metadata": {},
   "outputs": [],
   "source": [
    "df_recorte_2 = df_recorte_2[df_recorte_2['username_count'] >= 2]\n",
    "df_recorte_2 = df_recorte_2.dropna()\n",
    "df_recorte_2"
   ]
  },
  {
   "cell_type": "code",
   "execution_count": null,
   "metadata": {},
   "outputs": [],
   "source": [
    "result = reg.linear(data=df_recorte_2, formula='coreness ~ username_count')\n",
    "result.micro_summary()   "
   ]
  },
  {
   "cell_type": "code",
   "execution_count": null,
   "metadata": {},
   "outputs": [],
   "source": [
    "result.plot_residuals()"
   ]
  },
  {
   "cell_type": "code",
   "execution_count": null,
   "metadata": {},
   "outputs": [],
   "source": []
  }
 ],
 "metadata": {
  "kernelspec": {
   "display_name": "Python 3 (ipykernel)",
   "language": "python",
   "name": "python3"
  },
  "language_info": {
   "codemirror_mode": {
    "name": "ipython",
    "version": 3
   },
   "file_extension": ".py",
   "mimetype": "text/x-python",
   "name": "python",
   "nbconvert_exporter": "python",
   "pygments_lexer": "ipython3",
   "version": "3.10.10"
  }
 },
 "nbformat": 4,
 "nbformat_minor": 2
}
