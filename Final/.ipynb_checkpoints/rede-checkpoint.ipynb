{
 "cells": [
  {
   "cell_type": "code",
   "execution_count": 1,
   "metadata": {},
   "outputs": [
    {
     "data": {
      "text/html": [
       "\n",
       "    <script src=\"/files/netpixi.min.js\"></script>\n"
      ],
      "text/plain": [
       "<IPython.core.display.HTML object>"
      ]
     },
     "metadata": {},
     "output_type": "display_data"
    },
    {
     "name": "stderr",
     "output_type": "stream",
     "text": [
      "<frozen importlib._bootstrap>:914: ImportWarning: VendorImporter.find_spec() not found; falling back to find_module()\n"
     ]
    }
   ],
   "source": [
    "import os\n",
    "import pandas as pd\n",
    "import json\n",
    "from collections import Counter\n",
    "import seaborn as sns\n",
    "from netpixi.integration.gt import *\n",
    "from netpixi.integration.gt import Graph\n",
    "from regression.integration.gt import *\n",
    "import netpixi\n",
    "from collections import defaultdict\n",
    "from itertools import combinations\n",
    "import matplotlib.pyplot as plt\n",
    "import seaborn as sns\n",
    "from itertools import combinations\n",
    "import cpnet\n",
    "from graph_tool import spectral\n",
    "import json\n",
    "import regression as reg\n",
    "from itertools import chain\n",
    "\n",
    "import numpy as np\n",
    "from collections import defaultdict\n",
    "import itertools\n",
    "g = Graph(directed=False)"
   ]
  },
  {
   "cell_type": "code",
   "execution_count": 2,
   "metadata": {},
   "outputs": [],
   "source": [
    "df_sample = pd.read_csv('sample.csv')"
   ]
  },
  {
   "cell_type": "code",
   "execution_count": 3,
   "metadata": {},
   "outputs": [],
   "source": [
    "import ast\n",
    "\n",
    "# Converta as strings de volta para listas\n",
    "df_sample['usernames'] = df_sample['usernames'].apply(ast.literal_eval)"
   ]
  },
  {
   "cell_type": "code",
   "execution_count": 4,
   "metadata": {},
   "outputs": [],
   "source": [
    "df = df_sample.explode('usernames')\n",
    "pivot_table = df.groupby(['usernames','product_name']).size().unstack(fill_value=0)\n",
    "new_df_data = []\n",
    "for _, row in pivot_table.iterrows():\n",
    "    reviewed_products = row[row > 0].index.tolist()\n",
    "    \n",
    "    for product1, product2 in combinations(reviewed_products, 2):\n",
    "        new_df_data.append((f\"{product1}_{product2}\", 1))\n",
    "\n",
    "new_df = pd.DataFrame(new_df_data, columns=['product_pair', 'weight'])\n",
    "\n",
    "new_df = new_df.groupby('product_pair').sum().reset_index()\n",
    "\n",
    "df_novo_dataset = new_df.groupby('weight').size().reset_index(name='count')\n",
    "\n",
    "df_filtrado = df_novo_dataset.loc[df_novo_dataset['weight'] < 26]\n",
    "new_df = new_df.loc[new_df['weight'] >= 2]"
   ]
  },
  {
   "cell_type": "code",
   "execution_count": 5,
   "metadata": {
    "scrolled": false
   },
   "outputs": [
    {
     "data": {
      "image/png": "[encoded data removed]",
      "text/plain": [
       "<Figure size 640x480 with 1 Axes>"
      ]
     },
     "metadata": {},
     "output_type": "display_data"
    }
   ],
   "source": [
    "new_df[\"weight\"].plot.hist(bins=80)\n",
    "plt.xlabel(\"weight\")\n",
    "plt.show()"
   ]
  },
  {
   "cell_type": "code",
   "execution_count": null,
   "metadata": {},
   "outputs": [
    {
     "name": "stderr",
     "output_type": "stream",
     "text": [
      "<frozen importlib._bootstrap>:914: ImportWarning: VendorImporter.find_spec() not found; falling back to find_module()\n"
     ]
    }
   ],
   "source": [
    "import csv\n",
    "from collections import defaultdict\n",
    "from itertools import combinations\n",
    "from sklearn.preprocessing import LabelEncoder\n",
    "\n",
    "username_counts = defaultdict(int)\n",
    "\n",
    "for username, row in pivot_table.iterrows():\n",
    "    if username in ['Anonymous', 'anonymous', 'ByAmazonCustomer', 'Amazon Customer']:\n",
    "        continue\n",
    "\n",
    "    reviewed_products = row[row > 0].index.tolist()\n",
    "\n",
    "    username_counts[username] += len(reviewed_products)\n",
    "\n",
    "data_dict = defaultdict(list)\n",
    "\n",
    "for username, row in pivot_table.iterrows():\n",
    "\n",
    "    reviewed_products = row[row > 0].index.tolist()\n",
    "\n",
    "    for product1, product2 in combinations(reviewed_products, 2):\n",
    "        data_dict[(product1, product2)].append(username)\n",
    "\n",
    "new_df = pd.DataFrame(list(data_dict.items()), columns=['product_pair', 'usernames'])\n",
    "\n",
    "new_df['weight'] = new_df['usernames'].apply(len)\n",
    "\n",
    "new_df = new_df[new_df['weight'] >= 2]\n",
    "\n",
    "product_encoder = LabelEncoder()\n",
    "\n",
    "all_product_names = set([product for pair in new_df['product_pair'] for product in pair])\n",
    "\n",
    "product_encoder.fit(list(all_product_names))\n",
    "\n",
    "with open('edges.txt', 'w', newline='') as f:\n",
    "    writer = csv.writer(f, delimiter='\\t')\n",
    "    for _, row in new_df.iterrows():\n",
    "        product1, product2 = row['product_pair']\n",
    "        encoded_product1 = product_encoder.transform([product1])[0]\n",
    "        encoded_product2 = product_encoder.transform([product2])[0]\n",
    "        writer.writerow([encoded_product1, encoded_product2])"
   ]
  },
  {
   "cell_type": "code",
   "execution_count": null,
   "metadata": {
    "scrolled": false
   },
   "outputs": [],
   "source": [
    "new_df"
   ]
  },
  {
   "cell_type": "code",
   "execution_count": null,
   "metadata": {},
   "outputs": [],
   "source": [
    "f = open(\"edges.txt\", \"r\")\n",
    "x = f.readlines()\n",
    "\n",
    "vertices = []\n",
    "i = 0\n",
    "while i <= len(x)-1:\n",
    "    z = x[i].split('\\t')\n",
    "    y = z[1].strip('\\n')\n",
    "    if z[0] not in vertices:\n",
    "        vertices.append(int(z[0]))\n",
    "    if y not in vertices:\n",
    "        vertices.append(int(y))\n",
    "    if i%1000 == 0:\n",
    "        print(i)\n",
    "    i +=1\n",
    "vertices = list(dict.fromkeys(vertices) )"
   ]
  },
  {
   "cell_type": "code",
   "execution_count": null,
   "metadata": {},
   "outputs": [],
   "source": [
    "for v in vertices:\n",
    "    g.add_vertex(v)\n",
    "print('número de vértices de g:', g.num_vertices())"
   ]
  },
  {
   "cell_type": "code",
   "execution_count": null,
   "metadata": {},
   "outputs": [],
   "source": [
    "i = 0\n",
    "while i <= len(x)-1:\n",
    "    z = x[i].split('\\t')\n",
    "    y = int(z[1].strip('\\n'))\n",
    "    g.add_edge(int(z[0]), y)\n",
    "    i +=1\n",
    "    \n",
    "print('número de arestas de g:', g.num_edges())"
   ]
  },
  {
   "cell_type": "code",
   "execution_count": null,
   "metadata": {},
   "outputs": [],
   "source": [
    "gt_save(g, 'products.net.gz')"
   ]
  },
  {
   "cell_type": "code",
   "execution_count": null,
   "metadata": {},
   "outputs": [],
   "source": [
    "g = gt_load('products.net.gz')"
   ]
  },
  {
   "cell_type": "code",
   "execution_count": null,
   "metadata": {},
   "outputs": [],
   "source": [
    "m = g.num_edges()\n",
    "n = g.num_vertices()\n",
    "print(f\"Arestas = {m}\")\n",
    "print(f\"Vertices = {n}\")\n",
    "if g.is_directed():\n",
    "    max_edges = n * (n - 1)\n",
    "else:\n",
    "    max_edges = n * (n - 1) // 2\n",
    "max_edges\n",
    "d = m / max_edges\n",
    "print(f\"Densidade = {d}\")"
   ]
  },
  {
   "cell_type": "code",
   "execution_count": null,
   "metadata": {},
   "outputs": [],
   "source": [
    "data = gt_data(g)\n",
    "data"
   ]
  },
  {
   "cell_type": "code",
   "execution_count": null,
   "metadata": {},
   "outputs": [],
   "source": [
    "degrees = []\n",
    "for v in g.all_vertices():\n",
    "    degrees.append(v.total_degree())\n",
    "data['degree'] = degrees\n",
    "data"
   ]
  },
  {
   "cell_type": "code",
   "execution_count": null,
   "metadata": {},
   "outputs": [],
   "source": [
    "sns.histplot(data['degree'])\n",
    "data['degree'].describe()"
   ]
  },
  {
   "cell_type": "code",
   "execution_count": null,
   "metadata": {
    "scrolled": false
   },
   "outputs": [],
   "source": [
    "g = gt_load('products.net.gz')\n",
    "m = gt_draw.sfdp_layout(g)\n",
    "gt_move(g, m)\n",
    "gt_save(g, 'exemplo.net.gz')\n",
    "netpixi.render('exemplo.net.gz');"
   ]
  },
  {
   "cell_type": "code",
   "execution_count": null,
   "metadata": {
    "scrolled": false
   },
   "outputs": [],
   "source": [
    "g = gt_clean(g)\n",
    "m = gt_draw.sfdp_layout(g)\n",
    "gt_move(g, m)\n",
    "gt_save(g, 'exemplo.net.gz')\n",
    "r = netpixi.render('exemplo.net.gz', infinite=True);"
   ]
  },
  {
   "cell_type": "code",
   "execution_count": null,
   "metadata": {},
   "outputs": [],
   "source": [
    "matrix = spectral.adjacency(g)\n",
    "algorithm = cpnet.Rombach()\n",
    "algorithm.detect(matrix)\n",
    "c = algorithm.get_coreness()"
   ]
  },
  {
   "cell_type": "code",
   "execution_count": null,
   "metadata": {},
   "outputs": [],
   "source": [
    "g.add_vp('coreness')\n",
    "for i, coreness in c.items():\n",
    "    v = g.get_vertex_by_index(i)-\n",
    "    v['coreness'] = float(coreness)\n",
    "\n",
    "for v in g.all_vertices():\n",
    "    r.vertex(v['id'], size=(10 + 40 * v['coreness']))"
   ]
  },
  {
   "cell_type": "code",
   "execution_count": null,
   "metadata": {},
   "outputs": [],
   "source": [
    "df_single_product = new_df.explode('product_pair')"
   ]
  },
  {
   "cell_type": "code",
   "execution_count": null,
   "metadata": {},
   "outputs": [],
   "source": [
    "df_final = df_single_product.groupby('product_pair')['usernames'].count().reset_index()\n",
    "df_final.columns = ['product', 'usernames_count']"
   ]
  },
  {
   "cell_type": "code",
   "execution_count": null,
   "metadata": {
    "scrolled": false
   },
   "outputs": [],
   "source": [
    "df_final['coreness'] = df_final.index.map(c.get)"
   ]
  },
  {
   "cell_type": "code",
   "execution_count": null,
   "metadata": {
    "scrolled": false
   },
   "outputs": [],
   "source": [
    "df_final = df_final.dropna()\n",
    "df_final"
   ]
  },
  {
   "cell_type": "code",
   "execution_count": null,
   "metadata": {},
   "outputs": [],
   "source": [
    "# produto_coreness = {}\n",
    "\n",
    "# for i, row in df_final.iterrows():\n",
    "#     produto_coreness[row['product']] = row['coreness']"
   ]
  },
  {
   "cell_type": "code",
   "execution_count": null,
   "metadata": {},
   "outputs": [],
   "source": [
    "with open('produto_rating.json', 'r') as f:\n",
    "    dicionario = json.load(f)"
   ]
  },
  {
   "cell_type": "code",
   "execution_count": null,
   "metadata": {},
   "outputs": [],
   "source": [
    "rating_medio_produto = []\n",
    "for i, row in df_final.iterrows():\n",
    "    rating_medio_produto.append(dicionario[row['product']])"
   ]
  },
  {
   "cell_type": "code",
   "execution_count": null,
   "metadata": {},
   "outputs": [],
   "source": [
    "df_final['rating_medio'] = rating_medio_produto"
   ]
  },
  {
   "cell_type": "code",
   "execution_count": null,
   "metadata": {},
   "outputs": [],
   "source": [
    "df_final"
   ]
  },
  {
   "cell_type": "code",
   "execution_count": null,
   "metadata": {},
   "outputs": [],
   "source": [
    "df_final.dtypes"
   ]
  },
  {
   "cell_type": "code",
   "execution_count": null,
   "metadata": {},
   "outputs": [],
   "source": [
    "import regression as reg\n",
    "result = reg.linear(data=df_final, formula='coreness ~ usernames_count + rating_medio')\n",
    "result.micro_summary()   "
   ]
  },
  {
   "cell_type": "code",
   "execution_count": null,
   "metadata": {
    "scrolled": false
   },
   "outputs": [],
   "source": [
    "result.plot_residuals()"
   ]
  },
  {
   "cell_type": "code",
   "execution_count": null,
   "metadata": {},
   "outputs": [],
   "source": [
    "df_log = df_final.copy()"
   ]
  },
  {
   "cell_type": "code",
   "execution_count": null,
   "metadata": {
    "scrolled": false
   },
   "outputs": [],
   "source": [
    "df_log['usernames_count_log'] = np.log(df_log['usernames_count'])\n",
    "df_log"
   ]
  },
  {
   "cell_type": "code",
   "execution_count": null,
   "metadata": {},
   "outputs": [],
   "source": [
    "result_log_username = reg.linear(data=df_log, formula='coreness ~ rating_medio + usernames_count_log')\n",
    "result_log_username.micro_summary()"
   ]
  },
  {
   "cell_type": "code",
   "execution_count": null,
   "metadata": {
    "scrolled": false
   },
   "outputs": [],
   "source": [
    "result_log_username.plot_residuals()"
   ]
  },
  {
   "cell_type": "code",
   "execution_count": null,
   "metadata": {},
   "outputs": [],
   "source": [
    "df_log_2 = df_log.copy()"
   ]
  },
  {
   "cell_type": "code",
   "execution_count": null,
   "metadata": {},
   "outputs": [],
   "source": [
    "df_log_2['rating_medio_log'] = np.log(df_log_2['rating_medio'])"
   ]
  },
  {
   "cell_type": "code",
   "execution_count": null,
   "metadata": {},
   "outputs": [],
   "source": [
    "result_log_rating = reg.linear(data=df_log_2, formula='coreness ~ usernames_count_log+ rating_medio_log')\n",
    "result_log_rating.micro_summary()"
   ]
  },
  {
   "cell_type": "code",
   "execution_count": null,
   "metadata": {},
   "outputs": [],
   "source": [
    "result_log_rating.plot_residuals()"
   ]
  },
  {
   "cell_type": "code",
   "execution_count": null,
   "metadata": {},
   "outputs": [],
   "source": [
    "df_log_2"
   ]
  },
  {
   "cell_type": "code",
   "execution_count": null,
   "metadata": {},
   "outputs": [],
   "source": [
    "df_log_2.to_csv('dados_final.csv', index=False)"
   ]
  },
  {
   "cell_type": "code",
   "execution_count": null,
   "metadata": {},
   "outputs": [],
   "source": [
    "produto_coreness = {}\n",
    "\n",
    "for i, row in df_log_2.iterrows():\n",
    "    produto_coreness[row['product']] = row['coreness']"
   ]
  },
  {
   "cell_type": "code",
   "execution_count": null,
   "metadata": {},
   "outputs": [],
   "source": [
    "with open('produto_coreness.json', 'w') as f:\n",
    "    json.dump(produto_coreness, f)"
   ]
  },
  {
   "cell_type": "code",
   "execution_count": null,
   "metadata": {},
   "outputs": [],
   "source": [
    "df_sample"
   ]
  },
  {
   "cell_type": "code",
   "execution_count": null,
   "metadata": {},
   "outputs": [],
   "source": [
    "from itertools import chain\n",
    "flattened_usernames = list(chain.from_iterable(df_sample['usernames']))\n",
    "username_counts = Counter(flattened_usernames)"
   ]
  },
  {
   "cell_type": "code",
   "execution_count": null,
   "metadata": {},
   "outputs": [],
   "source": [
    "# Função para filtrar os usuários\n",
    "def filter_users(usernames):\n",
    "    return [user for user in usernames if username_counts.get(user, 0) <= 25]\n",
    "\n",
    "# Aplique a função em cada linha do DataFrame\n",
    "df_sample['usernames'] = df_sample['usernames'].apply(filter_users)"
   ]
  },
  {
   "cell_type": "code",
   "execution_count": null,
   "metadata": {},
   "outputs": [],
   "source": [
    "# Remova as linhas onde 'usernames' está vazio\n",
    "df_sample = df_sample[df_sample['usernames'].apply(len) > 0]"
   ]
  },
  {
   "cell_type": "code",
   "execution_count": null,
   "metadata": {},
   "outputs": [],
   "source": [
    "df_sample"
   ]
  },
  {
   "cell_type": "code",
   "execution_count": null,
   "metadata": {},
   "outputs": [],
   "source": [
    "df = df_sample.explode('usernames')\n",
    "pivot_table = df.groupby(['usernames','product_name']).size().unstack(fill_value=0)\n",
    "new_df_data = []\n",
    "for _, row in pivot_table.iterrows():\n",
    "    reviewed_products = row[row > 0].index.tolist()\n",
    "    \n",
    "    for product1, product2 in combinations(reviewed_products, 2):\n",
    "        new_df_data.append((f\"{product1}_{product2}\", 1))\n",
    "\n",
    "new_df = pd.DataFrame(new_df_data, columns=['product_pair', 'weight'])\n",
    "\n",
    "new_df = new_df.groupby('product_pair').sum().reset_index()"
   ]
  },
  {
   "cell_type": "code",
   "execution_count": null,
   "metadata": {},
   "outputs": [],
   "source": [
    "new_df"
   ]
  },
  {
   "cell_type": "code",
   "execution_count": null,
   "metadata": {},
   "outputs": [],
   "source": [
    "new_df = new_df.loc[new_df['weight'] >= 2]"
   ]
  },
  {
   "cell_type": "code",
   "execution_count": null,
   "metadata": {},
   "outputs": [],
   "source": [
    "new_df"
   ]
  },
  {
   "cell_type": "code",
   "execution_count": null,
   "metadata": {},
   "outputs": [],
   "source": [
    "import csv\n",
    "from collections import defaultdict\n",
    "from itertools import combinations\n",
    "from sklearn.preprocessing import LabelEncoder\n",
    "\n",
    "username_counts = defaultdict(int)\n",
    "\n",
    "for username, row in pivot_table.iterrows():\n",
    "    if username in ['Anonymous', 'anonymous', 'ByAmazonCustomer', 'Amazon Customer']:\n",
    "        continue\n",
    "    \n",
    "    reviewed_products = row[row > 0].index.tolist()\n",
    "\n",
    "    username_counts[username] += len(reviewed_products)\n",
    "\n",
    "data_dict = defaultdict(list)\n",
    "\n",
    "for username, row in pivot_table.iterrows():\n",
    "\n",
    "    reviewed_products = row[row > 0].index.tolist()\n",
    "\n",
    "    for product1, product2 in combinations(reviewed_products, 2):\n",
    "        data_dict[(product1, product2)].append(username)\n",
    "\n",
    "new_df = pd.DataFrame(list(data_dict.items()), columns=['product_pair', 'usernames'])\n",
    "\n",
    "new_df['weight'] = new_df['usernames'].apply(len)\n",
    "\n",
    "new_df = new_df[new_df['weight'] >= 2]\n",
    "\n",
    "product_encoder = LabelEncoder()\n",
    "\n",
    "all_product_names = set([product for pair in new_df['product_pair'] for product in pair])\n",
    "\n",
    "product_encoder.fit(list(all_product_names))\n",
    "\n",
    "with open('edges.txt', 'w', newline='') as f:\n",
    "    writer = csv.writer(f, delimiter='\\t')\n",
    "    for _, row in new_df.iterrows():\n",
    "        product1, product2 = row['product_pair']\n",
    "        encoded_product1 = product_encoder.transform([product1])[0]\n",
    "        encoded_product2 = product_encoder.transform([product2])[0]\n",
    "        writer.writerow([encoded_product1, encoded_product2])"
   ]
  },
  {
   "cell_type": "code",
   "execution_count": null,
   "metadata": {},
   "outputs": [],
   "source": [
    "new_df"
   ]
  },
  {
   "cell_type": "code",
   "execution_count": null,
   "metadata": {},
   "outputs": [],
   "source": [
    "df_single_product = new_df.explode('product_pair')"
   ]
  },
  {
   "cell_type": "code",
   "execution_count": null,
   "metadata": {},
   "outputs": [],
   "source": [
    "df_final = df_single_product.groupby('product_pair')['usernames'].count().reset_index()\n",
    "df_final.columns = ['product', 'usernames_count']"
   ]
  },
  {
   "cell_type": "code",
   "execution_count": null,
   "metadata": {},
   "outputs": [],
   "source": [
    "with open('produto_rating.json', 'r') as f:\n",
    "    dicionario = json.load(f)"
   ]
  },
  {
   "cell_type": "code",
   "execution_count": null,
   "metadata": {},
   "outputs": [],
   "source": [
    "rating_medio_produto = []\n",
    "for i, row in df_final.iterrows():\n",
    "    rating_medio_produto.append(dicionario[row['product']])"
   ]
  },
  {
   "cell_type": "code",
   "execution_count": null,
   "metadata": {},
   "outputs": [],
   "source": [
    "df_final['rating_medio'] = rating_medio_produto"
   ]
  },
  {
   "cell_type": "code",
   "execution_count": null,
   "metadata": {},
   "outputs": [],
   "source": [
    "df_final"
   ]
  },
  {
   "cell_type": "code",
   "execution_count": null,
   "metadata": {},
   "outputs": [],
   "source": [
    "df_final['usernames_count_log'] = np.log(df_final['usernames_count'])\n",
    "df_final['rating_medio_log'] = np.log(df_final['rating_medio'])"
   ]
  },
  {
   "cell_type": "code",
   "execution_count": null,
   "metadata": {},
   "outputs": [],
   "source": [
    "df_final"
   ]
  },
  {
   "cell_type": "code",
   "execution_count": null,
   "metadata": {},
   "outputs": [],
   "source": [
    "with open('produto_coreness.json', 'r') as f:\n",
    "    coreness_dict = json.load(f)"
   ]
  },
  {
   "cell_type": "code",
   "execution_count": null,
   "metadata": {},
   "outputs": [],
   "source": [
    "df_final['coreness'] = df_final['product'].map(coreness_dict)"
   ]
  },
  {
   "cell_type": "code",
   "execution_count": null,
   "metadata": {},
   "outputs": [],
   "source": [
    "df_final.dropna()"
   ]
  },
  {
   "cell_type": "code",
   "execution_count": null,
   "metadata": {},
   "outputs": [],
   "source": [
    "df_final.to_csv('df_final_recorte_2.csv', index=False)"
   ]
  }
 ],
 "metadata": {
  "kernelspec": {
   "display_name": "Python 3 (ipykernel)",
   "language": "python",
   "name": "python3"
  },
  "language_info": {
   "codemirror_mode": {
    "name": "ipython",
    "version": 3
   },
   "file_extension": ".py",
   "mimetype": "text/x-python",
   "name": "python",
   "nbconvert_exporter": "python",
   "pygments_lexer": "ipython3",
   "version": "3.10.10"
  }
 },
 "nbformat": 4,
 "nbformat_minor": 2
}
