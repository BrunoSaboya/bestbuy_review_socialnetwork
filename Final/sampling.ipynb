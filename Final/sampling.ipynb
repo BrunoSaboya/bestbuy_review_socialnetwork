{
 "cells": [
  {
   "cell_type": "code",
   "execution_count": 13,
   "id": "cfa7af0a",
   "metadata": {},
   "outputs": [],
   "source": [
    "import os\n",
    "import pandas as pd\n",
    "import json\n",
    "from collections import Counter\n",
    "import seaborn as sns\n",
    "from netpixi.integration.gt import *\n",
    "from netpixi.integration.gt import Graph\n",
    "from regression.integration.gt import *\n",
    "import netpixi\n",
    "from collections import defaultdict\n",
    "from itertools import combinations\n",
    "import matplotlib.pyplot as plt\n",
    "import seaborn as sns\n",
    "from itertools import combinations\n",
    "import cpnet\n",
    "from graph_tool import spectral\n",
    "import json\n",
    "\n",
    "import numpy as np\n",
    "from collections import defaultdict\n",
    "import itertools\n",
    "g = Graph(directed=False)\n",
    "files = os.listdir('./jsons')\n",
    "\n",
    "json_files = [file for file in files if file.endswith('.json')]"
   ]
  },
  {
   "cell_type": "code",
   "execution_count": 2,
   "id": "df9dcb98",
   "metadata": {},
   "outputs": [
    {
     "name": "stdout",
     "output_type": "stream",
     "text": [
      "13707\n"
     ]
    }
   ],
   "source": [
    "df_combined = pd.DataFrame()\n",
    "\n",
    "for json_file in json_files:\n",
    "    data = []\n",
    "    with open(f\"jsons/{json_file}\", 'r', encoding='utf-8') as f:\n",
    "        for line in f:\n",
    "            try:\n",
    "                data.append(json.loads(line))\n",
    "            except json.JSONDecodeError:\n",
    "                pass\n",
    "    df = pd.DataFrame(data)\n",
    "    df_combined = pd.concat([df_combined, df], ignore_index=True)\n",
    "print(len(df_combined))"
   ]
  },
  {
   "cell_type": "code",
   "execution_count": 3,
   "id": "4c844c8f",
   "metadata": {},
   "outputs": [],
   "source": [
    "df_filtered_computers = df_combined[df_combined['categories'].apply(lambda x: 'Computers' in x)]"
   ]
  },
  {
   "cell_type": "code",
   "execution_count": 4,
   "id": "deff10e8",
   "metadata": {},
   "outputs": [],
   "source": [
    "usuarios = []\n",
    "ratings = []\n",
    "for reviews_produto in df_combined['reviews']:\n",
    "    ratings_produto = []\n",
    "    for review in reviews_produto:\n",
    "        if 'username' in review.keys():\n",
    "            usuarios.append(review['username'])\n",
    "        if 'rating' in review.keys():\n",
    "            ratings_produto.append(review['rating'])\n",
    "    ratings.append(sum(ratings_produto)/len(ratings_produto))"
   ]
  },
  {
   "cell_type": "code",
   "execution_count": 5,
   "id": "c8d611fc",
   "metadata": {},
   "outputs": [
    {
     "data": {
      "text/html": [
       "<div>\n",
       "<style scoped>\n",
       "    .dataframe tbody tr th:only-of-type {\n",
       "        vertical-align: middle;\n",
       "    }\n",
       "\n",
       "    .dataframe tbody tr th {\n",
       "        vertical-align: top;\n",
       "    }\n",
       "\n",
       "    .dataframe thead th {\n",
       "        text-align: right;\n",
       "    }\n",
       "</style>\n",
       "<table border=\"1\" class=\"dataframe\">\n",
       "  <thead>\n",
       "    <tr style=\"text-align: right;\">\n",
       "      <th></th>\n",
       "      <th>product_name</th>\n",
       "      <th>usernames</th>\n",
       "    </tr>\n",
       "  </thead>\n",
       "  <tbody>\n",
       "    <tr>\n",
       "      <th>0</th>\n",
       "      <td>ThinkVision T23d 22.5\" LED Monitor (HDMI, DP, ...</td>\n",
       "      <td>[Gomi, Terryc, myOwnTwoCents, Justin from Mich...</td>\n",
       "    </tr>\n",
       "    <tr>\n",
       "      <th>1</th>\n",
       "      <td>ThinkVision M14t 14\" LED Mobile Monitor with T...</td>\n",
       "      <td>[RogueStudio, Vvvsss, Anonymous, Zusan, Jenni2...</td>\n",
       "    </tr>\n",
       "    <tr>\n",
       "      <th>2</th>\n",
       "      <td>ThinkCentre Tiny-In-One 24 Gen 4 23.8\" IPS LCD...</td>\n",
       "      <td>[Robert W in TX, ucvb9, ucvb9, AlanS3, Robert ...</td>\n",
       "    </tr>\n",
       "    <tr>\n",
       "      <th>3</th>\n",
       "      <td>ThinkVision T22v-20 21.5\" VoIP LED Monitor (HD...</td>\n",
       "      <td>[MDREAM, Kent A, Norm01, Anonymous, Sam W, Ric...</td>\n",
       "    </tr>\n",
       "    <tr>\n",
       "      <th>4</th>\n",
       "      <td>Legion KM300 Full-size Wired RGB Gaming Keyboa...</td>\n",
       "      <td>[BCarter · Review provided by  lenovo.com, fwi...</td>\n",
       "    </tr>\n",
       "    <tr>\n",
       "      <th>...</th>\n",
       "      <td>...</td>\n",
       "      <td>...</td>\n",
       "    </tr>\n",
       "    <tr>\n",
       "      <th>12967</th>\n",
       "      <td>Frigidaire FDB2410HIC - Dishwasher - built-in ...</td>\n",
       "      <td>[Lupe51, nanapattiann, Bobbi, Ruthie, kkdidit2...</td>\n",
       "    </tr>\n",
       "    <tr>\n",
       "      <th>12968</th>\n",
       "      <td>FRIGIDAIRE FFCD2418UW0A 24\" Built-In Dishwashe...</td>\n",
       "      <td>[Stealmonkey, The ok dishwasher, Randa, Dishwa...</td>\n",
       "    </tr>\n",
       "    <tr>\n",
       "      <th>12969</th>\n",
       "      <td>Frigidaire Gallery 8,000 BTU Window Air Condit...</td>\n",
       "      <td>[Review provided by  Overstock.com, Jon_M, 246...</td>\n",
       "    </tr>\n",
       "    <tr>\n",
       "      <th>12970</th>\n",
       "      <td>Frigidaire® Top Freezer Refrigerator, 18 Cu. Ft.</td>\n",
       "      <td>[TheHenees, Blanca63, Large and roomy, Cougdud...</td>\n",
       "    </tr>\n",
       "    <tr>\n",
       "      <th>12971</th>\n",
       "      <td>Gallery 19.0 Cu. Ft. Frost-Free Upright Freezer</td>\n",
       "      <td>[METOO77, Vic3, lsada, Satisfied Customer2018,...</td>\n",
       "    </tr>\n",
       "  </tbody>\n",
       "</table>\n",
       "<p>12972 rows × 2 columns</p>\n",
       "</div>"
      ],
      "text/plain": [
       "                                            product_name  \\\n",
       "0      ThinkVision T23d 22.5\" LED Monitor (HDMI, DP, ...   \n",
       "1      ThinkVision M14t 14\" LED Mobile Monitor with T...   \n",
       "2      ThinkCentre Tiny-In-One 24 Gen 4 23.8\" IPS LCD...   \n",
       "3      ThinkVision T22v-20 21.5\" VoIP LED Monitor (HD...   \n",
       "4      Legion KM300 Full-size Wired RGB Gaming Keyboa...   \n",
       "...                                                  ...   \n",
       "12967  Frigidaire FDB2410HIC - Dishwasher - built-in ...   \n",
       "12968  FRIGIDAIRE FFCD2418UW0A 24\" Built-In Dishwashe...   \n",
       "12969  Frigidaire Gallery 8,000 BTU Window Air Condit...   \n",
       "12970   Frigidaire® Top Freezer Refrigerator, 18 Cu. Ft.   \n",
       "12971    Gallery 19.0 Cu. Ft. Frost-Free Upright Freezer   \n",
       "\n",
       "                                               usernames  \n",
       "0      [Gomi, Terryc, myOwnTwoCents, Justin from Mich...  \n",
       "1      [RogueStudio, Vvvsss, Anonymous, Zusan, Jenni2...  \n",
       "2      [Robert W in TX, ucvb9, ucvb9, AlanS3, Robert ...  \n",
       "3      [MDREAM, Kent A, Norm01, Anonymous, Sam W, Ric...  \n",
       "4      [BCarter · Review provided by  lenovo.com, fwi...  \n",
       "...                                                  ...  \n",
       "12967  [Lupe51, nanapattiann, Bobbi, Ruthie, kkdidit2...  \n",
       "12968  [Stealmonkey, The ok dishwasher, Randa, Dishwa...  \n",
       "12969  [Review provided by  Overstock.com, Jon_M, 246...  \n",
       "12970  [TheHenees, Blanca63, Large and roomy, Cougdud...  \n",
       "12971  [METOO77, Vic3, lsada, Satisfied Customer2018,...  \n",
       "\n",
       "[12972 rows x 2 columns]"
      ]
     },
     "execution_count": 5,
     "metadata": {},
     "output_type": "execute_result"
    }
   ],
   "source": [
    "from collections import defaultdict\n",
    "\n",
    "product_reviewers = defaultdict(list)\n",
    "\n",
    "for i, row in df_combined.iterrows():\n",
    "    for review in row['reviews']:\n",
    "        if 'username' in review.keys() and 'rating' in review.keys():\n",
    "            username = review['username']\n",
    "            product_name = row['name']\n",
    "            product_reviewers[product_name].append(username)\n",
    "\n",
    "new_df = pd.DataFrame(list(product_reviewers.items()), columns=['product_name', 'usernames'])\n",
    "\n",
    "new_df"
   ]
  },
  {
   "cell_type": "code",
   "execution_count": 6,
   "id": "d9b3bd7b",
   "metadata": {},
   "outputs": [],
   "source": [
    "from collections import defaultdict\n",
    "\n",
    "product_reviewers = defaultdict(lambda: defaultdict(list))\n",
    "\n",
    "for i, row in df_combined.iterrows():\n",
    "    for review in row['reviews']:\n",
    "        if 'username' in review.keys() and 'rating' in review.keys():\n",
    "            username = review['username']\n",
    "            rating_medio = review['rating']\n",
    "            product_name = row['name']\n",
    "            product_reviewers[product_name]['usernames'].append(username)\n",
    "            product_reviewers[product_name]['ratings'].append(rating_medio)\n",
    "\n",
    "# Convert the defaultdict to a list of dictionaries\n",
    "data = [{'product_name': k, 'usernames': v['usernames'], 'ratings': v['ratings']} \n",
    "        for k, v in product_reviewers.items()]\n",
    "\n",
    "# Create a new DataFrame\n",
    "new_df = pd.DataFrame(data)"
   ]
  },
  {
   "cell_type": "code",
   "execution_count": 7,
   "id": "b65c0a96",
   "metadata": {},
   "outputs": [],
   "source": [
    "ratings = []\n",
    "for i, row in new_df.iterrows():\n",
    "    ratings.append(sum(row['ratings'])/len(row['ratings']))"
   ]
  },
  {
   "cell_type": "code",
   "execution_count": 8,
   "id": "0f901fc6",
   "metadata": {},
   "outputs": [],
   "source": [
    "new_df['rating_medio'] = ratings"
   ]
  },
  {
   "cell_type": "code",
   "execution_count": 14,
   "id": "f9c9904a",
   "metadata": {},
   "outputs": [],
   "source": [
    "produto_rating = {}\n",
    "\n",
    "for i, row in new_df.iterrows():\n",
    "    produto_rating[row['product_name']] = row['rating_medio']"
   ]
  },
  {
   "cell_type": "code",
   "execution_count": 10,
   "id": "10b1b7a2",
   "metadata": {},
   "outputs": [
    {
     "name": "stdout",
     "output_type": "stream",
     "text": [
      "2000\n"
     ]
    }
   ],
   "source": [
    "df_sample = new_df.sample(n=2000, random_state = 42)\n",
    "print(len(df_sample))"
   ]
  },
  {
   "cell_type": "code",
   "execution_count": 11,
   "id": "e0c6c0c7",
   "metadata": {},
   "outputs": [
    {
     "name": "stderr",
     "output_type": "stream",
     "text": [
      "<frozen importlib._bootstrap>:914: ImportWarning: VendorImporter.find_spec() not found; falling back to find_module()\n"
     ]
    }
   ],
   "source": [
    "df_sample.to_csv('sample.csv', index=False)"
   ]
  },
  {
   "cell_type": "code",
   "execution_count": 17,
   "id": "5c5d2c68",
   "metadata": {},
   "outputs": [],
   "source": [
    "with open('produto_rating.json', 'w') as f:\n",
    "    json.dump(produto_rating, f)"
   ]
  },
  {
   "cell_type": "code",
   "execution_count": null,
   "id": "387c201a",
   "metadata": {},
   "outputs": [],
   "source": []
  }
 ],
 "metadata": {
  "kernelspec": {
   "display_name": "Python 3 (ipykernel)",
   "language": "python",
   "name": "python3"
  },
  "language_info": {
   "codemirror_mode": {
    "name": "ipython",
    "version": 3
   },
   "file_extension": ".py",
   "mimetype": "text/x-python",
   "name": "python",
   "nbconvert_exporter": "python",
   "pygments_lexer": "ipython3",
   "version": "3.10.10"
  }
 },
 "nbformat": 4,
 "nbformat_minor": 5
}
