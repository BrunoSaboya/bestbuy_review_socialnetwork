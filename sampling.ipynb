{
 "cells": [
  {
   "cell_type": "code",
   "execution_count": 1,
   "metadata": {},
   "outputs": [
    {
     "data": {
      "text/html": [
       "\n",
       "    <script src=\"/files/netpixi.min.js\"></script>\n"
      ],
      "text/plain": [
       "<IPython.core.display.HTML object>"
      ]
     },
     "metadata": {},
     "output_type": "display_data"
    },
    {
     "name": "stderr",
     "output_type": "stream",
     "text": [
      "<frozen importlib._bootstrap>:914: ImportWarning: VendorImporter.find_spec() not found; falling back to find_module()\n"
     ]
    }
   ],
   "source": [
    "import os\n",
    "import pandas as pd\n",
    "import json\n",
    "from collections import Counter\n",
    "import seaborn as sns\n",
    "from netpixi.integration.gt import *\n",
    "from netpixi.integration.gt import Graph\n",
    "from regression.integration.gt import *\n",
    "import netpixi\n",
    "from collections import defaultdict\n",
    "from itertools import combinations\n",
    "import matplotlib.pyplot as plt\n",
    "import seaborn as sns\n",
    "from itertools import combinations\n",
    "import cpnet\n",
    "from graph_tool import spectral\n",
    "\n",
    "import numpy as np\n",
    "from collections import defaultdict\n",
    "import itertools\n",
    "g = Graph(directed=False)\n",
    "files = os.listdir('./jsons')\n",
    "\n",
    "json_files = [file for file in files if file.endswith('.json')]"
   ]
  },
  {
   "cell_type": "markdown",
   "metadata": {},
   "source": [
    "Na célula a seguir pegamos todas as informações encontradas nos arquivos JSON e juntamos em um dataframe."
   ]
  },
  {
   "cell_type": "code",
   "execution_count": 2,
   "metadata": {},
   "outputs": [
    {
     "name": "stdout",
     "output_type": "stream",
     "text": [
      "13707\n"
     ]
    }
   ],
   "source": [
    "df_combined = pd.DataFrame()\n",
    "\n",
    "for json_file in json_files:\n",
    "    data = []\n",
    "    with open(f\"jsons/{json_file}\", 'r', encoding='utf-8') as f:\n",
    "        for line in f:\n",
    "            try:\n",
    "                data.append(json.loads(line))\n",
    "            except json.JSONDecodeError:\n",
    "                pass\n",
    "    df = pd.DataFrame(data)\n",
    "    df_combined = pd.concat([df_combined, df], ignore_index=True)\n",
    "print(len(df_combined))"
   ]
  },
  {
   "cell_type": "code",
   "execution_count": 3,
   "metadata": {
    "scrolled": false
   },
   "outputs": [
    {
     "data": {
      "text/plain": [
       "Index(['apiURLs', 'asins', 'brand', 'categories', 'colors', 'dateAdded',\n",
       "       'dateUpdated', 'descriptions', 'dimension', 'domains', 'ean', 'ean13',\n",
       "       'features', 'gtins', 'imageURLs', 'keys', 'manufacturer',\n",
       "       'manufacturerNumber', 'merchants', 'mostRecentPriceAmount',\n",
       "       'mostRecentPriceNonSalesAmount', 'mostRecentPriceAvailability',\n",
       "       'mostRecentPriceCurrency', 'mostRecentPriceColor',\n",
       "       'mostRecentPriceIsSale', 'mostRecentPriceDomain',\n",
       "       'mostRecentPriceSourceURL', 'mostRecentPriceDate',\n",
       "       'mostRecentPriceFirstDateSeen', 'mostRecentPriceByDomain', 'name',\n",
       "       'prices', 'primaryCategories', 'primaryImageURLs', 'quantities',\n",
       "       'reviews', 'secondaryCategories', 'skus', 'sourceURLs', 'taxonomy',\n",
       "       'taxonomyLevel1', 'taxonomyLevel2', 'taxonomyLevel3', 'taxonomyLevel4',\n",
       "       'taxonomyLevel5', 'taxonomyLevel6', 'taxonomyLevel7', 'upc', 'upca',\n",
       "       'websiteIDs', 'weight', 'id', 'financingAndLeasing', 'sizes',\n",
       "       'mostRecentPriceCondition', 'sdsURLs', 'taxonomyLevel8', 'count',\n",
       "       'isbn', 'mostRecentPriceSize'],\n",
       "      dtype='object')"
      ]
     },
     "execution_count": 3,
     "metadata": {},
     "output_type": "execute_result"
    }
   ],
   "source": [
    "df_combined.columns"
   ]
  },
  {
   "cell_type": "markdown",
   "metadata": {},
   "source": [
    "Pegamos todos os usuários dentro de todos os reviews"
   ]
  },
  {
   "cell_type": "code",
   "execution_count": 4,
   "metadata": {},
   "outputs": [],
   "source": [
    "usuarios = []\n",
    "ratings = []\n",
    "for reviews_produto in df_combined['reviews']:\n",
    "    ratings_produto = []\n",
    "    for review in reviews_produto:\n",
    "        if 'username' in review.keys():\n",
    "            usuarios.append(review['username'])\n",
    "        if 'rating' in review.keys():\n",
    "            ratings_produto.append(review['rating'])\n",
    "    ratings.append(sum(ratings_produto)/len(ratings_produto))"
   ]
  },
  {
   "cell_type": "code",
   "execution_count": 5,
   "metadata": {},
   "outputs": [
    {
     "data": {
      "text/plain": [
       "13707"
      ]
     },
     "execution_count": 5,
     "metadata": {},
     "output_type": "execute_result"
    }
   ],
   "source": [
    "len(ratings)"
   ]
  },
  {
   "cell_type": "code",
   "execution_count": 6,
   "metadata": {
    "scrolled": false
   },
   "outputs": [
    {
     "data": {
      "text/html": [
       "<div>\n",
       "<style scoped>\n",
       "    .dataframe tbody tr th:only-of-type {\n",
       "        vertical-align: middle;\n",
       "    }\n",
       "\n",
       "    .dataframe tbody tr th {\n",
       "        vertical-align: top;\n",
       "    }\n",
       "\n",
       "    .dataframe thead th {\n",
       "        text-align: right;\n",
       "    }\n",
       "</style>\n",
       "<table border=\"1\" class=\"dataframe\">\n",
       "  <thead>\n",
       "    <tr style=\"text-align: right;\">\n",
       "      <th></th>\n",
       "      <th>product_name</th>\n",
       "      <th>usernames</th>\n",
       "    </tr>\n",
       "  </thead>\n",
       "  <tbody>\n",
       "    <tr>\n",
       "      <th>0</th>\n",
       "      <td>ThinkVision T23d 22.5\" LED Monitor (HDMI, DP, ...</td>\n",
       "      <td>[Gomi, Terryc, myOwnTwoCents, Justin from Mich...</td>\n",
       "    </tr>\n",
       "    <tr>\n",
       "      <th>1</th>\n",
       "      <td>ThinkVision M14t 14\" LED Mobile Monitor with T...</td>\n",
       "      <td>[RogueStudio, Vvvsss, Anonymous, Zusan, Jenni2...</td>\n",
       "    </tr>\n",
       "    <tr>\n",
       "      <th>2</th>\n",
       "      <td>ThinkCentre Tiny-In-One 24 Gen 4 23.8\" IPS LCD...</td>\n",
       "      <td>[Robert W in TX, ucvb9, ucvb9, AlanS3, Robert ...</td>\n",
       "    </tr>\n",
       "    <tr>\n",
       "      <th>3</th>\n",
       "      <td>ThinkVision T22v-20 21.5\" VoIP LED Monitor (HD...</td>\n",
       "      <td>[MDREAM, Kent A, Norm01, Anonymous, Sam W, Ric...</td>\n",
       "    </tr>\n",
       "    <tr>\n",
       "      <th>4</th>\n",
       "      <td>Legion KM300 Full-size Wired RGB Gaming Keyboa...</td>\n",
       "      <td>[BCarter · Review provided by  lenovo.com, fwi...</td>\n",
       "    </tr>\n",
       "    <tr>\n",
       "      <th>...</th>\n",
       "      <td>...</td>\n",
       "      <td>...</td>\n",
       "    </tr>\n",
       "    <tr>\n",
       "      <th>12967</th>\n",
       "      <td>Frigidaire FDB2410HIC - Dishwasher - built-in ...</td>\n",
       "      <td>[Lupe51, nanapattiann, Bobbi, Ruthie, kkdidit2...</td>\n",
       "    </tr>\n",
       "    <tr>\n",
       "      <th>12968</th>\n",
       "      <td>FRIGIDAIRE FFCD2418UW0A 24\" Built-In Dishwashe...</td>\n",
       "      <td>[Stealmonkey, The ok dishwasher, Randa, Dishwa...</td>\n",
       "    </tr>\n",
       "    <tr>\n",
       "      <th>12969</th>\n",
       "      <td>Frigidaire Gallery 8,000 BTU Window Air Condit...</td>\n",
       "      <td>[Review provided by  Overstock.com, Jon_M, 246...</td>\n",
       "    </tr>\n",
       "    <tr>\n",
       "      <th>12970</th>\n",
       "      <td>Frigidaire® Top Freezer Refrigerator, 18 Cu. Ft.</td>\n",
       "      <td>[TheHenees, Blanca63, Large and roomy, Cougdud...</td>\n",
       "    </tr>\n",
       "    <tr>\n",
       "      <th>12971</th>\n",
       "      <td>Gallery 19.0 Cu. Ft. Frost-Free Upright Freezer</td>\n",
       "      <td>[METOO77, Vic3, lsada, Satisfied Customer2018,...</td>\n",
       "    </tr>\n",
       "  </tbody>\n",
       "</table>\n",
       "<p>12972 rows × 2 columns</p>\n",
       "</div>"
      ],
      "text/plain": [
       "                                            product_name  \\\n",
       "0      ThinkVision T23d 22.5\" LED Monitor (HDMI, DP, ...   \n",
       "1      ThinkVision M14t 14\" LED Mobile Monitor with T...   \n",
       "2      ThinkCentre Tiny-In-One 24 Gen 4 23.8\" IPS LCD...   \n",
       "3      ThinkVision T22v-20 21.5\" VoIP LED Monitor (HD...   \n",
       "4      Legion KM300 Full-size Wired RGB Gaming Keyboa...   \n",
       "...                                                  ...   \n",
       "12967  Frigidaire FDB2410HIC - Dishwasher - built-in ...   \n",
       "12968  FRIGIDAIRE FFCD2418UW0A 24\" Built-In Dishwashe...   \n",
       "12969  Frigidaire Gallery 8,000 BTU Window Air Condit...   \n",
       "12970   Frigidaire® Top Freezer Refrigerator, 18 Cu. Ft.   \n",
       "12971    Gallery 19.0 Cu. Ft. Frost-Free Upright Freezer   \n",
       "\n",
       "                                               usernames  \n",
       "0      [Gomi, Terryc, myOwnTwoCents, Justin from Mich...  \n",
       "1      [RogueStudio, Vvvsss, Anonymous, Zusan, Jenni2...  \n",
       "2      [Robert W in TX, ucvb9, ucvb9, AlanS3, Robert ...  \n",
       "3      [MDREAM, Kent A, Norm01, Anonymous, Sam W, Ric...  \n",
       "4      [BCarter · Review provided by  lenovo.com, fwi...  \n",
       "...                                                  ...  \n",
       "12967  [Lupe51, nanapattiann, Bobbi, Ruthie, kkdidit2...  \n",
       "12968  [Stealmonkey, The ok dishwasher, Randa, Dishwa...  \n",
       "12969  [Review provided by  Overstock.com, Jon_M, 246...  \n",
       "12970  [TheHenees, Blanca63, Large and roomy, Cougdud...  \n",
       "12971  [METOO77, Vic3, lsada, Satisfied Customer2018,...  \n",
       "\n",
       "[12972 rows x 2 columns]"
      ]
     },
     "execution_count": 6,
     "metadata": {},
     "output_type": "execute_result"
    }
   ],
   "source": [
    "from collections import defaultdict\n",
    "\n",
    "product_reviewers = defaultdict(list)\n",
    "\n",
    "for i, row in df_combined.iterrows():\n",
    "    for review in row['reviews']:\n",
    "        if 'username' in review.keys() and 'rating' in review.keys():\n",
    "            username = review['username']\n",
    "            product_name = row['name']\n",
    "            product_reviewers[product_name].append(username)\n",
    "\n",
    "new_df = pd.DataFrame(list(product_reviewers.items()), columns=['product_name', 'usernames'])\n",
    "\n",
    "new_df"
   ]
  },
  {
   "cell_type": "code",
   "execution_count": 7,
   "metadata": {},
   "outputs": [],
   "source": [
    "from collections import defaultdict\n",
    "\n",
    "product_reviewers = defaultdict(lambda: defaultdict(list))\n",
    "\n",
    "for i, row in df_combined.iterrows():\n",
    "    for review in row['reviews']:\n",
    "        if 'username' in review.keys() and 'rating' in review.keys():\n",
    "            username = review['username']\n",
    "            rating_medio = review['rating']\n",
    "            product_name = row['name']\n",
    "            product_reviewers[product_name]['usernames'].append(username)\n",
    "            product_reviewers[product_name]['ratings'].append(rating_medio)\n",
    "\n",
    "# Convert the defaultdict to a list of dictionaries\n",
    "data = [{'product_name': k, 'usernames': v['usernames'], 'ratings': v['ratings']} \n",
    "        for k, v in product_reviewers.items()]\n",
    "\n",
    "# Create a new DataFrame\n",
    "new_df = pd.DataFrame(data)"
   ]
  },
  {
   "cell_type": "code",
   "execution_count": 8,
   "metadata": {},
   "outputs": [
    {
     "data": {
      "text/html": [
       "<div>\n",
       "<style scoped>\n",
       "    .dataframe tbody tr th:only-of-type {\n",
       "        vertical-align: middle;\n",
       "    }\n",
       "\n",
       "    .dataframe tbody tr th {\n",
       "        vertical-align: top;\n",
       "    }\n",
       "\n",
       "    .dataframe thead th {\n",
       "        text-align: right;\n",
       "    }\n",
       "</style>\n",
       "<table border=\"1\" class=\"dataframe\">\n",
       "  <thead>\n",
       "    <tr style=\"text-align: right;\">\n",
       "      <th></th>\n",
       "      <th>product_name</th>\n",
       "      <th>usernames</th>\n",
       "      <th>ratings</th>\n",
       "    </tr>\n",
       "  </thead>\n",
       "  <tbody>\n",
       "    <tr>\n",
       "      <th>0</th>\n",
       "      <td>ThinkVision T23d 22.5\" LED Monitor (HDMI, DP, ...</td>\n",
       "      <td>[Gomi, Terryc, myOwnTwoCents, Justin from Mich...</td>\n",
       "      <td>[5.0, 5.0, 5.0, 5.0, 5.0, 5.0, 4.0, 5.0, 5.0, ...</td>\n",
       "    </tr>\n",
       "    <tr>\n",
       "      <th>1</th>\n",
       "      <td>ThinkVision M14t 14\" LED Mobile Monitor with T...</td>\n",
       "      <td>[RogueStudio, Vvvsss, Anonymous, Zusan, Jenni2...</td>\n",
       "      <td>[5.0, 4.0, 5.0, 5.0, 5.0, 5.0, 5.0, 5.0, 5.0, ...</td>\n",
       "    </tr>\n",
       "    <tr>\n",
       "      <th>2</th>\n",
       "      <td>ThinkCentre Tiny-In-One 24 Gen 4 23.8\" IPS LCD...</td>\n",
       "      <td>[Robert W in TX, ucvb9, ucvb9, AlanS3, Robert ...</td>\n",
       "      <td>[5.0, 5.0, 5.0, 5.0, 5.0, 5.0, 3.0, 5.0, 5.0, ...</td>\n",
       "    </tr>\n",
       "    <tr>\n",
       "      <th>3</th>\n",
       "      <td>ThinkVision T22v-20 21.5\" VoIP LED Monitor (HD...</td>\n",
       "      <td>[MDREAM, Kent A, Norm01, Anonymous, Sam W, Ric...</td>\n",
       "      <td>[5.0, 5.0, 5.0, 3.0, 4.0, 5.0, 1.0, 5.0, 5.0, ...</td>\n",
       "    </tr>\n",
       "    <tr>\n",
       "      <th>4</th>\n",
       "      <td>Legion KM300 Full-size Wired RGB Gaming Keyboa...</td>\n",
       "      <td>[BCarter · Review provided by  lenovo.com, fwi...</td>\n",
       "      <td>[5.0, 3.0, 5.0, 5.0, 5.0, 4.0, 5.0, 5.0, 4.0, ...</td>\n",
       "    </tr>\n",
       "    <tr>\n",
       "      <th>...</th>\n",
       "      <td>...</td>\n",
       "      <td>...</td>\n",
       "      <td>...</td>\n",
       "    </tr>\n",
       "    <tr>\n",
       "      <th>12967</th>\n",
       "      <td>Frigidaire FDB2410HIC - Dishwasher - built-in ...</td>\n",
       "      <td>[Lupe51, nanapattiann, Bobbi, Ruthie, kkdidit2...</td>\n",
       "      <td>[5.0, 2.0, 5.0, 5.0, 1.0, 5.0, 4.0, 1.0, 5.0, ...</td>\n",
       "    </tr>\n",
       "    <tr>\n",
       "      <th>12968</th>\n",
       "      <td>FRIGIDAIRE FFCD2418UW0A 24\" Built-In Dishwashe...</td>\n",
       "      <td>[Stealmonkey, The ok dishwasher, Randa, Dishwa...</td>\n",
       "      <td>[5.0, 4.0, 3.0, 1.0, 2.0, 3.0, 2.0, 1.0, 5.0, ...</td>\n",
       "    </tr>\n",
       "    <tr>\n",
       "      <th>12969</th>\n",
       "      <td>Frigidaire Gallery 8,000 BTU Window Air Condit...</td>\n",
       "      <td>[Review provided by  Overstock.com, Jon_M, 246...</td>\n",
       "      <td>[4.0, 5.0, 5.0, 4.0, 4.0, 5.0, 5.0, 5.0, 5.0, ...</td>\n",
       "    </tr>\n",
       "    <tr>\n",
       "      <th>12970</th>\n",
       "      <td>Frigidaire® Top Freezer Refrigerator, 18 Cu. Ft.</td>\n",
       "      <td>[TheHenees, Blanca63, Large and roomy, Cougdud...</td>\n",
       "      <td>[5.0, 5.0, 5.0, 5.0, 4.0, 5.0, 5.0, 5.0, 5.0, ...</td>\n",
       "    </tr>\n",
       "    <tr>\n",
       "      <th>12971</th>\n",
       "      <td>Gallery 19.0 Cu. Ft. Frost-Free Upright Freezer</td>\n",
       "      <td>[METOO77, Vic3, lsada, Satisfied Customer2018,...</td>\n",
       "      <td>[5.0, 5.0, 5.0, 5.0, 4.0, 4.0, 5.0, 5.0, 4.0, ...</td>\n",
       "    </tr>\n",
       "  </tbody>\n",
       "</table>\n",
       "<p>12972 rows × 3 columns</p>\n",
       "</div>"
      ],
      "text/plain": [
       "                                            product_name  \\\n",
       "0      ThinkVision T23d 22.5\" LED Monitor (HDMI, DP, ...   \n",
       "1      ThinkVision M14t 14\" LED Mobile Monitor with T...   \n",
       "2      ThinkCentre Tiny-In-One 24 Gen 4 23.8\" IPS LCD...   \n",
       "3      ThinkVision T22v-20 21.5\" VoIP LED Monitor (HD...   \n",
       "4      Legion KM300 Full-size Wired RGB Gaming Keyboa...   \n",
       "...                                                  ...   \n",
       "12967  Frigidaire FDB2410HIC - Dishwasher - built-in ...   \n",
       "12968  FRIGIDAIRE FFCD2418UW0A 24\" Built-In Dishwashe...   \n",
       "12969  Frigidaire Gallery 8,000 BTU Window Air Condit...   \n",
       "12970   Frigidaire® Top Freezer Refrigerator, 18 Cu. Ft.   \n",
       "12971    Gallery 19.0 Cu. Ft. Frost-Free Upright Freezer   \n",
       "\n",
       "                                               usernames  \\\n",
       "0      [Gomi, Terryc, myOwnTwoCents, Justin from Mich...   \n",
       "1      [RogueStudio, Vvvsss, Anonymous, Zusan, Jenni2...   \n",
       "2      [Robert W in TX, ucvb9, ucvb9, AlanS3, Robert ...   \n",
       "3      [MDREAM, Kent A, Norm01, Anonymous, Sam W, Ric...   \n",
       "4      [BCarter · Review provided by  lenovo.com, fwi...   \n",
       "...                                                  ...   \n",
       "12967  [Lupe51, nanapattiann, Bobbi, Ruthie, kkdidit2...   \n",
       "12968  [Stealmonkey, The ok dishwasher, Randa, Dishwa...   \n",
       "12969  [Review provided by  Overstock.com, Jon_M, 246...   \n",
       "12970  [TheHenees, Blanca63, Large and roomy, Cougdud...   \n",
       "12971  [METOO77, Vic3, lsada, Satisfied Customer2018,...   \n",
       "\n",
       "                                                 ratings  \n",
       "0      [5.0, 5.0, 5.0, 5.0, 5.0, 5.0, 4.0, 5.0, 5.0, ...  \n",
       "1      [5.0, 4.0, 5.0, 5.0, 5.0, 5.0, 5.0, 5.0, 5.0, ...  \n",
       "2      [5.0, 5.0, 5.0, 5.0, 5.0, 5.0, 3.0, 5.0, 5.0, ...  \n",
       "3      [5.0, 5.0, 5.0, 3.0, 4.0, 5.0, 1.0, 5.0, 5.0, ...  \n",
       "4      [5.0, 3.0, 5.0, 5.0, 5.0, 4.0, 5.0, 5.0, 4.0, ...  \n",
       "...                                                  ...  \n",
       "12967  [5.0, 2.0, 5.0, 5.0, 1.0, 5.0, 4.0, 1.0, 5.0, ...  \n",
       "12968  [5.0, 4.0, 3.0, 1.0, 2.0, 3.0, 2.0, 1.0, 5.0, ...  \n",
       "12969  [4.0, 5.0, 5.0, 4.0, 4.0, 5.0, 5.0, 5.0, 5.0, ...  \n",
       "12970  [5.0, 5.0, 5.0, 5.0, 4.0, 5.0, 5.0, 5.0, 5.0, ...  \n",
       "12971  [5.0, 5.0, 5.0, 5.0, 4.0, 4.0, 5.0, 5.0, 4.0, ...  \n",
       "\n",
       "[12972 rows x 3 columns]"
      ]
     },
     "execution_count": 8,
     "metadata": {},
     "output_type": "execute_result"
    }
   ],
   "source": [
    "new_df"
   ]
  },
  {
   "cell_type": "code",
   "execution_count": 9,
   "metadata": {},
   "outputs": [],
   "source": [
    "ratings = []\n",
    "for i, row in new_df.iterrows():\n",
    "    ratings.append(sum(row['ratings'])/len(row['ratings']))\n",
    "    "
   ]
  },
  {
   "cell_type": "code",
   "execution_count": 10,
   "metadata": {},
   "outputs": [],
   "source": [
    "new_df['rating_medio'] = ratings"
   ]
  },
  {
   "cell_type": "code",
   "execution_count": 11,
   "metadata": {},
   "outputs": [
    {
     "data": {
      "text/html": [
       "<div>\n",
       "<style scoped>\n",
       "    .dataframe tbody tr th:only-of-type {\n",
       "        vertical-align: middle;\n",
       "    }\n",
       "\n",
       "    .dataframe tbody tr th {\n",
       "        vertical-align: top;\n",
       "    }\n",
       "\n",
       "    .dataframe thead th {\n",
       "        text-align: right;\n",
       "    }\n",
       "</style>\n",
       "<table border=\"1\" class=\"dataframe\">\n",
       "  <thead>\n",
       "    <tr style=\"text-align: right;\">\n",
       "      <th></th>\n",
       "      <th>product_name</th>\n",
       "      <th>usernames</th>\n",
       "      <th>ratings</th>\n",
       "      <th>rating_medio</th>\n",
       "    </tr>\n",
       "  </thead>\n",
       "  <tbody>\n",
       "    <tr>\n",
       "      <th>0</th>\n",
       "      <td>ThinkVision T23d 22.5\" LED Monitor (HDMI, DP, ...</td>\n",
       "      <td>[Gomi, Terryc, myOwnTwoCents, Justin from Mich...</td>\n",
       "      <td>[5.0, 5.0, 5.0, 5.0, 5.0, 5.0, 4.0, 5.0, 5.0, ...</td>\n",
       "      <td>4.786885</td>\n",
       "    </tr>\n",
       "    <tr>\n",
       "      <th>1</th>\n",
       "      <td>ThinkVision M14t 14\" LED Mobile Monitor with T...</td>\n",
       "      <td>[RogueStudio, Vvvsss, Anonymous, Zusan, Jenni2...</td>\n",
       "      <td>[5.0, 4.0, 5.0, 5.0, 5.0, 5.0, 5.0, 5.0, 5.0, ...</td>\n",
       "      <td>4.581395</td>\n",
       "    </tr>\n",
       "    <tr>\n",
       "      <th>2</th>\n",
       "      <td>ThinkCentre Tiny-In-One 24 Gen 4 23.8\" IPS LCD...</td>\n",
       "      <td>[Robert W in TX, ucvb9, ucvb9, AlanS3, Robert ...</td>\n",
       "      <td>[5.0, 5.0, 5.0, 5.0, 5.0, 5.0, 3.0, 5.0, 5.0, ...</td>\n",
       "      <td>4.645161</td>\n",
       "    </tr>\n",
       "    <tr>\n",
       "      <th>3</th>\n",
       "      <td>ThinkVision T22v-20 21.5\" VoIP LED Monitor (HD...</td>\n",
       "      <td>[MDREAM, Kent A, Norm01, Anonymous, Sam W, Ric...</td>\n",
       "      <td>[5.0, 5.0, 5.0, 3.0, 4.0, 5.0, 1.0, 5.0, 5.0, ...</td>\n",
       "      <td>4.344262</td>\n",
       "    </tr>\n",
       "    <tr>\n",
       "      <th>4</th>\n",
       "      <td>Legion KM300 Full-size Wired RGB Gaming Keyboa...</td>\n",
       "      <td>[BCarter · Review provided by  lenovo.com, fwi...</td>\n",
       "      <td>[5.0, 3.0, 5.0, 5.0, 5.0, 4.0, 5.0, 5.0, 4.0, ...</td>\n",
       "      <td>4.736842</td>\n",
       "    </tr>\n",
       "    <tr>\n",
       "      <th>...</th>\n",
       "      <td>...</td>\n",
       "      <td>...</td>\n",
       "      <td>...</td>\n",
       "      <td>...</td>\n",
       "    </tr>\n",
       "    <tr>\n",
       "      <th>12967</th>\n",
       "      <td>Frigidaire FDB2410HIC - Dishwasher - built-in ...</td>\n",
       "      <td>[Lupe51, nanapattiann, Bobbi, Ruthie, kkdidit2...</td>\n",
       "      <td>[5.0, 2.0, 5.0, 5.0, 1.0, 5.0, 4.0, 1.0, 5.0, ...</td>\n",
       "      <td>3.700000</td>\n",
       "    </tr>\n",
       "    <tr>\n",
       "      <th>12968</th>\n",
       "      <td>FRIGIDAIRE FFCD2418UW0A 24\" Built-In Dishwashe...</td>\n",
       "      <td>[Stealmonkey, The ok dishwasher, Randa, Dishwa...</td>\n",
       "      <td>[5.0, 4.0, 3.0, 1.0, 2.0, 3.0, 2.0, 1.0, 5.0, ...</td>\n",
       "      <td>3.000000</td>\n",
       "    </tr>\n",
       "    <tr>\n",
       "      <th>12969</th>\n",
       "      <td>Frigidaire Gallery 8,000 BTU Window Air Condit...</td>\n",
       "      <td>[Review provided by  Overstock.com, Jon_M, 246...</td>\n",
       "      <td>[4.0, 5.0, 5.0, 4.0, 4.0, 5.0, 5.0, 5.0, 5.0, ...</td>\n",
       "      <td>4.321995</td>\n",
       "    </tr>\n",
       "    <tr>\n",
       "      <th>12970</th>\n",
       "      <td>Frigidaire® Top Freezer Refrigerator, 18 Cu. Ft.</td>\n",
       "      <td>[TheHenees, Blanca63, Large and roomy, Cougdud...</td>\n",
       "      <td>[5.0, 5.0, 5.0, 5.0, 4.0, 5.0, 5.0, 5.0, 5.0, ...</td>\n",
       "      <td>4.900000</td>\n",
       "    </tr>\n",
       "    <tr>\n",
       "      <th>12971</th>\n",
       "      <td>Gallery 19.0 Cu. Ft. Frost-Free Upright Freezer</td>\n",
       "      <td>[METOO77, Vic3, lsada, Satisfied Customer2018,...</td>\n",
       "      <td>[5.0, 5.0, 5.0, 5.0, 4.0, 4.0, 5.0, 5.0, 4.0, ...</td>\n",
       "      <td>4.441026</td>\n",
       "    </tr>\n",
       "  </tbody>\n",
       "</table>\n",
       "<p>12972 rows × 4 columns</p>\n",
       "</div>"
      ],
      "text/plain": [
       "                                            product_name  \\\n",
       "0      ThinkVision T23d 22.5\" LED Monitor (HDMI, DP, ...   \n",
       "1      ThinkVision M14t 14\" LED Mobile Monitor with T...   \n",
       "2      ThinkCentre Tiny-In-One 24 Gen 4 23.8\" IPS LCD...   \n",
       "3      ThinkVision T22v-20 21.5\" VoIP LED Monitor (HD...   \n",
       "4      Legion KM300 Full-size Wired RGB Gaming Keyboa...   \n",
       "...                                                  ...   \n",
       "12967  Frigidaire FDB2410HIC - Dishwasher - built-in ...   \n",
       "12968  FRIGIDAIRE FFCD2418UW0A 24\" Built-In Dishwashe...   \n",
       "12969  Frigidaire Gallery 8,000 BTU Window Air Condit...   \n",
       "12970   Frigidaire® Top Freezer Refrigerator, 18 Cu. Ft.   \n",
       "12971    Gallery 19.0 Cu. Ft. Frost-Free Upright Freezer   \n",
       "\n",
       "                                               usernames  \\\n",
       "0      [Gomi, Terryc, myOwnTwoCents, Justin from Mich...   \n",
       "1      [RogueStudio, Vvvsss, Anonymous, Zusan, Jenni2...   \n",
       "2      [Robert W in TX, ucvb9, ucvb9, AlanS3, Robert ...   \n",
       "3      [MDREAM, Kent A, Norm01, Anonymous, Sam W, Ric...   \n",
       "4      [BCarter · Review provided by  lenovo.com, fwi...   \n",
       "...                                                  ...   \n",
       "12967  [Lupe51, nanapattiann, Bobbi, Ruthie, kkdidit2...   \n",
       "12968  [Stealmonkey, The ok dishwasher, Randa, Dishwa...   \n",
       "12969  [Review provided by  Overstock.com, Jon_M, 246...   \n",
       "12970  [TheHenees, Blanca63, Large and roomy, Cougdud...   \n",
       "12971  [METOO77, Vic3, lsada, Satisfied Customer2018,...   \n",
       "\n",
       "                                                 ratings  rating_medio  \n",
       "0      [5.0, 5.0, 5.0, 5.0, 5.0, 5.0, 4.0, 5.0, 5.0, ...      4.786885  \n",
       "1      [5.0, 4.0, 5.0, 5.0, 5.0, 5.0, 5.0, 5.0, 5.0, ...      4.581395  \n",
       "2      [5.0, 5.0, 5.0, 5.0, 5.0, 5.0, 3.0, 5.0, 5.0, ...      4.645161  \n",
       "3      [5.0, 5.0, 5.0, 3.0, 4.0, 5.0, 1.0, 5.0, 5.0, ...      4.344262  \n",
       "4      [5.0, 3.0, 5.0, 5.0, 5.0, 4.0, 5.0, 5.0, 4.0, ...      4.736842  \n",
       "...                                                  ...           ...  \n",
       "12967  [5.0, 2.0, 5.0, 5.0, 1.0, 5.0, 4.0, 1.0, 5.0, ...      3.700000  \n",
       "12968  [5.0, 4.0, 3.0, 1.0, 2.0, 3.0, 2.0, 1.0, 5.0, ...      3.000000  \n",
       "12969  [4.0, 5.0, 5.0, 4.0, 4.0, 5.0, 5.0, 5.0, 5.0, ...      4.321995  \n",
       "12970  [5.0, 5.0, 5.0, 5.0, 4.0, 5.0, 5.0, 5.0, 5.0, ...      4.900000  \n",
       "12971  [5.0, 5.0, 5.0, 5.0, 4.0, 4.0, 5.0, 5.0, 4.0, ...      4.441026  \n",
       "\n",
       "[12972 rows x 4 columns]"
      ]
     },
     "execution_count": 11,
     "metadata": {},
     "output_type": "execute_result"
    }
   ],
   "source": [
    "new_df"
   ]
  },
  {
   "cell_type": "markdown",
   "metadata": {},
   "source": [
    "Fazemos o sampling do dataframe, pois ele é muito grande e um computador comum seria incapaz de rodar todo o \n",
    "código a seguir com um dataframe tão grande"
   ]
  },
  {
   "cell_type": "code",
   "execution_count": 12,
   "metadata": {},
   "outputs": [],
   "source": [
    "dicionario = {}\n",
    "\n",
    "for i, row in new_df.iterrows():\n",
    "    dicionario[row['product_name']] = row['rating_medio']"
   ]
  },
  {
   "cell_type": "code",
   "execution_count": 14,
   "metadata": {},
   "outputs": [
    {
     "name": "stdout",
     "output_type": "stream",
     "text": [
      "2000\n"
     ]
    }
   ],
   "source": [
    "df_sample = new_df.sample(n=2000)\n",
    "print(len(df_sample))"
   ]
  },
  {
   "cell_type": "code",
   "execution_count": 15,
   "metadata": {
    "scrolled": false
   },
   "outputs": [
    {
     "name": "stdout",
     "output_type": "stream",
     "text": [
      "3163     [lg, jrch, Schandler, Jo91709, paula77, lg, lg...\n",
      "9529     [Amazon Customer, Amy Ernst, Robert, James, Ja...\n",
      "6228     [Jack, desertdora, Gary J., Derrick, wilhelm, ...\n",
      "8846     [KScott, scoutenang, ohot_nik, buck4x4, Fisher...\n",
      "3061     [KevMc · Review provided by  Best Buy, Bluetoo...\n",
      "                               ...                        \n",
      "10717    [Joe, Miranda Hansen, Al, Noah, MC, Chrissy, L...\n",
      "7513     [Chase, Anonymous, Des · Review provided by  C...\n",
      "8283     [jrrider, jwhmarketing · Review provided by  e...\n",
      "1149     [Ally · Review provided by  Target, Reyes, Sem...\n",
      "12349    [Anonymous, Greg S., Salvatore R., Alexander B...\n",
      "Name: usernames, Length: 2000, dtype: object\n"
     ]
    }
   ],
   "source": [
    "df = df_sample.loc[~df_sample['usernames'].isin(['Anonymous', 'anonymous', 'ByAmazonCustomer', 'Amazon Customer'])]\n",
    "print(df['usernames'])\n",
    "\n",
    "df = df.explode('usernames')\n",
    "\n",
    "\n",
    "pivot_table = df.groupby(['usernames','product_name']).size().unstack(fill_value=0)\n",
    "\n",
    "new_df_data = []\n",
    "for _, row in pivot_table.iterrows():\n",
    "    reviewed_products = row[row > 0].index.tolist()\n",
    "    \n",
    "    for product1, product2 in combinations(reviewed_products, 2):\n",
    "        new_df_data.append((f\"{product1}_{product2}\", 1))\n",
    "\n",
    "new_df = pd.DataFrame(new_df_data, columns=['product_pair', 'weight'])\n",
    "\n",
    "new_df = new_df.groupby('product_pair').sum().reset_index()"
   ]
  },
  {
   "cell_type": "code",
   "execution_count": 16,
   "metadata": {},
   "outputs": [
    {
     "data": {
      "text/html": [
       "<div>\n",
       "<style scoped>\n",
       "    .dataframe tbody tr th:only-of-type {\n",
       "        vertical-align: middle;\n",
       "    }\n",
       "\n",
       "    .dataframe tbody tr th {\n",
       "        vertical-align: top;\n",
       "    }\n",
       "\n",
       "    .dataframe thead th {\n",
       "        text-align: right;\n",
       "    }\n",
       "</style>\n",
       "<table border=\"1\" class=\"dataframe\">\n",
       "  <thead>\n",
       "    <tr style=\"text-align: right;\">\n",
       "      <th></th>\n",
       "      <th>product_pair</th>\n",
       "      <th>weight</th>\n",
       "    </tr>\n",
       "  </thead>\n",
       "  <tbody>\n",
       "    <tr>\n",
       "      <th>0</th>\n",
       "      <td>(Acer Certified) Acer UM.FX1AA.001 Predator XB...</td>\n",
       "      <td>1</td>\n",
       "    </tr>\n",
       "    <tr>\n",
       "      <th>1</th>\n",
       "      <td>(Acer Certified) Acer UM.FX1AA.001 Predator XB...</td>\n",
       "      <td>1</td>\n",
       "    </tr>\n",
       "    <tr>\n",
       "      <th>2</th>\n",
       "      <td>(Acer Certified) Acer UM.FX1AA.001 Predator XB...</td>\n",
       "      <td>5</td>\n",
       "    </tr>\n",
       "    <tr>\n",
       "      <th>3</th>\n",
       "      <td>(Acer Certified) Acer UM.FX1AA.001 Predator XB...</td>\n",
       "      <td>1</td>\n",
       "    </tr>\n",
       "    <tr>\n",
       "      <th>4</th>\n",
       "      <td>(Acer Certified) Acer UM.FX1AA.001 Predator XB...</td>\n",
       "      <td>2</td>\n",
       "    </tr>\n",
       "    <tr>\n",
       "      <th>...</th>\n",
       "      <td>...</td>\n",
       "      <td>...</td>\n",
       "    </tr>\n",
       "    <tr>\n",
       "      <th>444075</th>\n",
       "      <td>iPhone XS Max Silicone Case - Red_logitech G L...</td>\n",
       "      <td>1</td>\n",
       "    </tr>\n",
       "    <tr>\n",
       "      <th>444076</th>\n",
       "      <td>iPhone XS Max Silicone Case - Red_logitech zer...</td>\n",
       "      <td>2</td>\n",
       "    </tr>\n",
       "    <tr>\n",
       "      <th>444077</th>\n",
       "      <td>imageCLASS LBP6230DW Wireless Black-and-White ...</td>\n",
       "      <td>1</td>\n",
       "    </tr>\n",
       "    <tr>\n",
       "      <th>444078</th>\n",
       "      <td>imageCLASS MF743Cdw Wireless Color All-In-One ...</td>\n",
       "      <td>1</td>\n",
       "    </tr>\n",
       "    <tr>\n",
       "      <th>444079</th>\n",
       "      <td>logitech G Logitech Wii Speed Force Wireless W...</td>\n",
       "      <td>1</td>\n",
       "    </tr>\n",
       "  </tbody>\n",
       "</table>\n",
       "<p>444080 rows × 2 columns</p>\n",
       "</div>"
      ],
      "text/plain": [
       "                                             product_pair  weight\n",
       "0       (Acer Certified) Acer UM.FX1AA.001 Predator XB...       1\n",
       "1       (Acer Certified) Acer UM.FX1AA.001 Predator XB...       1\n",
       "2       (Acer Certified) Acer UM.FX1AA.001 Predator XB...       5\n",
       "3       (Acer Certified) Acer UM.FX1AA.001 Predator XB...       1\n",
       "4       (Acer Certified) Acer UM.FX1AA.001 Predator XB...       2\n",
       "...                                                   ...     ...\n",
       "444075  iPhone XS Max Silicone Case - Red_logitech G L...       1\n",
       "444076  iPhone XS Max Silicone Case - Red_logitech zer...       2\n",
       "444077  imageCLASS LBP6230DW Wireless Black-and-White ...       1\n",
       "444078  imageCLASS MF743Cdw Wireless Color All-In-One ...       1\n",
       "444079  logitech G Logitech Wii Speed Force Wireless W...       1\n",
       "\n",
       "[444080 rows x 2 columns]"
      ]
     },
     "execution_count": 16,
     "metadata": {},
     "output_type": "execute_result"
    }
   ],
   "source": [
    "new_df"
   ]
  },
  {
   "cell_type": "code",
   "execution_count": 17,
   "metadata": {},
   "outputs": [
    {
     "data": {
      "text/html": [
       "<div>\n",
       "<style scoped>\n",
       "    .dataframe tbody tr th:only-of-type {\n",
       "        vertical-align: middle;\n",
       "    }\n",
       "\n",
       "    .dataframe tbody tr th {\n",
       "        vertical-align: top;\n",
       "    }\n",
       "\n",
       "    .dataframe thead th {\n",
       "        text-align: right;\n",
       "    }\n",
       "</style>\n",
       "<table border=\"1\" class=\"dataframe\">\n",
       "  <thead>\n",
       "    <tr style=\"text-align: right;\">\n",
       "      <th></th>\n",
       "      <th>weight</th>\n",
       "      <th>count</th>\n",
       "    </tr>\n",
       "  </thead>\n",
       "  <tbody>\n",
       "    <tr>\n",
       "      <th>0</th>\n",
       "      <td>1</td>\n",
       "      <td>323498</td>\n",
       "    </tr>\n",
       "    <tr>\n",
       "      <th>1</th>\n",
       "      <td>2</td>\n",
       "      <td>61174</td>\n",
       "    </tr>\n",
       "    <tr>\n",
       "      <th>2</th>\n",
       "      <td>3</td>\n",
       "      <td>22810</td>\n",
       "    </tr>\n",
       "    <tr>\n",
       "      <th>3</th>\n",
       "      <td>4</td>\n",
       "      <td>11780</td>\n",
       "    </tr>\n",
       "    <tr>\n",
       "      <th>4</th>\n",
       "      <td>5</td>\n",
       "      <td>6913</td>\n",
       "    </tr>\n",
       "    <tr>\n",
       "      <th>5</th>\n",
       "      <td>6</td>\n",
       "      <td>4458</td>\n",
       "    </tr>\n",
       "    <tr>\n",
       "      <th>6</th>\n",
       "      <td>7</td>\n",
       "      <td>3038</td>\n",
       "    </tr>\n",
       "    <tr>\n",
       "      <th>7</th>\n",
       "      <td>8</td>\n",
       "      <td>2246</td>\n",
       "    </tr>\n",
       "    <tr>\n",
       "      <th>8</th>\n",
       "      <td>9</td>\n",
       "      <td>1587</td>\n",
       "    </tr>\n",
       "    <tr>\n",
       "      <th>9</th>\n",
       "      <td>10</td>\n",
       "      <td>1216</td>\n",
       "    </tr>\n",
       "    <tr>\n",
       "      <th>10</th>\n",
       "      <td>11</td>\n",
       "      <td>930</td>\n",
       "    </tr>\n",
       "    <tr>\n",
       "      <th>11</th>\n",
       "      <td>12</td>\n",
       "      <td>685</td>\n",
       "    </tr>\n",
       "    <tr>\n",
       "      <th>12</th>\n",
       "      <td>13</td>\n",
       "      <td>633</td>\n",
       "    </tr>\n",
       "    <tr>\n",
       "      <th>13</th>\n",
       "      <td>14</td>\n",
       "      <td>453</td>\n",
       "    </tr>\n",
       "    <tr>\n",
       "      <th>14</th>\n",
       "      <td>15</td>\n",
       "      <td>371</td>\n",
       "    </tr>\n",
       "    <tr>\n",
       "      <th>15</th>\n",
       "      <td>16</td>\n",
       "      <td>324</td>\n",
       "    </tr>\n",
       "    <tr>\n",
       "      <th>16</th>\n",
       "      <td>17</td>\n",
       "      <td>261</td>\n",
       "    </tr>\n",
       "    <tr>\n",
       "      <th>17</th>\n",
       "      <td>18</td>\n",
       "      <td>221</td>\n",
       "    </tr>\n",
       "    <tr>\n",
       "      <th>18</th>\n",
       "      <td>19</td>\n",
       "      <td>186</td>\n",
       "    </tr>\n",
       "    <tr>\n",
       "      <th>19</th>\n",
       "      <td>20</td>\n",
       "      <td>147</td>\n",
       "    </tr>\n",
       "    <tr>\n",
       "      <th>20</th>\n",
       "      <td>21</td>\n",
       "      <td>137</td>\n",
       "    </tr>\n",
       "    <tr>\n",
       "      <th>21</th>\n",
       "      <td>22</td>\n",
       "      <td>102</td>\n",
       "    </tr>\n",
       "    <tr>\n",
       "      <th>22</th>\n",
       "      <td>23</td>\n",
       "      <td>99</td>\n",
       "    </tr>\n",
       "    <tr>\n",
       "      <th>23</th>\n",
       "      <td>24</td>\n",
       "      <td>90</td>\n",
       "    </tr>\n",
       "    <tr>\n",
       "      <th>24</th>\n",
       "      <td>25</td>\n",
       "      <td>70</td>\n",
       "    </tr>\n",
       "  </tbody>\n",
       "</table>\n",
       "</div>"
      ],
      "text/plain": [
       "    weight   count\n",
       "0        1  323498\n",
       "1        2   61174\n",
       "2        3   22810\n",
       "3        4   11780\n",
       "4        5    6913\n",
       "5        6    4458\n",
       "6        7    3038\n",
       "7        8    2246\n",
       "8        9    1587\n",
       "9       10    1216\n",
       "10      11     930\n",
       "11      12     685\n",
       "12      13     633\n",
       "13      14     453\n",
       "14      15     371\n",
       "15      16     324\n",
       "16      17     261\n",
       "17      18     221\n",
       "18      19     186\n",
       "19      20     147\n",
       "20      21     137\n",
       "21      22     102\n",
       "22      23      99\n",
       "23      24      90\n",
       "24      25      70"
      ]
     },
     "execution_count": 17,
     "metadata": {},
     "output_type": "execute_result"
    }
   ],
   "source": [
    "df_novo_dataset = new_df.groupby('weight').size().reset_index(name='count')\n",
    "\n",
    "df_filtrado = df_novo_dataset.loc[df_novo_dataset['weight'] < 26]\n",
    "df_filtrado"
   ]
  },
  {
   "cell_type": "code",
   "execution_count": 18,
   "metadata": {
    "scrolled": true
   },
   "outputs": [
    {
     "data": {
      "text/html": [
       "<div>\n",
       "<style scoped>\n",
       "    .dataframe tbody tr th:only-of-type {\n",
       "        vertical-align: middle;\n",
       "    }\n",
       "\n",
       "    .dataframe tbody tr th {\n",
       "        vertical-align: top;\n",
       "    }\n",
       "\n",
       "    .dataframe thead th {\n",
       "        text-align: right;\n",
       "    }\n",
       "</style>\n",
       "<table border=\"1\" class=\"dataframe\">\n",
       "  <thead>\n",
       "    <tr style=\"text-align: right;\">\n",
       "      <th></th>\n",
       "      <th>product_pair</th>\n",
       "      <th>weight</th>\n",
       "    </tr>\n",
       "  </thead>\n",
       "  <tbody>\n",
       "    <tr>\n",
       "      <th>2</th>\n",
       "      <td>(Acer Certified) Acer UM.FX1AA.001 Predator XB...</td>\n",
       "      <td>5</td>\n",
       "    </tr>\n",
       "    <tr>\n",
       "      <th>4</th>\n",
       "      <td>(Acer Certified) Acer UM.FX1AA.001 Predator XB...</td>\n",
       "      <td>2</td>\n",
       "    </tr>\n",
       "    <tr>\n",
       "      <th>5</th>\n",
       "      <td>(Acer Certified) Acer UM.FX1AA.001 Predator XB...</td>\n",
       "      <td>3</td>\n",
       "    </tr>\n",
       "    <tr>\n",
       "      <th>7</th>\n",
       "      <td>(Acer Certified) Acer UM.FX1AA.001 Predator XB...</td>\n",
       "      <td>2</td>\n",
       "    </tr>\n",
       "    <tr>\n",
       "      <th>8</th>\n",
       "      <td>(Acer Certified) Acer UM.FX1AA.001 Predator XB...</td>\n",
       "      <td>2</td>\n",
       "    </tr>\n",
       "    <tr>\n",
       "      <th>...</th>\n",
       "      <td>...</td>\n",
       "      <td>...</td>\n",
       "    </tr>\n",
       "    <tr>\n",
       "      <th>444055</th>\n",
       "      <td>iPhone 11 Clear Case_iPhone 11 Silicone Case</td>\n",
       "      <td>33</td>\n",
       "    </tr>\n",
       "    <tr>\n",
       "      <th>444062</th>\n",
       "      <td>iPhone 11 Silicone Case_iPhone 12 Pro Max Sili...</td>\n",
       "      <td>3</td>\n",
       "    </tr>\n",
       "    <tr>\n",
       "      <th>444067</th>\n",
       "      <td>iPhone 12 Pro Max Silicone Case with MagSafe_i...</td>\n",
       "      <td>6</td>\n",
       "    </tr>\n",
       "    <tr>\n",
       "      <th>444070</th>\n",
       "      <td>iPhone XS Max Leather Case - Midnight Blue_iPh...</td>\n",
       "      <td>2</td>\n",
       "    </tr>\n",
       "    <tr>\n",
       "      <th>444076</th>\n",
       "      <td>iPhone XS Max Silicone Case - Red_logitech zer...</td>\n",
       "      <td>2</td>\n",
       "    </tr>\n",
       "  </tbody>\n",
       "</table>\n",
       "<p>120582 rows × 2 columns</p>\n",
       "</div>"
      ],
      "text/plain": [
       "                                             product_pair  weight\n",
       "2       (Acer Certified) Acer UM.FX1AA.001 Predator XB...       5\n",
       "4       (Acer Certified) Acer UM.FX1AA.001 Predator XB...       2\n",
       "5       (Acer Certified) Acer UM.FX1AA.001 Predator XB...       3\n",
       "7       (Acer Certified) Acer UM.FX1AA.001 Predator XB...       2\n",
       "8       (Acer Certified) Acer UM.FX1AA.001 Predator XB...       2\n",
       "...                                                   ...     ...\n",
       "444055       iPhone 11 Clear Case_iPhone 11 Silicone Case      33\n",
       "444062  iPhone 11 Silicone Case_iPhone 12 Pro Max Sili...       3\n",
       "444067  iPhone 12 Pro Max Silicone Case with MagSafe_i...       6\n",
       "444070  iPhone XS Max Leather Case - Midnight Blue_iPh...       2\n",
       "444076  iPhone XS Max Silicone Case - Red_logitech zer...       2\n",
       "\n",
       "[120582 rows x 2 columns]"
      ]
     },
     "execution_count": 18,
     "metadata": {},
     "output_type": "execute_result"
    }
   ],
   "source": [
    "new_df = new_df.loc[new_df['weight'] >= 2]\n",
    "new_df"
   ]
  },
  {
   "cell_type": "code",
   "execution_count": 19,
   "metadata": {
    "scrolled": false
   },
   "outputs": [
    {
     "data": {
      "image/png": "[encoded data removed]",
      "text/plain": [
       "<Figure size 640x480 with 1 Axes>"
      ]
     },
     "metadata": {},
     "output_type": "display_data"
    }
   ],
   "source": [
    "new_df[\"weight\"].plot.hist(bins=80)\n",
    "plt.xlabel(\"weight\")\n",
    "plt.show()"
   ]
  },
  {
   "cell_type": "code",
   "execution_count": 20,
   "metadata": {},
   "outputs": [
    {
     "name": "stderr",
     "output_type": "stream",
     "text": [
      "<frozen importlib._bootstrap>:914: ImportWarning: VendorImporter.find_spec() not found; falling back to find_module()\n"
     ]
    }
   ],
   "source": [
    "import csv\n",
    "from collections import defaultdict\n",
    "from itertools import combinations\n",
    "from sklearn.preprocessing import LabelEncoder\n",
    "\n",
    "username_counts = defaultdict(int)\n",
    "\n",
    "for username, row in pivot_table.iterrows():\n",
    "    if username in ['Anonymous', 'anonymous', 'ByAmazonCustomer', 'Amazon Customer']:\n",
    "        continue\n",
    "\n",
    "    reviewed_products = row[row > 0].index.tolist()\n",
    "\n",
    "    username_counts[username] += len(reviewed_products)\n",
    "\n",
    "data_dict = defaultdict(list)\n",
    "\n",
    "for username, row in pivot_table.iterrows():\n",
    "\n",
    "    if username_counts[username] > 200:\n",
    "        continue\n",
    "\n",
    "    reviewed_products = row[row > 0].index.tolist()\n",
    "\n",
    "    for product1, product2 in combinations(reviewed_products, 2):\n",
    "        data_dict[(product1, product2)].append(username)\n",
    "\n",
    "new_df = pd.DataFrame(list(data_dict.items()), columns=['product_pair', 'usernames'])\n",
    "\n",
    "new_df['weight'] = new_df['usernames'].apply(len)\n",
    "\n",
    "new_df = new_df[new_df['weight'] >= 4]\n",
    "\n",
    "product_encoder = LabelEncoder()\n",
    "\n",
    "all_product_names = set([product for pair in new_df['product_pair'] for product in pair])\n",
    "\n",
    "product_encoder.fit(list(all_product_names))\n",
    "\n",
    "with open('edges.txt', 'w', newline='') as f:\n",
    "    writer = csv.writer(f, delimiter='\\t')\n",
    "    for _, row in new_df.iterrows():\n",
    "        product1, product2 = row['product_pair']\n",
    "        encoded_product1 = product_encoder.transform([product1])[0]\n",
    "        encoded_product2 = product_encoder.transform([product2])[0]\n",
    "        writer.writerow([encoded_product1, encoded_product2])\n"
   ]
  },
  {
   "cell_type": "code",
   "execution_count": 21,
   "metadata": {
    "scrolled": false
   },
   "outputs": [
    {
     "data": {
      "text/html": [
       "<div>\n",
       "<style scoped>\n",
       "    .dataframe tbody tr th:only-of-type {\n",
       "        vertical-align: middle;\n",
       "    }\n",
       "\n",
       "    .dataframe tbody tr th {\n",
       "        vertical-align: top;\n",
       "    }\n",
       "\n",
       "    .dataframe thead th {\n",
       "        text-align: right;\n",
       "    }\n",
       "</style>\n",
       "<table border=\"1\" class=\"dataframe\">\n",
       "  <thead>\n",
       "    <tr style=\"text-align: right;\">\n",
       "      <th></th>\n",
       "      <th>product_pair</th>\n",
       "      <th>usernames</th>\n",
       "      <th>weight</th>\n",
       "    </tr>\n",
       "  </thead>\n",
       "  <tbody>\n",
       "    <tr>\n",
       "      <th>0</th>\n",
       "      <td>(Canon CLI-226 Black Ink Tank, Canon CLI-8 Ink...</td>\n",
       "      <td>[\" · Review provided by  staples.com, Anonymou...</td>\n",
       "      <td>11</td>\n",
       "    </tr>\n",
       "    <tr>\n",
       "      <th>1</th>\n",
       "      <td>(Canon CLI-226 Black Ink Tank, Canon PG-240XXL...</td>\n",
       "      <td>[\" · Review provided by  staples.com, DAN · Re...</td>\n",
       "      <td>6</td>\n",
       "    </tr>\n",
       "    <tr>\n",
       "      <th>11</th>\n",
       "      <td>(Canon CLI-8 Ink Cartridge - Yellow, Canon PG-...</td>\n",
       "      <td>[\" · Review provided by  staples.com, DAN · Re...</td>\n",
       "      <td>4</td>\n",
       "    </tr>\n",
       "    <tr>\n",
       "      <th>30</th>\n",
       "      <td>(Epson - Black Ink - (CMYK) 4-Pack 212XL, Epso...</td>\n",
       "      <td>[\" · Review provided by  staples.com, ALLICIA ...</td>\n",
       "      <td>15</td>\n",
       "    </tr>\n",
       "    <tr>\n",
       "      <th>32</th>\n",
       "      <td>(Epson - Black Ink - (CMYK) 4-Pack 212XL, Epso...</td>\n",
       "      <td>[\" · Review provided by  staples.com, ALLICIA ...</td>\n",
       "      <td>15</td>\n",
       "    </tr>\n",
       "    <tr>\n",
       "      <th>...</th>\n",
       "      <td>...</td>\n",
       "      <td>...</td>\n",
       "      <td>...</td>\n",
       "    </tr>\n",
       "    <tr>\n",
       "      <th>407603</th>\n",
       "      <td>(Canon EF 70-300mm f/4-5.6L IS USM Lens, Dell ...</td>\n",
       "      <td>[Robin, Scott, Tom, john]</td>\n",
       "      <td>4</td>\n",
       "    </tr>\n",
       "    <tr>\n",
       "      <th>407665</th>\n",
       "      <td>(Arlo Wire-Free HD Security Camera Only VMC303...</td>\n",
       "      <td>[Rodney, Scott, Stan, Steven]</td>\n",
       "      <td>4</td>\n",
       "    </tr>\n",
       "    <tr>\n",
       "      <th>409212</th>\n",
       "      <td>(Samsung Q60A QN70Q60AAV 69.5\" Smart LED TV - ...</td>\n",
       "      <td>[Samsung2021Buyer · Review provided by  samsun...</td>\n",
       "      <td>4</td>\n",
       "    </tr>\n",
       "    <tr>\n",
       "      <th>419808</th>\n",
       "      <td>(Samsung Galaxy S9 64GB Unlocked Smartphone, B...</td>\n",
       "      <td>[ally.t · Review provided by  influenster.com,...</td>\n",
       "      <td>5</td>\n",
       "    </tr>\n",
       "    <tr>\n",
       "      <th>420071</th>\n",
       "      <td>(Canon IVY CLIQ2 Instant Camera Printer (Turqu...</td>\n",
       "      <td>[jenniferr629 · Review provided by  canon.com,...</td>\n",
       "      <td>6</td>\n",
       "    </tr>\n",
       "  </tbody>\n",
       "</table>\n",
       "<p>27708 rows × 3 columns</p>\n",
       "</div>"
      ],
      "text/plain": [
       "                                             product_pair  \\\n",
       "0       (Canon CLI-226 Black Ink Tank, Canon CLI-8 Ink...   \n",
       "1       (Canon CLI-226 Black Ink Tank, Canon PG-240XXL...   \n",
       "11      (Canon CLI-8 Ink Cartridge - Yellow, Canon PG-...   \n",
       "30      (Epson - Black Ink - (CMYK) 4-Pack 212XL, Epso...   \n",
       "32      (Epson - Black Ink - (CMYK) 4-Pack 212XL, Epso...   \n",
       "...                                                   ...   \n",
       "407603  (Canon EF 70-300mm f/4-5.6L IS USM Lens, Dell ...   \n",
       "407665  (Arlo Wire-Free HD Security Camera Only VMC303...   \n",
       "409212  (Samsung Q60A QN70Q60AAV 69.5\" Smart LED TV - ...   \n",
       "419808  (Samsung Galaxy S9 64GB Unlocked Smartphone, B...   \n",
       "420071  (Canon IVY CLIQ2 Instant Camera Printer (Turqu...   \n",
       "\n",
       "                                                usernames  weight  \n",
       "0       [\" · Review provided by  staples.com, Anonymou...      11  \n",
       "1       [\" · Review provided by  staples.com, DAN · Re...       6  \n",
       "11      [\" · Review provided by  staples.com, DAN · Re...       4  \n",
       "30      [\" · Review provided by  staples.com, ALLICIA ...      15  \n",
       "32      [\" · Review provided by  staples.com, ALLICIA ...      15  \n",
       "...                                                   ...     ...  \n",
       "407603                          [Robin, Scott, Tom, john]       4  \n",
       "407665                      [Rodney, Scott, Stan, Steven]       4  \n",
       "409212  [Samsung2021Buyer · Review provided by  samsun...       4  \n",
       "419808  [ally.t · Review provided by  influenster.com,...       5  \n",
       "420071  [jenniferr629 · Review provided by  canon.com,...       6  \n",
       "\n",
       "[27708 rows x 3 columns]"
      ]
     },
     "execution_count": 21,
     "metadata": {},
     "output_type": "execute_result"
    }
   ],
   "source": [
    "new_df"
   ]
  },
  {
   "cell_type": "code",
   "execution_count": 22,
   "metadata": {},
   "outputs": [
    {
     "name": "stdout",
     "output_type": "stream",
     "text": [
      "0\n",
      "1000\n",
      "2000\n",
      "3000\n",
      "4000\n",
      "5000\n",
      "6000\n",
      "7000\n",
      "8000\n",
      "9000\n",
      "10000\n",
      "11000\n",
      "12000\n",
      "13000\n",
      "14000\n",
      "15000\n",
      "16000\n",
      "17000\n",
      "18000\n",
      "19000\n",
      "20000\n",
      "21000\n",
      "22000\n",
      "23000\n",
      "24000\n",
      "25000\n",
      "26000\n",
      "27000\n"
     ]
    }
   ],
   "source": [
    "f = open(\"edges.txt\", \"r\")\n",
    "x = f.readlines()\n",
    "\n",
    "vertices = []\n",
    "i = 0\n",
    "while i <= len(x)-1:\n",
    "    z = x[i].split('\\t')\n",
    "    y = z[1].strip('\\n')\n",
    "    if z[0] not in vertices:\n",
    "        vertices.append(int(z[0]))\n",
    "    if y not in vertices:\n",
    "        vertices.append(int(y))\n",
    "    if i%1000 == 0:\n",
    "        print(i)\n",
    "    i +=1\n",
    "vertices = list(dict.fromkeys(vertices) )"
   ]
  },
  {
   "cell_type": "code",
   "execution_count": 23,
   "metadata": {},
   "outputs": [
    {
     "name": "stdout",
     "output_type": "stream",
     "text": [
      "número de vértices de g: 932\n"
     ]
    }
   ],
   "source": [
    "for v in vertices:\n",
    "    g.add_vertex(v)\n",
    "print('número de vértices de g:', g.num_vertices())"
   ]
  },
  {
   "cell_type": "code",
   "execution_count": 24,
   "metadata": {},
   "outputs": [
    {
     "name": "stdout",
     "output_type": "stream",
     "text": [
      "número de arestas de g: 27708\n"
     ]
    }
   ],
   "source": [
    "i = 0\n",
    "while i <= len(x)-1:\n",
    "    z = x[i].split('\\t')\n",
    "    y = int(z[1].strip('\\n'))\n",
    "    g.add_edge(int(z[0]), y)\n",
    "    i +=1\n",
    "    \n",
    "print('número de arestas de g:', g.num_edges())"
   ]
  },
  {
   "cell_type": "code",
   "execution_count": 25,
   "metadata": {},
   "outputs": [],
   "source": [
    "gt_save(g, 'products.net.gz')"
   ]
  },
  {
   "cell_type": "code",
   "execution_count": 26,
   "metadata": {},
   "outputs": [],
   "source": [
    "g = gt_load('products.net.gz')"
   ]
  },
  {
   "cell_type": "code",
   "execution_count": 27,
   "metadata": {},
   "outputs": [
    {
     "name": "stdout",
     "output_type": "stream",
     "text": [
      "Arestas = 27708\n",
      "Vertices = 932\n",
      "Densidade = 0.06386598009431918\n"
     ]
    }
   ],
   "source": [
    "m = g.num_edges()\n",
    "n = g.num_vertices()\n",
    "print(f\"Arestas = {m}\")\n",
    "print(f\"Vertices = {n}\")\n",
    "if g.is_directed():\n",
    "    max_edges = n * (n - 1)\n",
    "else:\n",
    "    max_edges = n * (n - 1) // 2\n",
    "max_edges\n",
    "d = m / max_edges\n",
    "print(f\"Densidade = {d}\")"
   ]
  },
  {
   "cell_type": "code",
   "execution_count": 28,
   "metadata": {},
   "outputs": [
    {
     "data": {
      "text/html": [
       "<div>\n",
       "<style scoped>\n",
       "    .dataframe tbody tr th:only-of-type {\n",
       "        vertical-align: middle;\n",
       "    }\n",
       "\n",
       "    .dataframe tbody tr th {\n",
       "        vertical-align: top;\n",
       "    }\n",
       "\n",
       "    .dataframe thead th {\n",
       "        text-align: right;\n",
       "    }\n",
       "</style>\n",
       "<table border=\"1\" class=\"dataframe\">\n",
       "  <thead>\n",
       "    <tr style=\"text-align: right;\">\n",
       "      <th></th>\n",
       "    </tr>\n",
       "    <tr>\n",
       "      <th>id</th>\n",
       "    </tr>\n",
       "  </thead>\n",
       "  <tbody>\n",
       "    <tr>\n",
       "      <th>182</th>\n",
       "    </tr>\n",
       "    <tr>\n",
       "      <th>187</th>\n",
       "    </tr>\n",
       "    <tr>\n",
       "      <th>214</th>\n",
       "    </tr>\n",
       "    <tr>\n",
       "      <th>294</th>\n",
       "    </tr>\n",
       "    <tr>\n",
       "      <th>296</th>\n",
       "    </tr>\n",
       "    <tr>\n",
       "      <th>...</th>\n",
       "    </tr>\n",
       "    <tr>\n",
       "      <th>711</th>\n",
       "    </tr>\n",
       "    <tr>\n",
       "      <th>537</th>\n",
       "    </tr>\n",
       "    <tr>\n",
       "      <th>410</th>\n",
       "    </tr>\n",
       "    <tr>\n",
       "      <th>207</th>\n",
       "    </tr>\n",
       "    <tr>\n",
       "      <th>208</th>\n",
       "    </tr>\n",
       "  </tbody>\n",
       "</table>\n",
       "<p>932 rows × 0 columns</p>\n",
       "</div>"
      ],
      "text/plain": [
       "Empty DataFrame\n",
       "Columns: []\n",
       "Index: [182, 187, 214, 294, 296, 309, 383, 384, 395, 479, 480, 28, 31, 46, 145, 146, 268, 447, 627, 628, 424, 426, 866, 867, 158, 167, 705, 834, 877, 24, 670, 679, 517, 520, 326, 327, 418, 827, 87, 91, 324, 477, 463, 471, 472, 786, 469, 470, 387, 391, 413, 236, 842, 393, 412, 374, 375, 794, 795, 438, 696, 699, 163, 166, 824, 4, 798, 825, 878, 183, 216, 233, 235, 119, 269, 425, 649, 923, 575, 579, 311, 408, 557, 558, 41, 808, 177, 667, 629, 818, 826, 900, 360, 642, 304, 305, 110, 128, 678, 683, ...]\n",
       "\n",
       "[932 rows x 0 columns]"
      ]
     },
     "execution_count": 28,
     "metadata": {},
     "output_type": "execute_result"
    }
   ],
   "source": [
    "data = gt_data(g)\n",
    "data"
   ]
  },
  {
   "cell_type": "code",
   "execution_count": 29,
   "metadata": {},
   "outputs": [
    {
     "data": {
      "text/html": [
       "<div>\n",
       "<style scoped>\n",
       "    .dataframe tbody tr th:only-of-type {\n",
       "        vertical-align: middle;\n",
       "    }\n",
       "\n",
       "    .dataframe tbody tr th {\n",
       "        vertical-align: top;\n",
       "    }\n",
       "\n",
       "    .dataframe thead th {\n",
       "        text-align: right;\n",
       "    }\n",
       "</style>\n",
       "<table border=\"1\" class=\"dataframe\">\n",
       "  <thead>\n",
       "    <tr style=\"text-align: right;\">\n",
       "      <th></th>\n",
       "      <th>degree</th>\n",
       "    </tr>\n",
       "    <tr>\n",
       "      <th>id</th>\n",
       "      <th></th>\n",
       "    </tr>\n",
       "  </thead>\n",
       "  <tbody>\n",
       "    <tr>\n",
       "      <th>182</th>\n",
       "      <td>31</td>\n",
       "    </tr>\n",
       "    <tr>\n",
       "      <th>187</th>\n",
       "      <td>2</td>\n",
       "    </tr>\n",
       "    <tr>\n",
       "      <th>214</th>\n",
       "      <td>25</td>\n",
       "    </tr>\n",
       "    <tr>\n",
       "      <th>294</th>\n",
       "      <td>2</td>\n",
       "    </tr>\n",
       "    <tr>\n",
       "      <th>296</th>\n",
       "      <td>10</td>\n",
       "    </tr>\n",
       "    <tr>\n",
       "      <th>...</th>\n",
       "      <td>...</td>\n",
       "    </tr>\n",
       "    <tr>\n",
       "      <th>711</th>\n",
       "      <td>2</td>\n",
       "    </tr>\n",
       "    <tr>\n",
       "      <th>537</th>\n",
       "      <td>1</td>\n",
       "    </tr>\n",
       "    <tr>\n",
       "      <th>410</th>\n",
       "      <td>2</td>\n",
       "    </tr>\n",
       "    <tr>\n",
       "      <th>207</th>\n",
       "      <td>1</td>\n",
       "    </tr>\n",
       "    <tr>\n",
       "      <th>208</th>\n",
       "      <td>1</td>\n",
       "    </tr>\n",
       "  </tbody>\n",
       "</table>\n",
       "<p>932 rows × 1 columns</p>\n",
       "</div>"
      ],
      "text/plain": [
       "     degree\n",
       "id         \n",
       "182      31\n",
       "187       2\n",
       "214      25\n",
       "294       2\n",
       "296      10\n",
       "..      ...\n",
       "711       2\n",
       "537       1\n",
       "410       2\n",
       "207       1\n",
       "208       1\n",
       "\n",
       "[932 rows x 1 columns]"
      ]
     },
     "execution_count": 29,
     "metadata": {},
     "output_type": "execute_result"
    }
   ],
   "source": [
    "degrees = []\n",
    "for v in g.all_vertices():\n",
    "    degrees.append(v.total_degree())\n",
    "data['degree'] = degrees\n",
    "data"
   ]
  },
  {
   "cell_type": "code",
   "execution_count": 30,
   "metadata": {},
   "outputs": [
    {
     "data": {
      "text/plain": [
       "count    932.000000\n",
       "mean      59.459227\n",
       "std       93.482621\n",
       "min        1.000000\n",
       "25%        3.000000\n",
       "50%       14.000000\n",
       "75%       74.250000\n",
       "max      712.000000\n",
       "Name: degree, dtype: float64"
      ]
     },
     "execution_count": 30,
     "metadata": {},
     "output_type": "execute_result"
    },
    {
     "data": {
      "image/png": "[encoded data removed]",
      "text/plain": [
       "<Figure size 640x480 with 1 Axes>"
      ]
     },
     "metadata": {},
     "output_type": "display_data"
    }
   ],
   "source": [
    "sns.histplot(data['degree'])\n",
    "data['degree'].describe()"
   ]
  },
  {
   "cell_type": "code",
   "execution_count": 31,
   "metadata": {
    "scrolled": false
   },
   "outputs": [
    {
     "data": {
      "text/html": [
       "\n",
       "        <div id=\"jhHnUAN2MoCTWA85UrtrLK\"></div>\n",
       "        <script>netpixi.render('jhHnUAN2MoCTWA85UrtrLK', 'exemplo.net.gz', 1.7777777777777777, true, false, false);</script>\n",
       "    "
      ],
      "text/plain": [
       "<IPython.core.display.HTML object>"
      ]
     },
     "metadata": {},
     "output_type": "display_data"
    }
   ],
   "source": [
    "g = gt_load('products.net.gz')\n",
    "m = gt_draw.sfdp_layout(g)\n",
    "gt_move(g, m)\n",
    "gt_save(g, 'exemplo.net.gz')\n",
    "netpixi.render('exemplo.net.gz');"
   ]
  },
  {
   "cell_type": "code",
   "execution_count": 32,
   "metadata": {
    "scrolled": false
   },
   "outputs": [
    {
     "data": {
      "text/html": [
       "\n",
       "        <div id=\"K4weoEfgX3kSNzn3gxGtaY\"></div>\n",
       "        <script>netpixi.render('K4weoEfgX3kSNzn3gxGtaY', 'exemplo.net.gz', 1.7777777777777777, true, true, false);</script>\n",
       "    "
      ],
      "text/plain": [
       "<IPython.core.display.HTML object>"
      ]
     },
     "metadata": {},
     "output_type": "display_data"
    }
   ],
   "source": [
    "g = gt_clean(g)\n",
    "m = gt_draw.sfdp_layout(g)\n",
    "gt_move(g, m)\n",
    "gt_save(g, 'exemplo.net.gz')\n",
    "r = netpixi.render('exemplo.net.gz', infinite=True);"
   ]
  },
  {
   "cell_type": "code",
   "execution_count": 33,
   "metadata": {},
   "outputs": [
    {
     "name": "stderr",
     "output_type": "stream",
     "text": [
      "<frozen importlib._bootstrap>:914: ImportWarning: VendorImporter.find_spec() not found; falling back to find_module()\n"
     ]
    }
   ],
   "source": [
    "matrix = spectral.adjacency(g)\n",
    "algorithm = cpnet.Rombach()\n",
    "algorithm.detect(matrix)\n",
    "c = algorithm.get_coreness()"
   ]
  },
  {
   "cell_type": "code",
   "execution_count": 34,
   "metadata": {},
   "outputs": [
    {
     "data": {
      "text/html": [
       "\n",
       "        <div id=\"gvWVT3P3NZzwsRcHRwENVE\"></div>\n",
       "        <script>netpixi.call('gvWVT3P3NZzwsRcHRwENVE', 'K4weoEfgX3kSNzn3gxGtaY', 'changeGraph', 'eyJpZCI6IDAsICJ0eXBlIjogInZlcnRleCIsICJwcm9wcyI6IHsic2l6ZSI6IDE4LjI4MDgwMjI5MjI2MzYxfX0K');</script>\n",
       "    "
      ],
      "text/plain": [
       "<IPython.core.display.HTML object>"
      ]
     },
     "metadata": {},
     "output_type": "display_data"
    },
    {
     "data": {
      "text/html": [
       "\n",
       "        <div id=\"i6TvhpTVLe27BSfHa7PyMa\"></div>\n",
       "        <script>netpixi.call('i6TvhpTVLe27BSfHa7PyMa', 'K4weoEfgX3kSNzn3gxGtaY', 'changeGraph', 'eyJpZCI6IDEsICJ0eXBlIjogInZlcnRleCIsICJwcm9wcyI6IHsic2l6ZSI6IDExLjQwNDAxMTQ2MTMxODA1MX19Cg==');</script>\n",
       "    "
      ],
      "text/plain": [
       "<IPython.core.display.HTML object>"
      ]
     },
     "metadata": {},
     "output_type": "display_data"
    },
    {
     "data": {
      "text/html": [
       "\n",
       "        <div id=\"aYA3fHnZxpUUjg7DNYx2RR\"></div>\n",
       "        <script>netpixi.call('aYA3fHnZxpUUjg7DNYx2RR', 'K4weoEfgX3kSNzn3gxGtaY', 'changeGraph', 'eyJpZCI6IDIsICJ0eXBlIjogInZlcnRleCIsICJwcm9wcyI6IHsic2l6ZSI6IDE3LjUyMTQ4OTk3MTM0NjcwM319Cg==');</script>\n",
       "    "
      ],
      "text/plain": [
       "<IPython.core.display.HTML object>"
      ]
     },
     "metadata": {},
     "output_type": "display_data"
    },
    {
     "data": {
      "text/html": [
       "\n",
       "        <div id=\"Krc7jUpHS2mah2kWvXcxhY\"></div>\n",
       "        <script>netpixi.call('Krc7jUpHS2mah2kWvXcxhY', 'K4weoEfgX3kSNzn3gxGtaY', 'changeGraph', 'eyJpZCI6IDMsICJ0eXBlIjogInZlcnRleCIsICJwcm9wcyI6IHsic2l6ZSI6IDEwLjQ1ODQ1MjcyMjA2MzAzNn19Cg==');</script>\n",
       "    "
      ],
      "text/plain": [
       "<IPython.core.display.HTML object>"
      ]
     },
     "metadata": {},
     "output_type": "display_data"
    },
    {
     "data": {
      "text/html": [
       "\n",
       "        <div id=\"dsXw8vufzEagS3yAN4HZcW\"></div>\n",
       "        <script>netpixi.call('dsXw8vufzEagS3yAN4HZcW', 'K4weoEfgX3kSNzn3gxGtaY', 'changeGraph', 'eyJpZCI6IDQsICJ0eXBlIjogInZlcnRleCIsICJwcm9wcyI6IHsic2l6ZSI6IDE1LjB9fQo=');</script>\n",
       "    "
      ],
      "text/plain": [
       "<IPython.core.display.HTML object>"
      ]
     },
     "metadata": {},
     "output_type": "display_data"
    },
    {
     "data": {
      "text/html": [
       "\n",
       "        <div id=\"R8KAzqXbksLtw4WooSzZeB\"></div>\n",
       "        <script>netpixi.call('R8KAzqXbksLtw4WooSzZeB', 'K4weoEfgX3kSNzn3gxGtaY', 'changeGraph', 'eyJpZCI6IDUsICJ0eXBlIjogInZlcnRleCIsICJwcm9wcyI6IHsic2l6ZSI6IDEzLjc2NzkwODMwOTQ1NTU4N319Cg==');</script>\n",
       "    "
      ],
      "text/plain": [
       "<IPython.core.display.HTML object>"
      ]
     },
     "metadata": {},
     "output_type": "display_data"
    },
    {
     "data": {
      "text/html": [
       "\n",
       "        <div id=\"PS6sJ8irfPgE4iMDdXaAwZ\"></div>\n",
       "        <script>netpixi.call('PS6sJ8irfPgE4iMDdXaAwZ', 'K4weoEfgX3kSNzn3gxGtaY', 'changeGraph', 'eyJpZCI6IDYsICJ0eXBlIjogInZlcnRleCIsICJwcm9wcyI6IHsic2l6ZSI6IDEwLjAxNDMyNjY0NzU2NDQ3fX0K');</script>\n",
       "    "
      ],
      "text/plain": [
       "<IPython.core.display.HTML object>"
      ]
     },
     "metadata": {},
     "output_type": "display_data"
    },
    {
     "data": {
      "text/html": [
       "\n",
       "        <div id=\"5EvNSCGxKKEevHDarnLKLX\"></div>\n",
       "        <script>netpixi.call('5EvNSCGxKKEevHDarnLKLX', 'K4weoEfgX3kSNzn3gxGtaY', 'changeGraph', 'eyJpZCI6IDcsICJ0eXBlIjogInZlcnRleCIsICJwcm9wcyI6IHsic2l6ZSI6IDEyLjIzNDk1NzAyMDA1NzMwN319Cg==');</script>\n",
       "    "
      ],
      "text/plain": [
       "<IPython.core.display.HTML object>"
      ]
     },
     "metadata": {},
     "output_type": "display_data"
    },
    {
     "data": {
      "text/html": [
       "\n",
       "        <div id=\"MogfJJT8e2AC9jzNfQDVBX\"></div>\n",
       "        <script>netpixi.call('MogfJJT8e2AC9jzNfQDVBX', 'K4weoEfgX3kSNzn3gxGtaY', 'changeGraph', 'eyJpZCI6IDgsICJ0eXBlIjogInZlcnRleCIsICJwcm9wcyI6IHsic2l6ZSI6IDE4Ljk1NDE1NDcyNzc5MzY5Nn19Cg==');</script>\n",
       "    "
      ],
      "text/plain": [
       "<IPython.core.display.HTML object>"
      ]
     },
     "metadata": {},
     "output_type": "display_data"
    },
    {
     "data": {
      "text/html": [
       "\n",
       "        <div id=\"7DvJiuUoC9WyECg7MVUbyZ\"></div>\n",
       "        <script>netpixi.call('7DvJiuUoC9WyECg7MVUbyZ', 'K4weoEfgX3kSNzn3gxGtaY', 'changeGraph', 'eyJpZCI6IDksICJ0eXBlIjogInZlcnRleCIsICJwcm9wcyI6IHsic2l6ZSI6IDQwLjQ1NzE0Mjg1NzE0Mjg1Nn19Cg==');</script>\n",
       "    "
      ],
      "text/plain": [
       "<IPython.core.display.HTML object>"
      ]
     },
     "metadata": {},
     "output_type": "display_data"
    },
    {
     "data": {
      "text/html": [
       "\n",
       "        <div id=\"YGWQdugYEDqRvgeMsdCg4Y\"></div>\n",
       "        <script>netpixi.call('YGWQdugYEDqRvgeMsdCg4Y', 'K4weoEfgX3kSNzn3gxGtaY', 'changeGraph', 'eyJpZCI6IDEwLCAidHlwZSI6ICJ2ZXJ0ZXgiLCAicHJvcHMiOiB7InNpemUiOiAxOS43ODUxMDAyODY1MzI5NTJ9fQo=');</script>\n",
       "    "
      ],
      "text/plain": [
       "<IPython.core.display.HTML object>"
      ]
     },
     "metadata": {},
     "output_type": "display_data"
    },
    {
     "data": {
      "text/html": [
       "\n",
       "        <div id=\"cCBX7r4EF2zjHLz6XenYsL\"></div>\n",
       "        <script>netpixi.call('cCBX7r4EF2zjHLz6XenYsL', 'K4weoEfgX3kSNzn3gxGtaY', 'changeGraph', 'eyJpZCI6IDExLCAidHlwZSI6ICJ2ZXJ0ZXgiLCAicHJvcHMiOiB7InNpemUiOiAxNS42MTYwNDU4NDUyNzIyMDZ9fQo=');</script>\n",
       "    "
      ],
      "text/plain": [
       "<IPython.core.display.HTML object>"
      ]
     },
     "metadata": {},
     "output_type": "display_data"
    },
    {
     "data": {
      "text/html": [
       "\n",
       "        <div id=\"WUtnEn43ftCacB8TcpBq7E\"></div>\n",
       "        <script>netpixi.call('WUtnEn43ftCacB8TcpBq7E', 'K4weoEfgX3kSNzn3gxGtaY', 'changeGraph', 'eyJpZCI6IDEyLCAidHlwZSI6ICJ2ZXJ0ZXgiLCAicHJvcHMiOiB7InNpemUiOiAxMy4zNTI0MzU1MzAwODU5NTl9fQo=');</script>\n",
       "    "
      ],
      "text/plain": [
       "<IPython.core.display.HTML object>"
      ]
     },
     "metadata": {},
     "output_type": "display_data"
    },
    {
     "data": {
      "text/html": [
       "\n",
       "        <div id=\"Gs4SJuPXBAG3JecU4CsaX6\"></div>\n",
       "        <script>netpixi.call('Gs4SJuPXBAG3JecU4CsaX6', 'K4weoEfgX3kSNzn3gxGtaY', 'changeGraph', 'eyJpZCI6IDEzLCAidHlwZSI6ICJ2ZXJ0ZXgiLCAicHJvcHMiOiB7InNpemUiOiAxNC4zMjY2NDc1NjQ0Njk5MTR9fQo=');</script>\n",
       "    "
      ],
      "text/plain": [
       "<IPython.core.display.HTML object>"
      ]
     },
     "metadata": {},
     "output_type": "display_data"
    },
    {
     "data": {
      "text/html": [
       "\n",
       "        <div id=\"YAb5jdHkc4FMkMefuFXB9d\"></div>\n",
       "        <script>netpixi.call('YAb5jdHkc4FMkMefuFXB9d', 'K4weoEfgX3kSNzn3gxGtaY', 'changeGraph', 'eyJpZCI6IDE0LCAidHlwZSI6ICJ2ZXJ0ZXgiLCAicHJvcHMiOiB7InNpemUiOiA0Ny44Mjg1NzE0Mjg1NzE0M319Cg==');</script>\n",
       "    "
      ],
      "text/plain": [
       "<IPython.core.display.HTML object>"
      ]
     },
     "metadata": {},
     "output_type": "display_data"
    },
    {
     "data": {
      "text/html": [
       "\n",
       "        <div id=\"hsAxzPG4nfRmUAfzu8vjjH\"></div>\n",
       "        <script>netpixi.call('hsAxzPG4nfRmUAfzu8vjjH', 'K4weoEfgX3kSNzn3gxGtaY', 'changeGraph', 'eyJpZCI6IDE1LCAidHlwZSI6ICJ2ZXJ0ZXgiLCAicHJvcHMiOiB7InNpemUiOiA0OC4wNTcxNDI4NTcxNDI4Nn19Cg==');</script>\n",
       "    "
      ],
      "text/plain": [
       "<IPython.core.display.HTML object>"
      ]
     },
     "metadata": {},
     "output_type": "display_data"
    },
    {
     "data": {
      "text/html": [
       "\n",
       "        <div id=\"QwGWAe66AMiN9JWVJHJjAM\"></div>\n",
       "        <script>netpixi.call('QwGWAe66AMiN9JWVJHJjAM', 'K4weoEfgX3kSNzn3gxGtaY', 'changeGraph', 'eyJpZCI6IDE2LCAidHlwZSI6ICJ2ZXJ0ZXgiLCAicHJvcHMiOiB7InNpemUiOiAxOS4xNjkwNTQ0NDEyNjA3NDR9fQo=');</script>\n",
       "    "
      ],
      "text/plain": [
       "<IPython.core.display.HTML object>"
      ]
     },
     "metadata": {},
     "output_type": "display_data"
    },
    {
     "data": {
      "text/html": [
       "\n",
       "        <div id=\"FUmWqbUMtnncYDUP6YCKuu\"></div>\n",
       "        <script>netpixi.call('FUmWqbUMtnncYDUP6YCKuu', 'K4weoEfgX3kSNzn3gxGtaY', 'changeGraph', 'eyJpZCI6IDE3LCAidHlwZSI6ICJ2ZXJ0ZXgiLCAicHJvcHMiOiB7InNpemUiOiA0NC45NzE0Mjg1NzE0Mjg1NzV9fQo=');</script>\n",
       "    "
      ],
      "text/plain": [
       "<IPython.core.display.HTML object>"
      ]
     },
     "metadata": {},
     "output_type": "display_data"
    },
    {
     "data": {
      "text/html": [
       "\n",
       "        <div id=\"fEbpbppqKgSpiKfYtjht2v\"></div>\n",
       "        <script>netpixi.call('fEbpbppqKgSpiKfYtjht2v', 'K4weoEfgX3kSNzn3gxGtaY', 'changeGraph', 'eyJpZCI6IDE4LCAidHlwZSI6ICJ2ZXJ0ZXgiLCAicHJvcHMiOiB7InNpemUiOiAxOS4zOTgyODA4MDIyOTIyNjN9fQo=');</script>\n",
       "    "
      ],
      "text/plain": [
       "<IPython.core.display.HTML object>"
      ]
     },
     "metadata": {},
     "output_type": "display_data"
    },
    {
     "data": {
      "text/html": [
       "\n",
       "        <div id=\"EYqozxZyqfQvdk4eFwUEVG\"></div>\n",
       "        <script>netpixi.call('EYqozxZyqfQvdk4eFwUEVG', 'K4weoEfgX3kSNzn3gxGtaY', 'changeGraph', 'eyJpZCI6IDE5LCAidHlwZSI6ICJ2ZXJ0ZXgiLCAicHJvcHMiOiB7InNpemUiOiA0OS44Mjg1NzE0Mjg1NzE0M319Cg==');</script>\n",
       "    "
      ],
      "text/plain": [
       "<IPython.core.display.HTML object>"
      ]
     },
     "metadata": {},
     "output_type": "display_data"
    },
    {
     "data": {
      "text/html": [
       "\n",
       "        <div id=\"7cLVzrzkpov2oLrzPjoYZq\"></div>\n",
       "        <script>netpixi.call('7cLVzrzkpov2oLrzPjoYZq', 'K4weoEfgX3kSNzn3gxGtaY', 'changeGraph', 'eyJpZCI6IDIwLCAidHlwZSI6ICJ2ZXJ0ZXgiLCAicHJvcHMiOiB7InNpemUiOiAxMS4wNjAxNzE5MTk3NzA3NzR9fQo=');</script>\n",
       "    "
      ],
      "text/plain": [
       "<IPython.core.display.HTML object>"
      ]
     },
     "metadata": {},
     "output_type": "display_data"
    },
    {
     "data": {
      "text/html": [
       "\n",
       "        <div id=\"AEpuLEPdvAAiLD5hL3HTUv\"></div>\n",
       "        <script>netpixi.call('AEpuLEPdvAAiLD5hL3HTUv', 'K4weoEfgX3kSNzn3gxGtaY', 'changeGraph', 'eyJpZCI6IDIxLCAidHlwZSI6ICJ2ZXJ0ZXgiLCAicHJvcHMiOiB7InNpemUiOiAxMy4yODA4MDIyOTIyNjM2MX19Cg==');</script>\n",
       "    "
      ],
      "text/plain": [
       "<IPython.core.display.HTML object>"
      ]
     },
     "metadata": {},
     "output_type": "display_data"
    },
    {
     "data": {
      "text/html": [
       "\n",
       "        <div id=\"ZRKEaKneN8VvmggrCwhSwQ\"></div>\n",
       "        <script>netpixi.call('ZRKEaKneN8VvmggrCwhSwQ', 'K4weoEfgX3kSNzn3gxGtaY', 'changeGraph', 'eyJpZCI6IDIyLCAidHlwZSI6ICJ2ZXJ0ZXgiLCAicHJvcHMiOiB7InNpemUiOiAxNi4wNjAxNzE5MTk3NzA3NzR9fQo=');</script>\n",
       "    "
      ],
      "text/plain": [
       "<IPython.core.display.HTML object>"
      ]
     },
     "metadata": {},
     "output_type": "display_data"
    },
    {
     "data": {
      "text/html": [
       "\n",
       "        <div id=\"9yJ8TvEfmAQoUBvUi6BLKo\"></div>\n",
       "        <script>netpixi.call('9yJ8TvEfmAQoUBvUi6BLKo', 'K4weoEfgX3kSNzn3gxGtaY', 'changeGraph', 'eyJpZCI6IDIzLCAidHlwZSI6ICJ2ZXJ0ZXgiLCAicHJvcHMiOiB7InNpemUiOiAxOS4wNjg3Njc5MDgzMDk0NTR9fQo=');</script>\n",
       "    "
      ],
      "text/plain": [
       "<IPython.core.display.HTML object>"
      ]
     },
     "metadata": {},
     "output_type": "display_data"
    },
    {
     "data": {
      "text/html": [
       "\n",
       "        <div id=\"TJnEr93WW9BLxxYeXiDGm2\"></div>\n",
       "        <script>netpixi.call('TJnEr93WW9BLxxYeXiDGm2', 'K4weoEfgX3kSNzn3gxGtaY', 'changeGraph', 'eyJpZCI6IDI0LCAidHlwZSI6ICJ2ZXJ0ZXgiLCAicHJvcHMiOiB7InNpemUiOiAxOC41ODE2NjE4OTExMTc0Nzd9fQo=');</script>\n",
       "    "
      ],
      "text/plain": [
       "<IPython.core.display.HTML object>"
      ]
     },
     "metadata": {},
     "output_type": "display_data"
    },
    {
     "data": {
      "text/html": [
       "\n",
       "        <div id=\"jSdEsW3zX7R4jtMzAFkwxU\"></div>\n",
       "        <script>netpixi.call('jSdEsW3zX7R4jtMzAFkwxU', 'K4weoEfgX3kSNzn3gxGtaY', 'changeGraph', 'eyJpZCI6IDI1LCAidHlwZSI6ICJ2ZXJ0ZXgiLCAicHJvcHMiOiB7InNpemUiOiAxOS4xNTQ3Mjc3OTM2OTYyNzR9fQo=');</script>\n",
       "    "
      ],
      "text/plain": [
       "<IPython.core.display.HTML object>"
      ]
     },
     "metadata": {},
     "output_type": "display_data"
    },
    {
     "data": {
      "text/html": [
       "\n",
       "        <div id=\"KDfS9BN2LxxfPMASBEeQyy\"></div>\n",
       "        <script>netpixi.call('KDfS9BN2LxxfPMASBEeQyy', 'K4weoEfgX3kSNzn3gxGtaY', 'changeGraph', 'eyJpZCI6IDI2LCAidHlwZSI6ICJ2ZXJ0ZXgiLCAicHJvcHMiOiB7InNpemUiOiA0MC41NzE0Mjg1NzE0Mjg1N319Cg==');</script>\n",
       "    "
      ],
      "text/plain": [
       "<IPython.core.display.HTML object>"
      ]
     },
     "metadata": {},
     "output_type": "display_data"
    },
    {
     "data": {
      "text/html": [
       "\n",
       "        <div id=\"aeLbqrAodskLQ34EAoFHsV\"></div>\n",
       "        <script>netpixi.call('aeLbqrAodskLQ34EAoFHsV', 'K4weoEfgX3kSNzn3gxGtaY', 'changeGraph', 'eyJpZCI6IDI3LCAidHlwZSI6ICJ2ZXJ0ZXgiLCAicHJvcHMiOiB7InNpemUiOiAxNi41MzI5NTEyODkzOTgyOH19Cg==');</script>\n",
       "    "
      ],
      "text/plain": [
       "<IPython.core.display.HTML object>"
      ]
     },
     "metadata": {},
     "output_type": "display_data"
    },
    {
     "data": {
      "text/html": [
       "\n",
       "        <div id=\"nFVtbbWZ52yHEyDefKFBtm\"></div>\n",
       "        <script>netpixi.call('nFVtbbWZ52yHEyDefKFBtm', 'K4weoEfgX3kSNzn3gxGtaY', 'changeGraph', 'eyJpZCI6IDI4LCAidHlwZSI6ICJ2ZXJ0ZXgiLCAicHJvcHMiOiB7InNpemUiOiAxNC42OTkxNDA0MDExNDYxMzF9fQo=');</script>\n",
       "    "
      ],
      "text/plain": [
       "<IPython.core.display.HTML object>"
      ]
     },
     "metadata": {},
     "output_type": "display_data"
    },
    {
     "data": {
      "text/html": [
       "\n",
       "        <div id=\"YrwKS4UjGqWoJwDCAvSYAw\"></div>\n",
       "        <script>netpixi.call('YrwKS4UjGqWoJwDCAvSYAw', 'K4weoEfgX3kSNzn3gxGtaY', 'changeGraph', 'eyJpZCI6IDI5LCAidHlwZSI6ICJ2ZXJ0ZXgiLCAicHJvcHMiOiB7InNpemUiOiAxNi4wMDI4NjUzMjk1MTI4OTN9fQo=');</script>\n",
       "    "
      ],
      "text/plain": [
       "<IPython.core.display.HTML object>"
      ]
     },
     "metadata": {},
     "output_type": "display_data"
    },
    {
     "data": {
      "text/html": [
       "\n",
       "        <div id=\"KDnoqFTK5jnDhXbSUFRtYi\"></div>\n",
       "        <script>netpixi.call('KDnoqFTK5jnDhXbSUFRtYi', 'K4weoEfgX3kSNzn3gxGtaY', 'changeGraph', 'eyJpZCI6IDMwLCAidHlwZSI6ICJ2ZXJ0ZXgiLCAicHJvcHMiOiB7InNpemUiOiAxMC4xNDMyNjY0NzU2NDQ3fX0K');</script>\n",
       "    "
      ],
      "text/plain": [
       "<IPython.core.display.HTML object>"
      ]
     },
     "metadata": {},
     "output_type": "display_data"
    },
    {
     "data": {
      "text/html": [
       "\n",
       "        <div id=\"Gme2CP85B8B5VrGttKHqFS\"></div>\n",
       "        <script>netpixi.call('Gme2CP85B8B5VrGttKHqFS', 'K4weoEfgX3kSNzn3gxGtaY', 'changeGraph', 'eyJpZCI6IDMxLCAidHlwZSI6ICJ2ZXJ0ZXgiLCAicHJvcHMiOiB7InNpemUiOiAxMC4xNTc1OTMxMjMyMDkxN319Cg==');</script>\n",
       "    "
      ],
      "text/plain": [
       "<IPython.core.display.HTML object>"
      ]
     },
     "metadata": {},
     "output_type": "display_data"
    },
    {
     "data": {
      "text/html": [
       "\n",
       "        <div id=\"NpPzRkPrBZs9cUYsQ9gJoM\"></div>\n",
       "        <script>netpixi.call('NpPzRkPrBZs9cUYsQ9gJoM', 'K4weoEfgX3kSNzn3gxGtaY', 'changeGraph', 'eyJpZCI6IDMyLCAidHlwZSI6ICJ2ZXJ0ZXgiLCAicHJvcHMiOiB7InNpemUiOiAxMy45MjU1MDE0MzI2NjQ3NTZ9fQo=');</script>\n",
       "    "
      ],
      "text/plain": [
       "<IPython.core.display.HTML object>"
      ]
     },
     "metadata": {},
     "output_type": "display_data"
    },
    {
     "data": {
      "text/html": [
       "\n",
       "        <div id=\"i9cWTEu2DsN65TRThkyNGb\"></div>\n",
       "        <script>netpixi.call('i9cWTEu2DsN65TRThkyNGb', 'K4weoEfgX3kSNzn3gxGtaY', 'changeGraph', 'eyJpZCI6IDMzLCAidHlwZSI6ICJ2ZXJ0ZXgiLCAicHJvcHMiOiB7InNpemUiOiAxNi43MDQ4NzEwNjAxNzE5MTh9fQo=');</script>\n",
       "    "
      ],
      "text/plain": [
       "<IPython.core.display.HTML object>"
      ]
     },
     "metadata": {},
     "output_type": "display_data"
    },
    {
     "data": {
      "text/html": [
       "\n",
       "        <div id=\"LCvva8ufEUQWwUkaZERJUh\"></div>\n",
       "        <script>netpixi.call('LCvva8ufEUQWwUkaZERJUh', 'K4weoEfgX3kSNzn3gxGtaY', 'changeGraph', 'eyJpZCI6IDM0LCAidHlwZSI6ICJ2ZXJ0ZXgiLCAicHJvcHMiOiB7InNpemUiOiAxNy4wNjMwMzcyNDkyODM2Njd9fQo=');</script>\n",
       "    "
      ],
      "text/plain": [
       "<IPython.core.display.HTML object>"
      ]
     },
     "metadata": {},
     "output_type": "display_data"
    },
    {
     "data": {
      "text/html": [
       "\n",
       "        <div id=\"BqzcMuJepwovxD9nEo38PQ\"></div>\n",
       "        <script>netpixi.call('BqzcMuJepwovxD9nEo38PQ', 'K4weoEfgX3kSNzn3gxGtaY', 'changeGraph', 'eyJpZCI6IDM1LCAidHlwZSI6ICJ2ZXJ0ZXgiLCAicHJvcHMiOiB7InNpemUiOiAxOS43MTM0NjcwNDg3MTA2fX0K');</script>\n",
       "    "
      ],
      "text/plain": [
       "<IPython.core.display.HTML object>"
      ]
     },
     "metadata": {},
     "output_type": "display_data"
    },
    {
     "data": {
      "text/html": [
       "\n",
       "        <div id=\"YjYqkz6iwy2nzCJZWhg23z\"></div>\n",
       "        <script>netpixi.call('YjYqkz6iwy2nzCJZWhg23z', 'K4weoEfgX3kSNzn3gxGtaY', 'changeGraph', 'eyJpZCI6IDM2LCAidHlwZSI6ICJ2ZXJ0ZXgiLCAicHJvcHMiOiB7InNpemUiOiA0My4xNDI4NTcxNDI4NTcxNH19Cg==');</script>\n",
       "    "
      ],
      "text/plain": [
       "<IPython.core.display.HTML object>"
      ]
     },
     "metadata": {},
     "output_type": "display_data"
    },
    {
     "data": {
      "text/html": [
       "\n",
       "        <div id=\"8yzPapxPnNnkzzUyYcVHLr\"></div>\n",
       "        <script>netpixi.call('8yzPapxPnNnkzzUyYcVHLr', 'K4weoEfgX3kSNzn3gxGtaY', 'changeGraph', 'eyJpZCI6IDM3LCAidHlwZSI6ICJ2ZXJ0ZXgiLCAicHJvcHMiOiB7InNpemUiOiAxOC4zOTU0MTU0NzI3NzkzN319Cg==');</script>\n",
       "    "
      ],
      "text/plain": [
       "<IPython.core.display.HTML object>"
      ]
     },
     "metadata": {},
     "output_type": "display_data"
    },
    {
     "data": {
      "text/html": [
       "\n",
       "        <div id=\"aDFFF9v9Uu8Ao7VFTtkRgV\"></div>\n",
       "        <script>netpixi.call('aDFFF9v9Uu8Ao7VFTtkRgV', 'K4weoEfgX3kSNzn3gxGtaY', 'changeGraph', 'eyJpZCI6IDM4LCAidHlwZSI6ICJ2ZXJ0ZXgiLCAicHJvcHMiOiB7InNpemUiOiA0MS4wODU3MTQyODU3MTQyOX19Cg==');</script>\n",
       "    "
      ],
      "text/plain": [
       "<IPython.core.display.HTML object>"
      ]
     },
     "metadata": {},
     "output_type": "display_data"
    },
    {
     "data": {
      "text/html": [
       "\n",
       "        <div id=\"8qftcLDSSMFyTxBgSMuyqK\"></div>\n",
       "        <script>netpixi.call('8qftcLDSSMFyTxBgSMuyqK', 'K4weoEfgX3kSNzn3gxGtaY', 'changeGraph', 'eyJpZCI6IDM5LCAidHlwZSI6ICJ2ZXJ0ZXgiLCAicHJvcHMiOiB7InNpemUiOiA0MS44Mjg1NzE0Mjg1NzE0M319Cg==');</script>\n",
       "    "
      ],
      "text/plain": [
       "<IPython.core.display.HTML object>"
      ]
     },
     "metadata": {},
     "output_type": "display_data"
    },
    {
     "data": {
      "text/html": [
       "\n",
       "        <div id=\"VPh3ggBYajBEBGJ3Cg7BVR\"></div>\n",
       "        <script>netpixi.call('VPh3ggBYajBEBGJ3Cg7BVR', 'K4weoEfgX3kSNzn3gxGtaY', 'changeGraph', 'eyJpZCI6IDQwLCAidHlwZSI6ICJ2ZXJ0ZXgiLCAicHJvcHMiOiB7InNpemUiOiA0NC4wfX0K');</script>\n",
       "    "
      ],
      "text/plain": [
       "<IPython.core.display.HTML object>"
      ]
     },
     "metadata": {},
     "output_type": "display_data"
    },
    {
     "data": {
      "text/html": [
       "\n",
       "        <div id=\"EcdGYVCB3NXsFLkLFVPJde\"></div>\n",
       "        <script>netpixi.call('EcdGYVCB3NXsFLkLFVPJde', 'K4weoEfgX3kSNzn3gxGtaY', 'changeGraph', 'eyJpZCI6IDQxLCAidHlwZSI6ICJ2ZXJ0ZXgiLCAicHJvcHMiOiB7InNpemUiOiA0NS4yNTcxNDI4NTcxNDI4Nn19Cg==');</script>\n",
       "    "
      ],
      "text/plain": [
       "<IPython.core.display.HTML object>"
      ]
     },
     "metadata": {},
     "output_type": "display_data"
    },
    {
     "data": {
      "text/html": [
       "\n",
       "        <div id=\"oXpad5Rtm5HaqTTQG5pkkm\"></div>\n",
       "        <script>netpixi.call('oXpad5Rtm5HaqTTQG5pkkm', 'K4weoEfgX3kSNzn3gxGtaY', 'changeGraph', 'eyJpZCI6IDQyLCAidHlwZSI6ICJ2ZXJ0ZXgiLCAicHJvcHMiOiB7InNpemUiOiA0My45NDI4NTcxNDI4NTcxNH19Cg==');</script>\n",
       "    "
      ],
      "text/plain": [
       "<IPython.core.display.HTML object>"
      ]
     },
     "metadata": {},
     "output_type": "display_data"
    },
    {
     "data": {
      "text/html": [
       "\n",
       "        <div id=\"WMnpq6zEko4MgNvAA9uVn2\"></div>\n",
       "        <script>netpixi.call('WMnpq6zEko4MgNvAA9uVn2', 'K4weoEfgX3kSNzn3gxGtaY', 'changeGraph', 'eyJpZCI6IDQzLCAidHlwZSI6ICJ2ZXJ0ZXgiLCAicHJvcHMiOiB7InNpemUiOiA0Ni4yMjg1NzE0Mjg1NzE0M319Cg==');</script>\n",
       "    "
      ],
      "text/plain": [
       "<IPython.core.display.HTML object>"
      ]
     },
     "metadata": {},
     "output_type": "display_data"
    },
    {
     "data": {
      "text/html": [
       "\n",
       "        <div id=\"2MwzenwW4Byqwj7KpDB5iL\"></div>\n",
       "        <script>netpixi.call('2MwzenwW4Byqwj7KpDB5iL', 'K4weoEfgX3kSNzn3gxGtaY', 'changeGraph', 'eyJpZCI6IDQ0LCAidHlwZSI6ICJ2ZXJ0ZXgiLCAicHJvcHMiOiB7InNpemUiOiAxNS44NzM5MjU1MDE0MzI2NjR9fQo=');</script>\n",
       "    "
      ],
      "text/plain": [
       "<IPython.core.display.HTML object>"
      ]
     },
     "metadata": {},
     "output_type": "display_data"
    },
    {
     "data": {
      "text/html": [
       "\n",
       "        <div id=\"46a3r9jQveX5HSLavaUTNZ\"></div>\n",
       "        <script>netpixi.call('46a3r9jQveX5HSLavaUTNZ', 'K4weoEfgX3kSNzn3gxGtaY', 'changeGraph', 'eyJpZCI6IDQ1LCAidHlwZSI6ICJ2ZXJ0ZXgiLCAicHJvcHMiOiB7InNpemUiOiAxMi44MjIzNDk1NzAyMDA1NzJ9fQo=');</script>\n",
       "    "
      ],
      "text/plain": [
       "<IPython.core.display.HTML object>"
      ]
     },
     "metadata": {},
     "output_type": "display_data"
    },
    {
     "data": {
      "text/html": [
       "\n",
       "        <div id=\"en9JPb2oXND5LPape57Nvp\"></div>\n",
       "        <script>netpixi.call('en9JPb2oXND5LPape57Nvp', 'K4weoEfgX3kSNzn3gxGtaY', 'changeGraph', 'eyJpZCI6IDQ2LCAidHlwZSI6ICJ2ZXJ0ZXgiLCAicHJvcHMiOiB7InNpemUiOiAxMC4wODU5NTk4ODUzODY4MTl9fQo=');</script>\n",
       "    "
      ],
      "text/plain": [
       "<IPython.core.display.HTML object>"
      ]
     },
     "metadata": {},
     "output_type": "display_data"
    },
    {
     "data": {
      "text/html": [
       "\n",
       "        <div id=\"br8GncNJexUCGgfdKnSqfT\"></div>\n",
       "        <script>netpixi.call('br8GncNJexUCGgfdKnSqfT', 'K4weoEfgX3kSNzn3gxGtaY', 'changeGraph', 'eyJpZCI6IDQ3LCAidHlwZSI6ICJ2ZXJ0ZXgiLCAicHJvcHMiOiB7InNpemUiOiA0NS45NDI4NTcxNDI4NTcxNH19Cg==');</script>\n",
       "    "
      ],
      "text/plain": [
       "<IPython.core.display.HTML object>"
      ]
     },
     "metadata": {},
     "output_type": "display_data"
    },
    {
     "data": {
      "text/html": [
       "\n",
       "        <div id=\"duNAuRaiB4A6SAspEQCEwe\"></div>\n",
       "        <script>netpixi.call('duNAuRaiB4A6SAspEQCEwe', 'K4weoEfgX3kSNzn3gxGtaY', 'changeGraph', 'eyJpZCI6IDQ4LCAidHlwZSI6ICJ2ZXJ0ZXgiLCAicHJvcHMiOiB7InNpemUiOiAxNi4yMzIwOTE2OTA1NDQ0MX19Cg==');</script>\n",
       "    "
      ],
      "text/plain": [
       "<IPython.core.display.HTML object>"
      ]
     },
     "metadata": {},
     "output_type": "display_data"
    },
    {
     "data": {
      "text/html": [
       "\n",
       "        <div id=\"ijFbqMgXChVXWemJsm8BtH\"></div>\n",
       "        <script>netpixi.call('ijFbqMgXChVXWemJsm8BtH', 'K4weoEfgX3kSNzn3gxGtaY', 'changeGraph', 'eyJpZCI6IDQ5LCAidHlwZSI6ICJ2ZXJ0ZXgiLCAicHJvcHMiOiB7InNpemUiOiAxNy4yMDYzMDM3MjQ5MjgzNjh9fQo=');</script>\n",
       "    "
      ],
      "text/plain": [
       "<IPython.core.display.HTML object>"
      ]
     },
     "metadata": {},
     "output_type": "display_data"
    },
    {
     "data": {
      "text/html": [
       "\n",
       "        <div id=\"ctxKwrQg8WfHthzGiRSB3n\"></div>\n",
       "        <script>netpixi.call('ctxKwrQg8WfHthzGiRSB3n', 'K4weoEfgX3kSNzn3gxGtaY', 'changeGraph', 'eyJpZCI6IDUwLCAidHlwZSI6ICJ2ZXJ0ZXgiLCAicHJvcHMiOiB7InNpemUiOiAxOS43NzA3NzM2Mzg5Njg0OH19Cg==');</script>\n",
       "    "
      ],
      "text/plain": [
       "<IPython.core.display.HTML object>"
      ]
     },
     "metadata": {},
     "output_type": "display_data"
    },
    {
     "data": {
      "text/html": [
       "\n",
       "        <div id=\"5Aozf3xWuohgqbjEHoYaNv\"></div>\n",
       "        <script>netpixi.call('5Aozf3xWuohgqbjEHoYaNv', 'K4weoEfgX3kSNzn3gxGtaY', 'changeGraph', 'eyJpZCI6IDUxLCAidHlwZSI6ICJ2ZXJ0ZXgiLCAicHJvcHMiOiB7InNpemUiOiAxNC44MTM3NTM1ODE2NjE4OTJ9fQo=');</script>\n",
       "    "
      ],
      "text/plain": [
       "<IPython.core.display.HTML object>"
      ]
     },
     "metadata": {},
     "output_type": "display_data"
    },
    {
     "data": {
      "text/html": [
       "\n",
       "        <div id=\"4XB9tvdp4joboYjtYo6wiE\"></div>\n",
       "        <script>netpixi.call('4XB9tvdp4joboYjtYo6wiE', 'K4weoEfgX3kSNzn3gxGtaY', 'changeGraph', 'eyJpZCI6IDUyLCAidHlwZSI6ICJ2ZXJ0ZXgiLCAicHJvcHMiOiB7InNpemUiOiAxMC4xMjg5Mzk4MjgwODAyM319Cg==');</script>\n",
       "    "
      ],
      "text/plain": [
       "<IPython.core.display.HTML object>"
      ]
     },
     "metadata": {},
     "output_type": "display_data"
    },
    {
     "data": {
      "text/html": [
       "\n",
       "        <div id=\"Fx4VFxVY6zNwRN8rTDxhHJ\"></div>\n",
       "        <script>netpixi.call('Fx4VFxVY6zNwRN8rTDxhHJ', 'K4weoEfgX3kSNzn3gxGtaY', 'changeGraph', 'eyJpZCI6IDUzLCAidHlwZSI6ICJ2ZXJ0ZXgiLCAicHJvcHMiOiB7InNpemUiOiAxNC44NzEwNjAxNzE5MTk3N319Cg==');</script>\n",
       "    "
      ],
      "text/plain": [
       "<IPython.core.display.HTML object>"
      ]
     },
     "metadata": {},
     "output_type": "display_data"
    },
    {
     "data": {
      "text/html": [
       "\n",
       "        <div id=\"YxZXJo9MWQKmYUPbazC4is\"></div>\n",
       "        <script>netpixi.call('YxZXJo9MWQKmYUPbazC4is', 'K4weoEfgX3kSNzn3gxGtaY', 'changeGraph', 'eyJpZCI6IDU0LCAidHlwZSI6ICJ2ZXJ0ZXgiLCAicHJvcHMiOiB7InNpemUiOiA0NC44NTcxNDI4NTcxNDI4Nn19Cg==');</script>\n",
       "    "
      ],
      "text/plain": [
       "<IPython.core.display.HTML object>"
      ]
     },
     "metadata": {},
     "output_type": "display_data"
    },
    {
     "data": {
      "text/html": [
       "\n",
       "        <div id=\"We6Gr8uYUSwyrmLwMotwKq\"></div>\n",
       "        <script>netpixi.call('We6Gr8uYUSwyrmLwMotwKq', 'K4weoEfgX3kSNzn3gxGtaY', 'changeGraph', 'eyJpZCI6IDU1LCAidHlwZSI6ICJ2ZXJ0ZXgiLCAicHJvcHMiOiB7InNpemUiOiAxOC4xOTQ4NDI0MDY4NzY3OX19Cg==');</script>\n",
       "    "
      ],
      "text/plain": [
       "<IPython.core.display.HTML object>"
      ]
     },
     "metadata": {},
     "output_type": "display_data"
    },
    {
     "data": {
      "text/html": [
       "\n",
       "        <div id=\"Bwu7pcjfacYVc94J7N5ZvL\"></div>\n",
       "        <script>netpixi.call('Bwu7pcjfacYVc94J7N5ZvL', 'K4weoEfgX3kSNzn3gxGtaY', 'changeGraph', 'eyJpZCI6IDU2LCAidHlwZSI6ICJ2ZXJ0ZXgiLCAicHJvcHMiOiB7InNpemUiOiAxNy43MzYzODk2ODQ4MTM3NX19Cg==');</script>\n",
       "    "
      ],
      "text/plain": [
       "<IPython.core.display.HTML object>"
      ]
     },
     "metadata": {},
     "output_type": "display_data"
    },
    {
     "data": {
      "text/html": [
       "\n",
       "        <div id=\"Py9jFqmhkJ6BHdQMfVHtGU\"></div>\n",
       "        <script>netpixi.call('Py9jFqmhkJ6BHdQMfVHtGU', 'K4weoEfgX3kSNzn3gxGtaY', 'changeGraph', 'eyJpZCI6IDU3LCAidHlwZSI6ICJ2ZXJ0ZXgiLCAicHJvcHMiOiB7InNpemUiOiAxOS41MjcyMjA2MzAzNzI0OTR9fQo=');</script>\n",
       "    "
      ],
      "text/plain": [
       "<IPython.core.display.HTML object>"
      ]
     },
     "metadata": {},
     "output_type": "display_data"
    },
    {
     "data": {
      "text/html": [
       "\n",
       "        <div id=\"iUssHi6uwRkgM9Fojk2U3k\"></div>\n",
       "        <script>netpixi.call('iUssHi6uwRkgM9Fojk2U3k', 'K4weoEfgX3kSNzn3gxGtaY', 'changeGraph', 'eyJpZCI6IDU4LCAidHlwZSI6ICJ2ZXJ0ZXgiLCAicHJvcHMiOiB7InNpemUiOiAxNi44OTExMTc0Nzg1MTAwM319Cg==');</script>\n",
       "    "
      ],
      "text/plain": [
       "<IPython.core.display.HTML object>"
      ]
     },
     "metadata": {},
     "output_type": "display_data"
    },
    {
     "data": {
      "text/html": [
       "\n",
       "        <div id=\"ipMLNRjEWCyLAr9yq4qCFA\"></div>\n",
       "        <script>netpixi.call('ipMLNRjEWCyLAr9yq4qCFA', 'K4weoEfgX3kSNzn3gxGtaY', 'changeGraph', 'eyJpZCI6IDU5LCAidHlwZSI6ICJ2ZXJ0ZXgiLCAicHJvcHMiOiB7InNpemUiOiAxNi4xNjA0NTg0NTI3MjIwNn19Cg==');</script>\n",
       "    "
      ],
      "text/plain": [
       "<IPython.core.display.HTML object>"
      ]
     },
     "metadata": {},
     "output_type": "display_data"
    },
    {
     "data": {
      "text/html": [
       "\n",
       "        <div id=\"gGNGHDvYWuiqxRMUvcEbTN\"></div>\n",
       "        <script>netpixi.call('gGNGHDvYWuiqxRMUvcEbTN', 'K4weoEfgX3kSNzn3gxGtaY', 'changeGraph', 'eyJpZCI6IDYwLCAidHlwZSI6ICJ2ZXJ0ZXgiLCAicHJvcHMiOiB7InNpemUiOiAxOC44NTM4NjgxOTQ4NDI0MDZ9fQo=');</script>\n",
       "    "
      ],
      "text/plain": [
       "<IPython.core.display.HTML object>"
      ]
     },
     "metadata": {},
     "output_type": "display_data"
    },
    {
     "data": {
      "text/html": [
       "\n",
       "        <div id=\"NQRVtFoVYtov7H5CmnjbrB\"></div>\n",
       "        <script>netpixi.call('NQRVtFoVYtov7H5CmnjbrB', 'K4weoEfgX3kSNzn3gxGtaY', 'changeGraph', 'eyJpZCI6IDYxLCAidHlwZSI6ICJ2ZXJ0ZXgiLCAicHJvcHMiOiB7InNpemUiOiAxOS4wNTQ0NDEyNjA3NDQ5ODd9fQo=');</script>\n",
       "    "
      ],
      "text/plain": [
       "<IPython.core.display.HTML object>"
      ]
     },
     "metadata": {},
     "output_type": "display_data"
    },
    {
     "data": {
      "text/html": [
       "\n",
       "        <div id=\"SGjaXW6yU9MqGgjBBRgYB5\"></div>\n",
       "        <script>netpixi.call('SGjaXW6yU9MqGgjBBRgYB5', 'K4weoEfgX3kSNzn3gxGtaY', 'changeGraph', 'eyJpZCI6IDYyLCAidHlwZSI6ICJ2ZXJ0ZXgiLCAicHJvcHMiOiB7InNpemUiOiAxOS42MTMxODA1MTU3NTkzMX19Cg==');</script>\n",
       "    "
      ],
      "text/plain": [
       "<IPython.core.display.HTML object>"
      ]
     },
     "metadata": {},
     "output_type": "display_data"
    },
    {
     "data": {
      "text/html": [
       "\n",
       "        <div id=\"eWCy7XSdtWmrTw9aGBAL3u\"></div>\n",
       "        <script>netpixi.call('eWCy7XSdtWmrTw9aGBAL3u', 'K4weoEfgX3kSNzn3gxGtaY', 'changeGraph', 'eyJpZCI6IDYzLCAidHlwZSI6ICJ2ZXJ0ZXgiLCAicHJvcHMiOiB7InNpemUiOiAxMC4yMTQ4OTk3MTM0NjcwNDh9fQo=');</script>\n",
       "    "
      ],
      "text/plain": [
       "<IPython.core.display.HTML object>"
      ]
     },
     "metadata": {},
     "output_type": "display_data"
    },
    {
     "data": {
      "text/html": [
       "\n",
       "        <div id=\"Rhzc5aPcpUVQFEMqToeHqJ\"></div>\n",
       "        <script>netpixi.call('Rhzc5aPcpUVQFEMqToeHqJ', 'K4weoEfgX3kSNzn3gxGtaY', 'changeGraph', 'eyJpZCI6IDY0LCAidHlwZSI6ICJ2ZXJ0ZXgiLCAicHJvcHMiOiB7InNpemUiOiAxMC4wMjg2NTMyOTUxMjg5NH19Cg==');</script>\n",
       "    "
      ],
      "text/plain": [
       "<IPython.core.display.HTML object>"
      ]
     },
     "metadata": {},
     "output_type": "display_data"
    },
    {
     "data": {
      "text/html": [
       "\n",
       "        <div id=\"F92434PBieorG9qrKte9SX\"></div>\n",
       "        <script>netpixi.call('F92434PBieorG9qrKte9SX', 'K4weoEfgX3kSNzn3gxGtaY', 'changeGraph', 'eyJpZCI6IDY1LCAidHlwZSI6ICJ2ZXJ0ZXgiLCAicHJvcHMiOiB7InNpemUiOiAxMC4yNDM1NTMwMDg1OTU5ODh9fQo=');</script>\n",
       "    "
      ],
      "text/plain": [
       "<IPython.core.display.HTML object>"
      ]
     },
     "metadata": {},
     "output_type": "display_data"
    },
    {
     "data": {
      "text/html": [
       "\n",
       "        <div id=\"EQHGFZY39BGJx7sjAtzMmh\"></div>\n",
       "        <script>netpixi.call('EQHGFZY39BGJx7sjAtzMmh', 'K4weoEfgX3kSNzn3gxGtaY', 'changeGraph', 'eyJpZCI6IDY2LCAidHlwZSI6ICJ2ZXJ0ZXgiLCAicHJvcHMiOiB7InNpemUiOiAxOC4zODEwODg4MjUyMTQ5fX0K');</script>\n",
       "    "
      ],
      "text/plain": [
       "<IPython.core.display.HTML object>"
      ]
     },
     "metadata": {},
     "output_type": "display_data"
    },
    {
     "data": {
      "text/html": [
       "\n",
       "        <div id=\"bFQFGr4aBwxPgrVbeJefU3\"></div>\n",
       "        <script>netpixi.call('bFQFGr4aBwxPgrVbeJefU3', 'K4weoEfgX3kSNzn3gxGtaY', 'changeGraph', 'eyJpZCI6IDY3LCAidHlwZSI6ICJ2ZXJ0ZXgiLCAicHJvcHMiOiB7InNpemUiOiA0Ny4yNTcxNDI4NTcxNDI4Nn19Cg==');</script>\n",
       "    "
      ],
      "text/plain": [
       "<IPython.core.display.HTML object>"
      ]
     },
     "metadata": {},
     "output_type": "display_data"
    },
    {
     "data": {
      "text/html": [
       "\n",
       "        <div id=\"BpoFJ2RrAvf7VMVkENAc3p\"></div>\n",
       "        <script>netpixi.call('BpoFJ2RrAvf7VMVkENAc3p', 'K4weoEfgX3kSNzn3gxGtaY', 'changeGraph', 'eyJpZCI6IDY4LCAidHlwZSI6ICJ2ZXJ0ZXgiLCAicHJvcHMiOiB7InNpemUiOiA0Ny44ODU3MTQyODU3MTQyODZ9fQo=');</script>\n",
       "    "
      ],
      "text/plain": [
       "<IPython.core.display.HTML object>"
      ]
     },
     "metadata": {},
     "output_type": "display_data"
    },
    {
     "data": {
      "text/html": [
       "\n",
       "        <div id=\"Yb79vAUmrx3kQh7DCxcgcm\"></div>\n",
       "        <script>netpixi.call('Yb79vAUmrx3kQh7DCxcgcm', 'K4weoEfgX3kSNzn3gxGtaY', 'changeGraph', 'eyJpZCI6IDY5LCAidHlwZSI6ICJ2ZXJ0ZXgiLCAicHJvcHMiOiB7InNpemUiOiA0Ni42Mjg1NzE0Mjg1NzE0MjZ9fQo=');</script>\n",
       "    "
      ],
      "text/plain": [
       "<IPython.core.display.HTML object>"
      ]
     },
     "metadata": {},
     "output_type": "display_data"
    },
    {
     "data": {
      "text/html": [
       "\n",
       "        <div id=\"52Hqf9oKUbnbkySycfQSME\"></div>\n",
       "        <script>netpixi.call('52Hqf9oKUbnbkySycfQSME', 'K4weoEfgX3kSNzn3gxGtaY', 'changeGraph', 'eyJpZCI6IDcwLCAidHlwZSI6ICJ2ZXJ0ZXgiLCAicHJvcHMiOiB7InNpemUiOiA0OS4zMTQyODU3MTQyODU3Mn19Cg==');</script>\n",
       "    "
      ],
      "text/plain": [
       "<IPython.core.display.HTML object>"
      ]
     },
     "metadata": {},
     "output_type": "display_data"
    },
    {
     "data": {
      "text/html": [
       "\n",
       "        <div id=\"P6w88CpRrEUvpir9BTecUt\"></div>\n",
       "        <script>netpixi.call('P6w88CpRrEUvpir9BTecUt', 'K4weoEfgX3kSNzn3gxGtaY', 'changeGraph', 'eyJpZCI6IDcxLCAidHlwZSI6ICJ2ZXJ0ZXgiLCAicHJvcHMiOiB7InNpemUiOiAxOS42OTkxNDA0MDExNDYxM319Cg==');</script>\n",
       "    "
      ],
      "text/plain": [
       "<IPython.core.display.HTML object>"
      ]
     },
     "metadata": {},
     "output_type": "display_data"
    },
    {
     "data": {
      "text/html": [
       "\n",
       "        <div id=\"TVys9iw7ZbCFc8ZERCUvYj\"></div>\n",
       "        <script>netpixi.call('TVys9iw7ZbCFc8ZERCUvYj', 'K4weoEfgX3kSNzn3gxGtaY', 'changeGraph', 'eyJpZCI6IDcyLCAidHlwZSI6ICJ2ZXJ0ZXgiLCAicHJvcHMiOiB7InNpemUiOiAxNC44ODUzODY4MTk0ODQyNH19Cg==');</script>\n",
       "    "
      ],
      "text/plain": [
       "<IPython.core.display.HTML object>"
      ]
     },
     "metadata": {},
     "output_type": "display_data"
    },
    {
     "data": {
      "text/html": [
       "\n",
       "        <div id=\"EBSLAEatbzTyyeEWpizagb\"></div>\n",
       "        <script>netpixi.call('EBSLAEatbzTyyeEWpizagb', 'K4weoEfgX3kSNzn3gxGtaY', 'changeGraph', 'eyJpZCI6IDczLCAidHlwZSI6ICJ2ZXJ0ZXgiLCAicHJvcHMiOiB7InNpemUiOiAxOC4yNjY0NzU2NDQ2OTkxNDJ9fQo=');</script>\n",
       "    "
      ],
      "text/plain": [
       "<IPython.core.display.HTML object>"
      ]
     },
     "metadata": {},
     "output_type": "display_data"
    },
    {
     "data": {
      "text/html": [
       "\n",
       "        <div id=\"fyhLYQhjrpbCo7AfnnazNk\"></div>\n",
       "        <script>netpixi.call('fyhLYQhjrpbCo7AfnnazNk', 'K4weoEfgX3kSNzn3gxGtaY', 'changeGraph', 'eyJpZCI6IDc0LCAidHlwZSI6ICJ2ZXJ0ZXgiLCAicHJvcHMiOiB7InNpemUiOiAxNS4zMTUxODYyNDY0MTgzMzd9fQo=');</script>\n",
       "    "
      ],
      "text/plain": [
       "<IPython.core.display.HTML object>"
      ]
     },
     "metadata": {},
     "output_type": "display_data"
    },
    {
     "data": {
      "text/html": [
       "\n",
       "        <div id=\"XtsSPoqJJ4KSr4wVLhyWjs\"></div>\n",
       "        <script>netpixi.call('XtsSPoqJJ4KSr4wVLhyWjs', 'K4weoEfgX3kSNzn3gxGtaY', 'changeGraph', 'eyJpZCI6IDc1LCAidHlwZSI6ICJ2ZXJ0ZXgiLCAicHJvcHMiOiB7InNpemUiOiA0MC4yMjg1NzE0Mjg1NzE0M319Cg==');</script>\n",
       "    "
      ],
      "text/plain": [
       "<IPython.core.display.HTML object>"
      ]
     },
     "metadata": {},
     "output_type": "display_data"
    },
    {
     "data": {
      "text/html": [
       "\n",
       "        <div id=\"edjdmrzJMXg9WNS48sqrvs\"></div>\n",
       "        <script>netpixi.call('edjdmrzJMXg9WNS48sqrvs', 'K4weoEfgX3kSNzn3gxGtaY', 'changeGraph', 'eyJpZCI6IDc2LCAidHlwZSI6ICJ2ZXJ0ZXgiLCAicHJvcHMiOiB7InNpemUiOiAxNy43OTM2OTYyNzUwNzE2MzJ9fQo=');</script>\n",
       "    "
      ],
      "text/plain": [
       "<IPython.core.display.HTML object>"
      ]
     },
     "metadata": {},
     "output_type": "display_data"
    },
    {
     "data": {
      "text/html": [
       "\n",
       "        <div id=\"fyVEDAvaZKYFqmxYbCuFyB\"></div>\n",
       "        <script>netpixi.call('fyVEDAvaZKYFqmxYbCuFyB', 'K4weoEfgX3kSNzn3gxGtaY', 'changeGraph', 'eyJpZCI6IDc3LCAidHlwZSI6ICJ2ZXJ0ZXgiLCAicHJvcHMiOiB7InNpemUiOiAxOC42Njc2MjE3NzY1MDQyOTh9fQo=');</script>\n",
       "    "
      ],
      "text/plain": [
       "<IPython.core.display.HTML object>"
      ]
     },
     "metadata": {},
     "output_type": "display_data"
    },
    {
     "data": {
      "text/html": [
       "\n",
       "        <div id=\"byZ4UQAyukjy2TZdWMHu78\"></div>\n",
       "        <script>netpixi.call('byZ4UQAyukjy2TZdWMHu78', 'K4weoEfgX3kSNzn3gxGtaY', 'changeGraph', 'eyJpZCI6IDc4LCAidHlwZSI6ICJ2ZXJ0ZXgiLCAicHJvcHMiOiB7InNpemUiOiAxMC4zODY4MTk0ODQyNDA2ODh9fQo=');</script>\n",
       "    "
      ],
      "text/plain": [
       "<IPython.core.display.HTML object>"
      ]
     },
     "metadata": {},
     "output_type": "display_data"
    },
    {
     "data": {
      "text/html": [
       "\n",
       "        <div id=\"CdaB5mLtNCgEeKNkyfKEZe\"></div>\n",
       "        <script>netpixi.call('CdaB5mLtNCgEeKNkyfKEZe', 'K4weoEfgX3kSNzn3gxGtaY', 'changeGraph', 'eyJpZCI6IDc5LCAidHlwZSI6ICJ2ZXJ0ZXgiLCAicHJvcHMiOiB7InNpemUiOiAxMC42MTYwNDU4NDUyNzIyMDZ9fQo=');</script>\n",
       "    "
      ],
      "text/plain": [
       "<IPython.core.display.HTML object>"
      ]
     },
     "metadata": {},
     "output_type": "display_data"
    },
    {
     "data": {
      "text/html": [
       "\n",
       "        <div id=\"Aac9xq44KcKLDa6JpRm8aR\"></div>\n",
       "        <script>netpixi.call('Aac9xq44KcKLDa6JpRm8aR', 'K4weoEfgX3kSNzn3gxGtaY', 'changeGraph', 'eyJpZCI6IDgwLCAidHlwZSI6ICJ2ZXJ0ZXgiLCAicHJvcHMiOiB7InNpemUiOiAxNi44NjI0NjQxODMzODEwOX19Cg==');</script>\n",
       "    "
      ],
      "text/plain": [
       "<IPython.core.display.HTML object>"
      ]
     },
     "metadata": {},
     "output_type": "display_data"
    },
    {
     "data": {
      "text/html": [
       "\n",
       "        <div id=\"ASuukXrcafNrYi3dWzEq38\"></div>\n",
       "        <script>netpixi.call('ASuukXrcafNrYi3dWzEq38', 'K4weoEfgX3kSNzn3gxGtaY', 'changeGraph', 'eyJpZCI6IDgxLCAidHlwZSI6ICJ2ZXJ0ZXgiLCAicHJvcHMiOiB7InNpemUiOiAxOC45Njg0ODEzNzUzNTgxNjZ9fQo=');</script>\n",
       "    "
      ],
      "text/plain": [
       "<IPython.core.display.HTML object>"
      ]
     },
     "metadata": {},
     "output_type": "display_data"
    },
    {
     "data": {
      "text/html": [
       "\n",
       "        <div id=\"QReELC7UcDKBxv8pxiziHq\"></div>\n",
       "        <script>netpixi.call('QReELC7UcDKBxv8pxiziHq', 'K4weoEfgX3kSNzn3gxGtaY', 'changeGraph', 'eyJpZCI6IDgyLCAidHlwZSI6ICJ2ZXJ0ZXgiLCAicHJvcHMiOiB7InNpemUiOiA0Ni4wNTcxNDI4NTcxNDI4Nn19Cg==');</script>\n",
       "    "
      ],
      "text/plain": [
       "<IPython.core.display.HTML object>"
      ]
     },
     "metadata": {},
     "output_type": "display_data"
    },
    {
     "data": {
      "text/html": [
       "\n",
       "        <div id=\"UK8m5VjkwBYnZ5UpBR6KFz\"></div>\n",
       "        <script>netpixi.call('UK8m5VjkwBYnZ5UpBR6KFz', 'K4weoEfgX3kSNzn3gxGtaY', 'changeGraph', 'eyJpZCI6IDgzLCAidHlwZSI6ICJ2ZXJ0ZXgiLCAicHJvcHMiOiB7InNpemUiOiA0MC4wNTcxNDI4NTcxNDI4Nn19Cg==');</script>\n",
       "    "
      ],
      "text/plain": [
       "<IPython.core.display.HTML object>"
      ]
     },
     "metadata": {},
     "output_type": "display_data"
    },
    {
     "data": {
      "text/html": [
       "\n",
       "        <div id=\"3BHJeHidX6hNhymmEEvut8\"></div>\n",
       "        <script>netpixi.call('3BHJeHidX6hNhymmEEvut8', 'K4weoEfgX3kSNzn3gxGtaY', 'changeGraph', 'eyJpZCI6IDg0LCAidHlwZSI6ICJ2ZXJ0ZXgiLCAicHJvcHMiOiB7InNpemUiOiA0Ny4zNzE0Mjg1NzE0Mjg1NzR9fQo=');</script>\n",
       "    "
      ],
      "text/plain": [
       "<IPython.core.display.HTML object>"
      ]
     },
     "metadata": {},
     "output_type": "display_data"
    },
    {
     "data": {
      "text/html": [
       "\n",
       "        <div id=\"ExggioC8rXBxLpJKLHxFei\"></div>\n",
       "        <script>netpixi.call('ExggioC8rXBxLpJKLHxFei', 'K4weoEfgX3kSNzn3gxGtaY', 'changeGraph', 'eyJpZCI6IDg1LCAidHlwZSI6ICJ2ZXJ0ZXgiLCAicHJvcHMiOiB7InNpemUiOiA0OC42Mjg1NzE0Mjg1NzE0M319Cg==');</script>\n",
       "    "
      ],
      "text/plain": [
       "<IPython.core.display.HTML object>"
      ]
     },
     "metadata": {},
     "output_type": "display_data"
    },
    {
     "data": {
      "text/html": [
       "\n",
       "        <div id=\"GXqwYNvSCsQBmWb8ZPTnCy\"></div>\n",
       "        <script>netpixi.call('GXqwYNvSCsQBmWb8ZPTnCy', 'K4weoEfgX3kSNzn3gxGtaY', 'changeGraph', 'eyJpZCI6IDg2LCAidHlwZSI6ICJ2ZXJ0ZXgiLCAicHJvcHMiOiB7InNpemUiOiAxNy42NTA0Mjk3OTk0MjY5MzR9fQo=');</script>\n",
       "    "
      ],
      "text/plain": [
       "<IPython.core.display.HTML object>"
      ]
     },
     "metadata": {},
     "output_type": "display_data"
    },
    {
     "data": {
      "text/html": [
       "\n",
       "        <div id=\"QqFe7TbfvpRSAurUmRLADD\"></div>\n",
       "        <script>netpixi.call('QqFe7TbfvpRSAurUmRLADD', 'K4weoEfgX3kSNzn3gxGtaY', 'changeGraph', 'eyJpZCI6IDg3LCAidHlwZSI6ICJ2ZXJ0ZXgiLCAicHJvcHMiOiB7InNpemUiOiA0OC4zNDI4NTcxNDI4NTcxNH19Cg==');</script>\n",
       "    "
      ],
      "text/plain": [
       "<IPython.core.display.HTML object>"
      ]
     },
     "metadata": {},
     "output_type": "display_data"
    },
    {
     "data": {
      "text/html": [
       "\n",
       "        <div id=\"Ycv7R7oc9tQHkpFAsV2GEC\"></div>\n",
       "        <script>netpixi.call('Ycv7R7oc9tQHkpFAsV2GEC', 'K4weoEfgX3kSNzn3gxGtaY', 'changeGraph', 'eyJpZCI6IDg4LCAidHlwZSI6ICJ2ZXJ0ZXgiLCAicHJvcHMiOiB7InNpemUiOiA0Ny43MTQyODU3MTQyODU3MTV9fQo=');</script>\n",
       "    "
      ],
      "text/plain": [
       "<IPython.core.display.HTML object>"
      ]
     },
     "metadata": {},
     "output_type": "display_data"
    },
    {
     "data": {
      "text/html": [
       "\n",
       "        <div id=\"AE8xwx7Gb2jRPKqJPnV3bz\"></div>\n",
       "        <script>netpixi.call('AE8xwx7Gb2jRPKqJPnV3bz', 'K4weoEfgX3kSNzn3gxGtaY', 'changeGraph', 'eyJpZCI6IDg5LCAidHlwZSI6ICJ2ZXJ0ZXgiLCAicHJvcHMiOiB7InNpemUiOiA0NC42ODU3MTQyODU3MTQyOH19Cg==');</script>\n",
       "    "
      ],
      "text/plain": [
       "<IPython.core.display.HTML object>"
      ]
     },
     "metadata": {},
     "output_type": "display_data"
    },
    {
     "data": {
      "text/html": [
       "\n",
       "        <div id=\"8FvTTm4MsvANSKAmXoA9R2\"></div>\n",
       "        <script>netpixi.call('8FvTTm4MsvANSKAmXoA9R2', 'K4weoEfgX3kSNzn3gxGtaY', 'changeGraph', 'eyJpZCI6IDkwLCAidHlwZSI6ICJ2ZXJ0ZXgiLCAicHJvcHMiOiB7InNpemUiOiAxOS40Njk5MTQwNDAxMTQ2MTN9fQo=');</script>\n",
       "    "
      ],
      "text/plain": [
       "<IPython.core.display.HTML object>"
      ]
     },
     "metadata": {},
     "output_type": "display_data"
    },
    {
     "data": {
      "text/html": [
       "\n",
       "        <div id=\"YY4wW8VKZcMzNscJDXJUbr\"></div>\n",
       "        <script>netpixi.call('YY4wW8VKZcMzNscJDXJUbr', 'K4weoEfgX3kSNzn3gxGtaY', 'changeGraph', 'eyJpZCI6IDkxLCAidHlwZSI6ICJ2ZXJ0ZXgiLCAicHJvcHMiOiB7InNpemUiOiAxNy40NjQxODMzODEwODg4MjN9fQo=');</script>\n",
       "    "
      ],
      "text/plain": [
       "<IPython.core.display.HTML object>"
      ]
     },
     "metadata": {},
     "output_type": "display_data"
    },
    {
     "data": {
      "text/html": [
       "\n",
       "        <div id=\"TDG2UgtGKN9fUbrtMMQBTN\"></div>\n",
       "        <script>netpixi.call('TDG2UgtGKN9fUbrtMMQBTN', 'K4weoEfgX3kSNzn3gxGtaY', 'changeGraph', 'eyJpZCI6IDkyLCAidHlwZSI6ICJ2ZXJ0ZXgiLCAicHJvcHMiOiB7InNpemUiOiAxMC44MDIyOTIyNjM2MTAzMTV9fQo=');</script>\n",
       "    "
      ],
      "text/plain": [
       "<IPython.core.display.HTML object>"
      ]
     },
     "metadata": {},
     "output_type": "display_data"
    },
    {
     "data": {
      "text/html": [
       "\n",
       "        <div id=\"URApbuvUGuQeQtaJ9gkWya\"></div>\n",
       "        <script>netpixi.call('URApbuvUGuQeQtaJ9gkWya', 'K4weoEfgX3kSNzn3gxGtaY', 'changeGraph', 'eyJpZCI6IDkzLCAidHlwZSI6ICJ2ZXJ0ZXgiLCAicHJvcHMiOiB7InNpemUiOiAxMC42MDE3MTkxOTc3MDc3MzZ9fQo=');</script>\n",
       "    "
      ],
      "text/plain": [
       "<IPython.core.display.HTML object>"
      ]
     },
     "metadata": {},
     "output_type": "display_data"
    },
    {
     "data": {
      "text/html": [
       "\n",
       "        <div id=\"Mw4UNFgpNM6DJ5nvYYCDp4\"></div>\n",
       "        <script>netpixi.call('Mw4UNFgpNM6DJ5nvYYCDp4', 'K4weoEfgX3kSNzn3gxGtaY', 'changeGraph', 'eyJpZCI6IDk0LCAidHlwZSI6ICJ2ZXJ0ZXgiLCAicHJvcHMiOiB7InNpemUiOiAxOS44NDI0MDY4NzY3OTA4MzJ9fQo=');</script>\n",
       "    "
      ],
      "text/plain": [
       "<IPython.core.display.HTML object>"
      ]
     },
     "metadata": {},
     "output_type": "display_data"
    },
    {
     "data": {
      "text/html": [
       "\n",
       "        <div id=\"iBogz7x6i3TWLvr5JJwEAc\"></div>\n",
       "        <script>netpixi.call('iBogz7x6i3TWLvr5JJwEAc', 'K4weoEfgX3kSNzn3gxGtaY', 'changeGraph', 'eyJpZCI6IDk1LCAidHlwZSI6ICJ2ZXJ0ZXgiLCAicHJvcHMiOiB7InNpemUiOiAxOS45ODU2NzMzNTI0MzU1M319Cg==');</script>\n",
       "    "
      ],
      "text/plain": [
       "<IPython.core.display.HTML object>"
      ]
     },
     "metadata": {},
     "output_type": "display_data"
    },
    {
     "data": {
      "text/html": [
       "\n",
       "        <div id=\"RXx5pKxpPYjNoe86puBLY3\"></div>\n",
       "        <script>netpixi.call('RXx5pKxpPYjNoe86puBLY3', 'K4weoEfgX3kSNzn3gxGtaY', 'changeGraph', 'eyJpZCI6IDk2LCAidHlwZSI6ICJ2ZXJ0ZXgiLCAicHJvcHMiOiB7InNpemUiOiAxNC4yMTIwMzQzODM5NTQxNTV9fQo=');</script>\n",
       "    "
      ],
      "text/plain": [
       "<IPython.core.display.HTML object>"
      ]
     },
     "metadata": {},
     "output_type": "display_data"
    },
    {
     "data": {
      "text/html": [
       "\n",
       "        <div id=\"keXaYTry9BwL8zFtFfHfnW\"></div>\n",
       "        <script>netpixi.call('keXaYTry9BwL8zFtFfHfnW', 'K4weoEfgX3kSNzn3gxGtaY', 'changeGraph', 'eyJpZCI6IDk3LCAidHlwZSI6ICJ2ZXJ0ZXgiLCAicHJvcHMiOiB7InNpemUiOiA0Mi44NTcxNDI4NTcxNDI4NTR9fQo=');</script>\n",
       "    "
      ],
      "text/plain": [
       "<IPython.core.display.HTML object>"
      ]
     },
     "metadata": {},
     "output_type": "display_data"
    },
    {
     "data": {
      "text/html": [
       "\n",
       "        <div id=\"epSG5oLVNxSfPCY4iYwh6H\"></div>\n",
       "        <script>netpixi.call('epSG5oLVNxSfPCY4iYwh6H', 'K4weoEfgX3kSNzn3gxGtaY', 'changeGraph', 'eyJpZCI6IDk4LCAidHlwZSI6ICJ2ZXJ0ZXgiLCAicHJvcHMiOiB7InNpemUiOiAxNS40NTg0NTI3MjIwNjMwMzZ9fQo=');</script>\n",
       "    "
      ],
      "text/plain": [
       "<IPython.core.display.HTML object>"
      ]
     },
     "metadata": {},
     "output_type": "display_data"
    },
    {
     "data": {
      "text/html": [
       "\n",
       "        <div id=\"LiZsoJC5QQqC23FsGEvUDj\"></div>\n",
       "        <script>netpixi.call('LiZsoJC5QQqC23FsGEvUDj', 'K4weoEfgX3kSNzn3gxGtaY', 'changeGraph', 'eyJpZCI6IDk5LCAidHlwZSI6ICJ2ZXJ0ZXgiLCAicHJvcHMiOiB7InNpemUiOiAxMC45ODg1Mzg2ODE5NDg0MjN9fQo=');</script>\n",
       "    "
      ],
      "text/plain": [
       "<IPython.core.display.HTML object>"
      ]
     },
     "metadata": {},
     "output_type": "display_data"
    },
    {
     "data": {
      "text/html": [
       "\n",
       "        <div id=\"h9UtrWD8NMbBZ2tq6WSJ3r\"></div>\n",
       "        <script>netpixi.call('h9UtrWD8NMbBZ2tq6WSJ3r', 'K4weoEfgX3kSNzn3gxGtaY', 'changeGraph', 'eyJpZCI6IDEwMCwgInR5cGUiOiAidmVydGV4IiwgInByb3BzIjogeyJzaXplIjogMTguMDUxNTc1OTMxMjMyMDl9fQo=');</script>\n",
       "    "
      ],
      "text/plain": [
       "<IPython.core.display.HTML object>"
      ]
     },
     "metadata": {},
     "output_type": "display_data"
    },
    {
     "data": {
      "text/html": [
       "\n",
       "        <div id=\"gJff72LXdffRnvUxHSGToU\"></div>\n",
       "        <script>netpixi.call('gJff72LXdffRnvUxHSGToU', 'K4weoEfgX3kSNzn3gxGtaY', 'changeGraph', 'eyJpZCI6IDEwMSwgInR5cGUiOiAidmVydGV4IiwgInByb3BzIjogeyJzaXplIjogMTQuODQyNDA2ODc2NzkwODN9fQo=');</script>\n",
       "    "
      ],
      "text/plain": [
       "<IPython.core.display.HTML object>"
      ]
     },
     "metadata": {},
     "output_type": "display_data"
    },
    {
     "data": {
      "text/html": [
       "\n",
       "        <div id=\"H3TAYx9iu9WskaQn2jndk5\"></div>\n",
       "        <script>netpixi.call('H3TAYx9iu9WskaQn2jndk5', 'K4weoEfgX3kSNzn3gxGtaY', 'changeGraph', 'eyJpZCI6IDEwMiwgInR5cGUiOiAidmVydGV4IiwgInByb3BzIjogeyJzaXplIjogNDAuMjg1NzE0Mjg1NzE0Mjg1fX0K');</script>\n",
       "    "
      ],
      "text/plain": [
       "<IPython.core.display.HTML object>"
      ]
     },
     "metadata": {},
     "output_type": "display_data"
    },
    {
     "data": {
      "text/html": [
       "\n",
       "        <div id=\"9CVrrVzbZxzx7PZMjLSBsj\"></div>\n",
       "        <script>netpixi.call('9CVrrVzbZxzx7PZMjLSBsj', 'K4weoEfgX3kSNzn3gxGtaY', 'changeGraph', 'eyJpZCI6IDEwMywgInR5cGUiOiAidmVydGV4IiwgInByb3BzIjogeyJzaXplIjogMTAuNzczNjM4OTY4NDgxMzc1fX0K');</script>\n",
       "    "
      ],
      "text/plain": [
       "<IPython.core.display.HTML object>"
      ]
     },
     "metadata": {},
     "output_type": "display_data"
    },
    {
     "data": {
      "text/html": [
       "\n",
       "        <div id=\"DCRXr2HsJfuLTpoVUJrzA2\"></div>\n",
       "        <script>netpixi.call('DCRXr2HsJfuLTpoVUJrzA2', 'K4weoEfgX3kSNzn3gxGtaY', 'changeGraph', 'eyJpZCI6IDEwNCwgInR5cGUiOiAidmVydGV4IiwgInByb3BzIjogeyJzaXplIjogMTYuOTA1NDQ0MTI2MDc0NX19Cg==');</script>\n",
       "    "
      ],
      "text/plain": [
       "<IPython.core.display.HTML object>"
      ]
     },
     "metadata": {},
     "output_type": "display_data"
    },
    {
     "data": {
      "text/html": [
       "\n",
       "        <div id=\"nB46QsV3T9rWZYpRHLGHkp\"></div>\n",
       "        <script>netpixi.call('nB46QsV3T9rWZYpRHLGHkp', 'K4weoEfgX3kSNzn3gxGtaY', 'changeGraph', 'eyJpZCI6IDEwNSwgInR5cGUiOiAidmVydGV4IiwgInByb3BzIjogeyJzaXplIjogMTguNzgyMjM0OTU3MDIwMDZ9fQo=');</script>\n",
       "    "
      ],
      "text/plain": [
       "<IPython.core.display.HTML object>"
      ]
     },
     "metadata": {},
     "output_type": "display_data"
    },
    {
     "data": {
      "text/html": [
       "\n",
       "        <div id=\"A9CdmcxumJnbYJLHkR5hnR\"></div>\n",
       "        <script>netpixi.call('A9CdmcxumJnbYJLHkR5hnR', 'K4weoEfgX3kSNzn3gxGtaY', 'changeGraph', 'eyJpZCI6IDEwNiwgInR5cGUiOiAidmVydGV4IiwgInByb3BzIjogeyJzaXplIjogMTguNDk1NzAyMDA1NzMwNjU2fX0K');</script>\n",
       "    "
      ],
      "text/plain": [
       "<IPython.core.display.HTML object>"
      ]
     },
     "metadata": {},
     "output_type": "display_data"
    },
    {
     "data": {
      "text/html": [
       "\n",
       "        <div id=\"P6LHmyKZrQooGuRWN9eMvZ\"></div>\n",
       "        <script>netpixi.call('P6LHmyKZrQooGuRWN9eMvZ', 'K4weoEfgX3kSNzn3gxGtaY', 'changeGraph', 'eyJpZCI6IDEwNywgInR5cGUiOiAidmVydGV4IiwgInByb3BzIjogeyJzaXplIjogMTcuOTA4MzA5NDU1NTg3MzkzfX0K');</script>\n",
       "    "
      ],
      "text/plain": [
       "<IPython.core.display.HTML object>"
      ]
     },
     "metadata": {},
     "output_type": "display_data"
    },
    {
     "data": {
      "text/html": [
       "\n",
       "        <div id=\"cBcufmmHGq8Vy6rbPV8Wby\"></div>\n",
       "        <script>netpixi.call('cBcufmmHGq8Vy6rbPV8Wby', 'K4weoEfgX3kSNzn3gxGtaY', 'changeGraph', 'eyJpZCI6IDEwOCwgInR5cGUiOiAidmVydGV4IiwgInByb3BzIjogeyJzaXplIjogMTMuMjM3ODIyMzQ5NTcwMn19Cg==');</script>\n",
       "    "
      ],
      "text/plain": [
       "<IPython.core.display.HTML object>"
      ]
     },
     "metadata": {},
     "output_type": "display_data"
    },
    {
     "data": {
      "text/html": [
       "\n",
       "        <div id=\"QGZ26Aop4sfFVRMueXh6tU\"></div>\n",
       "        <script>netpixi.call('QGZ26Aop4sfFVRMueXh6tU', 'K4weoEfgX3kSNzn3gxGtaY', 'changeGraph', 'eyJpZCI6IDEwOSwgInR5cGUiOiAidmVydGV4IiwgInByb3BzIjogeyJzaXplIjogMTUuNzg3OTY1NjE2MDQ1ODQ1fX0K');</script>\n",
       "    "
      ],
      "text/plain": [
       "<IPython.core.display.HTML object>"
      ]
     },
     "metadata": {},
     "output_type": "display_data"
    },
    {
     "data": {
      "text/html": [
       "\n",
       "        <div id=\"WtispjsrrW2JbRy2HWPSSN\"></div>\n",
       "        <script>netpixi.call('WtispjsrrW2JbRy2HWPSSN', 'K4weoEfgX3kSNzn3gxGtaY', 'changeGraph', 'eyJpZCI6IDExMCwgInR5cGUiOiAidmVydGV4IiwgInByb3BzIjogeyJzaXplIjogMTUuNTczMDY1OTAyNTc4Nzk3fX0K');</script>\n",
       "    "
      ],
      "text/plain": [
       "<IPython.core.display.HTML object>"
      ]
     },
     "metadata": {},
     "output_type": "display_data"
    },
    {
     "data": {
      "text/html": [
       "\n",
       "        <div id=\"KFVEuUttRyHViHhgMZwVKt\"></div>\n",
       "        <script>netpixi.call('KFVEuUttRyHViHhgMZwVKt', 'K4weoEfgX3kSNzn3gxGtaY', 'changeGraph', 'eyJpZCI6IDExMSwgInR5cGUiOiAidmVydGV4IiwgInByb3BzIjogeyJzaXplIjogMTguMTIzMjA5MTY5MDU0NDR9fQo=');</script>\n",
       "    "
      ],
      "text/plain": [
       "<IPython.core.display.HTML object>"
      ]
     },
     "metadata": {},
     "output_type": "display_data"
    },
    {
     "data": {
      "text/html": [
       "\n",
       "        <div id=\"G6UN8SNuf4QYvwfBqip7e2\"></div>\n",
       "        <script>netpixi.call('G6UN8SNuf4QYvwfBqip7e2', 'K4weoEfgX3kSNzn3gxGtaY', 'changeGraph', 'eyJpZCI6IDExMiwgInR5cGUiOiAidmVydGV4IiwgInByb3BzIjogeyJzaXplIjogNDMuMzE0Mjg1NzE0Mjg1NzJ9fQo=');</script>\n",
       "    "
      ],
      "text/plain": [
       "<IPython.core.display.HTML object>"
      ]
     },
     "metadata": {},
     "output_type": "display_data"
    },
    {
     "data": {
      "text/html": [
       "\n",
       "        <div id=\"mdKydwbCfeK39MyiNVMoWv\"></div>\n",
       "        <script>netpixi.call('mdKydwbCfeK39MyiNVMoWv', 'K4weoEfgX3kSNzn3gxGtaY', 'changeGraph', 'eyJpZCI6IDExMywgInR5cGUiOiAidmVydGV4IiwgInByb3BzIjogeyJzaXplIjogNDMuMTk5OTk5OTk5OTk5OTk2fX0K');</script>\n",
       "    "
      ],
      "text/plain": [
       "<IPython.core.display.HTML object>"
      ]
     },
     "metadata": {},
     "output_type": "display_data"
    },
    {
     "data": {
      "text/html": [
       "\n",
       "        <div id=\"NkXoGb9JJaHLNsX6HNbkVP\"></div>\n",
       "        <script>netpixi.call('NkXoGb9JJaHLNsX6HNbkVP', 'K4weoEfgX3kSNzn3gxGtaY', 'changeGraph', 'eyJpZCI6IDExNCwgInR5cGUiOiAidmVydGV4IiwgInByb3BzIjogeyJzaXplIjogNDIuOTE0Mjg1NzE0Mjg1NzF9fQo=');</script>\n",
       "    "
      ],
      "text/plain": [
       "<IPython.core.display.HTML object>"
      ]
     },
     "metadata": {},
     "output_type": "display_data"
    },
    {
     "data": {
      "text/html": [
       "\n",
       "        <div id=\"FPdFVLxGAKrQFKfTpDrKCN\"></div>\n",
       "        <script>netpixi.call('FPdFVLxGAKrQFKfTpDrKCN', 'K4weoEfgX3kSNzn3gxGtaY', 'changeGraph', 'eyJpZCI6IDExNSwgInR5cGUiOiAidmVydGV4IiwgInByb3BzIjogeyJzaXplIjogMTcuNDc4NTEwMDI4NjUzMjk3fX0K');</script>\n",
       "    "
      ],
      "text/plain": [
       "<IPython.core.display.HTML object>"
      ]
     },
     "metadata": {},
     "output_type": "display_data"
    },
    {
     "data": {
      "text/html": [
       "\n",
       "        <div id=\"8GaKbntABGXxGcRTV9zwSZ\"></div>\n",
       "        <script>netpixi.call('8GaKbntABGXxGcRTV9zwSZ', 'K4weoEfgX3kSNzn3gxGtaY', 'changeGraph', 'eyJpZCI6IDExNiwgInR5cGUiOiAidmVydGV4IiwgInByb3BzIjogeyJzaXplIjogMTAuNTczMDY1OTAyNTc4Nzk3fX0K');</script>\n",
       "    "
      ],
      "text/plain": [
       "<IPython.core.display.HTML object>"
      ]
     },
     "metadata": {},
     "output_type": "display_data"
    },
    {
     "data": {
      "text/html": [
       "\n",
       "        <div id=\"4arNx93CYmoDpWEsiX8Hyn\"></div>\n",
       "        <script>netpixi.call('4arNx93CYmoDpWEsiX8Hyn', 'K4weoEfgX3kSNzn3gxGtaY', 'changeGraph', 'eyJpZCI6IDExNywgInR5cGUiOiAidmVydGV4IiwgInByb3BzIjogeyJzaXplIjogMTAuNjg3Njc5MDgzMDk0NTU2fX0K');</script>\n",
       "    "
      ],
      "text/plain": [
       "<IPython.core.display.HTML object>"
      ]
     },
     "metadata": {},
     "output_type": "display_data"
    },
    {
     "data": {
      "text/html": [
       "\n",
       "        <div id=\"XWoQrhJ6CrsoU2CQjR9A3Z\"></div>\n",
       "        <script>netpixi.call('XWoQrhJ6CrsoU2CQjR9A3Z', 'K4weoEfgX3kSNzn3gxGtaY', 'changeGraph', 'eyJpZCI6IDExOCwgInR5cGUiOiAidmVydGV4IiwgInByb3BzIjogeyJzaXplIjogMTQuNzEzNDY3MDQ4NzEwNjAxfX0K');</script>\n",
       "    "
      ],
      "text/plain": [
       "<IPython.core.display.HTML object>"
      ]
     },
     "metadata": {},
     "output_type": "display_data"
    },
    {
     "data": {
      "text/html": [
       "\n",
       "        <div id=\"EhdQXQ9ffwdyCShMn6p99C\"></div>\n",
       "        <script>netpixi.call('EhdQXQ9ffwdyCShMn6p99C', 'K4weoEfgX3kSNzn3gxGtaY', 'changeGraph', 'eyJpZCI6IDExOSwgInR5cGUiOiAidmVydGV4IiwgInByb3BzIjogeyJzaXplIjogNDIuMjI4NTcxNDI4NTcxNDN9fQo=');</script>\n",
       "    "
      ],
      "text/plain": [
       "<IPython.core.display.HTML object>"
      ]
     },
     "metadata": {},
     "output_type": "display_data"
    },
    {
     "data": {
      "text/html": [
       "\n",
       "        <div id=\"ZUUAak3kQ3N6zEz6ewvJVn\"></div>\n",
       "        <script>netpixi.call('ZUUAak3kQ3N6zEz6ewvJVn', 'K4weoEfgX3kSNzn3gxGtaY', 'changeGraph', 'eyJpZCI6IDEyMCwgInR5cGUiOiAidmVydGV4IiwgInByb3BzIjogeyJzaXplIjogNDUuMDg1NzE0Mjg1NzE0Mjh9fQo=');</script>\n",
       "    "
      ],
      "text/plain": [
       "<IPython.core.display.HTML object>"
      ]
     },
     "metadata": {},
     "output_type": "display_data"
    },
    {
     "data": {
      "text/html": [
       "\n",
       "        <div id=\"NmN8urfNfVTzoMT9ez65tC\"></div>\n",
       "        <script>netpixi.call('NmN8urfNfVTzoMT9ez65tC', 'K4weoEfgX3kSNzn3gxGtaY', 'changeGraph', 'eyJpZCI6IDEyMSwgInR5cGUiOiAidmVydGV4IiwgInByb3BzIjogeyJzaXplIjogNDQuNTE0Mjg1NzE0Mjg1NzF9fQo=');</script>\n",
       "    "
      ],
      "text/plain": [
       "<IPython.core.display.HTML object>"
      ]
     },
     "metadata": {},
     "output_type": "display_data"
    },
    {
     "data": {
      "text/html": [
       "\n",
       "        <div id=\"5pYkRhSdMoGjZRcNDeFFun\"></div>\n",
       "        <script>netpixi.call('5pYkRhSdMoGjZRcNDeFFun', 'K4weoEfgX3kSNzn3gxGtaY', 'changeGraph', 'eyJpZCI6IDEyMiwgInR5cGUiOiAidmVydGV4IiwgInByb3BzIjogeyJzaXplIjogNDUuODg1NzE0Mjg1NzE0Mjg2fX0K');</script>\n",
       "    "
      ],
      "text/plain": [
       "<IPython.core.display.HTML object>"
      ]
     },
     "metadata": {},
     "output_type": "display_data"
    },
    {
     "data": {
      "text/html": [
       "\n",
       "        <div id=\"Ajv7hUHoKGtZF8UTV3o3p8\"></div>\n",
       "        <script>netpixi.call('Ajv7hUHoKGtZF8UTV3o3p8', 'K4weoEfgX3kSNzn3gxGtaY', 'changeGraph', 'eyJpZCI6IDEyMywgInR5cGUiOiAidmVydGV4IiwgInByb3BzIjogeyJzaXplIjogMTAuMjAwNTczMDY1OTAyNTc4fX0K');</script>\n",
       "    "
      ],
      "text/plain": [
       "<IPython.core.display.HTML object>"
      ]
     },
     "metadata": {},
     "output_type": "display_data"
    },
    {
     "data": {
      "text/html": [
       "\n",
       "        <div id=\"MszDmQtYaRJ9hysxVtYdge\"></div>\n",
       "        <script>netpixi.call('MszDmQtYaRJ9hysxVtYdge', 'K4weoEfgX3kSNzn3gxGtaY', 'changeGraph', 'eyJpZCI6IDEyNCwgInR5cGUiOiAidmVydGV4IiwgInByb3BzIjogeyJzaXplIjogNDMuNzcxNDI4NTcxNDI4NTd9fQo=');</script>\n",
       "    "
      ],
      "text/plain": [
       "<IPython.core.display.HTML object>"
      ]
     },
     "metadata": {},
     "output_type": "display_data"
    },
    {
     "data": {
      "text/html": [
       "\n",
       "        <div id=\"SxWbnWkNSUeoQspWZ66KKu\"></div>\n",
       "        <script>netpixi.call('SxWbnWkNSUeoQspWZ66KKu', 'K4weoEfgX3kSNzn3gxGtaY', 'changeGraph', 'eyJpZCI6IDEyNSwgInR5cGUiOiAidmVydGV4IiwgInByb3BzIjogeyJzaXplIjogMTUuOTMxMjMyMDkxNjkwNTQ1fX0K');</script>\n",
       "    "
      ],
      "text/plain": [
       "<IPython.core.display.HTML object>"
      ]
     },
     "metadata": {},
     "output_type": "display_data"
    },
    {
     "data": {
      "text/html": [
       "\n",
       "        <div id=\"azMRAYkuusRRVGPPBPcW4V\"></div>\n",
       "        <script>netpixi.call('azMRAYkuusRRVGPPBPcW4V', 'K4weoEfgX3kSNzn3gxGtaY', 'changeGraph', 'eyJpZCI6IDEyNiwgInR5cGUiOiAidmVydGV4IiwgInByb3BzIjogeyJzaXplIjogNDguMjg1NzE0Mjg1NzE0Mjg1fX0K');</script>\n",
       "    "
      ],
      "text/plain": [
       "<IPython.core.display.HTML object>"
      ]
     },
     "metadata": {},
     "output_type": "display_data"
    },
    {
     "data": {
      "text/html": [
       "\n",
       "        <div id=\"U4Kyk2YFHY5hnRNTG4b2TY\"></div>\n",
       "        <script>netpixi.call('U4Kyk2YFHY5hnRNTG4b2TY', 'K4weoEfgX3kSNzn3gxGtaY', 'changeGraph', 'eyJpZCI6IDEyNywgInR5cGUiOiAidmVydGV4IiwgInByb3BzIjogeyJzaXplIjogNDYuODAwMDAwMDAwMDAwMDA0fX0K');</script>\n",
       "    "
      ],
      "text/plain": [
       "<IPython.core.display.HTML object>"
      ]
     },
     "metadata": {},
     "output_type": "display_data"
    },
    {
     "data": {
      "text/html": [
       "\n",
       "        <div id=\"CqgvRYGHnmTrxvRmxyhwQY\"></div>\n",
       "        <script>netpixi.call('CqgvRYGHnmTrxvRmxyhwQY', 'K4weoEfgX3kSNzn3gxGtaY', 'changeGraph', 'eyJpZCI6IDEyOCwgInR5cGUiOiAidmVydGV4IiwgInByb3BzIjogeyJzaXplIjogMTYuNDc1NjQ0Njk5MTQwNH19Cg==');</script>\n",
       "    "
      ],
      "text/plain": [
       "<IPython.core.display.HTML object>"
      ]
     },
     "metadata": {},
     "output_type": "display_data"
    },
    {
     "data": {
      "text/html": [
       "\n",
       "        <div id=\"H8gTjZLUZcM4SJ5sqvXQCd\"></div>\n",
       "        <script>netpixi.call('H8gTjZLUZcM4SJ5sqvXQCd', 'K4weoEfgX3kSNzn3gxGtaY', 'changeGraph', 'eyJpZCI6IDEyOSwgInR5cGUiOiAidmVydGV4IiwgInByb3BzIjogeyJzaXplIjogMTAuMzcyNDkyODM2Njc2MjE3fX0K');</script>\n",
       "    "
      ],
      "text/plain": [
       "<IPython.core.display.HTML object>"
      ]
     },
     "metadata": {},
     "output_type": "display_data"
    },
    {
     "data": {
      "text/html": [
       "\n",
       "        <div id=\"oDvLNtHuYQtyvEXECAaaXo\"></div>\n",
       "        <script>netpixi.call('oDvLNtHuYQtyvEXECAaaXo', 'K4weoEfgX3kSNzn3gxGtaY', 'changeGraph', 'eyJpZCI6IDEzMCwgInR5cGUiOiAidmVydGV4IiwgInByb3BzIjogeyJzaXplIjogNDUuNzcxNDI4NTcxNDI4NTd9fQo=');</script>\n",
       "    "
      ],
      "text/plain": [
       "<IPython.core.display.HTML object>"
      ]
     },
     "metadata": {},
     "output_type": "display_data"
    },
    {
     "data": {
      "text/html": [
       "\n",
       "        <div id=\"G4qhcFbooPit5G5XKzWnn5\"></div>\n",
       "        <script>netpixi.call('G4qhcFbooPit5G5XKzWnn5', 'K4weoEfgX3kSNzn3gxGtaY', 'changeGraph', 'eyJpZCI6IDEzMSwgInR5cGUiOiAidmVydGV4IiwgInByb3BzIjogeyJzaXplIjogNDYuODU3MTQyODU3MTQyODZ9fQo=');</script>\n",
       "    "
      ],
      "text/plain": [
       "<IPython.core.display.HTML object>"
      ]
     },
     "metadata": {},
     "output_type": "display_data"
    },
    {
     "data": {
      "text/html": [
       "\n",
       "        <div id=\"ck2KPSdqZum7Udxpe7ctD9\"></div>\n",
       "        <script>netpixi.call('ck2KPSdqZum7Udxpe7ctD9', 'K4weoEfgX3kSNzn3gxGtaY', 'changeGraph', 'eyJpZCI6IDEzMiwgInR5cGUiOiAidmVydGV4IiwgInByb3BzIjogeyJzaXplIjogNDkuNzE0Mjg1NzE0Mjg1NzE1fX0K');</script>\n",
       "    "
      ],
      "text/plain": [
       "<IPython.core.display.HTML object>"
      ]
     },
     "metadata": {},
     "output_type": "display_data"
    },
    {
     "data": {
      "text/html": [
       "\n",
       "        <div id=\"3RUWV4ztouhVb7WipUuMt6\"></div>\n",
       "        <script>netpixi.call('3RUWV4ztouhVb7WipUuMt6', 'K4weoEfgX3kSNzn3gxGtaY', 'changeGraph', 'eyJpZCI6IDEzMywgInR5cGUiOiAidmVydGV4IiwgInByb3BzIjogeyJzaXplIjogNDkuMzcxNDI4NTcxNDI4NTc0fX0K');</script>\n",
       "    "
      ],
      "text/plain": [
       "<IPython.core.display.HTML object>"
      ]
     },
     "metadata": {},
     "output_type": "display_data"
    },
    {
     "data": {
      "text/html": [
       "\n",
       "        <div id=\"YTyBaeDdUHyFp73Qar5SYF\"></div>\n",
       "        <script>netpixi.call('YTyBaeDdUHyFp73Qar5SYF', 'K4weoEfgX3kSNzn3gxGtaY', 'changeGraph', 'eyJpZCI6IDEzNCwgInR5cGUiOiAidmVydGV4IiwgInByb3BzIjogeyJzaXplIjogNDguOTE0Mjg1NzE0Mjg1NzF9fQo=');</script>\n",
       "    "
      ],
      "text/plain": [
       "<IPython.core.display.HTML object>"
      ]
     },
     "metadata": {},
     "output_type": "display_data"
    },
    {
     "data": {
      "text/html": [
       "\n",
       "        <div id=\"eXHbMd6acFXiSzz7UkWN3h\"></div>\n",
       "        <script>netpixi.call('eXHbMd6acFXiSzz7UkWN3h', 'K4weoEfgX3kSNzn3gxGtaY', 'changeGraph', 'eyJpZCI6IDEzNSwgInR5cGUiOiAidmVydGV4IiwgInByb3BzIjogeyJzaXplIjogMTYuOTkxNDA0MDExNDYxMzE3fX0K');</script>\n",
       "    "
      ],
      "text/plain": [
       "<IPython.core.display.HTML object>"
      ]
     },
     "metadata": {},
     "output_type": "display_data"
    },
    {
     "data": {
      "text/html": [
       "\n",
       "        <div id=\"kzzCj3GBTZTsScewR5fD2h\"></div>\n",
       "        <script>netpixi.call('kzzCj3GBTZTsScewR5fD2h', 'K4weoEfgX3kSNzn3gxGtaY', 'changeGraph', 'eyJpZCI6IDEzNiwgInR5cGUiOiAidmVydGV4IiwgInByb3BzIjogeyJzaXplIjogNDAuNH19Cg==');</script>\n",
       "    "
      ],
      "text/plain": [
       "<IPython.core.display.HTML object>"
      ]
     },
     "metadata": {},
     "output_type": "display_data"
    },
    {
     "data": {
      "text/html": [
       "\n",
       "        <div id=\"PHsnZa7MKET8r9Yvu8ZWKs\"></div>\n",
       "        <script>netpixi.call('PHsnZa7MKET8r9Yvu8ZWKs', 'K4weoEfgX3kSNzn3gxGtaY', 'changeGraph', 'eyJpZCI6IDEzNywgInR5cGUiOiAidmVydGV4IiwgInByb3BzIjogeyJzaXplIjogNDQuOH19Cg==');</script>\n",
       "    "
      ],
      "text/plain": [
       "<IPython.core.display.HTML object>"
      ]
     },
     "metadata": {},
     "output_type": "display_data"
    },
    {
     "data": {
      "text/html": [
       "\n",
       "        <div id=\"5Sqi69LJeChU7tNuaixmHR\"></div>\n",
       "        <script>netpixi.call('5Sqi69LJeChU7tNuaixmHR', 'K4weoEfgX3kSNzn3gxGtaY', 'changeGraph', 'eyJpZCI6IDEzOCwgInR5cGUiOiAidmVydGV4IiwgInByb3BzIjogeyJzaXplIjogMTEuMjAzNDM4Mzk1NDE1NDczfX0K');</script>\n",
       "    "
      ],
      "text/plain": [
       "<IPython.core.display.HTML object>"
      ]
     },
     "metadata": {},
     "output_type": "display_data"
    },
    {
     "data": {
      "text/html": [
       "\n",
       "        <div id=\"4eF2AWStVRKuanb2K9h63t\"></div>\n",
       "        <script>netpixi.call('4eF2AWStVRKuanb2K9h63t', 'K4weoEfgX3kSNzn3gxGtaY', 'changeGraph', 'eyJpZCI6IDEzOSwgInR5cGUiOiAidmVydGV4IiwgInByb3BzIjogeyJzaXplIjogNDMuNzE0Mjg1NzE0Mjg1NzE1fX0K');</script>\n",
       "    "
      ],
      "text/plain": [
       "<IPython.core.display.HTML object>"
      ]
     },
     "metadata": {},
     "output_type": "display_data"
    },
    {
     "data": {
      "text/html": [
       "\n",
       "        <div id=\"9LYEUs25QaGVTTEsVUdRaC\"></div>\n",
       "        <script>netpixi.call('9LYEUs25QaGVTTEsVUdRaC', 'K4weoEfgX3kSNzn3gxGtaY', 'changeGraph', 'eyJpZCI6IDE0MCwgInR5cGUiOiAidmVydGV4IiwgInByb3BzIjogeyJzaXplIjogMTUuNjQ0Njk5MTQwNDAxMTQ2fX0K');</script>\n",
       "    "
      ],
      "text/plain": [
       "<IPython.core.display.HTML object>"
      ]
     },
     "metadata": {},
     "output_type": "display_data"
    },
    {
     "data": {
      "text/html": [
       "\n",
       "        <div id=\"XdNuSJLMVx8TX82CK6EBDn\"></div>\n",
       "        <script>netpixi.call('XdNuSJLMVx8TX82CK6EBDn', 'K4weoEfgX3kSNzn3gxGtaY', 'changeGraph', 'eyJpZCI6IDE0MSwgInR5cGUiOiAidmVydGV4IiwgInByb3BzIjogeyJzaXplIjogNDkuODg1NzE0Mjg1NzE0Mjg2fX0K');</script>\n",
       "    "
      ],
      "text/plain": [
       "<IPython.core.display.HTML object>"
      ]
     },
     "metadata": {},
     "output_type": "display_data"
    },
    {
     "data": {
      "text/html": [
       "\n",
       "        <div id=\"7JpKGN2RTHqVRFgjDkggnd\"></div>\n",
       "        <script>netpixi.call('7JpKGN2RTHqVRFgjDkggnd', 'K4weoEfgX3kSNzn3gxGtaY', 'changeGraph', 'eyJpZCI6IDE0MiwgInR5cGUiOiAidmVydGV4IiwgInByb3BzIjogeyJzaXplIjogNDkuNn19Cg==');</script>\n",
       "    "
      ],
      "text/plain": [
       "<IPython.core.display.HTML object>"
      ]
     },
     "metadata": {},
     "output_type": "display_data"
    },
    {
     "data": {
      "text/html": [
       "\n",
       "        <div id=\"8hQSPyzShzgz6h9FpmhSTc\"></div>\n",
       "        <script>netpixi.call('8hQSPyzShzgz6h9FpmhSTc', 'K4weoEfgX3kSNzn3gxGtaY', 'changeGraph', 'eyJpZCI6IDE0MywgInR5cGUiOiAidmVydGV4IiwgInByb3BzIjogeyJzaXplIjogMTYuMjAzNDM4Mzk1NDE1NDc1fX0K');</script>\n",
       "    "
      ],
      "text/plain": [
       "<IPython.core.display.HTML object>"
      ]
     },
     "metadata": {},
     "output_type": "display_data"
    },
    {
     "data": {
      "text/html": [
       "\n",
       "        <div id=\"gJWzeNLd52eqz5GXzKKDnn\"></div>\n",
       "        <script>netpixi.call('gJWzeNLd52eqz5GXzKKDnn', 'K4weoEfgX3kSNzn3gxGtaY', 'changeGraph', 'eyJpZCI6IDE0NCwgInR5cGUiOiAidmVydGV4IiwgInByb3BzIjogeyJzaXplIjogNDkuMDI4NTcxNDI4NTcxNDN9fQo=');</script>\n",
       "    "
      ],
      "text/plain": [
       "<IPython.core.display.HTML object>"
      ]
     },
     "metadata": {},
     "output_type": "display_data"
    },
    {
     "data": {
      "text/html": [
       "\n",
       "        <div id=\"QLVdQbvdJTyfUUnMPtGBvb\"></div>\n",
       "        <script>netpixi.call('QLVdQbvdJTyfUUnMPtGBvb', 'K4weoEfgX3kSNzn3gxGtaY', 'changeGraph', 'eyJpZCI6IDE0NSwgInR5cGUiOiAidmVydGV4IiwgInByb3BzIjogeyJzaXplIjogNDkuMn19Cg==');</script>\n",
       "    "
      ],
      "text/plain": [
       "<IPython.core.display.HTML object>"
      ]
     },
     "metadata": {},
     "output_type": "display_data"
    },
    {
     "data": {
      "text/html": [
       "\n",
       "        <div id=\"ZV32o53SGFLVgFav3ycNc4\"></div>\n",
       "        <script>netpixi.call('ZV32o53SGFLVgFav3ycNc4', 'K4weoEfgX3kSNzn3gxGtaY', 'changeGraph', 'eyJpZCI6IDE0NiwgInR5cGUiOiAidmVydGV4IiwgInByb3BzIjogeyJzaXplIjogNDkuNjU3MTQyODU3MTQyODZ9fQo=');</script>\n",
       "    "
      ],
      "text/plain": [
       "<IPython.core.display.HTML object>"
      ]
     },
     "metadata": {},
     "output_type": "display_data"
    },
    {
     "data": {
      "text/html": [
       "\n",
       "        <div id=\"2oDnFEgdTNrj4myiBoAffM\"></div>\n",
       "        <script>netpixi.call('2oDnFEgdTNrj4myiBoAffM', 'K4weoEfgX3kSNzn3gxGtaY', 'changeGraph', 'eyJpZCI6IDE0NywgInR5cGUiOiAidmVydGV4IiwgInByb3BzIjogeyJzaXplIjogNDYuNTE0Mjg1NzE0Mjg1NzF9fQo=');</script>\n",
       "    "
      ],
      "text/plain": [
       "<IPython.core.display.HTML object>"
      ]
     },
     "metadata": {},
     "output_type": "display_data"
    },
    {
     "data": {
      "text/html": [
       "\n",
       "        <div id=\"UdtWUcuqS6VV97FrmUvaVF\"></div>\n",
       "        <script>netpixi.call('UdtWUcuqS6VV97FrmUvaVF', 'K4weoEfgX3kSNzn3gxGtaY', 'changeGraph', 'eyJpZCI6IDE0OCwgInR5cGUiOiAidmVydGV4IiwgInByb3BzIjogeyJzaXplIjogNDcuOTQyODU3MTQyODU3MTR9fQo=');</script>\n",
       "    "
      ],
      "text/plain": [
       "<IPython.core.display.HTML object>"
      ]
     },
     "metadata": {},
     "output_type": "display_data"
    },
    {
     "data": {
      "text/html": [
       "\n",
       "        <div id=\"4LwwLoTSKZry3SHV5az6Wx\"></div>\n",
       "        <script>netpixi.call('4LwwLoTSKZry3SHV5az6Wx', 'K4weoEfgX3kSNzn3gxGtaY', 'changeGraph', 'eyJpZCI6IDE0OSwgInR5cGUiOiAidmVydGV4IiwgInByb3BzIjogeyJzaXplIjogNDkuNDg1NzE0Mjg1NzE0Mjh9fQo=');</script>\n",
       "    "
      ],
      "text/plain": [
       "<IPython.core.display.HTML object>"
      ]
     },
     "metadata": {},
     "output_type": "display_data"
    },
    {
     "data": {
      "text/html": [
       "\n",
       "        <div id=\"FyvJackUWh6svbFRoBUgpK\"></div>\n",
       "        <script>netpixi.call('FyvJackUWh6svbFRoBUgpK', 'K4weoEfgX3kSNzn3gxGtaY', 'changeGraph', 'eyJpZCI6IDE1MCwgInR5cGUiOiAidmVydGV4IiwgInByb3BzIjogeyJzaXplIjogNDkuMjU3MTQyODU3MTQyODZ9fQo=');</script>\n",
       "    "
      ],
      "text/plain": [
       "<IPython.core.display.HTML object>"
      ]
     },
     "metadata": {},
     "output_type": "display_data"
    },
    {
     "data": {
      "text/html": [
       "\n",
       "        <div id=\"V7jDpKmVCyNDEdPASjjEgi\"></div>\n",
       "        <script>netpixi.call('V7jDpKmVCyNDEdPASjjEgi', 'K4weoEfgX3kSNzn3gxGtaY', 'changeGraph', 'eyJpZCI6IDE1MSwgInR5cGUiOiAidmVydGV4IiwgInByb3BzIjogeyJzaXplIjogMTguMzUyNDM1NTMwMDg1OTZ9fQo=');</script>\n",
       "    "
      ],
      "text/plain": [
       "<IPython.core.display.HTML object>"
      ]
     },
     "metadata": {},
     "output_type": "display_data"
    },
    {
     "data": {
      "text/html": [
       "\n",
       "        <div id=\"JNJMYchvtB4BZT9H96F26J\"></div>\n",
       "        <script>netpixi.call('JNJMYchvtB4BZT9H96F26J', 'K4weoEfgX3kSNzn3gxGtaY', 'changeGraph', 'eyJpZCI6IDE1MiwgInR5cGUiOiAidmVydGV4IiwgInByb3BzIjogeyJzaXplIjogNDguNzQyODU3MTQyODU3MTV9fQo=');</script>\n",
       "    "
      ],
      "text/plain": [
       "<IPython.core.display.HTML object>"
      ]
     },
     "metadata": {},
     "output_type": "display_data"
    },
    {
     "data": {
      "text/html": [
       "\n",
       "        <div id=\"CEn5NuSexBcB3ceoHWMrSL\"></div>\n",
       "        <script>netpixi.call('CEn5NuSexBcB3ceoHWMrSL', 'K4weoEfgX3kSNzn3gxGtaY', 'changeGraph', 'eyJpZCI6IDE1MywgInR5cGUiOiAidmVydGV4IiwgInByb3BzIjogeyJzaXplIjogNDYuOTE0Mjg1NzE0Mjg1NzF9fQo=');</script>\n",
       "    "
      ],
      "text/plain": [
       "<IPython.core.display.HTML object>"
      ]
     },
     "metadata": {},
     "output_type": "display_data"
    },
    {
     "data": {
      "text/html": [
       "\n",
       "        <div id=\"cx4MNaDAMvRYaRi8juV7gC\"></div>\n",
       "        <script>netpixi.call('cx4MNaDAMvRYaRi8juV7gC', 'K4weoEfgX3kSNzn3gxGtaY', 'changeGraph', 'eyJpZCI6IDE1NCwgInR5cGUiOiAidmVydGV4IiwgInByb3BzIjogeyJzaXplIjogMTUuMTQzMjY2NDc1NjQ0N319Cg==');</script>\n",
       "    "
      ],
      "text/plain": [
       "<IPython.core.display.HTML object>"
      ]
     },
     "metadata": {},
     "output_type": "display_data"
    },
    {
     "data": {
      "text/html": [
       "\n",
       "        <div id=\"BYwjF9pwFZd8J7pACTeEgJ\"></div>\n",
       "        <script>netpixi.call('BYwjF9pwFZd8J7pACTeEgJ', 'K4weoEfgX3kSNzn3gxGtaY', 'changeGraph', 'eyJpZCI6IDE1NSwgInR5cGUiOiAidmVydGV4IiwgInByb3BzIjogeyJzaXplIjogMTguOTk3MTM0NjcwNDg3MTA3fX0K');</script>\n",
       "    "
      ],
      "text/plain": [
       "<IPython.core.display.HTML object>"
      ]
     },
     "metadata": {},
     "output_type": "display_data"
    },
    {
     "data": {
      "text/html": [
       "\n",
       "        <div id=\"jqpFSoQ5wmeVA4292fah3k\"></div>\n",
       "        <script>netpixi.call('jqpFSoQ5wmeVA4292fah3k', 'K4weoEfgX3kSNzn3gxGtaY', 'changeGraph', 'eyJpZCI6IDE1NiwgInR5cGUiOiAidmVydGV4IiwgInByb3BzIjogeyJzaXplIjogMTkuMjQwNjg3Njc5MDgzMDk1fX0K');</script>\n",
       "    "
      ],
      "text/plain": [
       "<IPython.core.display.HTML object>"
      ]
     },
     "metadata": {},
     "output_type": "display_data"
    },
    {
     "data": {
      "text/html": [
       "\n",
       "        <div id=\"XcznMnFPyGcrdDdRhmBafq\"></div>\n",
       "        <script>netpixi.call('XcznMnFPyGcrdDdRhmBafq', 'K4weoEfgX3kSNzn3gxGtaY', 'changeGraph', 'eyJpZCI6IDE1NywgInR5cGUiOiAidmVydGV4IiwgInByb3BzIjogeyJzaXplIjogMTguOTI1NTAxNDMyNjY0NzU2fX0K');</script>\n",
       "    "
      ],
      "text/plain": [
       "<IPython.core.display.HTML object>"
      ]
     },
     "metadata": {},
     "output_type": "display_data"
    },
    {
     "data": {
      "text/html": [
       "\n",
       "        <div id=\"dAxbPMeStbJTNUoPLZJdEe\"></div>\n",
       "        <script>netpixi.call('dAxbPMeStbJTNUoPLZJdEe', 'K4weoEfgX3kSNzn3gxGtaY', 'changeGraph', 'eyJpZCI6IDE1OCwgInR5cGUiOiAidmVydGV4IiwgInByb3BzIjogeyJzaXplIjogNDcuMTk5OTk5OTk5OTk5OTk2fX0K');</script>\n",
       "    "
      ],
      "text/plain": [
       "<IPython.core.display.HTML object>"
      ]
     },
     "metadata": {},
     "output_type": "display_data"
    },
    {
     "data": {
      "text/html": [
       "\n",
       "        <div id=\"HkSMi26Nmo7oPUx8eE6tQV\"></div>\n",
       "        <script>netpixi.call('HkSMi26Nmo7oPUx8eE6tQV', 'K4weoEfgX3kSNzn3gxGtaY', 'changeGraph', 'eyJpZCI6IDE1OSwgInR5cGUiOiAidmVydGV4IiwgInByb3BzIjogeyJzaXplIjogMTguNDY3MDQ4NzEwNjAxNzJ9fQo=');</script>\n",
       "    "
      ],
      "text/plain": [
       "<IPython.core.display.HTML object>"
      ]
     },
     "metadata": {},
     "output_type": "display_data"
    },
    {
     "data": {
      "text/html": [
       "\n",
       "        <div id=\"gBL6eZAF9ZdcnJNnyJdsk4\"></div>\n",
       "        <script>netpixi.call('gBL6eZAF9ZdcnJNnyJdsk4', 'K4weoEfgX3kSNzn3gxGtaY', 'changeGraph', 'eyJpZCI6IDE2MCwgInR5cGUiOiAidmVydGV4IiwgInByb3BzIjogeyJzaXplIjogNDEuMTQyODU3MTQyODU3MTR9fQo=');</script>\n",
       "    "
      ],
      "text/plain": [
       "<IPython.core.display.HTML object>"
      ]
     },
     "metadata": {},
     "output_type": "display_data"
    },
    {
     "data": {
      "text/html": [
       "\n",
       "        <div id=\"mGYWUmm3KSbhW8pmdW7LAs\"></div>\n",
       "        <script>netpixi.call('mGYWUmm3KSbhW8pmdW7LAs', 'K4weoEfgX3kSNzn3gxGtaY', 'changeGraph', 'eyJpZCI6IDE2MSwgInR5cGUiOiAidmVydGV4IiwgInByb3BzIjogeyJzaXplIjogNDQuNjI4NTcxNDI4NTcxNDI2fX0K');</script>\n",
       "    "
      ],
      "text/plain": [
       "<IPython.core.display.HTML object>"
      ]
     },
     "metadata": {},
     "output_type": "display_data"
    },
    {
     "data": {
      "text/html": [
       "\n",
       "        <div id=\"GciejP7padbaSULqxzqpTk\"></div>\n",
       "        <script>netpixi.call('GciejP7padbaSULqxzqpTk', 'K4weoEfgX3kSNzn3gxGtaY', 'changeGraph', 'eyJpZCI6IDE2MiwgInR5cGUiOiAidmVydGV4IiwgInByb3BzIjogeyJzaXplIjogMTguNzY3OTA4MzA5NDU1NTl9fQo=');</script>\n",
       "    "
      ],
      "text/plain": [
       "<IPython.core.display.HTML object>"
      ]
     },
     "metadata": {},
     "output_type": "display_data"
    },
    {
     "data": {
      "text/html": [
       "\n",
       "        <div id=\"nutUJicuZhxerA4wUB2DX7\"></div>\n",
       "        <script>netpixi.call('nutUJicuZhxerA4wUB2DX7', 'K4weoEfgX3kSNzn3gxGtaY', 'changeGraph', 'eyJpZCI6IDE2MywgInR5cGUiOiAidmVydGV4IiwgInByb3BzIjogeyJzaXplIjogNDMuNjU3MTQyODU3MTQyODZ9fQo=');</script>\n",
       "    "
      ],
      "text/plain": [
       "<IPython.core.display.HTML object>"
      ]
     },
     "metadata": {},
     "output_type": "display_data"
    },
    {
     "data": {
      "text/html": [
       "\n",
       "        <div id=\"42URDoD7B5EhHEY5NGGj4s\"></div>\n",
       "        <script>netpixi.call('42URDoD7B5EhHEY5NGGj4s', 'K4weoEfgX3kSNzn3gxGtaY', 'changeGraph', 'eyJpZCI6IDE2NCwgInR5cGUiOiAidmVydGV4IiwgInByb3BzIjogeyJzaXplIjogNDMuMzcxNDI4NTcxNDI4NTc0fX0K');</script>\n",
       "    "
      ],
      "text/plain": [
       "<IPython.core.display.HTML object>"
      ]
     },
     "metadata": {},
     "output_type": "display_data"
    },
    {
     "data": {
      "text/html": [
       "\n",
       "        <div id=\"Mn2TZSQY9739qHX4NSvtuY\"></div>\n",
       "        <script>netpixi.call('Mn2TZSQY9739qHX4NSvtuY', 'K4weoEfgX3kSNzn3gxGtaY', 'changeGraph', 'eyJpZCI6IDE2NSwgInR5cGUiOiAidmVydGV4IiwgInByb3BzIjogeyJzaXplIjogNDAuOTcxNDI4NTcxNDI4NTd9fQo=');</script>\n",
       "    "
      ],
      "text/plain": [
       "<IPython.core.display.HTML object>"
      ]
     },
     "metadata": {},
     "output_type": "display_data"
    },
    {
     "data": {
      "text/html": [
       "\n",
       "        <div id=\"Z7R9UmrxMGj2mTHFnPq3gi\"></div>\n",
       "        <script>netpixi.call('Z7R9UmrxMGj2mTHFnPq3gi', 'K4weoEfgX3kSNzn3gxGtaY', 'changeGraph', 'eyJpZCI6IDE2NiwgInR5cGUiOiAidmVydGV4IiwgInByb3BzIjogeyJzaXplIjogMTguNzI0OTI4MzY2NzYyMTc4fX0K');</script>\n",
       "    "
      ],
      "text/plain": [
       "<IPython.core.display.HTML object>"
      ]
     },
     "metadata": {},
     "output_type": "display_data"
    },
    {
     "data": {
      "text/html": [
       "\n",
       "        <div id=\"RybCVxSZgzE4ZXhgmxLUEM\"></div>\n",
       "        <script>netpixi.call('RybCVxSZgzE4ZXhgmxLUEM', 'K4weoEfgX3kSNzn3gxGtaY', 'changeGraph', 'eyJpZCI6IDE2NywgInR5cGUiOiAidmVydGV4IiwgInByb3BzIjogeyJzaXplIjogNDUuMDI4NTcxNDI4NTcxNDI1fX0K');</script>\n",
       "    "
      ],
      "text/plain": [
       "<IPython.core.display.HTML object>"
      ]
     },
     "metadata": {},
     "output_type": "display_data"
    },
    {
     "data": {
      "text/html": [
       "\n",
       "        <div id=\"FUchbVcGPXXMBEWSbmo8Rz\"></div>\n",
       "        <script>netpixi.call('FUchbVcGPXXMBEWSbmo8Rz', 'K4weoEfgX3kSNzn3gxGtaY', 'changeGraph', 'eyJpZCI6IDE2OCwgInR5cGUiOiAidmVydGV4IiwgInByb3BzIjogeyJzaXplIjogMTcuOTUxMjg5Mzk4MjgwODAzfX0K');</script>\n",
       "    "
      ],
      "text/plain": [
       "<IPython.core.display.HTML object>"
      ]
     },
     "metadata": {},
     "output_type": "display_data"
    },
    {
     "data": {
      "text/html": [
       "\n",
       "        <div id=\"Bk3v2Bi5hpekPj2SQ4LVCE\"></div>\n",
       "        <script>netpixi.call('Bk3v2Bi5hpekPj2SQ4LVCE', 'K4weoEfgX3kSNzn3gxGtaY', 'changeGraph', 'eyJpZCI6IDE2OSwgInR5cGUiOiAidmVydGV4IiwgInByb3BzIjogeyJzaXplIjogMTYuNjMzMjM3ODIyMzQ5NTd9fQo=');</script>\n",
       "    "
      ],
      "text/plain": [
       "<IPython.core.display.HTML object>"
      ]
     },
     "metadata": {},
     "output_type": "display_data"
    },
    {
     "data": {
      "text/html": [
       "\n",
       "        <div id=\"dkEDUBvPwp7L5FuiqHhw9A\"></div>\n",
       "        <script>netpixi.call('dkEDUBvPwp7L5FuiqHhw9A', 'K4weoEfgX3kSNzn3gxGtaY', 'changeGraph', 'eyJpZCI6IDE3MCwgInR5cGUiOiAidmVydGV4IiwgInByb3BzIjogeyJzaXplIjogMTYuMjE3NzY1MDQyOTc5OTR9fQo=');</script>\n",
       "    "
      ],
      "text/plain": [
       "<IPython.core.display.HTML object>"
      ]
     },
     "metadata": {},
     "output_type": "display_data"
    },
    {
     "data": {
      "text/html": [
       "\n",
       "        <div id=\"Dx62HN9zCuMJh4iFGGk9Ej\"></div>\n",
       "        <script>netpixi.call('Dx62HN9zCuMJh4iFGGk9Ej', 'K4weoEfgX3kSNzn3gxGtaY', 'changeGraph', 'eyJpZCI6IDE3MSwgInR5cGUiOiAidmVydGV4IiwgInByb3BzIjogeyJzaXplIjogNDUuODI4NTcxNDI4NTcxNDN9fQo=');</script>\n",
       "    "
      ],
      "text/plain": [
       "<IPython.core.display.HTML object>"
      ]
     },
     "metadata": {},
     "output_type": "display_data"
    },
    {
     "data": {
      "text/html": [
       "\n",
       "        <div id=\"atKEFR3yZDLc8ph7ucL46E\"></div>\n",
       "        <script>netpixi.call('atKEFR3yZDLc8ph7ucL46E', 'K4weoEfgX3kSNzn3gxGtaY', 'changeGraph', 'eyJpZCI6IDE3MiwgInR5cGUiOiAidmVydGV4IiwgInByb3BzIjogeyJzaXplIjogMTEuNjkwNTQ0NDEyNjA3NDV9fQo=');</script>\n",
       "    "
      ],
      "text/plain": [
       "<IPython.core.display.HTML object>"
      ]
     },
     "metadata": {},
     "output_type": "display_data"
    },
    {
     "data": {
      "text/html": [
       "\n",
       "        <div id=\"8ErWHt93hFYcAqLnBacqM9\"></div>\n",
       "        <script>netpixi.call('8ErWHt93hFYcAqLnBacqM9', 'K4weoEfgX3kSNzn3gxGtaY', 'changeGraph', 'eyJpZCI6IDE3MywgInR5cGUiOiAidmVydGV4IiwgInByb3BzIjogeyJzaXplIjogNDguMH19Cg==');</script>\n",
       "    "
      ],
      "text/plain": [
       "<IPython.core.display.HTML object>"
      ]
     },
     "metadata": {},
     "output_type": "display_data"
    },
    {
     "data": {
      "text/html": [
       "\n",
       "        <div id=\"XEs3Kd9jYyxweC2x9TYuoZ\"></div>\n",
       "        <script>netpixi.call('XEs3Kd9jYyxweC2x9TYuoZ', 'K4weoEfgX3kSNzn3gxGtaY', 'changeGraph', 'eyJpZCI6IDE3NCwgInR5cGUiOiAidmVydGV4IiwgInByb3BzIjogeyJzaXplIjogMTYuMzMyMzc4MjIzNDk1NzAyfX0K');</script>\n",
       "    "
      ],
      "text/plain": [
       "<IPython.core.display.HTML object>"
      ]
     },
     "metadata": {},
     "output_type": "display_data"
    },
    {
     "data": {
      "text/html": [
       "\n",
       "        <div id=\"mHZtwYoczefomFeGrJ9JUR\"></div>\n",
       "        <script>netpixi.call('mHZtwYoczefomFeGrJ9JUR', 'K4weoEfgX3kSNzn3gxGtaY', 'changeGraph', 'eyJpZCI6IDE3NSwgInR5cGUiOiAidmVydGV4IiwgInByb3BzIjogeyJzaXplIjogNDguMjI4NTcxNDI4NTcxNDN9fQo=');</script>\n",
       "    "
      ],
      "text/plain": [
       "<IPython.core.display.HTML object>"
      ]
     },
     "metadata": {},
     "output_type": "display_data"
    },
    {
     "data": {
      "text/html": [
       "\n",
       "        <div id=\"A8GS5WwJ4BaKyjgRxWqcC7\"></div>\n",
       "        <script>netpixi.call('A8GS5WwJ4BaKyjgRxWqcC7', 'K4weoEfgX3kSNzn3gxGtaY', 'changeGraph', 'eyJpZCI6IDE3NiwgInR5cGUiOiAidmVydGV4IiwgInByb3BzIjogeyJzaXplIjogMTcuMzIwOTE2OTA1NDQ0MTI1fX0K');</script>\n",
       "    "
      ],
      "text/plain": [
       "<IPython.core.display.HTML object>"
      ]
     },
     "metadata": {},
     "output_type": "display_data"
    },
    {
     "data": {
      "text/html": [
       "\n",
       "        <div id=\"iYAu9rmTwcjVeRhNAf35eD\"></div>\n",
       "        <script>netpixi.call('iYAu9rmTwcjVeRhNAf35eD', 'K4weoEfgX3kSNzn3gxGtaY', 'changeGraph', 'eyJpZCI6IDE3NywgInR5cGUiOiAidmVydGV4IiwgInByb3BzIjogeyJzaXplIjogMTIuNDkyODM2Njc2MjE3NzY1fX0K');</script>\n",
       "    "
      ],
      "text/plain": [
       "<IPython.core.display.HTML object>"
      ]
     },
     "metadata": {},
     "output_type": "display_data"
    },
    {
     "data": {
      "text/html": [
       "\n",
       "        <div id=\"Jfu2iYJxzow5LcposTdaga\"></div>\n",
       "        <script>netpixi.call('Jfu2iYJxzow5LcposTdaga', 'K4weoEfgX3kSNzn3gxGtaY', 'changeGraph', 'eyJpZCI6IDE3OCwgInR5cGUiOiAidmVydGV4IiwgInByb3BzIjogeyJzaXplIjogNDkuMTQyODU3MTQyODU3MTR9fQo=');</script>\n",
       "    "
      ],
      "text/plain": [
       "<IPython.core.display.HTML object>"
      ]
     },
     "metadata": {},
     "output_type": "display_data"
    },
    {
     "data": {
      "text/html": [
       "\n",
       "        <div id=\"c6rcoY4VZwAfpqy4JfQ8MG\"></div>\n",
       "        <script>netpixi.call('c6rcoY4VZwAfpqy4JfQ8MG', 'K4weoEfgX3kSNzn3gxGtaY', 'changeGraph', 'eyJpZCI6IDE3OSwgInR5cGUiOiAidmVydGV4IiwgInByb3BzIjogeyJzaXplIjogNDYuNjg1NzE0Mjg1NzE0Mjh9fQo=');</script>\n",
       "    "
      ],
      "text/plain": [
       "<IPython.core.display.HTML object>"
      ]
     },
     "metadata": {},
     "output_type": "display_data"
    },
    {
     "data": {
      "text/html": [
       "\n",
       "        <div id=\"LMXXYFY8nbqJzzMGKvY4Xm\"></div>\n",
       "        <script>netpixi.call('LMXXYFY8nbqJzzMGKvY4Xm', 'K4weoEfgX3kSNzn3gxGtaY', 'changeGraph', 'eyJpZCI6IDE4MCwgInR5cGUiOiAidmVydGV4IiwgInByb3BzIjogeyJzaXplIjogNDcuNTQyODU3MTQyODU3MTQ0fX0K');</script>\n",
       "    "
      ],
      "text/plain": [
       "<IPython.core.display.HTML object>"
      ]
     },
     "metadata": {},
     "output_type": "display_data"
    },
    {
     "data": {
      "text/html": [
       "\n",
       "        <div id=\"3gH6uNdbj9dgijEc5tuNgu\"></div>\n",
       "        <script>netpixi.call('3gH6uNdbj9dgijEc5tuNgu', 'K4weoEfgX3kSNzn3gxGtaY', 'changeGraph', 'eyJpZCI6IDE4MSwgInR5cGUiOiAidmVydGV4IiwgInByb3BzIjogeyJzaXplIjogNDguNDU3MTQyODU3MTQyODU2fX0K');</script>\n",
       "    "
      ],
      "text/plain": [
       "<IPython.core.display.HTML object>"
      ]
     },
     "metadata": {},
     "output_type": "display_data"
    },
    {
     "data": {
      "text/html": [
       "\n",
       "        <div id=\"2XiFYNQ83NK38fmz9FZQ94\"></div>\n",
       "        <script>netpixi.call('2XiFYNQ83NK38fmz9FZQ94', 'K4weoEfgX3kSNzn3gxGtaY', 'changeGraph', 'eyJpZCI6IDE4MiwgInR5cGUiOiAidmVydGV4IiwgInByb3BzIjogeyJzaXplIjogMTcuNTc4Nzk2NTYxNjA0NTg0fX0K');</script>\n",
       "    "
      ],
      "text/plain": [
       "<IPython.core.display.HTML object>"
      ]
     },
     "metadata": {},
     "output_type": "display_data"
    },
    {
     "data": {
      "text/html": [
       "\n",
       "        <div id=\"KsELuZsVMdgFkLtH6JJj2Q\"></div>\n",
       "        <script>netpixi.call('KsELuZsVMdgFkLtH6JJj2Q', 'K4weoEfgX3kSNzn3gxGtaY', 'changeGraph', 'eyJpZCI6IDE4MywgInR5cGUiOiAidmVydGV4IiwgInByb3BzIjogeyJzaXplIjogNDIuNjg1NzE0Mjg1NzE0Mjh9fQo=');</script>\n",
       "    "
      ],
      "text/plain": [
       "<IPython.core.display.HTML object>"
      ]
     },
     "metadata": {},
     "output_type": "display_data"
    },
    {
     "data": {
      "text/html": [
       "\n",
       "        <div id=\"jDM6ApHHY3ehpzmPTCKXWR\"></div>\n",
       "        <script>netpixi.call('jDM6ApHHY3ehpzmPTCKXWR', 'K4weoEfgX3kSNzn3gxGtaY', 'changeGraph', 'eyJpZCI6IDE4NCwgInR5cGUiOiAidmVydGV4IiwgInByb3BzIjogeyJzaXplIjogMTUuMTE0NjEzMTgwNTE1NzU5fX0K');</script>\n",
       "    "
      ],
      "text/plain": [
       "<IPython.core.display.HTML object>"
      ]
     },
     "metadata": {},
     "output_type": "display_data"
    },
    {
     "data": {
      "text/html": [
       "\n",
       "        <div id=\"EyvDFuSTXwUwycZNwuHDaB\"></div>\n",
       "        <script>netpixi.call('EyvDFuSTXwUwycZNwuHDaB', 'K4weoEfgX3kSNzn3gxGtaY', 'changeGraph', 'eyJpZCI6IDE4NSwgInR5cGUiOiAidmVydGV4IiwgInByb3BzIjogeyJzaXplIjogMTcuMzM1MjQzNTUzMDA4NTk2fX0K');</script>\n",
       "    "
      ],
      "text/plain": [
       "<IPython.core.display.HTML object>"
      ]
     },
     "metadata": {},
     "output_type": "display_data"
    },
    {
     "data": {
      "text/html": [
       "\n",
       "        <div id=\"V4Vwug3YMDXpGejMqXTqqt\"></div>\n",
       "        <script>netpixi.call('V4Vwug3YMDXpGejMqXTqqt', 'K4weoEfgX3kSNzn3gxGtaY', 'changeGraph', 'eyJpZCI6IDE4NiwgInR5cGUiOiAidmVydGV4IiwgInByb3BzIjogeyJzaXplIjogMTkuNjI3NTA3MTYzMzIzNzg0fX0K');</script>\n",
       "    "
      ],
      "text/plain": [
       "<IPython.core.display.HTML object>"
      ]
     },
     "metadata": {},
     "output_type": "display_data"
    },
    {
     "data": {
      "text/html": [
       "\n",
       "        <div id=\"ejyBHFLpm9EXW7z7PekQnz\"></div>\n",
       "        <script>netpixi.call('ejyBHFLpm9EXW7z7PekQnz', 'K4weoEfgX3kSNzn3gxGtaY', 'changeGraph', 'eyJpZCI6IDE4NywgInR5cGUiOiAidmVydGV4IiwgInByb3BzIjogeyJzaXplIjogNDEuNTQyODU3MTQyODU3MTQ0fX0K');</script>\n",
       "    "
      ],
      "text/plain": [
       "<IPython.core.display.HTML object>"
      ]
     },
     "metadata": {},
     "output_type": "display_data"
    },
    {
     "data": {
      "text/html": [
       "\n",
       "        <div id=\"LXhjvhNqdexFHLceCFVwK2\"></div>\n",
       "        <script>netpixi.call('LXhjvhNqdexFHLceCFVwK2', 'K4weoEfgX3kSNzn3gxGtaY', 'changeGraph', 'eyJpZCI6IDE4OCwgInR5cGUiOiAidmVydGV4IiwgInByb3BzIjogeyJzaXplIjogNDcuMDg1NzE0Mjg1NzE0Mjl9fQo=');</script>\n",
       "    "
      ],
      "text/plain": [
       "<IPython.core.display.HTML object>"
      ]
     },
     "metadata": {},
     "output_type": "display_data"
    },
    {
     "data": {
      "text/html": [
       "\n",
       "        <div id=\"K7rVKr4ND76YmQ9B3myFAe\"></div>\n",
       "        <script>netpixi.call('K7rVKr4ND76YmQ9B3myFAe', 'K4weoEfgX3kSNzn3gxGtaY', 'changeGraph', 'eyJpZCI6IDE4OSwgInR5cGUiOiAidmVydGV4IiwgInByb3BzIjogeyJzaXplIjogNDQuMzQyODU3MTQyODU3MTR9fQo=');</script>\n",
       "    "
      ],
      "text/plain": [
       "<IPython.core.display.HTML object>"
      ]
     },
     "metadata": {},
     "output_type": "display_data"
    },
    {
     "data": {
      "text/html": [
       "\n",
       "        <div id=\"VsGp3iWtPYEgYHvcvBeNfC\"></div>\n",
       "        <script>netpixi.call('VsGp3iWtPYEgYHvcvBeNfC', 'K4weoEfgX3kSNzn3gxGtaY', 'changeGraph', 'eyJpZCI6IDE5MCwgInR5cGUiOiAidmVydGV4IiwgInByb3BzIjogeyJzaXplIjogMTEuMDMxNTE4NjI0NjQxODM0fX0K');</script>\n",
       "    "
      ],
      "text/plain": [
       "<IPython.core.display.HTML object>"
      ]
     },
     "metadata": {},
     "output_type": "display_data"
    },
    {
     "data": {
      "text/html": [
       "\n",
       "        <div id=\"ie2LL89xT4iBAB4dv3X6pi\"></div>\n",
       "        <script>netpixi.call('ie2LL89xT4iBAB4dv3X6pi', 'K4weoEfgX3kSNzn3gxGtaY', 'changeGraph', 'eyJpZCI6IDE5MSwgInR5cGUiOiAidmVydGV4IiwgInByb3BzIjogeyJzaXplIjogMTAuNTMwMDg1OTU5ODg1Mzg3fX0K');</script>\n",
       "    "
      ],
      "text/plain": [
       "<IPython.core.display.HTML object>"
      ]
     },
     "metadata": {},
     "output_type": "display_data"
    },
    {
     "data": {
      "text/html": [
       "\n",
       "        <div id=\"iu36vTsX7Vtt4goNxUnD7s\"></div>\n",
       "        <script>netpixi.call('iu36vTsX7Vtt4goNxUnD7s', 'K4weoEfgX3kSNzn3gxGtaY', 'changeGraph', 'eyJpZCI6IDE5MiwgInR5cGUiOiAidmVydGV4IiwgInByb3BzIjogeyJzaXplIjogMTQuOTg1NjczMzUyNDM1NTN9fQo=');</script>\n",
       "    "
      ],
      "text/plain": [
       "<IPython.core.display.HTML object>"
      ]
     },
     "metadata": {},
     "output_type": "display_data"
    },
    {
     "data": {
      "text/html": [
       "\n",
       "        <div id=\"ZHTVgRKJbzkVAxx7kTHVUG\"></div>\n",
       "        <script>netpixi.call('ZHTVgRKJbzkVAxx7kTHVUG', 'K4weoEfgX3kSNzn3gxGtaY', 'changeGraph', 'eyJpZCI6IDE5MywgInR5cGUiOiAidmVydGV4IiwgInByb3BzIjogeyJzaXplIjogMTkuNDEyNjA3NDQ5ODU2NzMzfX0K');</script>\n",
       "    "
      ],
      "text/plain": [
       "<IPython.core.display.HTML object>"
      ]
     },
     "metadata": {},
     "output_type": "display_data"
    },
    {
     "data": {
      "text/html": [
       "\n",
       "        <div id=\"Ttd36qhvN7ARtMwV9Dhdez\"></div>\n",
       "        <script>netpixi.call('Ttd36qhvN7ARtMwV9Dhdez', 'K4weoEfgX3kSNzn3gxGtaY', 'changeGraph', 'eyJpZCI6IDE5NCwgInR5cGUiOiAidmVydGV4IiwgInByb3BzIjogeyJzaXplIjogNDguMTE0Mjg1NzE0Mjg1NzE0fX0K');</script>\n",
       "    "
      ],
      "text/plain": [
       "<IPython.core.display.HTML object>"
      ]
     },
     "metadata": {},
     "output_type": "display_data"
    },
    {
     "data": {
      "text/html": [
       "\n",
       "        <div id=\"Qxe6suFA8v68wRVJfHwHEz\"></div>\n",
       "        <script>netpixi.call('Qxe6suFA8v68wRVJfHwHEz', 'K4weoEfgX3kSNzn3gxGtaY', 'changeGraph', 'eyJpZCI6IDE5NSwgInR5cGUiOiAidmVydGV4IiwgInByb3BzIjogeyJzaXplIjogMTcuNjM2MTAzMTUxODYyNDY0fX0K');</script>\n",
       "    "
      ],
      "text/plain": [
       "<IPython.core.display.HTML object>"
      ]
     },
     "metadata": {},
     "output_type": "display_data"
    },
    {
     "data": {
      "text/html": [
       "\n",
       "        <div id=\"5MTiTHYWhzACSHHtegmQ4B\"></div>\n",
       "        <script>netpixi.call('5MTiTHYWhzACSHHtegmQ4B', 'K4weoEfgX3kSNzn3gxGtaY', 'changeGraph', 'eyJpZCI6IDE5NiwgInR5cGUiOiAidmVydGV4IiwgInByb3BzIjogeyJzaXplIjogNDkuNTQyODU3MTQyODU3MTQ0fX0K');</script>\n",
       "    "
      ],
      "text/plain": [
       "<IPython.core.display.HTML object>"
      ]
     },
     "metadata": {},
     "output_type": "display_data"
    },
    {
     "data": {
      "text/html": [
       "\n",
       "        <div id=\"G6Cm6Rj6hCMCc3sEE3awcs\"></div>\n",
       "        <script>netpixi.call('G6Cm6Rj6hCMCc3sEE3awcs', 'K4weoEfgX3kSNzn3gxGtaY', 'changeGraph', 'eyJpZCI6IDE5NywgInR5cGUiOiAidmVydGV4IiwgInByb3BzIjogeyJzaXplIjogMTguMDY1OTAyNTc4Nzk2NTZ9fQo=');</script>\n",
       "    "
      ],
      "text/plain": [
       "<IPython.core.display.HTML object>"
      ]
     },
     "metadata": {},
     "output_type": "display_data"
    },
    {
     "data": {
      "text/html": [
       "\n",
       "        <div id=\"aCHzSdS6BKvo72UHt2iYoW\"></div>\n",
       "        <script>netpixi.call('aCHzSdS6BKvo72UHt2iYoW', 'K4weoEfgX3kSNzn3gxGtaY', 'changeGraph', 'eyJpZCI6IDE5OCwgInR5cGUiOiAidmVydGV4IiwgInByb3BzIjogeyJzaXplIjogMTkuMjgzNjY3NjIxNzc2NX19Cg==');</script>\n",
       "    "
      ],
      "text/plain": [
       "<IPython.core.display.HTML object>"
      ]
     },
     "metadata": {},
     "output_type": "display_data"
    },
    {
     "data": {
      "text/html": [
       "\n",
       "        <div id=\"hqkb5nKoHpzwK7aPBp88et\"></div>\n",
       "        <script>netpixi.call('hqkb5nKoHpzwK7aPBp88et', 'K4weoEfgX3kSNzn3gxGtaY', 'changeGraph', 'eyJpZCI6IDE5OSwgInR5cGUiOiAidmVydGV4IiwgInByb3BzIjogeyJzaXplIjogNDAuNzQyODU3MTQyODU3MTV9fQo=');</script>\n",
       "    "
      ],
      "text/plain": [
       "<IPython.core.display.HTML object>"
      ]
     },
     "metadata": {},
     "output_type": "display_data"
    },
    {
     "data": {
      "text/html": [
       "\n",
       "        <div id=\"RiPyiT7oGsynvaLhgL9Gj5\"></div>\n",
       "        <script>netpixi.call('RiPyiT7oGsynvaLhgL9Gj5', 'K4weoEfgX3kSNzn3gxGtaY', 'changeGraph', 'eyJpZCI6IDIwMCwgInR5cGUiOiAidmVydGV4IiwgInByb3BzIjogeyJzaXplIjogNDYuNTcxNDI4NTcxNDI4NTd9fQo=');</script>\n",
       "    "
      ],
      "text/plain": [
       "<IPython.core.display.HTML object>"
      ]
     },
     "metadata": {},
     "output_type": "display_data"
    },
    {
     "data": {
      "text/html": [
       "\n",
       "        <div id=\"jvdp8V4jxTQ359gc2oZBsG\"></div>\n",
       "        <script>netpixi.call('jvdp8V4jxTQ359gc2oZBsG', 'K4weoEfgX3kSNzn3gxGtaY', 'changeGraph', 'eyJpZCI6IDIwMSwgInR5cGUiOiAidmVydGV4IiwgInByb3BzIjogeyJzaXplIjogNDYuOTcxNDI4NTcxNDI4NTd9fQo=');</script>\n",
       "    "
      ],
      "text/plain": [
       "<IPython.core.display.HTML object>"
      ]
     },
     "metadata": {},
     "output_type": "display_data"
    },
    {
     "data": {
      "text/html": [
       "\n",
       "        <div id=\"UNRi2Zj23viaDQQqEvMLnF\"></div>\n",
       "        <script>netpixi.call('UNRi2Zj23viaDQQqEvMLnF', 'K4weoEfgX3kSNzn3gxGtaY', 'changeGraph', 'eyJpZCI6IDIwMiwgInR5cGUiOiAidmVydGV4IiwgInByb3BzIjogeyJzaXplIjogMTcuMTc3NjUwNDI5Nzk5NDI4fX0K');</script>\n",
       "    "
      ],
      "text/plain": [
       "<IPython.core.display.HTML object>"
      ]
     },
     "metadata": {},
     "output_type": "display_data"
    },
    {
     "data": {
      "text/html": [
       "\n",
       "        <div id=\"d8M6VAyPFWoEYmjDHW922i\"></div>\n",
       "        <script>netpixi.call('d8M6VAyPFWoEYmjDHW922i', 'K4weoEfgX3kSNzn3gxGtaY', 'changeGraph', 'eyJpZCI6IDIwMywgInR5cGUiOiAidmVydGV4IiwgInByb3BzIjogeyJzaXplIjogNDguNjg1NzE0Mjg1NzE0Mjh9fQo=');</script>\n",
       "    "
      ],
      "text/plain": [
       "<IPython.core.display.HTML object>"
      ]
     },
     "metadata": {},
     "output_type": "display_data"
    },
    {
     "data": {
      "text/html": [
       "\n",
       "        <div id=\"W6FG5eaHMUxwp8kG7M43Up\"></div>\n",
       "        <script>netpixi.call('W6FG5eaHMUxwp8kG7M43Up', 'K4weoEfgX3kSNzn3gxGtaY', 'changeGraph', 'eyJpZCI6IDIwNCwgInR5cGUiOiAidmVydGV4IiwgInByb3BzIjogeyJzaXplIjogMTcuODc5NjU2MTYwNDU4NDUzfX0K');</script>\n",
       "    "
      ],
      "text/plain": [
       "<IPython.core.display.HTML object>"
      ]
     },
     "metadata": {},
     "output_type": "display_data"
    },
    {
     "data": {
      "text/html": [
       "\n",
       "        <div id=\"6vg6sGamnrajX2iT2DxQR5\"></div>\n",
       "        <script>netpixi.call('6vg6sGamnrajX2iT2DxQR5', 'K4weoEfgX3kSNzn3gxGtaY', 'changeGraph', 'eyJpZCI6IDIwNSwgInR5cGUiOiAidmVydGV4IiwgInByb3BzIjogeyJzaXplIjogMTYuMjQ2NDE4MzM4MTA4ODh9fQo=');</script>\n",
       "    "
      ],
      "text/plain": [
       "<IPython.core.display.HTML object>"
      ]
     },
     "metadata": {},
     "output_type": "display_data"
    },
    {
     "data": {
      "text/html": [
       "\n",
       "        <div id=\"LnAuN3oCgVeWVwWvJhvDee\"></div>\n",
       "        <script>netpixi.call('LnAuN3oCgVeWVwWvJhvDee', 'K4weoEfgX3kSNzn3gxGtaY', 'changeGraph', 'eyJpZCI6IDIwNiwgInR5cGUiOiAidmVydGV4IiwgInByb3BzIjogeyJzaXplIjogNDMuODg1NzE0Mjg1NzE0Mjg2fX0K');</script>\n",
       "    "
      ],
      "text/plain": [
       "<IPython.core.display.HTML object>"
      ]
     },
     "metadata": {},
     "output_type": "display_data"
    },
    {
     "data": {
      "text/html": [
       "\n",
       "        <div id=\"UGDuV6BYsWzDBFoEhcVVxY\"></div>\n",
       "        <script>netpixi.call('UGDuV6BYsWzDBFoEhcVVxY', 'K4weoEfgX3kSNzn3gxGtaY', 'changeGraph', 'eyJpZCI6IDIwNywgInR5cGUiOiAidmVydGV4IiwgInByb3BzIjogeyJzaXplIjogNDcuMDI4NTcxNDI4NTcxNDI1fX0K');</script>\n",
       "    "
      ],
      "text/plain": [
       "<IPython.core.display.HTML object>"
      ]
     },
     "metadata": {},
     "output_type": "display_data"
    },
    {
     "data": {
      "text/html": [
       "\n",
       "        <div id=\"A5Q92RLvBHLfVS72vr4rKY\"></div>\n",
       "        <script>netpixi.call('A5Q92RLvBHLfVS72vr4rKY', 'K4weoEfgX3kSNzn3gxGtaY', 'changeGraph', 'eyJpZCI6IDIwOCwgInR5cGUiOiAidmVydGV4IiwgInByb3BzIjogeyJzaXplIjogMTYuNjE4OTExMTc0Nzg1MX19Cg==');</script>\n",
       "    "
      ],
      "text/plain": [
       "<IPython.core.display.HTML object>"
      ]
     },
     "metadata": {},
     "output_type": "display_data"
    },
    {
     "data": {
      "text/html": [
       "\n",
       "        <div id=\"k8UGMgRATAVeURLNB37CMP\"></div>\n",
       "        <script>netpixi.call('k8UGMgRATAVeURLNB37CMP', 'K4weoEfgX3kSNzn3gxGtaY', 'changeGraph', 'eyJpZCI6IDIwOSwgInR5cGUiOiAidmVydGV4IiwgInByb3BzIjogeyJzaXplIjogNDkuNDI4NTcxNDI4NTcxNDN9fQo=');</script>\n",
       "    "
      ],
      "text/plain": [
       "<IPython.core.display.HTML object>"
      ]
     },
     "metadata": {},
     "output_type": "display_data"
    },
    {
     "data": {
      "text/html": [
       "\n",
       "        <div id=\"ZhS7w86wwPdyRvk2mv7KFp\"></div>\n",
       "        <script>netpixi.call('ZhS7w86wwPdyRvk2mv7KFp', 'K4weoEfgX3kSNzn3gxGtaY', 'changeGraph', 'eyJpZCI6IDIxMCwgInR5cGUiOiAidmVydGV4IiwgInByb3BzIjogeyJzaXplIjogNDQuMjI4NTcxNDI4NTcxNDN9fQo=');</script>\n",
       "    "
      ],
      "text/plain": [
       "<IPython.core.display.HTML object>"
      ]
     },
     "metadata": {},
     "output_type": "display_data"
    },
    {
     "data": {
      "text/html": [
       "\n",
       "        <div id=\"YqVGN7mpJ5ySjSpS9RjG9S\"></div>\n",
       "        <script>netpixi.call('YqVGN7mpJ5ySjSpS9RjG9S', 'K4weoEfgX3kSNzn3gxGtaY', 'changeGraph', 'eyJpZCI6IDIxMSwgInR5cGUiOiAidmVydGV4IiwgInByb3BzIjogeyJzaXplIjogNDAuNjI4NTcxNDI4NTcxNDI2fX0K');</script>\n",
       "    "
      ],
      "text/plain": [
       "<IPython.core.display.HTML object>"
      ]
     },
     "metadata": {},
     "output_type": "display_data"
    },
    {
     "data": {
      "text/html": [
       "\n",
       "        <div id=\"LSoHLfZpUMEsSwZahCtQUM\"></div>\n",
       "        <script>netpixi.call('LSoHLfZpUMEsSwZahCtQUM', 'K4weoEfgX3kSNzn3gxGtaY', 'changeGraph', 'eyJpZCI6IDIxMiwgInR5cGUiOiAidmVydGV4IiwgInByb3BzIjogeyJzaXplIjogNDcuNDg1NzE0Mjg1NzE0Mjl9fQo=');</script>\n",
       "    "
      ],
      "text/plain": [
       "<IPython.core.display.HTML object>"
      ]
     },
     "metadata": {},
     "output_type": "display_data"
    },
    {
     "data": {
      "text/html": [
       "\n",
       "        <div id=\"QhGuvQuoTNKYU7GouaN4yg\"></div>\n",
       "        <script>netpixi.call('QhGuvQuoTNKYU7GouaN4yg', 'K4weoEfgX3kSNzn3gxGtaY', 'changeGraph', 'eyJpZCI6IDIxMywgInR5cGUiOiAidmVydGV4IiwgInByb3BzIjogeyJzaXplIjogNDcuMTQyODU3MTQyODU3MTQ2fX0K');</script>\n",
       "    "
      ],
      "text/plain": [
       "<IPython.core.display.HTML object>"
      ]
     },
     "metadata": {},
     "output_type": "display_data"
    },
    {
     "data": {
      "text/html": [
       "\n",
       "        <div id=\"WZWhbic6b5Dj53jZYqCKSS\"></div>\n",
       "        <script>netpixi.call('WZWhbic6b5Dj53jZYqCKSS', 'K4weoEfgX3kSNzn3gxGtaY', 'changeGraph', 'eyJpZCI6IDIxNCwgInR5cGUiOiAidmVydGV4IiwgInByb3BzIjogeyJzaXplIjogNDEuNn19Cg==');</script>\n",
       "    "
      ],
      "text/plain": [
       "<IPython.core.display.HTML object>"
      ]
     },
     "metadata": {},
     "output_type": "display_data"
    },
    {
     "data": {
      "text/html": [
       "\n",
       "        <div id=\"YHiW4hoymbgftc8n8ajhNK\"></div>\n",
       "        <script>netpixi.call('YHiW4hoymbgftc8n8ajhNK', 'K4weoEfgX3kSNzn3gxGtaY', 'changeGraph', 'eyJpZCI6IDIxNSwgInR5cGUiOiAidmVydGV4IiwgInByb3BzIjogeyJzaXplIjogNDAuODU3MTQyODU3MTQyODZ9fQo=');</script>\n",
       "    "
      ],
      "text/plain": [
       "<IPython.core.display.HTML object>"
      ]
     },
     "metadata": {},
     "output_type": "display_data"
    },
    {
     "data": {
      "text/html": [
       "\n",
       "        <div id=\"Hh3xttqP8hg64MjjKtwTzV\"></div>\n",
       "        <script>netpixi.call('Hh3xttqP8hg64MjjKtwTzV', 'K4weoEfgX3kSNzn3gxGtaY', 'changeGraph', 'eyJpZCI6IDIxNiwgInR5cGUiOiAidmVydGV4IiwgInByb3BzIjogeyJzaXplIjogNDYuMH19Cg==');</script>\n",
       "    "
      ],
      "text/plain": [
       "<IPython.core.display.HTML object>"
      ]
     },
     "metadata": {},
     "output_type": "display_data"
    },
    {
     "data": {
      "text/html": [
       "\n",
       "        <div id=\"CiTYdZmyDuWtZwzRN9DTzH\"></div>\n",
       "        <script>netpixi.call('CiTYdZmyDuWtZwzRN9DTzH', 'K4weoEfgX3kSNzn3gxGtaY', 'changeGraph', 'eyJpZCI6IDIxNywgInR5cGUiOiAidmVydGV4IiwgInByb3BzIjogeyJzaXplIjogNDAuOH19Cg==');</script>\n",
       "    "
      ],
      "text/plain": [
       "<IPython.core.display.HTML object>"
      ]
     },
     "metadata": {},
     "output_type": "display_data"
    },
    {
     "data": {
      "text/html": [
       "\n",
       "        <div id=\"h2jX9nd4ZiovneEmByGHuR\"></div>\n",
       "        <script>netpixi.call('h2jX9nd4ZiovneEmByGHuR', 'K4weoEfgX3kSNzn3gxGtaY', 'changeGraph', 'eyJpZCI6IDIxOCwgInR5cGUiOiAidmVydGV4IiwgInByb3BzIjogeyJzaXplIjogNDQuMjg1NzE0Mjg1NzE0Mjg1fX0K');</script>\n",
       "    "
      ],
      "text/plain": [
       "<IPython.core.display.HTML object>"
      ]
     },
     "metadata": {},
     "output_type": "display_data"
    },
    {
     "data": {
      "text/html": [
       "\n",
       "        <div id=\"ZHw9CkBEd9UoLzme5jNjYJ\"></div>\n",
       "        <script>netpixi.call('ZHw9CkBEd9UoLzme5jNjYJ', 'K4weoEfgX3kSNzn3gxGtaY', 'changeGraph', 'eyJpZCI6IDIxOSwgInR5cGUiOiAidmVydGV4IiwgInByb3BzIjogeyJzaXplIjogNDMuNn19Cg==');</script>\n",
       "    "
      ],
      "text/plain": [
       "<IPython.core.display.HTML object>"
      ]
     },
     "metadata": {},
     "output_type": "display_data"
    },
    {
     "data": {
      "text/html": [
       "\n",
       "        <div id=\"8PWjE26nDXCqPd4P3nrGL9\"></div>\n",
       "        <script>netpixi.call('8PWjE26nDXCqPd4P3nrGL9', 'K4weoEfgX3kSNzn3gxGtaY', 'changeGraph', 'eyJpZCI6IDIyMCwgInR5cGUiOiAidmVydGV4IiwgInByb3BzIjogeyJzaXplIjogMTkuMjk3OTk0MjY5MzQwOTc1fX0K');</script>\n",
       "    "
      ],
      "text/plain": [
       "<IPython.core.display.HTML object>"
      ]
     },
     "metadata": {},
     "output_type": "display_data"
    },
    {
     "data": {
      "text/html": [
       "\n",
       "        <div id=\"X9NaUPhJhjP86SH3gHjgrw\"></div>\n",
       "        <script>netpixi.call('X9NaUPhJhjP86SH3gHjgrw', 'K4weoEfgX3kSNzn3gxGtaY', 'changeGraph', 'eyJpZCI6IDIyMSwgInR5cGUiOiAidmVydGV4IiwgInByb3BzIjogeyJzaXplIjogNDIuMjg1NzE0Mjg1NzE0Mjg1fX0K');</script>\n",
       "    "
      ],
      "text/plain": [
       "<IPython.core.display.HTML object>"
      ]
     },
     "metadata": {},
     "output_type": "display_data"
    },
    {
     "data": {
      "text/html": [
       "\n",
       "        <div id=\"MxJzredZaPPhTbBTM9DMQK\"></div>\n",
       "        <script>netpixi.call('MxJzredZaPPhTbBTM9DMQK', 'K4weoEfgX3kSNzn3gxGtaY', 'changeGraph', 'eyJpZCI6IDIyMiwgInR5cGUiOiAidmVydGV4IiwgInByb3BzIjogeyJzaXplIjogMTcuOTk0MjY5MzQwOTc0MjEzfX0K');</script>\n",
       "    "
      ],
      "text/plain": [
       "<IPython.core.display.HTML object>"
      ]
     },
     "metadata": {},
     "output_type": "display_data"
    },
    {
     "data": {
      "text/html": [
       "\n",
       "        <div id=\"kqxze28xYFAfM4zvKEAKky\"></div>\n",
       "        <script>netpixi.call('kqxze28xYFAfM4zvKEAKky', 'K4weoEfgX3kSNzn3gxGtaY', 'changeGraph', 'eyJpZCI6IDIyMywgInR5cGUiOiAidmVydGV4IiwgInByb3BzIjogeyJzaXplIjogMTkuNTg0NTI3MjIwNjMwMzd9fQo=');</script>\n",
       "    "
      ],
      "text/plain": [
       "<IPython.core.display.HTML object>"
      ]
     },
     "metadata": {},
     "output_type": "display_data"
    },
    {
     "data": {
      "text/html": [
       "\n",
       "        <div id=\"52X6SxhuXdkaagfb6Q7hQi\"></div>\n",
       "        <script>netpixi.call('52X6SxhuXdkaagfb6Q7hQi', 'K4weoEfgX3kSNzn3gxGtaY', 'changeGraph', 'eyJpZCI6IDIyNCwgInR5cGUiOiAidmVydGV4IiwgInByb3BzIjogeyJzaXplIjogMTkuNjQxODMzODEwODg4MjV9fQo=');</script>\n",
       "    "
      ],
      "text/plain": [
       "<IPython.core.display.HTML object>"
      ]
     },
     "metadata": {},
     "output_type": "display_data"
    },
    {
     "data": {
      "text/html": [
       "\n",
       "        <div id=\"iZuwyyNQvFPDJDGZovcMvL\"></div>\n",
       "        <script>netpixi.call('iZuwyyNQvFPDJDGZovcMvL', 'K4weoEfgX3kSNzn3gxGtaY', 'changeGraph', 'eyJpZCI6IDIyNSwgInR5cGUiOiAidmVydGV4IiwgInByb3BzIjogeyJzaXplIjogMTkuMTExNzQ3ODUxMDAyODY0fX0K');</script>\n",
       "    "
      ],
      "text/plain": [
       "<IPython.core.display.HTML object>"
      ]
     },
     "metadata": {},
     "output_type": "display_data"
    },
    {
     "data": {
      "text/html": [
       "\n",
       "        <div id=\"g4Q4NboMYbNx5sKB4SJMMo\"></div>\n",
       "        <script>netpixi.call('g4Q4NboMYbNx5sKB4SJMMo', 'K4weoEfgX3kSNzn3gxGtaY', 'changeGraph', 'eyJpZCI6IDIyNiwgInR5cGUiOiAidmVydGV4IiwgInByb3BzIjogeyJzaXplIjogMTkuMjY5MzQwOTc0MjEyMDM1fX0K');</script>\n",
       "    "
      ],
      "text/plain": [
       "<IPython.core.display.HTML object>"
      ]
     },
     "metadata": {},
     "output_type": "display_data"
    },
    {
     "data": {
      "text/html": [
       "\n",
       "        <div id=\"VVe68MqWh3YETZ4woaeUXy\"></div>\n",
       "        <script>netpixi.call('VVe68MqWh3YETZ4woaeUXy', 'K4weoEfgX3kSNzn3gxGtaY', 'changeGraph', 'eyJpZCI6IDIyNywgInR5cGUiOiAidmVydGV4IiwgInByb3BzIjogeyJzaXplIjogMTguOTgyODA4MDIyOTIyNjM3fX0K');</script>\n",
       "    "
      ],
      "text/plain": [
       "<IPython.core.display.HTML object>"
      ]
     },
     "metadata": {},
     "output_type": "display_data"
    },
    {
     "data": {
      "text/html": [
       "\n",
       "        <div id=\"3AjKd5PGFYjqJiiSUkZEoe\"></div>\n",
       "        <script>netpixi.call('3AjKd5PGFYjqJiiSUkZEoe', 'K4weoEfgX3kSNzn3gxGtaY', 'changeGraph', 'eyJpZCI6IDIyOCwgInR5cGUiOiAidmVydGV4IiwgInByb3BzIjogeyJzaXplIjogMTkuMzY5NjI3NTA3MTYzMzIyfX0K');</script>\n",
       "    "
      ],
      "text/plain": [
       "<IPython.core.display.HTML object>"
      ]
     },
     "metadata": {},
     "output_type": "display_data"
    },
    {
     "data": {
      "text/html": [
       "\n",
       "        <div id=\"ZpjMTFHeQjwRzJ5XeuprSx\"></div>\n",
       "        <script>netpixi.call('ZpjMTFHeQjwRzJ5XeuprSx', 'K4weoEfgX3kSNzn3gxGtaY', 'changeGraph', 'eyJpZCI6IDIyOSwgInR5cGUiOiAidmVydGV4IiwgInByb3BzIjogeyJzaXplIjogMTguNTUzMDA4NTk1OTg4NTM3fX0K');</script>\n",
       "    "
      ],
      "text/plain": [
       "<IPython.core.display.HTML object>"
      ]
     },
     "metadata": {},
     "output_type": "display_data"
    },
    {
     "data": {
      "text/html": [
       "\n",
       "        <div id=\"duyJV4umwxbazZ5xZ3nmKi\"></div>\n",
       "        <script>netpixi.call('duyJV4umwxbazZ5xZ3nmKi', 'K4weoEfgX3kSNzn3gxGtaY', 'changeGraph', 'eyJpZCI6IDIzMCwgInR5cGUiOiAidmVydGV4IiwgInByb3BzIjogeyJzaXplIjogMTcuMDM0MzgzOTU0MTU0NzI3fX0K');</script>\n",
       "    "
      ],
      "text/plain": [
       "<IPython.core.display.HTML object>"
      ]
     },
     "metadata": {},
     "output_type": "display_data"
    },
    {
     "data": {
      "text/html": [
       "\n",
       "        <div id=\"WqLUHmYLXj4SizKTWyNd7m\"></div>\n",
       "        <script>netpixi.call('WqLUHmYLXj4SizKTWyNd7m', 'K4weoEfgX3kSNzn3gxGtaY', 'changeGraph', 'eyJpZCI6IDIzMSwgInR5cGUiOiAidmVydGV4IiwgInByb3BzIjogeyJzaXplIjogMTIuMjA2MzAzNzI0OTI4MzY2fX0K');</script>\n",
       "    "
      ],
      "text/plain": [
       "<IPython.core.display.HTML object>"
      ]
     },
     "metadata": {},
     "output_type": "display_data"
    },
    {
     "data": {
      "text/html": [
       "\n",
       "        <div id=\"eU5rLmFecBD2oemozZhAwo\"></div>\n",
       "        <script>netpixi.call('eU5rLmFecBD2oemozZhAwo', 'K4weoEfgX3kSNzn3gxGtaY', 'changeGraph', 'eyJpZCI6IDIzMiwgInR5cGUiOiAidmVydGV4IiwgInByb3BzIjogeyJzaXplIjogMTIuNDM1NTMwMDg1OTU5ODg2fX0K');</script>\n",
       "    "
      ],
      "text/plain": [
       "<IPython.core.display.HTML object>"
      ]
     },
     "metadata": {},
     "output_type": "display_data"
    },
    {
     "data": {
      "text/html": [
       "\n",
       "        <div id=\"YPZ9Uf3Gkj9g4kSXe3iQAs\"></div>\n",
       "        <script>netpixi.call('YPZ9Uf3Gkj9g4kSXe3iQAs', 'K4weoEfgX3kSNzn3gxGtaY', 'changeGraph', 'eyJpZCI6IDIzMywgInR5cGUiOiAidmVydGV4IiwgInByb3BzIjogeyJzaXplIjogMTQuMDI1Nzg3OTY1NjE2MDQ1fX0K');</script>\n",
       "    "
      ],
      "text/plain": [
       "<IPython.core.display.HTML object>"
      ]
     },
     "metadata": {},
     "output_type": "display_data"
    },
    {
     "data": {
      "text/html": [
       "\n",
       "        <div id=\"BDcLKhGxWZL38A6T9cLLWt\"></div>\n",
       "        <script>netpixi.call('BDcLKhGxWZL38A6T9cLLWt', 'K4weoEfgX3kSNzn3gxGtaY', 'changeGraph', 'eyJpZCI6IDIzNCwgInR5cGUiOiAidmVydGV4IiwgInByb3BzIjogeyJzaXplIjogMTYuMTc0Nzg1MTAwMjg2NTM1fX0K');</script>\n",
       "    "
      ],
      "text/plain": [
       "<IPython.core.display.HTML object>"
      ]
     },
     "metadata": {},
     "output_type": "display_data"
    },
    {
     "data": {
      "text/html": [
       "\n",
       "        <div id=\"cY5zzTT8saQGg59VsVjvAu\"></div>\n",
       "        <script>netpixi.call('cY5zzTT8saQGg59VsVjvAu', 'K4weoEfgX3kSNzn3gxGtaY', 'changeGraph', 'eyJpZCI6IDIzNSwgInR5cGUiOiAidmVydGV4IiwgInByb3BzIjogeyJzaXplIjogMTYuNTc1OTMxMjMyMDkxNjl9fQo=');</script>\n",
       "    "
      ],
      "text/plain": [
       "<IPython.core.display.HTML object>"
      ]
     },
     "metadata": {},
     "output_type": "display_data"
    },
    {
     "data": {
      "text/html": [
       "\n",
       "        <div id=\"E8UnGBGJu2tZNPBcLiyZF4\"></div>\n",
       "        <script>netpixi.call('E8UnGBGJu2tZNPBcLiyZF4', 'K4weoEfgX3kSNzn3gxGtaY', 'changeGraph', 'eyJpZCI6IDIzNiwgInR5cGUiOiAidmVydGV4IiwgInByb3BzIjogeyJzaXplIjogMTEuMzQ2NzA0ODcxMDYwMTcyfX0K');</script>\n",
       "    "
      ],
      "text/plain": [
       "<IPython.core.display.HTML object>"
      ]
     },
     "metadata": {},
     "output_type": "display_data"
    },
    {
     "data": {
      "text/html": [
       "\n",
       "        <div id=\"btu87NasToT4H8UFKsimHC\"></div>\n",
       "        <script>netpixi.call('btu87NasToT4H8UFKsimHC', 'K4weoEfgX3kSNzn3gxGtaY', 'changeGraph', 'eyJpZCI6IDIzNywgInR5cGUiOiAidmVydGV4IiwgInByb3BzIjogeyJzaXplIjogMTguMjUyMTQ4OTk3MTM0NjY4fX0K');</script>\n",
       "    "
      ],
      "text/plain": [
       "<IPython.core.display.HTML object>"
      ]
     },
     "metadata": {},
     "output_type": "display_data"
    },
    {
     "data": {
      "text/html": [
       "\n",
       "        <div id=\"bJb9RtfGSV8DEvRgA4xxq6\"></div>\n",
       "        <script>netpixi.call('bJb9RtfGSV8DEvRgA4xxq6', 'K4weoEfgX3kSNzn3gxGtaY', 'changeGraph', 'eyJpZCI6IDIzOCwgInR5cGUiOiAidmVydGV4IiwgInByb3BzIjogeyJzaXplIjogMTguODk2ODQ4MTM3NTM1ODE2fX0K');</script>\n",
       "    "
      ],
      "text/plain": [
       "<IPython.core.display.HTML object>"
      ]
     },
     "metadata": {},
     "output_type": "display_data"
    },
    {
     "data": {
      "text/html": [
       "\n",
       "        <div id=\"SoJFQhoMbEcPjHZvFZhFzP\"></div>\n",
       "        <script>netpixi.call('SoJFQhoMbEcPjHZvFZhFzP', 'K4weoEfgX3kSNzn3gxGtaY', 'changeGraph', 'eyJpZCI6IDIzOSwgInR5cGUiOiAidmVydGV4IiwgInByb3BzIjogeyJzaXplIjogMTYuMzc1MzU4MTY2MTg5MTF9fQo=');</script>\n",
       "    "
      ],
      "text/plain": [
       "<IPython.core.display.HTML object>"
      ]
     },
     "metadata": {},
     "output_type": "display_data"
    },
    {
     "data": {
      "text/html": [
       "\n",
       "        <div id=\"dgwPNRURLGsHenVHFubBdZ\"></div>\n",
       "        <script>netpixi.call('dgwPNRURLGsHenVHFubBdZ', 'K4weoEfgX3kSNzn3gxGtaY', 'changeGraph', 'eyJpZCI6IDI0MCwgInR5cGUiOiAidmVydGV4IiwgInByb3BzIjogeyJzaXplIjogNDMuMjU3MTQyODU3MTQyODV9fQo=');</script>\n",
       "    "
      ],
      "text/plain": [
       "<IPython.core.display.HTML object>"
      ]
     },
     "metadata": {},
     "output_type": "display_data"
    },
    {
     "data": {
      "text/html": [
       "\n",
       "        <div id=\"7ExYuJm2xYnqbVdi3D6vwF\"></div>\n",
       "        <script>netpixi.call('7ExYuJm2xYnqbVdi3D6vwF', 'K4weoEfgX3kSNzn3gxGtaY', 'changeGraph', 'eyJpZCI6IDI0MSwgInR5cGUiOiAidmVydGV4IiwgInByb3BzIjogeyJzaXplIjogNDUuNTQyODU3MTQyODU3MTQ0fX0K');</script>\n",
       "    "
      ],
      "text/plain": [
       "<IPython.core.display.HTML object>"
      ]
     },
     "metadata": {},
     "output_type": "display_data"
    },
    {
     "data": {
      "text/html": [
       "\n",
       "        <div id=\"SpooyB7SKReeErSBgUX4pP\"></div>\n",
       "        <script>netpixi.call('SpooyB7SKReeErSBgUX4pP', 'K4weoEfgX3kSNzn3gxGtaY', 'changeGraph', 'eyJpZCI6IDI0MiwgInR5cGUiOiAidmVydGV4IiwgInByb3BzIjogeyJzaXplIjogMTYuNzMzNTI0MzU1MzAwODU4fX0K');</script>\n",
       "    "
      ],
      "text/plain": [
       "<IPython.core.display.HTML object>"
      ]
     },
     "metadata": {},
     "output_type": "display_data"
    },
    {
     "data": {
      "text/html": [
       "\n",
       "        <div id=\"9N6BRFRJwJw7kzWDDMnA9L\"></div>\n",
       "        <script>netpixi.call('9N6BRFRJwJw7kzWDDMnA9L', 'K4weoEfgX3kSNzn3gxGtaY', 'changeGraph', 'eyJpZCI6IDI0MywgInR5cGUiOiAidmVydGV4IiwgInByb3BzIjogeyJzaXplIjogMTguMTM3NTM1ODE2NjE4OTF9fQo=');</script>\n",
       "    "
      ],
      "text/plain": [
       "<IPython.core.display.HTML object>"
      ]
     },
     "metadata": {},
     "output_type": "display_data"
    },
    {
     "data": {
      "text/html": [
       "\n",
       "        <div id=\"2vKoeFxFoewgYtkyFn7ZLp\"></div>\n",
       "        <script>netpixi.call('2vKoeFxFoewgYtkyFn7ZLp', 'K4weoEfgX3kSNzn3gxGtaY', 'changeGraph', 'eyJpZCI6IDI0NCwgInR5cGUiOiAidmVydGV4IiwgInByb3BzIjogeyJzaXplIjogNDEuNDI4NTcxNDI4NTcxNDN9fQo=');</script>\n",
       "    "
      ],
      "text/plain": [
       "<IPython.core.display.HTML object>"
      ]
     },
     "metadata": {},
     "output_type": "display_data"
    },
    {
     "data": {
      "text/html": [
       "\n",
       "        <div id=\"4QWK9kDJVLzJaRyezUyWnH\"></div>\n",
       "        <script>netpixi.call('4QWK9kDJVLzJaRyezUyWnH', 'K4weoEfgX3kSNzn3gxGtaY', 'changeGraph', 'eyJpZCI6IDI0NSwgInR5cGUiOiAidmVydGV4IiwgInByb3BzIjogeyJzaXplIjogNDcuNzcxNDI4NTcxNDI4NTd9fQo=');</script>\n",
       "    "
      ],
      "text/plain": [
       "<IPython.core.display.HTML object>"
      ]
     },
     "metadata": {},
     "output_type": "display_data"
    },
    {
     "data": {
      "text/html": [
       "\n",
       "        <div id=\"Tqbk4PYGuYaH4PcmZCNeSb\"></div>\n",
       "        <script>netpixi.call('Tqbk4PYGuYaH4PcmZCNeSb', 'K4weoEfgX3kSNzn3gxGtaY', 'changeGraph', 'eyJpZCI6IDI0NiwgInR5cGUiOiAidmVydGV4IiwgInByb3BzIjogeyJzaXplIjogMTEuMjYwNzQ0OTg1NjczMzUyfX0K');</script>\n",
       "    "
      ],
      "text/plain": [
       "<IPython.core.display.HTML object>"
      ]
     },
     "metadata": {},
     "output_type": "display_data"
    },
    {
     "data": {
      "text/html": [
       "\n",
       "        <div id=\"Xc79ifnC5TpGDKR6WrVyCR\"></div>\n",
       "        <script>netpixi.call('Xc79ifnC5TpGDKR6WrVyCR', 'K4weoEfgX3kSNzn3gxGtaY', 'changeGraph', 'eyJpZCI6IDI0NywgInR5cGUiOiAidmVydGV4IiwgInByb3BzIjogeyJzaXplIjogMTcuOTY1NjE2MDQ1ODQ1MjczfX0K');</script>\n",
       "    "
      ],
      "text/plain": [
       "<IPython.core.display.HTML object>"
      ]
     },
     "metadata": {},
     "output_type": "display_data"
    },
    {
     "data": {
      "text/html": [
       "\n",
       "        <div id=\"LWQvgj7jnxEYU3EXbMpZVk\"></div>\n",
       "        <script>netpixi.call('LWQvgj7jnxEYU3EXbMpZVk', 'K4weoEfgX3kSNzn3gxGtaY', 'changeGraph', 'eyJpZCI6IDI0OCwgInR5cGUiOiAidmVydGV4IiwgInByb3BzIjogeyJzaXplIjogNDUuMn19Cg==');</script>\n",
       "    "
      ],
      "text/plain": [
       "<IPython.core.display.HTML object>"
      ]
     },
     "metadata": {},
     "output_type": "display_data"
    },
    {
     "data": {
      "text/html": [
       "\n",
       "        <div id=\"mANVbDfqGfoJMwx7ZwVwt4\"></div>\n",
       "        <script>netpixi.call('mANVbDfqGfoJMwx7ZwVwt4', 'K4weoEfgX3kSNzn3gxGtaY', 'changeGraph', 'eyJpZCI6IDI0OSwgInR5cGUiOiAidmVydGV4IiwgInByb3BzIjogeyJzaXplIjogNDkuOTQyODU3MTQyODU3MTR9fQo=');</script>\n",
       "    "
      ],
      "text/plain": [
       "<IPython.core.display.HTML object>"
      ]
     },
     "metadata": {},
     "output_type": "display_data"
    },
    {
     "data": {
      "text/html": [
       "\n",
       "        <div id=\"2b6nfuxfCg9p4NWkRRhUf5\"></div>\n",
       "        <script>netpixi.call('2b6nfuxfCg9p4NWkRRhUf5', 'K4weoEfgX3kSNzn3gxGtaY', 'changeGraph', 'eyJpZCI6IDI1MCwgInR5cGUiOiAidmVydGV4IiwgInByb3BzIjogeyJzaXplIjogMTkuMjEyMDM0MzgzOTU0MTU1fX0K');</script>\n",
       "    "
      ],
      "text/plain": [
       "<IPython.core.display.HTML object>"
      ]
     },
     "metadata": {},
     "output_type": "display_data"
    },
    {
     "data": {
      "text/html": [
       "\n",
       "        <div id=\"Z87LRWQRpY97WDwsQiLMJc\"></div>\n",
       "        <script>netpixi.call('Z87LRWQRpY97WDwsQiLMJc', 'K4weoEfgX3kSNzn3gxGtaY', 'changeGraph', 'eyJpZCI6IDI1MSwgInR5cGUiOiAidmVydGV4IiwgInByb3BzIjogeyJzaXplIjogMTQuNTg0NTI3MjIwNjMwMzcyfX0K');</script>\n",
       "    "
      ],
      "text/plain": [
       "<IPython.core.display.HTML object>"
      ]
     },
     "metadata": {},
     "output_type": "display_data"
    },
    {
     "data": {
      "text/html": [
       "\n",
       "        <div id=\"ndmBTYvSGhqwxrabvt9BqJ\"></div>\n",
       "        <script>netpixi.call('ndmBTYvSGhqwxrabvt9BqJ', 'K4weoEfgX3kSNzn3gxGtaY', 'changeGraph', 'eyJpZCI6IDI1MiwgInR5cGUiOiAidmVydGV4IiwgInByb3BzIjogeyJzaXplIjogMTIuMDQ4NzEwNjAxNzE5MTk3fX0K');</script>\n",
       "    "
      ],
      "text/plain": [
       "<IPython.core.display.HTML object>"
      ]
     },
     "metadata": {},
     "output_type": "display_data"
    },
    {
     "data": {
      "text/html": [
       "\n",
       "        <div id=\"KQzCtiDLmAsu8xiCFF8v9w\"></div>\n",
       "        <script>netpixi.call('KQzCtiDLmAsu8xiCFF8v9w', 'K4weoEfgX3kSNzn3gxGtaY', 'changeGraph', 'eyJpZCI6IDI1MywgInR5cGUiOiAidmVydGV4IiwgInByb3BzIjogeyJzaXplIjogMTcuNzY1MDQyOTc5OTQyNjl9fQo=');</script>\n",
       "    "
      ],
      "text/plain": [
       "<IPython.core.display.HTML object>"
      ]
     },
     "metadata": {},
     "output_type": "display_data"
    },
    {
     "data": {
      "text/html": [
       "\n",
       "        <div id=\"Wvbr4A74hUcSJxzn7aeHnZ\"></div>\n",
       "        <script>netpixi.call('Wvbr4A74hUcSJxzn7aeHnZ', 'K4weoEfgX3kSNzn3gxGtaY', 'changeGraph', 'eyJpZCI6IDI1NCwgInR5cGUiOiAidmVydGV4IiwgInByb3BzIjogeyJzaXplIjogMTUuMTAwMjg2NTMyOTUxMjg5fX0K');</script>\n",
       "    "
      ],
      "text/plain": [
       "<IPython.core.display.HTML object>"
      ]
     },
     "metadata": {},
     "output_type": "display_data"
    },
    {
     "data": {
      "text/html": [
       "\n",
       "        <div id=\"arVFUpzB6QYCzLiVh4RTja\"></div>\n",
       "        <script>netpixi.call('arVFUpzB6QYCzLiVh4RTja', 'K4weoEfgX3kSNzn3gxGtaY', 'changeGraph', 'eyJpZCI6IDI1NSwgInR5cGUiOiAidmVydGV4IiwgInByb3BzIjogeyJzaXplIjogNDIuNzQyODU3MTQyODU3MTV9fQo=');</script>\n",
       "    "
      ],
      "text/plain": [
       "<IPython.core.display.HTML object>"
      ]
     },
     "metadata": {},
     "output_type": "display_data"
    },
    {
     "data": {
      "text/html": [
       "\n",
       "        <div id=\"BdW6Kqwh8eaDoSJVnkH8C2\"></div>\n",
       "        <script>netpixi.call('BdW6Kqwh8eaDoSJVnkH8C2', 'K4weoEfgX3kSNzn3gxGtaY', 'changeGraph', 'eyJpZCI6IDI1NiwgInR5cGUiOiAidmVydGV4IiwgInByb3BzIjogeyJzaXplIjogNDAuMTE0Mjg1NzE0Mjg1NzE0fX0K');</script>\n",
       "    "
      ],
      "text/plain": [
       "<IPython.core.display.HTML object>"
      ]
     },
     "metadata": {},
     "output_type": "display_data"
    },
    {
     "data": {
      "text/html": [
       "\n",
       "        <div id=\"ggD6KYDTujvMrdCpsBnemD\"></div>\n",
       "        <script>netpixi.call('ggD6KYDTujvMrdCpsBnemD', 'K4weoEfgX3kSNzn3gxGtaY', 'changeGraph', 'eyJpZCI6IDI1NywgInR5cGUiOiAidmVydGV4IiwgInByb3BzIjogeyJzaXplIjogNDIuMH19Cg==');</script>\n",
       "    "
      ],
      "text/plain": [
       "<IPython.core.display.HTML object>"
      ]
     },
     "metadata": {},
     "output_type": "display_data"
    },
    {
     "data": {
      "text/html": [
       "\n",
       "        <div id=\"UzHx4NoUP97TiUqtfLqzeu\"></div>\n",
       "        <script>netpixi.call('UzHx4NoUP97TiUqtfLqzeu', 'K4weoEfgX3kSNzn3gxGtaY', 'changeGraph', 'eyJpZCI6IDI1OCwgInR5cGUiOiAidmVydGV4IiwgInByb3BzIjogeyJzaXplIjogMTYuMDg4ODI1MjE0ODk5NzE0fX0K');</script>\n",
       "    "
      ],
      "text/plain": [
       "<IPython.core.display.HTML object>"
      ]
     },
     "metadata": {},
     "output_type": "display_data"
    },
    {
     "data": {
      "text/html": [
       "\n",
       "        <div id=\"4s6msjzppMEGFkZ8aTQh6i\"></div>\n",
       "        <script>netpixi.call('4s6msjzppMEGFkZ8aTQh6i', 'K4weoEfgX3kSNzn3gxGtaY', 'changeGraph', 'eyJpZCI6IDI1OSwgInR5cGUiOiAidmVydGV4IiwgInByb3BzIjogeyJzaXplIjogMTguNTM4NjgxOTQ4NDI0MDd9fQo=');</script>\n",
       "    "
      ],
      "text/plain": [
       "<IPython.core.display.HTML object>"
      ]
     },
     "metadata": {},
     "output_type": "display_data"
    },
    {
     "data": {
      "text/html": [
       "\n",
       "        <div id=\"ZmD5EufbLdzNBMZc9qwVTc\"></div>\n",
       "        <script>netpixi.call('ZmD5EufbLdzNBMZc9qwVTc', 'K4weoEfgX3kSNzn3gxGtaY', 'changeGraph', 'eyJpZCI6IDI2MCwgInR5cGUiOiAidmVydGV4IiwgInByb3BzIjogeyJzaXplIjogNDQuNH19Cg==');</script>\n",
       "    "
      ],
      "text/plain": [
       "<IPython.core.display.HTML object>"
      ]
     },
     "metadata": {},
     "output_type": "display_data"
    },
    {
     "data": {
      "text/html": [
       "\n",
       "        <div id=\"gf5iNHdHLaFgibv6D6WhtM\"></div>\n",
       "        <script>netpixi.call('gf5iNHdHLaFgibv6D6WhtM', 'K4weoEfgX3kSNzn3gxGtaY', 'changeGraph', 'eyJpZCI6IDI2MSwgInR5cGUiOiAidmVydGV4IiwgInByb3BzIjogeyJzaXplIjogMTEuODE5NDg0MjQwNjg3Njc5fX0K');</script>\n",
       "    "
      ],
      "text/plain": [
       "<IPython.core.display.HTML object>"
      ]
     },
     "metadata": {},
     "output_type": "display_data"
    },
    {
     "data": {
      "text/html": [
       "\n",
       "        <div id=\"URgvrqydnLyifiAS7MjBBo\"></div>\n",
       "        <script>netpixi.call('URgvrqydnLyifiAS7MjBBo', 'K4weoEfgX3kSNzn3gxGtaY', 'changeGraph', 'eyJpZCI6IDI2MiwgInR5cGUiOiAidmVydGV4IiwgInByb3BzIjogeyJzaXplIjogMTIuNDA2ODc2NzkwODMwOTQ2fX0K');</script>\n",
       "    "
      ],
      "text/plain": [
       "<IPython.core.display.HTML object>"
      ]
     },
     "metadata": {},
     "output_type": "display_data"
    },
    {
     "data": {
      "text/html": [
       "\n",
       "        <div id=\"hxSdPGQkqBvjnGtJoofd5B\"></div>\n",
       "        <script>netpixi.call('hxSdPGQkqBvjnGtJoofd5B', 'K4weoEfgX3kSNzn3gxGtaY', 'changeGraph', 'eyJpZCI6IDI2MywgInR5cGUiOiAidmVydGV4IiwgInByb3BzIjogeyJzaXplIjogMTcuNTUwMTQzMjY2NDc1NjQ0fX0K');</script>\n",
       "    "
      ],
      "text/plain": [
       "<IPython.core.display.HTML object>"
      ]
     },
     "metadata": {},
     "output_type": "display_data"
    },
    {
     "data": {
      "text/html": [
       "\n",
       "        <div id=\"iCYQqUDsvAFq9kZ6swbb6N\"></div>\n",
       "        <script>netpixi.call('iCYQqUDsvAFq9kZ6swbb6N', 'K4weoEfgX3kSNzn3gxGtaY', 'changeGraph', 'eyJpZCI6IDI2NCwgInR5cGUiOiAidmVydGV4IiwgInByb3BzIjogeyJzaXplIjogMTAuNTAxNDMyNjY0NzU2NDQ3fX0K');</script>\n",
       "    "
      ],
      "text/plain": [
       "<IPython.core.display.HTML object>"
      ]
     },
     "metadata": {},
     "output_type": "display_data"
    },
    {
     "data": {
      "text/html": [
       "\n",
       "        <div id=\"kMb24Q56azLq7LSfN6iS58\"></div>\n",
       "        <script>netpixi.call('kMb24Q56azLq7LSfN6iS58', 'K4weoEfgX3kSNzn3gxGtaY', 'changeGraph', 'eyJpZCI6IDI2NSwgInR5cGUiOiAidmVydGV4IiwgInByb3BzIjogeyJzaXplIjogMTIuMzc4MjIzNDk1NzAyMDA2fX0K');</script>\n",
       "    "
      ],
      "text/plain": [
       "<IPython.core.display.HTML object>"
      ]
     },
     "metadata": {},
     "output_type": "display_data"
    },
    {
     "data": {
      "text/html": [
       "\n",
       "        <div id=\"a35RFX4K6dZgrorhkW3oEP\"></div>\n",
       "        <script>netpixi.call('a35RFX4K6dZgrorhkW3oEP', 'K4weoEfgX3kSNzn3gxGtaY', 'changeGraph', 'eyJpZCI6IDI2NiwgInR5cGUiOiAidmVydGV4IiwgInByb3BzIjogeyJzaXplIjogNDIuNDAwMDAwMDAwMDAwMDA2fX0K');</script>\n",
       "    "
      ],
      "text/plain": [
       "<IPython.core.display.HTML object>"
      ]
     },
     "metadata": {},
     "output_type": "display_data"
    },
    {
     "data": {
      "text/html": [
       "\n",
       "        <div id=\"HDGNWcPvnGuQx32pTKYuxm\"></div>\n",
       "        <script>netpixi.call('HDGNWcPvnGuQx32pTKYuxm', 'K4weoEfgX3kSNzn3gxGtaY', 'changeGraph', 'eyJpZCI6IDI2NywgInR5cGUiOiAidmVydGV4IiwgInByb3BzIjogeyJzaXplIjogMTEuMDE3MTkxOTc3MDc3MzYzfX0K');</script>\n",
       "    "
      ],
      "text/plain": [
       "<IPython.core.display.HTML object>"
      ]
     },
     "metadata": {},
     "output_type": "display_data"
    },
    {
     "data": {
      "text/html": [
       "\n",
       "        <div id=\"gnv7k4YH8oEx4FSGciSHAi\"></div>\n",
       "        <script>netpixi.call('gnv7k4YH8oEx4FSGciSHAi', 'K4weoEfgX3kSNzn3gxGtaY', 'changeGraph', 'eyJpZCI6IDI2OCwgInR5cGUiOiAidmVydGV4IiwgInByb3BzIjogeyJzaXplIjogMTIuNjkzNDA5NzQyMTIwMzQ1fX0K');</script>\n",
       "    "
      ],
      "text/plain": [
       "<IPython.core.display.HTML object>"
      ]
     },
     "metadata": {},
     "output_type": "display_data"
    },
    {
     "data": {
      "text/html": [
       "\n",
       "        <div id=\"VVZcWfB8eHqs3Z7iDJRwEN\"></div>\n",
       "        <script>netpixi.call('VVZcWfB8eHqs3Z7iDJRwEN', 'K4weoEfgX3kSNzn3gxGtaY', 'changeGraph', 'eyJpZCI6IDI2OSwgInR5cGUiOiAidmVydGV4IiwgInByb3BzIjogeyJzaXplIjogMTEuOTc3MDc3MzYzODk2ODQ4fX0K');</script>\n",
       "    "
      ],
      "text/plain": [
       "<IPython.core.display.HTML object>"
      ]
     },
     "metadata": {},
     "output_type": "display_data"
    },
    {
     "data": {
      "text/html": [
       "\n",
       "        <div id=\"CyzJxFzoABuYRUCXcTNj3j\"></div>\n",
       "        <script>netpixi.call('CyzJxFzoABuYRUCXcTNj3j', 'K4weoEfgX3kSNzn3gxGtaY', 'changeGraph', 'eyJpZCI6IDI3MCwgInR5cGUiOiAidmVydGV4IiwgInByb3BzIjogeyJzaXplIjogNDUuNDI4NTcxNDI4NTcxNDN9fQo=');</script>\n",
       "    "
      ],
      "text/plain": [
       "<IPython.core.display.HTML object>"
      ]
     },
     "metadata": {},
     "output_type": "display_data"
    },
    {
     "data": {
      "text/html": [
       "\n",
       "        <div id=\"NNDw6DWaN6D3ULDF39bhYa\"></div>\n",
       "        <script>netpixi.call('NNDw6DWaN6D3ULDF39bhYa', 'K4weoEfgX3kSNzn3gxGtaY', 'changeGraph', 'eyJpZCI6IDI3MSwgInR5cGUiOiAidmVydGV4IiwgInByb3BzIjogeyJzaXplIjogNDYuMzQyODU3MTQyODU3MTR9fQo=');</script>\n",
       "    "
      ],
      "text/plain": [
       "<IPython.core.display.HTML object>"
      ]
     },
     "metadata": {},
     "output_type": "display_data"
    },
    {
     "data": {
      "text/html": [
       "\n",
       "        <div id=\"5gLFbTyvG9tZiugMipac3M\"></div>\n",
       "        <script>netpixi.call('5gLFbTyvG9tZiugMipac3M', 'K4weoEfgX3kSNzn3gxGtaY', 'changeGraph', 'eyJpZCI6IDI3MiwgInR5cGUiOiAidmVydGV4IiwgInByb3BzIjogeyJzaXplIjogMTguNDM4Mzk1NDE1NDcyNzh9fQo=');</script>\n",
       "    "
      ],
      "text/plain": [
       "<IPython.core.display.HTML object>"
      ]
     },
     "metadata": {},
     "output_type": "display_data"
    },
    {
     "data": {
      "text/html": [
       "\n",
       "        <div id=\"fLvRTu3pE6frZH2hA8KHwe\"></div>\n",
       "        <script>netpixi.call('fLvRTu3pE6frZH2hA8KHwe', 'K4weoEfgX3kSNzn3gxGtaY', 'changeGraph', 'eyJpZCI6IDI3MywgInR5cGUiOiAidmVydGV4IiwgInByb3BzIjogeyJzaXplIjogNDYuMjg1NzE0Mjg1NzE0Mjg1fX0K');</script>\n",
       "    "
      ],
      "text/plain": [
       "<IPython.core.display.HTML object>"
      ]
     },
     "metadata": {},
     "output_type": "display_data"
    },
    {
     "data": {
      "text/html": [
       "\n",
       "        <div id=\"S8hSxWJ5DbQ7gbFcjQXYZ2\"></div>\n",
       "        <script>netpixi.call('S8hSxWJ5DbQ7gbFcjQXYZ2', 'K4weoEfgX3kSNzn3gxGtaY', 'changeGraph', 'eyJpZCI6IDI3NCwgInR5cGUiOiAidmVydGV4IiwgInByb3BzIjogeyJzaXplIjogMTguMTA4ODgyNTIxNDg5OTd9fQo=');</script>\n",
       "    "
      ],
      "text/plain": [
       "<IPython.core.display.HTML object>"
      ]
     },
     "metadata": {},
     "output_type": "display_data"
    },
    {
     "data": {
      "text/html": [
       "\n",
       "        <div id=\"H7stHbcVYoh2d8Rts8UFVi\"></div>\n",
       "        <script>netpixi.call('H7stHbcVYoh2d8Rts8UFVi', 'K4weoEfgX3kSNzn3gxGtaY', 'changeGraph', 'eyJpZCI6IDI3NSwgInR5cGUiOiAidmVydGV4IiwgInByb3BzIjogeyJzaXplIjogMTcuNjkzNDA5NzQyMTIwMzQ1fX0K');</script>\n",
       "    "
      ],
      "text/plain": [
       "<IPython.core.display.HTML object>"
      ]
     },
     "metadata": {},
     "output_type": "display_data"
    },
    {
     "data": {
      "text/html": [
       "\n",
       "        <div id=\"VvQNs2LhNrQgmg7ZyFnuV2\"></div>\n",
       "        <script>netpixi.call('VvQNs2LhNrQgmg7ZyFnuV2', 'K4weoEfgX3kSNzn3gxGtaY', 'changeGraph', 'eyJpZCI6IDI3NiwgInR5cGUiOiAidmVydGV4IiwgInByb3BzIjogeyJzaXplIjogMTkuNzI3NzkzNjk2Mjc1MDd9fQo=');</script>\n",
       "    "
      ],
      "text/plain": [
       "<IPython.core.display.HTML object>"
      ]
     },
     "metadata": {},
     "output_type": "display_data"
    },
    {
     "data": {
      "text/html": [
       "\n",
       "        <div id=\"MKjFCxuC3DDWRQvPmchjTF\"></div>\n",
       "        <script>netpixi.call('MKjFCxuC3DDWRQvPmchjTF', 'K4weoEfgX3kSNzn3gxGtaY', 'changeGraph', 'eyJpZCI6IDI3NywgInR5cGUiOiAidmVydGV4IiwgInByb3BzIjogeyJzaXplIjogMTcuNTA3MTYzMzIzNzgyMjMzfX0K');</script>\n",
       "    "
      ],
      "text/plain": [
       "<IPython.core.display.HTML object>"
      ]
     },
     "metadata": {},
     "output_type": "display_data"
    },
    {
     "data": {
      "text/html": [
       "\n",
       "        <div id=\"W5yj2JcQdXDPDtUakUwPhF\"></div>\n",
       "        <script>netpixi.call('W5yj2JcQdXDPDtUakUwPhF', 'K4weoEfgX3kSNzn3gxGtaY', 'changeGraph', 'eyJpZCI6IDI3OCwgInR5cGUiOiAidmVydGV4IiwgInByb3BzIjogeyJzaXplIjogNDYuNH19Cg==');</script>\n",
       "    "
      ],
      "text/plain": [
       "<IPython.core.display.HTML object>"
      ]
     },
     "metadata": {},
     "output_type": "display_data"
    },
    {
     "data": {
      "text/html": [
       "\n",
       "        <div id=\"bU8iqgYWKAEXs8LN3MYGAW\"></div>\n",
       "        <script>netpixi.call('bU8iqgYWKAEXs8LN3MYGAW', 'K4weoEfgX3kSNzn3gxGtaY', 'changeGraph', 'eyJpZCI6IDI3OSwgInR5cGUiOiAidmVydGV4IiwgInByb3BzIjogeyJzaXplIjogMTguMjk1MTI4OTM5ODI4MDgyfX0K');</script>\n",
       "    "
      ],
      "text/plain": [
       "<IPython.core.display.HTML object>"
      ]
     },
     "metadata": {},
     "output_type": "display_data"
    },
    {
     "data": {
      "text/html": [
       "\n",
       "        <div id=\"2KU8GEZ69ppn4nPq3jmMec\"></div>\n",
       "        <script>netpixi.call('2KU8GEZ69ppn4nPq3jmMec', 'K4weoEfgX3kSNzn3gxGtaY', 'changeGraph', 'eyJpZCI6IDI4MCwgInR5cGUiOiAidmVydGV4IiwgInByb3BzIjogeyJzaXplIjogMTIuNTIxNDg5OTcxMzQ2NzA1fX0K');</script>\n",
       "    "
      ],
      "text/plain": [
       "<IPython.core.display.HTML object>"
      ]
     },
     "metadata": {},
     "output_type": "display_data"
    },
    {
     "data": {
      "text/html": [
       "\n",
       "        <div id=\"erKBoUX6kJqCrvKAnSxsko\"></div>\n",
       "        <script>netpixi.call('erKBoUX6kJqCrvKAnSxsko', 'K4weoEfgX3kSNzn3gxGtaY', 'changeGraph', 'eyJpZCI6IDI4MSwgInR5cGUiOiAidmVydGV4IiwgInByb3BzIjogeyJzaXplIjogMTEuMzMyMzc4MjIzNDk1NzAyfX0K');</script>\n",
       "    "
      ],
      "text/plain": [
       "<IPython.core.display.HTML object>"
      ]
     },
     "metadata": {},
     "output_type": "display_data"
    },
    {
     "data": {
      "text/html": [
       "\n",
       "        <div id=\"Tx7LdNQc6JDzUY7QStVAMv\"></div>\n",
       "        <script>netpixi.call('Tx7LdNQc6JDzUY7QStVAMv', 'K4weoEfgX3kSNzn3gxGtaY', 'changeGraph', 'eyJpZCI6IDI4MiwgInR5cGUiOiAidmVydGV4IiwgInByb3BzIjogeyJzaXplIjogMTAuMDQyOTc5OTQyNjkzNDF9fQo=');</script>\n",
       "    "
      ],
      "text/plain": [
       "<IPython.core.display.HTML object>"
      ]
     },
     "metadata": {},
     "output_type": "display_data"
    },
    {
     "data": {
      "text/html": [
       "\n",
       "        <div id=\"ETGdSZpYTyXXipqGSdHR77\"></div>\n",
       "        <script>netpixi.call('ETGdSZpYTyXXipqGSdHR77', 'K4weoEfgX3kSNzn3gxGtaY', 'changeGraph', 'eyJpZCI6IDI4MywgInR5cGUiOiAidmVydGV4IiwgInByb3BzIjogeyJzaXplIjogNDkuNzcxNDI4NTcxNDI4NTd9fQo=');</script>\n",
       "    "
      ],
      "text/plain": [
       "<IPython.core.display.HTML object>"
      ]
     },
     "metadata": {},
     "output_type": "display_data"
    },
    {
     "data": {
      "text/html": [
       "\n",
       "        <div id=\"cRTyjTbXt8vMiTmTp8kKyN\"></div>\n",
       "        <script>netpixi.call('cRTyjTbXt8vMiTmTp8kKyN', 'K4weoEfgX3kSNzn3gxGtaY', 'changeGraph', 'eyJpZCI6IDI4NCwgInR5cGUiOiAidmVydGV4IiwgInByb3BzIjogeyJzaXplIjogNDQuOTE0Mjg1NzE0Mjg1NzJ9fQo=');</script>\n",
       "    "
      ],
      "text/plain": [
       "<IPython.core.display.HTML object>"
      ]
     },
     "metadata": {},
     "output_type": "display_data"
    },
    {
     "data": {
      "text/html": [
       "\n",
       "        <div id=\"XDPVME5JUhxGyWSXxuPCDd\"></div>\n",
       "        <script>netpixi.call('XDPVME5JUhxGyWSXxuPCDd', 'K4weoEfgX3kSNzn3gxGtaY', 'changeGraph', 'eyJpZCI6IDI4NSwgInR5cGUiOiAidmVydGV4IiwgInByb3BzIjogeyJzaXplIjogNDMuNTQyODU3MTQyODU3MTQ0fX0K');</script>\n",
       "    "
      ],
      "text/plain": [
       "<IPython.core.display.HTML object>"
      ]
     },
     "metadata": {},
     "output_type": "display_data"
    },
    {
     "data": {
      "text/html": [
       "\n",
       "        <div id=\"UBFrDfQaNB6Q8P3UBCG9aX\"></div>\n",
       "        <script>netpixi.call('UBFrDfQaNB6Q8P3UBCG9aX', 'K4weoEfgX3kSNzn3gxGtaY', 'changeGraph', 'eyJpZCI6IDI4NiwgInR5cGUiOiAidmVydGV4IiwgInByb3BzIjogeyJzaXplIjogNDguOTcxNDI4NTcxNDI4NTc1fX0K');</script>\n",
       "    "
      ],
      "text/plain": [
       "<IPython.core.display.HTML object>"
      ]
     },
     "metadata": {},
     "output_type": "display_data"
    },
    {
     "data": {
      "text/html": [
       "\n",
       "        <div id=\"dMttQcTpVHxbJcaLAD44gG\"></div>\n",
       "        <script>netpixi.call('dMttQcTpVHxbJcaLAD44gG', 'K4weoEfgX3kSNzn3gxGtaY', 'changeGraph', 'eyJpZCI6IDI4NywgInR5cGUiOiAidmVydGV4IiwgInByb3BzIjogeyJzaXplIjogMTkuNjcwNDg3MTA2MDE3MTl9fQo=');</script>\n",
       "    "
      ],
      "text/plain": [
       "<IPython.core.display.HTML object>"
      ]
     },
     "metadata": {},
     "output_type": "display_data"
    },
    {
     "data": {
      "text/html": [
       "\n",
       "        <div id=\"JvdVbRfokXdt4EbaW3tZyD\"></div>\n",
       "        <script>netpixi.call('JvdVbRfokXdt4EbaW3tZyD', 'K4weoEfgX3kSNzn3gxGtaY', 'changeGraph', 'eyJpZCI6IDI4OCwgInR5cGUiOiAidmVydGV4IiwgInByb3BzIjogeyJzaXplIjogMTIuOTIyNjM2MTAzMTUxODYzfX0K');</script>\n",
       "    "
      ],
      "text/plain": [
       "<IPython.core.display.HTML object>"
      ]
     },
     "metadata": {},
     "output_type": "display_data"
    },
    {
     "data": {
      "text/html": [
       "\n",
       "        <div id=\"BtYTQgNfnNNHLET84gjzWq\"></div>\n",
       "        <script>netpixi.call('BtYTQgNfnNNHLET84gjzWq', 'K4weoEfgX3kSNzn3gxGtaY', 'changeGraph', 'eyJpZCI6IDI4OSwgInR5cGUiOiAidmVydGV4IiwgInByb3BzIjogeyJzaXplIjogNDQuNDU3MTQyODU3MTQyODU2fX0K');</script>\n",
       "    "
      ],
      "text/plain": [
       "<IPython.core.display.HTML object>"
      ]
     },
     "metadata": {},
     "output_type": "display_data"
    },
    {
     "data": {
      "text/html": [
       "\n",
       "        <div id=\"7HkcYBByr8LUvichd6hjQi\"></div>\n",
       "        <script>netpixi.call('7HkcYBByr8LUvichd6hjQi', 'K4weoEfgX3kSNzn3gxGtaY', 'changeGraph', 'eyJpZCI6IDI5MCwgInR5cGUiOiAidmVydGV4IiwgInByb3BzIjogeyJzaXplIjogNDUuNDg1NzE0Mjg1NzE0Mjl9fQo=');</script>\n",
       "    "
      ],
      "text/plain": [
       "<IPython.core.display.HTML object>"
      ]
     },
     "metadata": {},
     "output_type": "display_data"
    },
    {
     "data": {
      "text/html": [
       "\n",
       "        <div id=\"VjAEtmW6zP8iQgbScYZCEh\"></div>\n",
       "        <script>netpixi.call('VjAEtmW6zP8iQgbScYZCEh', 'K4weoEfgX3kSNzn3gxGtaY', 'changeGraph', 'eyJpZCI6IDI5MSwgInR5cGUiOiAidmVydGV4IiwgInByb3BzIjogeyJzaXplIjogMTkuMDk3NDIxMjAzNDM4Mzk0fX0K');</script>\n",
       "    "
      ],
      "text/plain": [
       "<IPython.core.display.HTML object>"
      ]
     },
     "metadata": {},
     "output_type": "display_data"
    },
    {
     "data": {
      "text/html": [
       "\n",
       "        <div id=\"QrZw3Ua7wgo22U8n6q5Umb\"></div>\n",
       "        <script>netpixi.call('QrZw3Ua7wgo22U8n6q5Umb', 'K4weoEfgX3kSNzn3gxGtaY', 'changeGraph', 'eyJpZCI6IDI5MiwgInR5cGUiOiAidmVydGV4IiwgInByb3BzIjogeyJzaXplIjogNDYuNDU3MTQyODU3MTQyODU2fX0K');</script>\n",
       "    "
      ],
      "text/plain": [
       "<IPython.core.display.HTML object>"
      ]
     },
     "metadata": {},
     "output_type": "display_data"
    },
    {
     "data": {
      "text/html": [
       "\n",
       "        <div id=\"E5FappBAKzZcRA3YpRUidu\"></div>\n",
       "        <script>netpixi.call('E5FappBAKzZcRA3YpRUidu', 'K4weoEfgX3kSNzn3gxGtaY', 'changeGraph', 'eyJpZCI6IDI5MywgInR5cGUiOiAidmVydGV4IiwgInByb3BzIjogeyJzaXplIjogNDguNTcxNDI4NTcxNDI4NTd9fQo=');</script>\n",
       "    "
      ],
      "text/plain": [
       "<IPython.core.display.HTML object>"
      ]
     },
     "metadata": {},
     "output_type": "display_data"
    },
    {
     "data": {
      "text/html": [
       "\n",
       "        <div id=\"e6V7sQAeXSfkonNEZkqWaj\"></div>\n",
       "        <script>netpixi.call('e6V7sQAeXSfkonNEZkqWaj', 'K4weoEfgX3kSNzn3gxGtaY', 'changeGraph', 'eyJpZCI6IDI5NCwgInR5cGUiOiAidmVydGV4IiwgInByb3BzIjogeyJzaXplIjogNDUuNn19Cg==');</script>\n",
       "    "
      ],
      "text/plain": [
       "<IPython.core.display.HTML object>"
      ]
     },
     "metadata": {},
     "output_type": "display_data"
    },
    {
     "data": {
      "text/html": [
       "\n",
       "        <div id=\"FWmSQL6WBwLSqaHbzZF3EQ\"></div>\n",
       "        <script>netpixi.call('FWmSQL6WBwLSqaHbzZF3EQ', 'K4weoEfgX3kSNzn3gxGtaY', 'changeGraph', 'eyJpZCI6IDI5NSwgInR5cGUiOiAidmVydGV4IiwgInByb3BzIjogeyJzaXplIjogNDYuMTE0Mjg1NzE0Mjg1NzE0fX0K');</script>\n",
       "    "
      ],
      "text/plain": [
       "<IPython.core.display.HTML object>"
      ]
     },
     "metadata": {},
     "output_type": "display_data"
    },
    {
     "data": {
      "text/html": [
       "\n",
       "        <div id=\"aQ9r6huLXCyoBXXYzAzQtt\"></div>\n",
       "        <script>netpixi.call('aQ9r6huLXCyoBXXYzAzQtt', 'K4weoEfgX3kSNzn3gxGtaY', 'changeGraph', 'eyJpZCI6IDI5NiwgInR5cGUiOiAidmVydGV4IiwgInByb3BzIjogeyJzaXplIjogNDguOH19Cg==');</script>\n",
       "    "
      ],
      "text/plain": [
       "<IPython.core.display.HTML object>"
      ]
     },
     "metadata": {},
     "output_type": "display_data"
    },
    {
     "data": {
      "text/html": [
       "\n",
       "        <div id=\"CzrhBSHb5MBzEv8UNvLUgv\"></div>\n",
       "        <script>netpixi.call('CzrhBSHb5MBzEv8UNvLUgv', 'K4weoEfgX3kSNzn3gxGtaY', 'changeGraph', 'eyJpZCI6IDI5NywgInR5cGUiOiAidmVydGV4IiwgInByb3BzIjogeyJzaXplIjogNDMuNDI4NTcxNDI4NTcxNDN9fQo=');</script>\n",
       "    "
      ],
      "text/plain": [
       "<IPython.core.display.HTML object>"
      ]
     },
     "metadata": {},
     "output_type": "display_data"
    },
    {
     "data": {
      "text/html": [
       "\n",
       "        <div id=\"DCuuSM4PL6tThbUqfv8qCm\"></div>\n",
       "        <script>netpixi.call('DCuuSM4PL6tThbUqfv8qCm', 'K4weoEfgX3kSNzn3gxGtaY', 'changeGraph', 'eyJpZCI6IDI5OCwgInR5cGUiOiAidmVydGV4IiwgInByb3BzIjogeyJzaXplIjogNDcuNTk5OTk5OTk5OTk5OTk0fX0K');</script>\n",
       "    "
      ],
      "text/plain": [
       "<IPython.core.display.HTML object>"
      ]
     },
     "metadata": {},
     "output_type": "display_data"
    },
    {
     "data": {
      "text/html": [
       "\n",
       "        <div id=\"Ghu9WPUdGHGUZACa8WNH2T\"></div>\n",
       "        <script>netpixi.call('Ghu9WPUdGHGUZACa8WNH2T', 'K4weoEfgX3kSNzn3gxGtaY', 'changeGraph', 'eyJpZCI6IDI5OSwgInR5cGUiOiAidmVydGV4IiwgInByb3BzIjogeyJzaXplIjogMTguODI1MjE0ODk5NzEzNDY1fX0K');</script>\n",
       "    "
      ],
      "text/plain": [
       "<IPython.core.display.HTML object>"
      ]
     },
     "metadata": {},
     "output_type": "display_data"
    },
    {
     "data": {
      "text/html": [
       "\n",
       "        <div id=\"jm4mjogApbUaXnpsUQBuqB\"></div>\n",
       "        <script>netpixi.call('jm4mjogApbUaXnpsUQBuqB', 'K4weoEfgX3kSNzn3gxGtaY', 'changeGraph', 'eyJpZCI6IDMwMCwgInR5cGUiOiAidmVydGV4IiwgInByb3BzIjogeyJzaXplIjogNDMuMDI4NTcxNDI4NTcxNDN9fQo=');</script>\n",
       "    "
      ],
      "text/plain": [
       "<IPython.core.display.HTML object>"
      ]
     },
     "metadata": {},
     "output_type": "display_data"
    },
    {
     "data": {
      "text/html": [
       "\n",
       "        <div id=\"LoantkdBJFPaj3usbtAwnj\"></div>\n",
       "        <script>netpixi.call('LoantkdBJFPaj3usbtAwnj', 'K4weoEfgX3kSNzn3gxGtaY', 'changeGraph', 'eyJpZCI6IDMwMSwgInR5cGUiOiAidmVydGV4IiwgInByb3BzIjogeyJzaXplIjogMTcuNDIxMjAzNDM4Mzk1NDE2fX0K');</script>\n",
       "    "
      ],
      "text/plain": [
       "<IPython.core.display.HTML object>"
      ]
     },
     "metadata": {},
     "output_type": "display_data"
    },
    {
     "data": {
      "text/html": [
       "\n",
       "        <div id=\"VCaNZUVrXFxjs4wALgasVi\"></div>\n",
       "        <script>netpixi.call('VCaNZUVrXFxjs4wALgasVi', 'K4weoEfgX3kSNzn3gxGtaY', 'changeGraph', 'eyJpZCI6IDMwMiwgInR5cGUiOiAidmVydGV4IiwgInByb3BzIjogeyJzaXplIjogMTkuMTgzMzgxMDg4ODI1MjE1fX0K');</script>\n",
       "    "
      ],
      "text/plain": [
       "<IPython.core.display.HTML object>"
      ]
     },
     "metadata": {},
     "output_type": "display_data"
    },
    {
     "data": {
      "text/html": [
       "\n",
       "        <div id=\"WN5neQdjqnqyEiYh3UjtaA\"></div>\n",
       "        <script>netpixi.call('WN5neQdjqnqyEiYh3UjtaA', 'K4weoEfgX3kSNzn3gxGtaY', 'changeGraph', 'eyJpZCI6IDMwMywgInR5cGUiOiAidmVydGV4IiwgInByb3BzIjogeyJzaXplIjogMTcuODUxMDAyODY1MzI5NTEyfX0K');</script>\n",
       "    "
      ],
      "text/plain": [
       "<IPython.core.display.HTML object>"
      ]
     },
     "metadata": {},
     "output_type": "display_data"
    },
    {
     "data": {
      "text/html": [
       "\n",
       "        <div id=\"WxXpnj9wmMqTWxYMN3oHCo\"></div>\n",
       "        <script>netpixi.call('WxXpnj9wmMqTWxYMN3oHCo', 'K4weoEfgX3kSNzn3gxGtaY', 'changeGraph', 'eyJpZCI6IDMwNCwgInR5cGUiOiAidmVydGV4IiwgInByb3BzIjogeyJzaXplIjogMTkuNzk5NDI2OTM0MDk3NDJ9fQo=');</script>\n",
       "    "
      ],
      "text/plain": [
       "<IPython.core.display.HTML object>"
      ]
     },
     "metadata": {},
     "output_type": "display_data"
    },
    {
     "data": {
      "text/html": [
       "\n",
       "        <div id=\"n3baG43tHtGKDT2LVWtrpH\"></div>\n",
       "        <script>netpixi.call('n3baG43tHtGKDT2LVWtrpH', 'K4weoEfgX3kSNzn3gxGtaY', 'changeGraph', 'eyJpZCI6IDMwNSwgInR5cGUiOiAidmVydGV4IiwgInByb3BzIjogeyJzaXplIjogMTUuOTAyNTc4Nzk2NTYxNjA0fX0K');</script>\n",
       "    "
      ],
      "text/plain": [
       "<IPython.core.display.HTML object>"
      ]
     },
     "metadata": {},
     "output_type": "display_data"
    },
    {
     "data": {
      "text/html": [
       "\n",
       "        <div id=\"EaMi9zzBhjTPnabZkKGjqV\"></div>\n",
       "        <script>netpixi.call('EaMi9zzBhjTPnabZkKGjqV', 'K4weoEfgX3kSNzn3gxGtaY', 'changeGraph', 'eyJpZCI6IDMwNiwgInR5cGUiOiAidmVydGV4IiwgInByb3BzIjogeyJzaXplIjogMTYuNjA0NTg0NTI3MjIwNjN9fQo=');</script>\n",
       "    "
      ],
      "text/plain": [
       "<IPython.core.display.HTML object>"
      ]
     },
     "metadata": {},
     "output_type": "display_data"
    },
    {
     "data": {
      "text/html": [
       "\n",
       "        <div id=\"J5MTZBsKFm8q6PJmozVLeh\"></div>\n",
       "        <script>netpixi.call('J5MTZBsKFm8q6PJmozVLeh', 'K4weoEfgX3kSNzn3gxGtaY', 'changeGraph', 'eyJpZCI6IDMwNywgInR5cGUiOiAidmVydGV4IiwgInByb3BzIjogeyJzaXplIjogMTYuMTMxODA1MTU3NTkzMTI0fX0K');</script>\n",
       "    "
      ],
      "text/plain": [
       "<IPython.core.display.HTML object>"
      ]
     },
     "metadata": {},
     "output_type": "display_data"
    },
    {
     "data": {
      "text/html": [
       "\n",
       "        <div id=\"TW6mUqiGYE5JpkXvfuV5qH\"></div>\n",
       "        <script>netpixi.call('TW6mUqiGYE5JpkXvfuV5qH', 'K4weoEfgX3kSNzn3gxGtaY', 'changeGraph', 'eyJpZCI6IDMwOCwgInR5cGUiOiAidmVydGV4IiwgInByb3BzIjogeyJzaXplIjogMTUuMjI5MjI2MzYxMDMxNTE4fX0K');</script>\n",
       "    "
      ],
      "text/plain": [
       "<IPython.core.display.HTML object>"
      ]
     },
     "metadata": {},
     "output_type": "display_data"
    },
    {
     "data": {
      "text/html": [
       "\n",
       "        <div id=\"JSRNJekp9nbeMGg8yVhAqu\"></div>\n",
       "        <script>netpixi.call('JSRNJekp9nbeMGg8yVhAqu', 'K4weoEfgX3kSNzn3gxGtaY', 'changeGraph', 'eyJpZCI6IDMwOSwgInR5cGUiOiAidmVydGV4IiwgInByb3BzIjogeyJzaXplIjogMTIuMTYzMzIzNzgyMjM0OTU4fX0K');</script>\n",
       "    "
      ],
      "text/plain": [
       "<IPython.core.display.HTML object>"
      ]
     },
     "metadata": {},
     "output_type": "display_data"
    },
    {
     "data": {
      "text/html": [
       "\n",
       "        <div id=\"SSS7cYSDTospi6qDW7VFJC\"></div>\n",
       "        <script>netpixi.call('SSS7cYSDTospi6qDW7VFJC', 'K4weoEfgX3kSNzn3gxGtaY', 'changeGraph', 'eyJpZCI6IDMxMCwgInR5cGUiOiAidmVydGV4IiwgInByb3BzIjogeyJzaXplIjogMTEuNDE4MzM4MTA4ODgyNTIxfX0K');</script>\n",
       "    "
      ],
      "text/plain": [
       "<IPython.core.display.HTML object>"
      ]
     },
     "metadata": {},
     "output_type": "display_data"
    },
    {
     "data": {
      "text/html": [
       "\n",
       "        <div id=\"NS9HEpycvF8Soq7F6Qf5TY\"></div>\n",
       "        <script>netpixi.call('NS9HEpycvF8Soq7F6Qf5TY', 'K4weoEfgX3kSNzn3gxGtaY', 'changeGraph', 'eyJpZCI6IDMxMSwgInR5cGUiOiAidmVydGV4IiwgInByb3BzIjogeyJzaXplIjogMTEuMzYxMDMxNTE4NjI0NjQyfX0K');</script>\n",
       "    "
      ],
      "text/plain": [
       "<IPython.core.display.HTML object>"
      ]
     },
     "metadata": {},
     "output_type": "display_data"
    },
    {
     "data": {
      "text/html": [
       "\n",
       "        <div id=\"oSdTTxXb6b5G3iwAe9c2HH\"></div>\n",
       "        <script>netpixi.call('oSdTTxXb6b5G3iwAe9c2HH', 'K4weoEfgX3kSNzn3gxGtaY', 'changeGraph', 'eyJpZCI6IDMxMiwgInR5cGUiOiAidmVydGV4IiwgInByb3BzIjogeyJzaXplIjogMTcuMDkxNjkwNTQ0NDEyNjA3fX0K');</script>\n",
       "    "
      ],
      "text/plain": [
       "<IPython.core.display.HTML object>"
      ]
     },
     "metadata": {},
     "output_type": "display_data"
    },
    {
     "data": {
      "text/html": [
       "\n",
       "        <div id=\"joX7kuHfAqKHB66QTvp4H2\"></div>\n",
       "        <script>netpixi.call('joX7kuHfAqKHB66QTvp4H2', 'K4weoEfgX3kSNzn3gxGtaY', 'changeGraph', 'eyJpZCI6IDMxMywgInR5cGUiOiAidmVydGV4IiwgInByb3BzIjogeyJzaXplIjogMTAuODE2NjE4OTExMTc0Nzg1fX0K');</script>\n",
       "    "
      ],
      "text/plain": [
       "<IPython.core.display.HTML object>"
      ]
     },
     "metadata": {},
     "output_type": "display_data"
    },
    {
     "data": {
      "text/html": [
       "\n",
       "        <div id=\"PqtHJAa3fVwjb2iWvh8WfX\"></div>\n",
       "        <script>netpixi.call('PqtHJAa3fVwjb2iWvh8WfX', 'K4weoEfgX3kSNzn3gxGtaY', 'changeGraph', 'eyJpZCI6IDMxNCwgInR5cGUiOiAidmVydGV4IiwgInByb3BzIjogeyJzaXplIjogNDkuMDg1NzE0Mjg1NzE0Mjh9fQo=');</script>\n",
       "    "
      ],
      "text/plain": [
       "<IPython.core.display.HTML object>"
      ]
     },
     "metadata": {},
     "output_type": "display_data"
    },
    {
     "data": {
      "text/html": [
       "\n",
       "        <div id=\"9kXSJNUgitpUB5U8N6bXM6\"></div>\n",
       "        <script>netpixi.call('9kXSJNUgitpUB5U8N6bXM6', 'K4weoEfgX3kSNzn3gxGtaY', 'changeGraph', 'eyJpZCI6IDMxNSwgInR5cGUiOiAidmVydGV4IiwgInByb3BzIjogeyJzaXplIjogMTEuMjg5Mzk4MjgwODAyMjkyfX0K');</script>\n",
       "    "
      ],
      "text/plain": [
       "<IPython.core.display.HTML object>"
      ]
     },
     "metadata": {},
     "output_type": "display_data"
    },
    {
     "data": {
      "text/html": [
       "\n",
       "        <div id=\"AZ4CHYS7gdkoQFEC8dbNWw\"></div>\n",
       "        <script>netpixi.call('AZ4CHYS7gdkoQFEC8dbNWw', 'K4weoEfgX3kSNzn3gxGtaY', 'changeGraph', 'eyJpZCI6IDMxNiwgInR5cGUiOiAidmVydGV4IiwgInByb3BzIjogeyJzaXplIjogMTEuOTM0MDk3NDIxMjAzNDM4fX0K');</script>\n",
       "    "
      ],
      "text/plain": [
       "<IPython.core.display.HTML object>"
      ]
     },
     "metadata": {},
     "output_type": "display_data"
    },
    {
     "data": {
      "text/html": [
       "\n",
       "        <div id=\"ESYMAfQkHXSdzsEBT8qBNL\"></div>\n",
       "        <script>netpixi.call('ESYMAfQkHXSdzsEBT8qBNL', 'K4weoEfgX3kSNzn3gxGtaY', 'changeGraph', 'eyJpZCI6IDMxNywgInR5cGUiOiAidmVydGV4IiwgInByb3BzIjogeyJzaXplIjogMTguMjM3ODIyMzQ5NTcwMn19Cg==');</script>\n",
       "    "
      ],
      "text/plain": [
       "<IPython.core.display.HTML object>"
      ]
     },
     "metadata": {},
     "output_type": "display_data"
    },
    {
     "data": {
      "text/html": [
       "\n",
       "        <div id=\"VTswq9MKsJtjJqT5n7c9GY\"></div>\n",
       "        <script>netpixi.call('VTswq9MKsJtjJqT5n7c9GY', 'K4weoEfgX3kSNzn3gxGtaY', 'changeGraph', 'eyJpZCI6IDMxOCwgInR5cGUiOiAidmVydGV4IiwgInByb3BzIjogeyJzaXplIjogMTcuNjIxNzc2NTA0Mjk3OTk0fX0K');</script>\n",
       "    "
      ],
      "text/plain": [
       "<IPython.core.display.HTML object>"
      ]
     },
     "metadata": {},
     "output_type": "display_data"
    },
    {
     "data": {
      "text/html": [
       "\n",
       "        <div id=\"mTjG6YNkUDudXFaMV5Z2FK\"></div>\n",
       "        <script>netpixi.call('mTjG6YNkUDudXFaMV5Z2FK', 'K4weoEfgX3kSNzn3gxGtaY', 'changeGraph', 'eyJpZCI6IDMxOSwgInR5cGUiOiAidmVydGV4IiwgInByb3BzIjogeyJzaXplIjogMTguNzUzNTgxNjYxODkxMTJ9fQo=');</script>\n",
       "    "
      ],
      "text/plain": [
       "<IPython.core.display.HTML object>"
      ]
     },
     "metadata": {},
     "output_type": "display_data"
    },
    {
     "data": {
      "text/html": [
       "\n",
       "        <div id=\"dU3smqpa4EdNJ9spSzxST2\"></div>\n",
       "        <script>netpixi.call('dU3smqpa4EdNJ9spSzxST2', 'K4weoEfgX3kSNzn3gxGtaY', 'changeGraph', 'eyJpZCI6IDMyMCwgInR5cGUiOiAidmVydGV4IiwgInByb3BzIjogeyJzaXplIjogMTkuOTE0MDQwMTE0NjEzMTh9fQo=');</script>\n",
       "    "
      ],
      "text/plain": [
       "<IPython.core.display.HTML object>"
      ]
     },
     "metadata": {},
     "output_type": "display_data"
    },
    {
     "data": {
      "text/html": [
       "\n",
       "        <div id=\"8CXjfw3esiqqFuHbfyPE7S\"></div>\n",
       "        <script>netpixi.call('8CXjfw3esiqqFuHbfyPE7S', 'K4weoEfgX3kSNzn3gxGtaY', 'changeGraph', 'eyJpZCI6IDMyMSwgInR5cGUiOiAidmVydGV4IiwgInByb3BzIjogeyJzaXplIjogNDEuOTQyODU3MTQyODU3MTR9fQo=');</script>\n",
       "    "
      ],
      "text/plain": [
       "<IPython.core.display.HTML object>"
      ]
     },
     "metadata": {},
     "output_type": "display_data"
    },
    {
     "data": {
      "text/html": [
       "\n",
       "        <div id=\"bYRii4tLCZNQzrQsws2Psg\"></div>\n",
       "        <script>netpixi.call('bYRii4tLCZNQzrQsws2Psg', 'K4weoEfgX3kSNzn3gxGtaY', 'changeGraph', 'eyJpZCI6IDMyMiwgInR5cGUiOiAidmVydGV4IiwgInByb3BzIjogeyJzaXplIjogMTguMDgwMjI5MjI2MzYxMDN9fQo=');</script>\n",
       "    "
      ],
      "text/plain": [
       "<IPython.core.display.HTML object>"
      ]
     },
     "metadata": {},
     "output_type": "display_data"
    },
    {
     "data": {
      "text/html": [
       "\n",
       "        <div id=\"guoCfmEpo94pvU7sRL7iZ2\"></div>\n",
       "        <script>netpixi.call('guoCfmEpo94pvU7sRL7iZ2', 'K4weoEfgX3kSNzn3gxGtaY', 'changeGraph', 'eyJpZCI6IDMyMywgInR5cGUiOiAidmVydGV4IiwgInByb3BzIjogeyJzaXplIjogNDUuNzE0Mjg1NzE0Mjg1NzF9fQo=');</script>\n",
       "    "
      ],
      "text/plain": [
       "<IPython.core.display.HTML object>"
      ]
     },
     "metadata": {},
     "output_type": "display_data"
    },
    {
     "data": {
      "text/html": [
       "\n",
       "        <div id=\"8hPiqKGjvj6KRmd4eimvaT\"></div>\n",
       "        <script>netpixi.call('8hPiqKGjvj6KRmd4eimvaT', 'K4weoEfgX3kSNzn3gxGtaY', 'changeGraph', 'eyJpZCI6IDMyNCwgInR5cGUiOiAidmVydGV4IiwgInByb3BzIjogeyJzaXplIjogNDYuMTcxNDI4NTcxNDI4NTd9fQo=');</script>\n",
       "    "
      ],
      "text/plain": [
       "<IPython.core.display.HTML object>"
      ]
     },
     "metadata": {},
     "output_type": "display_data"
    },
    {
     "data": {
      "text/html": [
       "\n",
       "        <div id=\"XCqbrtJMBAgaf7327QaKM4\"></div>\n",
       "        <script>netpixi.call('XCqbrtJMBAgaf7327QaKM4', 'K4weoEfgX3kSNzn3gxGtaY', 'changeGraph', 'eyJpZCI6IDMyNSwgInR5cGUiOiAidmVydGV4IiwgInByb3BzIjogeyJzaXplIjogNDEuMjU3MTQyODU3MTQyODZ9fQo=');</script>\n",
       "    "
      ],
      "text/plain": [
       "<IPython.core.display.HTML object>"
      ]
     },
     "metadata": {},
     "output_type": "display_data"
    },
    {
     "data": {
      "text/html": [
       "\n",
       "        <div id=\"PHsciScGQV5AHP2vFoYY3D\"></div>\n",
       "        <script>netpixi.call('PHsciScGQV5AHP2vFoYY3D', 'K4weoEfgX3kSNzn3gxGtaY', 'changeGraph', 'eyJpZCI6IDMyNiwgInR5cGUiOiAidmVydGV4IiwgInByb3BzIjogeyJzaXplIjogMTcuNzUwNzE2MzMyMzc4MjI1fX0K');</script>\n",
       "    "
      ],
      "text/plain": [
       "<IPython.core.display.HTML object>"
      ]
     },
     "metadata": {},
     "output_type": "display_data"
    },
    {
     "data": {
      "text/html": [
       "\n",
       "        <div id=\"XFu3uJjVLxHZmsH9qFaCKH\"></div>\n",
       "        <script>netpixi.call('XFu3uJjVLxHZmsH9qFaCKH', 'K4weoEfgX3kSNzn3gxGtaY', 'changeGraph', 'eyJpZCI6IDMyNywgInR5cGUiOiAidmVydGV4IiwgInByb3BzIjogeyJzaXplIjogMTYuNDMyNjY0NzU2NDQ2OTl9fQo=');</script>\n",
       "    "
      ],
      "text/plain": [
       "<IPython.core.display.HTML object>"
      ]
     },
     "metadata": {},
     "output_type": "display_data"
    },
    {
     "data": {
      "text/html": [
       "\n",
       "        <div id=\"D7Te3mpDV9pZaGsVNV4r7y\"></div>\n",
       "        <script>netpixi.call('D7Te3mpDV9pZaGsVNV4r7y', 'K4weoEfgX3kSNzn3gxGtaY', 'changeGraph', 'eyJpZCI6IDMyOCwgInR5cGUiOiAidmVydGV4IiwgInByb3BzIjogeyJzaXplIjogNDguNH19Cg==');</script>\n",
       "    "
      ],
      "text/plain": [
       "<IPython.core.display.HTML object>"
      ]
     },
     "metadata": {},
     "output_type": "display_data"
    },
    {
     "data": {
      "text/html": [
       "\n",
       "        <div id=\"NKhiKCzAwfoNpCburMfvur\"></div>\n",
       "        <script>netpixi.call('NKhiKCzAwfoNpCburMfvur', 'K4weoEfgX3kSNzn3gxGtaY', 'changeGraph', 'eyJpZCI6IDMyOSwgInR5cGUiOiAidmVydGV4IiwgInByb3BzIjogeyJzaXplIjogMTguMjIzNDk1NzAyMDA1NzN9fQo=');</script>\n",
       "    "
      ],
      "text/plain": [
       "<IPython.core.display.HTML object>"
      ]
     },
     "metadata": {},
     "output_type": "display_data"
    },
    {
     "data": {
      "text/html": [
       "\n",
       "        <div id=\"LGfRkjq75nxHmgNC6u2cN5\"></div>\n",
       "        <script>netpixi.call('LGfRkjq75nxHmgNC6u2cN5', 'K4weoEfgX3kSNzn3gxGtaY', 'changeGraph', 'eyJpZCI6IDMzMCwgInR5cGUiOiAidmVydGV4IiwgInByb3BzIjogeyJzaXplIjogMTEuNjMzMjM3ODIyMzQ5NTcxfX0K');</script>\n",
       "    "
      ],
      "text/plain": [
       "<IPython.core.display.HTML object>"
      ]
     },
     "metadata": {},
     "output_type": "display_data"
    },
    {
     "data": {
      "text/html": [
       "\n",
       "        <div id=\"QGLPWsehJmW2u4WDJPvhpz\"></div>\n",
       "        <script>netpixi.call('QGLPWsehJmW2u4WDJPvhpz', 'K4weoEfgX3kSNzn3gxGtaY', 'changeGraph', 'eyJpZCI6IDMzMSwgInR5cGUiOiAidmVydGV4IiwgInByb3BzIjogeyJzaXplIjogNDEuMzcxNDI4NTcxNDI4NTd9fQo=');</script>\n",
       "    "
      ],
      "text/plain": [
       "<IPython.core.display.HTML object>"
      ]
     },
     "metadata": {},
     "output_type": "display_data"
    },
    {
     "data": {
      "text/html": [
       "\n",
       "        <div id=\"UhYE5aZHNpGFLojSjKv72u\"></div>\n",
       "        <script>netpixi.call('UhYE5aZHNpGFLojSjKv72u', 'K4weoEfgX3kSNzn3gxGtaY', 'changeGraph', 'eyJpZCI6IDMzMiwgInR5cGUiOiAidmVydGV4IiwgInByb3BzIjogeyJzaXplIjogNDMuMDg1NzE0Mjg1NzE0Mjl9fQo=');</script>\n",
       "    "
      ],
      "text/plain": [
       "<IPython.core.display.HTML object>"
      ]
     },
     "metadata": {},
     "output_type": "display_data"
    },
    {
     "data": {
      "text/html": [
       "\n",
       "        <div id=\"kEGmsiehAPNmByK7KACQBV\"></div>\n",
       "        <script>netpixi.call('kEGmsiehAPNmByK7KACQBV', 'K4weoEfgX3kSNzn3gxGtaY', 'changeGraph', 'eyJpZCI6IDMzMywgInR5cGUiOiAidmVydGV4IiwgInByb3BzIjogeyJzaXplIjogNDUuMTQyODU3MTQyODU3MTR9fQo=');</script>\n",
       "    "
      ],
      "text/plain": [
       "<IPython.core.display.HTML object>"
      ]
     },
     "metadata": {},
     "output_type": "display_data"
    },
    {
     "data": {
      "text/html": [
       "\n",
       "        <div id=\"7t4yguXqwJKWV2H6LnV8uy\"></div>\n",
       "        <script>netpixi.call('7t4yguXqwJKWV2H6LnV8uy', 'K4weoEfgX3kSNzn3gxGtaY', 'changeGraph', 'eyJpZCI6IDMzNCwgInR5cGUiOiAidmVydGV4IiwgInByb3BzIjogeyJzaXplIjogMTQuNTU1ODczOTI1NTAxNDMyfX0K');</script>\n",
       "    "
      ],
      "text/plain": [
       "<IPython.core.display.HTML object>"
      ]
     },
     "metadata": {},
     "output_type": "display_data"
    },
    {
     "data": {
      "text/html": [
       "\n",
       "        <div id=\"kCRvJJdVXmpKgoyH5RwuYi\"></div>\n",
       "        <script>netpixi.call('kCRvJJdVXmpKgoyH5RwuYi', 'K4weoEfgX3kSNzn3gxGtaY', 'changeGraph', 'eyJpZCI6IDMzNSwgInR5cGUiOiAidmVydGV4IiwgInByb3BzIjogeyJzaXplIjogMTMuMDUxNTc1OTMxMjMyMDkyfX0K');</script>\n",
       "    "
      ],
      "text/plain": [
       "<IPython.core.display.HTML object>"
      ]
     },
     "metadata": {},
     "output_type": "display_data"
    },
    {
     "data": {
      "text/html": [
       "\n",
       "        <div id=\"i6mzYMrEL5cwiDy7imRpVW\"></div>\n",
       "        <script>netpixi.call('i6mzYMrEL5cwiDy7imRpVW', 'K4weoEfgX3kSNzn3gxGtaY', 'changeGraph', 'eyJpZCI6IDMzNiwgInR5cGUiOiAidmVydGV4IiwgInByb3BzIjogeyJzaXplIjogNDcuMzE0Mjg1NzE0Mjg1NzJ9fQo=');</script>\n",
       "    "
      ],
      "text/plain": [
       "<IPython.core.display.HTML object>"
      ]
     },
     "metadata": {},
     "output_type": "display_data"
    },
    {
     "data": {
      "text/html": [
       "\n",
       "        <div id=\"N2BoM8W5JqMYiJ3oQpybhw\"></div>\n",
       "        <script>netpixi.call('N2BoM8W5JqMYiJ3oQpybhw', 'K4weoEfgX3kSNzn3gxGtaY', 'changeGraph', 'eyJpZCI6IDMzNywgInR5cGUiOiAidmVydGV4IiwgInByb3BzIjogeyJzaXplIjogMTkuNDU1NTg3MzkyNTUwMTQzfX0K');</script>\n",
       "    "
      ],
      "text/plain": [
       "<IPython.core.display.HTML object>"
      ]
     },
     "metadata": {},
     "output_type": "display_data"
    },
    {
     "data": {
      "text/html": [
       "\n",
       "        <div id=\"A3YqjBHRV3g2Dxv4FYgaeN\"></div>\n",
       "        <script>netpixi.call('A3YqjBHRV3g2Dxv4FYgaeN', 'K4weoEfgX3kSNzn3gxGtaY', 'changeGraph', 'eyJpZCI6IDMzOCwgInR5cGUiOiAidmVydGV4IiwgInByb3BzIjogeyJzaXplIjogMTguNTY3MzM1MjQzNTUzMDF9fQo=');</script>\n",
       "    "
      ],
      "text/plain": [
       "<IPython.core.display.HTML object>"
      ]
     },
     "metadata": {},
     "output_type": "display_data"
    },
    {
     "data": {
      "text/html": [
       "\n",
       "        <div id=\"RPc9P6vQKwLnATsoXN3oRX\"></div>\n",
       "        <script>netpixi.call('RPc9P6vQKwLnATsoXN3oRX', 'K4weoEfgX3kSNzn3gxGtaY', 'changeGraph', 'eyJpZCI6IDMzOSwgInR5cGUiOiAidmVydGV4IiwgInByb3BzIjogeyJzaXplIjogMTUuOTc0MjEyMDM0MzgzOTU1fX0K');</script>\n",
       "    "
      ],
      "text/plain": [
       "<IPython.core.display.HTML object>"
      ]
     },
     "metadata": {},
     "output_type": "display_data"
    },
    {
     "data": {
      "text/html": [
       "\n",
       "        <div id=\"nckmAmGQmamRNZWuAkQRrf\"></div>\n",
       "        <script>netpixi.call('nckmAmGQmamRNZWuAkQRrf', 'K4weoEfgX3kSNzn3gxGtaY', 'changeGraph', 'eyJpZCI6IDM0MCwgInR5cGUiOiAidmVydGV4IiwgInByb3BzIjogeyJzaXplIjogNDguMTcxNDI4NTcxNDI4NTd9fQo=');</script>\n",
       "    "
      ],
      "text/plain": [
       "<IPython.core.display.HTML object>"
      ]
     },
     "metadata": {},
     "output_type": "display_data"
    },
    {
     "data": {
      "text/html": [
       "\n",
       "        <div id=\"bkhtd7ZHr6edq2ntJhaXqm\"></div>\n",
       "        <script>netpixi.call('bkhtd7ZHr6edq2ntJhaXqm', 'K4weoEfgX3kSNzn3gxGtaY', 'changeGraph', 'eyJpZCI6IDM0MSwgInR5cGUiOiAidmVydGV4IiwgInByb3BzIjogeyJzaXplIjogMTcuMzYzODk2ODQ4MTM3NTM2fX0K');</script>\n",
       "    "
      ],
      "text/plain": [
       "<IPython.core.display.HTML object>"
      ]
     },
     "metadata": {},
     "output_type": "display_data"
    },
    {
     "data": {
      "text/html": [
       "\n",
       "        <div id=\"2SDkuE26JXMCzmBTyS7NVk\"></div>\n",
       "        <script>netpixi.call('2SDkuE26JXMCzmBTyS7NVk', 'K4weoEfgX3kSNzn3gxGtaY', 'changeGraph', 'eyJpZCI6IDM0MiwgInR5cGUiOiAidmVydGV4IiwgInByb3BzIjogeyJzaXplIjogMTMuMDgwMjI5MjI2MzYxMDN9fQo=');</script>\n",
       "    "
      ],
      "text/plain": [
       "<IPython.core.display.HTML object>"
      ]
     },
     "metadata": {},
     "output_type": "display_data"
    },
    {
     "data": {
      "text/html": [
       "\n",
       "        <div id=\"mxV7yFis8gyRJU4TvJoaVL\"></div>\n",
       "        <script>netpixi.call('mxV7yFis8gyRJU4TvJoaVL', 'K4weoEfgX3kSNzn3gxGtaY', 'changeGraph', 'eyJpZCI6IDM0MywgInR5cGUiOiAidmVydGV4IiwgInByb3BzIjogeyJzaXplIjogMTkuODg1Mzg2ODE5NDg0MjR9fQo=');</script>\n",
       "    "
      ],
      "text/plain": [
       "<IPython.core.display.HTML object>"
      ]
     },
     "metadata": {},
     "output_type": "display_data"
    },
    {
     "data": {
      "text/html": [
       "\n",
       "        <div id=\"etfHyrnJNrYSybcAMCKFfM\"></div>\n",
       "        <script>netpixi.call('etfHyrnJNrYSybcAMCKFfM', 'K4weoEfgX3kSNzn3gxGtaY', 'changeGraph', 'eyJpZCI6IDM0NCwgInR5cGUiOiAidmVydGV4IiwgInByb3BzIjogeyJzaXplIjogMTguODgyNTIxNDg5OTcxMzQ2fX0K');</script>\n",
       "    "
      ],
      "text/plain": [
       "<IPython.core.display.HTML object>"
      ]
     },
     "metadata": {},
     "output_type": "display_data"
    },
    {
     "data": {
      "text/html": [
       "\n",
       "        <div id=\"AX5fjTkLLjfpTauCjVfLo7\"></div>\n",
       "        <script>netpixi.call('AX5fjTkLLjfpTauCjVfLo7', 'K4weoEfgX3kSNzn3gxGtaY', 'changeGraph', 'eyJpZCI6IDM0NSwgInR5cGUiOiAidmVydGV4IiwgInByb3BzIjogeyJzaXplIjogNDUuMzcxNDI4NTcxNDI4NTc0fX0K');</script>\n",
       "    "
      ],
      "text/plain": [
       "<IPython.core.display.HTML object>"
      ]
     },
     "metadata": {},
     "output_type": "display_data"
    },
    {
     "data": {
      "text/html": [
       "\n",
       "        <div id=\"QFX97Vc3NN6g7gzdLcnLmj\"></div>\n",
       "        <script>netpixi.call('QFX97Vc3NN6g7gzdLcnLmj', 'K4weoEfgX3kSNzn3gxGtaY', 'changeGraph', 'eyJpZCI6IDM0NiwgInR5cGUiOiAidmVydGV4IiwgInByb3BzIjogeyJzaXplIjogNDIuNTcxNDI4NTcxNDI4NTd9fQo=');</script>\n",
       "    "
      ],
      "text/plain": [
       "<IPython.core.display.HTML object>"
      ]
     },
     "metadata": {},
     "output_type": "display_data"
    },
    {
     "data": {
      "text/html": [
       "\n",
       "        <div id=\"WmJuD2xUEWWq5TTXNszKch\"></div>\n",
       "        <script>netpixi.call('WmJuD2xUEWWq5TTXNszKch', 'K4weoEfgX3kSNzn3gxGtaY', 'changeGraph', 'eyJpZCI6IDM0NywgInR5cGUiOiAidmVydGV4IiwgInByb3BzIjogeyJzaXplIjogNDQuNTcxNDI4NTcxNDI4NTd9fQo=');</script>\n",
       "    "
      ],
      "text/plain": [
       "<IPython.core.display.HTML object>"
      ]
     },
     "metadata": {},
     "output_type": "display_data"
    },
    {
     "data": {
      "text/html": [
       "\n",
       "        <div id=\"EftfKvZEazRy8ibMSo9Sou\"></div>\n",
       "        <script>netpixi.call('EftfKvZEazRy8ibMSo9Sou', 'K4weoEfgX3kSNzn3gxGtaY', 'changeGraph', 'eyJpZCI6IDM0OCwgInR5cGUiOiAidmVydGV4IiwgInByb3BzIjogeyJzaXplIjogMTcuNzIyMDYzMDM3MjQ5Mjg1fX0K');</script>\n",
       "    "
      ],
      "text/plain": [
       "<IPython.core.display.HTML object>"
      ]
     },
     "metadata": {},
     "output_type": "display_data"
    },
    {
     "data": {
      "text/html": [
       "\n",
       "        <div id=\"a2zrwJbEZy6AT86HFkLbRX\"></div>\n",
       "        <script>netpixi.call('a2zrwJbEZy6AT86HFkLbRX', 'K4weoEfgX3kSNzn3gxGtaY', 'changeGraph', 'eyJpZCI6IDM0OSwgInR5cGUiOiAidmVydGV4IiwgInByb3BzIjogeyJzaXplIjogMTkuNTEyODkzOTgyODA4MDIzfX0K');</script>\n",
       "    "
      ],
      "text/plain": [
       "<IPython.core.display.HTML object>"
      ]
     },
     "metadata": {},
     "output_type": "display_data"
    },
    {
     "data": {
      "text/html": [
       "\n",
       "        <div id=\"EzcJwrf4PUVcdER3HWgFJA\"></div>\n",
       "        <script>netpixi.call('EzcJwrf4PUVcdER3HWgFJA', 'K4weoEfgX3kSNzn3gxGtaY', 'changeGraph', 'eyJpZCI6IDM1MCwgInR5cGUiOiAidmVydGV4IiwgInByb3BzIjogeyJzaXplIjogMTguMzY2NzYyMTc3NjUwNDN9fQo=');</script>\n",
       "    "
      ],
      "text/plain": [
       "<IPython.core.display.HTML object>"
      ]
     },
     "metadata": {},
     "output_type": "display_data"
    },
    {
     "data": {
      "text/html": [
       "\n",
       "        <div id=\"VzV2w6ruQKv6EqfNQ3AF6w\"></div>\n",
       "        <script>netpixi.call('VzV2w6ruQKv6EqfNQ3AF6w', 'K4weoEfgX3kSNzn3gxGtaY', 'changeGraph', 'eyJpZCI6IDM1MSwgInR5cGUiOiAidmVydGV4IiwgInByb3BzIjogeyJzaXplIjogMTkuNDQxMjYwNzQ0OTg1NjczfX0K');</script>\n",
       "    "
      ],
      "text/plain": [
       "<IPython.core.display.HTML object>"
      ]
     },
     "metadata": {},
     "output_type": "display_data"
    },
    {
     "data": {
      "text/html": [
       "\n",
       "        <div id=\"Nc4vwEgjDb9KScfkm7tp5a\"></div>\n",
       "        <script>netpixi.call('Nc4vwEgjDb9KScfkm7tp5a', 'K4weoEfgX3kSNzn3gxGtaY', 'changeGraph', 'eyJpZCI6IDM1MiwgInR5cGUiOiAidmVydGV4IiwgInByb3BzIjogeyJzaXplIjogMTMuMzY2NzYyMTc3NjUwNDI5fX0K');</script>\n",
       "    "
      ],
      "text/plain": [
       "<IPython.core.display.HTML object>"
      ]
     },
     "metadata": {},
     "output_type": "display_data"
    },
    {
     "data": {
      "text/html": [
       "\n",
       "        <div id=\"8XhM5qpoyYaWA87rpAMyAE\"></div>\n",
       "        <script>netpixi.call('8XhM5qpoyYaWA87rpAMyAE', 'K4weoEfgX3kSNzn3gxGtaY', 'changeGraph', 'eyJpZCI6IDM1MywgInR5cGUiOiAidmVydGV4IiwgInByb3BzIjogeyJzaXplIjogMTkuMTQwNDAxMTQ2MTMxODA0fX0K');</script>\n",
       "    "
      ],
      "text/plain": [
       "<IPython.core.display.HTML object>"
      ]
     },
     "metadata": {},
     "output_type": "display_data"
    },
    {
     "data": {
      "text/html": [
       "\n",
       "        <div id=\"FiCiKNUEybbZbpoyPTCgFR\"></div>\n",
       "        <script>netpixi.call('FiCiKNUEybbZbpoyPTCgFR', 'K4weoEfgX3kSNzn3gxGtaY', 'changeGraph', 'eyJpZCI6IDM1NCwgInR5cGUiOiAidmVydGV4IiwgInByb3BzIjogeyJzaXplIjogMTcuOTIyNjM2MTAzMTUxODYzfX0K');</script>\n",
       "    "
      ],
      "text/plain": [
       "<IPython.core.display.HTML object>"
      ]
     },
     "metadata": {},
     "output_type": "display_data"
    },
    {
     "data": {
      "text/html": [
       "\n",
       "        <div id=\"BbPu7bKNHRgETomXN3nNZg\"></div>\n",
       "        <script>netpixi.call('BbPu7bKNHRgETomXN3nNZg', 'K4weoEfgX3kSNzn3gxGtaY', 'changeGraph', 'eyJpZCI6IDM1NSwgInR5cGUiOiAidmVydGV4IiwgInByb3BzIjogeyJzaXplIjogMTguNjk2Mjc1MDcxNjMzMjM4fX0K');</script>\n",
       "    "
      ],
      "text/plain": [
       "<IPython.core.display.HTML object>"
      ]
     },
     "metadata": {},
     "output_type": "display_data"
    },
    {
     "data": {
      "text/html": [
       "\n",
       "        <div id=\"j2tNptuWxFksdU5r4JwKkg\"></div>\n",
       "        <script>netpixi.call('j2tNptuWxFksdU5r4JwKkg', 'K4weoEfgX3kSNzn3gxGtaY', 'changeGraph', 'eyJpZCI6IDM1NiwgInR5cGUiOiAidmVydGV4IiwgInByb3BzIjogeyJzaXplIjogMTYuMzYxMDMxNTE4NjI0NjQyfX0K');</script>\n",
       "    "
      ],
      "text/plain": [
       "<IPython.core.display.HTML object>"
      ]
     },
     "metadata": {},
     "output_type": "display_data"
    },
    {
     "data": {
      "text/html": [
       "\n",
       "        <div id=\"nFnq5PFVcSrLgrHFLZvnY6\"></div>\n",
       "        <script>netpixi.call('nFnq5PFVcSrLgrHFLZvnY6', 'K4weoEfgX3kSNzn3gxGtaY', 'changeGraph', 'eyJpZCI6IDM1NywgInR5cGUiOiAidmVydGV4IiwgInByb3BzIjogeyJzaXplIjogMTUuNjczMzUyNDM1NTMwMDg2fX0K');</script>\n",
       "    "
      ],
      "text/plain": [
       "<IPython.core.display.HTML object>"
      ]
     },
     "metadata": {},
     "output_type": "display_data"
    },
    {
     "data": {
      "text/html": [
       "\n",
       "        <div id=\"YLePNjea4nBXLvmaN7MzPq\"></div>\n",
       "        <script>netpixi.call('YLePNjea4nBXLvmaN7MzPq', 'K4weoEfgX3kSNzn3gxGtaY', 'changeGraph', 'eyJpZCI6IDM1OCwgInR5cGUiOiAidmVydGV4IiwgInByb3BzIjogeyJzaXplIjogMTIuODA4MDIyOTIyNjM2MTAyfX0K');</script>\n",
       "    "
      ],
      "text/plain": [
       "<IPython.core.display.HTML object>"
      ]
     },
     "metadata": {},
     "output_type": "display_data"
    },
    {
     "data": {
      "text/html": [
       "\n",
       "        <div id=\"dVPwD8druQfZE4iHBo5rGN\"></div>\n",
       "        <script>netpixi.call('dVPwD8druQfZE4iHBo5rGN', 'K4weoEfgX3kSNzn3gxGtaY', 'changeGraph', 'eyJpZCI6IDM1OSwgInR5cGUiOiAidmVydGV4IiwgInByb3BzIjogeyJzaXplIjogMTYuMjg5Mzk4MjgwODAyMjkyfX0K');</script>\n",
       "    "
      ],
      "text/plain": [
       "<IPython.core.display.HTML object>"
      ]
     },
     "metadata": {},
     "output_type": "display_data"
    },
    {
     "data": {
      "text/html": [
       "\n",
       "        <div id=\"eyHQTVNZaGEELTXrYgLkbw\"></div>\n",
       "        <script>netpixi.call('eyHQTVNZaGEELTXrYgLkbw', 'K4weoEfgX3kSNzn3gxGtaY', 'changeGraph', 'eyJpZCI6IDM2MCwgInR5cGUiOiAidmVydGV4IiwgInByb3BzIjogeyJzaXplIjogMTMuNzUzNTgxNjYxODkxMTE3fX0K');</script>\n",
       "    "
      ],
      "text/plain": [
       "<IPython.core.display.HTML object>"
      ]
     },
     "metadata": {},
     "output_type": "display_data"
    },
    {
     "data": {
      "text/html": [
       "\n",
       "        <div id=\"5vsixehp7Hhbuu8ZiFm7Mo\"></div>\n",
       "        <script>netpixi.call('5vsixehp7Hhbuu8ZiFm7Mo', 'K4weoEfgX3kSNzn3gxGtaY', 'changeGraph', 'eyJpZCI6IDM2MSwgInR5cGUiOiAidmVydGV4IiwgInByb3BzIjogeyJzaXplIjogMTEuODQ4MTM3NTM1ODE2NjE5fX0K');</script>\n",
       "    "
      ],
      "text/plain": [
       "<IPython.core.display.HTML object>"
      ]
     },
     "metadata": {},
     "output_type": "display_data"
    },
    {
     "data": {
      "text/html": [
       "\n",
       "        <div id=\"ipGvt53GCgNQ6AGPRZBd38\"></div>\n",
       "        <script>netpixi.call('ipGvt53GCgNQ6AGPRZBd38', 'K4weoEfgX3kSNzn3gxGtaY', 'changeGraph', 'eyJpZCI6IDM2MiwgInR5cGUiOiAidmVydGV4IiwgInByb3BzIjogeyJzaXplIjogMTIuMjQ5MjgzNjY3NjIxNzc3fX0K');</script>\n",
       "    "
      ],
      "text/plain": [
       "<IPython.core.display.HTML object>"
      ]
     },
     "metadata": {},
     "output_type": "display_data"
    },
    {
     "data": {
      "text/html": [
       "\n",
       "        <div id=\"VWDY57vynyJd3rSYNXSZSk\"></div>\n",
       "        <script>netpixi.call('VWDY57vynyJd3rSYNXSZSk', 'K4weoEfgX3kSNzn3gxGtaY', 'changeGraph', 'eyJpZCI6IDM2MywgInR5cGUiOiAidmVydGV4IiwgInByb3BzIjogeyJzaXplIjogMTIuODM2Njc2MjE3NzY1MDQyfX0K');</script>\n",
       "    "
      ],
      "text/plain": [
       "<IPython.core.display.HTML object>"
      ]
     },
     "metadata": {},
     "output_type": "display_data"
    },
    {
     "data": {
      "text/html": [
       "\n",
       "        <div id=\"BjwE9hrZoBqRNpnNhGpzPv\"></div>\n",
       "        <script>netpixi.call('BjwE9hrZoBqRNpnNhGpzPv', 'K4weoEfgX3kSNzn3gxGtaY', 'changeGraph', 'eyJpZCI6IDM2NCwgInR5cGUiOiAidmVydGV4IiwgInByb3BzIjogeyJzaXplIjogNDIuMDU3MTQyODU3MTQyODZ9fQo=');</script>\n",
       "    "
      ],
      "text/plain": [
       "<IPython.core.display.HTML object>"
      ]
     },
     "metadata": {},
     "output_type": "display_data"
    },
    {
     "data": {
      "text/html": [
       "\n",
       "        <div id=\"9ZmXxhoUnGCxKuGpNrydMQ\"></div>\n",
       "        <script>netpixi.call('9ZmXxhoUnGCxKuGpNrydMQ', 'K4weoEfgX3kSNzn3gxGtaY', 'changeGraph', 'eyJpZCI6IDM2NSwgInR5cGUiOiAidmVydGV4IiwgInByb3BzIjogeyJzaXplIjogNDQuMTE0Mjg1NzE0Mjg1NzE0fX0K');</script>\n",
       "    "
      ],
      "text/plain": [
       "<IPython.core.display.HTML object>"
      ]
     },
     "metadata": {},
     "output_type": "display_data"
    },
    {
     "data": {
      "text/html": [
       "\n",
       "        <div id=\"BvaiVHpmzW5Ak3MqZ3njy4\"></div>\n",
       "        <script>netpixi.call('BvaiVHpmzW5Ak3MqZ3njy4', 'K4weoEfgX3kSNzn3gxGtaY', 'changeGraph', 'eyJpZCI6IDM2NiwgInR5cGUiOiAidmVydGV4IiwgInByb3BzIjogeyJzaXplIjogMTguNDgxMzc1MzU4MTY2MTl9fQo=');</script>\n",
       "    "
      ],
      "text/plain": [
       "<IPython.core.display.HTML object>"
      ]
     },
     "metadata": {},
     "output_type": "display_data"
    },
    {
     "data": {
      "text/html": [
       "\n",
       "        <div id=\"HuwqU9WBNMooQzM9jvSDME\"></div>\n",
       "        <script>netpixi.call('HuwqU9WBNMooQzM9jvSDME', 'K4weoEfgX3kSNzn3gxGtaY', 'changeGraph', 'eyJpZCI6IDM2NywgInR5cGUiOiAidmVydGV4IiwgInByb3BzIjogeyJzaXplIjogMTguMTUxODYyNDY0MTgzMzh9fQo=');</script>\n",
       "    "
      ],
      "text/plain": [
       "<IPython.core.display.HTML object>"
      ]
     },
     "metadata": {},
     "output_type": "display_data"
    },
    {
     "data": {
      "text/html": [
       "\n",
       "        <div id=\"4pPUYBFJb76Dr3iMK4uadk\"></div>\n",
       "        <script>netpixi.call('4pPUYBFJb76Dr3iMK4uadk', 'K4weoEfgX3kSNzn3gxGtaY', 'changeGraph', 'eyJpZCI6IDM2OCwgInR5cGUiOiAidmVydGV4IiwgInByb3BzIjogeyJzaXplIjogMTEuNDc1NjQ0Njk5MTQwNDAyfX0K');</script>\n",
       "    "
      ],
      "text/plain": [
       "<IPython.core.display.HTML object>"
      ]
     },
     "metadata": {},
     "output_type": "display_data"
    },
    {
     "data": {
      "text/html": [
       "\n",
       "        <div id=\"4vebJzJdijF6cvSD8JdbM5\"></div>\n",
       "        <script>netpixi.call('4vebJzJdijF6cvSD8JdbM5', 'K4weoEfgX3kSNzn3gxGtaY', 'changeGraph', 'eyJpZCI6IDM2OSwgInR5cGUiOiAidmVydGV4IiwgInByb3BzIjogeyJzaXplIjogMTAuMH19Cg==');</script>\n",
       "    "
      ],
      "text/plain": [
       "<IPython.core.display.HTML object>"
      ]
     },
     "metadata": {},
     "output_type": "display_data"
    },
    {
     "data": {
      "text/html": [
       "\n",
       "        <div id=\"87UwdQmBHTpUgt8DnHVikq\"></div>\n",
       "        <script>netpixi.call('87UwdQmBHTpUgt8DnHVikq', 'K4weoEfgX3kSNzn3gxGtaY', 'changeGraph', 'eyJpZCI6IDM3MCwgInR5cGUiOiAidmVydGV4IiwgInByb3BzIjogeyJzaXplIjogMTIuMjYzNjEwMzE1MTg2MjQ3fX0K');</script>\n",
       "    "
      ],
      "text/plain": [
       "<IPython.core.display.HTML object>"
      ]
     },
     "metadata": {},
     "output_type": "display_data"
    },
    {
     "data": {
      "text/html": [
       "\n",
       "        <div id=\"RHvyC7ww28Xgxf7qxMzxVX\"></div>\n",
       "        <script>netpixi.call('RHvyC7ww28Xgxf7qxMzxVX', 'K4weoEfgX3kSNzn3gxGtaY', 'changeGraph', 'eyJpZCI6IDM3MSwgInR5cGUiOiAidmVydGV4IiwgInByb3BzIjogeyJzaXplIjogNDQuMDU3MTQyODU3MTQyODZ9fQo=');</script>\n",
       "    "
      ],
      "text/plain": [
       "<IPython.core.display.HTML object>"
      ]
     },
     "metadata": {},
     "output_type": "display_data"
    },
    {
     "data": {
      "text/html": [
       "\n",
       "        <div id=\"ZF648zGZE8mSE36HymRYSp\"></div>\n",
       "        <script>netpixi.call('ZF648zGZE8mSE36HymRYSp', 'K4weoEfgX3kSNzn3gxGtaY', 'changeGraph', 'eyJpZCI6IDM3MiwgInR5cGUiOiAidmVydGV4IiwgInByb3BzIjogeyJzaXplIjogMTYuNjQ3NTY0NDY5OTE0MDR9fQo=');</script>\n",
       "    "
      ],
      "text/plain": [
       "<IPython.core.display.HTML object>"
      ]
     },
     "metadata": {},
     "output_type": "display_data"
    },
    {
     "data": {
      "text/html": [
       "\n",
       "        <div id=\"5q9KZwBGp744qeRZnFWcQT\"></div>\n",
       "        <script>netpixi.call('5q9KZwBGp744qeRZnFWcQT', 'K4weoEfgX3kSNzn3gxGtaY', 'changeGraph', 'eyJpZCI6IDM3MywgInR5cGUiOiAidmVydGV4IiwgInByb3BzIjogeyJzaXplIjogNDUuMzE0Mjg1NzE0Mjg1NzJ9fQo=');</script>\n",
       "    "
      ],
      "text/plain": [
       "<IPython.core.display.HTML object>"
      ]
     },
     "metadata": {},
     "output_type": "display_data"
    },
    {
     "data": {
      "text/html": [
       "\n",
       "        <div id=\"2PKyj32tmFZe9r5vByWYyy\"></div>\n",
       "        <script>netpixi.call('2PKyj32tmFZe9r5vByWYyy', 'K4weoEfgX3kSNzn3gxGtaY', 'changeGraph', 'eyJpZCI6IDM3NCwgInR5cGUiOiAidmVydGV4IiwgInByb3BzIjogeyJzaXplIjogNDMuODI4NTcxNDI4NTcxNDN9fQo=');</script>\n",
       "    "
      ],
      "text/plain": [
       "<IPython.core.display.HTML object>"
      ]
     },
     "metadata": {},
     "output_type": "display_data"
    },
    {
     "data": {
      "text/html": [
       "\n",
       "        <div id=\"Wg9snfNkTjNhBT6TcuuKVz\"></div>\n",
       "        <script>netpixi.call('Wg9snfNkTjNhBT6TcuuKVz', 'K4weoEfgX3kSNzn3gxGtaY', 'changeGraph', 'eyJpZCI6IDM3NSwgInR5cGUiOiAidmVydGV4IiwgInByb3BzIjogeyJzaXplIjogNDEuODg1NzE0Mjg1NzE0Mjg2fX0K');</script>\n",
       "    "
      ],
      "text/plain": [
       "<IPython.core.display.HTML object>"
      ]
     },
     "metadata": {},
     "output_type": "display_data"
    },
    {
     "data": {
      "text/html": [
       "\n",
       "        <div id=\"bzfMuuNwdx9WYMKfGqqcaD\"></div>\n",
       "        <script>netpixi.call('bzfMuuNwdx9WYMKfGqqcaD', 'K4weoEfgX3kSNzn3gxGtaY', 'changeGraph', 'eyJpZCI6IDM3NiwgInR5cGUiOiAidmVydGV4IiwgInByb3BzIjogeyJzaXplIjogNDIuMTcxNDI4NTcxNDI4NTd9fQo=');</script>\n",
       "    "
      ],
      "text/plain": [
       "<IPython.core.display.HTML object>"
      ]
     },
     "metadata": {},
     "output_type": "display_data"
    },
    {
     "data": {
      "text/html": [
       "\n",
       "        <div id=\"mVZRQMKk7T8iAdGBZErh43\"></div>\n",
       "        <script>netpixi.call('mVZRQMKk7T8iAdGBZErh43', 'K4weoEfgX3kSNzn3gxGtaY', 'changeGraph', 'eyJpZCI6IDM3NywgInR5cGUiOiAidmVydGV4IiwgInByb3BzIjogeyJzaXplIjogMTkuNTQxNTQ3Mjc3OTM2OTY0fX0K');</script>\n",
       "    "
      ],
      "text/plain": [
       "<IPython.core.display.HTML object>"
      ]
     },
     "metadata": {},
     "output_type": "display_data"
    },
    {
     "data": {
      "text/html": [
       "\n",
       "        <div id=\"N7JLep83r9G2aifWyDfnAw\"></div>\n",
       "        <script>netpixi.call('N7JLep83r9G2aifWyDfnAw', 'K4weoEfgX3kSNzn3gxGtaY', 'changeGraph', 'eyJpZCI6IDM3OCwgInR5cGUiOiAidmVydGV4IiwgInByb3BzIjogeyJzaXplIjogNDIuNTE0Mjg1NzE0Mjg1NzF9fQo=');</script>\n",
       "    "
      ],
      "text/plain": [
       "<IPython.core.display.HTML object>"
      ]
     },
     "metadata": {},
     "output_type": "display_data"
    },
    {
     "data": {
      "text/html": [
       "\n",
       "        <div id=\"j9GdZa2DPTJdJYuXcLHzbo\"></div>\n",
       "        <script>netpixi.call('j9GdZa2DPTJdJYuXcLHzbo', 'K4weoEfgX3kSNzn3gxGtaY', 'changeGraph', 'eyJpZCI6IDM3OSwgInR5cGUiOiAidmVydGV4IiwgInByb3BzIjogeyJzaXplIjogNDEuMn19Cg==');</script>\n",
       "    "
      ],
      "text/plain": [
       "<IPython.core.display.HTML object>"
      ]
     },
     "metadata": {},
     "output_type": "display_data"
    },
    {
     "data": {
      "text/html": [
       "\n",
       "        <div id=\"U6pqPVXiz6aoMERbD3Ysfc\"></div>\n",
       "        <script>netpixi.call('U6pqPVXiz6aoMERbD3Ysfc', 'K4weoEfgX3kSNzn3gxGtaY', 'changeGraph', 'eyJpZCI6IDM4MCwgInR5cGUiOiAidmVydGV4IiwgInByb3BzIjogeyJzaXplIjogMTUuMzU4MTY2MTg5MTExNzQ3fX0K');</script>\n",
       "    "
      ],
      "text/plain": [
       "<IPython.core.display.HTML object>"
      ]
     },
     "metadata": {},
     "output_type": "display_data"
    },
    {
     "data": {
      "text/html": [
       "\n",
       "        <div id=\"iDua6kJfMazwzt3iP9D8Qj\"></div>\n",
       "        <script>netpixi.call('iDua6kJfMazwzt3iP9D8Qj', 'K4weoEfgX3kSNzn3gxGtaY', 'changeGraph', 'eyJpZCI6IDM4MSwgInR5cGUiOiAidmVydGV4IiwgInByb3BzIjogeyJzaXplIjogMTguODM5NTQxNTQ3Mjc3OTR9fQo=');</script>\n",
       "    "
      ],
      "text/plain": [
       "<IPython.core.display.HTML object>"
      ]
     },
     "metadata": {},
     "output_type": "display_data"
    },
    {
     "data": {
      "text/html": [
       "\n",
       "        <div id=\"WXRr7zjTq4EmZEXZKVRKUm\"></div>\n",
       "        <script>netpixi.call('WXRr7zjTq4EmZEXZKVRKUm', 'K4weoEfgX3kSNzn3gxGtaY', 'changeGraph', 'eyJpZCI6IDM4MiwgInR5cGUiOiAidmVydGV4IiwgInByb3BzIjogeyJzaXplIjogMTEuNDYxMzE4MDUxNTc1OTMxfX0K');</script>\n",
       "    "
      ],
      "text/plain": [
       "<IPython.core.display.HTML object>"
      ]
     },
     "metadata": {},
     "output_type": "display_data"
    },
    {
     "data": {
      "text/html": [
       "\n",
       "        <div id=\"jqWfZaugWCyJ5AksY6R5AB\"></div>\n",
       "        <script>netpixi.call('jqWfZaugWCyJ5AksY6R5AB', 'K4weoEfgX3kSNzn3gxGtaY', 'changeGraph', 'eyJpZCI6IDM4MywgInR5cGUiOiAidmVydGV4IiwgInByb3BzIjogeyJzaXplIjogMTUuMDE0MzI2NjQ3NTY0NDd9fQo=');</script>\n",
       "    "
      ],
      "text/plain": [
       "<IPython.core.display.HTML object>"
      ]
     },
     "metadata": {},
     "output_type": "display_data"
    },
    {
     "data": {
      "text/html": [
       "\n",
       "        <div id=\"BGaBVZ99dnEjrYdFeQkd3r\"></div>\n",
       "        <script>netpixi.call('BGaBVZ99dnEjrYdFeQkd3r', 'K4weoEfgX3kSNzn3gxGtaY', 'changeGraph', 'eyJpZCI6IDM4NCwgInR5cGUiOiAidmVydGV4IiwgInByb3BzIjogeyJzaXplIjogMTMuNjEwMzE1MTg2MjQ2NDE3fX0K');</script>\n",
       "    "
      ],
      "text/plain": [
       "<IPython.core.display.HTML object>"
      ]
     },
     "metadata": {},
     "output_type": "display_data"
    },
    {
     "data": {
      "text/html": [
       "\n",
       "        <div id=\"MEH2KPgqquVSGcjKJ8stjp\"></div>\n",
       "        <script>netpixi.call('MEH2KPgqquVSGcjKJ8stjp', 'K4weoEfgX3kSNzn3gxGtaY', 'changeGraph', 'eyJpZCI6IDM4NSwgInR5cGUiOiAidmVydGV4IiwgInByb3BzIjogeyJzaXplIjogMTcuNjY0NzU2NDQ2OTkxNDA0fX0K');</script>\n",
       "    "
      ],
      "text/plain": [
       "<IPython.core.display.HTML object>"
      ]
     },
     "metadata": {},
     "output_type": "display_data"
    },
    {
     "data": {
      "text/html": [
       "\n",
       "        <div id=\"gX8YrCnRoQcacGpJQ5GQMX\"></div>\n",
       "        <script>netpixi.call('gX8YrCnRoQcacGpJQ5GQMX', 'K4weoEfgX3kSNzn3gxGtaY', 'changeGraph', 'eyJpZCI6IDM4NiwgInR5cGUiOiAidmVydGV4IiwgInByb3BzIjogeyJzaXplIjogMTAuMTcxOTE5NzcwNzczNjR9fQo=');</script>\n",
       "    "
      ],
      "text/plain": [
       "<IPython.core.display.HTML object>"
      ]
     },
     "metadata": {},
     "output_type": "display_data"
    },
    {
     "data": {
      "text/html": [
       "\n",
       "        <div id=\"fne36fEm73hHNQQSGWwy7e\"></div>\n",
       "        <script>netpixi.call('fne36fEm73hHNQQSGWwy7e', 'K4weoEfgX3kSNzn3gxGtaY', 'changeGraph', 'eyJpZCI6IDM4NywgInR5cGUiOiAidmVydGV4IiwgInByb3BzIjogeyJzaXplIjogMTYuNzQ3ODUxMDAyODY1MzN9fQo=');</script>\n",
       "    "
      ],
      "text/plain": [
       "<IPython.core.display.HTML object>"
      ]
     },
     "metadata": {},
     "output_type": "display_data"
    },
    {
     "data": {
      "text/html": [
       "\n",
       "        <div id=\"MetZsM4Y7TjJKXqgLa9qUG\"></div>\n",
       "        <script>netpixi.call('MetZsM4Y7TjJKXqgLa9qUG', 'K4weoEfgX3kSNzn3gxGtaY', 'changeGraph', 'eyJpZCI6IDM4OCwgInR5cGUiOiAidmVydGV4IiwgInByb3BzIjogeyJzaXplIjogMTEuODc2NzkwODMwOTQ1NTZ9fQo=');</script>\n",
       "    "
      ],
      "text/plain": [
       "<IPython.core.display.HTML object>"
      ]
     },
     "metadata": {},
     "output_type": "display_data"
    },
    {
     "data": {
      "text/html": [
       "\n",
       "        <div id=\"hFFxEbwHeJ2mavLfkgm6PK\"></div>\n",
       "        <script>netpixi.call('hFFxEbwHeJ2mavLfkgm6PK', 'K4weoEfgX3kSNzn3gxGtaY', 'changeGraph', 'eyJpZCI6IDM4OSwgInR5cGUiOiAidmVydGV4IiwgInByb3BzIjogeyJzaXplIjogMTIuOTM2OTYyNzUwNzE2MzMzfX0K');</script>\n",
       "    "
      ],
      "text/plain": [
       "<IPython.core.display.HTML object>"
      ]
     },
     "metadata": {},
     "output_type": "display_data"
    },
    {
     "data": {
      "text/html": [
       "\n",
       "        <div id=\"aEgjU5U72iVZeYbxFKMgMf\"></div>\n",
       "        <script>netpixi.call('aEgjU5U72iVZeYbxFKMgMf', 'K4weoEfgX3kSNzn3gxGtaY', 'changeGraph', 'eyJpZCI6IDM5MCwgInR5cGUiOiAidmVydGV4IiwgInByb3BzIjogeyJzaXplIjogNDEuNjU3MTQyODU3MTQyODZ9fQo=');</script>\n",
       "    "
      ],
      "text/plain": [
       "<IPython.core.display.HTML object>"
      ]
     },
     "metadata": {},
     "output_type": "display_data"
    },
    {
     "data": {
      "text/html": [
       "\n",
       "        <div id=\"EvPEXEWFBK6kuyBCNy3mxZ\"></div>\n",
       "        <script>netpixi.call('EvPEXEWFBK6kuyBCNy3mxZ', 'K4weoEfgX3kSNzn3gxGtaY', 'changeGraph', 'eyJpZCI6IDM5MSwgInR5cGUiOiAidmVydGV4IiwgInByb3BzIjogeyJzaXplIjogMTguMzIzNzgyMjM0OTU3MDIyfX0K');</script>\n",
       "    "
      ],
      "text/plain": [
       "<IPython.core.display.HTML object>"
      ]
     },
     "metadata": {},
     "output_type": "display_data"
    },
    {
     "data": {
      "text/html": [
       "\n",
       "        <div id=\"FnhrHXqFeJEgjRvUGSk4k9\"></div>\n",
       "        <script>netpixi.call('FnhrHXqFeJEgjRvUGSk4k9', 'K4weoEfgX3kSNzn3gxGtaY', 'changeGraph', 'eyJpZCI6IDM5MiwgInR5cGUiOiAidmVydGV4IiwgInByb3BzIjogeyJzaXplIjogNDEuMDI4NTcxNDI4NTcxNDI1fX0K');</script>\n",
       "    "
      ],
      "text/plain": [
       "<IPython.core.display.HTML object>"
      ]
     },
     "metadata": {},
     "output_type": "display_data"
    },
    {
     "data": {
      "text/html": [
       "\n",
       "        <div id=\"Beg95nbpN42Vjp6BQZhhN9\"></div>\n",
       "        <script>netpixi.call('Beg95nbpN42Vjp6BQZhhN9', 'K4weoEfgX3kSNzn3gxGtaY', 'changeGraph', 'eyJpZCI6IDM5MywgInR5cGUiOiAidmVydGV4IiwgInByb3BzIjogeyJzaXplIjogMTguNzEwNjAxNzE5MTk3NzA1fX0K');</script>\n",
       "    "
      ],
      "text/plain": [
       "<IPython.core.display.HTML object>"
      ]
     },
     "metadata": {},
     "output_type": "display_data"
    },
    {
     "data": {
      "text/html": [
       "\n",
       "        <div id=\"49HanSoQ2uA4kFKoqTkuFy\"></div>\n",
       "        <script>netpixi.call('49HanSoQ2uA4kFKoqTkuFy', 'K4weoEfgX3kSNzn3gxGtaY', 'changeGraph', 'eyJpZCI6IDM5NCwgInR5cGUiOiAidmVydGV4IiwgInByb3BzIjogeyJzaXplIjogMTkuMzEyMzIwOTE2OTA1NDQyfX0K');</script>\n",
       "    "
      ],
      "text/plain": [
       "<IPython.core.display.HTML object>"
      ]
     },
     "metadata": {},
     "output_type": "display_data"
    },
    {
     "data": {
      "text/html": [
       "\n",
       "        <div id=\"M59KTQnrj7MaL4m8k9RL58\"></div>\n",
       "        <script>netpixi.call('M59KTQnrj7MaL4m8k9RL58', 'K4weoEfgX3kSNzn3gxGtaY', 'changeGraph', 'eyJpZCI6IDM5NSwgInR5cGUiOiAidmVydGV4IiwgInByb3BzIjogeyJzaXplIjogMTkuMjU1MDE0MzI2NjQ3NTZ9fQo=');</script>\n",
       "    "
      ],
      "text/plain": [
       "<IPython.core.display.HTML object>"
      ]
     },
     "metadata": {},
     "output_type": "display_data"
    },
    {
     "data": {
      "text/html": [
       "\n",
       "        <div id=\"XsewH6nJrueecz3rfocoFK\"></div>\n",
       "        <script>netpixi.call('XsewH6nJrueecz3rfocoFK', 'K4weoEfgX3kSNzn3gxGtaY', 'changeGraph', 'eyJpZCI6IDM5NiwgInR5cGUiOiAidmVydGV4IiwgInByb3BzIjogeyJzaXplIjogMTYuODMzODEwODg4MjUyMTV9fQo=');</script>\n",
       "    "
      ],
      "text/plain": [
       "<IPython.core.display.HTML object>"
      ]
     },
     "metadata": {},
     "output_type": "display_data"
    },
    {
     "data": {
      "text/html": [
       "\n",
       "        <div id=\"BDuShjEAzATaitz7RzB5Y3\"></div>\n",
       "        <script>netpixi.call('BDuShjEAzATaitz7RzB5Y3', 'K4weoEfgX3kSNzn3gxGtaY', 'changeGraph', 'eyJpZCI6IDM5NywgInR5cGUiOiAidmVydGV4IiwgInByb3BzIjogeyJzaXplIjogNDAuMzQyODU3MTQyODU3MTR9fQo=');</script>\n",
       "    "
      ],
      "text/plain": [
       "<IPython.core.display.HTML object>"
      ]
     },
     "metadata": {},
     "output_type": "display_data"
    },
    {
     "data": {
      "text/html": [
       "\n",
       "        <div id=\"LapdBPEKSfVDGLaDWVZzqZ\"></div>\n",
       "        <script>netpixi.call('LapdBPEKSfVDGLaDWVZzqZ', 'K4weoEfgX3kSNzn3gxGtaY', 'changeGraph', 'eyJpZCI6IDM5OCwgInR5cGUiOiAidmVydGV4IiwgInByb3BzIjogeyJzaXplIjogMTcuNjc5MDgzMDk0NTU1ODc1fX0K');</script>\n",
       "    "
      ],
      "text/plain": [
       "<IPython.core.display.HTML object>"
      ]
     },
     "metadata": {},
     "output_type": "display_data"
    },
    {
     "data": {
      "text/html": [
       "\n",
       "        <div id=\"V56ByJgSRbasmivRkEBMpZ\"></div>\n",
       "        <script>netpixi.call('V56ByJgSRbasmivRkEBMpZ', 'K4weoEfgX3kSNzn3gxGtaY', 'changeGraph', 'eyJpZCI6IDM5OSwgInR5cGUiOiAidmVydGV4IiwgInByb3BzIjogeyJzaXplIjogMTkuODk5NzEzNDY3MDQ4NzEzfX0K');</script>\n",
       "    "
      ],
      "text/plain": [
       "<IPython.core.display.HTML object>"
      ]
     },
     "metadata": {},
     "output_type": "display_data"
    },
    {
     "data": {
      "text/html": [
       "\n",
       "        <div id=\"hBahjeSUA4iGPk5K56inQw\"></div>\n",
       "        <script>netpixi.call('hBahjeSUA4iGPk5K56inQw', 'K4weoEfgX3kSNzn3gxGtaY', 'changeGraph', 'eyJpZCI6IDQwMCwgInR5cGUiOiAidmVydGV4IiwgInByb3BzIjogeyJzaXplIjogMTUuODQ1MjcyMjA2MzAzNzI0fX0K');</script>\n",
       "    "
      ],
      "text/plain": [
       "<IPython.core.display.HTML object>"
      ]
     },
     "metadata": {},
     "output_type": "display_data"
    },
    {
     "data": {
      "text/html": [
       "\n",
       "        <div id=\"Vrq46QMdQKtu7AZVEjbNXT\"></div>\n",
       "        <script>netpixi.call('Vrq46QMdQKtu7AZVEjbNXT', 'K4weoEfgX3kSNzn3gxGtaY', 'changeGraph', 'eyJpZCI6IDQwMSwgInR5cGUiOiAidmVydGV4IiwgInByb3BzIjogeyJzaXplIjogMTguNDUyNzIyMDYzMDM3MjV9fQo=');</script>\n",
       "    "
      ],
      "text/plain": [
       "<IPython.core.display.HTML object>"
      ]
     },
     "metadata": {},
     "output_type": "display_data"
    },
    {
     "data": {
      "text/html": [
       "\n",
       "        <div id=\"4ddwuATXCNEMYtuGPKCxFE\"></div>\n",
       "        <script>netpixi.call('4ddwuATXCNEMYtuGPKCxFE', 'K4weoEfgX3kSNzn3gxGtaY', 'changeGraph', 'eyJpZCI6IDQwMiwgInR5cGUiOiAidmVydGV4IiwgInByb3BzIjogeyJzaXplIjogNDcuNjU3MTQyODU3MTQyODZ9fQo=');</script>\n",
       "    "
      ],
      "text/plain": [
       "<IPython.core.display.HTML object>"
      ]
     },
     "metadata": {},
     "output_type": "display_data"
    },
    {
     "data": {
      "text/html": [
       "\n",
       "        <div id=\"UC6NMyc6wN8vLaRaFcsgkT\"></div>\n",
       "        <script>netpixi.call('UC6NMyc6wN8vLaRaFcsgkT', 'K4weoEfgX3kSNzn3gxGtaY', 'changeGraph', 'eyJpZCI6IDQwMywgInR5cGUiOiAidmVydGV4IiwgInByb3BzIjogeyJzaXplIjogMTkuMzgzOTU0MTU0NzI3Nzk2fX0K');</script>\n",
       "    "
      ],
      "text/plain": [
       "<IPython.core.display.HTML object>"
      ]
     },
     "metadata": {},
     "output_type": "display_data"
    },
    {
     "data": {
      "text/html": [
       "\n",
       "        <div id=\"Z6vqWMJFhUdGAkkc6XP5xY\"></div>\n",
       "        <script>netpixi.call('Z6vqWMJFhUdGAkkc6XP5xY', 'K4weoEfgX3kSNzn3gxGtaY', 'changeGraph', 'eyJpZCI6IDQwNCwgInR5cGUiOiAidmVydGV4IiwgInByb3BzIjogeyJzaXplIjogMTIuNjUwNDI5Nzk5NDI2OTM0fX0K');</script>\n",
       "    "
      ],
      "text/plain": [
       "<IPython.core.display.HTML object>"
      ]
     },
     "metadata": {},
     "output_type": "display_data"
    },
    {
     "data": {
      "text/html": [
       "\n",
       "        <div id=\"KHz6ntY6MzdKvfvDgHiwdt\"></div>\n",
       "        <script>netpixi.call('KHz6ntY6MzdKvfvDgHiwdt', 'K4weoEfgX3kSNzn3gxGtaY', 'changeGraph', 'eyJpZCI6IDQwNSwgInR5cGUiOiAidmVydGV4IiwgInByb3BzIjogeyJzaXplIjogMTEuNzc2NTA0Mjk3OTk0MjY4fX0K');</script>\n",
       "    "
      ],
      "text/plain": [
       "<IPython.core.display.HTML object>"
      ]
     },
     "metadata": {},
     "output_type": "display_data"
    },
    {
     "data": {
      "text/html": [
       "\n",
       "        <div id=\"jd7Rx5GRrHi4L9ExiQqhXx\"></div>\n",
       "        <script>netpixi.call('jd7Rx5GRrHi4L9ExiQqhXx', 'K4weoEfgX3kSNzn3gxGtaY', 'changeGraph', 'eyJpZCI6IDQwNiwgInR5cGUiOiAidmVydGV4IiwgInByb3BzIjogeyJzaXplIjogMTkuOTU3MDIwMDU3MzA2NTl9fQo=');</script>\n",
       "    "
      ],
      "text/plain": [
       "<IPython.core.display.HTML object>"
      ]
     },
     "metadata": {},
     "output_type": "display_data"
    },
    {
     "data": {
      "text/html": [
       "\n",
       "        <div id=\"FMCL7DTHquF7dCcQyK5xVt\"></div>\n",
       "        <script>netpixi.call('FMCL7DTHquF7dCcQyK5xVt', 'K4weoEfgX3kSNzn3gxGtaY', 'changeGraph', 'eyJpZCI6IDQwNywgInR5cGUiOiAidmVydGV4IiwgInByb3BzIjogeyJzaXplIjogNDguNTE0Mjg1NzE0Mjg1NzF9fQo=');</script>\n",
       "    "
      ],
      "text/plain": [
       "<IPython.core.display.HTML object>"
      ]
     },
     "metadata": {},
     "output_type": "display_data"
    },
    {
     "data": {
      "text/html": [
       "\n",
       "        <div id=\"8XWsnj2TZbgmsoUHTDN5CU\"></div>\n",
       "        <script>netpixi.call('8XWsnj2TZbgmsoUHTDN5CU', 'K4weoEfgX3kSNzn3gxGtaY', 'changeGraph', 'eyJpZCI6IDQwOCwgInR5cGUiOiAidmVydGV4IiwgInByb3BzIjogeyJzaXplIjogMTcuNTkzMTIzMjA5MTY5MDU0fX0K');</script>\n",
       "    "
      ],
      "text/plain": [
       "<IPython.core.display.HTML object>"
      ]
     },
     "metadata": {},
     "output_type": "display_data"
    },
    {
     "data": {
      "text/html": [
       "\n",
       "        <div id=\"goPWE7kXsBTjq8hCTa7RXa\"></div>\n",
       "        <script>netpixi.call('goPWE7kXsBTjq8hCTa7RXa', 'K4weoEfgX3kSNzn3gxGtaY', 'changeGraph', 'eyJpZCI6IDQwOSwgInR5cGUiOiAidmVydGV4IiwgInByb3BzIjogeyJzaXplIjogNDEuMzE0Mjg1NzE0Mjg1NzJ9fQo=');</script>\n",
       "    "
      ],
      "text/plain": [
       "<IPython.core.display.HTML object>"
      ]
     },
     "metadata": {},
     "output_type": "display_data"
    },
    {
     "data": {
      "text/html": [
       "\n",
       "        <div id=\"WzGFVQGWKyDsGhrpCn8m3Z\"></div>\n",
       "        <script>netpixi.call('WzGFVQGWKyDsGhrpCn8m3Z', 'K4weoEfgX3kSNzn3gxGtaY', 'changeGraph', 'eyJpZCI6IDQxMCwgInR5cGUiOiAidmVydGV4IiwgInByb3BzIjogeyJzaXplIjogNDcuNDI4NTcxNDI4NTcxNDN9fQo=');</script>\n",
       "    "
      ],
      "text/plain": [
       "<IPython.core.display.HTML object>"
      ]
     },
     "metadata": {},
     "output_type": "display_data"
    },
    {
     "data": {
      "text/html": [
       "\n",
       "        <div id=\"KXgaNiuZvT5h9CWE4M5ruS\"></div>\n",
       "        <script>netpixi.call('KXgaNiuZvT5h9CWE4M5ruS', 'K4weoEfgX3kSNzn3gxGtaY', 'changeGraph', 'eyJpZCI6IDQxMSwgInR5cGUiOiAidmVydGV4IiwgInByb3BzIjogeyJzaXplIjogNDEuNzE0Mjg1NzE0Mjg1NzF9fQo=');</script>\n",
       "    "
      ],
      "text/plain": [
       "<IPython.core.display.HTML object>"
      ]
     },
     "metadata": {},
     "output_type": "display_data"
    },
    {
     "data": {
      "text/html": [
       "\n",
       "        <div id=\"ZtAao3Swypq3ZLaBmkPgEA\"></div>\n",
       "        <script>netpixi.call('ZtAao3Swypq3ZLaBmkPgEA', 'K4weoEfgX3kSNzn3gxGtaY', 'changeGraph', 'eyJpZCI6IDQxMiwgInR5cGUiOiAidmVydGV4IiwgInByb3BzIjogeyJzaXplIjogMTguNjUzMjk1MTI4OTM5ODI4fX0K');</script>\n",
       "    "
      ],
      "text/plain": [
       "<IPython.core.display.HTML object>"
      ]
     },
     "metadata": {},
     "output_type": "display_data"
    },
    {
     "data": {
      "text/html": [
       "\n",
       "        <div id=\"7XcayTdypUH2KJ2gdLP9P2\"></div>\n",
       "        <script>netpixi.call('7XcayTdypUH2KJ2gdLP9P2', 'K4weoEfgX3kSNzn3gxGtaY', 'changeGraph', 'eyJpZCI6IDQxMywgInR5cGUiOiAidmVydGV4IiwgInByb3BzIjogeyJzaXplIjogMTguNTk1OTg4NTM4NjgxOTQ3fX0K');</script>\n",
       "    "
      ],
      "text/plain": [
       "<IPython.core.display.HTML object>"
      ]
     },
     "metadata": {},
     "output_type": "display_data"
    },
    {
     "data": {
      "text/html": [
       "\n",
       "        <div id=\"MjnpWjVCYSUsF8KSdgkajH\"></div>\n",
       "        <script>netpixi.call('MjnpWjVCYSUsF8KSdgkajH', 'K4weoEfgX3kSNzn3gxGtaY', 'changeGraph', 'eyJpZCI6IDQxNCwgInR5cGUiOiAidmVydGV4IiwgInByb3BzIjogeyJzaXplIjogMTguNTEwMDI4NjUzMjk1MTN9fQo=');</script>\n",
       "    "
      ],
      "text/plain": [
       "<IPython.core.display.HTML object>"
      ]
     },
     "metadata": {},
     "output_type": "display_data"
    },
    {
     "data": {
      "text/html": [
       "\n",
       "        <div id=\"c3FDDv5nSUGk4G4n5e6Kyb\"></div>\n",
       "        <script>netpixi.call('c3FDDv5nSUGk4G4n5e6Kyb', 'K4weoEfgX3kSNzn3gxGtaY', 'changeGraph', 'eyJpZCI6IDQxNSwgInR5cGUiOiAidmVydGV4IiwgInByb3BzIjogeyJzaXplIjogNDEuNDg1NzE0Mjg1NzE0Mjl9fQo=');</script>\n",
       "    "
      ],
      "text/plain": [
       "<IPython.core.display.HTML object>"
      ]
     },
     "metadata": {},
     "output_type": "display_data"
    },
    {
     "data": {
      "text/html": [
       "\n",
       "        <div id=\"LFrxAa6D7JpKmYhXsMXpbD\"></div>\n",
       "        <script>netpixi.call('LFrxAa6D7JpKmYhXsMXpbD', 'K4weoEfgX3kSNzn3gxGtaY', 'changeGraph', 'eyJpZCI6IDQxNiwgInR5cGUiOiAidmVydGV4IiwgInByb3BzIjogeyJzaXplIjogNDAuMTcxNDI4NTcxNDI4NTh9fQo=');</script>\n",
       "    "
      ],
      "text/plain": [
       "<IPython.core.display.HTML object>"
      ]
     },
     "metadata": {},
     "output_type": "display_data"
    },
    {
     "data": {
      "text/html": [
       "\n",
       "        <div id=\"EgGcDeea9yMSvfRetn9PUt\"></div>\n",
       "        <script>netpixi.call('EgGcDeea9yMSvfRetn9PUt', 'K4weoEfgX3kSNzn3gxGtaY', 'changeGraph', 'eyJpZCI6IDQxNywgInR5cGUiOiAidmVydGV4IiwgInByb3BzIjogeyJzaXplIjogNDUuNjU3MTQyODU3MTQyODZ9fQo=');</script>\n",
       "    "
      ],
      "text/plain": [
       "<IPython.core.display.HTML object>"
      ]
     },
     "metadata": {},
     "output_type": "display_data"
    },
    {
     "data": {
      "text/html": [
       "\n",
       "        <div id=\"gekNJcrCVaurDKrDdDggv8\"></div>\n",
       "        <script>netpixi.call('gekNJcrCVaurDKrDdDggv8', 'K4weoEfgX3kSNzn3gxGtaY', 'changeGraph', 'eyJpZCI6IDQxOCwgInR5cGUiOiAidmVydGV4IiwgInByb3BzIjogeyJzaXplIjogNDIuMTE0Mjg1NzE0Mjg1NzE0fX0K');</script>\n",
       "    "
      ],
      "text/plain": [
       "<IPython.core.display.HTML object>"
      ]
     },
     "metadata": {},
     "output_type": "display_data"
    },
    {
     "data": {
      "text/html": [
       "\n",
       "        <div id=\"jzG8ibb4CHQYy7Dg9tddr6\"></div>\n",
       "        <script>netpixi.call('jzG8ibb4CHQYy7Dg9tddr6', 'K4weoEfgX3kSNzn3gxGtaY', 'changeGraph', 'eyJpZCI6IDQxOSwgInR5cGUiOiAidmVydGV4IiwgInByb3BzIjogeyJzaXplIjogMTEuOTkxNDA0MDExNDYxMzE4fX0K');</script>\n",
       "    "
      ],
      "text/plain": [
       "<IPython.core.display.HTML object>"
      ]
     },
     "metadata": {},
     "output_type": "display_data"
    },
    {
     "data": {
      "text/html": [
       "\n",
       "        <div id=\"QMphNUs9jdbpkkiCGNEUVd\"></div>\n",
       "        <script>netpixi.call('QMphNUs9jdbpkkiCGNEUVd', 'K4weoEfgX3kSNzn3gxGtaY', 'changeGraph', 'eyJpZCI6IDQyMCwgInR5cGUiOiAidmVydGV4IiwgInByb3BzIjogeyJzaXplIjogMTQuMzU1MzAwODU5NTk4ODUyfX0K');</script>\n",
       "    "
      ],
      "text/plain": [
       "<IPython.core.display.HTML object>"
      ]
     },
     "metadata": {},
     "output_type": "display_data"
    },
    {
     "data": {
      "text/html": [
       "\n",
       "        <div id=\"YgVGaozfgqrbgDzDfZ2kR2\"></div>\n",
       "        <script>netpixi.call('YgVGaozfgqrbgDzDfZ2kR2', 'K4weoEfgX3kSNzn3gxGtaY', 'changeGraph', 'eyJpZCI6IDQyMSwgInR5cGUiOiAidmVydGV4IiwgInByb3BzIjogeyJzaXplIjogMTUuMDg1OTU5ODg1Mzg2ODE5fX0K');</script>\n",
       "    "
      ],
      "text/plain": [
       "<IPython.core.display.HTML object>"
      ]
     },
     "metadata": {},
     "output_type": "display_data"
    },
    {
     "data": {
      "text/html": [
       "\n",
       "        <div id=\"fuQ3ANwwR3uBmhytGnHsVx\"></div>\n",
       "        <script>netpixi.call('fuQ3ANwwR3uBmhytGnHsVx', 'K4weoEfgX3kSNzn3gxGtaY', 'changeGraph', 'eyJpZCI6IDQyMiwgInR5cGUiOiAidmVydGV4IiwgInByb3BzIjogeyJzaXplIjogMTkuNDk4NTY3MzM1MjQzNTUzfX0K');</script>\n",
       "    "
      ],
      "text/plain": [
       "<IPython.core.display.HTML object>"
      ]
     },
     "metadata": {},
     "output_type": "display_data"
    },
    {
     "data": {
      "text/html": [
       "\n",
       "        <div id=\"kfjh6WhA9KKAUjksqn58vd\"></div>\n",
       "        <script>netpixi.call('kfjh6WhA9KKAUjksqn58vd', 'K4weoEfgX3kSNzn3gxGtaY', 'changeGraph', 'eyJpZCI6IDQyMywgInR5cGUiOiAidmVydGV4IiwgInByb3BzIjogeyJzaXplIjogMTQuNTk4ODUzODY4MTk0ODQyfX0K');</script>\n",
       "    "
      ],
      "text/plain": [
       "<IPython.core.display.HTML object>"
      ]
     },
     "metadata": {},
     "output_type": "display_data"
    },
    {
     "data": {
      "text/html": [
       "\n",
       "        <div id=\"BEnKDgJ4TQH4ZgLbnavVAa\"></div>\n",
       "        <script>netpixi.call('BEnKDgJ4TQH4ZgLbnavVAa', 'K4weoEfgX3kSNzn3gxGtaY', 'changeGraph', 'eyJpZCI6IDQyNCwgInR5cGUiOiAidmVydGV4IiwgInByb3BzIjogeyJzaXplIjogNDEuNzcxNDI4NTcxNDI4NTd9fQo=');</script>\n",
       "    "
      ],
      "text/plain": [
       "<IPython.core.display.HTML object>"
      ]
     },
     "metadata": {},
     "output_type": "display_data"
    },
    {
     "data": {
      "text/html": [
       "\n",
       "        <div id=\"nb6SXRDMjDeKTrEaW9PiVg\"></div>\n",
       "        <script>netpixi.call('nb6SXRDMjDeKTrEaW9PiVg', 'K4weoEfgX3kSNzn3gxGtaY', 'changeGraph', 'eyJpZCI6IDQyNSwgInR5cGUiOiAidmVydGV4IiwgInByb3BzIjogeyJzaXplIjogMTkuNDg0MjQwNjg3Njc5MDgzfX0K');</script>\n",
       "    "
      ],
      "text/plain": [
       "<IPython.core.display.HTML object>"
      ]
     },
     "metadata": {},
     "output_type": "display_data"
    },
    {
     "data": {
      "text/html": [
       "\n",
       "        <div id=\"Z24AT74xynmNLAXvNqf9QV\"></div>\n",
       "        <script>netpixi.call('Z24AT74xynmNLAXvNqf9QV', 'K4weoEfgX3kSNzn3gxGtaY', 'changeGraph', 'eyJpZCI6IDQyNiwgInR5cGUiOiAidmVydGV4IiwgInByb3BzIjogeyJzaXplIjogMTkuNTcwMjAwNTczMDY1OTA0fX0K');</script>\n",
       "    "
      ],
      "text/plain": [
       "<IPython.core.display.HTML object>"
      ]
     },
     "metadata": {},
     "output_type": "display_data"
    },
    {
     "data": {
      "text/html": [
       "\n",
       "        <div id=\"BRFvZF2WN75zmGU7QsLZju\"></div>\n",
       "        <script>netpixi.call('BRFvZF2WN75zmGU7QsLZju', 'K4weoEfgX3kSNzn3gxGtaY', 'changeGraph', 'eyJpZCI6IDQyNywgInR5cGUiOiAidmVydGV4IiwgInByb3BzIjogeyJzaXplIjogMTUuMjQzNTUzMDA4NTk1OTg4fX0K');</script>\n",
       "    "
      ],
      "text/plain": [
       "<IPython.core.display.HTML object>"
      ]
     },
     "metadata": {},
     "output_type": "display_data"
    },
    {
     "data": {
      "text/html": [
       "\n",
       "        <div id=\"BLcqAatpbPxHeCb78yiU5A\"></div>\n",
       "        <script>netpixi.call('BLcqAatpbPxHeCb78yiU5A', 'K4weoEfgX3kSNzn3gxGtaY', 'changeGraph', 'eyJpZCI6IDQyOCwgInR5cGUiOiAidmVydGV4IiwgInByb3BzIjogeyJzaXplIjogMTcuMDA1NzMwNjU5MDI1Nzg3fX0K');</script>\n",
       "    "
      ],
      "text/plain": [
       "<IPython.core.display.HTML object>"
      ]
     },
     "metadata": {},
     "output_type": "display_data"
    },
    {
     "data": {
      "text/html": [
       "\n",
       "        <div id=\"CWRqJGPZMmNj6w9XwDdmKx\"></div>\n",
       "        <script>netpixi.call('CWRqJGPZMmNj6w9XwDdmKx', 'K4weoEfgX3kSNzn3gxGtaY', 'changeGraph', 'eyJpZCI6IDQyOSwgInR5cGUiOiAidmVydGV4IiwgInByb3BzIjogeyJzaXplIjogMTEuODA1MTU3NTkzMTIzMjA5fX0K');</script>\n",
       "    "
      ],
      "text/plain": [
       "<IPython.core.display.HTML object>"
      ]
     },
     "metadata": {},
     "output_type": "display_data"
    },
    {
     "data": {
      "text/html": [
       "\n",
       "        <div id=\"7XDJVLrYwQrrPxCHhGCPhn\"></div>\n",
       "        <script>netpixi.call('7XDJVLrYwQrrPxCHhGCPhn', 'K4weoEfgX3kSNzn3gxGtaY', 'changeGraph', 'eyJpZCI6IDQzMCwgInR5cGUiOiAidmVydGV4IiwgInByb3BzIjogeyJzaXplIjogMTQuNDg0MjQwNjg3Njc5MDgzfX0K');</script>\n",
       "    "
      ],
      "text/plain": [
       "<IPython.core.display.HTML object>"
      ]
     },
     "metadata": {},
     "output_type": "display_data"
    },
    {
     "data": {
      "text/html": [
       "\n",
       "        <div id=\"EDkuKnY66nnSm6TbmLUyZw\"></div>\n",
       "        <script>netpixi.call('EDkuKnY66nnSm6TbmLUyZw', 'K4weoEfgX3kSNzn3gxGtaY', 'changeGraph', 'eyJpZCI6IDQzMSwgInR5cGUiOiAidmVydGV4IiwgInByb3BzIjogeyJzaXplIjogMTMuMTUxODYyNDY0MTgzMzgxfX0K');</script>\n",
       "    "
      ],
      "text/plain": [
       "<IPython.core.display.HTML object>"
      ]
     },
     "metadata": {},
     "output_type": "display_data"
    },
    {
     "data": {
      "text/html": [
       "\n",
       "        <div id=\"jpR4ameKKgMAN8vSvVECGt\"></div>\n",
       "        <script>netpixi.call('jpR4ameKKgMAN8vSvVECGt', 'K4weoEfgX3kSNzn3gxGtaY', 'changeGraph', 'eyJpZCI6IDQzMiwgInR5cGUiOiAidmVydGV4IiwgInByb3BzIjogeyJzaXplIjogMTQuNzg1MTAwMjg2NTMyOTUyfX0K');</script>\n",
       "    "
      ],
      "text/plain": [
       "<IPython.core.display.HTML object>"
      ]
     },
     "metadata": {},
     "output_type": "display_data"
    },
    {
     "data": {
      "text/html": [
       "\n",
       "        <div id=\"SjM5sehuJJRSb2UTv2DoUJ\"></div>\n",
       "        <script>netpixi.call('SjM5sehuJJRSb2UTv2DoUJ', 'K4weoEfgX3kSNzn3gxGtaY', 'changeGraph', 'eyJpZCI6IDQzMywgInR5cGUiOiAidmVydGV4IiwgInByb3BzIjogeyJzaXplIjogMTMuNDA5NzQyMTIwMzQzODR9fQo=');</script>\n",
       "    "
      ],
      "text/plain": [
       "<IPython.core.display.HTML object>"
      ]
     },
     "metadata": {},
     "output_type": "display_data"
    },
    {
     "data": {
      "text/html": [
       "\n",
       "        <div id=\"KLW3JRCsHh8SGatUquVgkF\"></div>\n",
       "        <script>netpixi.call('KLW3JRCsHh8SGatUquVgkF', 'K4weoEfgX3kSNzn3gxGtaY', 'changeGraph', 'eyJpZCI6IDQzNCwgInR5cGUiOiAidmVydGV4IiwgInByb3BzIjogeyJzaXplIjogMTkuMjI2MzYxMDMxNTE4NjI1fX0K');</script>\n",
       "    "
      ],
      "text/plain": [
       "<IPython.core.display.HTML object>"
      ]
     },
     "metadata": {},
     "output_type": "display_data"
    },
    {
     "data": {
      "text/html": [
       "\n",
       "        <div id=\"gnuxCNcRwZ4n6chzFwWweo\"></div>\n",
       "        <script>netpixi.call('gnuxCNcRwZ4n6chzFwWweo', 'K4weoEfgX3kSNzn3gxGtaY', 'changeGraph', 'eyJpZCI6IDQzNSwgInR5cGUiOiAidmVydGV4IiwgInByb3BzIjogeyJzaXplIjogMTguNjI0NjQxODMzODEwODg3fX0K');</script>\n",
       "    "
      ],
      "text/plain": [
       "<IPython.core.display.HTML object>"
      ]
     },
     "metadata": {},
     "output_type": "display_data"
    },
    {
     "data": {
      "text/html": [
       "\n",
       "        <div id=\"EZnzEqTDZ5tx4SnW55NHcU\"></div>\n",
       "        <script>netpixi.call('EZnzEqTDZ5tx4SnW55NHcU', 'K4weoEfgX3kSNzn3gxGtaY', 'changeGraph', 'eyJpZCI6IDQzNiwgInR5cGUiOiAidmVydGV4IiwgInByb3BzIjogeyJzaXplIjogNDIuODAwMDAwMDAwMDAwMDA0fX0K');</script>\n",
       "    "
      ],
      "text/plain": [
       "<IPython.core.display.HTML object>"
      ]
     },
     "metadata": {},
     "output_type": "display_data"
    },
    {
     "data": {
      "text/html": [
       "\n",
       "        <div id=\"RCdvA5wopyPNYLxKU3FAhP\"></div>\n",
       "        <script>netpixi.call('RCdvA5wopyPNYLxKU3FAhP', 'K4weoEfgX3kSNzn3gxGtaY', 'changeGraph', 'eyJpZCI6IDQzNywgInR5cGUiOiAidmVydGV4IiwgInByb3BzIjogeyJzaXplIjogNDIuOTcxNDI4NTcxNDI4NTc1fX0K');</script>\n",
       "    "
      ],
      "text/plain": [
       "<IPython.core.display.HTML object>"
      ]
     },
     "metadata": {},
     "output_type": "display_data"
    },
    {
     "data": {
      "text/html": [
       "\n",
       "        <div id=\"aPEEdbfnpnyG3dFcmYyrXJ\"></div>\n",
       "        <script>netpixi.call('aPEEdbfnpnyG3dFcmYyrXJ', 'K4weoEfgX3kSNzn3gxGtaY', 'changeGraph', 'eyJpZCI6IDQzOCwgInR5cGUiOiAidmVydGV4IiwgInByb3BzIjogeyJzaXplIjogNDQuMTcxNDI4NTcxNDI4NTd9fQo=');</script>\n",
       "    "
      ],
      "text/plain": [
       "<IPython.core.display.HTML object>"
      ]
     },
     "metadata": {},
     "output_type": "display_data"
    },
    {
     "data": {
      "text/html": [
       "\n",
       "        <div id=\"TV3BfEaG3xZWmGvpNHYfZ3\"></div>\n",
       "        <script>netpixi.call('TV3BfEaG3xZWmGvpNHYfZ3', 'K4weoEfgX3kSNzn3gxGtaY', 'changeGraph', 'eyJpZCI6IDQzOSwgInR5cGUiOiAidmVydGV4IiwgInByb3BzIjogeyJzaXplIjogMTYuNDA0MDExNDYxMzE4MDV9fQo=');</script>\n",
       "    "
      ],
      "text/plain": [
       "<IPython.core.display.HTML object>"
      ]
     },
     "metadata": {},
     "output_type": "display_data"
    },
    {
     "data": {
      "text/html": [
       "\n",
       "        <div id=\"NUWL5t3Xzv9RmhWF5iihiw\"></div>\n",
       "        <script>netpixi.call('NUWL5t3Xzv9RmhWF5iihiw', 'K4weoEfgX3kSNzn3gxGtaY', 'changeGraph', 'eyJpZCI6IDQ0MCwgInR5cGUiOiAidmVydGV4IiwgInByb3BzIjogeyJzaXplIjogMTQuMzEyMzIwOTE2OTA1NDQ0fX0K');</script>\n",
       "    "
      ],
      "text/plain": [
       "<IPython.core.display.HTML object>"
      ]
     },
     "metadata": {},
     "output_type": "display_data"
    },
    {
     "data": {
      "text/html": [
       "\n",
       "        <div id=\"6kYAL3WeJyAj2L6FXyDbAp\"></div>\n",
       "        <script>netpixi.call('6kYAL3WeJyAj2L6FXyDbAp', 'K4weoEfgX3kSNzn3gxGtaY', 'changeGraph', 'eyJpZCI6IDQ0MSwgInR5cGUiOiAidmVydGV4IiwgInByb3BzIjogeyJzaXplIjogNDQuNzQyODU3MTQyODU3MTR9fQo=');</script>\n",
       "    "
      ],
      "text/plain": [
       "<IPython.core.display.HTML object>"
      ]
     },
     "metadata": {},
     "output_type": "display_data"
    },
    {
     "data": {
      "text/html": [
       "\n",
       "        <div id=\"WinxWxsGZg6E4HDQZ3XNaJ\"></div>\n",
       "        <script>netpixi.call('WinxWxsGZg6E4HDQZ3XNaJ', 'K4weoEfgX3kSNzn3gxGtaY', 'changeGraph', 'eyJpZCI6IDQ0MiwgInR5cGUiOiAidmVydGV4IiwgInByb3BzIjogeyJzaXplIjogMTguMTgwNTE1NzU5MzEyMzJ9fQo=');</script>\n",
       "    "
      ],
      "text/plain": [
       "<IPython.core.display.HTML object>"
      ]
     },
     "metadata": {},
     "output_type": "display_data"
    },
    {
     "data": {
      "text/html": [
       "\n",
       "        <div id=\"JZXKdRJ5jby24zFDjNByLG\"></div>\n",
       "        <script>netpixi.call('JZXKdRJ5jby24zFDjNByLG', 'K4weoEfgX3kSNzn3gxGtaY', 'changeGraph', 'eyJpZCI6IDQ0MywgInR5cGUiOiAidmVydGV4IiwgInByb3BzIjogeyJzaXplIjogMTkuNTk4ODUzODY4MTk0ODQ0fX0K');</script>\n",
       "    "
      ],
      "text/plain": [
       "<IPython.core.display.HTML object>"
      ]
     },
     "metadata": {},
     "output_type": "display_data"
    },
    {
     "data": {
      "text/html": [
       "\n",
       "        <div id=\"Qq9xjD9KhVSAvsHMHXY7AV\"></div>\n",
       "        <script>netpixi.call('Qq9xjD9KhVSAvsHMHXY7AV', 'K4weoEfgX3kSNzn3gxGtaY', 'changeGraph', 'eyJpZCI6IDQ0NCwgInR5cGUiOiAidmVydGV4IiwgInByb3BzIjogeyJzaXplIjogMTUuNDAxMTQ2MTMxODA1MTU4fX0K');</script>\n",
       "    "
      ],
      "text/plain": [
       "<IPython.core.display.HTML object>"
      ]
     },
     "metadata": {},
     "output_type": "display_data"
    },
    {
     "data": {
      "text/html": [
       "\n",
       "        <div id=\"7sVvMEJd8CiT6BpAEgLPVx\"></div>\n",
       "        <script>netpixi.call('7sVvMEJd8CiT6BpAEgLPVx', 'K4weoEfgX3kSNzn3gxGtaY', 'changeGraph', 'eyJpZCI6IDQ0NSwgInR5cGUiOiAidmVydGV4IiwgInByb3BzIjogeyJzaXplIjogMTQuNjEzMTgwNTE1NzU5MzEyfX0K');</script>\n",
       "    "
      ],
      "text/plain": [
       "<IPython.core.display.HTML object>"
      ]
     },
     "metadata": {},
     "output_type": "display_data"
    },
    {
     "data": {
      "text/html": [
       "\n",
       "        <div id=\"YghgYLzrYXGqG3RYFxDSrf\"></div>\n",
       "        <script>netpixi.call('YghgYLzrYXGqG3RYFxDSrf', 'K4weoEfgX3kSNzn3gxGtaY', 'changeGraph', 'eyJpZCI6IDQ0NiwgInR5cGUiOiAidmVydGV4IiwgInByb3BzIjogeyJzaXplIjogMTguNDI0MDY4NzY3OTA4MzF9fQo=');</script>\n",
       "    "
      ],
      "text/plain": [
       "<IPython.core.display.HTML object>"
      ]
     },
     "metadata": {},
     "output_type": "display_data"
    },
    {
     "data": {
      "text/html": [
       "\n",
       "        <div id=\"hfvTuSqehxkxSn5cugr8xs\"></div>\n",
       "        <script>netpixi.call('hfvTuSqehxkxSn5cugr8xs', 'K4weoEfgX3kSNzn3gxGtaY', 'changeGraph', 'eyJpZCI6IDQ0NywgInR5cGUiOiAidmVydGV4IiwgInByb3BzIjogeyJzaXplIjogMTkuODU2NzMzNTI0MzU1M319Cg==');</script>\n",
       "    "
      ],
      "text/plain": [
       "<IPython.core.display.HTML object>"
      ]
     },
     "metadata": {},
     "output_type": "display_data"
    },
    {
     "data": {
      "text/html": [
       "\n",
       "        <div id=\"6muhZmJTRQ7nax49NhUDY7\"></div>\n",
       "        <script>netpixi.call('6muhZmJTRQ7nax49NhUDY7', 'K4weoEfgX3kSNzn3gxGtaY', 'changeGraph', 'eyJpZCI6IDQ0OCwgInR5cGUiOiAidmVydGV4IiwgInByb3BzIjogeyJzaXplIjogMTEuMTAzMTUxODYyNDY0MTg0fX0K');</script>\n",
       "    "
      ],
      "text/plain": [
       "<IPython.core.display.HTML object>"
      ]
     },
     "metadata": {},
     "output_type": "display_data"
    },
    {
     "data": {
      "text/html": [
       "\n",
       "        <div id=\"PKCgdvTXDE8ivEM2uJeNPy\"></div>\n",
       "        <script>netpixi.call('PKCgdvTXDE8ivEM2uJeNPy', 'K4weoEfgX3kSNzn3gxGtaY', 'changeGraph', 'eyJpZCI6IDQ0OSwgInR5cGUiOiAidmVydGV4IiwgInByb3BzIjogeyJzaXplIjogMTYuMDE3MTkxOTc3MDc3MzYzfX0K');</script>\n",
       "    "
      ],
      "text/plain": [
       "<IPython.core.display.HTML object>"
      ]
     },
     "metadata": {},
     "output_type": "display_data"
    },
    {
     "data": {
      "text/html": [
       "\n",
       "        <div id=\"MDpsKN5thGwM7yGTfG9xZx\"></div>\n",
       "        <script>netpixi.call('MDpsKN5thGwM7yGTfG9xZx', 'K4weoEfgX3kSNzn3gxGtaY', 'changeGraph', 'eyJpZCI6IDQ1MCwgInR5cGUiOiAidmVydGV4IiwgInByb3BzIjogeyJzaXplIjogMTIuNzY1MDQyOTc5OTQyNjkzfX0K');</script>\n",
       "    "
      ],
      "text/plain": [
       "<IPython.core.display.HTML object>"
      ]
     },
     "metadata": {},
     "output_type": "display_data"
    },
    {
     "data": {
      "text/html": [
       "\n",
       "        <div id=\"8QRXwwy9DF2E8mQCcv92RH\"></div>\n",
       "        <script>netpixi.call('8QRXwwy9DF2E8mQCcv92RH', 'K4weoEfgX3kSNzn3gxGtaY', 'changeGraph', 'eyJpZCI6IDQ1MSwgInR5cGUiOiAidmVydGV4IiwgInByb3BzIjogeyJzaXplIjogMTkuMDI1Nzg3OTY1NjE2MDQ3fX0K');</script>\n",
       "    "
      ],
      "text/plain": [
       "<IPython.core.display.HTML object>"
      ]
     },
     "metadata": {},
     "output_type": "display_data"
    },
    {
     "data": {
      "text/html": [
       "\n",
       "        <div id=\"NxkiznQGoFHruu2SwBE8Fu\"></div>\n",
       "        <script>netpixi.call('NxkiznQGoFHruu2SwBE8Fu', 'K4weoEfgX3kSNzn3gxGtaY', 'changeGraph', 'eyJpZCI6IDQ1MiwgInR5cGUiOiAidmVydGV4IiwgInByb3BzIjogeyJzaXplIjogMTcuNTM1ODE2NjE4OTExMTczfX0K');</script>\n",
       "    "
      ],
      "text/plain": [
       "<IPython.core.display.HTML object>"
      ]
     },
     "metadata": {},
     "output_type": "display_data"
    },
    {
     "data": {
      "text/html": [
       "\n",
       "        <div id=\"MQW52re6MkHFCxm4CjUMd9\"></div>\n",
       "        <script>netpixi.call('MQW52re6MkHFCxm4CjUMd9', 'K4weoEfgX3kSNzn3gxGtaY', 'changeGraph', 'eyJpZCI6IDQ1MywgInR5cGUiOiAidmVydGV4IiwgInByb3BzIjogeyJzaXplIjogMTQuMzk4MjgwODAyMjkyMjYzfX0K');</script>\n",
       "    "
      ],
      "text/plain": [
       "<IPython.core.display.HTML object>"
      ]
     },
     "metadata": {},
     "output_type": "display_data"
    },
    {
     "data": {
      "text/html": [
       "\n",
       "        <div id=\"h9XEhj8CGAv4FYaWeeShs7\"></div>\n",
       "        <script>netpixi.call('h9XEhj8CGAv4FYaWeeShs7', 'K4weoEfgX3kSNzn3gxGtaY', 'changeGraph', 'eyJpZCI6IDQ1NCwgInR5cGUiOiAidmVydGV4IiwgInByb3BzIjogeyJzaXplIjogMTguMjA5MTY5MDU0NDQxMjZ9fQo=');</script>\n",
       "    "
      ],
      "text/plain": [
       "<IPython.core.display.HTML object>"
      ]
     },
     "metadata": {},
     "output_type": "display_data"
    },
    {
     "data": {
      "text/html": [
       "\n",
       "        <div id=\"g7KhQbhWxM2YHYgcfvHhmQ\"></div>\n",
       "        <script>netpixi.call('g7KhQbhWxM2YHYgcfvHhmQ', 'K4weoEfgX3kSNzn3gxGtaY', 'changeGraph', 'eyJpZCI6IDQ1NSwgInR5cGUiOiAidmVydGV4IiwgInByb3BzIjogeyJzaXplIjogMTQuNDI2OTM0MDk3NDIxMjAzfX0K');</script>\n",
       "    "
      ],
      "text/plain": [
       "<IPython.core.display.HTML object>"
      ]
     },
     "metadata": {},
     "output_type": "display_data"
    },
    {
     "data": {
      "text/html": [
       "\n",
       "        <div id=\"JcGYXBw8FJXK5zTHt2Y2gq\"></div>\n",
       "        <script>netpixi.call('JcGYXBw8FJXK5zTHt2Y2gq', 'K4weoEfgX3kSNzn3gxGtaY', 'changeGraph', 'eyJpZCI6IDQ1NiwgInR5cGUiOiAidmVydGV4IiwgInByb3BzIjogeyJzaXplIjogMTkuNTU1ODczOTI1NTAxNDN9fQo=');</script>\n",
       "    "
      ],
      "text/plain": [
       "<IPython.core.display.HTML object>"
      ]
     },
     "metadata": {},
     "output_type": "display_data"
    },
    {
     "data": {
      "text/html": [
       "\n",
       "        <div id=\"bv2ZedQM2M24DuDdJ4qQHe\"></div>\n",
       "        <script>netpixi.call('bv2ZedQM2M24DuDdJ4qQHe', 'K4weoEfgX3kSNzn3gxGtaY', 'changeGraph', 'eyJpZCI6IDQ1NywgInR5cGUiOiAidmVydGV4IiwgInByb3BzIjogeyJzaXplIjogMTMuNDgxMzc1MzU4MTY2MTl9fQo=');</script>\n",
       "    "
      ],
      "text/plain": [
       "<IPython.core.display.HTML object>"
      ]
     },
     "metadata": {},
     "output_type": "display_data"
    },
    {
     "data": {
      "text/html": [
       "\n",
       "        <div id=\"M5BJh9babwMMMfuZGYHN6X\"></div>\n",
       "        <script>netpixi.call('M5BJh9babwMMMfuZGYHN6X', 'K4weoEfgX3kSNzn3gxGtaY', 'changeGraph', 'eyJpZCI6IDQ1OCwgInR5cGUiOiAidmVydGV4IiwgInByb3BzIjogeyJzaXplIjogMTkuMzI2NjQ3NTY0NDY5OTE2fX0K');</script>\n",
       "    "
      ],
      "text/plain": [
       "<IPython.core.display.HTML object>"
      ]
     },
     "metadata": {},
     "output_type": "display_data"
    },
    {
     "data": {
      "text/html": [
       "\n",
       "        <div id=\"2Mgk5tUhAbwdftgSTtCwPj\"></div>\n",
       "        <script>netpixi.call('2Mgk5tUhAbwdftgSTtCwPj', 'K4weoEfgX3kSNzn3gxGtaY', 'changeGraph', 'eyJpZCI6IDQ1OSwgInR5cGUiOiAidmVydGV4IiwgInByb3BzIjogeyJzaXplIjogMTguMTY2MTg5MTExNzQ3ODV9fQo=');</script>\n",
       "    "
      ],
      "text/plain": [
       "<IPython.core.display.HTML object>"
      ]
     },
     "metadata": {},
     "output_type": "display_data"
    },
    {
     "data": {
      "text/html": [
       "\n",
       "        <div id=\"4A2MNe5rcvB8SCw4FpYqcK\"></div>\n",
       "        <script>netpixi.call('4A2MNe5rcvB8SCw4FpYqcK', 'K4weoEfgX3kSNzn3gxGtaY', 'changeGraph', 'eyJpZCI6IDQ2MCwgInR5cGUiOiAidmVydGV4IiwgInByb3BzIjogeyJzaXplIjogNDAuNjg1NzE0Mjg1NzE0Mjh9fQo=');</script>\n",
       "    "
      ],
      "text/plain": [
       "<IPython.core.display.HTML object>"
      ]
     },
     "metadata": {},
     "output_type": "display_data"
    },
    {
     "data": {
      "text/html": [
       "\n",
       "        <div id=\"Ve4JEb4UtwESKAM4VhpfVw\"></div>\n",
       "        <script>netpixi.call('Ve4JEb4UtwESKAM4VhpfVw', 'K4weoEfgX3kSNzn3gxGtaY', 'changeGraph', 'eyJpZCI6IDQ2MSwgInR5cGUiOiAidmVydGV4IiwgInByb3BzIjogeyJzaXplIjogMTMuMjIzNDk1NzAyMDA1NzN9fQo=');</script>\n",
       "    "
      ],
      "text/plain": [
       "<IPython.core.display.HTML object>"
      ]
     },
     "metadata": {},
     "output_type": "display_data"
    },
    {
     "data": {
      "text/html": [
       "\n",
       "        <div id=\"QY8VXfLWvskVVpkDAsdXLm\"></div>\n",
       "        <script>netpixi.call('QY8VXfLWvskVVpkDAsdXLm', 'K4weoEfgX3kSNzn3gxGtaY', 'changeGraph', 'eyJpZCI6IDQ2MiwgInR5cGUiOiAidmVydGV4IiwgInByb3BzIjogeyJzaXplIjogMTcuMTA2MDE3MTkxOTc3MDc3fX0K');</script>\n",
       "    "
      ],
      "text/plain": [
       "<IPython.core.display.HTML object>"
      ]
     },
     "metadata": {},
     "output_type": "display_data"
    },
    {
     "data": {
      "text/html": [
       "\n",
       "        <div id=\"Dmct5DmTpgs5mXS3QB6zCg\"></div>\n",
       "        <script>netpixi.call('Dmct5DmTpgs5mXS3QB6zCg', 'K4weoEfgX3kSNzn3gxGtaY', 'changeGraph', 'eyJpZCI6IDQ2MywgInR5cGUiOiAidmVydGV4IiwgInByb3BzIjogeyJzaXplIjogMTguNzM5MjU1MDE0MzI2NjQ1fX0K');</script>\n",
       "    "
      ],
      "text/plain": [
       "<IPython.core.display.HTML object>"
      ]
     },
     "metadata": {},
     "output_type": "display_data"
    },
    {
     "data": {
      "text/html": [
       "\n",
       "        <div id=\"RTcK6a9AdgX7UhJKU88TPN\"></div>\n",
       "        <script>netpixi.call('RTcK6a9AdgX7UhJKU88TPN', 'K4weoEfgX3kSNzn3gxGtaY', 'changeGraph', 'eyJpZCI6IDQ2NCwgInR5cGUiOiAidmVydGV4IiwgInByb3BzIjogeyJzaXplIjogMTkuNjU2MTYwNDU4NDUyNzJ9fQo=');</script>\n",
       "    "
      ],
      "text/plain": [
       "<IPython.core.display.HTML object>"
      ]
     },
     "metadata": {},
     "output_type": "display_data"
    },
    {
     "data": {
      "text/html": [
       "\n",
       "        <div id=\"RxNnKp8ofCQdxAkfqLVVPN\"></div>\n",
       "        <script>netpixi.call('RxNnKp8ofCQdxAkfqLVVPN', 'K4weoEfgX3kSNzn3gxGtaY', 'changeGraph', 'eyJpZCI6IDQ2NSwgInR5cGUiOiAidmVydGV4IiwgInByb3BzIjogeyJzaXplIjogMTYuNzc2NTA0Mjk3OTk0Mjd9fQo=');</script>\n",
       "    "
      ],
      "text/plain": [
       "<IPython.core.display.HTML object>"
      ]
     },
     "metadata": {},
     "output_type": "display_data"
    },
    {
     "data": {
      "text/html": [
       "\n",
       "        <div id=\"SrthVDckd5DzBGCs65Krv8\"></div>\n",
       "        <script>netpixi.call('SrthVDckd5DzBGCs65Krv8', 'K4weoEfgX3kSNzn3gxGtaY', 'changeGraph', 'eyJpZCI6IDQ2NiwgInR5cGUiOiAidmVydGV4IiwgInByb3BzIjogeyJzaXplIjogNDIuMzQyODU3MTQyODU3MTR9fQo=');</script>\n",
       "    "
      ],
      "text/plain": [
       "<IPython.core.display.HTML object>"
      ]
     },
     "metadata": {},
     "output_type": "display_data"
    },
    {
     "data": {
      "text/html": [
       "\n",
       "        <div id=\"fTX76wSVsioF6ukuZHzemD\"></div>\n",
       "        <script>netpixi.call('fTX76wSVsioF6ukuZHzemD', 'K4weoEfgX3kSNzn3gxGtaY', 'changeGraph', 'eyJpZCI6IDQ2NywgInR5cGUiOiAidmVydGV4IiwgInByb3BzIjogeyJzaXplIjogMTkuODcxMDYwMTcxOTE5Nzd9fQo=');</script>\n",
       "    "
      ],
      "text/plain": [
       "<IPython.core.display.HTML object>"
      ]
     },
     "metadata": {},
     "output_type": "display_data"
    },
    {
     "data": {
      "text/html": [
       "\n",
       "        <div id=\"Q8hVs6EogzLx3zfmqFwRvZ\"></div>\n",
       "        <script>netpixi.call('Q8hVs6EogzLx3zfmqFwRvZ', 'K4weoEfgX3kSNzn3gxGtaY', 'changeGraph', 'eyJpZCI6IDQ2OCwgInR5cGUiOiAidmVydGV4IiwgInByb3BzIjogeyJzaXplIjogMTcuNDQ5ODU2NzMzNTI0MzU2fX0K');</script>\n",
       "    "
      ],
      "text/plain": [
       "<IPython.core.display.HTML object>"
      ]
     },
     "metadata": {},
     "output_type": "display_data"
    },
    {
     "data": {
      "text/html": [
       "\n",
       "        <div id=\"Adgw95kB2ytS95BcdP6dgH\"></div>\n",
       "        <script>netpixi.call('Adgw95kB2ytS95BcdP6dgH', 'K4weoEfgX3kSNzn3gxGtaY', 'changeGraph', 'eyJpZCI6IDQ2OSwgInR5cGUiOiAidmVydGV4IiwgInByb3BzIjogeyJzaXplIjogMTIuNjA3NDQ5ODU2NzMzNTI0fX0K');</script>\n",
       "    "
      ],
      "text/plain": [
       "<IPython.core.display.HTML object>"
      ]
     },
     "metadata": {},
     "output_type": "display_data"
    },
    {
     "data": {
      "text/html": [
       "\n",
       "        <div id=\"2Y3hBcwvPTpmhBQU9bHwKp\"></div>\n",
       "        <script>netpixi.call('2Y3hBcwvPTpmhBQU9bHwKp', 'K4weoEfgX3kSNzn3gxGtaY', 'changeGraph', 'eyJpZCI6IDQ3MCwgInR5cGUiOiAidmVydGV4IiwgInByb3BzIjogeyJzaXplIjogMTYuMjYwNzQ0OTg1NjczMzV9fQo=');</script>\n",
       "    "
      ],
      "text/plain": [
       "<IPython.core.display.HTML object>"
      ]
     },
     "metadata": {},
     "output_type": "display_data"
    },
    {
     "data": {
      "text/html": [
       "\n",
       "        <div id=\"ViqoHMHLLTpNaxGcwF4vXh\"></div>\n",
       "        <script>netpixi.call('ViqoHMHLLTpNaxGcwF4vXh', 'K4weoEfgX3kSNzn3gxGtaY', 'changeGraph', 'eyJpZCI6IDQ3MSwgInR5cGUiOiAidmVydGV4IiwgInByb3BzIjogeyJzaXplIjogMTkuNzU2NDQ2OTkxNDA0MDF9fQo=');</script>\n",
       "    "
      ],
      "text/plain": [
       "<IPython.core.display.HTML object>"
      ]
     },
     "metadata": {},
     "output_type": "display_data"
    },
    {
     "data": {
      "text/html": [
       "\n",
       "        <div id=\"B2nwvfRrMcAbnbbEwYngrG\"></div>\n",
       "        <script>netpixi.call('B2nwvfRrMcAbnbbEwYngrG', 'K4weoEfgX3kSNzn3gxGtaY', 'changeGraph', 'eyJpZCI6IDQ3MiwgInR5cGUiOiAidmVydGV4IiwgInByb3BzIjogeyJzaXplIjogMTQuODk5NzEzNDY3MDQ4NzF9fQo=');</script>\n",
       "    "
      ],
      "text/plain": [
       "<IPython.core.display.HTML object>"
      ]
     },
     "metadata": {},
     "output_type": "display_data"
    },
    {
     "data": {
      "text/html": [
       "\n",
       "        <div id=\"QMXM5Ndseq6vwDFAgV3Lxz\"></div>\n",
       "        <script>netpixi.call('QMXM5Ndseq6vwDFAgV3Lxz', 'K4weoEfgX3kSNzn3gxGtaY', 'changeGraph', 'eyJpZCI6IDQ3MywgInR5cGUiOiAidmVydGV4IiwgInByb3BzIjogeyJzaXplIjogMTkuODEzNzUzNTgxNjYxODkyfX0K');</script>\n",
       "    "
      ],
      "text/plain": [
       "<IPython.core.display.HTML object>"
      ]
     },
     "metadata": {},
     "output_type": "display_data"
    },
    {
     "data": {
      "text/html": [
       "\n",
       "        <div id=\"TWASEfszFpvnkW5uehZq4T\"></div>\n",
       "        <script>netpixi.call('TWASEfszFpvnkW5uehZq4T', 'K4weoEfgX3kSNzn3gxGtaY', 'changeGraph', 'eyJpZCI6IDQ3NCwgInR5cGUiOiAidmVydGV4IiwgInByb3BzIjogeyJzaXplIjogMTcuNTY0NDY5OTE0MDQwMTE0fX0K');</script>\n",
       "    "
      ],
      "text/plain": [
       "<IPython.core.display.HTML object>"
      ]
     },
     "metadata": {},
     "output_type": "display_data"
    },
    {
     "data": {
      "text/html": [
       "\n",
       "        <div id=\"TCuSpaiFs2TFuYSCR7wNhw\"></div>\n",
       "        <script>netpixi.call('TCuSpaiFs2TFuYSCR7wNhw', 'K4weoEfgX3kSNzn3gxGtaY', 'changeGraph', 'eyJpZCI6IDQ3NSwgInR5cGUiOiAidmVydGV4IiwgInByb3BzIjogeyJzaXplIjogMTQuOTcxMzQ2NzA0ODcxMDZ9fQo=');</script>\n",
       "    "
      ],
      "text/plain": [
       "<IPython.core.display.HTML object>"
      ]
     },
     "metadata": {},
     "output_type": "display_data"
    },
    {
     "data": {
      "text/html": [
       "\n",
       "        <div id=\"JJrmnVwna3jxuZgimdbzjS\"></div>\n",
       "        <script>netpixi.call('JJrmnVwna3jxuZgimdbzjS', 'K4weoEfgX3kSNzn3gxGtaY', 'changeGraph', 'eyJpZCI6IDQ3NiwgInR5cGUiOiAidmVydGV4IiwgInByb3BzIjogeyJzaXplIjogMTUuNTAxNDMyNjY0NzU2NDQ3fX0K');</script>\n",
       "    "
      ],
      "text/plain": [
       "<IPython.core.display.HTML object>"
      ]
     },
     "metadata": {},
     "output_type": "display_data"
    },
    {
     "data": {
      "text/html": [
       "\n",
       "        <div id=\"bucDyHcUjmd3A5P7Jy8rQS\"></div>\n",
       "        <script>netpixi.call('bucDyHcUjmd3A5P7Jy8rQS', 'K4weoEfgX3kSNzn3gxGtaY', 'changeGraph', 'eyJpZCI6IDQ3NywgInR5cGUiOiAidmVydGV4IiwgInByb3BzIjogeyJzaXplIjogMTMuNjI0NjQxODMzODEwODg3fX0K');</script>\n",
       "    "
      ],
      "text/plain": [
       "<IPython.core.display.HTML object>"
      ]
     },
     "metadata": {},
     "output_type": "display_data"
    },
    {
     "data": {
      "text/html": [
       "\n",
       "        <div id=\"kj289zVzuJCtzrgN9cacnu\"></div>\n",
       "        <script>netpixi.call('kj289zVzuJCtzrgN9cacnu', 'K4weoEfgX3kSNzn3gxGtaY', 'changeGraph', 'eyJpZCI6IDQ3OCwgInR5cGUiOiAidmVydGV4IiwgInByb3BzIjogeyJzaXplIjogMTQuOTI4MzY2NzYyMTc3NjV9fQo=');</script>\n",
       "    "
      ],
      "text/plain": [
       "<IPython.core.display.HTML object>"
      ]
     },
     "metadata": {},
     "output_type": "display_data"
    },
    {
     "data": {
      "text/html": [
       "\n",
       "        <div id=\"fw9DoYMsCDNYM65A9h2H2D\"></div>\n",
       "        <script>netpixi.call('fw9DoYMsCDNYM65A9h2H2D', 'K4weoEfgX3kSNzn3gxGtaY', 'changeGraph', 'eyJpZCI6IDQ3OSwgInR5cGUiOiAidmVydGV4IiwgInByb3BzIjogeyJzaXplIjogMTUuMzQzODM5NTQxNTQ3Mjc3fX0K');</script>\n",
       "    "
      ],
      "text/plain": [
       "<IPython.core.display.HTML object>"
      ]
     },
     "metadata": {},
     "output_type": "display_data"
    },
    {
     "data": {
      "text/html": [
       "\n",
       "        <div id=\"XvF64wYH6ykCyE7Jzxxma9\"></div>\n",
       "        <script>netpixi.call('XvF64wYH6ykCyE7Jzxxma9', 'K4weoEfgX3kSNzn3gxGtaY', 'changeGraph', 'eyJpZCI6IDQ4MCwgInR5cGUiOiAidmVydGV4IiwgInByb3BzIjogeyJzaXplIjogMTQuNjg0ODEzNzUzNTgxNjYxfX0K');</script>\n",
       "    "
      ],
      "text/plain": [
       "<IPython.core.display.HTML object>"
      ]
     },
     "metadata": {},
     "output_type": "display_data"
    },
    {
     "data": {
      "text/html": [
       "\n",
       "        <div id=\"N45CeHYxqHi94CfgzuHTLp\"></div>\n",
       "        <script>netpixi.call('N45CeHYxqHi94CfgzuHTLp', 'K4weoEfgX3kSNzn3gxGtaY', 'changeGraph', 'eyJpZCI6IDQ4MSwgInR5cGUiOiAidmVydGV4IiwgInByb3BzIjogeyJzaXplIjogMTcuODIyMzQ5NTcwMjAwNTcyfX0K');</script>\n",
       "    "
      ],
      "text/plain": [
       "<IPython.core.display.HTML object>"
      ]
     },
     "metadata": {},
     "output_type": "display_data"
    },
    {
     "data": {
      "text/html": [
       "\n",
       "        <div id=\"o7UApL5ys6oTnDxW5UBedG\"></div>\n",
       "        <script>netpixi.call('o7UApL5ys6oTnDxW5UBedG', 'K4weoEfgX3kSNzn3gxGtaY', 'changeGraph', 'eyJpZCI6IDQ4MiwgInR5cGUiOiAidmVydGV4IiwgInByb3BzIjogeyJzaXplIjogMTUuMTcxOTE5NzcwNzczNjM4fX0K');</script>\n",
       "    "
      ],
      "text/plain": [
       "<IPython.core.display.HTML object>"
      ]
     },
     "metadata": {},
     "output_type": "display_data"
    },
    {
     "data": {
      "text/html": [
       "\n",
       "        <div id=\"dkoH2eHdxZQssXSZWhFU9K\"></div>\n",
       "        <script>netpixi.call('dkoH2eHdxZQssXSZWhFU9K', 'K4weoEfgX3kSNzn3gxGtaY', 'changeGraph', 'eyJpZCI6IDQ4MywgInR5cGUiOiAidmVydGV4IiwgInByb3BzIjogeyJzaXplIjogMTMuNTEwMDI4NjUzMjk1MTI4fX0K');</script>\n",
       "    "
      ],
      "text/plain": [
       "<IPython.core.display.HTML object>"
      ]
     },
     "metadata": {},
     "output_type": "display_data"
    },
    {
     "data": {
      "text/html": [
       "\n",
       "        <div id=\"53g3Jue8SZuvx5yBeN9L7s\"></div>\n",
       "        <script>netpixi.call('53g3Jue8SZuvx5yBeN9L7s', 'K4weoEfgX3kSNzn3gxGtaY', 'changeGraph', 'eyJpZCI6IDQ4NCwgInR5cGUiOiAidmVydGV4IiwgInByb3BzIjogeyJzaXplIjogMTkuMzQwOTc0MjEyMDM0MzgyfX0K');</script>\n",
       "    "
      ],
      "text/plain": [
       "<IPython.core.display.HTML object>"
      ]
     },
     "metadata": {},
     "output_type": "display_data"
    },
    {
     "data": {
      "text/html": [
       "\n",
       "        <div id=\"SXaVuWXVBbKzTkj3P75fvD\"></div>\n",
       "        <script>netpixi.call('SXaVuWXVBbKzTkj3P75fvD', 'K4weoEfgX3kSNzn3gxGtaY', 'changeGraph', 'eyJpZCI6IDQ4NSwgInR5cGUiOiAidmVydGV4IiwgInByb3BzIjogeyJzaXplIjogMTUuNTMwMDg1OTU5ODg1Mzg3fX0K');</script>\n",
       "    "
      ],
      "text/plain": [
       "<IPython.core.display.HTML object>"
      ]
     },
     "metadata": {},
     "output_type": "display_data"
    },
    {
     "data": {
      "text/html": [
       "\n",
       "        <div id=\"3Er5hJwRwydEHVdwB59Yc9\"></div>\n",
       "        <script>netpixi.call('3Er5hJwRwydEHVdwB59Yc9', 'K4weoEfgX3kSNzn3gxGtaY', 'changeGraph', 'eyJpZCI6IDQ4NiwgInR5cGUiOiAidmVydGV4IiwgInByb3BzIjogeyJzaXplIjogMTUuMjU3ODc5NjU2MTYwNDU4fX0K');</script>\n",
       "    "
      ],
      "text/plain": [
       "<IPython.core.display.HTML object>"
      ]
     },
     "metadata": {},
     "output_type": "display_data"
    },
    {
     "data": {
      "text/html": [
       "\n",
       "        <div id=\"UZYVYUXYzuetjLVMSFCU6w\"></div>\n",
       "        <script>netpixi.call('UZYVYUXYzuetjLVMSFCU6w', 'K4weoEfgX3kSNzn3gxGtaY', 'changeGraph', 'eyJpZCI6IDQ4NywgInR5cGUiOiAidmVydGV4IiwgInByb3BzIjogeyJzaXplIjogMTQuMjgzNjY3NjIxNzc2NTA1fX0K');</script>\n",
       "    "
      ],
      "text/plain": [
       "<IPython.core.display.HTML object>"
      ]
     },
     "metadata": {},
     "output_type": "display_data"
    },
    {
     "data": {
      "text/html": [
       "\n",
       "        <div id=\"SKjQm7Bi94VCwt2F7k5x3X\"></div>\n",
       "        <script>netpixi.call('SKjQm7Bi94VCwt2F7k5x3X', 'K4weoEfgX3kSNzn3gxGtaY', 'changeGraph', 'eyJpZCI6IDQ4OCwgInR5cGUiOiAidmVydGV4IiwgInByb3BzIjogeyJzaXplIjogMTguMzM4MTA4ODgyNTIxNDl9fQo=');</script>\n",
       "    "
      ],
      "text/plain": [
       "<IPython.core.display.HTML object>"
      ]
     },
     "metadata": {},
     "output_type": "display_data"
    },
    {
     "data": {
      "text/html": [
       "\n",
       "        <div id=\"PAhEuuNppr4e7BGLtv9qP3\"></div>\n",
       "        <script>netpixi.call('PAhEuuNppr4e7BGLtv9qP3', 'K4weoEfgX3kSNzn3gxGtaY', 'changeGraph', 'eyJpZCI6IDQ4OSwgInR5cGUiOiAidmVydGV4IiwgInByb3BzIjogeyJzaXplIjogMTQuODI4MDgwMjI5MjI2MzZ9fQo=');</script>\n",
       "    "
      ],
      "text/plain": [
       "<IPython.core.display.HTML object>"
      ]
     },
     "metadata": {},
     "output_type": "display_data"
    },
    {
     "data": {
      "text/html": [
       "\n",
       "        <div id=\"6irUB4hCu73fpknqUmyXYz\"></div>\n",
       "        <script>netpixi.call('6irUB4hCu73fpknqUmyXYz', 'K4weoEfgX3kSNzn3gxGtaY', 'changeGraph', 'eyJpZCI6IDQ5MCwgInR5cGUiOiAidmVydGV4IiwgInByb3BzIjogeyJzaXplIjogMTUuMDI4NjUzMjk1MTI4OTR9fQo=');</script>\n",
       "    "
      ],
      "text/plain": [
       "<IPython.core.display.HTML object>"
      ]
     },
     "metadata": {},
     "output_type": "display_data"
    },
    {
     "data": {
      "text/html": [
       "\n",
       "        <div id=\"Geyezwyeo68ty4fhpwr9TH\"></div>\n",
       "        <script>netpixi.call('Geyezwyeo68ty4fhpwr9TH', 'K4weoEfgX3kSNzn3gxGtaY', 'changeGraph', 'eyJpZCI6IDQ5MSwgInR5cGUiOiAidmVydGV4IiwgInByb3BzIjogeyJzaXplIjogMTUuNjU5MDI1Nzg3OTY1NjE2fX0K');</script>\n",
       "    "
      ],
      "text/plain": [
       "<IPython.core.display.HTML object>"
      ]
     },
     "metadata": {},
     "output_type": "display_data"
    },
    {
     "data": {
      "text/html": [
       "\n",
       "        <div id=\"j4QEkqhcLgdPLmLrC3aSZr\"></div>\n",
       "        <script>netpixi.call('j4QEkqhcLgdPLmLrC3aSZr', 'K4weoEfgX3kSNzn3gxGtaY', 'changeGraph', 'eyJpZCI6IDQ5MiwgInR5cGUiOiAidmVydGV4IiwgInByb3BzIjogeyJzaXplIjogMTMuMjUyMTQ4OTk3MTM0NjcyfX0K');</script>\n",
       "    "
      ],
      "text/plain": [
       "<IPython.core.display.HTML object>"
      ]
     },
     "metadata": {},
     "output_type": "display_data"
    },
    {
     "data": {
      "text/html": [
       "\n",
       "        <div id=\"MCXi68BhXsPCTtkdmonuiS\"></div>\n",
       "        <script>netpixi.call('MCXi68BhXsPCTtkdmonuiS', 'K4weoEfgX3kSNzn3gxGtaY', 'changeGraph', 'eyJpZCI6IDQ5MywgInR5cGUiOiAidmVydGV4IiwgInByb3BzIjogeyJzaXplIjogMTEuNjE4OTExMTc0Nzg1MX19Cg==');</script>\n",
       "    "
      ],
      "text/plain": [
       "<IPython.core.display.HTML object>"
      ]
     },
     "metadata": {},
     "output_type": "display_data"
    },
    {
     "data": {
      "text/html": [
       "\n",
       "        <div id=\"3YzLwpcQ3NRrezaAB7Q9Pd\"></div>\n",
       "        <script>netpixi.call('3YzLwpcQ3NRrezaAB7Q9Pd', 'K4weoEfgX3kSNzn3gxGtaY', 'changeGraph', 'eyJpZCI6IDQ5NCwgInR5cGUiOiAidmVydGV4IiwgInByb3BzIjogeyJzaXplIjogMTQuNTcwMjAwNTczMDY1OTAyfX0K');</script>\n",
       "    "
      ],
      "text/plain": [
       "<IPython.core.display.HTML object>"
      ]
     },
     "metadata": {},
     "output_type": "display_data"
    },
    {
     "data": {
      "text/html": [
       "\n",
       "        <div id=\"SqVnRUNrmJAsaPyEMzZiJV\"></div>\n",
       "        <script>netpixi.call('SqVnRUNrmJAsaPyEMzZiJV', 'K4weoEfgX3kSNzn3gxGtaY', 'changeGraph', 'eyJpZCI6IDQ5NSwgInR5cGUiOiAidmVydGV4IiwgInByb3BzIjogeyJzaXplIjogMTQuNzcwNzczNjM4OTY4NDgyfX0K');</script>\n",
       "    "
      ],
      "text/plain": [
       "<IPython.core.display.HTML object>"
      ]
     },
     "metadata": {},
     "output_type": "display_data"
    },
    {
     "data": {
      "text/html": [
       "\n",
       "        <div id=\"dcbvabqrQd4MnSEwKtfas5\"></div>\n",
       "        <script>netpixi.call('dcbvabqrQd4MnSEwKtfas5', 'K4weoEfgX3kSNzn3gxGtaY', 'changeGraph', 'eyJpZCI6IDQ5NiwgInR5cGUiOiAidmVydGV4IiwgInByb3BzIjogeyJzaXplIjogMTUuOTE2OTA1NDQ0MTI2MDczfX0K');</script>\n",
       "    "
      ],
      "text/plain": [
       "<IPython.core.display.HTML object>"
      ]
     },
     "metadata": {},
     "output_type": "display_data"
    },
    {
     "data": {
      "text/html": [
       "\n",
       "        <div id=\"ZCmiyhpnsjVtAcWA9ueSjB\"></div>\n",
       "        <script>netpixi.call('ZCmiyhpnsjVtAcWA9ueSjB', 'K4weoEfgX3kSNzn3gxGtaY', 'changeGraph', 'eyJpZCI6IDQ5NywgInR5cGUiOiAidmVydGV4IiwgInByb3BzIjogeyJzaXplIjogMTMuNDUyNzIyMDYzMDM3MjV9fQo=');</script>\n",
       "    "
      ],
      "text/plain": [
       "<IPython.core.display.HTML object>"
      ]
     },
     "metadata": {},
     "output_type": "display_data"
    },
    {
     "data": {
      "text/html": [
       "\n",
       "        <div id=\"UQiwvQzhbyB2b9BFpYbHAo\"></div>\n",
       "        <script>netpixi.call('UQiwvQzhbyB2b9BFpYbHAo', 'K4weoEfgX3kSNzn3gxGtaY', 'changeGraph', 'eyJpZCI6IDQ5OCwgInR5cGUiOiAidmVydGV4IiwgInByb3BzIjogeyJzaXplIjogMTIuMzA2NTkwMjU3ODc5NjU1fX0K');</script>\n",
       "    "
      ],
      "text/plain": [
       "<IPython.core.display.HTML object>"
      ]
     },
     "metadata": {},
     "output_type": "display_data"
    },
    {
     "data": {
      "text/html": [
       "\n",
       "        <div id=\"KYYE7fCwCbgLyfaVTwNYmd\"></div>\n",
       "        <script>netpixi.call('KYYE7fCwCbgLyfaVTwNYmd', 'K4weoEfgX3kSNzn3gxGtaY', 'changeGraph', 'eyJpZCI6IDQ5OSwgInR5cGUiOiAidmVydGV4IiwgInByb3BzIjogeyJzaXplIjogMTYuMjc1MDcxNjMzMjM3ODIyfX0K');</script>\n",
       "    "
      ],
      "text/plain": [
       "<IPython.core.display.HTML object>"
      ]
     },
     "metadata": {},
     "output_type": "display_data"
    },
    {
     "data": {
      "text/html": [
       "\n",
       "        <div id=\"giqKetfrEj29bkNKjzt9LZ\"></div>\n",
       "        <script>netpixi.call('giqKetfrEj29bkNKjzt9LZ', 'K4weoEfgX3kSNzn3gxGtaY', 'changeGraph', 'eyJpZCI6IDUwMCwgInR5cGUiOiAidmVydGV4IiwgInByb3BzIjogeyJzaXplIjogMTUuMTU3NTkzMTIzMjA5MTY4fX0K');</script>\n",
       "    "
      ],
      "text/plain": [
       "<IPython.core.display.HTML object>"
      ]
     },
     "metadata": {},
     "output_type": "display_data"
    },
    {
     "data": {
      "text/html": [
       "\n",
       "        <div id=\"EfDuQ6Xyt4r9uh5szfCzBB\"></div>\n",
       "        <script>netpixi.call('EfDuQ6Xyt4r9uh5szfCzBB', 'K4weoEfgX3kSNzn3gxGtaY', 'changeGraph', 'eyJpZCI6IDUwMSwgInR5cGUiOiAidmVydGV4IiwgInByb3BzIjogeyJzaXplIjogMTEuOTA1NDQ0MTI2MDc0NX19Cg==');</script>\n",
       "    "
      ],
      "text/plain": [
       "<IPython.core.display.HTML object>"
      ]
     },
     "metadata": {},
     "output_type": "display_data"
    },
    {
     "data": {
      "text/html": [
       "\n",
       "        <div id=\"kRFnddJKK9ckEYHiV7Fq3U\"></div>\n",
       "        <script>netpixi.call('kRFnddJKK9ckEYHiV7Fq3U', 'K4weoEfgX3kSNzn3gxGtaY', 'changeGraph', 'eyJpZCI6IDUwMiwgInR5cGUiOiAidmVydGV4IiwgInByb3BzIjogeyJzaXplIjogMTMuMDIyOTIyNjM2MTAzMTUyfX0K');</script>\n",
       "    "
      ],
      "text/plain": [
       "<IPython.core.display.HTML object>"
      ]
     },
     "metadata": {},
     "output_type": "display_data"
    },
    {
     "data": {
      "text/html": [
       "\n",
       "        <div id=\"eg8CGza3VNC2NQ8fXudunE\"></div>\n",
       "        <script>netpixi.call('eg8CGza3VNC2NQ8fXudunE', 'K4weoEfgX3kSNzn3gxGtaY', 'changeGraph', 'eyJpZCI6IDUwMywgInR5cGUiOiAidmVydGV4IiwgInByb3BzIjogeyJzaXplIjogMTMuMTk0ODQyNDA2ODc2NzkxfX0K');</script>\n",
       "    "
      ],
      "text/plain": [
       "<IPython.core.display.HTML object>"
      ]
     },
     "metadata": {},
     "output_type": "display_data"
    },
    {
     "data": {
      "text/html": [
       "\n",
       "        <div id=\"PZW3c5TUpvAy7nWoD9qVtt\"></div>\n",
       "        <script>netpixi.call('PZW3c5TUpvAy7nWoD9qVtt', 'K4weoEfgX3kSNzn3gxGtaY', 'changeGraph', 'eyJpZCI6IDUwNCwgInR5cGUiOiAidmVydGV4IiwgInByb3BzIjogeyJzaXplIjogMTEuMTc0Nzg1MTAwMjg2NTMzfX0K');</script>\n",
       "    "
      ],
      "text/plain": [
       "<IPython.core.display.HTML object>"
      ]
     },
     "metadata": {},
     "output_type": "display_data"
    },
    {
     "data": {
      "text/html": [
       "\n",
       "        <div id=\"HKfg5NmTQaMwtHNqoDUNdR\"></div>\n",
       "        <script>netpixi.call('HKfg5NmTQaMwtHNqoDUNdR', 'K4weoEfgX3kSNzn3gxGtaY', 'changeGraph', 'eyJpZCI6IDUwNSwgInR5cGUiOiAidmVydGV4IiwgInByb3BzIjogeyJzaXplIjogMTUuNDI5Nzk5NDI2OTM0MDk4fX0K');</script>\n",
       "    "
      ],
      "text/plain": [
       "<IPython.core.display.HTML object>"
      ]
     },
     "metadata": {},
     "output_type": "display_data"
    },
    {
     "data": {
      "text/html": [
       "\n",
       "        <div id=\"LTwqbxugoFJ8h2HSbZ5QPA\"></div>\n",
       "        <script>netpixi.call('LTwqbxugoFJ8h2HSbZ5QPA', 'K4weoEfgX3kSNzn3gxGtaY', 'changeGraph', 'eyJpZCI6IDUwNiwgInR5cGUiOiAidmVydGV4IiwgInByb3BzIjogeyJzaXplIjogMTQuOTE0MDQwMTE0NjEzMTh9fQo=');</script>\n",
       "    "
      ],
      "text/plain": [
       "<IPython.core.display.HTML object>"
      ]
     },
     "metadata": {},
     "output_type": "display_data"
    },
    {
     "data": {
      "text/html": [
       "\n",
       "        <div id=\"8khMGi85b5wGs2VkcbD8Yd\"></div>\n",
       "        <script>netpixi.call('8khMGi85b5wGs2VkcbD8Yd', 'K4weoEfgX3kSNzn3gxGtaY', 'changeGraph', 'eyJpZCI6IDUwNywgInR5cGUiOiAidmVydGV4IiwgInByb3BzIjogeyJzaXplIjogMTUuNDg3MTA2MDE3MTkxOTc3fX0K');</script>\n",
       "    "
      ],
      "text/plain": [
       "<IPython.core.display.HTML object>"
      ]
     },
     "metadata": {},
     "output_type": "display_data"
    },
    {
     "data": {
      "text/html": [
       "\n",
       "        <div id=\"PeJ9QEad8mV7HB9HvBBBzg\"></div>\n",
       "        <script>netpixi.call('PeJ9QEad8mV7HB9HvBBBzg', 'K4weoEfgX3kSNzn3gxGtaY', 'changeGraph', 'eyJpZCI6IDUwOCwgInR5cGUiOiAidmVydGV4IiwgInByb3BzIjogeyJzaXplIjogMTUuMDQyOTc5OTQyNjkzNDF9fQo=');</script>\n",
       "    "
      ],
      "text/plain": [
       "<IPython.core.display.HTML object>"
      ]
     },
     "metadata": {},
     "output_type": "display_data"
    },
    {
     "data": {
      "text/html": [
       "\n",
       "        <div id=\"CpuU5kKpkitYxkppV938YM\"></div>\n",
       "        <script>netpixi.call('CpuU5kKpkitYxkppV938YM', 'K4weoEfgX3kSNzn3gxGtaY', 'changeGraph', 'eyJpZCI6IDUwOSwgInR5cGUiOiAidmVydGV4IiwgInByb3BzIjogeyJzaXplIjogMTMuNDk1NzAyMDA1NzMwNjU4fX0K');</script>\n",
       "    "
      ],
      "text/plain": [
       "<IPython.core.display.HTML object>"
      ]
     },
     "metadata": {},
     "output_type": "display_data"
    },
    {
     "data": {
      "text/html": [
       "\n",
       "        <div id=\"akrchdYz8vbuyBNr3yr3oK\"></div>\n",
       "        <script>netpixi.call('akrchdYz8vbuyBNr3yr3oK', 'K4weoEfgX3kSNzn3gxGtaY', 'changeGraph', 'eyJpZCI6IDUxMCwgInR5cGUiOiAidmVydGV4IiwgInByb3BzIjogeyJzaXplIjogMTEuOTE5NzcwNzczNjM4OTd9fQo=');</script>\n",
       "    "
      ],
      "text/plain": [
       "<IPython.core.display.HTML object>"
      ]
     },
     "metadata": {},
     "output_type": "display_data"
    },
    {
     "data": {
      "text/html": [
       "\n",
       "        <div id=\"mSihfkw28Zac9a6J9ME2hi\"></div>\n",
       "        <script>netpixi.call('mSihfkw28Zac9a6J9ME2hi', 'K4weoEfgX3kSNzn3gxGtaY', 'changeGraph', 'eyJpZCI6IDUxMSwgInR5cGUiOiAidmVydGV4IiwgInByb3BzIjogeyJzaXplIjogMTEuNTMyOTUxMjg5Mzk4Mjh9fQo=');</script>\n",
       "    "
      ],
      "text/plain": [
       "<IPython.core.display.HTML object>"
      ]
     },
     "metadata": {},
     "output_type": "display_data"
    },
    {
     "data": {
      "text/html": [
       "\n",
       "        <div id=\"mycUs9vzQxsPvDArpgKdrV\"></div>\n",
       "        <script>netpixi.call('mycUs9vzQxsPvDArpgKdrV', 'K4weoEfgX3kSNzn3gxGtaY', 'changeGraph', 'eyJpZCI6IDUxMiwgInR5cGUiOiAidmVydGV4IiwgInByb3BzIjogeyJzaXplIjogMTAuNzU5MzEyMzIwOTE2OTA1fX0K');</script>\n",
       "    "
      ],
      "text/plain": [
       "<IPython.core.display.HTML object>"
      ]
     },
     "metadata": {},
     "output_type": "display_data"
    },
    {
     "data": {
      "text/html": [
       "\n",
       "        <div id=\"gG6iLzXee4irqfur5AN5tq\"></div>\n",
       "        <script>netpixi.call('gG6iLzXee4irqfur5AN5tq', 'K4weoEfgX3kSNzn3gxGtaY', 'changeGraph', 'eyJpZCI6IDUxMywgInR5cGUiOiAidmVydGV4IiwgInByb3BzIjogeyJzaXplIjogMTEuMjE3NzY1MDQyOTc5OTQzfX0K');</script>\n",
       "    "
      ],
      "text/plain": [
       "<IPython.core.display.HTML object>"
      ]
     },
     "metadata": {},
     "output_type": "display_data"
    },
    {
     "data": {
      "text/html": [
       "\n",
       "        <div id=\"Uo7Sn63kP9zE4njMpA2dPL\"></div>\n",
       "        <script>netpixi.call('Uo7Sn63kP9zE4njMpA2dPL', 'K4weoEfgX3kSNzn3gxGtaY', 'changeGraph', 'eyJpZCI6IDUxNCwgInR5cGUiOiAidmVydGV4IiwgInByb3BzIjogeyJzaXplIjogMTIuNjM2MTAzMTUxODYyNDY0fX0K');</script>\n",
       "    "
      ],
      "text/plain": [
       "<IPython.core.display.HTML object>"
      ]
     },
     "metadata": {},
     "output_type": "display_data"
    },
    {
     "data": {
      "text/html": [
       "\n",
       "        <div id=\"is6v7wxGEyZEEmWhkMn6xT\"></div>\n",
       "        <script>netpixi.call('is6v7wxGEyZEEmWhkMn6xT', 'K4weoEfgX3kSNzn3gxGtaY', 'changeGraph', 'eyJpZCI6IDUxNSwgInR5cGUiOiAidmVydGV4IiwgInByb3BzIjogeyJzaXplIjogMTEuOTYyNzUwNzE2MzMyMzc4fX0K');</script>\n",
       "    "
      ],
      "text/plain": [
       "<IPython.core.display.HTML object>"
      ]
     },
     "metadata": {},
     "output_type": "display_data"
    },
    {
     "data": {
      "text/html": [
       "\n",
       "        <div id=\"F7cFtQQCQ7igBqpaMwcriT\"></div>\n",
       "        <script>netpixi.call('F7cFtQQCQ7igBqpaMwcriT', 'K4weoEfgX3kSNzn3gxGtaY', 'changeGraph', 'eyJpZCI6IDUxNiwgInR5cGUiOiAidmVydGV4IiwgInByb3BzIjogeyJzaXplIjogMTQuMDQwMTE0NjEzMTgwNTE1fX0K');</script>\n",
       "    "
      ],
      "text/plain": [
       "<IPython.core.display.HTML object>"
      ]
     },
     "metadata": {},
     "output_type": "display_data"
    },
    {
     "data": {
      "text/html": [
       "\n",
       "        <div id=\"DiLRefqySU34wsk24fksa3\"></div>\n",
       "        <script>netpixi.call('DiLRefqySU34wsk24fksa3', 'K4weoEfgX3kSNzn3gxGtaY', 'changeGraph', 'eyJpZCI6IDUxNywgInR5cGUiOiAidmVydGV4IiwgInByb3BzIjogeyJzaXplIjogMTAuOTMxMjMyMDkxNjkwNTQ1fX0K');</script>\n",
       "    "
      ],
      "text/plain": [
       "<IPython.core.display.HTML object>"
      ]
     },
     "metadata": {},
     "output_type": "display_data"
    },
    {
     "data": {
      "text/html": [
       "\n",
       "        <div id=\"h3X4yBRTtvcbqPEQ5yA2Qj\"></div>\n",
       "        <script>netpixi.call('h3X4yBRTtvcbqPEQ5yA2Qj', 'K4weoEfgX3kSNzn3gxGtaY', 'changeGraph', 'eyJpZCI6IDUxOCwgInR5cGUiOiAidmVydGV4IiwgInByb3BzIjogeyJzaXplIjogMTIuMjkyMjYzNjEwMzE1MTg1fX0K');</script>\n",
       "    "
      ],
      "text/plain": [
       "<IPython.core.display.HTML object>"
      ]
     },
     "metadata": {},
     "output_type": "display_data"
    },
    {
     "data": {
      "text/html": [
       "\n",
       "        <div id=\"gsRmfq4XjKFdmWVTqSiW9W\"></div>\n",
       "        <script>netpixi.call('gsRmfq4XjKFdmWVTqSiW9W', 'K4weoEfgX3kSNzn3gxGtaY', 'changeGraph', 'eyJpZCI6IDUxOSwgInR5cGUiOiAidmVydGV4IiwgInByb3BzIjogeyJzaXplIjogMTIuMDYzMDM3MjQ5MjgzNjY3fX0K');</script>\n",
       "    "
      ],
      "text/plain": [
       "<IPython.core.display.HTML object>"
      ]
     },
     "metadata": {},
     "output_type": "display_data"
    },
    {
     "data": {
      "text/html": [
       "\n",
       "        <div id=\"gUy9HikK2TLNVWFUHdivBm\"></div>\n",
       "        <script>netpixi.call('gUy9HikK2TLNVWFUHdivBm', 'K4weoEfgX3kSNzn3gxGtaY', 'changeGraph', 'eyJpZCI6IDUyMCwgInR5cGUiOiAidmVydGV4IiwgInByb3BzIjogeyJzaXplIjogMTMuOTk3MTM0NjcwNDg3MTA3fX0K');</script>\n",
       "    "
      ],
      "text/plain": [
       "<IPython.core.display.HTML object>"
      ]
     },
     "metadata": {},
     "output_type": "display_data"
    },
    {
     "data": {
      "text/html": [
       "\n",
       "        <div id=\"MttTQGf3GafxF8vFwUu8AX\"></div>\n",
       "        <script>netpixi.call('MttTQGf3GafxF8vFwUu8AX', 'K4weoEfgX3kSNzn3gxGtaY', 'changeGraph', 'eyJpZCI6IDUyMSwgInR5cGUiOiAidmVydGV4IiwgInByb3BzIjogeyJzaXplIjogMTMuNjUzMjk1MTI4OTM5ODI4fX0K');</script>\n",
       "    "
      ],
      "text/plain": [
       "<IPython.core.display.HTML object>"
      ]
     },
     "metadata": {},
     "output_type": "display_data"
    },
    {
     "data": {
      "text/html": [
       "\n",
       "        <div id=\"9YoeNmHCUorFV5yLY8nBdY\"></div>\n",
       "        <script>netpixi.call('9YoeNmHCUorFV5yLY8nBdY', 'K4weoEfgX3kSNzn3gxGtaY', 'changeGraph', 'eyJpZCI6IDUyMiwgInR5cGUiOiAidmVydGV4IiwgInByb3BzIjogeyJzaXplIjogMTEuNDQ2OTkxNDA0MDExNDYxfX0K');</script>\n",
       "    "
      ],
      "text/plain": [
       "<IPython.core.display.HTML object>"
      ]
     },
     "metadata": {},
     "output_type": "display_data"
    },
    {
     "data": {
      "text/html": [
       "\n",
       "        <div id=\"fA7bRrJgHEPU2YuzrQuRpD\"></div>\n",
       "        <script>netpixi.call('fA7bRrJgHEPU2YuzrQuRpD', 'K4weoEfgX3kSNzn3gxGtaY', 'changeGraph', 'eyJpZCI6IDUyMywgInR5cGUiOiAidmVydGV4IiwgInByb3BzIjogeyJzaXplIjogMTIuNDQ5ODU2NzMzNTI0MzU1fX0K');</script>\n",
       "    "
      ],
      "text/plain": [
       "<IPython.core.display.HTML object>"
      ]
     },
     "metadata": {},
     "output_type": "display_data"
    },
    {
     "data": {
      "text/html": [
       "\n",
       "        <div id=\"JMVEDZbtGjeMKwWqqKQ5yU\"></div>\n",
       "        <script>netpixi.call('JMVEDZbtGjeMKwWqqKQ5yU', 'K4weoEfgX3kSNzn3gxGtaY', 'changeGraph', 'eyJpZCI6IDUyNCwgInR5cGUiOiAidmVydGV4IiwgInByb3BzIjogeyJzaXplIjogMTIuNzkzNjk2Mjc1MDcxNjM0fX0K');</script>\n",
       "    "
      ],
      "text/plain": [
       "<IPython.core.display.HTML object>"
      ]
     },
     "metadata": {},
     "output_type": "display_data"
    },
    {
     "data": {
      "text/html": [
       "\n",
       "        <div id=\"4wNtHpRPgX5nrZcdRMdkQN\"></div>\n",
       "        <script>netpixi.call('4wNtHpRPgX5nrZcdRMdkQN', 'K4weoEfgX3kSNzn3gxGtaY', 'changeGraph', 'eyJpZCI6IDUyNSwgInR5cGUiOiAidmVydGV4IiwgInByb3BzIjogeyJzaXplIjogMTUuMjAwNTczMDY1OTAyNTc4fX0K');</script>\n",
       "    "
      ],
      "text/plain": [
       "<IPython.core.display.HTML object>"
      ]
     },
     "metadata": {},
     "output_type": "display_data"
    },
    {
     "data": {
      "text/html": [
       "\n",
       "        <div id=\"cy4hj6EJvGjr7fntRoz5VK\"></div>\n",
       "        <script>netpixi.call('cy4hj6EJvGjr7fntRoz5VK', 'K4weoEfgX3kSNzn3gxGtaY', 'changeGraph', 'eyJpZCI6IDUyNiwgInR5cGUiOiAidmVydGV4IiwgInByb3BzIjogeyJzaXplIjogMTMuMTY2MTg5MTExNzQ3ODUxfX0K');</script>\n",
       "    "
      ],
      "text/plain": [
       "<IPython.core.display.HTML object>"
      ]
     },
     "metadata": {},
     "output_type": "display_data"
    },
    {
     "data": {
      "text/html": [
       "\n",
       "        <div id=\"cedNPxNMZSNWv8BUCza8gm\"></div>\n",
       "        <script>netpixi.call('cedNPxNMZSNWv8BUCza8gm', 'K4weoEfgX3kSNzn3gxGtaY', 'changeGraph', 'eyJpZCI6IDUyNywgInR5cGUiOiAidmVydGV4IiwgInByb3BzIjogeyJzaXplIjogMTQuOTQyNjkzNDA5NzQyMTJ9fQo=');</script>\n",
       "    "
      ],
      "text/plain": [
       "<IPython.core.display.HTML object>"
      ]
     },
     "metadata": {},
     "output_type": "display_data"
    },
    {
     "data": {
      "text/html": [
       "\n",
       "        <div id=\"VUpV5uKaogZXz3pstGuPeq\"></div>\n",
       "        <script>netpixi.call('VUpV5uKaogZXz3pstGuPeq', 'K4weoEfgX3kSNzn3gxGtaY', 'changeGraph', 'eyJpZCI6IDUyOCwgInR5cGUiOiAidmVydGV4IiwgInByb3BzIjogeyJzaXplIjogMTMuMzA5NDU1NTg3MzkyNTV9fQo=');</script>\n",
       "    "
      ],
      "text/plain": [
       "<IPython.core.display.HTML object>"
      ]
     },
     "metadata": {},
     "output_type": "display_data"
    },
    {
     "data": {
      "text/html": [
       "\n",
       "        <div id=\"bnJZ326QnJPsR8gpTFGT8g\"></div>\n",
       "        <script>netpixi.call('bnJZ326QnJPsR8gpTFGT8g', 'K4weoEfgX3kSNzn3gxGtaY', 'changeGraph', 'eyJpZCI6IDUyOSwgInR5cGUiOiAidmVydGV4IiwgInByb3BzIjogeyJzaXplIjogMTQuNDU1NTg3MzkyNTUwMTQzfX0K');</script>\n",
       "    "
      ],
      "text/plain": [
       "<IPython.core.display.HTML object>"
      ]
     },
     "metadata": {},
     "output_type": "display_data"
    },
    {
     "data": {
      "text/html": [
       "\n",
       "        <div id=\"atPaexRQcGBsZNmFbJY7fU\"></div>\n",
       "        <script>netpixi.call('atPaexRQcGBsZNmFbJY7fU', 'K4weoEfgX3kSNzn3gxGtaY', 'changeGraph', 'eyJpZCI6IDUzMCwgInR5cGUiOiAidmVydGV4IiwgInByb3BzIjogeyJzaXplIjogMTMuODI1MjE0ODk5NzEzNDY3fX0K');</script>\n",
       "    "
      ],
      "text/plain": [
       "<IPython.core.display.HTML object>"
      ]
     },
     "metadata": {},
     "output_type": "display_data"
    },
    {
     "data": {
      "text/html": [
       "\n",
       "        <div id=\"QS9bo8J6ZTZDtuSXwFAiHJ\"></div>\n",
       "        <script>netpixi.call('QS9bo8J6ZTZDtuSXwFAiHJ', 'K4weoEfgX3kSNzn3gxGtaY', 'changeGraph', 'eyJpZCI6IDUzMSwgInR5cGUiOiAidmVydGV4IiwgInByb3BzIjogeyJzaXplIjogMTEuNTYxNjA0NTg0NTI3MjJ9fQo=');</script>\n",
       "    "
      ],
      "text/plain": [
       "<IPython.core.display.HTML object>"
      ]
     },
     "metadata": {},
     "output_type": "display_data"
    },
    {
     "data": {
      "text/html": [
       "\n",
       "        <div id=\"8TCZaMSXMsaUC6Jpb5uBTC\"></div>\n",
       "        <script>netpixi.call('8TCZaMSXMsaUC6Jpb5uBTC', 'K4weoEfgX3kSNzn3gxGtaY', 'changeGraph', 'eyJpZCI6IDUzMiwgInR5cGUiOiAidmVydGV4IiwgInByb3BzIjogeyJzaXplIjogMTIuMzkyNTUwMTQzMjY2NDc2fX0K');</script>\n",
       "    "
      ],
      "text/plain": [
       "<IPython.core.display.HTML object>"
      ]
     },
     "metadata": {},
     "output_type": "display_data"
    },
    {
     "data": {
      "text/html": [
       "\n",
       "        <div id=\"UEsPRajTn9yonEUG3QFGpo\"></div>\n",
       "        <script>netpixi.call('UEsPRajTn9yonEUG3QFGpo', 'K4weoEfgX3kSNzn3gxGtaY', 'changeGraph', 'eyJpZCI6IDUzMywgInR5cGUiOiAidmVydGV4IiwgInByb3BzIjogeyJzaXplIjogMTIuMDIwMDU3MzA2NTkwMjU3fX0K');</script>\n",
       "    "
      ],
      "text/plain": [
       "<IPython.core.display.HTML object>"
      ]
     },
     "metadata": {},
     "output_type": "display_data"
    },
    {
     "data": {
      "text/html": [
       "\n",
       "        <div id=\"PgEKRSuwFhxHiShH2jBFWE\"></div>\n",
       "        <script>netpixi.call('PgEKRSuwFhxHiShH2jBFWE', 'K4weoEfgX3kSNzn3gxGtaY', 'changeGraph', 'eyJpZCI6IDUzNCwgInR5cGUiOiAidmVydGV4IiwgInByb3BzIjogeyJzaXplIjogMTIuNTc4Nzk2NTYxNjA0NTg0fX0K');</script>\n",
       "    "
      ],
      "text/plain": [
       "<IPython.core.display.HTML object>"
      ]
     },
     "metadata": {},
     "output_type": "display_data"
    },
    {
     "data": {
      "text/html": [
       "\n",
       "        <div id=\"mdjDjzC8XSVEtmSJUNvn7Q\"></div>\n",
       "        <script>netpixi.call('mdjDjzC8XSVEtmSJUNvn7Q', 'K4weoEfgX3kSNzn3gxGtaY', 'changeGraph', 'eyJpZCI6IDUzNSwgInR5cGUiOiAidmVydGV4IiwgInByb3BzIjogeyJzaXplIjogMTQuMDExNDYxMzE4MDUxNTc3fX0K');</script>\n",
       "    "
      ],
      "text/plain": [
       "<IPython.core.display.HTML object>"
      ]
     },
     "metadata": {},
     "output_type": "display_data"
    },
    {
     "data": {
      "text/html": [
       "\n",
       "        <div id=\"We4UnD2bBtVvwrkarT6kDE\"></div>\n",
       "        <script>netpixi.call('We4UnD2bBtVvwrkarT6kDE', 'K4weoEfgX3kSNzn3gxGtaY', 'changeGraph', 'eyJpZCI6IDUzNiwgInR5cGUiOiAidmVydGV4IiwgInByb3BzIjogeyJzaXplIjogMTEuMDAyODY1MzI5NTEyODkzfX0K');</script>\n",
       "    "
      ],
      "text/plain": [
       "<IPython.core.display.HTML object>"
      ]
     },
     "metadata": {},
     "output_type": "display_data"
    },
    {
     "data": {
      "text/html": [
       "\n",
       "        <div id=\"TopvEkD3hKFCiYEnUM7Rzg\"></div>\n",
       "        <script>netpixi.call('TopvEkD3hKFCiYEnUM7Rzg', 'K4weoEfgX3kSNzn3gxGtaY', 'changeGraph', 'eyJpZCI6IDUzNywgInR5cGUiOiAidmVydGV4IiwgInByb3BzIjogeyJzaXplIjogMTUuNzczNjM4OTY4NDgxMzc1fX0K');</script>\n",
       "    "
      ],
      "text/plain": [
       "<IPython.core.display.HTML object>"
      ]
     },
     "metadata": {},
     "output_type": "display_data"
    },
    {
     "data": {
      "text/html": [
       "\n",
       "        <div id=\"6k8WvyHFbxHya4YCFYCrXZ\"></div>\n",
       "        <script>netpixi.call('6k8WvyHFbxHya4YCFYCrXZ', 'K4weoEfgX3kSNzn3gxGtaY', 'changeGraph', 'eyJpZCI6IDUzOCwgInR5cGUiOiAidmVydGV4IiwgInByb3BzIjogeyJzaXplIjogMTQuNTEyODkzOTgyODA4MDIzfX0K');</script>\n",
       "    "
      ],
      "text/plain": [
       "<IPython.core.display.HTML object>"
      ]
     },
     "metadata": {},
     "output_type": "display_data"
    },
    {
     "data": {
      "text/html": [
       "\n",
       "        <div id=\"gjH8fXhXHJKkRj59jtqGDd\"></div>\n",
       "        <script>netpixi.call('gjH8fXhXHJKkRj59jtqGDd', 'K4weoEfgX3kSNzn3gxGtaY', 'changeGraph', 'eyJpZCI6IDUzOSwgInR5cGUiOiAidmVydGV4IiwgInByb3BzIjogeyJzaXplIjogMTUuNDE1NDcyNzc5MzY5NjI4fX0K');</script>\n",
       "    "
      ],
      "text/plain": [
       "<IPython.core.display.HTML object>"
      ]
     },
     "metadata": {},
     "output_type": "display_data"
    },
    {
     "data": {
      "text/html": [
       "\n",
       "        <div id=\"DHNGvHPGd5W5bKEKkkaY6d\"></div>\n",
       "        <script>netpixi.call('DHNGvHPGd5W5bKEKkkaY6d', 'K4weoEfgX3kSNzn3gxGtaY', 'changeGraph', 'eyJpZCI6IDU0MCwgInR5cGUiOiAidmVydGV4IiwgInByb3BzIjogeyJzaXplIjogMTIuODkzOTgyODA4MDIyOTIzfX0K');</script>\n",
       "    "
      ],
      "text/plain": [
       "<IPython.core.display.HTML object>"
      ]
     },
     "metadata": {},
     "output_type": "display_data"
    },
    {
     "data": {
      "text/html": [
       "\n",
       "        <div id=\"3dR9rHYRCbmxT42XKCR75a\"></div>\n",
       "        <script>netpixi.call('3dR9rHYRCbmxT42XKCR75a', 'K4weoEfgX3kSNzn3gxGtaY', 'changeGraph', 'eyJpZCI6IDU0MSwgInR5cGUiOiAidmVydGV4IiwgInByb3BzIjogeyJzaXplIjogMTAuMjcyMjA2MzAzNzI0OTI4fX0K');</script>\n",
       "    "
      ],
      "text/plain": [
       "<IPython.core.display.HTML object>"
      ]
     },
     "metadata": {},
     "output_type": "display_data"
    },
    {
     "data": {
      "text/html": [
       "\n",
       "        <div id=\"YNtxJKg9voH9JXxr9VYSjv\"></div>\n",
       "        <script>netpixi.call('YNtxJKg9voH9JXxr9VYSjv', 'K4weoEfgX3kSNzn3gxGtaY', 'changeGraph', 'eyJpZCI6IDU0MiwgInR5cGUiOiAidmVydGV4IiwgInByb3BzIjogeyJzaXplIjogMTUuMDU3MzA2NTkwMjU3ODh9fQo=');</script>\n",
       "    "
      ],
      "text/plain": [
       "<IPython.core.display.HTML object>"
      ]
     },
     "metadata": {},
     "output_type": "display_data"
    },
    {
     "data": {
      "text/html": [
       "\n",
       "        <div id=\"V5wwFcP4eZ4PDAbkRXBCDF\"></div>\n",
       "        <script>netpixi.call('V5wwFcP4eZ4PDAbkRXBCDF', 'K4weoEfgX3kSNzn3gxGtaY', 'changeGraph', 'eyJpZCI6IDU0MywgInR5cGUiOiAidmVydGV4IiwgInByb3BzIjogeyJzaXplIjogMTQuNTI3MjIwNjMwMzcyNDk0fX0K');</script>\n",
       "    "
      ],
      "text/plain": [
       "<IPython.core.display.HTML object>"
      ]
     },
     "metadata": {},
     "output_type": "display_data"
    },
    {
     "data": {
      "text/html": [
       "\n",
       "        <div id=\"8Nv54tMpt2tYptaa7dgxrs\"></div>\n",
       "        <script>netpixi.call('8Nv54tMpt2tYptaa7dgxrs', 'K4weoEfgX3kSNzn3gxGtaY', 'changeGraph', 'eyJpZCI6IDU0NCwgInR5cGUiOiAidmVydGV4IiwgInByb3BzIjogeyJzaXplIjogMTIuMTc3NjUwNDI5Nzk5NDI2fX0K');</script>\n",
       "    "
      ],
      "text/plain": [
       "<IPython.core.display.HTML object>"
      ]
     },
     "metadata": {},
     "output_type": "display_data"
    },
    {
     "data": {
      "text/html": [
       "\n",
       "        <div id=\"Bwvx4kwqirjXSjqJJmjtNC\"></div>\n",
       "        <script>netpixi.call('Bwvx4kwqirjXSjqJJmjtNC', 'K4weoEfgX3kSNzn3gxGtaY', 'changeGraph', 'eyJpZCI6IDU0NSwgInR5cGUiOiAidmVydGV4IiwgInByb3BzIjogeyJzaXplIjogMTMuMDM3MjQ5MjgzNjY3NjIyfX0K');</script>\n",
       "    "
      ],
      "text/plain": [
       "<IPython.core.display.HTML object>"
      ]
     },
     "metadata": {},
     "output_type": "display_data"
    },
    {
     "data": {
      "text/html": [
       "\n",
       "        <div id=\"VbneVLCxpVvk6ZNB4N2rHu\"></div>\n",
       "        <script>netpixi.call('VbneVLCxpVvk6ZNB4N2rHu', 'K4weoEfgX3kSNzn3gxGtaY', 'changeGraph', 'eyJpZCI6IDU0NiwgInR5cGUiOiAidmVydGV4IiwgInByb3BzIjogeyJzaXplIjogMTQuNjI3NTA3MTYzMzIzNzh9fQo=');</script>\n",
       "    "
      ],
      "text/plain": [
       "<IPython.core.display.HTML object>"
      ]
     },
     "metadata": {},
     "output_type": "display_data"
    },
    {
     "data": {
      "text/html": [
       "\n",
       "        <div id=\"YYeJ9Bp63WNobZEsApvpgU\"></div>\n",
       "        <script>netpixi.call('YYeJ9Bp63WNobZEsApvpgU', 'K4weoEfgX3kSNzn3gxGtaY', 'changeGraph', 'eyJpZCI6IDU0NywgInR5cGUiOiAidmVydGV4IiwgInByb3BzIjogeyJzaXplIjogMTMuMDk0NTU1ODczOTI1NX19Cg==');</script>\n",
       "    "
      ],
      "text/plain": [
       "<IPython.core.display.HTML object>"
      ]
     },
     "metadata": {},
     "output_type": "display_data"
    },
    {
     "data": {
      "text/html": [
       "\n",
       "        <div id=\"UHVWuX5MMZjKANkLtP2PdB\"></div>\n",
       "        <script>netpixi.call('UHVWuX5MMZjKANkLtP2PdB', 'K4weoEfgX3kSNzn3gxGtaY', 'changeGraph', 'eyJpZCI6IDU0OCwgInR5cGUiOiAidmVydGV4IiwgInByb3BzIjogeyJzaXplIjogMTIuODY1MzI5NTEyODkzOTgyfX0K');</script>\n",
       "    "
      ],
      "text/plain": [
       "<IPython.core.display.HTML object>"
      ]
     },
     "metadata": {},
     "output_type": "display_data"
    },
    {
     "data": {
      "text/html": [
       "\n",
       "        <div id=\"Mwo6QKyJ83B2xszGGDGcAb\"></div>\n",
       "        <script>netpixi.call('Mwo6QKyJ83B2xszGGDGcAb', 'K4weoEfgX3kSNzn3gxGtaY', 'changeGraph', 'eyJpZCI6IDU0OSwgInR5cGUiOiAidmVydGV4IiwgInByb3BzIjogeyJzaXplIjogMTQuMzQwOTc0MjEyMDM0Mzg0fX0K');</script>\n",
       "    "
      ],
      "text/plain": [
       "<IPython.core.display.HTML object>"
      ]
     },
     "metadata": {},
     "output_type": "display_data"
    },
    {
     "data": {
      "text/html": [
       "\n",
       "        <div id=\"Cz8fBP9nq3TDSw9nyyDohs\"></div>\n",
       "        <script>netpixi.call('Cz8fBP9nq3TDSw9nyyDohs', 'K4weoEfgX3kSNzn3gxGtaY', 'changeGraph', 'eyJpZCI6IDU1MCwgInR5cGUiOiAidmVydGV4IiwgInByb3BzIjogeyJzaXplIjogMTMuMzM4MTA4ODgyNTIxNDg5fX0K');</script>\n",
       "    "
      ],
      "text/plain": [
       "<IPython.core.display.HTML object>"
      ]
     },
     "metadata": {},
     "output_type": "display_data"
    },
    {
     "data": {
      "text/html": [
       "\n",
       "        <div id=\"TYtMGcyKq4atkbQAJeJhag\"></div>\n",
       "        <script>netpixi.call('TYtMGcyKq4atkbQAJeJhag', 'K4weoEfgX3kSNzn3gxGtaY', 'changeGraph', 'eyJpZCI6IDU1MSwgInR5cGUiOiAidmVydGV4IiwgInByb3BzIjogeyJzaXplIjogMTIuNzM2Mzg5Njg0ODEzNzUzfX0K');</script>\n",
       "    "
      ],
      "text/plain": [
       "<IPython.core.display.HTML object>"
      ]
     },
     "metadata": {},
     "output_type": "display_data"
    },
    {
     "data": {
      "text/html": [
       "\n",
       "        <div id=\"2ebRYuFZ6jKwiqo6Fzwm2E\"></div>\n",
       "        <script>netpixi.call('2ebRYuFZ6jKwiqo6Fzwm2E', 'K4weoEfgX3kSNzn3gxGtaY', 'changeGraph', 'eyJpZCI6IDU1MiwgInR5cGUiOiAidmVydGV4IiwgInByb3BzIjogeyJzaXplIjogMTAuNDg3MTA2MDE3MTkxOTc3fX0K');</script>\n",
       "    "
      ],
      "text/plain": [
       "<IPython.core.display.HTML object>"
      ]
     },
     "metadata": {},
     "output_type": "display_data"
    },
    {
     "data": {
      "text/html": [
       "\n",
       "        <div id=\"EvXUAKtA62AmYzeyRdhvSh\"></div>\n",
       "        <script>netpixi.call('EvXUAKtA62AmYzeyRdhvSh', 'K4weoEfgX3kSNzn3gxGtaY', 'changeGraph', 'eyJpZCI6IDU1MywgInR5cGUiOiAidmVydGV4IiwgInByb3BzIjogeyJzaXplIjogMTEuMzAzNzI0OTI4MzY2NzYyfX0K');</script>\n",
       "    "
      ],
      "text/plain": [
       "<IPython.core.display.HTML object>"
      ]
     },
     "metadata": {},
     "output_type": "display_data"
    },
    {
     "data": {
      "text/html": [
       "\n",
       "        <div id=\"FLKApuMQQzVqfrtiX9nJ3W\"></div>\n",
       "        <script>netpixi.call('FLKApuMQQzVqfrtiX9nJ3W', 'K4weoEfgX3kSNzn3gxGtaY', 'changeGraph', 'eyJpZCI6IDU1NCwgInR5cGUiOiAidmVydGV4IiwgInByb3BzIjogeyJzaXplIjogMTguMDM3MjQ5MjgzNjY3NjJ9fQo=');</script>\n",
       "    "
      ],
      "text/plain": [
       "<IPython.core.display.HTML object>"
      ]
     },
     "metadata": {},
     "output_type": "display_data"
    },
    {
     "data": {
      "text/html": [
       "\n",
       "        <div id=\"V33LMFKXWpHRyrJ26gWkwJ\"></div>\n",
       "        <script>netpixi.call('V33LMFKXWpHRyrJ26gWkwJ', 'K4weoEfgX3kSNzn3gxGtaY', 'changeGraph', 'eyJpZCI6IDU1NSwgInR5cGUiOiAidmVydGV4IiwgInByb3BzIjogeyJzaXplIjogMTYuNDg5OTcxMzQ2NzA0ODd9fQo=');</script>\n",
       "    "
      ],
      "text/plain": [
       "<IPython.core.display.HTML object>"
      ]
     },
     "metadata": {},
     "output_type": "display_data"
    },
    {
     "data": {
      "text/html": [
       "\n",
       "        <div id=\"5Uo4KPmJys37pb4fxuanP8\"></div>\n",
       "        <script>netpixi.call('5Uo4KPmJys37pb4fxuanP8', 'K4weoEfgX3kSNzn3gxGtaY', 'changeGraph', 'eyJpZCI6IDU1NiwgInR5cGUiOiAidmVydGV4IiwgInByb3BzIjogeyJzaXplIjogMTUuNzU5MzEyMzIwOTE2OTA1fX0K');</script>\n",
       "    "
      ],
      "text/plain": [
       "<IPython.core.display.HTML object>"
      ]
     },
     "metadata": {},
     "output_type": "display_data"
    },
    {
     "data": {
      "text/html": [
       "\n",
       "        <div id=\"ngfidAJ3rDSiGxhKvycGnA\"></div>\n",
       "        <script>netpixi.call('ngfidAJ3rDSiGxhKvycGnA', 'K4weoEfgX3kSNzn3gxGtaY', 'changeGraph', 'eyJpZCI6IDU1NywgInR5cGUiOiAidmVydGV4IiwgInByb3BzIjogeyJzaXplIjogNDguODU3MTQyODU3MTQyODU0fX0K');</script>\n",
       "    "
      ],
      "text/plain": [
       "<IPython.core.display.HTML object>"
      ]
     },
     "metadata": {},
     "output_type": "display_data"
    },
    {
     "data": {
      "text/html": [
       "\n",
       "        <div id=\"o3PPbxKtv3Mn3rs7Bg9Gku\"></div>\n",
       "        <script>netpixi.call('o3PPbxKtv3Mn3rs7Bg9Gku', 'K4weoEfgX3kSNzn3gxGtaY', 'changeGraph', 'eyJpZCI6IDU1OCwgInR5cGUiOiAidmVydGV4IiwgInByb3BzIjogeyJzaXplIjogMTMuNzgyMjM0OTU3MDIwMDU3fX0K');</script>\n",
       "    "
      ],
      "text/plain": [
       "<IPython.core.display.HTML object>"
      ]
     },
     "metadata": {},
     "output_type": "display_data"
    },
    {
     "data": {
      "text/html": [
       "\n",
       "        <div id=\"dpL6iRsLPqAFHGDgLXhdeK\"></div>\n",
       "        <script>netpixi.call('dpL6iRsLPqAFHGDgLXhdeK', 'K4weoEfgX3kSNzn3gxGtaY', 'changeGraph', 'eyJpZCI6IDU1OSwgInR5cGUiOiAidmVydGV4IiwgInByb3BzIjogeyJzaXplIjogNDYuNzQyODU3MTQyODU3MTV9fQo=');</script>\n",
       "    "
      ],
      "text/plain": [
       "<IPython.core.display.HTML object>"
      ]
     },
     "metadata": {},
     "output_type": "display_data"
    },
    {
     "data": {
      "text/html": [
       "\n",
       "        <div id=\"8oMzYzyvthdTTNAocHqeR4\"></div>\n",
       "        <script>netpixi.call('8oMzYzyvthdTTNAocHqeR4', 'K4weoEfgX3kSNzn3gxGtaY', 'changeGraph', 'eyJpZCI6IDU2MCwgInR5cGUiOiAidmVydGV4IiwgInByb3BzIjogeyJzaXplIjogMTcuMjIwNjMwMzcyNDkyODM1fX0K');</script>\n",
       "    "
      ],
      "text/plain": [
       "<IPython.core.display.HTML object>"
      ]
     },
     "metadata": {},
     "output_type": "display_data"
    },
    {
     "data": {
      "text/html": [
       "\n",
       "        <div id=\"hqdK8n59ensHpK7MWiDyQ3\"></div>\n",
       "        <script>netpixi.call('hqdK8n59ensHpK7MWiDyQ3', 'K4weoEfgX3kSNzn3gxGtaY', 'changeGraph', 'eyJpZCI6IDU2MSwgInR5cGUiOiAidmVydGV4IiwgInByb3BzIjogeyJzaXplIjogMTYuNTYxNjA0NTg0NTI3MjJ9fQo=');</script>\n",
       "    "
      ],
      "text/plain": [
       "<IPython.core.display.HTML object>"
      ]
     },
     "metadata": {},
     "output_type": "display_data"
    },
    {
     "data": {
      "text/html": [
       "\n",
       "        <div id=\"7Hg2AkgyQtT8xKNCUkngWH\"></div>\n",
       "        <script>netpixi.call('7Hg2AkgyQtT8xKNCUkngWH', 'K4weoEfgX3kSNzn3gxGtaY', 'changeGraph', 'eyJpZCI6IDU2MiwgInR5cGUiOiAidmVydGV4IiwgInByb3BzIjogeyJzaXplIjogMTQuMTY5MDU0NDQxMjYwNzQ0fX0K');</script>\n",
       "    "
      ],
      "text/plain": [
       "<IPython.core.display.HTML object>"
      ]
     },
     "metadata": {},
     "output_type": "display_data"
    },
    {
     "data": {
      "text/html": [
       "\n",
       "        <div id=\"aVsfcgzE5ZNcnPs9a7kD4y\"></div>\n",
       "        <script>netpixi.call('aVsfcgzE5ZNcnPs9a7kD4y', 'K4weoEfgX3kSNzn3gxGtaY', 'changeGraph', 'eyJpZCI6IDU2MywgInR5cGUiOiAidmVydGV4IiwgInByb3BzIjogeyJzaXplIjogMTQuNzk5NDI2OTM0MDk3NDIyfX0K');</script>\n",
       "    "
      ],
      "text/plain": [
       "<IPython.core.display.HTML object>"
      ]
     },
     "metadata": {},
     "output_type": "display_data"
    },
    {
     "data": {
      "text/html": [
       "\n",
       "        <div id=\"RcTTmVYoVnBCtqXbTTQcsr\"></div>\n",
       "        <script>netpixi.call('RcTTmVYoVnBCtqXbTTQcsr', 'K4weoEfgX3kSNzn3gxGtaY', 'changeGraph', 'eyJpZCI6IDU2NCwgInR5cGUiOiAidmVydGV4IiwgInByb3BzIjogeyJzaXplIjogMTkuOTQyNjkzNDA5NzQyMTJ9fQo=');</script>\n",
       "    "
      ],
      "text/plain": [
       "<IPython.core.display.HTML object>"
      ]
     },
     "metadata": {},
     "output_type": "display_data"
    },
    {
     "data": {
      "text/html": [
       "\n",
       "        <div id=\"dvCiWmL3jkHKLLgGeuoXMP\"></div>\n",
       "        <script>netpixi.call('dvCiWmL3jkHKLLgGeuoXMP', 'K4weoEfgX3kSNzn3gxGtaY', 'changeGraph', 'eyJpZCI6IDU2NSwgInR5cGUiOiAidmVydGV4IiwgInByb3BzIjogeyJzaXplIjogNDIuNDU3MTQyODU3MTQyODU2fX0K');</script>\n",
       "    "
      ],
      "text/plain": [
       "<IPython.core.display.HTML object>"
      ]
     },
     "metadata": {},
     "output_type": "display_data"
    },
    {
     "data": {
      "text/html": [
       "\n",
       "        <div id=\"c9FBCeuj8MW6p6kmSWDWY7\"></div>\n",
       "        <script>netpixi.call('c9FBCeuj8MW6p6kmSWDWY7', 'K4weoEfgX3kSNzn3gxGtaY', 'changeGraph', 'eyJpZCI6IDU2NiwgInR5cGUiOiAidmVydGV4IiwgInByb3BzIjogeyJzaXplIjogNDIuNjI4NTcxNDI4NTcxNDI2fX0K');</script>\n",
       "    "
      ],
      "text/plain": [
       "<IPython.core.display.HTML object>"
      ]
     },
     "metadata": {},
     "output_type": "display_data"
    },
    {
     "data": {
      "text/html": [
       "\n",
       "        <div id=\"KkLfEKLprs6YkgUJNgDLSp\"></div>\n",
       "        <script>netpixi.call('KkLfEKLprs6YkgUJNgDLSp', 'K4weoEfgX3kSNzn3gxGtaY', 'changeGraph', 'eyJpZCI6IDU2NywgInR5cGUiOiAidmVydGV4IiwgInByb3BzIjogeyJzaXplIjogMTguNjEwMzE1MTg2MjQ2NDE3fX0K');</script>\n",
       "    "
      ],
      "text/plain": [
       "<IPython.core.display.HTML object>"
      ]
     },
     "metadata": {},
     "output_type": "display_data"
    },
    {
     "data": {
      "text/html": [
       "\n",
       "        <div id=\"7SjQQtXX3ny5yYTEX5jfJa\"></div>\n",
       "        <script>netpixi.call('7SjQQtXX3ny5yYTEX5jfJa', 'K4weoEfgX3kSNzn3gxGtaY', 'changeGraph', 'eyJpZCI6IDU2OCwgInR5cGUiOiAidmVydGV4IiwgInByb3BzIjogeyJzaXplIjogMTcuMjM0OTU3MDIwMDU3MzF9fQo=');</script>\n",
       "    "
      ],
      "text/plain": [
       "<IPython.core.display.HTML object>"
      ]
     },
     "metadata": {},
     "output_type": "display_data"
    },
    {
     "data": {
      "text/html": [
       "\n",
       "        <div id=\"aanFoYDT4cfj6qTh6ne6XM\"></div>\n",
       "        <script>netpixi.call('aanFoYDT4cfj6qTh6ne6XM', 'K4weoEfgX3kSNzn3gxGtaY', 'changeGraph', 'eyJpZCI6IDU2OSwgInR5cGUiOiAidmVydGV4IiwgInByb3BzIjogeyJzaXplIjogMjAuMH19Cg==');</script>\n",
       "    "
      ],
      "text/plain": [
       "<IPython.core.display.HTML object>"
      ]
     },
     "metadata": {},
     "output_type": "display_data"
    },
    {
     "data": {
      "text/html": [
       "\n",
       "        <div id=\"82s3QF4uAKspw9zgMYLFEN\"></div>\n",
       "        <script>netpixi.call('82s3QF4uAKspw9zgMYLFEN', 'K4weoEfgX3kSNzn3gxGtaY', 'changeGraph', 'eyJpZCI6IDU3MCwgInR5cGUiOiAidmVydGV4IiwgInByb3BzIjogeyJzaXplIjogMTYuNTQ3Mjc3OTM2OTYyNzV9fQo=');</script>\n",
       "    "
      ],
      "text/plain": [
       "<IPython.core.display.HTML object>"
      ]
     },
     "metadata": {},
     "output_type": "display_data"
    },
    {
     "data": {
      "text/html": [
       "\n",
       "        <div id=\"4Rwif6DY5NbRd6VZrZ8vQW\"></div>\n",
       "        <script>netpixi.call('4Rwif6DY5NbRd6VZrZ8vQW', 'K4weoEfgX3kSNzn3gxGtaY', 'changeGraph', 'eyJpZCI6IDU3MSwgInR5cGUiOiAidmVydGV4IiwgInByb3BzIjogeyJzaXplIjogMTQuNzU2NDQ2OTkxNDA0MDEyfX0K');</script>\n",
       "    "
      ],
      "text/plain": [
       "<IPython.core.display.HTML object>"
      ]
     },
     "metadata": {},
     "output_type": "display_data"
    },
    {
     "data": {
      "text/html": [
       "\n",
       "        <div id=\"JPMHsgYaC4X4VtzxubQteC\"></div>\n",
       "        <script>netpixi.call('JPMHsgYaC4X4VtzxubQteC', 'K4weoEfgX3kSNzn3gxGtaY', 'changeGraph', 'eyJpZCI6IDU3MiwgInR5cGUiOiAidmVydGV4IiwgInByb3BzIjogeyJzaXplIjogMTcuMjc3OTM2OTYyNzUwNzE1fX0K');</script>\n",
       "    "
      ],
      "text/plain": [
       "<IPython.core.display.HTML object>"
      ]
     },
     "metadata": {},
     "output_type": "display_data"
    },
    {
     "data": {
      "text/html": [
       "\n",
       "        <div id=\"9NYohU392tZS8EZURHGRoR\"></div>\n",
       "        <script>netpixi.call('9NYohU392tZS8EZURHGRoR', 'K4weoEfgX3kSNzn3gxGtaY', 'changeGraph', 'eyJpZCI6IDU3MywgInR5cGUiOiAidmVydGV4IiwgInByb3BzIjogeyJzaXplIjogMTguNjM4OTY4NDgxMzc1MzU4fX0K');</script>\n",
       "    "
      ],
      "text/plain": [
       "<IPython.core.display.HTML object>"
      ]
     },
     "metadata": {},
     "output_type": "display_data"
    },
    {
     "data": {
      "text/html": [
       "\n",
       "        <div id=\"5qio3crUMPSFYv6r5hL633\"></div>\n",
       "        <script>netpixi.call('5qio3crUMPSFYv6r5hL633', 'K4weoEfgX3kSNzn3gxGtaY', 'changeGraph', 'eyJpZCI6IDU3NCwgInR5cGUiOiAidmVydGV4IiwgInByb3BzIjogeyJzaXplIjogMTcuOTM2OTYyNzUwNzE2MzMzfX0K');</script>\n",
       "    "
      ],
      "text/plain": [
       "<IPython.core.display.HTML object>"
      ]
     },
     "metadata": {},
     "output_type": "display_data"
    },
    {
     "data": {
      "text/html": [
       "\n",
       "        <div id=\"hJacF4XYYYJ5TBauTBEHdR\"></div>\n",
       "        <script>netpixi.call('hJacF4XYYYJ5TBauTBEHdR', 'K4weoEfgX3kSNzn3gxGtaY', 'changeGraph', 'eyJpZCI6IDU3NSwgInR5cGUiOiAidmVydGV4IiwgInByb3BzIjogeyJzaXplIjogMTkuOTcxMzQ2NzA0ODcxMDZ9fQo=');</script>\n",
       "    "
      ],
      "text/plain": [
       "<IPython.core.display.HTML object>"
      ]
     },
     "metadata": {},
     "output_type": "display_data"
    },
    {
     "data": {
      "text/html": [
       "\n",
       "        <div id=\"fYGhELr6XBDFtgKMqPAxfd\"></div>\n",
       "        <script>netpixi.call('fYGhELr6XBDFtgKMqPAxfd', 'K4weoEfgX3kSNzn3gxGtaY', 'changeGraph', 'eyJpZCI6IDU3NiwgInR5cGUiOiAidmVydGV4IiwgInByb3BzIjogeyJzaXplIjogMTIuOTUxMjg5Mzk4MjgwODAzfX0K');</script>\n",
       "    "
      ],
      "text/plain": [
       "<IPython.core.display.HTML object>"
      ]
     },
     "metadata": {},
     "output_type": "display_data"
    },
    {
     "data": {
      "text/html": [
       "\n",
       "        <div id=\"J3RVXRR7iGp9hN45gfBWDV\"></div>\n",
       "        <script>netpixi.call('J3RVXRR7iGp9hN45gfBWDV', 'K4weoEfgX3kSNzn3gxGtaY', 'changeGraph', 'eyJpZCI6IDU3NywgInR5cGUiOiAidmVydGV4IiwgInByb3BzIjogeyJzaXplIjogMTYuNjkwNTQ0NDEyNjA3NDV9fQo=');</script>\n",
       "    "
      ],
      "text/plain": [
       "<IPython.core.display.HTML object>"
      ]
     },
     "metadata": {},
     "output_type": "display_data"
    },
    {
     "data": {
      "text/html": [
       "\n",
       "        <div id=\"neU7MGeLZARtCvHnWbKfUi\"></div>\n",
       "        <script>netpixi.call('neU7MGeLZARtCvHnWbKfUi', 'K4weoEfgX3kSNzn3gxGtaY', 'changeGraph', 'eyJpZCI6IDU3OCwgInR5cGUiOiAidmVydGV4IiwgInByb3BzIjogeyJzaXplIjogMTIuOTc5OTQyNjkzNDA5NzQzfX0K');</script>\n",
       "    "
      ],
      "text/plain": [
       "<IPython.core.display.HTML object>"
      ]
     },
     "metadata": {},
     "output_type": "display_data"
    },
    {
     "data": {
      "text/html": [
       "\n",
       "        <div id=\"bkWAxZfREd6Vy8TmuUL8Sp\"></div>\n",
       "        <script>netpixi.call('bkWAxZfREd6Vy8TmuUL8Sp', 'K4weoEfgX3kSNzn3gxGtaY', 'changeGraph', 'eyJpZCI6IDU3OSwgInR5cGUiOiAidmVydGV4IiwgInByb3BzIjogeyJzaXplIjogMTMuODk2ODQ4MTM3NTM1ODE2fX0K');</script>\n",
       "    "
      ],
      "text/plain": [
       "<IPython.core.display.HTML object>"
      ]
     },
     "metadata": {},
     "output_type": "display_data"
    },
    {
     "data": {
      "text/html": [
       "\n",
       "        <div id=\"MhpGSvro6cj2mHzG5MULm9\"></div>\n",
       "        <script>netpixi.call('MhpGSvro6cj2mHzG5MULm9', 'K4weoEfgX3kSNzn3gxGtaY', 'changeGraph', 'eyJpZCI6IDU4MCwgInR5cGUiOiAidmVydGV4IiwgInByb3BzIjogeyJzaXplIjogMTIuMzM1MjQzNTUzMDA4NTk2fX0K');</script>\n",
       "    "
      ],
      "text/plain": [
       "<IPython.core.display.HTML object>"
      ]
     },
     "metadata": {},
     "output_type": "display_data"
    },
    {
     "data": {
      "text/html": [
       "\n",
       "        <div id=\"niuqRPrneEujadxwgdsp9r\"></div>\n",
       "        <script>netpixi.call('niuqRPrneEujadxwgdsp9r', 'K4weoEfgX3kSNzn3gxGtaY', 'changeGraph', 'eyJpZCI6IDU4MSwgInR5cGUiOiAidmVydGV4IiwgInByb3BzIjogeyJzaXplIjogMTUuODAyMjkyMjYzNjEwMzE1fX0K');</script>\n",
       "    "
      ],
      "text/plain": [
       "<IPython.core.display.HTML object>"
      ]
     },
     "metadata": {},
     "output_type": "display_data"
    },
    {
     "data": {
      "text/html": [
       "\n",
       "        <div id=\"U7gwBtombjxpNiPkChSF9k\"></div>\n",
       "        <script>netpixi.call('U7gwBtombjxpNiPkChSF9k', 'K4weoEfgX3kSNzn3gxGtaY', 'changeGraph', 'eyJpZCI6IDU4MiwgInR5cGUiOiAidmVydGV4IiwgInByb3BzIjogeyJzaXplIjogMTIuNDY0MTgzMzgxMDg4ODI1fX0K');</script>\n",
       "    "
      ],
      "text/plain": [
       "<IPython.core.display.HTML object>"
      ]
     },
     "metadata": {},
     "output_type": "display_data"
    },
    {
     "data": {
      "text/html": [
       "\n",
       "        <div id=\"gELkHMw9iwD4GuddP2wXK2\"></div>\n",
       "        <script>netpixi.call('gELkHMw9iwD4GuddP2wXK2', 'K4weoEfgX3kSNzn3gxGtaY', 'changeGraph', 'eyJpZCI6IDU4MywgInR5cGUiOiAidmVydGV4IiwgInByb3BzIjogeyJzaXplIjogMTIuNzc5MzY5NjI3NTA3MTY0fX0K');</script>\n",
       "    "
      ],
      "text/plain": [
       "<IPython.core.display.HTML object>"
      ]
     },
     "metadata": {},
     "output_type": "display_data"
    },
    {
     "data": {
      "text/html": [
       "\n",
       "        <div id=\"Di8wf9Er9LF3rmLD6VKPZM\"></div>\n",
       "        <script>netpixi.call('Di8wf9Er9LF3rmLD6VKPZM', 'K4weoEfgX3kSNzn3gxGtaY', 'changeGraph', 'eyJpZCI6IDU4NCwgInR5cGUiOiAidmVydGV4IiwgInByb3BzIjogeyJzaXplIjogMTMuODgyNTIxNDg5OTcxMzQ2fX0K');</script>\n",
       "    "
      ],
      "text/plain": [
       "<IPython.core.display.HTML object>"
      ]
     },
     "metadata": {},
     "output_type": "display_data"
    },
    {
     "data": {
      "text/html": [
       "\n",
       "        <div id=\"2Qc9y2eToLuqzDST6Skzmz\"></div>\n",
       "        <script>netpixi.call('2Qc9y2eToLuqzDST6Skzmz', 'K4weoEfgX3kSNzn3gxGtaY', 'changeGraph', 'eyJpZCI6IDU4NSwgInR5cGUiOiAidmVydGV4IiwgInByb3BzIjogeyJzaXplIjogMTMuODM5NTQxNTQ3Mjc3OTM3fX0K');</script>\n",
       "    "
      ],
      "text/plain": [
       "<IPython.core.display.HTML object>"
      ]
     },
     "metadata": {},
     "output_type": "display_data"
    },
    {
     "data": {
      "text/html": [
       "\n",
       "        <div id=\"czKyLQj2HN7g7Yrnbag9ib\"></div>\n",
       "        <script>netpixi.call('czKyLQj2HN7g7Yrnbag9ib', 'K4weoEfgX3kSNzn3gxGtaY', 'changeGraph', 'eyJpZCI6IDU4NiwgInR5cGUiOiAidmVydGV4IiwgInByb3BzIjogeyJzaXplIjogMTguOTExMTc0Nzg1MTAwMjg2fX0K');</script>\n",
       "    "
      ],
      "text/plain": [
       "<IPython.core.display.HTML object>"
      ]
     },
     "metadata": {},
     "output_type": "display_data"
    },
    {
     "data": {
      "text/html": [
       "\n",
       "        <div id=\"nANhw8XNgg75oF2Mfk93KT\"></div>\n",
       "        <script>netpixi.call('nANhw8XNgg75oF2Mfk93KT', 'K4weoEfgX3kSNzn3gxGtaY', 'changeGraph', 'eyJpZCI6IDU4NywgInR5cGUiOiAidmVydGV4IiwgInByb3BzIjogeyJzaXplIjogMTMuNjY3NjIxNzc2NTA0Mjk4fX0K');</script>\n",
       "    "
      ],
      "text/plain": [
       "<IPython.core.display.HTML object>"
      ]
     },
     "metadata": {},
     "output_type": "display_data"
    },
    {
     "data": {
      "text/html": [
       "\n",
       "        <div id=\"hUEwHnTFMaAs8N9UUJs9sm\"></div>\n",
       "        <script>netpixi.call('hUEwHnTFMaAs8N9UUJs9sm', 'K4weoEfgX3kSNzn3gxGtaY', 'changeGraph', 'eyJpZCI6IDU4OCwgInR5cGUiOiAidmVydGV4IiwgInByb3BzIjogeyJzaXplIjogMTEuNDg5OTcxMzQ2NzA0ODcyfX0K');</script>\n",
       "    "
      ],
      "text/plain": [
       "<IPython.core.display.HTML object>"
      ]
     },
     "metadata": {},
     "output_type": "display_data"
    },
    {
     "data": {
      "text/html": [
       "\n",
       "        <div id=\"MXMK4Em5W2FXz9QYnyQisx\"></div>\n",
       "        <script>netpixi.call('MXMK4Em5W2FXz9QYnyQisx', 'K4weoEfgX3kSNzn3gxGtaY', 'changeGraph', 'eyJpZCI6IDU4OSwgInR5cGUiOiAidmVydGV4IiwgInByb3BzIjogeyJzaXplIjogMTcuMDc3MzYzODk2ODQ4MTM3fX0K');</script>\n",
       "    "
      ],
      "text/plain": [
       "<IPython.core.display.HTML object>"
      ]
     },
     "metadata": {},
     "output_type": "display_data"
    },
    {
     "data": {
      "text/html": [
       "\n",
       "        <div id=\"GxarP6UxjPMkHMbPvsdukv\"></div>\n",
       "        <script>netpixi.call('GxarP6UxjPMkHMbPvsdukv', 'K4weoEfgX3kSNzn3gxGtaY', 'changeGraph', 'eyJpZCI6IDU5MCwgInR5cGUiOiAidmVydGV4IiwgInByb3BzIjogeyJzaXplIjogMTQuMjk3OTk0MjY5MzQwOTc0fX0K');</script>\n",
       "    "
      ],
      "text/plain": [
       "<IPython.core.display.HTML object>"
      ]
     },
     "metadata": {},
     "output_type": "display_data"
    },
    {
     "data": {
      "text/html": [
       "\n",
       "        <div id=\"cWJPhYrXoR3bQPncJYAwHV\"></div>\n",
       "        <script>netpixi.call('cWJPhYrXoR3bQPncJYAwHV', 'K4weoEfgX3kSNzn3gxGtaY', 'changeGraph', 'eyJpZCI6IDU5MSwgInR5cGUiOiAidmVydGV4IiwgInByb3BzIjogeyJzaXplIjogMTkuNjg0ODEzNzUzNTgxNjZ9fQo=');</script>\n",
       "    "
      ],
      "text/plain": [
       "<IPython.core.display.HTML object>"
      ]
     },
     "metadata": {},
     "output_type": "display_data"
    },
    {
     "data": {
      "text/html": [
       "\n",
       "        <div id=\"MsERpyfD4avcQNLmkkT6N2\"></div>\n",
       "        <script>netpixi.call('MsERpyfD4avcQNLmkkT6N2', 'K4weoEfgX3kSNzn3gxGtaY', 'changeGraph', 'eyJpZCI6IDU5MiwgInR5cGUiOiAidmVydGV4IiwgInByb3BzIjogeyJzaXplIjogMTQuMTI2MDc0NDk4NTY3MzM0fX0K');</script>\n",
       "    "
      ],
      "text/plain": [
       "<IPython.core.display.HTML object>"
      ]
     },
     "metadata": {},
     "output_type": "display_data"
    },
    {
     "data": {
      "text/html": [
       "\n",
       "        <div id=\"2nfBwNFPWSYdyMZAnZFMMX\"></div>\n",
       "        <script>netpixi.call('2nfBwNFPWSYdyMZAnZFMMX', 'K4weoEfgX3kSNzn3gxGtaY', 'changeGraph', 'eyJpZCI6IDU5MywgInR5cGUiOiAidmVydGV4IiwgInByb3BzIjogeyJzaXplIjogMTcuODA4MDIyOTIyNjM2MTAyfX0K');</script>\n",
       "    "
      ],
      "text/plain": [
       "<IPython.core.display.HTML object>"
      ]
     },
     "metadata": {},
     "output_type": "display_data"
    },
    {
     "data": {
      "text/html": [
       "\n",
       "        <div id=\"eDREo7hpepBvvXCHyHLq7i\"></div>\n",
       "        <script>netpixi.call('eDREo7hpepBvvXCHyHLq7i', 'K4weoEfgX3kSNzn3gxGtaY', 'changeGraph', 'eyJpZCI6IDU5NCwgInR5cGUiOiAidmVydGV4IiwgInByb3BzIjogeyJzaXplIjogMTguODEwODg4MjUyMTQ5fX0K');</script>\n",
       "    "
      ],
      "text/plain": [
       "<IPython.core.display.HTML object>"
      ]
     },
     "metadata": {},
     "output_type": "display_data"
    },
    {
     "data": {
      "text/html": [
       "\n",
       "        <div id=\"J5hfzk2V3EXy8v5DTDDmCK\"></div>\n",
       "        <script>netpixi.call('J5hfzk2V3EXy8v5DTDDmCK', 'K4weoEfgX3kSNzn3gxGtaY', 'changeGraph', 'eyJpZCI6IDU5NSwgInR5cGUiOiAidmVydGV4IiwgInByb3BzIjogeyJzaXplIjogMTYuNTkwMjU3ODc5NjU2MTZ9fQo=');</script>\n",
       "    "
      ],
      "text/plain": [
       "<IPython.core.display.HTML object>"
      ]
     },
     "metadata": {},
     "output_type": "display_data"
    },
    {
     "data": {
      "text/html": [
       "\n",
       "        <div id=\"JLceCEcXnwWYeFdFxi6iEv\"></div>\n",
       "        <script>netpixi.call('JLceCEcXnwWYeFdFxi6iEv', 'K4weoEfgX3kSNzn3gxGtaY', 'changeGraph', 'eyJpZCI6IDU5NiwgInR5cGUiOiAidmVydGV4IiwgInByb3BzIjogeyJzaXplIjogMTIuMzQ5NTcwMjAwNTczMDY2fX0K');</script>\n",
       "    "
      ],
      "text/plain": [
       "<IPython.core.display.HTML object>"
      ]
     },
     "metadata": {},
     "output_type": "display_data"
    },
    {
     "data": {
      "text/html": [
       "\n",
       "        <div id=\"8txwHP8vfpcmjX359SY8S5\"></div>\n",
       "        <script>netpixi.call('8txwHP8vfpcmjX359SY8S5', 'K4weoEfgX3kSNzn3gxGtaY', 'changeGraph', 'eyJpZCI6IDU5NywgInR5cGUiOiAidmVydGV4IiwgInByb3BzIjogeyJzaXplIjogMTQuNjU2MTYwNDU4NDUyNzIxfX0K');</script>\n",
       "    "
      ],
      "text/plain": [
       "<IPython.core.display.HTML object>"
      ]
     },
     "metadata": {},
     "output_type": "display_data"
    },
    {
     "data": {
      "text/html": [
       "\n",
       "        <div id=\"3dWVSZHxizuojvWpFhFMf9\"></div>\n",
       "        <script>netpixi.call('3dWVSZHxizuojvWpFhFMf9', 'K4weoEfgX3kSNzn3gxGtaY', 'changeGraph', 'eyJpZCI6IDU5OCwgInR5cGUiOiAidmVydGV4IiwgInByb3BzIjogeyJzaXplIjogMTQuMjU1MDE0MzI2NjQ3NTY1fX0K');</script>\n",
       "    "
      ],
      "text/plain": [
       "<IPython.core.display.HTML object>"
      ]
     },
     "metadata": {},
     "output_type": "display_data"
    },
    {
     "data": {
      "text/html": [
       "\n",
       "        <div id=\"AB44GqjTWDF6JxnPVSLvLT\"></div>\n",
       "        <script>netpixi.call('AB44GqjTWDF6JxnPVSLvLT', 'K4weoEfgX3kSNzn3gxGtaY', 'changeGraph', 'eyJpZCI6IDU5OSwgInR5cGUiOiAidmVydGV4IiwgInByb3BzIjogeyJzaXplIjogMTUuNTQ0NDEyNjA3NDQ5ODU3fX0K');</script>\n",
       "    "
      ],
      "text/plain": [
       "<IPython.core.display.HTML object>"
      ]
     },
     "metadata": {},
     "output_type": "display_data"
    },
    {
     "data": {
      "text/html": [
       "\n",
       "        <div id=\"Z65ewqkr7F8ichGEvbx9R6\"></div>\n",
       "        <script>netpixi.call('Z65ewqkr7F8ichGEvbx9R6', 'K4weoEfgX3kSNzn3gxGtaY', 'changeGraph', 'eyJpZCI6IDYwMCwgInR5cGUiOiAidmVydGV4IiwgInByb3BzIjogeyJzaXplIjogMTYuMDMxNTE4NjI0NjQxODM0fX0K');</script>\n",
       "    "
      ],
      "text/plain": [
       "<IPython.core.display.HTML object>"
      ]
     },
     "metadata": {},
     "output_type": "display_data"
    },
    {
     "data": {
      "text/html": [
       "\n",
       "        <div id=\"BLD6S4WiJq5E6wqDSFuZfz\"></div>\n",
       "        <script>netpixi.call('BLD6S4WiJq5E6wqDSFuZfz', 'K4weoEfgX3kSNzn3gxGtaY', 'changeGraph', 'eyJpZCI6IDYwMSwgInR5cGUiOiAidmVydGV4IiwgInByb3BzIjogeyJzaXplIjogMTYuMTg5MTExNzQ3ODUxfX0K');</script>\n",
       "    "
      ],
      "text/plain": [
       "<IPython.core.display.HTML object>"
      ]
     },
     "metadata": {},
     "output_type": "display_data"
    },
    {
     "data": {
      "text/html": [
       "\n",
       "        <div id=\"kEc6LUdXcigFQom77tPPEP\"></div>\n",
       "        <script>netpixi.call('kEc6LUdXcigFQom77tPPEP', 'K4weoEfgX3kSNzn3gxGtaY', 'changeGraph', 'eyJpZCI6IDYwMiwgInR5cGUiOiAidmVydGV4IiwgInByb3BzIjogeyJzaXplIjogMTcuOTc5OTQyNjkzNDA5NzR9fQo=');</script>\n",
       "    "
      ],
      "text/plain": [
       "<IPython.core.display.HTML object>"
      ]
     },
     "metadata": {},
     "output_type": "display_data"
    },
    {
     "data": {
      "text/html": [
       "\n",
       "        <div id=\"PfDByFDK6kwUEVUHFpfz9q\"></div>\n",
       "        <script>netpixi.call('PfDByFDK6kwUEVUHFpfz9q', 'K4weoEfgX3kSNzn3gxGtaY', 'changeGraph', 'eyJpZCI6IDYwMywgInR5cGUiOiAidmVydGV4IiwgInByb3BzIjogeyJzaXplIjogMTYuMTQ2MTMxODA1MTU3NTk0fX0K');</script>\n",
       "    "
      ],
      "text/plain": [
       "<IPython.core.display.HTML object>"
      ]
     },
     "metadata": {},
     "output_type": "display_data"
    },
    {
     "data": {
      "text/html": [
       "\n",
       "        <div id=\"bYyR4wzDFZh5dGGCxrKji3\"></div>\n",
       "        <script>netpixi.call('bYyR4wzDFZh5dGGCxrKji3', 'K4weoEfgX3kSNzn3gxGtaY', 'changeGraph', 'eyJpZCI6IDYwNCwgInR5cGUiOiAidmVydGV4IiwgInByb3BzIjogeyJzaXplIjogMTguNzk2NTYxNjA0NTg0NTI1fX0K');</script>\n",
       "    "
      ],
      "text/plain": [
       "<IPython.core.display.HTML object>"
      ]
     },
     "metadata": {},
     "output_type": "display_data"
    },
    {
     "data": {
      "text/html": [
       "\n",
       "        <div id=\"7z8iYvVEhKKA5DLr2xyiJh\"></div>\n",
       "        <script>netpixi.call('7z8iYvVEhKKA5DLr2xyiJh', 'K4weoEfgX3kSNzn3gxGtaY', 'changeGraph', 'eyJpZCI6IDYwNSwgInR5cGUiOiAidmVydGV4IiwgInByb3BzIjogeyJzaXplIjogMTYuODQ4MTM3NTM1ODE2NjJ9fQo=');</script>\n",
       "    "
      ],
      "text/plain": [
       "<IPython.core.display.HTML object>"
      ]
     },
     "metadata": {},
     "output_type": "display_data"
    },
    {
     "data": {
      "text/html": [
       "\n",
       "        <div id=\"EaGc2vp3Fv5t7j58TaUTGw\"></div>\n",
       "        <script>netpixi.call('EaGc2vp3Fv5t7j58TaUTGw', 'K4weoEfgX3kSNzn3gxGtaY', 'changeGraph', 'eyJpZCI6IDYwNiwgInR5cGUiOiAidmVydGV4IiwgInByb3BzIjogeyJzaXplIjogMTcuMzc4MjIzNDk1NzAyMDA2fX0K');</script>\n",
       "    "
      ],
      "text/plain": [
       "<IPython.core.display.HTML object>"
      ]
     },
     "metadata": {},
     "output_type": "display_data"
    },
    {
     "data": {
      "text/html": [
       "\n",
       "        <div id=\"ifjw9uwoDWeZhoaVkjt84h\"></div>\n",
       "        <script>netpixi.call('ifjw9uwoDWeZhoaVkjt84h', 'K4weoEfgX3kSNzn3gxGtaY', 'changeGraph', 'eyJpZCI6IDYwNywgInR5cGUiOiAidmVydGV4IiwgInByb3BzIjogeyJzaXplIjogMTcuMTIwMzQzODM5NTQxNTQ3fX0K');</script>\n",
       "    "
      ],
      "text/plain": [
       "<IPython.core.display.HTML object>"
      ]
     },
     "metadata": {},
     "output_type": "display_data"
    },
    {
     "data": {
      "text/html": [
       "\n",
       "        <div id=\"R5eF2ytJ8qvpPiy5GjnFzn\"></div>\n",
       "        <script>netpixi.call('R5eF2ytJ8qvpPiy5GjnFzn', 'K4weoEfgX3kSNzn3gxGtaY', 'changeGraph', 'eyJpZCI6IDYwOCwgInR5cGUiOiAidmVydGV4IiwgInByb3BzIjogeyJzaXplIjogMTQuMzgzOTU0MTU0NzI3Nzk0fX0K');</script>\n",
       "    "
      ],
      "text/plain": [
       "<IPython.core.display.HTML object>"
      ]
     },
     "metadata": {},
     "output_type": "display_data"
    },
    {
     "data": {
      "text/html": [
       "\n",
       "        <div id=\"VBAsDDRRWpvdx2wChWMWuW\"></div>\n",
       "        <script>netpixi.call('VBAsDDRRWpvdx2wChWMWuW', 'K4weoEfgX3kSNzn3gxGtaY', 'changeGraph', 'eyJpZCI6IDYwOSwgInR5cGUiOiAidmVydGV4IiwgInByb3BzIjogeyJzaXplIjogMTMuOTgyODA4MDIyOTIyNjM3fX0K');</script>\n",
       "    "
      ],
      "text/plain": [
       "<IPython.core.display.HTML object>"
      ]
     },
     "metadata": {},
     "output_type": "display_data"
    },
    {
     "data": {
      "text/html": [
       "\n",
       "        <div id=\"GWLdVTvjvCPwnpcDrRF9KC\"></div>\n",
       "        <script>netpixi.call('GWLdVTvjvCPwnpcDrRF9KC', 'K4weoEfgX3kSNzn3gxGtaY', 'changeGraph', 'eyJpZCI6IDYxMCwgInR5cGUiOiAidmVydGV4IiwgInByb3BzIjogeyJzaXplIjogMTUuMTg2MjQ2NDE4MzM4MTA4fX0K');</script>\n",
       "    "
      ],
      "text/plain": [
       "<IPython.core.display.HTML object>"
      ]
     },
     "metadata": {},
     "output_type": "display_data"
    },
    {
     "data": {
      "text/html": [
       "\n",
       "        <div id=\"dFfzenX2J628deArNWwCZv\"></div>\n",
       "        <script>netpixi.call('dFfzenX2J628deArNWwCZv', 'K4weoEfgX3kSNzn3gxGtaY', 'changeGraph', 'eyJpZCI6IDYxMSwgInR5cGUiOiAidmVydGV4IiwgInByb3BzIjogeyJzaXplIjogMTkuODI4MDgwMjI5MjI2MzZ9fQo=');</script>\n",
       "    "
      ],
      "text/plain": [
       "<IPython.core.display.HTML object>"
      ]
     },
     "metadata": {},
     "output_type": "display_data"
    },
    {
     "data": {
      "text/html": [
       "\n",
       "        <div id=\"D9EyC3SsqtwMe32gYL2BtG\"></div>\n",
       "        <script>netpixi.call('D9EyC3SsqtwMe32gYL2BtG', 'K4weoEfgX3kSNzn3gxGtaY', 'changeGraph', 'eyJpZCI6IDYxMiwgInR5cGUiOiAidmVydGV4IiwgInByb3BzIjogeyJzaXplIjogMTYuNzE5MTk3NzA3NzM2Mzl9fQo=');</script>\n",
       "    "
      ],
      "text/plain": [
       "<IPython.core.display.HTML object>"
      ]
     },
     "metadata": {},
     "output_type": "display_data"
    },
    {
     "data": {
      "text/html": [
       "\n",
       "        <div id=\"TL4FrE3Usqnp62kY9FKruo\"></div>\n",
       "        <script>netpixi.call('TL4FrE3Usqnp62kY9FKruo', 'K4weoEfgX3kSNzn3gxGtaY', 'changeGraph', 'eyJpZCI6IDYxMywgInR5cGUiOiAidmVydGV4IiwgInByb3BzIjogeyJzaXplIjogMTYuMDc0NDk4NTY3MzM1MjQ0fX0K');</script>\n",
       "    "
      ],
      "text/plain": [
       "<IPython.core.display.HTML object>"
      ]
     },
     "metadata": {},
     "output_type": "display_data"
    },
    {
     "data": {
      "text/html": [
       "\n",
       "        <div id=\"2V4pbKdmoYT27q9z4TPdS5\"></div>\n",
       "        <script>netpixi.call('2V4pbKdmoYT27q9z4TPdS5', 'K4weoEfgX3kSNzn3gxGtaY', 'changeGraph', 'eyJpZCI6IDYxNCwgInR5cGUiOiAidmVydGV4IiwgInByb3BzIjogeyJzaXplIjogMTMuOTExMTc0Nzg1MTAwMjg2fX0K');</script>\n",
       "    "
      ],
      "text/plain": [
       "<IPython.core.display.HTML object>"
      ]
     },
     "metadata": {},
     "output_type": "display_data"
    },
    {
     "data": {
      "text/html": [
       "\n",
       "        <div id=\"g3eJUQhhPpaQ4zCHrN3NRq\"></div>\n",
       "        <script>netpixi.call('g3eJUQhhPpaQ4zCHrN3NRq', 'K4weoEfgX3kSNzn3gxGtaY', 'changeGraph', 'eyJpZCI6IDYxNSwgInR5cGUiOiAidmVydGV4IiwgInByb3BzIjogeyJzaXplIjogMTIuMTIwMzQzODM5NTQxNTQ3fX0K');</script>\n",
       "    "
      ],
      "text/plain": [
       "<IPython.core.display.HTML object>"
      ]
     },
     "metadata": {},
     "output_type": "display_data"
    },
    {
     "data": {
      "text/html": [
       "\n",
       "        <div id=\"3QjPxKFtdtLmoJX8PBBSQd\"></div>\n",
       "        <script>netpixi.call('3QjPxKFtdtLmoJX8PBBSQd', 'K4weoEfgX3kSNzn3gxGtaY', 'changeGraph', 'eyJpZCI6IDYxNiwgInR5cGUiOiAidmVydGV4IiwgInByb3BzIjogeyJzaXplIjogMTAuMzAwODU5NTk4ODUzODY5fX0K');</script>\n",
       "    "
      ],
      "text/plain": [
       "<IPython.core.display.HTML object>"
      ]
     },
     "metadata": {},
     "output_type": "display_data"
    },
    {
     "data": {
      "text/html": [
       "\n",
       "        <div id=\"mdB7VJjdQro9H6AFtDkRjC\"></div>\n",
       "        <script>netpixi.call('mdB7VJjdQro9H6AFtDkRjC', 'K4weoEfgX3kSNzn3gxGtaY', 'changeGraph', 'eyJpZCI6IDYxNywgInR5cGUiOiAidmVydGV4IiwgInByb3BzIjogeyJzaXplIjogMTcuODkzOTgyODA4MDIyOTIzfX0K');</script>\n",
       "    "
      ],
      "text/plain": [
       "<IPython.core.display.HTML object>"
      ]
     },
     "metadata": {},
     "output_type": "display_data"
    },
    {
     "data": {
      "text/html": [
       "\n",
       "        <div id=\"Mv7DFzknJRZNnwZbncPGMg\"></div>\n",
       "        <script>netpixi.call('Mv7DFzknJRZNnwZbncPGMg', 'K4weoEfgX3kSNzn3gxGtaY', 'changeGraph', 'eyJpZCI6IDYxOCwgInR5cGUiOiAidmVydGV4IiwgInByb3BzIjogeyJzaXplIjogMTQuMTgzMzgxMDg4ODI1MjE1fX0K');</script>\n",
       "    "
      ],
      "text/plain": [
       "<IPython.core.display.HTML object>"
      ]
     },
     "metadata": {},
     "output_type": "display_data"
    },
    {
     "data": {
      "text/html": [
       "\n",
       "        <div id=\"8QeBoPqNwYqjE6aPkWooX3\"></div>\n",
       "        <script>netpixi.call('8QeBoPqNwYqjE6aPkWooX3', 'K4weoEfgX3kSNzn3gxGtaY', 'changeGraph', 'eyJpZCI6IDYxOSwgInR5cGUiOiAidmVydGV4IiwgInByb3BzIjogeyJzaXplIjogMTYuNDE4MzM4MTA4ODgyNTIzfX0K');</script>\n",
       "    "
      ],
      "text/plain": [
       "<IPython.core.display.HTML object>"
      ]
     },
     "metadata": {},
     "output_type": "display_data"
    },
    {
     "data": {
      "text/html": [
       "\n",
       "        <div id=\"nWoP4CBc8xhcgWtTF5GdBE\"></div>\n",
       "        <script>netpixi.call('nWoP4CBc8xhcgWtTF5GdBE', 'K4weoEfgX3kSNzn3gxGtaY', 'changeGraph', 'eyJpZCI6IDYyMCwgInR5cGUiOiAidmVydGV4IiwgInByb3BzIjogeyJzaXplIjogMTEuODYyNDY0MTgzMzgxMDg5fX0K');</script>\n",
       "    "
      ],
      "text/plain": [
       "<IPython.core.display.HTML object>"
      ]
     },
     "metadata": {},
     "output_type": "display_data"
    },
    {
     "data": {
      "text/html": [
       "\n",
       "        <div id=\"LxNaD96inrp2SDLZK3Da7A\"></div>\n",
       "        <script>netpixi.call('LxNaD96inrp2SDLZK3Da7A', 'K4weoEfgX3kSNzn3gxGtaY', 'changeGraph', 'eyJpZCI6IDYyMSwgInR5cGUiOiAidmVydGV4IiwgInByb3BzIjogeyJzaXplIjogMTQuNDQxMjYwNzQ0OTg1NjczfX0K');</script>\n",
       "    "
      ],
      "text/plain": [
       "<IPython.core.display.HTML object>"
      ]
     },
     "metadata": {},
     "output_type": "display_data"
    },
    {
     "data": {
      "text/html": [
       "\n",
       "        <div id=\"MstUmrYAWwQYrDkCu795Qa\"></div>\n",
       "        <script>netpixi.call('MstUmrYAWwQYrDkCu795Qa', 'K4weoEfgX3kSNzn3gxGtaY', 'changeGraph', 'eyJpZCI6IDYyMiwgInR5cGUiOiAidmVydGV4IiwgInByb3BzIjogeyJzaXplIjogNDMuNDg1NzE0Mjg1NzE0Mjl9fQo=');</script>\n",
       "    "
      ],
      "text/plain": [
       "<IPython.core.display.HTML object>"
      ]
     },
     "metadata": {},
     "output_type": "display_data"
    },
    {
     "data": {
      "text/html": [
       "\n",
       "        <div id=\"CWUvwqZbynYKCKyb3GegeJ\"></div>\n",
       "        <script>netpixi.call('CWUvwqZbynYKCKyb3GegeJ', 'K4weoEfgX3kSNzn3gxGtaY', 'changeGraph', 'eyJpZCI6IDYyMywgInR5cGUiOiAidmVydGV4IiwgInByb3BzIjogeyJzaXplIjogMTMuODY4MTk0ODQyNDA2ODc2fX0K');</script>\n",
       "    "
      ],
      "text/plain": [
       "<IPython.core.display.HTML object>"
      ]
     },
     "metadata": {},
     "output_type": "display_data"
    },
    {
     "data": {
      "text/html": [
       "\n",
       "        <div id=\"EUS6qMZYuQRugHSPwkvLmX\"></div>\n",
       "        <script>netpixi.call('EUS6qMZYuQRugHSPwkvLmX', 'K4weoEfgX3kSNzn3gxGtaY', 'changeGraph', 'eyJpZCI6IDYyNCwgInR5cGUiOiAidmVydGV4IiwgInByb3BzIjogeyJzaXplIjogMTkuMzU1MzAwODU5NTk4ODU2fX0K');</script>\n",
       "    "
      ],
      "text/plain": [
       "<IPython.core.display.HTML object>"
      ]
     },
     "metadata": {},
     "output_type": "display_data"
    },
    {
     "data": {
      "text/html": [
       "\n",
       "        <div id=\"oFxVfVKDZzmXQeix4au25Y\"></div>\n",
       "        <script>netpixi.call('oFxVfVKDZzmXQeix4au25Y', 'K4weoEfgX3kSNzn3gxGtaY', 'changeGraph', 'eyJpZCI6IDYyNSwgInR5cGUiOiAidmVydGV4IiwgInByb3BzIjogeyJzaXplIjogMTcuODM2Njc2MjE3NzY1MDQyfX0K');</script>\n",
       "    "
      ],
      "text/plain": [
       "<IPython.core.display.HTML object>"
      ]
     },
     "metadata": {},
     "output_type": "display_data"
    },
    {
     "data": {
      "text/html": [
       "\n",
       "        <div id=\"3GDWvK2rvo7eKChpn4u2Y8\"></div>\n",
       "        <script>netpixi.call('3GDWvK2rvo7eKChpn4u2Y8', 'K4weoEfgX3kSNzn3gxGtaY', 'changeGraph', 'eyJpZCI6IDYyNiwgInR5cGUiOiAidmVydGV4IiwgInByb3BzIjogeyJzaXplIjogMTcuMTYzMzIzNzgyMjM0OTU4fX0K');</script>\n",
       "    "
      ],
      "text/plain": [
       "<IPython.core.display.HTML object>"
      ]
     },
     "metadata": {},
     "output_type": "display_data"
    },
    {
     "data": {
      "text/html": [
       "\n",
       "        <div id=\"ByDvXSo42ETLJ5vwVGNVUX\"></div>\n",
       "        <script>netpixi.call('ByDvXSo42ETLJ5vwVGNVUX', 'K4weoEfgX3kSNzn3gxGtaY', 'changeGraph', 'eyJpZCI6IDYyNywgInR5cGUiOiAidmVydGV4IiwgInByb3BzIjogeyJzaXplIjogMTYuODc2NzkwODMwOTQ1NTZ9fQo=');</script>\n",
       "    "
      ],
      "text/plain": [
       "<IPython.core.display.HTML object>"
      ]
     },
     "metadata": {},
     "output_type": "display_data"
    },
    {
     "data": {
      "text/html": [
       "\n",
       "        <div id=\"evHYZgFar83bud9V42z4ws\"></div>\n",
       "        <script>netpixi.call('evHYZgFar83bud9V42z4ws', 'K4weoEfgX3kSNzn3gxGtaY', 'changeGraph', 'eyJpZCI6IDYyOCwgInR5cGUiOiAidmVydGV4IiwgInByb3BzIjogeyJzaXplIjogMTcuNDA2ODc2NzkwODMwOTQ2fX0K');</script>\n",
       "    "
      ],
      "text/plain": [
       "<IPython.core.display.HTML object>"
      ]
     },
     "metadata": {},
     "output_type": "display_data"
    },
    {
     "data": {
      "text/html": [
       "\n",
       "        <div id=\"7eU5a4AqHtWZXk5QFZVNGp\"></div>\n",
       "        <script>netpixi.call('7eU5a4AqHtWZXk5QFZVNGp', 'K4weoEfgX3kSNzn3gxGtaY', 'changeGraph', 'eyJpZCI6IDYyOSwgInR5cGUiOiAidmVydGV4IiwgInByb3BzIjogeyJzaXplIjogMTcuMjYzNjEwMzE1MTg2MjV9fQo=');</script>\n",
       "    "
      ],
      "text/plain": [
       "<IPython.core.display.HTML object>"
      ]
     },
     "metadata": {},
     "output_type": "display_data"
    },
    {
     "data": {
      "text/html": [
       "\n",
       "        <div id=\"HxzVKsG3FLiyrLxoQPdxtd\"></div>\n",
       "        <script>netpixi.call('HxzVKsG3FLiyrLxoQPdxtd', 'K4weoEfgX3kSNzn3gxGtaY', 'changeGraph', 'eyJpZCI6IDYzMCwgInR5cGUiOiAidmVydGV4IiwgInByb3BzIjogeyJzaXplIjogMTUuNjAxNzE5MTk3NzA3NzM3fX0K');</script>\n",
       "    "
      ],
      "text/plain": [
       "<IPython.core.display.HTML object>"
      ]
     },
     "metadata": {},
     "output_type": "display_data"
    },
    {
     "data": {
      "text/html": [
       "\n",
       "        <div id=\"72m64aZcqkovAfE8khRFsA\"></div>\n",
       "        <script>netpixi.call('72m64aZcqkovAfE8khRFsA', 'K4weoEfgX3kSNzn3gxGtaY', 'changeGraph', 'eyJpZCI6IDYzMSwgInR5cGUiOiAidmVydGV4IiwgInByb3BzIjogeyJzaXplIjogMTQuNDY5OTE0MDQwMTE0NjEzfX0K');</script>\n",
       "    "
      ],
      "text/plain": [
       "<IPython.core.display.HTML object>"
      ]
     },
     "metadata": {},
     "output_type": "display_data"
    },
    {
     "data": {
      "text/html": [
       "\n",
       "        <div id=\"LUfaMpSAyh96gYcCsmcmoh\"></div>\n",
       "        <script>netpixi.call('LUfaMpSAyh96gYcCsmcmoh', 'K4weoEfgX3kSNzn3gxGtaY', 'changeGraph', 'eyJpZCI6IDYzMiwgInR5cGUiOiAidmVydGV4IiwgInByb3BzIjogeyJzaXplIjogNDAuNTE0Mjg1NzE0Mjg1NzJ9fQo=');</script>\n",
       "    "
      ],
      "text/plain": [
       "<IPython.core.display.HTML object>"
      ]
     },
     "metadata": {},
     "output_type": "display_data"
    },
    {
     "data": {
      "text/html": [
       "\n",
       "        <div id=\"nScGZWpwU7fQ4iyPn3AELy\"></div>\n",
       "        <script>netpixi.call('nScGZWpwU7fQ4iyPn3AELy', 'K4weoEfgX3kSNzn3gxGtaY', 'changeGraph', 'eyJpZCI6IDYzMywgInR5cGUiOiAidmVydGV4IiwgInByb3BzIjogeyJzaXplIjogMTcuNDkyODM2Njc2MjE3NzYzfX0K');</script>\n",
       "    "
      ],
      "text/plain": [
       "<IPython.core.display.HTML object>"
      ]
     },
     "metadata": {},
     "output_type": "display_data"
    },
    {
     "data": {
      "text/html": [
       "\n",
       "        <div id=\"JFauxxiyDcFXMPCkmsYSFv\"></div>\n",
       "        <script>netpixi.call('JFauxxiyDcFXMPCkmsYSFv', 'K4weoEfgX3kSNzn3gxGtaY', 'changeGraph', 'eyJpZCI6IDYzNCwgInR5cGUiOiAidmVydGV4IiwgInByb3BzIjogeyJzaXplIjogMTQuMjY5MzQwOTc0MjEyMDM1fX0K');</script>\n",
       "    "
      ],
      "text/plain": [
       "<IPython.core.display.HTML object>"
      ]
     },
     "metadata": {},
     "output_type": "display_data"
    },
    {
     "data": {
      "text/html": [
       "\n",
       "        <div id=\"erMDwa6qg6braMEbqcLpYy\"></div>\n",
       "        <script>netpixi.call('erMDwa6qg6braMEbqcLpYy', 'K4weoEfgX3kSNzn3gxGtaY', 'changeGraph', 'eyJpZCI6IDYzNSwgInR5cGUiOiAidmVydGV4IiwgInByb3BzIjogeyJzaXplIjogMTUuNDcyNzc5MzY5NjI3NTA2fX0K');</script>\n",
       "    "
      ],
      "text/plain": [
       "<IPython.core.display.HTML object>"
      ]
     },
     "metadata": {},
     "output_type": "display_data"
    },
    {
     "data": {
      "text/html": [
       "\n",
       "        <div id=\"TJnUXMPQrVCwJEhje7RQAc\"></div>\n",
       "        <script>netpixi.call('TJnUXMPQrVCwJEhje7RQAc', 'K4weoEfgX3kSNzn3gxGtaY', 'changeGraph', 'eyJpZCI6IDYzNiwgInR5cGUiOiAidmVydGV4IiwgInByb3BzIjogeyJzaXplIjogMTEuNzMzNTI0MzU1MzAwODZ9fQo=');</script>\n",
       "    "
      ],
      "text/plain": [
       "<IPython.core.display.HTML object>"
      ]
     },
     "metadata": {},
     "output_type": "display_data"
    },
    {
     "data": {
      "text/html": [
       "\n",
       "        <div id=\"KEJZCRWtwWWDXDE5tRhKQn\"></div>\n",
       "        <script>netpixi.call('KEJZCRWtwWWDXDE5tRhKQn', 'K4weoEfgX3kSNzn3gxGtaY', 'changeGraph', 'eyJpZCI6IDYzNywgInR5cGUiOiAidmVydGV4IiwgInByb3BzIjogeyJzaXplIjogMTQuMjQwNjg3Njc5MDgzMDk1fX0K');</script>\n",
       "    "
      ],
      "text/plain": [
       "<IPython.core.display.HTML object>"
      ]
     },
     "metadata": {},
     "output_type": "display_data"
    },
    {
     "data": {
      "text/html": [
       "\n",
       "        <div id=\"ATPVSMoV3kM5eau9LP46wL\"></div>\n",
       "        <script>netpixi.call('ATPVSMoV3kM5eau9LP46wL', 'K4weoEfgX3kSNzn3gxGtaY', 'changeGraph', 'eyJpZCI6IDYzOCwgInR5cGUiOiAidmVydGV4IiwgInByb3BzIjogeyJzaXplIjogNDAuOTE0Mjg1NzE0Mjg1NzJ9fQo=');</script>\n",
       "    "
      ],
      "text/plain": [
       "<IPython.core.display.HTML object>"
      ]
     },
     "metadata": {},
     "output_type": "display_data"
    },
    {
     "data": {
      "text/html": [
       "\n",
       "        <div id=\"eTyLRHyr5RjDSQuBti7Dgs\"></div>\n",
       "        <script>netpixi.call('eTyLRHyr5RjDSQuBti7Dgs', 'K4weoEfgX3kSNzn3gxGtaY', 'changeGraph', 'eyJpZCI6IDYzOSwgInR5cGUiOiAidmVydGV4IiwgInByb3BzIjogeyJzaXplIjogMTguOTM5ODI4MDgwMjI5MjI2fX0K');</script>\n",
       "    "
      ],
      "text/plain": [
       "<IPython.core.display.HTML object>"
      ]
     },
     "metadata": {},
     "output_type": "display_data"
    },
    {
     "data": {
      "text/html": [
       "\n",
       "        <div id=\"5aXzzvHW4Bxfqn2AFdjvJ7\"></div>\n",
       "        <script>netpixi.call('5aXzzvHW4Bxfqn2AFdjvJ7', 'K4weoEfgX3kSNzn3gxGtaY', 'changeGraph', 'eyJpZCI6IDY0MCwgInR5cGUiOiAidmVydGV4IiwgInByb3BzIjogeyJzaXplIjogMTUuMzI5NTEyODkzOTgyODA3fX0K');</script>\n",
       "    "
      ],
      "text/plain": [
       "<IPython.core.display.HTML object>"
      ]
     },
     "metadata": {},
     "output_type": "display_data"
    },
    {
     "data": {
      "text/html": [
       "\n",
       "        <div id=\"e6cZ6AzGZTjXXW4GHkFEmE\"></div>\n",
       "        <script>netpixi.call('e6cZ6AzGZTjXXW4GHkFEmE', 'K4weoEfgX3kSNzn3gxGtaY', 'changeGraph', 'eyJpZCI6IDY0MSwgInR5cGUiOiAidmVydGV4IiwgInByb3BzIjogeyJzaXplIjogMTcuMzkyNTUwMTQzMjY2NDc2fX0K');</script>\n",
       "    "
      ],
      "text/plain": [
       "<IPython.core.display.HTML object>"
      ]
     },
     "metadata": {},
     "output_type": "display_data"
    },
    {
     "data": {
      "text/html": [
       "\n",
       "        <div id=\"TpjEMfH2qse2ybBona5t2J\"></div>\n",
       "        <script>netpixi.call('TpjEMfH2qse2ybBona5t2J', 'K4weoEfgX3kSNzn3gxGtaY', 'changeGraph', 'eyJpZCI6IDY0MiwgInR5cGUiOiAidmVydGV4IiwgInByb3BzIjogeyJzaXplIjogMTYuMzE4MDUxNTc1OTMxMjMyfX0K');</script>\n",
       "    "
      ],
      "text/plain": [
       "<IPython.core.display.HTML object>"
      ]
     },
     "metadata": {},
     "output_type": "display_data"
    },
    {
     "data": {
      "text/html": [
       "\n",
       "        <div id=\"JQT7W4mYZNrcwwM7e3NZgc\"></div>\n",
       "        <script>netpixi.call('JQT7W4mYZNrcwwM7e3NZgc', 'K4weoEfgX3kSNzn3gxGtaY', 'changeGraph', 'eyJpZCI6IDY0MywgInR5cGUiOiAidmVydGV4IiwgInByb3BzIjogeyJzaXplIjogMTcuNzc5MzY5NjI3NTA3MTY1fX0K');</script>\n",
       "    "
      ],
      "text/plain": [
       "<IPython.core.display.HTML object>"
      ]
     },
     "metadata": {},
     "output_type": "display_data"
    },
    {
     "data": {
      "text/html": [
       "\n",
       "        <div id=\"hEbjEcuBAGTQVDMkEeZGjL\"></div>\n",
       "        <script>netpixi.call('hEbjEcuBAGTQVDMkEeZGjL', 'K4weoEfgX3kSNzn3gxGtaY', 'changeGraph', 'eyJpZCI6IDY0NCwgInR5cGUiOiAidmVydGV4IiwgInByb3BzIjogeyJzaXplIjogMTkuNDI2OTM0MDk3NDIxMjAzfX0K');</script>\n",
       "    "
      ],
      "text/plain": [
       "<IPython.core.display.HTML object>"
      ]
     },
     "metadata": {},
     "output_type": "display_data"
    },
    {
     "data": {
      "text/html": [
       "\n",
       "        <div id=\"996niASBbF8xAuhh7QRVh7\"></div>\n",
       "        <script>netpixi.call('996niASBbF8xAuhh7QRVh7', 'K4weoEfgX3kSNzn3gxGtaY', 'changeGraph', 'eyJpZCI6IDY0NSwgInR5cGUiOiAidmVydGV4IiwgInByb3BzIjogeyJzaXplIjogMTUuMzg2ODE5NDg0MjQwNjg4fX0K');</script>\n",
       "    "
      ],
      "text/plain": [
       "<IPython.core.display.HTML object>"
      ]
     },
     "metadata": {},
     "output_type": "display_data"
    },
    {
     "data": {
      "text/html": [
       "\n",
       "        <div id=\"eexJSdTyx5wmhKBphmJSYJ\"></div>\n",
       "        <script>netpixi.call('eexJSdTyx5wmhKBphmJSYJ', 'K4weoEfgX3kSNzn3gxGtaY', 'changeGraph', 'eyJpZCI6IDY0NiwgInR5cGUiOiAidmVydGV4IiwgInByb3BzIjogeyJzaXplIjogMTYuNDQ2OTkxNDA0MDExNDZ9fQo=');</script>\n",
       "    "
      ],
      "text/plain": [
       "<IPython.core.display.HTML object>"
      ]
     },
     "metadata": {},
     "output_type": "display_data"
    },
    {
     "data": {
      "text/html": [
       "\n",
       "        <div id=\"MNd8HZ6CjBSi2nKDWDrjxL\"></div>\n",
       "        <script>netpixi.call('MNd8HZ6CjBSi2nKDWDrjxL', 'K4weoEfgX3kSNzn3gxGtaY', 'changeGraph', 'eyJpZCI6IDY0NywgInR5cGUiOiAidmVydGV4IiwgInByb3BzIjogeyJzaXplIjogMTUuNjg3Njc5MDgzMDk0NTU0fX0K');</script>\n",
       "    "
      ],
      "text/plain": [
       "<IPython.core.display.HTML object>"
      ]
     },
     "metadata": {},
     "output_type": "display_data"
    },
    {
     "data": {
      "text/html": [
       "\n",
       "        <div id=\"QMtK99x8hSqwZRCn6AFiTL\"></div>\n",
       "        <script>netpixi.call('QMtK99x8hSqwZRCn6AFiTL', 'K4weoEfgX3kSNzn3gxGtaY', 'changeGraph', 'eyJpZCI6IDY0OCwgInR5cGUiOiAidmVydGV4IiwgInByb3BzIjogeyJzaXplIjogMTcuMTQ4OTk3MTM0NjcwNDg4fX0K');</script>\n",
       "    "
      ],
      "text/plain": [
       "<IPython.core.display.HTML object>"
      ]
     },
     "metadata": {},
     "output_type": "display_data"
    },
    {
     "data": {
      "text/html": [
       "\n",
       "        <div id=\"3pZqBCPTVMSsSUkiKHbczG\"></div>\n",
       "        <script>netpixi.call('3pZqBCPTVMSsSUkiKHbczG', 'K4weoEfgX3kSNzn3gxGtaY', 'changeGraph', 'eyJpZCI6IDY0OSwgInR5cGUiOiAidmVydGV4IiwgInByb3BzIjogeyJzaXplIjogMTcuMTM0NjcwNDg3MTA2MDE4fX0K');</script>\n",
       "    "
      ],
      "text/plain": [
       "<IPython.core.display.HTML object>"
      ]
     },
     "metadata": {},
     "output_type": "display_data"
    },
    {
     "data": {
      "text/html": [
       "\n",
       "        <div id=\"LS65R6Bwg3M5HYdBLVqRTs\"></div>\n",
       "        <script>netpixi.call('LS65R6Bwg3M5HYdBLVqRTs', 'K4weoEfgX3kSNzn3gxGtaY', 'changeGraph', 'eyJpZCI6IDY1MCwgInR5cGUiOiAidmVydGV4IiwgInByb3BzIjogeyJzaXplIjogMTQuMTU0NzI3NzkzNjk2Mjc0fX0K');</script>\n",
       "    "
      ],
      "text/plain": [
       "<IPython.core.display.HTML object>"
      ]
     },
     "metadata": {},
     "output_type": "display_data"
    },
    {
     "data": {
      "text/html": [
       "\n",
       "        <div id=\"jn5r3ctj4kab8gU8po2nJn\"></div>\n",
       "        <script>netpixi.call('jn5r3ctj4kab8gU8po2nJn', 'K4weoEfgX3kSNzn3gxGtaY', 'changeGraph', 'eyJpZCI6IDY1MSwgInR5cGUiOiAidmVydGV4IiwgInByb3BzIjogeyJzaXplIjogMTcuNzA3NzM2Mzg5Njg0ODE1fX0K');</script>\n",
       "    "
      ],
      "text/plain": [
       "<IPython.core.display.HTML object>"
      ]
     },
     "metadata": {},
     "output_type": "display_data"
    },
    {
     "data": {
      "text/html": [
       "\n",
       "        <div id=\"2h4xLo4PuXvksts44qbhK5\"></div>\n",
       "        <script>netpixi.call('2h4xLo4PuXvksts44qbhK5', 'K4weoEfgX3kSNzn3gxGtaY', 'changeGraph', 'eyJpZCI6IDY1MiwgInR5cGUiOiAidmVydGV4IiwgInByb3BzIjogeyJzaXplIjogMTUuNjMwMzcyNDkyODM2Njc2fX0K');</script>\n",
       "    "
      ],
      "text/plain": [
       "<IPython.core.display.HTML object>"
      ]
     },
     "metadata": {},
     "output_type": "display_data"
    },
    {
     "data": {
      "text/html": [
       "\n",
       "        <div id=\"KvGa4KzbyfeqsTSy25tGqc\"></div>\n",
       "        <script>netpixi.call('KvGa4KzbyfeqsTSy25tGqc', 'K4weoEfgX3kSNzn3gxGtaY', 'changeGraph', 'eyJpZCI6IDY1MywgInR5cGUiOiAidmVydGV4IiwgInByb3BzIjogeyJzaXplIjogMTcuMjkyMjYzNjEwMzE1MTg1fX0K');</script>\n",
       "    "
      ],
      "text/plain": [
       "<IPython.core.display.HTML object>"
      ]
     },
     "metadata": {},
     "output_type": "display_data"
    },
    {
     "data": {
      "text/html": [
       "\n",
       "        <div id=\"CetgA7eCJXrFeqsb5nmzJt\"></div>\n",
       "        <script>netpixi.call('CetgA7eCJXrFeqsb5nmzJt', 'K4weoEfgX3kSNzn3gxGtaY', 'changeGraph', 'eyJpZCI6IDY1NCwgInR5cGUiOiAidmVydGV4IiwgInByb3BzIjogeyJzaXplIjogMTMuMTgwNTE1NzU5MzEyMzIxfX0K');</script>\n",
       "    "
      ],
      "text/plain": [
       "<IPython.core.display.HTML object>"
      ]
     },
     "metadata": {},
     "output_type": "display_data"
    },
    {
     "data": {
      "text/html": [
       "\n",
       "        <div id=\"FZdc7PRhGf3hNVgT5uq69b\"></div>\n",
       "        <script>netpixi.call('FZdc7PRhGf3hNVgT5uq69b', 'K4weoEfgX3kSNzn3gxGtaY', 'changeGraph', 'eyJpZCI6IDY1NSwgInR5cGUiOiAidmVydGV4IiwgInByb3BzIjogeyJzaXplIjogMTguMDIyOTIyNjM2MTAzMTU0fX0K');</script>\n",
       "    "
      ],
      "text/plain": [
       "<IPython.core.display.HTML object>"
      ]
     },
     "metadata": {},
     "output_type": "display_data"
    },
    {
     "data": {
      "text/html": [
       "\n",
       "        <div id=\"gDwK3fF7vuKscHt7ZD2Sxk\"></div>\n",
       "        <script>netpixi.call('gDwK3fF7vuKscHt7ZD2Sxk', 'K4weoEfgX3kSNzn3gxGtaY', 'changeGraph', 'eyJpZCI6IDY1NiwgInR5cGUiOiAidmVydGV4IiwgInByb3BzIjogeyJzaXplIjogMTYuMzg5Njg0ODEzNzUzNTgzfX0K');</script>\n",
       "    "
      ],
      "text/plain": [
       "<IPython.core.display.HTML object>"
      ]
     },
     "metadata": {},
     "output_type": "display_data"
    },
    {
     "data": {
      "text/html": [
       "\n",
       "        <div id=\"7RB5k28Zwtz4ztTE2MrH9x\"></div>\n",
       "        <script>netpixi.call('7RB5k28Zwtz4ztTE2MrH9x', 'K4weoEfgX3kSNzn3gxGtaY', 'changeGraph', 'eyJpZCI6IDY1NywgInR5cGUiOiAidmVydGV4IiwgInByb3BzIjogeyJzaXplIjogMTEuNTc1OTMxMjMyMDkxNjl9fQo=');</script>\n",
       "    "
      ],
      "text/plain": [
       "<IPython.core.display.HTML object>"
      ]
     },
     "metadata": {},
     "output_type": "display_data"
    },
    {
     "data": {
      "text/html": [
       "\n",
       "        <div id=\"j3Yz7euQ3oBvnirsQBdjPB\"></div>\n",
       "        <script>netpixi.call('j3Yz7euQ3oBvnirsQBdjPB', 'K4weoEfgX3kSNzn3gxGtaY', 'changeGraph', 'eyJpZCI6IDY1OCwgInR5cGUiOiAidmVydGV4IiwgInByb3BzIjogeyJzaXplIjogMTYuMzAzNzI0OTI4MzY2NzYyfX0K');</script>\n",
       "    "
      ],
      "text/plain": [
       "<IPython.core.display.HTML object>"
      ]
     },
     "metadata": {},
     "output_type": "display_data"
    },
    {
     "data": {
      "text/html": [
       "\n",
       "        <div id=\"QpKwQTPJ9phWdEhbQsQSUE\"></div>\n",
       "        <script>netpixi.call('QpKwQTPJ9phWdEhbQsQSUE', 'K4weoEfgX3kSNzn3gxGtaY', 'changeGraph', 'eyJpZCI6IDY1OSwgInR5cGUiOiAidmVydGV4IiwgInByb3BzIjogeyJzaXplIjogMTcuMTkxOTc3MDc3MzYzODk4fX0K');</script>\n",
       "    "
      ],
      "text/plain": [
       "<IPython.core.display.HTML object>"
      ]
     },
     "metadata": {},
     "output_type": "display_data"
    },
    {
     "data": {
      "text/html": [
       "\n",
       "        <div id=\"jajAB8E7RNm9BUGc94TWrm\"></div>\n",
       "        <script>netpixi.call('jajAB8E7RNm9BUGc94TWrm', 'K4weoEfgX3kSNzn3gxGtaY', 'changeGraph', 'eyJpZCI6IDY2MCwgInR5cGUiOiAidmVydGV4IiwgInByb3BzIjogeyJzaXplIjogMTYuNTA0Mjk3OTk0MjY5MzQ0fX0K');</script>\n",
       "    "
      ],
      "text/plain": [
       "<IPython.core.display.HTML object>"
      ]
     },
     "metadata": {},
     "output_type": "display_data"
    },
    {
     "data": {
      "text/html": [
       "\n",
       "        <div id=\"TZHNksbiQBbGJKXXApCLm8\"></div>\n",
       "        <script>netpixi.call('TZHNksbiQBbGJKXXApCLm8', 'K4weoEfgX3kSNzn3gxGtaY', 'changeGraph', 'eyJpZCI6IDY2MSwgInR5cGUiOiAidmVydGV4IiwgInByb3BzIjogeyJzaXplIjogMTQuMDY4NzY3OTA4MzA5NDU1fX0K');</script>\n",
       "    "
      ],
      "text/plain": [
       "<IPython.core.display.HTML object>"
      ]
     },
     "metadata": {},
     "output_type": "display_data"
    },
    {
     "data": {
      "text/html": [
       "\n",
       "        <div id=\"XtKPcP6JcDjCBKn7FsaweA\"></div>\n",
       "        <script>netpixi.call('XtKPcP6JcDjCBKn7FsaweA', 'K4weoEfgX3kSNzn3gxGtaY', 'changeGraph', 'eyJpZCI6IDY2MiwgInR5cGUiOiAidmVydGV4IiwgInByb3BzIjogeyJzaXplIjogMTQuNDk4NTY3MzM1MjQzNTUzfX0K');</script>\n",
       "    "
      ],
      "text/plain": [
       "<IPython.core.display.HTML object>"
      ]
     },
     "metadata": {},
     "output_type": "display_data"
    },
    {
     "data": {
      "text/html": [
       "\n",
       "        <div id=\"4nMW7M8fhpsZjA6RQsuCFc\"></div>\n",
       "        <script>netpixi.call('4nMW7M8fhpsZjA6RQsuCFc', 'K4weoEfgX3kSNzn3gxGtaY', 'changeGraph', 'eyJpZCI6IDY2MywgInR5cGUiOiAidmVydGV4IiwgInByb3BzIjogeyJzaXplIjogMTQuMDgzMDk0NTU1ODczOTI2fX0K');</script>\n",
       "    "
      ],
      "text/plain": [
       "<IPython.core.display.HTML object>"
      ]
     },
     "metadata": {},
     "output_type": "display_data"
    },
    {
     "data": {
      "text/html": [
       "\n",
       "        <div id=\"bAizAWesLkC9EPbgRN9qfA\"></div>\n",
       "        <script>netpixi.call('bAizAWesLkC9EPbgRN9qfA', 'K4weoEfgX3kSNzn3gxGtaY', 'changeGraph', 'eyJpZCI6IDY2NCwgInR5cGUiOiAidmVydGV4IiwgInByb3BzIjogeyJzaXplIjogMTQuMzY5NjI3NTA3MTYzMzIyfX0K');</script>\n",
       "    "
      ],
      "text/plain": [
       "<IPython.core.display.HTML object>"
      ]
     },
     "metadata": {},
     "output_type": "display_data"
    },
    {
     "data": {
      "text/html": [
       "\n",
       "        <div id=\"dZdaJHtr9b9GCuQ7cV5HHe\"></div>\n",
       "        <script>netpixi.call('dZdaJHtr9b9GCuQ7cV5HHe', 'K4weoEfgX3kSNzn3gxGtaY', 'changeGraph', 'eyJpZCI6IDY2NSwgInR5cGUiOiAidmVydGV4IiwgInByb3BzIjogeyJzaXplIjogMTQuNzQyMTIwMzQzODM5NTQyfX0K');</script>\n",
       "    "
      ],
      "text/plain": [
       "<IPython.core.display.HTML object>"
      ]
     },
     "metadata": {},
     "output_type": "display_data"
    },
    {
     "data": {
      "text/html": [
       "\n",
       "        <div id=\"EBa3gAHLC9CxLyABjxaF62\"></div>\n",
       "        <script>netpixi.call('EBa3gAHLC9CxLyABjxaF62', 'K4weoEfgX3kSNzn3gxGtaY', 'changeGraph', 'eyJpZCI6IDY2NiwgInR5cGUiOiAidmVydGV4IiwgInByb3BzIjogeyJzaXplIjogMTMuNTUzMDA4NTk1OTg4NTM5fX0K');</script>\n",
       "    "
      ],
      "text/plain": [
       "<IPython.core.display.HTML object>"
      ]
     },
     "metadata": {},
     "output_type": "display_data"
    },
    {
     "data": {
      "text/html": [
       "\n",
       "        <div id=\"XwTrsMjzKva28wpWFeY3BQ\"></div>\n",
       "        <script>netpixi.call('XwTrsMjzKva28wpWFeY3BQ', 'K4weoEfgX3kSNzn3gxGtaY', 'changeGraph', 'eyJpZCI6IDY2NywgInR5cGUiOiAidmVydGV4IiwgInByb3BzIjogeyJzaXplIjogMTIuNTY0NDY5OTE0MDQwMTE0fX0K');</script>\n",
       "    "
      ],
      "text/plain": [
       "<IPython.core.display.HTML object>"
      ]
     },
     "metadata": {},
     "output_type": "display_data"
    },
    {
     "data": {
      "text/html": [
       "\n",
       "        <div id=\"KyQaSUdF244MnoKmseNBdr\"></div>\n",
       "        <script>netpixi.call('KyQaSUdF244MnoKmseNBdr', 'K4weoEfgX3kSNzn3gxGtaY', 'changeGraph', 'eyJpZCI6IDY2OCwgInR5cGUiOiAidmVydGV4IiwgInByb3BzIjogeyJzaXplIjogMTguMDk0NTU1ODczOTI1NX19Cg==');</script>\n",
       "    "
      ],
      "text/plain": [
       "<IPython.core.display.HTML object>"
      ]
     },
     "metadata": {},
     "output_type": "display_data"
    },
    {
     "data": {
      "text/html": [
       "\n",
       "        <div id=\"84aRMjUwAoGmMPm87rvoSo\"></div>\n",
       "        <script>netpixi.call('84aRMjUwAoGmMPm87rvoSo', 'K4weoEfgX3kSNzn3gxGtaY', 'changeGraph', 'eyJpZCI6IDY2OSwgInR5cGUiOiAidmVydGV4IiwgInByb3BzIjogeyJzaXplIjogMTIuMDM0MzgzOTU0MTU0NzI3fX0K');</script>\n",
       "    "
      ],
      "text/plain": [
       "<IPython.core.display.HTML object>"
      ]
     },
     "metadata": {},
     "output_type": "display_data"
    },
    {
     "data": {
      "text/html": [
       "\n",
       "        <div id=\"gPKoy9PAzYxhSHB4NTVe5B\"></div>\n",
       "        <script>netpixi.call('gPKoy9PAzYxhSHB4NTVe5B', 'K4weoEfgX3kSNzn3gxGtaY', 'changeGraph', 'eyJpZCI6IDY3MCwgInR5cGUiOiAidmVydGV4IiwgInByb3BzIjogeyJzaXplIjogMTIuNTA3MTYzMzIzNzgyMjM1fX0K');</script>\n",
       "    "
      ],
      "text/plain": [
       "<IPython.core.display.HTML object>"
      ]
     },
     "metadata": {},
     "output_type": "display_data"
    },
    {
     "data": {
      "text/html": [
       "\n",
       "        <div id=\"eX6TFCkLbUonTE97rkeNxR\"></div>\n",
       "        <script>netpixi.call('eX6TFCkLbUonTE97rkeNxR', 'K4weoEfgX3kSNzn3gxGtaY', 'changeGraph', 'eyJpZCI6IDY3MSwgInR5cGUiOiAidmVydGV4IiwgInByb3BzIjogeyJzaXplIjogMTIuMjIwNjMwMzcyNDkyODM2fX0K');</script>\n",
       "    "
      ],
      "text/plain": [
       "<IPython.core.display.HTML object>"
      ]
     },
     "metadata": {},
     "output_type": "display_data"
    },
    {
     "data": {
      "text/html": [
       "\n",
       "        <div id=\"Q57hTAoZUnsA9WiobGBGz6\"></div>\n",
       "        <script>netpixi.call('Q57hTAoZUnsA9WiobGBGz6', 'K4weoEfgX3kSNzn3gxGtaY', 'changeGraph', 'eyJpZCI6IDY3MiwgInR5cGUiOiAidmVydGV4IiwgInByb3BzIjogeyJzaXplIjogMTYuNzYyMTc3NjUwNDI5OH19Cg==');</script>\n",
       "    "
      ],
      "text/plain": [
       "<IPython.core.display.HTML object>"
      ]
     },
     "metadata": {},
     "output_type": "display_data"
    },
    {
     "data": {
      "text/html": [
       "\n",
       "        <div id=\"MtyfyV5CBHZ6qU2Y7Jr94x\"></div>\n",
       "        <script>netpixi.call('MtyfyV5CBHZ6qU2Y7Jr94x', 'K4weoEfgX3kSNzn3gxGtaY', 'changeGraph', 'eyJpZCI6IDY3MywgInR5cGUiOiAidmVydGV4IiwgInByb3BzIjogeyJzaXplIjogMTguMzA5NDU1NTg3MzkyNTV9fQo=');</script>\n",
       "    "
      ],
      "text/plain": [
       "<IPython.core.display.HTML object>"
      ]
     },
     "metadata": {},
     "output_type": "display_data"
    },
    {
     "data": {
      "text/html": [
       "\n",
       "        <div id=\"AAfsKKH2fnkFs8Zd7Hg7nH\"></div>\n",
       "        <script>netpixi.call('AAfsKKH2fnkFs8Zd7Hg7nH', 'K4weoEfgX3kSNzn3gxGtaY', 'changeGraph', 'eyJpZCI6IDY3NCwgInR5cGUiOiAidmVydGV4IiwgInByb3BzIjogeyJzaXplIjogMTQuMjI2MzYxMDMxNTE4NjI1fX0K');</script>\n",
       "    "
      ],
      "text/plain": [
       "<IPython.core.display.HTML object>"
      ]
     },
     "metadata": {},
     "output_type": "display_data"
    },
    {
     "data": {
      "text/html": [
       "\n",
       "        <div id=\"XUxjPp7v4LHGcWcfavKn9k\"></div>\n",
       "        <script>netpixi.call('XUxjPp7v4LHGcWcfavKn9k', 'K4weoEfgX3kSNzn3gxGtaY', 'changeGraph', 'eyJpZCI6IDY3NSwgInR5cGUiOiAidmVydGV4IiwgInByb3BzIjogeyJzaXplIjogMTQuODU2NzMzNTI0MzU1M319Cg==');</script>\n",
       "    "
      ],
      "text/plain": [
       "<IPython.core.display.HTML object>"
      ]
     },
     "metadata": {},
     "output_type": "display_data"
    },
    {
     "data": {
      "text/html": [
       "\n",
       "        <div id=\"mSD3zirDCxStWuL88VTC78\"></div>\n",
       "        <script>netpixi.call('mSD3zirDCxStWuL88VTC78', 'K4weoEfgX3kSNzn3gxGtaY', 'changeGraph', 'eyJpZCI6IDY3NiwgInR5cGUiOiAidmVydGV4IiwgInByb3BzIjogeyJzaXplIjogMTUuNzQ0OTg1NjczMzUyNDM1fX0K');</script>\n",
       "    "
      ],
      "text/plain": [
       "<IPython.core.display.HTML object>"
      ]
     },
     "metadata": {},
     "output_type": "display_data"
    },
    {
     "data": {
      "text/html": [
       "\n",
       "        <div id=\"3NtfsZKtedBGr4Ym7q7tDW\"></div>\n",
       "        <script>netpixi.call('3NtfsZKtedBGr4Ym7q7tDW', 'K4weoEfgX3kSNzn3gxGtaY', 'changeGraph', 'eyJpZCI6IDY3NywgInR5cGUiOiAidmVydGV4IiwgInByb3BzIjogeyJzaXplIjogMTYuMDQ1ODQ1MjcyMjA2MzA0fX0K');</script>\n",
       "    "
      ],
      "text/plain": [
       "<IPython.core.display.HTML object>"
      ]
     },
     "metadata": {},
     "output_type": "display_data"
    },
    {
     "data": {
      "text/html": [
       "\n",
       "        <div id=\"LzKdFziHgVxxSDcqekoRZq\"></div>\n",
       "        <script>netpixi.call('LzKdFziHgVxxSDcqekoRZq', 'K4weoEfgX3kSNzn3gxGtaY', 'changeGraph', 'eyJpZCI6IDY3OCwgInR5cGUiOiAidmVydGV4IiwgInByb3BzIjogeyJzaXplIjogMTUuNTU4NzM5MjU1MDE0MzI3fX0K');</script>\n",
       "    "
      ],
      "text/plain": [
       "<IPython.core.display.HTML object>"
      ]
     },
     "metadata": {},
     "output_type": "display_data"
    },
    {
     "data": {
      "text/html": [
       "\n",
       "        <div id=\"nNtFk43KieEx5yREqMz642\"></div>\n",
       "        <script>netpixi.call('nNtFk43KieEx5yREqMz642', 'K4weoEfgX3kSNzn3gxGtaY', 'changeGraph', 'eyJpZCI6IDY3OSwgInR5cGUiOiAidmVydGV4IiwgInByb3BzIjogeyJzaXplIjogMTMuNzI0OTI4MzY2NzYyMTc4fX0K');</script>\n",
       "    "
      ],
      "text/plain": [
       "<IPython.core.display.HTML object>"
      ]
     },
     "metadata": {},
     "output_type": "display_data"
    },
    {
     "data": {
      "text/html": [
       "\n",
       "        <div id=\"f7ZAt4vYP3DaFUtTRaxpLb\"></div>\n",
       "        <script>netpixi.call('f7ZAt4vYP3DaFUtTRaxpLb', 'K4weoEfgX3kSNzn3gxGtaY', 'changeGraph', 'eyJpZCI6IDY4MCwgInR5cGUiOiAidmVydGV4IiwgInByb3BzIjogeyJzaXplIjogMTQuNDEyNjA3NDQ5ODU2NzMzfX0K');</script>\n",
       "    "
      ],
      "text/plain": [
       "<IPython.core.display.HTML object>"
      ]
     },
     "metadata": {},
     "output_type": "display_data"
    },
    {
     "data": {
      "text/html": [
       "\n",
       "        <div id=\"LAgocADou6dMs8mxU9juHj\"></div>\n",
       "        <script>netpixi.call('LAgocADou6dMs8mxU9juHj', 'K4weoEfgX3kSNzn3gxGtaY', 'changeGraph', 'eyJpZCI6IDY4MSwgInR5cGUiOiAidmVydGV4IiwgInByb3BzIjogeyJzaXplIjogMTUuOTQ1NTU4NzM5MjU1MDE1fX0K');</script>\n",
       "    "
      ],
      "text/plain": [
       "<IPython.core.display.HTML object>"
      ]
     },
     "metadata": {},
     "output_type": "display_data"
    },
    {
     "data": {
      "text/html": [
       "\n",
       "        <div id=\"9moTWXQ9ukacHhiwRvimxi\"></div>\n",
       "        <script>netpixi.call('9moTWXQ9ukacHhiwRvimxi', 'K4weoEfgX3kSNzn3gxGtaY', 'changeGraph', 'eyJpZCI6IDY4MiwgInR5cGUiOiAidmVydGV4IiwgInByb3BzIjogeyJzaXplIjogMTMuNTM4NjgxOTQ4NDI0MDY5fX0K');</script>\n",
       "    "
      ],
      "text/plain": [
       "<IPython.core.display.HTML object>"
      ]
     },
     "metadata": {},
     "output_type": "display_data"
    },
    {
     "data": {
      "text/html": [
       "\n",
       "        <div id=\"5vSNpHi9Nf2fUa2SfKnYZY\"></div>\n",
       "        <script>netpixi.call('5vSNpHi9Nf2fUa2SfKnYZY', 'K4weoEfgX3kSNzn3gxGtaY', 'changeGraph', 'eyJpZCI6IDY4MywgInR5cGUiOiAidmVydGV4IiwgInByb3BzIjogeyJzaXplIjogMTYuMzQ2NzA0ODcxMDYwMTcyfX0K');</script>\n",
       "    "
      ],
      "text/plain": [
       "<IPython.core.display.HTML object>"
      ]
     },
     "metadata": {},
     "output_type": "display_data"
    },
    {
     "data": {
      "text/html": [
       "\n",
       "        <div id=\"aAkduXwC35AwdxXtv8taNy\"></div>\n",
       "        <script>netpixi.call('aAkduXwC35AwdxXtv8taNy', 'K4weoEfgX3kSNzn3gxGtaY', 'changeGraph', 'eyJpZCI6IDY4NCwgInR5cGUiOiAidmVydGV4IiwgInByb3BzIjogeyJzaXplIjogMTUuNTg3MzkyNTUwMTQzMjY3fX0K');</script>\n",
       "    "
      ],
      "text/plain": [
       "<IPython.core.display.HTML object>"
      ]
     },
     "metadata": {},
     "output_type": "display_data"
    },
    {
     "data": {
      "text/html": [
       "\n",
       "        <div id=\"fh4Htk7ngdLmZuhyaTRKGY\"></div>\n",
       "        <script>netpixi.call('fh4Htk7ngdLmZuhyaTRKGY', 'K4weoEfgX3kSNzn3gxGtaY', 'changeGraph', 'eyJpZCI6IDY4NSwgInR5cGUiOiAidmVydGV4IiwgInByb3BzIjogeyJzaXplIjogMTMuMTIzMjA5MTY5MDU0NDR9fQo=');</script>\n",
       "    "
      ],
      "text/plain": [
       "<IPython.core.display.HTML object>"
      ]
     },
     "metadata": {},
     "output_type": "display_data"
    },
    {
     "data": {
      "text/html": [
       "\n",
       "        <div id=\"M77ov8TVnG2N8dMNRfVrcc\"></div>\n",
       "        <script>netpixi.call('M77ov8TVnG2N8dMNRfVrcc', 'K4weoEfgX3kSNzn3gxGtaY', 'changeGraph', 'eyJpZCI6IDY4NiwgInR5cGUiOiAidmVydGV4IiwgInByb3BzIjogeyJzaXplIjogMTYuMTAzMTUxODYyNDY0MTg0fX0K');</script>\n",
       "    "
      ],
      "text/plain": [
       "<IPython.core.display.HTML object>"
      ]
     },
     "metadata": {},
     "output_type": "display_data"
    },
    {
     "data": {
      "text/html": [
       "\n",
       "        <div id=\"SirgeiRuaYh8BZtVsZttvQ\"></div>\n",
       "        <script>netpixi.call('SirgeiRuaYh8BZtVsZttvQ', 'K4weoEfgX3kSNzn3gxGtaY', 'changeGraph', 'eyJpZCI6IDY4NywgInR5cGUiOiAidmVydGV4IiwgInByb3BzIjogeyJzaXplIjogMTUuODU5NTk4ODUzODY4MTk0fX0K');</script>\n",
       "    "
      ],
      "text/plain": [
       "<IPython.core.display.HTML object>"
      ]
     },
     "metadata": {},
     "output_type": "display_data"
    },
    {
     "data": {
      "text/html": [
       "\n",
       "        <div id=\"hHUNL7aqPR4Pj8ULJAv6yj\"></div>\n",
       "        <script>netpixi.call('hHUNL7aqPR4Pj8ULJAv6yj', 'K4weoEfgX3kSNzn3gxGtaY', 'changeGraph', 'eyJpZCI6IDY4OCwgInR5cGUiOiAidmVydGV4IiwgInByb3BzIjogeyJzaXplIjogMTQuOTU3MDIwMDU3MzA2NTl9fQo=');</script>\n",
       "    "
      ],
      "text/plain": [
       "<IPython.core.display.HTML object>"
      ]
     },
     "metadata": {},
     "output_type": "display_data"
    },
    {
     "data": {
      "text/html": [
       "\n",
       "        <div id=\"JNPHdQCXtNjdiUD7jpBbcu\"></div>\n",
       "        <script>netpixi.call('JNPHdQCXtNjdiUD7jpBbcu', 'K4weoEfgX3kSNzn3gxGtaY', 'changeGraph', 'eyJpZCI6IDY4OSwgInR5cGUiOiAidmVydGV4IiwgInByb3BzIjogeyJzaXplIjogMTQuNjcwNDg3MTA2MDE3MTkxfX0K');</script>\n",
       "    "
      ],
      "text/plain": [
       "<IPython.core.display.HTML object>"
      ]
     },
     "metadata": {},
     "output_type": "display_data"
    },
    {
     "data": {
      "text/html": [
       "\n",
       "        <div id=\"RktEFAc73tejyf9HaD7yHw\"></div>\n",
       "        <script>netpixi.call('RktEFAc73tejyf9HaD7yHw', 'K4weoEfgX3kSNzn3gxGtaY', 'changeGraph', 'eyJpZCI6IDY5MCwgInR5cGUiOiAidmVydGV4IiwgInByb3BzIjogeyJzaXplIjogMTMuODUzODY4MTk0ODQyNDA3fX0K');</script>\n",
       "    "
      ],
      "text/plain": [
       "<IPython.core.display.HTML object>"
      ]
     },
     "metadata": {},
     "output_type": "display_data"
    },
    {
     "data": {
      "text/html": [
       "\n",
       "        <div id=\"iDYVcEUmvgAL2McVtLgp3o\"></div>\n",
       "        <script>netpixi.call('iDYVcEUmvgAL2McVtLgp3o', 'K4weoEfgX3kSNzn3gxGtaY', 'changeGraph', 'eyJpZCI6IDY5MSwgInR5cGUiOiAidmVydGV4IiwgInByb3BzIjogeyJzaXplIjogMTcuNjA3NDQ5ODU2NzMzNTI0fX0K');</script>\n",
       "    "
      ],
      "text/plain": [
       "<IPython.core.display.HTML object>"
      ]
     },
     "metadata": {},
     "output_type": "display_data"
    },
    {
     "data": {
      "text/html": [
       "\n",
       "        <div id=\"BsWxCHEuh4fbcsV7ACsDh9\"></div>\n",
       "        <script>netpixi.call('BsWxCHEuh4fbcsV7ACsDh9', 'K4weoEfgX3kSNzn3gxGtaY', 'changeGraph', 'eyJpZCI6IDY5MiwgInR5cGUiOiAidmVydGV4IiwgInByb3BzIjogeyJzaXplIjogMTMuNjgxOTQ4NDI0MDY4NzY4fX0K');</script>\n",
       "    "
      ],
      "text/plain": [
       "<IPython.core.display.HTML object>"
      ]
     },
     "metadata": {},
     "output_type": "display_data"
    },
    {
     "data": {
      "text/html": [
       "\n",
       "        <div id=\"oVtunGqtwiFvW3SA4mCprh\"></div>\n",
       "        <script>netpixi.call('oVtunGqtwiFvW3SA4mCprh', 'K4weoEfgX3kSNzn3gxGtaY', 'changeGraph', 'eyJpZCI6IDY5MywgInR5cGUiOiAidmVydGV4IiwgInByb3BzIjogeyJzaXplIjogMTIuODc5NjU2MTYwNDU4NDUzfX0K');</script>\n",
       "    "
      ],
      "text/plain": [
       "<IPython.core.display.HTML object>"
      ]
     },
     "metadata": {},
     "output_type": "display_data"
    },
    {
     "data": {
      "text/html": [
       "\n",
       "        <div id=\"KU29YPJftg57WLcdvun99H\"></div>\n",
       "        <script>netpixi.call('KU29YPJftg57WLcdvun99H', 'K4weoEfgX3kSNzn3gxGtaY', 'changeGraph', 'eyJpZCI6IDY5NCwgInR5cGUiOiAidmVydGV4IiwgInByb3BzIjogeyJzaXplIjogMTMuMzk1NDE1NDcyNzc5Mzd9fQo=');</script>\n",
       "    "
      ],
      "text/plain": [
       "<IPython.core.display.HTML object>"
      ]
     },
     "metadata": {},
     "output_type": "display_data"
    },
    {
     "data": {
      "text/html": [
       "\n",
       "        <div id=\"AQs2mGMFaPWcZffkWfXfic\"></div>\n",
       "        <script>netpixi.call('AQs2mGMFaPWcZffkWfXfic', 'K4weoEfgX3kSNzn3gxGtaY', 'changeGraph', 'eyJpZCI6IDY5NSwgInR5cGUiOiAidmVydGV4IiwgInByb3BzIjogeyJzaXplIjogMTQuMTQwNDAxMTQ2MTMxODA0fX0K');</script>\n",
       "    "
      ],
      "text/plain": [
       "<IPython.core.display.HTML object>"
      ]
     },
     "metadata": {},
     "output_type": "display_data"
    },
    {
     "data": {
      "text/html": [
       "\n",
       "        <div id=\"JiCqKxDte8Ytud3PkAwvPV\"></div>\n",
       "        <script>netpixi.call('JiCqKxDte8Ytud3PkAwvPV', 'K4weoEfgX3kSNzn3gxGtaY', 'changeGraph', 'eyJpZCI6IDY5NiwgInR5cGUiOiAidmVydGV4IiwgInByb3BzIjogeyJzaXplIjogMTIuOTY1NjE2MDQ1ODQ1MjczfX0K');</script>\n",
       "    "
      ],
      "text/plain": [
       "<IPython.core.display.HTML object>"
      ]
     },
     "metadata": {},
     "output_type": "display_data"
    },
    {
     "data": {
      "text/html": [
       "\n",
       "        <div id=\"M6qc5XN9RtUrA4HGxcXanW\"></div>\n",
       "        <script>netpixi.call('M6qc5XN9RtUrA4HGxcXanW', 'K4weoEfgX3kSNzn3gxGtaY', 'changeGraph', 'eyJpZCI6IDY5NywgInR5cGUiOiAidmVydGV4IiwgInByb3BzIjogeyJzaXplIjogMTUuMzAwODU5NTk4ODUzODY5fX0K');</script>\n",
       "    "
      ],
      "text/plain": [
       "<IPython.core.display.HTML object>"
      ]
     },
     "metadata": {},
     "output_type": "display_data"
    },
    {
     "data": {
      "text/html": [
       "\n",
       "        <div id=\"BQt7D4UTrFwFgyPW9swi7L\"></div>\n",
       "        <script>netpixi.call('BQt7D4UTrFwFgyPW9swi7L', 'K4weoEfgX3kSNzn3gxGtaY', 'changeGraph', 'eyJpZCI6IDY5OCwgInR5cGUiOiAidmVydGV4IiwgInByb3BzIjogeyJzaXplIjogMTMuNTgxNjYxODkxMTE3NDc5fX0K');</script>\n",
       "    "
      ],
      "text/plain": [
       "<IPython.core.display.HTML object>"
      ]
     },
     "metadata": {},
     "output_type": "display_data"
    },
    {
     "data": {
      "text/html": [
       "\n",
       "        <div id=\"msoxveGDkbvLKBavTUWASt\"></div>\n",
       "        <script>netpixi.call('msoxveGDkbvLKBavTUWASt', 'K4weoEfgX3kSNzn3gxGtaY', 'changeGraph', 'eyJpZCI6IDY5OSwgInR5cGUiOiAidmVydGV4IiwgInByb3BzIjogeyJzaXplIjogMTAuNzMwNjU5MDI1Nzg3OTY1fX0K');</script>\n",
       "    "
      ],
      "text/plain": [
       "<IPython.core.display.HTML object>"
      ]
     },
     "metadata": {},
     "output_type": "display_data"
    },
    {
     "data": {
      "text/html": [
       "\n",
       "        <div id=\"o4c5TvxzwyGZxDCViPzBZT\"></div>\n",
       "        <script>netpixi.call('o4c5TvxzwyGZxDCViPzBZT', 'K4weoEfgX3kSNzn3gxGtaY', 'changeGraph', 'eyJpZCI6IDcwMCwgInR5cGUiOiAidmVydGV4IiwgInByb3BzIjogeyJzaXplIjogMTAuODMwOTQ1NTU4NzM5MjU2fX0K');</script>\n",
       "    "
      ],
      "text/plain": [
       "<IPython.core.display.HTML object>"
      ]
     },
     "metadata": {},
     "output_type": "display_data"
    },
    {
     "data": {
      "text/html": [
       "\n",
       "        <div id=\"gWZ8WKE5Hq9YRv6jZmC42t\"></div>\n",
       "        <script>netpixi.call('gWZ8WKE5Hq9YRv6jZmC42t', 'K4weoEfgX3kSNzn3gxGtaY', 'changeGraph', 'eyJpZCI6IDcwMSwgInR5cGUiOiAidmVydGV4IiwgInByb3BzIjogeyJzaXplIjogMTUuMjg2NTMyOTUxMjg5Mzk5fX0K');</script>\n",
       "    "
      ],
      "text/plain": [
       "<IPython.core.display.HTML object>"
      ]
     },
     "metadata": {},
     "output_type": "display_data"
    },
    {
     "data": {
      "text/html": [
       "\n",
       "        <div id=\"Y6zUtDoBfujJfWZtkZC8YT\"></div>\n",
       "        <script>netpixi.call('Y6zUtDoBfujJfWZtkZC8YT', 'K4weoEfgX3kSNzn3gxGtaY', 'changeGraph', 'eyJpZCI6IDcwMiwgInR5cGUiOiAidmVydGV4IiwgInByb3BzIjogeyJzaXplIjogMTIuNTkzMTIzMjA5MTY5MDU0fX0K');</script>\n",
       "    "
      ],
      "text/plain": [
       "<IPython.core.display.HTML object>"
      ]
     },
     "metadata": {},
     "output_type": "display_data"
    },
    {
     "data": {
      "text/html": [
       "\n",
       "        <div id=\"NnQ7WMCpQRRUcDb2kC3GLh\"></div>\n",
       "        <script>netpixi.call('NnQ7WMCpQRRUcDb2kC3GLh', 'K4weoEfgX3kSNzn3gxGtaY', 'changeGraph', 'eyJpZCI6IDcwMywgInR5cGUiOiAidmVydGV4IiwgInByb3BzIjogeyJzaXplIjogMTUuMzcyNDkyODM2Njc2MjJ9fQo=');</script>\n",
       "    "
      ],
      "text/plain": [
       "<IPython.core.display.HTML object>"
      ]
     },
     "metadata": {},
     "output_type": "display_data"
    },
    {
     "data": {
      "text/html": [
       "\n",
       "        <div id=\"NvoQ4397Zetbw32D9hVfY8\"></div>\n",
       "        <script>netpixi.call('NvoQ4397Zetbw32D9hVfY8', 'K4weoEfgX3kSNzn3gxGtaY', 'changeGraph', 'eyJpZCI6IDcwNCwgInR5cGUiOiAidmVydGV4IiwgInByb3BzIjogeyJzaXplIjogMTYuOTYyNzUwNzE2MzMyMzh9fQo=');</script>\n",
       "    "
      ],
      "text/plain": [
       "<IPython.core.display.HTML object>"
      ]
     },
     "metadata": {},
     "output_type": "display_data"
    },
    {
     "data": {
      "text/html": [
       "\n",
       "        <div id=\"9wBKLhMBGYZH8jzYgWEiM7\"></div>\n",
       "        <script>netpixi.call('9wBKLhMBGYZH8jzYgWEiM7', 'K4weoEfgX3kSNzn3gxGtaY', 'changeGraph', 'eyJpZCI6IDcwNSwgInR5cGUiOiAidmVydGV4IiwgInByb3BzIjogeyJzaXplIjogMTMuMDA4NTk1OTg4NTM4NjgyfX0K');</script>\n",
       "    "
      ],
      "text/plain": [
       "<IPython.core.display.HTML object>"
      ]
     },
     "metadata": {},
     "output_type": "display_data"
    },
    {
     "data": {
      "text/html": [
       "\n",
       "        <div id=\"dzST3M2EP8SoUJm9LNVRBd\"></div>\n",
       "        <script>netpixi.call('dzST3M2EP8SoUJm9LNVRBd', 'K4weoEfgX3kSNzn3gxGtaY', 'changeGraph', 'eyJpZCI6IDcwNiwgInR5cGUiOiAidmVydGV4IiwgInByb3BzIjogeyJzaXplIjogMTMuNDM4Mzk1NDE1NDcyNzh9fQo=');</script>\n",
       "    "
      ],
      "text/plain": [
       "<IPython.core.display.HTML object>"
      ]
     },
     "metadata": {},
     "output_type": "display_data"
    },
    {
     "data": {
      "text/html": [
       "\n",
       "        <div id=\"NgyBybzaGpbASm6HQe37T6\"></div>\n",
       "        <script>netpixi.call('NgyBybzaGpbASm6HQe37T6', 'K4weoEfgX3kSNzn3gxGtaY', 'changeGraph', 'eyJpZCI6IDcwNywgInR5cGUiOiAidmVydGV4IiwgInByb3BzIjogeyJzaXplIjogMTMuNTY3MzM1MjQzNTUzMDA5fX0K');</script>\n",
       "    "
      ],
      "text/plain": [
       "<IPython.core.display.HTML object>"
      ]
     },
     "metadata": {},
     "output_type": "display_data"
    },
    {
     "data": {
      "text/html": [
       "\n",
       "        <div id=\"8W72iCGpQWYrHSnaMTiSGT\"></div>\n",
       "        <script>netpixi.call('8W72iCGpQWYrHSnaMTiSGT', 'K4weoEfgX3kSNzn3gxGtaY', 'changeGraph', 'eyJpZCI6IDcwOCwgInR5cGUiOiAidmVydGV4IiwgInByb3BzIjogeyJzaXplIjogMTIuOTA4MzA5NDU1NTg3MzkzfX0K');</script>\n",
       "    "
      ],
      "text/plain": [
       "<IPython.core.display.HTML object>"
      ]
     },
     "metadata": {},
     "output_type": "display_data"
    },
    {
     "data": {
      "text/html": [
       "\n",
       "        <div id=\"hhKdGsSjsqqNy86k79Fujj\"></div>\n",
       "        <script>netpixi.call('hhKdGsSjsqqNy86k79Fujj', 'K4weoEfgX3kSNzn3gxGtaY', 'changeGraph', 'eyJpZCI6IDcwOSwgInR5cGUiOiAidmVydGV4IiwgInByb3BzIjogeyJzaXplIjogMTUuNTE1NzU5MzEyMzIwOTE3fX0K');</script>\n",
       "    "
      ],
      "text/plain": [
       "<IPython.core.display.HTML object>"
      ]
     },
     "metadata": {},
     "output_type": "display_data"
    },
    {
     "data": {
      "text/html": [
       "\n",
       "        <div id=\"Ck749KrRnHDpQukU8VuKXx\"></div>\n",
       "        <script>netpixi.call('Ck749KrRnHDpQukU8VuKXx', 'K4weoEfgX3kSNzn3gxGtaY', 'changeGraph', 'eyJpZCI6IDcxMCwgInR5cGUiOiAidmVydGV4IiwgInByb3BzIjogeyJzaXplIjogMTQuMTk3NzA3NzM2Mzg5Njg1fX0K');</script>\n",
       "    "
      ],
      "text/plain": [
       "<IPython.core.display.HTML object>"
      ]
     },
     "metadata": {},
     "output_type": "display_data"
    },
    {
     "data": {
      "text/html": [
       "\n",
       "        <div id=\"WnfHgeEvSj5SeUj9LQgTGN\"></div>\n",
       "        <script>netpixi.call('WnfHgeEvSj5SeUj9LQgTGN', 'K4weoEfgX3kSNzn3gxGtaY', 'changeGraph', 'eyJpZCI6IDcxMSwgInR5cGUiOiAidmVydGV4IiwgInByb3BzIjogeyJzaXplIjogMTAuNTE1NzU5MzEyMzIwOTE3fX0K');</script>\n",
       "    "
      ],
      "text/plain": [
       "<IPython.core.display.HTML object>"
      ]
     },
     "metadata": {},
     "output_type": "display_data"
    },
    {
     "data": {
      "text/html": [
       "\n",
       "        <div id=\"45jcnPcfHE9cYYBZjBYbiZ\"></div>\n",
       "        <script>netpixi.call('45jcnPcfHE9cYYBZjBYbiZ', 'K4weoEfgX3kSNzn3gxGtaY', 'changeGraph', 'eyJpZCI6IDcxMiwgInR5cGUiOiAidmVydGV4IiwgInByb3BzIjogeyJzaXplIjogMTEuODkxMTE3NDc4NTEwMDN9fQo=');</script>\n",
       "    "
      ],
      "text/plain": [
       "<IPython.core.display.HTML object>"
      ]
     },
     "metadata": {},
     "output_type": "display_data"
    },
    {
     "data": {
      "text/html": [
       "\n",
       "        <div id=\"X7wrCZZdCDEGZHc4tKD5Mi\"></div>\n",
       "        <script>netpixi.call('X7wrCZZdCDEGZHc4tKD5Mi', 'K4weoEfgX3kSNzn3gxGtaY', 'changeGraph', 'eyJpZCI6IDcxMywgInR5cGUiOiAidmVydGV4IiwgInByb3BzIjogeyJzaXplIjogMTAuMjg2NTMyOTUxMjg5Mzk5fX0K');</script>\n",
       "    "
      ],
      "text/plain": [
       "<IPython.core.display.HTML object>"
      ]
     },
     "metadata": {},
     "output_type": "display_data"
    },
    {
     "data": {
      "text/html": [
       "\n",
       "        <div id=\"897LZ9sXNGfsGpPuG4evzC\"></div>\n",
       "        <script>netpixi.call('897LZ9sXNGfsGpPuG4evzC', 'K4weoEfgX3kSNzn3gxGtaY', 'changeGraph', 'eyJpZCI6IDcxNCwgInR5cGUiOiAidmVydGV4IiwgInByb3BzIjogeyJzaXplIjogMTMuMjY2NDc1NjQ0Njk5MTR9fQo=');</script>\n",
       "    "
      ],
      "text/plain": [
       "<IPython.core.display.HTML object>"
      ]
     },
     "metadata": {},
     "output_type": "display_data"
    },
    {
     "data": {
      "text/html": [
       "\n",
       "        <div id=\"AhpbRuK5crcvQ5fKrTGzi7\"></div>\n",
       "        <script>netpixi.call('AhpbRuK5crcvQ5fKrTGzi7', 'K4weoEfgX3kSNzn3gxGtaY', 'changeGraph', 'eyJpZCI6IDcxNSwgInR5cGUiOiAidmVydGV4IiwgInByb3BzIjogeyJzaXplIjogMTIuNTUwMTQzMjY2NDc1NjQ0fX0K');</script>\n",
       "    "
      ],
      "text/plain": [
       "<IPython.core.display.HTML object>"
      ]
     },
     "metadata": {},
     "output_type": "display_data"
    },
    {
     "data": {
      "text/html": [
       "\n",
       "        <div id=\"nwsZCXszFHSKyNKBJtL9zq\"></div>\n",
       "        <script>netpixi.call('nwsZCXszFHSKyNKBJtL9zq', 'K4weoEfgX3kSNzn3gxGtaY', 'changeGraph', 'eyJpZCI6IDcxNiwgInR5cGUiOiAidmVydGV4IiwgInByb3BzIjogeyJzaXplIjogMTIuMjc3OTM2OTYyNzUwNzE1fX0K');</script>\n",
       "    "
      ],
      "text/plain": [
       "<IPython.core.display.HTML object>"
      ]
     },
     "metadata": {},
     "output_type": "display_data"
    },
    {
     "data": {
      "text/html": [
       "\n",
       "        <div id=\"iz9szEeLtBhHMhKHi3q4Ja\"></div>\n",
       "        <script>netpixi.call('iz9szEeLtBhHMhKHi3q4Ja', 'K4weoEfgX3kSNzn3gxGtaY', 'changeGraph', 'eyJpZCI6IDcxNywgInR5cGUiOiAidmVydGV4IiwgInByb3BzIjogeyJzaXplIjogMTMuNTI0MzU1MzAwODU5NTk4fX0K');</script>\n",
       "    "
      ],
      "text/plain": [
       "<IPython.core.display.HTML object>"
      ]
     },
     "metadata": {},
     "output_type": "display_data"
    },
    {
     "data": {
      "text/html": [
       "\n",
       "        <div id=\"GqPGnhqgzQEkWBvdjRKjDW\"></div>\n",
       "        <script>netpixi.call('GqPGnhqgzQEkWBvdjRKjDW', 'K4weoEfgX3kSNzn3gxGtaY', 'changeGraph', 'eyJpZCI6IDcxOCwgInR5cGUiOiAidmVydGV4IiwgInByb3BzIjogeyJzaXplIjogMTQuNjQxODMzODEwODg4MjV9fQo=');</script>\n",
       "    "
      ],
      "text/plain": [
       "<IPython.core.display.HTML object>"
      ]
     },
     "metadata": {},
     "output_type": "display_data"
    },
    {
     "data": {
      "text/html": [
       "\n",
       "        <div id=\"aAzoN3NjDrdYKFAT2bF4UP\"></div>\n",
       "        <script>netpixi.call('aAzoN3NjDrdYKFAT2bF4UP', 'K4weoEfgX3kSNzn3gxGtaY', 'changeGraph', 'eyJpZCI6IDcxOSwgInR5cGUiOiAidmVydGV4IiwgInByb3BzIjogeyJzaXplIjogMTEuNjYxODkxMTE3NDc4NTF9fQo=');</script>\n",
       "    "
      ],
      "text/plain": [
       "<IPython.core.display.HTML object>"
      ]
     },
     "metadata": {},
     "output_type": "display_data"
    },
    {
     "data": {
      "text/html": [
       "\n",
       "        <div id=\"BhGEwpnzdbQTDPvoZ4E2BB\"></div>\n",
       "        <script>netpixi.call('BhGEwpnzdbQTDPvoZ4E2BB', 'K4weoEfgX3kSNzn3gxGtaY', 'changeGraph', 'eyJpZCI6IDcyMCwgInR5cGUiOiAidmVydGV4IiwgInByb3BzIjogeyJzaXplIjogMTAuOTE2OTA1NDQ0MTI2MDc0fX0K');</script>\n",
       "    "
      ],
      "text/plain": [
       "<IPython.core.display.HTML object>"
      ]
     },
     "metadata": {},
     "output_type": "display_data"
    },
    {
     "data": {
      "text/html": [
       "\n",
       "        <div id=\"KhZ59EF8xgYGtDcGMs7CKU\"></div>\n",
       "        <script>netpixi.call('KhZ59EF8xgYGtDcGMs7CKU', 'K4weoEfgX3kSNzn3gxGtaY', 'changeGraph', 'eyJpZCI6IDcyMSwgInR5cGUiOiAidmVydGV4IiwgInByb3BzIjogeyJzaXplIjogMTUuODMwOTQ1NTU4NzM5MjU2fX0K');</script>\n",
       "    "
      ],
      "text/plain": [
       "<IPython.core.display.HTML object>"
      ]
     },
     "metadata": {},
     "output_type": "display_data"
    },
    {
     "data": {
      "text/html": [
       "\n",
       "        <div id=\"8nWHBczwcGLaPx4F9NWGWb\"></div>\n",
       "        <script>netpixi.call('8nWHBczwcGLaPx4F9NWGWb', 'K4weoEfgX3kSNzn3gxGtaY', 'changeGraph', 'eyJpZCI6IDcyMiwgInR5cGUiOiAidmVydGV4IiwgInByb3BzIjogeyJzaXplIjogMTEuNzYyMTc3NjUwNDI5Nzk4fX0K');</script>\n",
       "    "
      ],
      "text/plain": [
       "<IPython.core.display.HTML object>"
      ]
     },
     "metadata": {},
     "output_type": "display_data"
    },
    {
     "data": {
      "text/html": [
       "\n",
       "        <div id=\"Vii3HjB8sCQvAn3KEBvHBy\"></div>\n",
       "        <script>netpixi.call('Vii3HjB8sCQvAn3KEBvHBy', 'K4weoEfgX3kSNzn3gxGtaY', 'changeGraph', 'eyJpZCI6IDcyMywgInR5cGUiOiAidmVydGV4IiwgInByb3BzIjogeyJzaXplIjogMTMuMTM3NTM1ODE2NjE4OTExfX0K');</script>\n",
       "    "
      ],
      "text/plain": [
       "<IPython.core.display.HTML object>"
      ]
     },
     "metadata": {},
     "output_type": "display_data"
    },
    {
     "data": {
      "text/html": [
       "\n",
       "        <div id=\"KY55gutnNKkRTpoyFKDwFx\"></div>\n",
       "        <script>netpixi.call('KY55gutnNKkRTpoyFKDwFx', 'K4weoEfgX3kSNzn3gxGtaY', 'changeGraph', 'eyJpZCI6IDcyNCwgInR5cGUiOiAidmVydGV4IiwgInByb3BzIjogeyJzaXplIjogMTEuOTQ4NDI0MDY4NzY3OTA4fX0K');</script>\n",
       "    "
      ],
      "text/plain": [
       "<IPython.core.display.HTML object>"
      ]
     },
     "metadata": {},
     "output_type": "display_data"
    },
    {
     "data": {
      "text/html": [
       "\n",
       "        <div id=\"3DS5uPqUXcS2X5cJkw2y3m\"></div>\n",
       "        <script>netpixi.call('3DS5uPqUXcS2X5cJkw2y3m', 'K4weoEfgX3kSNzn3gxGtaY', 'changeGraph', 'eyJpZCI6IDcyNSwgInR5cGUiOiAidmVydGV4IiwgInByb3BzIjogeyJzaXplIjogMTAuNjQ0Njk5MTQwNDAxMTQ2fX0K');</script>\n",
       "    "
      ],
      "text/plain": [
       "<IPython.core.display.HTML object>"
      ]
     },
     "metadata": {},
     "output_type": "display_data"
    },
    {
     "data": {
      "text/html": [
       "\n",
       "        <div id=\"mXzGAtathcGhpVKcEQGnHC\"></div>\n",
       "        <script>netpixi.call('mXzGAtathcGhpVKcEQGnHC', 'K4weoEfgX3kSNzn3gxGtaY', 'changeGraph', 'eyJpZCI6IDcyNiwgInR5cGUiOiAidmVydGV4IiwgInByb3BzIjogeyJzaXplIjogMTIuMzYzODk2ODQ4MTM3NTM2fX0K');</script>\n",
       "    "
      ],
      "text/plain": [
       "<IPython.core.display.HTML object>"
      ]
     },
     "metadata": {},
     "output_type": "display_data"
    },
    {
     "data": {
      "text/html": [
       "\n",
       "        <div id=\"W9fhu5XcmBtQqDArNrdqmD\"></div>\n",
       "        <script>netpixi.call('W9fhu5XcmBtQqDArNrdqmD', 'K4weoEfgX3kSNzn3gxGtaY', 'changeGraph', 'eyJpZCI6IDcyNywgInR5cGUiOiAidmVydGV4IiwgInByb3BzIjogeyJzaXplIjogMTIuMTQ4OTk3MTM0NjcwNDg4fX0K');</script>\n",
       "    "
      ],
      "text/plain": [
       "<IPython.core.display.HTML object>"
      ]
     },
     "metadata": {},
     "output_type": "display_data"
    },
    {
     "data": {
      "text/html": [
       "\n",
       "        <div id=\"mdfmUUw2cV8cUzdsVWcz3r\"></div>\n",
       "        <script>netpixi.call('mdfmUUw2cV8cUzdsVWcz3r', 'K4weoEfgX3kSNzn3gxGtaY', 'changeGraph', 'eyJpZCI6IDcyOCwgInR5cGUiOiAidmVydGV4IiwgInByb3BzIjogeyJzaXplIjogMTEuMTMxODA1MTU3NTkzMTIzfX0K');</script>\n",
       "    "
      ],
      "text/plain": [
       "<IPython.core.display.HTML object>"
      ]
     },
     "metadata": {},
     "output_type": "display_data"
    },
    {
     "data": {
      "text/html": [
       "\n",
       "        <div id=\"4YAu94gfHm6DHZhgyD5wSq\"></div>\n",
       "        <script>netpixi.call('4YAu94gfHm6DHZhgyD5wSq', 'K4weoEfgX3kSNzn3gxGtaY', 'changeGraph', 'eyJpZCI6IDcyOSwgInR5cGUiOiAidmVydGV4IiwgInByb3BzIjogeyJzaXplIjogMTAuNjMwMzcyNDkyODM2Njc2fX0K');</script>\n",
       "    "
      ],
      "text/plain": [
       "<IPython.core.display.HTML object>"
      ]
     },
     "metadata": {},
     "output_type": "display_data"
    },
    {
     "data": {
      "text/html": [
       "\n",
       "        <div id=\"6DA7FeKvpPduGLcMVjCMgv\"></div>\n",
       "        <script>netpixi.call('6DA7FeKvpPduGLcMVjCMgv', 'K4weoEfgX3kSNzn3gxGtaY', 'changeGraph', 'eyJpZCI6IDczMCwgInR5cGUiOiAidmVydGV4IiwgInByb3BzIjogeyJzaXplIjogMTAuOTU5ODg1Mzg2ODE5NDg1fX0K');</script>\n",
       "    "
      ],
      "text/plain": [
       "<IPython.core.display.HTML object>"
      ]
     },
     "metadata": {},
     "output_type": "display_data"
    },
    {
     "data": {
      "text/html": [
       "\n",
       "        <div id=\"d5mt2DFU6WXCUHV4UgCNib\"></div>\n",
       "        <script>netpixi.call('d5mt2DFU6WXCUHV4UgCNib', 'K4weoEfgX3kSNzn3gxGtaY', 'changeGraph', 'eyJpZCI6IDczMSwgInR5cGUiOiAidmVydGV4IiwgInByb3BzIjogeyJzaXplIjogMTIuNjY0NzU2NDQ2OTkxNDA0fX0K');</script>\n",
       "    "
      ],
      "text/plain": [
       "<IPython.core.display.HTML object>"
      ]
     },
     "metadata": {},
     "output_type": "display_data"
    },
    {
     "data": {
      "text/html": [
       "\n",
       "        <div id=\"UhcTDT4nXPAnctDXBxkw86\"></div>\n",
       "        <script>netpixi.call('UhcTDT4nXPAnctDXBxkw86', 'K4weoEfgX3kSNzn3gxGtaY', 'changeGraph', 'eyJpZCI6IDczMiwgInR5cGUiOiAidmVydGV4IiwgInByb3BzIjogeyJzaXplIjogMTAuNjU5MDI1Nzg3OTY1NjE2fX0K');</script>\n",
       "    "
      ],
      "text/plain": [
       "<IPython.core.display.HTML object>"
      ]
     },
     "metadata": {},
     "output_type": "display_data"
    },
    {
     "data": {
      "text/html": [
       "\n",
       "        <div id=\"gY6V4EbpNQb5DWgEZTn87T\"></div>\n",
       "        <script>netpixi.call('gY6V4EbpNQb5DWgEZTn87T', 'K4weoEfgX3kSNzn3gxGtaY', 'changeGraph', 'eyJpZCI6IDczMywgInR5cGUiOiAidmVydGV4IiwgInByb3BzIjogeyJzaXplIjogMTAuNzAyMDA1NzMwNjU5MDI2fX0K');</script>\n",
       "    "
      ],
      "text/plain": [
       "<IPython.core.display.HTML object>"
      ]
     },
     "metadata": {},
     "output_type": "display_data"
    },
    {
     "data": {
      "text/html": [
       "\n",
       "        <div id=\"aWGPemYct8JkVjSj6fiUup\"></div>\n",
       "        <script>netpixi.call('aWGPemYct8JkVjSj6fiUup', 'K4weoEfgX3kSNzn3gxGtaY', 'changeGraph', 'eyJpZCI6IDczNCwgInR5cGUiOiAidmVydGV4IiwgInByb3BzIjogeyJzaXplIjogMTEuNTkwMjU3ODc5NjU2MTZ9fQo=');</script>\n",
       "    "
      ],
      "text/plain": [
       "<IPython.core.display.HTML object>"
      ]
     },
     "metadata": {},
     "output_type": "display_data"
    },
    {
     "data": {
      "text/html": [
       "\n",
       "        <div id=\"KfxFqyTMyNGoznjTcLCCqb\"></div>\n",
       "        <script>netpixi.call('KfxFqyTMyNGoznjTcLCCqb', 'K4weoEfgX3kSNzn3gxGtaY', 'changeGraph', 'eyJpZCI6IDczNSwgInR5cGUiOiAidmVydGV4IiwgInByb3BzIjogeyJzaXplIjogMTAuNDE1NDcyNzc5MzY5NjI4fX0K');</script>\n",
       "    "
      ],
      "text/plain": [
       "<IPython.core.display.HTML object>"
      ]
     },
     "metadata": {},
     "output_type": "display_data"
    },
    {
     "data": {
      "text/html": [
       "\n",
       "        <div id=\"XRRnBcN8dy3PM2dZybiLRP\"></div>\n",
       "        <script>netpixi.call('XRRnBcN8dy3PM2dZybiLRP', 'K4weoEfgX3kSNzn3gxGtaY', 'changeGraph', 'eyJpZCI6IDczNiwgInR5cGUiOiAidmVydGV4IiwgInByb3BzIjogeyJzaXplIjogMTIuMTM0NjcwNDg3MTA2MDE4fX0K');</script>\n",
       "    "
      ],
      "text/plain": [
       "<IPython.core.display.HTML object>"
      ]
     },
     "metadata": {},
     "output_type": "display_data"
    },
    {
     "data": {
      "text/html": [
       "\n",
       "        <div id=\"C2XkSGj8cfdQhUWU6fuWmX\"></div>\n",
       "        <script>netpixi.call('C2XkSGj8cfdQhUWU6fuWmX', 'K4weoEfgX3kSNzn3gxGtaY', 'changeGraph', 'eyJpZCI6IDczNywgInR5cGUiOiAidmVydGV4IiwgInByb3BzIjogeyJzaXplIjogMTQuMDk3NDIxMjAzNDM4Mzk2fX0K');</script>\n",
       "    "
      ],
      "text/plain": [
       "<IPython.core.display.HTML object>"
      ]
     },
     "metadata": {},
     "output_type": "display_data"
    },
    {
     "data": {
      "text/html": [
       "\n",
       "        <div id=\"YXQ5j3kU6B7mGwCQEh9NoV\"></div>\n",
       "        <script>netpixi.call('YXQ5j3kU6B7mGwCQEh9NoV', 'K4weoEfgX3kSNzn3gxGtaY', 'changeGraph', 'eyJpZCI6IDczOCwgInR5cGUiOiAidmVydGV4IiwgInByb3BzIjogeyJzaXplIjogMTAuODQ1MjcyMjA2MzAzNzI2fX0K');</script>\n",
       "    "
      ],
      "text/plain": [
       "<IPython.core.display.HTML object>"
      ]
     },
     "metadata": {},
     "output_type": "display_data"
    },
    {
     "data": {
      "text/html": [
       "\n",
       "        <div id=\"RznqNNRja35Vnu58SV7nFf\"></div>\n",
       "        <script>netpixi.call('RznqNNRja35Vnu58SV7nFf', 'K4weoEfgX3kSNzn3gxGtaY', 'changeGraph', 'eyJpZCI6IDczOSwgInR5cGUiOiAidmVydGV4IiwgInByb3BzIjogeyJzaXplIjogMTAuOTQ1NTU4NzM5MjU1MDE1fX0K');</script>\n",
       "    "
      ],
      "text/plain": [
       "<IPython.core.display.HTML object>"
      ]
     },
     "metadata": {},
     "output_type": "display_data"
    },
    {
     "data": {
      "text/html": [
       "\n",
       "        <div id=\"gTaibppU5MTVDYvevN3H2M\"></div>\n",
       "        <script>netpixi.call('gTaibppU5MTVDYvevN3H2M', 'K4weoEfgX3kSNzn3gxGtaY', 'changeGraph', 'eyJpZCI6IDc0MCwgInR5cGUiOiAidmVydGV4IiwgInByb3BzIjogeyJzaXplIjogMTMuNDI0MDY4NzY3OTA4MzF9fQo=');</script>\n",
       "    "
      ],
      "text/plain": [
       "<IPython.core.display.HTML object>"
      ]
     },
     "metadata": {},
     "output_type": "display_data"
    },
    {
     "data": {
      "text/html": [
       "\n",
       "        <div id=\"mvLyGnrifLs4NTehAEAjSM\"></div>\n",
       "        <script>netpixi.call('mvLyGnrifLs4NTehAEAjSM', 'K4weoEfgX3kSNzn3gxGtaY', 'changeGraph', 'eyJpZCI6IDc0MSwgInR5cGUiOiAidmVydGV4IiwgInByb3BzIjogeyJzaXplIjogMTEuNzkwODMwOTQ1NTU4NzM5fX0K');</script>\n",
       "    "
      ],
      "text/plain": [
       "<IPython.core.display.HTML object>"
      ]
     },
     "metadata": {},
     "output_type": "display_data"
    },
    {
     "data": {
      "text/html": [
       "\n",
       "        <div id=\"5K9EdjojTqcbx5dNUnAGAV\"></div>\n",
       "        <script>netpixi.call('5K9EdjojTqcbx5dNUnAGAV', 'K4weoEfgX3kSNzn3gxGtaY', 'changeGraph', 'eyJpZCI6IDc0MiwgInR5cGUiOiAidmVydGV4IiwgInByb3BzIjogeyJzaXplIjogMTAuNzE2MzMyMzc4MjIzNDk1fX0K');</script>\n",
       "    "
      ],
      "text/plain": [
       "<IPython.core.display.HTML object>"
      ]
     },
     "metadata": {},
     "output_type": "display_data"
    },
    {
     "data": {
      "text/html": [
       "\n",
       "        <div id=\"jBC39z8ZcuVuZKK6McwmZR\"></div>\n",
       "        <script>netpixi.call('jBC39z8ZcuVuZKK6McwmZR', 'K4weoEfgX3kSNzn3gxGtaY', 'changeGraph', 'eyJpZCI6IDc0MywgInR5cGUiOiAidmVydGV4IiwgInByb3BzIjogeyJzaXplIjogMTEuNTE4NjI0NjQxODMzODF9fQo=');</script>\n",
       "    "
      ],
      "text/plain": [
       "<IPython.core.display.HTML object>"
      ]
     },
     "metadata": {},
     "output_type": "display_data"
    },
    {
     "data": {
      "text/html": [
       "\n",
       "        <div id=\"TScyPJPoHE5m9FexAxkeZT\"></div>\n",
       "        <script>netpixi.call('TScyPJPoHE5m9FexAxkeZT', 'K4weoEfgX3kSNzn3gxGtaY', 'changeGraph', 'eyJpZCI6IDc0NCwgInR5cGUiOiAidmVydGV4IiwgInByb3BzIjogeyJzaXplIjogMTAuMTAwMjg2NTMyOTUxMjg5fX0K');</script>\n",
       "    "
      ],
      "text/plain": [
       "<IPython.core.display.HTML object>"
      ]
     },
     "metadata": {},
     "output_type": "display_data"
    },
    {
     "data": {
      "text/html": [
       "\n",
       "        <div id=\"9hGAxdwoK3M2yP5dvss6he\"></div>\n",
       "        <script>netpixi.call('9hGAxdwoK3M2yP5dvss6he', 'K4weoEfgX3kSNzn3gxGtaY', 'changeGraph', 'eyJpZCI6IDc0NSwgInR5cGUiOiAidmVydGV4IiwgInByb3BzIjogeyJzaXplIjogMTcuMzQ5NTcwMjAwNTczMDY2fX0K');</script>\n",
       "    "
      ],
      "text/plain": [
       "<IPython.core.display.HTML object>"
      ]
     },
     "metadata": {},
     "output_type": "display_data"
    },
    {
     "data": {
      "text/html": [
       "\n",
       "        <div id=\"h5pXA2bG29BRNBKGy9MjUD\"></div>\n",
       "        <script>netpixi.call('h5pXA2bG29BRNBKGy9MjUD', 'K4weoEfgX3kSNzn3gxGtaY', 'changeGraph', 'eyJpZCI6IDc0NiwgInR5cGUiOiAidmVydGV4IiwgInByb3BzIjogeyJzaXplIjogMTYuNDYxMzE4MDUxNTc1OTN9fQo=');</script>\n",
       "    "
      ],
      "text/plain": [
       "<IPython.core.display.HTML object>"
      ]
     },
     "metadata": {},
     "output_type": "display_data"
    },
    {
     "data": {
      "text/html": [
       "\n",
       "        <div id=\"4TnWzMcybmdYHgWWJRbQbW\"></div>\n",
       "        <script>netpixi.call('4TnWzMcybmdYHgWWJRbQbW', 'K4weoEfgX3kSNzn3gxGtaY', 'changeGraph', 'eyJpZCI6IDc0NywgInR5cGUiOiAidmVydGV4IiwgInByb3BzIjogeyJzaXplIjogMTMuNjM4OTY4NDgxMzc1MzU4fX0K');</script>\n",
       "    "
      ],
      "text/plain": [
       "<IPython.core.display.HTML object>"
      ]
     },
     "metadata": {},
     "output_type": "display_data"
    },
    {
     "data": {
      "text/html": [
       "\n",
       "        <div id=\"E4vWGzwiaKXumLUNCiMzHH\"></div>\n",
       "        <script>netpixi.call('E4vWGzwiaKXumLUNCiMzHH', 'K4weoEfgX3kSNzn3gxGtaY', 'changeGraph', 'eyJpZCI6IDc0OCwgInR5cGUiOiAidmVydGV4IiwgInByb3BzIjogeyJzaXplIjogMTQuMTExNzQ3ODUxMDAyODY2fX0K');</script>\n",
       "    "
      ],
      "text/plain": [
       "<IPython.core.display.HTML object>"
      ]
     },
     "metadata": {},
     "output_type": "display_data"
    },
    {
     "data": {
      "text/html": [
       "\n",
       "        <div id=\"o9zqKYLtXPoKYiM9Lvkpk3\"></div>\n",
       "        <script>netpixi.call('o9zqKYLtXPoKYiM9Lvkpk3', 'K4weoEfgX3kSNzn3gxGtaY', 'changeGraph', 'eyJpZCI6IDc0OSwgInR5cGUiOiAidmVydGV4IiwgInByb3BzIjogeyJzaXplIjogMTIuMTkxOTc3MDc3MzYzODk4fX0K');</script>\n",
       "    "
      ],
      "text/plain": [
       "<IPython.core.display.HTML object>"
      ]
     },
     "metadata": {},
     "output_type": "display_data"
    },
    {
     "data": {
      "text/html": [
       "\n",
       "        <div id=\"499jzCzVWF8PViMUWmpy84\"></div>\n",
       "        <script>netpixi.call('499jzCzVWF8PViMUWmpy84', 'K4weoEfgX3kSNzn3gxGtaY', 'changeGraph', 'eyJpZCI6IDc1MCwgInR5cGUiOiAidmVydGV4IiwgInByb3BzIjogeyJzaXplIjogMTEuNzQ3ODUxMDAyODY1MzN9fQo=');</script>\n",
       "    "
      ],
      "text/plain": [
       "<IPython.core.display.HTML object>"
      ]
     },
     "metadata": {},
     "output_type": "display_data"
    },
    {
     "data": {
      "text/html": [
       "\n",
       "        <div id=\"bCt2oZaFNYnTnkye5deBys\"></div>\n",
       "        <script>netpixi.call('bCt2oZaFNYnTnkye5deBys', 'K4weoEfgX3kSNzn3gxGtaY', 'changeGraph', 'eyJpZCI6IDc1MSwgInR5cGUiOiAidmVydGV4IiwgInByb3BzIjogeyJzaXplIjogMTEuMjQ2NDE4MzM4MTA4ODgyfX0K');</script>\n",
       "    "
      ],
      "text/plain": [
       "<IPython.core.display.HTML object>"
      ]
     },
     "metadata": {},
     "output_type": "display_data"
    },
    {
     "data": {
      "text/html": [
       "\n",
       "        <div id=\"j7D8daenJCUiZmvtj8dMLw\"></div>\n",
       "        <script>netpixi.call('j7D8daenJCUiZmvtj8dMLw', 'K4weoEfgX3kSNzn3gxGtaY', 'changeGraph', 'eyJpZCI6IDc1MiwgInR5cGUiOiAidmVydGV4IiwgInByb3BzIjogeyJzaXplIjogMTYuODE5NDg0MjQwNjg3Njh9fQo=');</script>\n",
       "    "
      ],
      "text/plain": [
       "<IPython.core.display.HTML object>"
      ]
     },
     "metadata": {},
     "output_type": "display_data"
    },
    {
     "data": {
      "text/html": [
       "\n",
       "        <div id=\"bQwMG3e5sygpmh48LGQqgd\"></div>\n",
       "        <script>netpixi.call('bQwMG3e5sygpmh48LGQqgd', 'K4weoEfgX3kSNzn3gxGtaY', 'changeGraph', 'eyJpZCI6IDc1MywgInR5cGUiOiAidmVydGV4IiwgInByb3BzIjogeyJzaXplIjogMTIuNjc5MDgzMDk0NTU1ODc1fX0K');</script>\n",
       "    "
      ],
      "text/plain": [
       "<IPython.core.display.HTML object>"
      ]
     },
     "metadata": {},
     "output_type": "display_data"
    },
    {
     "data": {
      "text/html": [
       "\n",
       "        <div id=\"mTF7htiBm46vWmaYoxjn26\"></div>\n",
       "        <script>netpixi.call('mTF7htiBm46vWmaYoxjn26', 'K4weoEfgX3kSNzn3gxGtaY', 'changeGraph', 'eyJpZCI6IDc1NCwgInR5cGUiOiAidmVydGV4IiwgInByb3BzIjogeyJzaXplIjogMTAuMDU3MzA2NTkwMjU3ODh9fQo=');</script>\n",
       "    "
      ],
      "text/plain": [
       "<IPython.core.display.HTML object>"
      ]
     },
     "metadata": {},
     "output_type": "display_data"
    },
    {
     "data": {
      "text/html": [
       "\n",
       "        <div id=\"hrzqRunkjgCk4R5Q4fpJYV\"></div>\n",
       "        <script>netpixi.call('hrzqRunkjgCk4R5Q4fpJYV', 'K4weoEfgX3kSNzn3gxGtaY', 'changeGraph', 'eyJpZCI6IDc1NSwgInR5cGUiOiAidmVydGV4IiwgInByb3BzIjogeyJzaXplIjogMTMuMzIzNzgyMjM0OTU3MDJ9fQo=');</script>\n",
       "    "
      ],
      "text/plain": [
       "<IPython.core.display.HTML object>"
      ]
     },
     "metadata": {},
     "output_type": "display_data"
    },
    {
     "data": {
      "text/html": [
       "\n",
       "        <div id=\"9GDCdy7R2T7DsviCbMi6ni\"></div>\n",
       "        <script>netpixi.call('9GDCdy7R2T7DsviCbMi6ni', 'K4weoEfgX3kSNzn3gxGtaY', 'changeGraph', 'eyJpZCI6IDc1NiwgInR5cGUiOiAidmVydGV4IiwgInByb3BzIjogeyJzaXplIjogMTMuMzgxMDg4ODI1MjE0OX19Cg==');</script>\n",
       "    "
      ],
      "text/plain": [
       "<IPython.core.display.HTML object>"
      ]
     },
     "metadata": {},
     "output_type": "display_data"
    },
    {
     "data": {
      "text/html": [
       "\n",
       "        <div id=\"6MAEwtSDSHWzPUh7hiC5pC\"></div>\n",
       "        <script>netpixi.call('6MAEwtSDSHWzPUh7hiC5pC', 'K4weoEfgX3kSNzn3gxGtaY', 'changeGraph', 'eyJpZCI6IDc1NywgInR5cGUiOiAidmVydGV4IiwgInByb3BzIjogeyJzaXplIjogMTUuNzE2MzMyMzc4MjIzNDk1fX0K');</script>\n",
       "    "
      ],
      "text/plain": [
       "<IPython.core.display.HTML object>"
      ]
     },
     "metadata": {},
     "output_type": "display_data"
    },
    {
     "data": {
      "text/html": [
       "\n",
       "        <div id=\"nNywdGN9pgg5WXYGLv5hvV\"></div>\n",
       "        <script>netpixi.call('nNywdGN9pgg5WXYGLv5hvV', 'K4weoEfgX3kSNzn3gxGtaY', 'changeGraph', 'eyJpZCI6IDc1OCwgInR5cGUiOiAidmVydGV4IiwgInByb3BzIjogeyJzaXplIjogMTIuNTM1ODE2NjE4OTExMTc1fX0K');</script>\n",
       "    "
      ],
      "text/plain": [
       "<IPython.core.display.HTML object>"
      ]
     },
     "metadata": {},
     "output_type": "display_data"
    },
    {
     "data": {
      "text/html": [
       "\n",
       "        <div id=\"3LVGKz3armijC8CGpdfm4V\"></div>\n",
       "        <script>netpixi.call('3LVGKz3armijC8CGpdfm4V', 'K4weoEfgX3kSNzn3gxGtaY', 'changeGraph', 'eyJpZCI6IDc1OSwgInR5cGUiOiAidmVydGV4IiwgInByb3BzIjogeyJzaXplIjogMTUuOTU5ODg1Mzg2ODE5NDg1fX0K');</script>\n",
       "    "
      ],
      "text/plain": [
       "<IPython.core.display.HTML object>"
      ]
     },
     "metadata": {},
     "output_type": "display_data"
    },
    {
     "data": {
      "text/html": [
       "\n",
       "        <div id=\"7gVmGnR9Z7GZeZA3wqNGqn\"></div>\n",
       "        <script>netpixi.call('7gVmGnR9Z7GZeZA3wqNGqn', 'K4weoEfgX3kSNzn3gxGtaY', 'changeGraph', 'eyJpZCI6IDc2MCwgInR5cGUiOiAidmVydGV4IiwgInByb3BzIjogeyJzaXplIjogMTMuNzM5MjU1MDE0MzI2NjQ4fX0K');</script>\n",
       "    "
      ],
      "text/plain": [
       "<IPython.core.display.HTML object>"
      ]
     },
     "metadata": {},
     "output_type": "display_data"
    },
    {
     "data": {
      "text/html": [
       "\n",
       "        <div id=\"AUiD9eKmNLvdtMfvrzfgnW\"></div>\n",
       "        <script>netpixi.call('AUiD9eKmNLvdtMfvrzfgnW', 'K4weoEfgX3kSNzn3gxGtaY', 'changeGraph', 'eyJpZCI6IDc2MSwgInR5cGUiOiAidmVydGV4IiwgInByb3BzIjogeyJzaXplIjogMTAuNDAxMTQ2MTMxODA1MTU4fX0K');</script>\n",
       "    "
      ],
      "text/plain": [
       "<IPython.core.display.HTML object>"
      ]
     },
     "metadata": {},
     "output_type": "display_data"
    },
    {
     "data": {
      "text/html": [
       "\n",
       "        <div id=\"jHhMMfnZaro2x7RV7Hhcdh\"></div>\n",
       "        <script>netpixi.call('jHhMMfnZaro2x7RV7Hhcdh', 'K4weoEfgX3kSNzn3gxGtaY', 'changeGraph', 'eyJpZCI6IDc2MiwgInR5cGUiOiAidmVydGV4IiwgInByb3BzIjogeyJzaXplIjogMTMuNDY3MDQ4NzEwNjAxNzJ9fQo=');</script>\n",
       "    "
      ],
      "text/plain": [
       "<IPython.core.display.HTML object>"
      ]
     },
     "metadata": {},
     "output_type": "display_data"
    },
    {
     "data": {
      "text/html": [
       "\n",
       "        <div id=\"MezKHdYTTvQRxYDLRDiPbD\"></div>\n",
       "        <script>netpixi.call('MezKHdYTTvQRxYDLRDiPbD', 'K4weoEfgX3kSNzn3gxGtaY', 'changeGraph', 'eyJpZCI6IDc2MywgInR5cGUiOiAidmVydGV4IiwgInByb3BzIjogeyJzaXplIjogMTEuMTg5MTExNzQ3ODUxMDAzfX0K');</script>\n",
       "    "
      ],
      "text/plain": [
       "<IPython.core.display.HTML object>"
      ]
     },
     "metadata": {},
     "output_type": "display_data"
    },
    {
     "data": {
      "text/html": [
       "\n",
       "        <div id=\"F47hongnx9NSADC9GJGXH2\"></div>\n",
       "        <script>netpixi.call('F47hongnx9NSADC9GJGXH2', 'K4weoEfgX3kSNzn3gxGtaY', 'changeGraph', 'eyJpZCI6IDc2NCwgInR5cGUiOiAidmVydGV4IiwgInByb3BzIjogeyJzaXplIjogMTkuNzQyMTIwMzQzODM5NTR9fQo=');</script>\n",
       "    "
      ],
      "text/plain": [
       "<IPython.core.display.HTML object>"
      ]
     },
     "metadata": {},
     "output_type": "display_data"
    },
    {
     "data": {
      "text/html": [
       "\n",
       "        <div id=\"97vWCSyFzvbCSuycHsYB9L\"></div>\n",
       "        <script>netpixi.call('97vWCSyFzvbCSuycHsYB9L', 'K4weoEfgX3kSNzn3gxGtaY', 'changeGraph', 'eyJpZCI6IDc2NSwgInR5cGUiOiAidmVydGV4IiwgInByb3BzIjogeyJzaXplIjogMTMuOTU0MTU0NzI3NzkzNjk2fX0K');</script>\n",
       "    "
      ],
      "text/plain": [
       "<IPython.core.display.HTML object>"
      ]
     },
     "metadata": {},
     "output_type": "display_data"
    },
    {
     "data": {
      "text/html": [
       "\n",
       "        <div id=\"K65afePQHhUXjKNP5Pm9Vz\"></div>\n",
       "        <script>netpixi.call('K65afePQHhUXjKNP5Pm9Vz', 'K4weoEfgX3kSNzn3gxGtaY', 'changeGraph', 'eyJpZCI6IDc2NiwgInR5cGUiOiAidmVydGV4IiwgInByb3BzIjogeyJzaXplIjogMTIuNzA3NzM2Mzg5Njg0ODE1fX0K');</script>\n",
       "    "
      ],
      "text/plain": [
       "<IPython.core.display.HTML object>"
      ]
     },
     "metadata": {},
     "output_type": "display_data"
    },
    {
     "data": {
      "text/html": [
       "\n",
       "        <div id=\"BsYQXduTYACRQThLedeZum\"></div>\n",
       "        <script>netpixi.call('BsYQXduTYACRQThLedeZum', 'K4weoEfgX3kSNzn3gxGtaY', 'changeGraph', 'eyJpZCI6IDc2NywgInR5cGUiOiAidmVydGV4IiwgInByb3BzIjogeyJzaXplIjogMTAuODczOTI1NTAxNDMyNjY0fX0K');</script>\n",
       "    "
      ],
      "text/plain": [
       "<IPython.core.display.HTML object>"
      ]
     },
     "metadata": {},
     "output_type": "display_data"
    },
    {
     "data": {
      "text/html": [
       "\n",
       "        <div id=\"NzPiKkUtKgeA89RQnoD5Qv\"></div>\n",
       "        <script>netpixi.call('NzPiKkUtKgeA89RQnoD5Qv', 'K4weoEfgX3kSNzn3gxGtaY', 'changeGraph', 'eyJpZCI6IDc2OCwgInR5cGUiOiAidmVydGV4IiwgInByb3BzIjogeyJzaXplIjogMTAuMDcxNjMzMjM3ODIyMzQ5fX0K');</script>\n",
       "    "
      ],
      "text/plain": [
       "<IPython.core.display.HTML object>"
      ]
     },
     "metadata": {},
     "output_type": "display_data"
    },
    {
     "data": {
      "text/html": [
       "\n",
       "        <div id=\"ZZXd5rQSmhPzFCGVcCqe9C\"></div>\n",
       "        <script>netpixi.call('ZZXd5rQSmhPzFCGVcCqe9C', 'K4weoEfgX3kSNzn3gxGtaY', 'changeGraph', 'eyJpZCI6IDc2OSwgInR5cGUiOiAidmVydGV4IiwgInByb3BzIjogeyJzaXplIjogMTYuOTQ4NDI0MDY4NzY3OTA2fX0K');</script>\n",
       "    "
      ],
      "text/plain": [
       "<IPython.core.display.HTML object>"
      ]
     },
     "metadata": {},
     "output_type": "display_data"
    },
    {
     "data": {
      "text/html": [
       "\n",
       "        <div id=\"VehNR4HcYJAyYuJJarm2fh\"></div>\n",
       "        <script>netpixi.call('VehNR4HcYJAyYuJJarm2fh', 'K4weoEfgX3kSNzn3gxGtaY', 'changeGraph', 'eyJpZCI6IDc3MCwgInR5cGUiOiAidmVydGV4IiwgInByb3BzIjogeyJzaXplIjogMTIuNDc4NTEwMDI4NjUzMjk1fX0K');</script>\n",
       "    "
      ],
      "text/plain": [
       "<IPython.core.display.HTML object>"
      ]
     },
     "metadata": {},
     "output_type": "display_data"
    },
    {
     "data": {
      "text/html": [
       "\n",
       "        <div id=\"cJGJTakoSFgmZnximQJNSf\"></div>\n",
       "        <script>netpixi.call('cJGJTakoSFgmZnximQJNSf', 'K4weoEfgX3kSNzn3gxGtaY', 'changeGraph', 'eyJpZCI6IDc3MSwgInR5cGUiOiAidmVydGV4IiwgInByb3BzIjogeyJzaXplIjogMTEuMTE3NDc4NTEwMDI4NjU0fX0K');</script>\n",
       "    "
      ],
      "text/plain": [
       "<IPython.core.display.HTML object>"
      ]
     },
     "metadata": {},
     "output_type": "display_data"
    },
    {
     "data": {
      "text/html": [
       "\n",
       "        <div id=\"o78epdirwQT53PPcYKe7fv\"></div>\n",
       "        <script>netpixi.call('o78epdirwQT53PPcYKe7fv', 'K4weoEfgX3kSNzn3gxGtaY', 'changeGraph', 'eyJpZCI6IDc3MiwgInR5cGUiOiAidmVydGV4IiwgInByb3BzIjogeyJzaXplIjogMTYuNTE4NjI0NjQxODMzODF9fQo=');</script>\n",
       "    "
      ],
      "text/plain": [
       "<IPython.core.display.HTML object>"
      ]
     },
     "metadata": {},
     "output_type": "display_data"
    },
    {
     "data": {
      "text/html": [
       "\n",
       "        <div id=\"f7L2tibQFHZTPypQfVFexe\"></div>\n",
       "        <script>netpixi.call('f7L2tibQFHZTPypQfVFexe', 'K4weoEfgX3kSNzn3gxGtaY', 'changeGraph', 'eyJpZCI6IDc3MywgInR5cGUiOiAidmVydGV4IiwgInByb3BzIjogeyJzaXplIjogMTkuMDgzMDk0NTU1ODczOTI3fX0K');</script>\n",
       "    "
      ],
      "text/plain": [
       "<IPython.core.display.HTML object>"
      ]
     },
     "metadata": {},
     "output_type": "display_data"
    },
    {
     "data": {
      "text/html": [
       "\n",
       "        <div id=\"JisQXEg8ocAAN4LBs6dk8L\"></div>\n",
       "        <script>netpixi.call('JisQXEg8ocAAN4LBs6dk8L', 'K4weoEfgX3kSNzn3gxGtaY', 'changeGraph', 'eyJpZCI6IDc3NCwgInR5cGUiOiAidmVydGV4IiwgInByb3BzIjogeyJzaXplIjogMTguNTI0MzU1MzAwODU5NTk3fX0K');</script>\n",
       "    "
      ],
      "text/plain": [
       "<IPython.core.display.HTML object>"
      ]
     },
     "metadata": {},
     "output_type": "display_data"
    },
    {
     "data": {
      "text/html": [
       "\n",
       "        <div id=\"ZwncVP6ojCdP7R8m7gkL4p\"></div>\n",
       "        <script>netpixi.call('ZwncVP6ojCdP7R8m7gkL4p', 'K4weoEfgX3kSNzn3gxGtaY', 'changeGraph', 'eyJpZCI6IDc3NSwgInR5cGUiOiAidmVydGV4IiwgInByb3BzIjogeyJzaXplIjogMTguMDA4NTk1OTg4NTM4Njh9fQo=');</script>\n",
       "    "
      ],
      "text/plain": [
       "<IPython.core.display.HTML object>"
      ]
     },
     "metadata": {},
     "output_type": "display_data"
    },
    {
     "data": {
      "text/html": [
       "\n",
       "        <div id=\"GSnFqYqorDaCPQcdKJhsRk\"></div>\n",
       "        <script>netpixi.call('GSnFqYqorDaCPQcdKJhsRk', 'K4weoEfgX3kSNzn3gxGtaY', 'changeGraph', 'eyJpZCI6IDc3NiwgInR5cGUiOiAidmVydGV4IiwgInByb3BzIjogeyJzaXplIjogMTguNjgxOTQ4NDI0MDY4NzY4fX0K');</script>\n",
       "    "
      ],
      "text/plain": [
       "<IPython.core.display.HTML object>"
      ]
     },
     "metadata": {},
     "output_type": "display_data"
    },
    {
     "data": {
      "text/html": [
       "\n",
       "        <div id=\"99kAJafW9x6rhT4EMmi6nh\"></div>\n",
       "        <script>netpixi.call('99kAJafW9x6rhT4EMmi6nh', 'K4weoEfgX3kSNzn3gxGtaY', 'changeGraph', 'eyJpZCI6IDc3NywgInR5cGUiOiAidmVydGV4IiwgInByb3BzIjogeyJzaXplIjogMTkuOTI4MzY2NzYyMTc3NjUzfX0K');</script>\n",
       "    "
      ],
      "text/plain": [
       "<IPython.core.display.HTML object>"
      ]
     },
     "metadata": {},
     "output_type": "display_data"
    },
    {
     "data": {
      "text/html": [
       "\n",
       "        <div id=\"38tgVZdHAf47tysNPrqeJp\"></div>\n",
       "        <script>netpixi.call('38tgVZdHAf47tysNPrqeJp', 'K4weoEfgX3kSNzn3gxGtaY', 'changeGraph', 'eyJpZCI6IDc3OCwgInR5cGUiOiAidmVydGV4IiwgInByb3BzIjogeyJzaXplIjogMTEuNDMyNjY0NzU2NDQ2OTkxfX0K');</script>\n",
       "    "
      ],
      "text/plain": [
       "<IPython.core.display.HTML object>"
      ]
     },
     "metadata": {},
     "output_type": "display_data"
    },
    {
     "data": {
      "text/html": [
       "\n",
       "        <div id=\"nKN2QdB4tEuX56XTtRktsh\"></div>\n",
       "        <script>netpixi.call('nKN2QdB4tEuX56XTtRktsh', 'K4weoEfgX3kSNzn3gxGtaY', 'changeGraph', 'eyJpZCI6IDc3OSwgInR5cGUiOiAidmVydGV4IiwgInByb3BzIjogeyJzaXplIjogMTIuODUxMDAyODY1MzI5NTEyfX0K');</script>\n",
       "    "
      ],
      "text/plain": [
       "<IPython.core.display.HTML object>"
      ]
     },
     "metadata": {},
     "output_type": "display_data"
    },
    {
     "data": {
      "text/html": [
       "\n",
       "        <div id=\"i97MBT3s3yLHXjtVpdhnKC\"></div>\n",
       "        <script>netpixi.call('i97MBT3s3yLHXjtVpdhnKC', 'K4weoEfgX3kSNzn3gxGtaY', 'changeGraph', 'eyJpZCI6IDc4MCwgInR5cGUiOiAidmVydGV4IiwgInByb3BzIjogeyJzaXplIjogMTguODY4MTk0ODQyNDA2ODh9fQo=');</script>\n",
       "    "
      ],
      "text/plain": [
       "<IPython.core.display.HTML object>"
      ]
     },
     "metadata": {},
     "output_type": "display_data"
    },
    {
     "data": {
      "text/html": [
       "\n",
       "        <div id=\"hWYZognciynvfVgoWq5WFg\"></div>\n",
       "        <script>netpixi.call('hWYZognciynvfVgoWq5WFg', 'K4weoEfgX3kSNzn3gxGtaY', 'changeGraph', 'eyJpZCI6IDc4MSwgInR5cGUiOiAidmVydGV4IiwgInByb3BzIjogeyJzaXplIjogMTcuMzA2NTkwMjU3ODc5NjU1fX0K');</script>\n",
       "    "
      ],
      "text/plain": [
       "<IPython.core.display.HTML object>"
      ]
     },
     "metadata": {},
     "output_type": "display_data"
    },
    {
     "data": {
      "text/html": [
       "\n",
       "        <div id=\"2Kb8eRvNDkR4yvXZA6pqrM\"></div>\n",
       "        <script>netpixi.call('2Kb8eRvNDkR4yvXZA6pqrM', 'K4weoEfgX3kSNzn3gxGtaY', 'changeGraph', 'eyJpZCI6IDc4MiwgInR5cGUiOiAidmVydGV4IiwgInByb3BzIjogeyJzaXplIjogMTAuMzU4MTY2MTg5MTExNzQ3fX0K');</script>\n",
       "    "
      ],
      "text/plain": [
       "<IPython.core.display.HTML object>"
      ]
     },
     "metadata": {},
     "output_type": "display_data"
    },
    {
     "data": {
      "text/html": [
       "\n",
       "        <div id=\"88dKrbgN8SmFw9J4r7wJYL\"></div>\n",
       "        <script>netpixi.call('88dKrbgN8SmFw9J4r7wJYL', 'K4weoEfgX3kSNzn3gxGtaY', 'changeGraph', 'eyJpZCI6IDc4MywgInR5cGUiOiAidmVydGV4IiwgInByb3BzIjogeyJzaXplIjogMTMuODEwODg4MjUyMTQ4OTk3fX0K');</script>\n",
       "    "
      ],
      "text/plain": [
       "<IPython.core.display.HTML object>"
      ]
     },
     "metadata": {},
     "output_type": "display_data"
    },
    {
     "data": {
      "text/html": [
       "\n",
       "        <div id=\"7sYTHnwmCEc2stxrYLPLAP\"></div>\n",
       "        <script>netpixi.call('7sYTHnwmCEc2stxrYLPLAP', 'K4weoEfgX3kSNzn3gxGtaY', 'changeGraph', 'eyJpZCI6IDc4NCwgInR5cGUiOiAidmVydGV4IiwgInByb3BzIjogeyJzaXplIjogMTguNDA5NzQyMTIwMzQzODR9fQo=');</script>\n",
       "    "
      ],
      "text/plain": [
       "<IPython.core.display.HTML object>"
      ]
     },
     "metadata": {},
     "output_type": "display_data"
    },
    {
     "data": {
      "text/html": [
       "\n",
       "        <div id=\"kDRXheJMgo6gM4VcYkYKof\"></div>\n",
       "        <script>netpixi.call('kDRXheJMgo6gM4VcYkYKof', 'K4weoEfgX3kSNzn3gxGtaY', 'changeGraph', 'eyJpZCI6IDc4NSwgInR5cGUiOiAidmVydGV4IiwgInByb3BzIjogeyJzaXplIjogMTYuOTM0MDk3NDIxMjAzNDR9fQo=');</script>\n",
       "    "
      ],
      "text/plain": [
       "<IPython.core.display.HTML object>"
      ]
     },
     "metadata": {},
     "output_type": "display_data"
    },
    {
     "data": {
      "text/html": [
       "\n",
       "        <div id=\"TC5VioXST4GdPVzJ2gLpUB\"></div>\n",
       "        <script>netpixi.call('TC5VioXST4GdPVzJ2gLpUB', 'K4weoEfgX3kSNzn3gxGtaY', 'changeGraph', 'eyJpZCI6IDc4NiwgInR5cGUiOiAidmVydGV4IiwgInByb3BzIjogeyJzaXplIjogMTYuNjc2MjE3NzY1MDQyOTc4fX0K');</script>\n",
       "    "
      ],
      "text/plain": [
       "<IPython.core.display.HTML object>"
      ]
     },
     "metadata": {},
     "output_type": "display_data"
    },
    {
     "data": {
      "text/html": [
       "\n",
       "        <div id=\"KSCGHRiUGEeteEPeXehoky\"></div>\n",
       "        <script>netpixi.call('KSCGHRiUGEeteEPeXehoky', 'K4weoEfgX3kSNzn3gxGtaY', 'changeGraph', 'eyJpZCI6IDc4NywgInR5cGUiOiAidmVydGV4IiwgInByb3BzIjogeyJzaXplIjogMTQuNTQxNTQ3Mjc3OTM2OTY0fX0K');</script>\n",
       "    "
      ],
      "text/plain": [
       "<IPython.core.display.HTML object>"
      ]
     },
     "metadata": {},
     "output_type": "display_data"
    },
    {
     "data": {
      "text/html": [
       "\n",
       "        <div id=\"9VFrSbTE2KP6z9Fvkd5KFY\"></div>\n",
       "        <script>netpixi.call('9VFrSbTE2KP6z9Fvkd5KFY', 'K4weoEfgX3kSNzn3gxGtaY', 'changeGraph', 'eyJpZCI6IDc4OCwgInR5cGUiOiAidmVydGV4IiwgInByb3BzIjogeyJzaXplIjogMTMuMTA4ODgyNTIxNDg5OTd9fQo=');</script>\n",
       "    "
      ],
      "text/plain": [
       "<IPython.core.display.HTML object>"
      ]
     },
     "metadata": {},
     "output_type": "display_data"
    },
    {
     "data": {
      "text/html": [
       "\n",
       "        <div id=\"7SiohBV4fKRCkbJWRNHKpw\"></div>\n",
       "        <script>netpixi.call('7SiohBV4fKRCkbJWRNHKpw', 'K4weoEfgX3kSNzn3gxGtaY', 'changeGraph', 'eyJpZCI6IDc4OSwgInR5cGUiOiAidmVydGV4IiwgInByb3BzIjogeyJzaXplIjogMTIuNzIyMDYzMDM3MjQ5Mjg1fX0K');</script>\n",
       "    "
      ],
      "text/plain": [
       "<IPython.core.display.HTML object>"
      ]
     },
     "metadata": {},
     "output_type": "display_data"
    },
    {
     "data": {
      "text/html": [
       "\n",
       "        <div id=\"Dd7dy9WP7PydaY7eyM35JY\"></div>\n",
       "        <script>netpixi.call('Dd7dy9WP7PydaY7eyM35JY', 'K4weoEfgX3kSNzn3gxGtaY', 'changeGraph', 'eyJpZCI6IDc5MCwgInR5cGUiOiAidmVydGV4IiwgInByb3BzIjogeyJzaXplIjogMTcuMDIwMDU3MzA2NTkwMjU3fX0K');</script>\n",
       "    "
      ],
      "text/plain": [
       "<IPython.core.display.HTML object>"
      ]
     },
     "metadata": {},
     "output_type": "display_data"
    },
    {
     "data": {
      "text/html": [
       "\n",
       "        <div id=\"kNGCEUJiBnsrLrQa5s9rcd\"></div>\n",
       "        <script>netpixi.call('kNGCEUJiBnsrLrQa5s9rcd', 'K4weoEfgX3kSNzn3gxGtaY', 'changeGraph', 'eyJpZCI6IDc5MSwgInR5cGUiOiAidmVydGV4IiwgInByb3BzIjogeyJzaXplIjogMTMuOTM5ODI4MDgwMjI5MjI2fX0K');</script>\n",
       "    "
      ],
      "text/plain": [
       "<IPython.core.display.HTML object>"
      ]
     },
     "metadata": {},
     "output_type": "display_data"
    },
    {
     "data": {
      "text/html": [
       "\n",
       "        <div id=\"GDi4sactoBGj78tPRyByTx\"></div>\n",
       "        <script>netpixi.call('GDi4sactoBGj78tPRyByTx', 'K4weoEfgX3kSNzn3gxGtaY', 'changeGraph', 'eyJpZCI6IDc5MiwgInR5cGUiOiAidmVydGV4IiwgInByb3BzIjogeyJzaXplIjogMTUuNDQ0MTI2MDc0NDk4NTY4fX0K');</script>\n",
       "    "
      ],
      "text/plain": [
       "<IPython.core.display.HTML object>"
      ]
     },
     "metadata": {},
     "output_type": "display_data"
    },
    {
     "data": {
      "text/html": [
       "\n",
       "        <div id=\"JypzPuHfjomBVqQ9CbcJVH\"></div>\n",
       "        <script>netpixi.call('JypzPuHfjomBVqQ9CbcJVH', 'K4weoEfgX3kSNzn3gxGtaY', 'changeGraph', 'eyJpZCI6IDc5MywgInR5cGUiOiAidmVydGV4IiwgInByb3BzIjogeyJzaXplIjogMTkuMDExNDYxMzE4MDUxNTczfX0K');</script>\n",
       "    "
      ],
      "text/plain": [
       "<IPython.core.display.HTML object>"
      ]
     },
     "metadata": {},
     "output_type": "display_data"
    },
    {
     "data": {
      "text/html": [
       "\n",
       "        <div id=\"k6G5gX2fzRTbKRWpCy8aJM\"></div>\n",
       "        <script>netpixi.call('k6G5gX2fzRTbKRWpCy8aJM', 'K4weoEfgX3kSNzn3gxGtaY', 'changeGraph', 'eyJpZCI6IDc5NCwgInR5cGUiOiAidmVydGV4IiwgInByb3BzIjogeyJzaXplIjogMTcuNDM1NTMwMDg1OTU5ODgzfX0K');</script>\n",
       "    "
      ],
      "text/plain": [
       "<IPython.core.display.HTML object>"
      ]
     },
     "metadata": {},
     "output_type": "display_data"
    },
    {
     "data": {
      "text/html": [
       "\n",
       "        <div id=\"LwericrjJTsehWWzuLrpFG\"></div>\n",
       "        <script>netpixi.call('LwericrjJTsehWWzuLrpFG', 'K4weoEfgX3kSNzn3gxGtaY', 'changeGraph', 'eyJpZCI6IDc5NSwgInR5cGUiOiAidmVydGV4IiwgInByb3BzIjogeyJzaXplIjogMTkuMTk3NzA3NzM2Mzg5Njg1fX0K');</script>\n",
       "    "
      ],
      "text/plain": [
       "<IPython.core.display.HTML object>"
      ]
     },
     "metadata": {},
     "output_type": "display_data"
    },
    {
     "data": {
      "text/html": [
       "\n",
       "        <div id=\"KUVXmqb69JpDbTSeZKH2R8\"></div>\n",
       "        <script>netpixi.call('KUVXmqb69JpDbTSeZKH2R8', 'K4weoEfgX3kSNzn3gxGtaY', 'changeGraph', 'eyJpZCI6IDc5NiwgInR5cGUiOiAidmVydGV4IiwgInByb3BzIjogeyJzaXplIjogMTAuNDQ0MTI2MDc0NDk4NTY4fX0K');</script>\n",
       "    "
      ],
      "text/plain": [
       "<IPython.core.display.HTML object>"
      ]
     },
     "metadata": {},
     "output_type": "display_data"
    },
    {
     "data": {
      "text/html": [
       "\n",
       "        <div id=\"P745PMyX2qSqwB7N6vRkmu\"></div>\n",
       "        <script>netpixi.call('P745PMyX2qSqwB7N6vRkmu', 'K4weoEfgX3kSNzn3gxGtaY', 'changeGraph', 'eyJpZCI6IDc5NywgInR5cGUiOiAidmVydGV4IiwgInByb3BzIjogeyJzaXplIjogMTAuNTQ0NDEyNjA3NDQ5ODU3fX0K');</script>\n",
       "    "
      ],
      "text/plain": [
       "<IPython.core.display.HTML object>"
      ]
     },
     "metadata": {},
     "output_type": "display_data"
    },
    {
     "data": {
      "text/html": [
       "\n",
       "        <div id=\"ZBLwCqy7uKQXW9M8iBLD3c\"></div>\n",
       "        <script>netpixi.call('ZBLwCqy7uKQXW9M8iBLD3c', 'K4weoEfgX3kSNzn3gxGtaY', 'changeGraph', 'eyJpZCI6IDc5OCwgInR5cGUiOiAidmVydGV4IiwgInByb3BzIjogeyJzaXplIjogMTUuMjE0ODk5NzEzNDY3MDQ4fX0K');</script>\n",
       "    "
      ],
      "text/plain": [
       "<IPython.core.display.HTML object>"
      ]
     },
     "metadata": {},
     "output_type": "display_data"
    },
    {
     "data": {
      "text/html": [
       "\n",
       "        <div id=\"DyfyBkUXtrEjJRRv4tcP2g\"></div>\n",
       "        <script>netpixi.call('DyfyBkUXtrEjJRRv4tcP2g', 'K4weoEfgX3kSNzn3gxGtaY', 'changeGraph', 'eyJpZCI6IDc5OSwgInR5cGUiOiAidmVydGV4IiwgInByb3BzIjogeyJzaXplIjogMTkuMTI2MDc0NDk4NTY3MzM0fX0K');</script>\n",
       "    "
      ],
      "text/plain": [
       "<IPython.core.display.HTML object>"
      ]
     },
     "metadata": {},
     "output_type": "display_data"
    },
    {
     "data": {
      "text/html": [
       "\n",
       "        <div id=\"mxMXSprchcF8fgyk7TNvzd\"></div>\n",
       "        <script>netpixi.call('mxMXSprchcF8fgyk7TNvzd', 'K4weoEfgX3kSNzn3gxGtaY', 'changeGraph', 'eyJpZCI6IDgwMCwgInR5cGUiOiAidmVydGV4IiwgInByb3BzIjogeyJzaXplIjogMTMuMDY1OTAyNTc4Nzk2NTYyfX0K');</script>\n",
       "    "
      ],
      "text/plain": [
       "<IPython.core.display.HTML object>"
      ]
     },
     "metadata": {},
     "output_type": "display_data"
    },
    {
     "data": {
      "text/html": [
       "\n",
       "        <div id=\"RbKXAAWXLqxBw9ognX5nbc\"></div>\n",
       "        <script>netpixi.call('RbKXAAWXLqxBw9ognX5nbc', 'K4weoEfgX3kSNzn3gxGtaY', 'changeGraph', 'eyJpZCI6IDgwMSwgInR5cGUiOiAidmVydGV4IiwgInByb3BzIjogeyJzaXplIjogMTYuOTc3MDc3MzYzODk2ODQ2fX0K');</script>\n",
       "    "
      ],
      "text/plain": [
       "<IPython.core.display.HTML object>"
      ]
     },
     "metadata": {},
     "output_type": "display_data"
    },
    {
     "data": {
      "text/html": [
       "\n",
       "        <div id=\"YLTmLR5p6KGDjqdUg3BSNK\"></div>\n",
       "        <script>netpixi.call('YLTmLR5p6KGDjqdUg3BSNK', 'K4weoEfgX3kSNzn3gxGtaY', 'changeGraph', 'eyJpZCI6IDgwMiwgInR5cGUiOiAidmVydGV4IiwgInByb3BzIjogeyJzaXplIjogMTMuNTk1OTg4NTM4NjgxOTQ5fX0K');</script>\n",
       "    "
      ],
      "text/plain": [
       "<IPython.core.display.HTML object>"
      ]
     },
     "metadata": {},
     "output_type": "display_data"
    },
    {
     "data": {
      "text/html": [
       "\n",
       "        <div id=\"8P5U9y78o5exf8XNm4XV7s\"></div>\n",
       "        <script>netpixi.call('8P5U9y78o5exf8XNm4XV7s', 'K4weoEfgX3kSNzn3gxGtaY', 'changeGraph', 'eyJpZCI6IDgwMywgInR5cGUiOiAidmVydGV4IiwgInByb3BzIjogeyJzaXplIjogMTEuNzE5MTk3NzA3NzM2Mzl9fQo=');</script>\n",
       "    "
      ],
      "text/plain": [
       "<IPython.core.display.HTML object>"
      ]
     },
     "metadata": {},
     "output_type": "display_data"
    },
    {
     "data": {
      "text/html": [
       "\n",
       "        <div id=\"EhQZg3oEy8n8RKyM9CroC8\"></div>\n",
       "        <script>netpixi.call('EhQZg3oEy8n8RKyM9CroC8', 'K4weoEfgX3kSNzn3gxGtaY', 'changeGraph', 'eyJpZCI6IDgwNCwgInR5cGUiOiAidmVydGV4IiwgInByb3BzIjogeyJzaXplIjogMTEuMzg5Njg0ODEzNzUzNTgzfX0K');</script>\n",
       "    "
      ],
      "text/plain": [
       "<IPython.core.display.HTML object>"
      ]
     },
     "metadata": {},
     "output_type": "display_data"
    },
    {
     "data": {
      "text/html": [
       "\n",
       "        <div id=\"8GfLTXAsTxuUejjWpZA8uB\"></div>\n",
       "        <script>netpixi.call('8GfLTXAsTxuUejjWpZA8uB', 'K4weoEfgX3kSNzn3gxGtaY', 'changeGraph', 'eyJpZCI6IDgwNSwgInR5cGUiOiAidmVydGV4IiwgInByb3BzIjogeyJzaXplIjogMTcuMDQ4NzEwNjAxNzE5MTk3fX0K');</script>\n",
       "    "
      ],
      "text/plain": [
       "<IPython.core.display.HTML object>"
      ]
     },
     "metadata": {},
     "output_type": "display_data"
    },
    {
     "data": {
      "text/html": [
       "\n",
       "        <div id=\"ifjbm2MgNyj3vBAcbPNeBB\"></div>\n",
       "        <script>netpixi.call('ifjbm2MgNyj3vBAcbPNeBB', 'K4weoEfgX3kSNzn3gxGtaY', 'changeGraph', 'eyJpZCI6IDgwNiwgInR5cGUiOiAidmVydGV4IiwgInByb3BzIjogeyJzaXplIjogMTIuMzIwOTE2OTA1NDQ0MTI1fX0K');</script>\n",
       "    "
      ],
      "text/plain": [
       "<IPython.core.display.HTML object>"
      ]
     },
     "metadata": {},
     "output_type": "display_data"
    },
    {
     "data": {
      "text/html": [
       "\n",
       "        <div id=\"HLE6o9a3vM2t6MnytvbPvc\"></div>\n",
       "        <script>netpixi.call('HLE6o9a3vM2t6MnytvbPvc', 'K4weoEfgX3kSNzn3gxGtaY', 'changeGraph', 'eyJpZCI6IDgwNywgInR5cGUiOiAidmVydGV4IiwgInByb3BzIjogeyJzaXplIjogMTIuNjIxNzc2NTA0Mjk3OTk0fX0K');</script>\n",
       "    "
      ],
      "text/plain": [
       "<IPython.core.display.HTML object>"
      ]
     },
     "metadata": {},
     "output_type": "display_data"
    },
    {
     "data": {
      "text/html": [
       "\n",
       "        <div id=\"kzgAVKDpBkszrTL629x5kd\"></div>\n",
       "        <script>netpixi.call('kzgAVKDpBkszrTL629x5kd', 'K4weoEfgX3kSNzn3gxGtaY', 'changeGraph', 'eyJpZCI6IDgwOCwgInR5cGUiOiAidmVydGV4IiwgInByb3BzIjogeyJzaXplIjogMTMuNzk2NTYxNjA0NTg0NTI3fX0K');</script>\n",
       "    "
      ],
      "text/plain": [
       "<IPython.core.display.HTML object>"
      ]
     },
     "metadata": {},
     "output_type": "display_data"
    },
    {
     "data": {
      "text/html": [
       "\n",
       "        <div id=\"YCAQ5ny8C7YmucQMMhMQBt\"></div>\n",
       "        <script>netpixi.call('YCAQ5ny8C7YmucQMMhMQBt', 'K4weoEfgX3kSNzn3gxGtaY', 'changeGraph', 'eyJpZCI6IDgwOSwgInR5cGUiOiAidmVydGV4IiwgInByb3BzIjogeyJzaXplIjogMTIuOTk0MjY5MzQwOTc0MjEyfX0K');</script>\n",
       "    "
      ],
      "text/plain": [
       "<IPython.core.display.HTML object>"
      ]
     },
     "metadata": {},
     "output_type": "display_data"
    },
    {
     "data": {
      "text/html": [
       "\n",
       "        <div id=\"3rsn3vd9jx7KAXKSEFN9r8\"></div>\n",
       "        <script>netpixi.call('3rsn3vd9jx7KAXKSEFN9r8', 'K4weoEfgX3kSNzn3gxGtaY', 'changeGraph', 'eyJpZCI6IDgxMCwgInR5cGUiOiAidmVydGV4IiwgInByb3BzIjogeyJzaXplIjogMTEuMDc0NDk4NTY3MzM1MjQ0fX0K');</script>\n",
       "    "
      ],
      "text/plain": [
       "<IPython.core.display.HTML object>"
      ]
     },
     "metadata": {},
     "output_type": "display_data"
    },
    {
     "data": {
      "text/html": [
       "\n",
       "        <div id=\"FqogavuP4q6U9jZp7WDLEE\"></div>\n",
       "        <script>netpixi.call('FqogavuP4q6U9jZp7WDLEE', 'K4weoEfgX3kSNzn3gxGtaY', 'changeGraph', 'eyJpZCI6IDgxMSwgInR5cGUiOiAidmVydGV4IiwgInByb3BzIjogeyJzaXplIjogMTcuMjQ5MjgzNjY3NjIxNzc1fX0K');</script>\n",
       "    "
      ],
      "text/plain": [
       "<IPython.core.display.HTML object>"
      ]
     },
     "metadata": {},
     "output_type": "display_data"
    },
    {
     "data": {
      "text/html": [
       "\n",
       "        <div id=\"7ACMyMkFvkmcetxKHRRT4V\"></div>\n",
       "        <script>netpixi.call('7ACMyMkFvkmcetxKHRRT4V', 'K4weoEfgX3kSNzn3gxGtaY', 'changeGraph', 'eyJpZCI6IDgxMiwgInR5cGUiOiAidmVydGV4IiwgInByb3BzIjogeyJzaXplIjogMTUuMTI4OTM5ODI4MDgwMjN9fQo=');</script>\n",
       "    "
      ],
      "text/plain": [
       "<IPython.core.display.HTML object>"
      ]
     },
     "metadata": {},
     "output_type": "display_data"
    },
    {
     "data": {
      "text/html": [
       "\n",
       "        <div id=\"Q2TZNaCesjDi6CS8JSFLJy\"></div>\n",
       "        <script>netpixi.call('Q2TZNaCesjDi6CS8JSFLJy', 'K4weoEfgX3kSNzn3gxGtaY', 'changeGraph', 'eyJpZCI6IDgxMywgInR5cGUiOiAidmVydGV4IiwgInByb3BzIjogeyJzaXplIjogMTIuMDc3MzYzODk2ODQ4MTM3fX0K');</script>\n",
       "    "
      ],
      "text/plain": [
       "<IPython.core.display.HTML object>"
      ]
     },
     "metadata": {},
     "output_type": "display_data"
    },
    {
     "data": {
      "text/html": [
       "\n",
       "        <div id=\"evVFwrmyDJNGWe5gTxHemf\"></div>\n",
       "        <script>netpixi.call('evVFwrmyDJNGWe5gTxHemf', 'K4weoEfgX3kSNzn3gxGtaY', 'changeGraph', 'eyJpZCI6IDgxNCwgInR5cGUiOiAidmVydGV4IiwgInByb3BzIjogeyJzaXplIjogMTIuMDA1NzMwNjU5MDI1Nzg4fX0K');</script>\n",
       "    "
      ],
      "text/plain": [
       "<IPython.core.display.HTML object>"
      ]
     },
     "metadata": {},
     "output_type": "display_data"
    },
    {
     "data": {
      "text/html": [
       "\n",
       "        <div id=\"HKojwrSjvAVMZLe9dbqeUS\"></div>\n",
       "        <script>netpixi.call('HKojwrSjvAVMZLe9dbqeUS', 'K4weoEfgX3kSNzn3gxGtaY', 'changeGraph', 'eyJpZCI6IDgxNSwgInR5cGUiOiAidmVydGV4IiwgInByb3BzIjogeyJzaXplIjogMTYuNjYxODkxMTE3NDc4NTF9fQo=');</script>\n",
       "    "
      ],
      "text/plain": [
       "<IPython.core.display.HTML object>"
      ]
     },
     "metadata": {},
     "output_type": "display_data"
    },
    {
     "data": {
      "text/html": [
       "\n",
       "        <div id=\"KEgfXcabGz62tipR5KDjMs\"></div>\n",
       "        <script>netpixi.call('KEgfXcabGz62tipR5KDjMs', 'K4weoEfgX3kSNzn3gxGtaY', 'changeGraph', 'eyJpZCI6IDgxNiwgInR5cGUiOiAidmVydGV4IiwgInByb3BzIjogeyJzaXplIjogMTcuODY1MzI5NTEyODkzOTgyfX0K');</script>\n",
       "    "
      ],
      "text/plain": [
       "<IPython.core.display.HTML object>"
      ]
     },
     "metadata": {},
     "output_type": "display_data"
    },
    {
     "data": {
      "text/html": [
       "\n",
       "        <div id=\"VkL3oBZZaQ7RXFCMfZNyBT\"></div>\n",
       "        <script>netpixi.call('VkL3oBZZaQ7RXFCMfZNyBT', 'K4weoEfgX3kSNzn3gxGtaY', 'changeGraph', 'eyJpZCI6IDgxNywgInR5cGUiOiAidmVydGV4IiwgInByb3BzIjogeyJzaXplIjogMTEuNTQ3Mjc3OTM2OTYyNzV9fQo=');</script>\n",
       "    "
      ],
      "text/plain": [
       "<IPython.core.display.HTML object>"
      ]
     },
     "metadata": {},
     "output_type": "display_data"
    },
    {
     "data": {
      "text/html": [
       "\n",
       "        <div id=\"3wMjp7C6XBoFuBZHewd3oR\"></div>\n",
       "        <script>netpixi.call('3wMjp7C6XBoFuBZHewd3oR', 'K4weoEfgX3kSNzn3gxGtaY', 'changeGraph', 'eyJpZCI6IDgxOCwgInR5cGUiOiAidmVydGV4IiwgInByb3BzIjogeyJzaXplIjogMTAuMzE1MTg2MjQ2NDE4MzM5fX0K');</script>\n",
       "    "
      ],
      "text/plain": [
       "<IPython.core.display.HTML object>"
      ]
     },
     "metadata": {},
     "output_type": "display_data"
    },
    {
     "data": {
      "text/html": [
       "\n",
       "        <div id=\"dUxja4hcMnJPVdn8zjFCbD\"></div>\n",
       "        <script>netpixi.call('dUxja4hcMnJPVdn8zjFCbD', 'K4weoEfgX3kSNzn3gxGtaY', 'changeGraph', 'eyJpZCI6IDgxOSwgInR5cGUiOiAidmVydGV4IiwgInByb3BzIjogeyJzaXplIjogMTYuOTE5NzcwNzczNjM4OTY2fX0K');</script>\n",
       "    "
      ],
      "text/plain": [
       "<IPython.core.display.HTML object>"
      ]
     },
     "metadata": {},
     "output_type": "display_data"
    },
    {
     "data": {
      "text/html": [
       "\n",
       "        <div id=\"gPHUST3VekBR8pZmVHzsig\"></div>\n",
       "        <script>netpixi.call('gPHUST3VekBR8pZmVHzsig', 'K4weoEfgX3kSNzn3gxGtaY', 'changeGraph', 'eyJpZCI6IDgyMCwgInR5cGUiOiAidmVydGV4IiwgInByb3BzIjogeyJzaXplIjogMTAuOTAyNTc4Nzk2NTYxNjA0fX0K');</script>\n",
       "    "
      ],
      "text/plain": [
       "<IPython.core.display.HTML object>"
      ]
     },
     "metadata": {},
     "output_type": "display_data"
    },
    {
     "data": {
      "text/html": [
       "\n",
       "        <div id=\"8VnqEbk3cpUJtvvLNLZR2Z\"></div>\n",
       "        <script>netpixi.call('8VnqEbk3cpUJtvvLNLZR2Z', 'K4weoEfgX3kSNzn3gxGtaY', 'changeGraph', 'eyJpZCI6IDgyMSwgInR5cGUiOiAidmVydGV4IiwgInByb3BzIjogeyJzaXplIjogMTAuNDcyNzc5MzY5NjI3NTA2fX0K');</script>\n",
       "    "
      ],
      "text/plain": [
       "<IPython.core.display.HTML object>"
      ]
     },
     "metadata": {},
     "output_type": "display_data"
    },
    {
     "data": {
      "text/html": [
       "\n",
       "        <div id=\"ZYs8D5ztZxh8uubzJnma39\"></div>\n",
       "        <script>netpixi.call('ZYs8D5ztZxh8uubzJnma39', 'K4weoEfgX3kSNzn3gxGtaY', 'changeGraph', 'eyJpZCI6IDgyMiwgInR5cGUiOiAidmVydGV4IiwgInByb3BzIjogeyJzaXplIjogMTUuOTg4NTM4NjgxOTQ4NDIzfX0K');</script>\n",
       "    "
      ],
      "text/plain": [
       "<IPython.core.display.HTML object>"
      ]
     },
     "metadata": {},
     "output_type": "display_data"
    },
    {
     "data": {
      "text/html": [
       "\n",
       "        <div id=\"aS26jNFRctZvsQg3r97Jwx\"></div>\n",
       "        <script>netpixi.call('aS26jNFRctZvsQg3r97Jwx', 'K4weoEfgX3kSNzn3gxGtaY', 'changeGraph', 'eyJpZCI6IDgyMywgInR5cGUiOiAidmVydGV4IiwgInByb3BzIjogeyJzaXplIjogMTEuMTYwNDU4NDUyNzIyMDYzfX0K');</script>\n",
       "    "
      ],
      "text/plain": [
       "<IPython.core.display.HTML object>"
      ]
     },
     "metadata": {},
     "output_type": "display_data"
    },
    {
     "data": {
      "text/html": [
       "\n",
       "        <div id=\"cGHeucXW6qj9o6j9ziC8oR\"></div>\n",
       "        <script>netpixi.call('cGHeucXW6qj9o6j9ziC8oR', 'K4weoEfgX3kSNzn3gxGtaY', 'changeGraph', 'eyJpZCI6IDgyNCwgInR5cGUiOiAidmVydGV4IiwgInByb3BzIjogeyJzaXplIjogMTAuMjI5MjI2MzYxMDMxNTE4fX0K');</script>\n",
       "    "
      ],
      "text/plain": [
       "<IPython.core.display.HTML object>"
      ]
     },
     "metadata": {},
     "output_type": "display_data"
    },
    {
     "data": {
      "text/html": [
       "\n",
       "        <div id=\"44AXDA3z5QT8SZePbL6bzJ\"></div>\n",
       "        <script>netpixi.call('44AXDA3z5QT8SZePbL6bzJ', 'K4weoEfgX3kSNzn3gxGtaY', 'changeGraph', 'eyJpZCI6IDgyNSwgInR5cGUiOiAidmVydGV4IiwgInByb3BzIjogeyJzaXplIjogMTUuNzAyMDA1NzMwNjU5MDI1fX0K');</script>\n",
       "    "
      ],
      "text/plain": [
       "<IPython.core.display.HTML object>"
      ]
     },
     "metadata": {},
     "output_type": "display_data"
    },
    {
     "data": {
      "text/html": [
       "\n",
       "        <div id=\"iKbXSBYX7UawGJ62hHPUhk\"></div>\n",
       "        <script>netpixi.call('iKbXSBYX7UawGJ62hHPUhk', 'K4weoEfgX3kSNzn3gxGtaY', 'changeGraph', 'eyJpZCI6IDgyNiwgInR5cGUiOiAidmVydGV4IiwgInByb3BzIjogeyJzaXplIjogMTAuNjczMzUyNDM1NTMwMDg2fX0K');</script>\n",
       "    "
      ],
      "text/plain": [
       "<IPython.core.display.HTML object>"
      ]
     },
     "metadata": {},
     "output_type": "display_data"
    },
    {
     "data": {
      "text/html": [
       "\n",
       "        <div id=\"6Sd9HYpzJiaynwGVj5Hkqk\"></div>\n",
       "        <script>netpixi.call('6Sd9HYpzJiaynwGVj5Hkqk', 'K4weoEfgX3kSNzn3gxGtaY', 'changeGraph', 'eyJpZCI6IDgyNywgInR5cGUiOiAidmVydGV4IiwgInByb3BzIjogeyJzaXplIjogMTYuMTE3NDc4NTEwMDI4NjU0fX0K');</script>\n",
       "    "
      ],
      "text/plain": [
       "<IPython.core.display.HTML object>"
      ]
     },
     "metadata": {},
     "output_type": "display_data"
    },
    {
     "data": {
      "text/html": [
       "\n",
       "        <div id=\"k2FmjDLbR4H5z4AjrurJqq\"></div>\n",
       "        <script>netpixi.call('k2FmjDLbR4H5z4AjrurJqq', 'K4weoEfgX3kSNzn3gxGtaY', 'changeGraph', 'eyJpZCI6IDgyOCwgInR5cGUiOiAidmVydGV4IiwgInByb3BzIjogeyJzaXplIjogMTAuNzg3OTY1NjE2MDQ1ODQ1fX0K');</script>\n",
       "    "
      ],
      "text/plain": [
       "<IPython.core.display.HTML object>"
      ]
     },
     "metadata": {},
     "output_type": "display_data"
    },
    {
     "data": {
      "text/html": [
       "\n",
       "        <div id=\"6QA5mSJaAWFUAu7iHuXg7Q\"></div>\n",
       "        <script>netpixi.call('6QA5mSJaAWFUAu7iHuXg7Q', 'K4weoEfgX3kSNzn3gxGtaY', 'changeGraph', 'eyJpZCI6IDgyOSwgInR5cGUiOiAidmVydGV4IiwgInByb3BzIjogeyJzaXplIjogMTMuNzEwNjAxNzE5MTk3NzA4fX0K');</script>\n",
       "    "
      ],
      "text/plain": [
       "<IPython.core.display.HTML object>"
      ]
     },
     "metadata": {},
     "output_type": "display_data"
    },
    {
     "data": {
      "text/html": [
       "\n",
       "        <div id=\"kDdBMkDgWBWZ86QoMHD2nL\"></div>\n",
       "        <script>netpixi.call('kDdBMkDgWBWZ86QoMHD2nL', 'K4weoEfgX3kSNzn3gxGtaY', 'changeGraph', 'eyJpZCI6IDgzMCwgInR5cGUiOiAidmVydGV4IiwgInByb3BzIjogeyJzaXplIjogMTEuMDQ1ODQ1MjcyMjA2MzA0fX0K');</script>\n",
       "    "
      ],
      "text/plain": [
       "<IPython.core.display.HTML object>"
      ]
     },
     "metadata": {},
     "output_type": "display_data"
    },
    {
     "data": {
      "text/html": [
       "\n",
       "        <div id=\"M5shhUvraq4rNV6XwiEt54\"></div>\n",
       "        <script>netpixi.call('M5shhUvraq4rNV6XwiEt54', 'K4weoEfgX3kSNzn3gxGtaY', 'changeGraph', 'eyJpZCI6IDgzMSwgInR5cGUiOiAidmVydGV4IiwgInByb3BzIjogeyJzaXplIjogMTIuMTA2MDE3MTkxOTc3MDc3fX0K');</script>\n",
       "    "
      ],
      "text/plain": [
       "<IPython.core.display.HTML object>"
      ]
     },
     "metadata": {},
     "output_type": "display_data"
    },
    {
     "data": {
      "text/html": [
       "\n",
       "        <div id=\"htUMcvMUFU9UTD97efsGZw\"></div>\n",
       "        <script>netpixi.call('htUMcvMUFU9UTD97efsGZw', 'K4weoEfgX3kSNzn3gxGtaY', 'changeGraph', 'eyJpZCI6IDgzMiwgInR5cGUiOiAidmVydGV4IiwgInByb3BzIjogeyJzaXplIjogMTAuMTE0NjEzMTgwNTE1NzU5fX0K');</script>\n",
       "    "
      ],
      "text/plain": [
       "<IPython.core.display.HTML object>"
      ]
     },
     "metadata": {},
     "output_type": "display_data"
    },
    {
     "data": {
      "text/html": [
       "\n",
       "        <div id=\"8Lns5JBDYueDWFH6Pgwn2S\"></div>\n",
       "        <script>netpixi.call('8Lns5JBDYueDWFH6Pgwn2S', 'K4weoEfgX3kSNzn3gxGtaY', 'changeGraph', 'eyJpZCI6IDgzMywgInR5cGUiOiAidmVydGV4IiwgInByb3BzIjogeyJzaXplIjogMTAuOTc0MjEyMDM0MzgzOTU1fX0K');</script>\n",
       "    "
      ],
      "text/plain": [
       "<IPython.core.display.HTML object>"
      ]
     },
     "metadata": {},
     "output_type": "display_data"
    },
    {
     "data": {
      "text/html": [
       "\n",
       "        <div id=\"nS3PgUKDgByE52fXor9RZj\"></div>\n",
       "        <script>netpixi.call('nS3PgUKDgByE52fXor9RZj', 'K4weoEfgX3kSNzn3gxGtaY', 'changeGraph', 'eyJpZCI6IDgzNCwgInR5cGUiOiAidmVydGV4IiwgInByb3BzIjogeyJzaXplIjogMTAuODU5NTk4ODUzODY4MTk0fX0K');</script>\n",
       "    "
      ],
      "text/plain": [
       "<IPython.core.display.HTML object>"
      ]
     },
     "metadata": {},
     "output_type": "display_data"
    },
    {
     "data": {
      "text/html": [
       "\n",
       "        <div id=\"nn8TJVtWRaDTarewiwFNt2\"></div>\n",
       "        <script>netpixi.call('nn8TJVtWRaDTarewiwFNt2', 'K4weoEfgX3kSNzn3gxGtaY', 'changeGraph', 'eyJpZCI6IDgzNSwgInR5cGUiOiAidmVydGV4IiwgInByb3BzIjogeyJzaXplIjogMTAuMzI5NTEyODkzOTgyODA3fX0K');</script>\n",
       "    "
      ],
      "text/plain": [
       "<IPython.core.display.HTML object>"
      ]
     },
     "metadata": {},
     "output_type": "display_data"
    },
    {
     "data": {
      "text/html": [
       "\n",
       "        <div id=\"XdYGSLu2jqzY4zW2CLx86Z\"></div>\n",
       "        <script>netpixi.call('XdYGSLu2jqzY4zW2CLx86Z', 'K4weoEfgX3kSNzn3gxGtaY', 'changeGraph', 'eyJpZCI6IDgzNiwgInR5cGUiOiAidmVydGV4IiwgInByb3BzIjogeyJzaXplIjogMTYuNzkwODMwOTQ1NTU4NzR9fQo=');</script>\n",
       "    "
      ],
      "text/plain": [
       "<IPython.core.display.HTML object>"
      ]
     },
     "metadata": {},
     "output_type": "display_data"
    },
    {
     "data": {
      "text/html": [
       "\n",
       "        <div id=\"LWEGwGjrtQF6yMKcezrvdZ\"></div>\n",
       "        <script>netpixi.call('LWEGwGjrtQF6yMKcezrvdZ', 'K4weoEfgX3kSNzn3gxGtaY', 'changeGraph', 'eyJpZCI6IDgzNywgInR5cGUiOiAidmVydGV4IiwgInByb3BzIjogeyJzaXplIjogMTUuMjcyMjA2MzAzNzI0OTI4fX0K');</script>\n",
       "    "
      ],
      "text/plain": [
       "<IPython.core.display.HTML object>"
      ]
     },
     "metadata": {},
     "output_type": "display_data"
    },
    {
     "data": {
      "text/html": [
       "\n",
       "        <div id=\"nbtm8nQkYpgMw8JMTiP5GY\"></div>\n",
       "        <script>netpixi.call('nbtm8nQkYpgMw8JMTiP5GY', 'K4weoEfgX3kSNzn3gxGtaY', 'changeGraph', 'eyJpZCI6IDgzOCwgInR5cGUiOiAidmVydGV4IiwgInByb3BzIjogeyJzaXplIjogMTAuMzQzODM5NTQxNTQ3Mjc3fX0K');</script>\n",
       "    "
      ],
      "text/plain": [
       "<IPython.core.display.HTML object>"
      ]
     },
     "metadata": {},
     "output_type": "display_data"
    },
    {
     "data": {
      "text/html": [
       "\n",
       "        <div id=\"HA2a6h6P3BJ3fNSR7X2Pjw\"></div>\n",
       "        <script>netpixi.call('HA2a6h6P3BJ3fNSR7X2Pjw', 'K4weoEfgX3kSNzn3gxGtaY', 'changeGraph', 'eyJpZCI6IDgzOSwgInR5cGUiOiAidmVydGV4IiwgInByb3BzIjogeyJzaXplIjogMTEuMDg4ODI1MjE0ODk5NzE0fX0K');</script>\n",
       "    "
      ],
      "text/plain": [
       "<IPython.core.display.HTML object>"
      ]
     },
     "metadata": {},
     "output_type": "display_data"
    },
    {
     "data": {
      "text/html": [
       "\n",
       "        <div id=\"XuZGGbXM6U44zSqyQjM5nr\"></div>\n",
       "        <script>netpixi.call('XuZGGbXM6U44zSqyQjM5nr', 'K4weoEfgX3kSNzn3gxGtaY', 'changeGraph', 'eyJpZCI6IDg0MCwgInR5cGUiOiAidmVydGV4IiwgInByb3BzIjogeyJzaXplIjogMTIuMDkxNjkwNTQ0NDEyNjA3fX0K');</script>\n",
       "    "
      ],
      "text/plain": [
       "<IPython.core.display.HTML object>"
      ]
     },
     "metadata": {},
     "output_type": "display_data"
    },
    {
     "data": {
      "text/html": [
       "\n",
       "        <div id=\"YLLpdJGudCjVVejLeZaCvy\"></div>\n",
       "        <script>netpixi.call('YLLpdJGudCjVVejLeZaCvy', 'K4weoEfgX3kSNzn3gxGtaY', 'changeGraph', 'eyJpZCI6IDg0MSwgInR5cGUiOiAidmVydGV4IiwgInByb3BzIjogeyJzaXplIjogMTAuNTg3MzkyNTUwMTQzMjY3fX0K');</script>\n",
       "    "
      ],
      "text/plain": [
       "<IPython.core.display.HTML object>"
      ]
     },
     "metadata": {},
     "output_type": "display_data"
    },
    {
     "data": {
      "text/html": [
       "\n",
       "        <div id=\"VXWetiita8KHXMQQ9Bkd6t\"></div>\n",
       "        <script>netpixi.call('VXWetiita8KHXMQQ9Bkd6t', 'K4weoEfgX3kSNzn3gxGtaY', 'changeGraph', 'eyJpZCI6IDg0MiwgInR5cGUiOiAidmVydGV4IiwgInByb3BzIjogeyJzaXplIjogMTYuODA1MTU3NTkzMTIzMjF9fQo=');</script>\n",
       "    "
      ],
      "text/plain": [
       "<IPython.core.display.HTML object>"
      ]
     },
     "metadata": {},
     "output_type": "display_data"
    },
    {
     "data": {
      "text/html": [
       "\n",
       "        <div id=\"Eb8Gzb4JqZM7rvG3bBXZD3\"></div>\n",
       "        <script>netpixi.call('Eb8Gzb4JqZM7rvG3bBXZD3', 'K4weoEfgX3kSNzn3gxGtaY', 'changeGraph', 'eyJpZCI6IDg0MywgInR5cGUiOiAidmVydGV4IiwgInByb3BzIjogeyJzaXplIjogMTQuNzI3NzkzNjk2Mjc1MDcyfX0K');</script>\n",
       "    "
      ],
      "text/plain": [
       "<IPython.core.display.HTML object>"
      ]
     },
     "metadata": {},
     "output_type": "display_data"
    },
    {
     "data": {
      "text/html": [
       "\n",
       "        <div id=\"KbhMiVYr4DRVr6H3DbZWoS\"></div>\n",
       "        <script>netpixi.call('KbhMiVYr4DRVr6H3DbZWoS', 'K4weoEfgX3kSNzn3gxGtaY', 'changeGraph', 'eyJpZCI6IDg0NCwgInR5cGUiOiAidmVydGV4IiwgInByb3BzIjogeyJzaXplIjogMTEuNTA0Mjk3OTk0MjY5MzQyfX0K');</script>\n",
       "    "
      ],
      "text/plain": [
       "<IPython.core.display.HTML object>"
      ]
     },
     "metadata": {},
     "output_type": "display_data"
    },
    {
     "data": {
      "text/html": [
       "\n",
       "        <div id=\"3oi5eDq84yEBiU4fastPQk\"></div>\n",
       "        <script>netpixi.call('3oi5eDq84yEBiU4fastPQk', 'K4weoEfgX3kSNzn3gxGtaY', 'changeGraph', 'eyJpZCI6IDg0NSwgInR5cGUiOiAidmVydGV4IiwgInByb3BzIjogeyJzaXplIjogMTEuMjMyMDkxNjkwNTQ0NDEzfX0K');</script>\n",
       "    "
      ],
      "text/plain": [
       "<IPython.core.display.HTML object>"
      ]
     },
     "metadata": {},
     "output_type": "display_data"
    },
    {
     "data": {
      "text/html": [
       "\n",
       "        <div id=\"gD5XGGxZhBjFbzhFa4w2kC\"></div>\n",
       "        <script>netpixi.call('gD5XGGxZhBjFbzhFa4w2kC', 'K4weoEfgX3kSNzn3gxGtaY', 'changeGraph', 'eyJpZCI6IDg0NiwgInR5cGUiOiAidmVydGV4IiwgInByb3BzIjogeyJzaXplIjogMTUuODg4MjUyMTQ4OTk3MTM0fX0K');</script>\n",
       "    "
      ],
      "text/plain": [
       "<IPython.core.display.HTML object>"
      ]
     },
     "metadata": {},
     "output_type": "display_data"
    },
    {
     "data": {
      "text/html": [
       "\n",
       "        <div id=\"SD9fHKcfG2qDsVbav3GCQF\"></div>\n",
       "        <script>netpixi.call('SD9fHKcfG2qDsVbav3GCQF', 'K4weoEfgX3kSNzn3gxGtaY', 'changeGraph', 'eyJpZCI6IDg0NywgInR5cGUiOiAidmVydGV4IiwgInByb3BzIjogeyJzaXplIjogMTAuNzQ0OTg1NjczMzUyNDM1fX0K');</script>\n",
       "    "
      ],
      "text/plain": [
       "<IPython.core.display.HTML object>"
      ]
     },
     "metadata": {},
     "output_type": "display_data"
    },
    {
     "data": {
      "text/html": [
       "\n",
       "        <div id=\"aQTttNvwxnqnVjvFpQiaSm\"></div>\n",
       "        <script>netpixi.call('aQTttNvwxnqnVjvFpQiaSm', 'K4weoEfgX3kSNzn3gxGtaY', 'changeGraph', 'eyJpZCI6IDg0OCwgInR5cGUiOiAidmVydGV4IiwgInByb3BzIjogeyJzaXplIjogMTEuNjQ3NTY0NDY5OTE0MDQxfX0K');</script>\n",
       "    "
      ],
      "text/plain": [
       "<IPython.core.display.HTML object>"
      ]
     },
     "metadata": {},
     "output_type": "display_data"
    },
    {
     "data": {
      "text/html": [
       "\n",
       "        <div id=\"bxRqsAn3eFcKvvNnA4NQnW\"></div>\n",
       "        <script>netpixi.call('bxRqsAn3eFcKvvNnA4NQnW', 'K4weoEfgX3kSNzn3gxGtaY', 'changeGraph', 'eyJpZCI6IDg0OSwgInR5cGUiOiAidmVydGV4IiwgInByb3BzIjogeyJzaXplIjogMTAuODg4MjUyMTQ4OTk3MTM0fX0K');</script>\n",
       "    "
      ],
      "text/plain": [
       "<IPython.core.display.HTML object>"
      ]
     },
     "metadata": {},
     "output_type": "display_data"
    },
    {
     "data": {
      "text/html": [
       "\n",
       "        <div id=\"YKNrGixmtkJdCkzbJWQkJa\"></div>\n",
       "        <script>netpixi.call('YKNrGixmtkJdCkzbJWQkJa', 'K4weoEfgX3kSNzn3gxGtaY', 'changeGraph', 'eyJpZCI6IDg1MCwgInR5cGUiOiAidmVydGV4IiwgInByb3BzIjogeyJzaXplIjogMTAuMTg2MjQ2NDE4MzM4MTF9fQo=');</script>\n",
       "    "
      ],
      "text/plain": [
       "<IPython.core.display.HTML object>"
      ]
     },
     "metadata": {},
     "output_type": "display_data"
    },
    {
     "data": {
      "text/html": [
       "\n",
       "        <div id=\"fTB4gTAwrjUkazcb5hmafX\"></div>\n",
       "        <script>netpixi.call('fTB4gTAwrjUkazcb5hmafX', 'K4weoEfgX3kSNzn3gxGtaY', 'changeGraph', 'eyJpZCI6IDg1MSwgInR5cGUiOiAidmVydGV4IiwgInByb3BzIjogeyJzaXplIjogMTkuMDQwMTE0NjEzMTgwNTEzfX0K');</script>\n",
       "    "
      ],
      "text/plain": [
       "<IPython.core.display.HTML object>"
      ]
     },
     "metadata": {},
     "output_type": "display_data"
    },
    {
     "data": {
      "text/html": [
       "\n",
       "        <div id=\"kRyyXQWX8eND7WBS3ygTHp\"></div>\n",
       "        <script>netpixi.call('kRyyXQWX8eND7WBS3ygTHp', 'K4weoEfgX3kSNzn3gxGtaY', 'changeGraph', 'eyJpZCI6IDg1MiwgInR5cGUiOiAidmVydGV4IiwgInByb3BzIjogeyJzaXplIjogMTEuMTQ2MTMxODA1MTU3NTkzfX0K');</script>\n",
       "    "
      ],
      "text/plain": [
       "<IPython.core.display.HTML object>"
      ]
     },
     "metadata": {},
     "output_type": "display_data"
    },
    {
     "data": {
      "text/html": [
       "\n",
       "        <div id=\"d555NnBv7qPmyzNGeVbPyT\"></div>\n",
       "        <script>netpixi.call('d555NnBv7qPmyzNGeVbPyT', 'K4weoEfgX3kSNzn3gxGtaY', 'changeGraph', 'eyJpZCI6IDg1MywgInR5cGUiOiAidmVydGV4IiwgInByb3BzIjogeyJzaXplIjogMTQuMDU0NDQxMjYwNzQ0OTg1fX0K');</script>\n",
       "    "
      ],
      "text/plain": [
       "<IPython.core.display.HTML object>"
      ]
     },
     "metadata": {},
     "output_type": "display_data"
    },
    {
     "data": {
      "text/html": [
       "\n",
       "        <div id=\"2UR8kQwJ25X8bnrTHXBwMq\"></div>\n",
       "        <script>netpixi.call('2UR8kQwJ25X8bnrTHXBwMq', 'K4weoEfgX3kSNzn3gxGtaY', 'changeGraph', 'eyJpZCI6IDg1NCwgInR5cGUiOiAidmVydGV4IiwgInByb3BzIjogeyJzaXplIjogMTEuNjA0NTg0NTI3MjIwNjN9fQo=');</script>\n",
       "    "
      ],
      "text/plain": [
       "<IPython.core.display.HTML object>"
      ]
     },
     "metadata": {},
     "output_type": "display_data"
    },
    {
     "data": {
      "text/html": [
       "\n",
       "        <div id=\"RM2kiKRyDuExCpFoVLebtr\"></div>\n",
       "        <script>netpixi.call('RM2kiKRyDuExCpFoVLebtr', 'K4weoEfgX3kSNzn3gxGtaY', 'changeGraph', 'eyJpZCI6IDg1NSwgInR5cGUiOiAidmVydGV4IiwgInByb3BzIjogeyJzaXplIjogMTEuMjc1MDcxNjMzMjM3ODIyfX0K');</script>\n",
       "    "
      ],
      "text/plain": [
       "<IPython.core.display.HTML object>"
      ]
     },
     "metadata": {},
     "output_type": "display_data"
    },
    {
     "data": {
      "text/html": [
       "\n",
       "        <div id=\"iK3wXQhe2Eo3S2am9YvRtE\"></div>\n",
       "        <script>netpixi.call('iK3wXQhe2Eo3S2am9YvRtE', 'K4weoEfgX3kSNzn3gxGtaY', 'changeGraph', 'eyJpZCI6IDg1NiwgInR5cGUiOiAidmVydGV4IiwgInByb3BzIjogeyJzaXplIjogMTEuMzc1MzU4MTY2MTg5MTEzfX0K');</script>\n",
       "    "
      ],
      "text/plain": [
       "<IPython.core.display.HTML object>"
      ]
     },
     "metadata": {},
     "output_type": "display_data"
    },
    {
     "data": {
      "text/html": [
       "\n",
       "        <div id=\"jVU56dsUrRQCfYoyW6NHiv\"></div>\n",
       "        <script>netpixi.call('jVU56dsUrRQCfYoyW6NHiv', 'K4weoEfgX3kSNzn3gxGtaY', 'changeGraph', 'eyJpZCI6IDg1NywgInR5cGUiOiAidmVydGV4IiwgInByb3BzIjogeyJzaXplIjogMTEuMzE4MDUxNTc1OTMxMjMyfX0K');</script>\n",
       "    "
      ],
      "text/plain": [
       "<IPython.core.display.HTML object>"
      ]
     },
     "metadata": {},
     "output_type": "display_data"
    },
    {
     "data": {
      "text/html": [
       "\n",
       "        <div id=\"5qSqqZi24MtQcm2efT3S7t\"></div>\n",
       "        <script>netpixi.call('5qSqqZi24MtQcm2efT3S7t', 'K4weoEfgX3kSNzn3gxGtaY', 'changeGraph', 'eyJpZCI6IDg1OCwgInR5cGUiOiAidmVydGV4IiwgInByb3BzIjogeyJzaXplIjogMTMuOTY4NDgxMzc1MzU4MTY2fX0K');</script>\n",
       "    "
      ],
      "text/plain": [
       "<IPython.core.display.HTML object>"
      ]
     },
     "metadata": {},
     "output_type": "display_data"
    },
    {
     "data": {
      "text/html": [
       "\n",
       "        <div id=\"YmKSzpsniHa56PZfqhBTQB\"></div>\n",
       "        <script>netpixi.call('YmKSzpsniHa56PZfqhBTQB', 'K4weoEfgX3kSNzn3gxGtaY', 'changeGraph', 'eyJpZCI6IDg1OSwgInR5cGUiOiAidmVydGV4IiwgInByb3BzIjogeyJzaXplIjogMTMuNjk2Mjc1MDcxNjMzMjM4fX0K');</script>\n",
       "    "
      ],
      "text/plain": [
       "<IPython.core.display.HTML object>"
      ]
     },
     "metadata": {},
     "output_type": "display_data"
    },
    {
     "data": {
      "text/html": [
       "\n",
       "        <div id=\"geoo6HfshWMAyQfqrGSjHz\"></div>\n",
       "        <script>netpixi.call('geoo6HfshWMAyQfqrGSjHz', 'K4weoEfgX3kSNzn3gxGtaY', 'changeGraph', 'eyJpZCI6IDg2MCwgInR5cGUiOiAidmVydGV4IiwgInByb3BzIjogeyJzaXplIjogMTEuNzA0ODcxMDYwMTcxOTJ9fQo=');</script>\n",
       "    "
      ],
      "text/plain": [
       "<IPython.core.display.HTML object>"
      ]
     },
     "metadata": {},
     "output_type": "display_data"
    },
    {
     "data": {
      "text/html": [
       "\n",
       "        <div id=\"BZFR2AupWUsFr74bucaeUt\"></div>\n",
       "        <script>netpixi.call('BZFR2AupWUsFr74bucaeUt', 'K4weoEfgX3kSNzn3gxGtaY', 'changeGraph', 'eyJpZCI6IDg2MSwgInR5cGUiOiAidmVydGV4IiwgInByb3BzIjogeyJzaXplIjogMTUuODE2NjE4OTExMTc0Nzg1fX0K');</script>\n",
       "    "
      ],
      "text/plain": [
       "<IPython.core.display.HTML object>"
      ]
     },
     "metadata": {},
     "output_type": "display_data"
    },
    {
     "data": {
      "text/html": [
       "\n",
       "        <div id=\"Bo6khvz4pVtttXkESFC8f8\"></div>\n",
       "        <script>netpixi.call('Bo6khvz4pVtttXkESFC8f8', 'K4weoEfgX3kSNzn3gxGtaY', 'changeGraph', 'eyJpZCI6IDg2MiwgInR5cGUiOiAidmVydGV4IiwgInByb3BzIjogeyJzaXplIjogMTMuMjA5MTY5MDU0NDQxMjYxfX0K');</script>\n",
       "    "
      ],
      "text/plain": [
       "<IPython.core.display.HTML object>"
      ]
     },
     "metadata": {},
     "output_type": "display_data"
    },
    {
     "data": {
      "text/html": [
       "\n",
       "        <div id=\"7f5ZmCsTGNZvJi8Dtgn8zJ\"></div>\n",
       "        <script>netpixi.call('7f5ZmCsTGNZvJi8Dtgn8zJ', 'K4weoEfgX3kSNzn3gxGtaY', 'changeGraph', 'eyJpZCI6IDg2MywgInR5cGUiOiAidmVydGV4IiwgInByb3BzIjogeyJzaXplIjogMTAuNTU4NzM5MjU1MDE0MzI3fX0K');</script>\n",
       "    "
      ],
      "text/plain": [
       "<IPython.core.display.HTML object>"
      ]
     },
     "metadata": {},
     "output_type": "display_data"
    },
    {
     "data": {
      "text/html": [
       "\n",
       "        <div id=\"XAxFrqgeJ69B4Duc6ZYLGN\"></div>\n",
       "        <script>netpixi.call('XAxFrqgeJ69B4Duc6ZYLGN', 'K4weoEfgX3kSNzn3gxGtaY', 'changeGraph', 'eyJpZCI6IDg2NCwgInR5cGUiOiAidmVydGV4IiwgInByb3BzIjogeyJzaXplIjogMTEuODMzODEwODg4MjUyMTQ5fX0K');</script>\n",
       "    "
      ],
      "text/plain": [
       "<IPython.core.display.HTML object>"
      ]
     },
     "metadata": {},
     "output_type": "display_data"
    },
    {
     "data": {
      "text/html": [
       "\n",
       "        <div id=\"4m7nCx496opHs2HiopwpqK\"></div>\n",
       "        <script>netpixi.call('4m7nCx496opHs2HiopwpqK', 'K4weoEfgX3kSNzn3gxGtaY', 'changeGraph', 'eyJpZCI6IDg2NSwgInR5cGUiOiAidmVydGV4IiwgInByb3BzIjogeyJzaXplIjogMTUuMDcxNjMzMjM3ODIyMzV9fQo=');</script>\n",
       "    "
      ],
      "text/plain": [
       "<IPython.core.display.HTML object>"
      ]
     },
     "metadata": {},
     "output_type": "display_data"
    },
    {
     "data": {
      "text/html": [
       "\n",
       "        <div id=\"FxiNngW32zWCj5ce2PagGB\"></div>\n",
       "        <script>netpixi.call('FxiNngW32zWCj5ce2PagGB', 'K4weoEfgX3kSNzn3gxGtaY', 'changeGraph', 'eyJpZCI6IDg2NiwgInR5cGUiOiAidmVydGV4IiwgInByb3BzIjogeyJzaXplIjogMTEuNjc2MjE3NzY1MDQyOTh9fQo=');</script>\n",
       "    "
      ],
      "text/plain": [
       "<IPython.core.display.HTML object>"
      ]
     },
     "metadata": {},
     "output_type": "display_data"
    },
    {
     "data": {
      "text/html": [
       "\n",
       "        <div id=\"9AYyA3tVnTesNThXBdAJkU\"></div>\n",
       "        <script>netpixi.call('9AYyA3tVnTesNThXBdAJkU', 'K4weoEfgX3kSNzn3gxGtaY', 'changeGraph', 'eyJpZCI6IDg2NywgInR5cGUiOiAidmVydGV4IiwgInByb3BzIjogeyJzaXplIjogMTAuMjU3ODc5NjU2MTYwNDU4fX0K');</script>\n",
       "    "
      ],
      "text/plain": [
       "<IPython.core.display.HTML object>"
      ]
     },
     "metadata": {},
     "output_type": "display_data"
    },
    {
     "data": {
      "text/html": [
       "\n",
       "        <div id=\"ZhHgGG6WEecHxiHJ8PDAE7\"></div>\n",
       "        <script>netpixi.call('ZhHgGG6WEecHxiHJ8PDAE7', 'K4weoEfgX3kSNzn3gxGtaY', 'changeGraph', 'eyJpZCI6IDg2OCwgInR5cGUiOiAidmVydGV4IiwgInByb3BzIjogeyJzaXplIjogMTAuNDI5Nzk5NDI2OTM0MDk4fX0K');</script>\n",
       "    "
      ],
      "text/plain": [
       "<IPython.core.display.HTML object>"
      ]
     },
     "metadata": {},
     "output_type": "display_data"
    },
    {
     "data": {
      "text/html": [
       "\n",
       "        <div id=\"hUfz5a3tYMRa6KBHjXWkty\"></div>\n",
       "        <script>netpixi.call('hUfz5a3tYMRa6KBHjXWkty', 'K4weoEfgX3kSNzn3gxGtaY', 'changeGraph', 'eyJpZCI6IDg2OSwgInR5cGUiOiAidmVydGV4IiwgInByb3BzIjogeyJzaXplIjogMTMuMjk1MTI4OTM5ODI4MDh9fQo=');</script>\n",
       "    "
      ],
      "text/plain": [
       "<IPython.core.display.HTML object>"
      ]
     },
     "metadata": {},
     "output_type": "display_data"
    },
    {
     "data": {
      "text/html": [
       "\n",
       "        <div id=\"Le5JCCbpEjQJKgRQHfu3Wv\"></div>\n",
       "        <script>netpixi.call('Le5JCCbpEjQJKgRQHfu3Wv', 'K4weoEfgX3kSNzn3gxGtaY', 'changeGraph', 'eyJpZCI6IDg3MCwgInR5cGUiOiAidmVydGV4IiwgInByb3BzIjogeyJzaXplIjogMTUuNzMwNjU5MDI1Nzg3OTY1fX0K');</script>\n",
       "    "
      ],
      "text/plain": [
       "<IPython.core.display.HTML object>"
      ]
     },
     "metadata": {},
     "output_type": "display_data"
    },
    {
     "data": {
      "text/html": [
       "\n",
       "        <div id=\"RvEV2nze5ABiNFmaig6qvV\"></div>\n",
       "        <script>netpixi.call('RvEV2nze5ABiNFmaig6qvV', 'K4weoEfgX3kSNzn3gxGtaY', 'changeGraph', 'eyJpZCI6IDg3MSwgInR5cGUiOiAidmVydGV4IiwgInByb3BzIjogeyJzaXplIjogMTIuNzUwNzE2MzMyMzc4MjIzfX0K');</script>\n",
       "    "
      ],
      "text/plain": [
       "<IPython.core.display.HTML object>"
      ]
     },
     "metadata": {},
     "output_type": "display_data"
    },
    {
     "data": {
      "text/html": [
       "\n",
       "        <div id=\"HWHQD9ajABuvboEmEV64Es\"></div>\n",
       "        <script>netpixi.call('HWHQD9ajABuvboEmEV64Es', 'K4weoEfgX3kSNzn3gxGtaY', 'changeGraph', 'eyJpZCI6IDg3MiwgInR5cGUiOiAidmVydGV4IiwgInByb3BzIjogeyJzaXplIjogMTIuNDIxMjAzNDM4Mzk1NDE2fX0K');</script>\n",
       "    "
      ],
      "text/plain": [
       "<IPython.core.display.HTML object>"
      ]
     },
     "metadata": {},
     "output_type": "display_data"
    }
   ],
   "source": [
    "g.add_vp('coreness')\n",
    "for i, coreness in c.items():\n",
    "    v = g.get_vertex_by_index(i)\n",
    "    v['coreness'] = float(coreness)\n",
    "\n",
    "for v in g.all_vertices():\n",
    "    r.vertex(v['id'], size=(10 + 40 * v['coreness']))"
   ]
  },
  {
   "cell_type": "code",
   "execution_count": 35,
   "metadata": {},
   "outputs": [],
   "source": [
    "df_single_product = new_df.explode('product_pair')\n"
   ]
  },
  {
   "cell_type": "code",
   "execution_count": 36,
   "metadata": {},
   "outputs": [],
   "source": [
    "df_final = df_single_product.groupby('product_pair')['usernames'].count().reset_index()\n",
    "df_final.columns = ['product', 'usernames_count']"
   ]
  },
  {
   "cell_type": "code",
   "execution_count": 37,
   "metadata": {
    "scrolled": false
   },
   "outputs": [],
   "source": [
    "df_final['coreness'] = df_final.index.map(c.get)"
   ]
  },
  {
   "cell_type": "code",
   "execution_count": 38,
   "metadata": {
    "scrolled": true
   },
   "outputs": [
    {
     "data": {
      "text/html": [
       "<div>\n",
       "<style scoped>\n",
       "    .dataframe tbody tr th:only-of-type {\n",
       "        vertical-align: middle;\n",
       "    }\n",
       "\n",
       "    .dataframe tbody tr th {\n",
       "        vertical-align: top;\n",
       "    }\n",
       "\n",
       "    .dataframe thead th {\n",
       "        text-align: right;\n",
       "    }\n",
       "</style>\n",
       "<table border=\"1\" class=\"dataframe\">\n",
       "  <thead>\n",
       "    <tr style=\"text-align: right;\">\n",
       "      <th></th>\n",
       "      <th>product</th>\n",
       "      <th>usernames_count</th>\n",
       "      <th>coreness</th>\n",
       "    </tr>\n",
       "  </thead>\n",
       "  <tbody>\n",
       "    <tr>\n",
       "      <th>0</th>\n",
       "      <td>(Acer Certified) Acer UM.FX1AA.001 Predator XB...</td>\n",
       "      <td>22</td>\n",
       "      <td>0.207020</td>\n",
       "    </tr>\n",
       "    <tr>\n",
       "      <th>1</th>\n",
       "      <td>- Intel 540s Series 240GB M.2 SATA 6GB/s Solid...</td>\n",
       "      <td>2</td>\n",
       "      <td>0.035100</td>\n",
       "    </tr>\n",
       "    <tr>\n",
       "      <th>2</th>\n",
       "      <td>- Seagate 1TB 5400RPM SATA 6Gb/s 128MB Cache 2...</td>\n",
       "      <td>195</td>\n",
       "      <td>0.188037</td>\n",
       "    </tr>\n",
       "    <tr>\n",
       "      <th>3</th>\n",
       "      <td>1.2 cu. ft. Countertop Convection Microwave wi...</td>\n",
       "      <td>16</td>\n",
       "      <td>0.011461</td>\n",
       "    </tr>\n",
       "    <tr>\n",
       "      <th>4</th>\n",
       "      <td>1.4 cu. ft. Countertop Microwave with Sensor Cook</td>\n",
       "      <td>109</td>\n",
       "      <td>0.125000</td>\n",
       "    </tr>\n",
       "    <tr>\n",
       "      <th>...</th>\n",
       "      <td>...</td>\n",
       "      <td>...</td>\n",
       "      <td>...</td>\n",
       "    </tr>\n",
       "    <tr>\n",
       "      <th>868</th>\n",
       "      <td>Sony UHS-II Memory Card (64GB)</td>\n",
       "      <td>156</td>\n",
       "      <td>0.010745</td>\n",
       "    </tr>\n",
       "    <tr>\n",
       "      <th>869</th>\n",
       "      <td>Sony VPL-HW45ES Full HD SXRD Home Cinema Proje...</td>\n",
       "      <td>1</td>\n",
       "      <td>0.082378</td>\n",
       "    </tr>\n",
       "    <tr>\n",
       "      <th>870</th>\n",
       "      <td>Sony WF-XB700 Truly Wireless Bluetooth Headpho...</td>\n",
       "      <td>101</td>\n",
       "      <td>0.143266</td>\n",
       "    </tr>\n",
       "    <tr>\n",
       "      <th>871</th>\n",
       "      <td>Sony WI-SP500 Wireless In-Ear Sports Headphone...</td>\n",
       "      <td>2</td>\n",
       "      <td>0.068768</td>\n",
       "    </tr>\n",
       "    <tr>\n",
       "      <th>872</th>\n",
       "      <td>Sony WI-XB400 Mic-In-Ear Behind the Neck Wirel...</td>\n",
       "      <td>3</td>\n",
       "      <td>0.060530</td>\n",
       "    </tr>\n",
       "  </tbody>\n",
       "</table>\n",
       "<p>873 rows × 3 columns</p>\n",
       "</div>"
      ],
      "text/plain": [
       "                                               product  usernames_count  \\\n",
       "0    (Acer Certified) Acer UM.FX1AA.001 Predator XB...               22   \n",
       "1    - Intel 540s Series 240GB M.2 SATA 6GB/s Solid...                2   \n",
       "2    - Seagate 1TB 5400RPM SATA 6Gb/s 128MB Cache 2...              195   \n",
       "3    1.2 cu. ft. Countertop Convection Microwave wi...               16   \n",
       "4    1.4 cu. ft. Countertop Microwave with Sensor Cook              109   \n",
       "..                                                 ...              ...   \n",
       "868                     Sony UHS-II Memory Card (64GB)              156   \n",
       "869  Sony VPL-HW45ES Full HD SXRD Home Cinema Proje...                1   \n",
       "870  Sony WF-XB700 Truly Wireless Bluetooth Headpho...              101   \n",
       "871  Sony WI-SP500 Wireless In-Ear Sports Headphone...                2   \n",
       "872  Sony WI-XB400 Mic-In-Ear Behind the Neck Wirel...                3   \n",
       "\n",
       "     coreness  \n",
       "0    0.207020  \n",
       "1    0.035100  \n",
       "2    0.188037  \n",
       "3    0.011461  \n",
       "4    0.125000  \n",
       "..        ...  \n",
       "868  0.010745  \n",
       "869  0.082378  \n",
       "870  0.143266  \n",
       "871  0.068768  \n",
       "872  0.060530  \n",
       "\n",
       "[873 rows x 3 columns]"
      ]
     },
     "execution_count": 38,
     "metadata": {},
     "output_type": "execute_result"
    }
   ],
   "source": [
    "df_final = df_final.dropna()\n",
    "df_final"
   ]
  },
  {
   "cell_type": "code",
   "execution_count": 41,
   "metadata": {},
   "outputs": [],
   "source": [
    "rating_medio_produto = []\n",
    "for i, row in df_final.iterrows():\n",
    "    rating_medio_produto.append(dicionario[row['product']])"
   ]
  },
  {
   "cell_type": "code",
   "execution_count": 44,
   "metadata": {},
   "outputs": [],
   "source": [
    "df_final['rating_medio'] = rating_medio_produto"
   ]
  },
  {
   "cell_type": "code",
   "execution_count": 45,
   "metadata": {},
   "outputs": [
    {
     "data": {
      "text/html": [
       "<div>\n",
       "<style scoped>\n",
       "    .dataframe tbody tr th:only-of-type {\n",
       "        vertical-align: middle;\n",
       "    }\n",
       "\n",
       "    .dataframe tbody tr th {\n",
       "        vertical-align: top;\n",
       "    }\n",
       "\n",
       "    .dataframe thead th {\n",
       "        text-align: right;\n",
       "    }\n",
       "</style>\n",
       "<table border=\"1\" class=\"dataframe\">\n",
       "  <thead>\n",
       "    <tr style=\"text-align: right;\">\n",
       "      <th></th>\n",
       "      <th>product</th>\n",
       "      <th>usernames_count</th>\n",
       "      <th>coreness</th>\n",
       "      <th>rating_medio</th>\n",
       "    </tr>\n",
       "  </thead>\n",
       "  <tbody>\n",
       "    <tr>\n",
       "      <th>0</th>\n",
       "      <td>(Acer Certified) Acer UM.FX1AA.001 Predator XB...</td>\n",
       "      <td>22</td>\n",
       "      <td>0.207020</td>\n",
       "      <td>4.028169</td>\n",
       "    </tr>\n",
       "    <tr>\n",
       "      <th>1</th>\n",
       "      <td>- Intel 540s Series 240GB M.2 SATA 6GB/s Solid...</td>\n",
       "      <td>2</td>\n",
       "      <td>0.035100</td>\n",
       "      <td>4.550000</td>\n",
       "    </tr>\n",
       "    <tr>\n",
       "      <th>2</th>\n",
       "      <td>- Seagate 1TB 5400RPM SATA 6Gb/s 128MB Cache 2...</td>\n",
       "      <td>195</td>\n",
       "      <td>0.188037</td>\n",
       "      <td>4.585586</td>\n",
       "    </tr>\n",
       "    <tr>\n",
       "      <th>3</th>\n",
       "      <td>1.2 cu. ft. Countertop Convection Microwave wi...</td>\n",
       "      <td>16</td>\n",
       "      <td>0.011461</td>\n",
       "      <td>3.899160</td>\n",
       "    </tr>\n",
       "    <tr>\n",
       "      <th>4</th>\n",
       "      <td>1.4 cu. ft. Countertop Microwave with Sensor Cook</td>\n",
       "      <td>109</td>\n",
       "      <td>0.125000</td>\n",
       "      <td>4.110759</td>\n",
       "    </tr>\n",
       "    <tr>\n",
       "      <th>...</th>\n",
       "      <td>...</td>\n",
       "      <td>...</td>\n",
       "      <td>...</td>\n",
       "      <td>...</td>\n",
       "    </tr>\n",
       "    <tr>\n",
       "      <th>868</th>\n",
       "      <td>Sony UHS-II Memory Card (64GB)</td>\n",
       "      <td>156</td>\n",
       "      <td>0.010745</td>\n",
       "      <td>4.510417</td>\n",
       "    </tr>\n",
       "    <tr>\n",
       "      <th>869</th>\n",
       "      <td>Sony VPL-HW45ES Full HD SXRD Home Cinema Proje...</td>\n",
       "      <td>1</td>\n",
       "      <td>0.082378</td>\n",
       "      <td>4.600000</td>\n",
       "    </tr>\n",
       "    <tr>\n",
       "      <th>870</th>\n",
       "      <td>Sony WF-XB700 Truly Wireless Bluetooth Headpho...</td>\n",
       "      <td>101</td>\n",
       "      <td>0.143266</td>\n",
       "      <td>4.140351</td>\n",
       "    </tr>\n",
       "    <tr>\n",
       "      <th>871</th>\n",
       "      <td>Sony WI-SP500 Wireless In-Ear Sports Headphone...</td>\n",
       "      <td>2</td>\n",
       "      <td>0.068768</td>\n",
       "      <td>2.941176</td>\n",
       "    </tr>\n",
       "    <tr>\n",
       "      <th>872</th>\n",
       "      <td>Sony WI-XB400 Mic-In-Ear Behind the Neck Wirel...</td>\n",
       "      <td>3</td>\n",
       "      <td>0.060530</td>\n",
       "      <td>3.904348</td>\n",
       "    </tr>\n",
       "  </tbody>\n",
       "</table>\n",
       "<p>873 rows × 4 columns</p>\n",
       "</div>"
      ],
      "text/plain": [
       "                                               product  usernames_count  \\\n",
       "0    (Acer Certified) Acer UM.FX1AA.001 Predator XB...               22   \n",
       "1    - Intel 540s Series 240GB M.2 SATA 6GB/s Solid...                2   \n",
       "2    - Seagate 1TB 5400RPM SATA 6Gb/s 128MB Cache 2...              195   \n",
       "3    1.2 cu. ft. Countertop Convection Microwave wi...               16   \n",
       "4    1.4 cu. ft. Countertop Microwave with Sensor Cook              109   \n",
       "..                                                 ...              ...   \n",
       "868                     Sony UHS-II Memory Card (64GB)              156   \n",
       "869  Sony VPL-HW45ES Full HD SXRD Home Cinema Proje...                1   \n",
       "870  Sony WF-XB700 Truly Wireless Bluetooth Headpho...              101   \n",
       "871  Sony WI-SP500 Wireless In-Ear Sports Headphone...                2   \n",
       "872  Sony WI-XB400 Mic-In-Ear Behind the Neck Wirel...                3   \n",
       "\n",
       "     coreness  rating_medio  \n",
       "0    0.207020      4.028169  \n",
       "1    0.035100      4.550000  \n",
       "2    0.188037      4.585586  \n",
       "3    0.011461      3.899160  \n",
       "4    0.125000      4.110759  \n",
       "..        ...           ...  \n",
       "868  0.010745      4.510417  \n",
       "869  0.082378      4.600000  \n",
       "870  0.143266      4.140351  \n",
       "871  0.068768      2.941176  \n",
       "872  0.060530      3.904348  \n",
       "\n",
       "[873 rows x 4 columns]"
      ]
     },
     "execution_count": 45,
     "metadata": {},
     "output_type": "execute_result"
    }
   ],
   "source": [
    "df_final"
   ]
  },
  {
   "cell_type": "code",
   "execution_count": 46,
   "metadata": {},
   "outputs": [],
   "source": [
    "# ratings = []\n",
    "# for i, row in new_df.iterrows():\n",
    "#     ratings.append(sum(row['ratings'])/len(row['ratings']))"
   ]
  },
  {
   "cell_type": "code",
   "execution_count": 47,
   "metadata": {},
   "outputs": [
    {
     "data": {
      "text/plain": [
       "product             object\n",
       "usernames_count      int64\n",
       "coreness           float64\n",
       "rating_medio       float64\n",
       "dtype: object"
      ]
     },
     "execution_count": 47,
     "metadata": {},
     "output_type": "execute_result"
    }
   ],
   "source": [
    "df_final.dtypes"
   ]
  },
  {
   "cell_type": "code",
   "execution_count": 48,
   "metadata": {},
   "outputs": [
    {
     "data": {
      "text/html": [
       "<style type=\"text/css\">\n",
       "</style>\n",
       "<table id=\"T_04619\">\n",
       "  <thead>\n",
       "    <tr>\n",
       "      <th id=\"T_04619_level0_col0\" class=\"col_heading level0 col0\" >variable</th>\n",
       "      <th id=\"T_04619_level0_col1\" class=\"col_heading level0 col1\" >coefficient</th>\n",
       "      <th id=\"T_04619_level0_col2\" class=\"col_heading level0 col2\" >std error</th>\n",
       "      <th id=\"T_04619_level0_col3\" class=\"col_heading level0 col3\" >p-value</th>\n",
       "    </tr>\n",
       "  </thead>\n",
       "  <tbody>\n",
       "    <tr>\n",
       "      <td id=\"T_04619_row0_col0\" class=\"data row0 col0\" >usernames_count</td>\n",
       "      <td id=\"T_04619_row0_col1\" class=\"data row0 col1\" >0.000020</td>\n",
       "      <td id=\"T_04619_row0_col2\" class=\"data row0 col2\" >0.000110</td>\n",
       "      <td id=\"T_04619_row0_col3\" class=\"data row0 col3\" >0.858082</td>\n",
       "    </tr>\n",
       "  </tbody>\n",
       "</table>\n"
      ],
      "text/plain": [
       "<pandas.io.formats.style.Styler at 0x7fafebe2af20>"
      ]
     },
     "execution_count": 48,
     "metadata": {},
     "output_type": "execute_result"
    }
   ],
   "source": [
    "import regression as reg\n",
    "result = reg.linear(data=df_final, formula='coreness ~ usernames_count')\n",
    "result.micro_summary()   "
   ]
  },
  {
   "cell_type": "code",
   "execution_count": 50,
   "metadata": {},
   "outputs": [
    {
     "data": {
      "image/png": "[encoded data removed]",
      "text/plain": [
       "<Figure size 1280x480 with 2 Axes>"
      ]
     },
     "metadata": {},
     "output_type": "display_data"
    }
   ],
   "source": [
    "result.plot_residuals()"
   ]
  },
  {
   "cell_type": "code",
   "execution_count": 51,
   "metadata": {},
   "outputs": [
    {
     "data": {
      "text/html": [
       "<div>\n",
       "<style scoped>\n",
       "    .dataframe tbody tr th:only-of-type {\n",
       "        vertical-align: middle;\n",
       "    }\n",
       "\n",
       "    .dataframe tbody tr th {\n",
       "        vertical-align: top;\n",
       "    }\n",
       "\n",
       "    .dataframe thead th {\n",
       "        text-align: right;\n",
       "    }\n",
       "</style>\n",
       "<table border=\"1\" class=\"dataframe\">\n",
       "  <thead>\n",
       "    <tr style=\"text-align: right;\">\n",
       "      <th></th>\n",
       "      <th>product</th>\n",
       "      <th>usernames_count</th>\n",
       "      <th>coreness</th>\n",
       "      <th>rating_medio</th>\n",
       "    </tr>\n",
       "  </thead>\n",
       "  <tbody>\n",
       "    <tr>\n",
       "      <th>369</th>\n",
       "      <td>Google S3006WBUS Nest Protect</td>\n",
       "      <td>219</td>\n",
       "      <td>0.000000</td>\n",
       "      <td>4.902763</td>\n",
       "    </tr>\n",
       "    <tr>\n",
       "      <th>6</th>\n",
       "      <td>1.8 Cu. Ft. Over-the-Range Microwave with Sens...</td>\n",
       "      <td>7</td>\n",
       "      <td>0.000358</td>\n",
       "      <td>4.092715</td>\n",
       "    </tr>\n",
       "    <tr>\n",
       "      <th>64</th>\n",
       "      <td>Acer EI342CKR Pbmiippx 34\" 21:9 FreeSync Curve...</td>\n",
       "      <td>2</td>\n",
       "      <td>0.000716</td>\n",
       "      <td>3.722222</td>\n",
       "    </tr>\n",
       "    <tr>\n",
       "      <th>282</th>\n",
       "      <td>E PZ 18-105mm f/4.0 G OSS Power Zoom Lens for ...</td>\n",
       "      <td>55</td>\n",
       "      <td>0.001074</td>\n",
       "      <td>4.636364</td>\n",
       "    </tr>\n",
       "    <tr>\n",
       "      <th>754</th>\n",
       "      <td>Samsung 12.4\" Galaxy Tab S7 FE 256GB Tablet (W...</td>\n",
       "      <td>1</td>\n",
       "      <td>0.001433</td>\n",
       "      <td>4.515152</td>\n",
       "    </tr>\n",
       "    <tr>\n",
       "      <th>...</th>\n",
       "      <td>...</td>\n",
       "      <td>...</td>\n",
       "      <td>...</td>\n",
       "      <td>...</td>\n",
       "    </tr>\n",
       "    <tr>\n",
       "      <th>132</th>\n",
       "      <td>Apple iPad Pro 11 (2nd Generation) - Wi-Fi + C...</td>\n",
       "      <td>130</td>\n",
       "      <td>0.992857</td>\n",
       "      <td>4.703297</td>\n",
       "    </tr>\n",
       "    <tr>\n",
       "      <th>283</th>\n",
       "      <td>EF 100-400mm f/4.5-5.6L IS II USM Telephoto Zo...</td>\n",
       "      <td>273</td>\n",
       "      <td>0.994286</td>\n",
       "      <td>4.943750</td>\n",
       "    </tr>\n",
       "    <tr>\n",
       "      <th>19</th>\n",
       "      <td>27” Odyssey Gaming CRG5 Series LED Curved 240H...</td>\n",
       "      <td>77</td>\n",
       "      <td>0.995714</td>\n",
       "      <td>3.743802</td>\n",
       "    </tr>\n",
       "    <tr>\n",
       "      <th>141</th>\n",
       "      <td>Apple iPhone 6s 16GB, Gold - Unlocked GSM Refu...</td>\n",
       "      <td>1</td>\n",
       "      <td>0.997143</td>\n",
       "      <td>3.783784</td>\n",
       "    </tr>\n",
       "    <tr>\n",
       "      <th>249</th>\n",
       "      <td>Dell - Inspiron 15.6\" 7000 2-in-1 4K Ultra HD ...</td>\n",
       "      <td>9</td>\n",
       "      <td>0.998571</td>\n",
       "      <td>4.360000</td>\n",
       "    </tr>\n",
       "  </tbody>\n",
       "</table>\n",
       "<p>873 rows × 4 columns</p>\n",
       "</div>"
      ],
      "text/plain": [
       "                                               product  usernames_count  \\\n",
       "369                      Google S3006WBUS Nest Protect              219   \n",
       "6    1.8 Cu. Ft. Over-the-Range Microwave with Sens...                7   \n",
       "64   Acer EI342CKR Pbmiippx 34\" 21:9 FreeSync Curve...                2   \n",
       "282  E PZ 18-105mm f/4.0 G OSS Power Zoom Lens for ...               55   \n",
       "754  Samsung 12.4\" Galaxy Tab S7 FE 256GB Tablet (W...                1   \n",
       "..                                                 ...              ...   \n",
       "132  Apple iPad Pro 11 (2nd Generation) - Wi-Fi + C...              130   \n",
       "283  EF 100-400mm f/4.5-5.6L IS II USM Telephoto Zo...              273   \n",
       "19   27” Odyssey Gaming CRG5 Series LED Curved 240H...               77   \n",
       "141  Apple iPhone 6s 16GB, Gold - Unlocked GSM Refu...                1   \n",
       "249  Dell - Inspiron 15.6\" 7000 2-in-1 4K Ultra HD ...                9   \n",
       "\n",
       "     coreness  rating_medio  \n",
       "369  0.000000      4.902763  \n",
       "6    0.000358      4.092715  \n",
       "64   0.000716      3.722222  \n",
       "282  0.001074      4.636364  \n",
       "754  0.001433      4.515152  \n",
       "..        ...           ...  \n",
       "132  0.992857      4.703297  \n",
       "283  0.994286      4.943750  \n",
       "19   0.995714      3.743802  \n",
       "141  0.997143      3.783784  \n",
       "249  0.998571      4.360000  \n",
       "\n",
       "[873 rows x 4 columns]"
      ]
     },
     "execution_count": 51,
     "metadata": {},
     "output_type": "execute_result"
    }
   ],
   "source": [
    "df_final.sort_values(by = 'coreness',\n",
    "                      axis=0,\n",
    "                      ascending=True,\n",
    "                      inplace=False,\n",
    "                      kind='quicksort',\n",
    "                      na_position='last')"
   ]
  },
  {
   "cell_type": "code",
   "execution_count": 52,
   "metadata": {},
   "outputs": [
    {
     "data": {
      "text/html": [
       "<div>\n",
       "<style scoped>\n",
       "    .dataframe tbody tr th:only-of-type {\n",
       "        vertical-align: middle;\n",
       "    }\n",
       "\n",
       "    .dataframe tbody tr th {\n",
       "        vertical-align: top;\n",
       "    }\n",
       "\n",
       "    .dataframe thead th {\n",
       "        text-align: right;\n",
       "    }\n",
       "</style>\n",
       "<table border=\"1\" class=\"dataframe\">\n",
       "  <thead>\n",
       "    <tr style=\"text-align: right;\">\n",
       "      <th></th>\n",
       "      <th>product</th>\n",
       "      <th>usernames_count</th>\n",
       "      <th>coreness</th>\n",
       "      <th>rating_medio</th>\n",
       "    </tr>\n",
       "  </thead>\n",
       "  <tbody>\n",
       "    <tr>\n",
       "      <th>0</th>\n",
       "      <td>(Acer Certified) Acer UM.FX1AA.001 Predator XB...</td>\n",
       "      <td>22</td>\n",
       "      <td>0.207020</td>\n",
       "      <td>4.028169</td>\n",
       "    </tr>\n",
       "    <tr>\n",
       "      <th>1</th>\n",
       "      <td>- Intel 540s Series 240GB M.2 SATA 6GB/s Solid...</td>\n",
       "      <td>2</td>\n",
       "      <td>0.035100</td>\n",
       "      <td>4.550000</td>\n",
       "    </tr>\n",
       "    <tr>\n",
       "      <th>2</th>\n",
       "      <td>- Seagate 1TB 5400RPM SATA 6Gb/s 128MB Cache 2...</td>\n",
       "      <td>195</td>\n",
       "      <td>0.188037</td>\n",
       "      <td>4.585586</td>\n",
       "    </tr>\n",
       "    <tr>\n",
       "      <th>3</th>\n",
       "      <td>1.2 cu. ft. Countertop Convection Microwave wi...</td>\n",
       "      <td>16</td>\n",
       "      <td>0.011461</td>\n",
       "      <td>3.899160</td>\n",
       "    </tr>\n",
       "    <tr>\n",
       "      <th>4</th>\n",
       "      <td>1.4 cu. ft. Countertop Microwave with Sensor Cook</td>\n",
       "      <td>109</td>\n",
       "      <td>0.125000</td>\n",
       "      <td>4.110759</td>\n",
       "    </tr>\n",
       "    <tr>\n",
       "      <th>...</th>\n",
       "      <td>...</td>\n",
       "      <td>...</td>\n",
       "      <td>...</td>\n",
       "      <td>...</td>\n",
       "    </tr>\n",
       "    <tr>\n",
       "      <th>868</th>\n",
       "      <td>Sony UHS-II Memory Card (64GB)</td>\n",
       "      <td>156</td>\n",
       "      <td>0.010745</td>\n",
       "      <td>4.510417</td>\n",
       "    </tr>\n",
       "    <tr>\n",
       "      <th>869</th>\n",
       "      <td>Sony VPL-HW45ES Full HD SXRD Home Cinema Proje...</td>\n",
       "      <td>1</td>\n",
       "      <td>0.082378</td>\n",
       "      <td>4.600000</td>\n",
       "    </tr>\n",
       "    <tr>\n",
       "      <th>870</th>\n",
       "      <td>Sony WF-XB700 Truly Wireless Bluetooth Headpho...</td>\n",
       "      <td>101</td>\n",
       "      <td>0.143266</td>\n",
       "      <td>4.140351</td>\n",
       "    </tr>\n",
       "    <tr>\n",
       "      <th>871</th>\n",
       "      <td>Sony WI-SP500 Wireless In-Ear Sports Headphone...</td>\n",
       "      <td>2</td>\n",
       "      <td>0.068768</td>\n",
       "      <td>2.941176</td>\n",
       "    </tr>\n",
       "    <tr>\n",
       "      <th>872</th>\n",
       "      <td>Sony WI-XB400 Mic-In-Ear Behind the Neck Wirel...</td>\n",
       "      <td>3</td>\n",
       "      <td>0.060530</td>\n",
       "      <td>3.904348</td>\n",
       "    </tr>\n",
       "  </tbody>\n",
       "</table>\n",
       "<p>873 rows × 4 columns</p>\n",
       "</div>"
      ],
      "text/plain": [
       "                                               product  usernames_count  \\\n",
       "0    (Acer Certified) Acer UM.FX1AA.001 Predator XB...               22   \n",
       "1    - Intel 540s Series 240GB M.2 SATA 6GB/s Solid...                2   \n",
       "2    - Seagate 1TB 5400RPM SATA 6Gb/s 128MB Cache 2...              195   \n",
       "3    1.2 cu. ft. Countertop Convection Microwave wi...               16   \n",
       "4    1.4 cu. ft. Countertop Microwave with Sensor Cook              109   \n",
       "..                                                 ...              ...   \n",
       "868                     Sony UHS-II Memory Card (64GB)              156   \n",
       "869  Sony VPL-HW45ES Full HD SXRD Home Cinema Proje...                1   \n",
       "870  Sony WF-XB700 Truly Wireless Bluetooth Headpho...              101   \n",
       "871  Sony WI-SP500 Wireless In-Ear Sports Headphone...                2   \n",
       "872  Sony WI-XB400 Mic-In-Ear Behind the Neck Wirel...                3   \n",
       "\n",
       "     coreness  rating_medio  \n",
       "0    0.207020      4.028169  \n",
       "1    0.035100      4.550000  \n",
       "2    0.188037      4.585586  \n",
       "3    0.011461      3.899160  \n",
       "4    0.125000      4.110759  \n",
       "..        ...           ...  \n",
       "868  0.010745      4.510417  \n",
       "869  0.082378      4.600000  \n",
       "870  0.143266      4.140351  \n",
       "871  0.068768      2.941176  \n",
       "872  0.060530      3.904348  \n",
       "\n",
       "[873 rows x 4 columns]"
      ]
     },
     "execution_count": 52,
     "metadata": {},
     "output_type": "execute_result"
    }
   ],
   "source": [
    "df_final"
   ]
  },
  {
   "cell_type": "code",
   "execution_count": 82,
   "metadata": {},
   "outputs": [],
   "source": [
    "recorte1 = df_final.copy()\n",
    "recorte2 = df_final.copy()"
   ]
  },
  {
   "cell_type": "code",
   "execution_count": 83,
   "metadata": {},
   "outputs": [],
   "source": [
    "recorte1 = recorte1.loc[recorte1['rating_medio'] > 4]"
   ]
  },
  {
   "cell_type": "code",
   "execution_count": 84,
   "metadata": {
    "scrolled": false
   },
   "outputs": [
    {
     "data": {
      "text/html": [
       "<div>\n",
       "<style scoped>\n",
       "    .dataframe tbody tr th:only-of-type {\n",
       "        vertical-align: middle;\n",
       "    }\n",
       "\n",
       "    .dataframe tbody tr th {\n",
       "        vertical-align: top;\n",
       "    }\n",
       "\n",
       "    .dataframe thead th {\n",
       "        text-align: right;\n",
       "    }\n",
       "</style>\n",
       "<table border=\"1\" class=\"dataframe\">\n",
       "  <thead>\n",
       "    <tr style=\"text-align: right;\">\n",
       "      <th></th>\n",
       "      <th>product</th>\n",
       "      <th>usernames_count</th>\n",
       "      <th>coreness</th>\n",
       "      <th>rating_medio</th>\n",
       "    </tr>\n",
       "  </thead>\n",
       "  <tbody>\n",
       "    <tr>\n",
       "      <th>0</th>\n",
       "      <td>(Acer Certified) Acer UM.FX1AA.001 Predator XB...</td>\n",
       "      <td>22</td>\n",
       "      <td>0.207020</td>\n",
       "      <td>4.028169</td>\n",
       "    </tr>\n",
       "    <tr>\n",
       "      <th>1</th>\n",
       "      <td>- Intel 540s Series 240GB M.2 SATA 6GB/s Solid...</td>\n",
       "      <td>2</td>\n",
       "      <td>0.035100</td>\n",
       "      <td>4.550000</td>\n",
       "    </tr>\n",
       "    <tr>\n",
       "      <th>2</th>\n",
       "      <td>- Seagate 1TB 5400RPM SATA 6Gb/s 128MB Cache 2...</td>\n",
       "      <td>195</td>\n",
       "      <td>0.188037</td>\n",
       "      <td>4.585586</td>\n",
       "    </tr>\n",
       "    <tr>\n",
       "      <th>4</th>\n",
       "      <td>1.4 cu. ft. Countertop Microwave with Sensor Cook</td>\n",
       "      <td>109</td>\n",
       "      <td>0.125000</td>\n",
       "      <td>4.110759</td>\n",
       "    </tr>\n",
       "    <tr>\n",
       "      <th>6</th>\n",
       "      <td>1.8 Cu. Ft. Over-the-Range Microwave with Sens...</td>\n",
       "      <td>7</td>\n",
       "      <td>0.000358</td>\n",
       "      <td>4.092715</td>\n",
       "    </tr>\n",
       "    <tr>\n",
       "      <th>...</th>\n",
       "      <td>...</td>\n",
       "      <td>...</td>\n",
       "      <td>...</td>\n",
       "      <td>...</td>\n",
       "    </tr>\n",
       "    <tr>\n",
       "      <th>865</th>\n",
       "      <td>Sony Professional XQD G Series 64GB Memory Car...</td>\n",
       "      <td>418</td>\n",
       "      <td>0.126791</td>\n",
       "      <td>4.757009</td>\n",
       "    </tr>\n",
       "    <tr>\n",
       "      <th>867</th>\n",
       "      <td>Sony SRS-XB01 - Speaker - for portable use - w...</td>\n",
       "      <td>83</td>\n",
       "      <td>0.006447</td>\n",
       "      <td>4.043011</td>\n",
       "    </tr>\n",
       "    <tr>\n",
       "      <th>868</th>\n",
       "      <td>Sony UHS-II Memory Card (64GB)</td>\n",
       "      <td>156</td>\n",
       "      <td>0.010745</td>\n",
       "      <td>4.510417</td>\n",
       "    </tr>\n",
       "    <tr>\n",
       "      <th>869</th>\n",
       "      <td>Sony VPL-HW45ES Full HD SXRD Home Cinema Proje...</td>\n",
       "      <td>1</td>\n",
       "      <td>0.082378</td>\n",
       "      <td>4.600000</td>\n",
       "    </tr>\n",
       "    <tr>\n",
       "      <th>870</th>\n",
       "      <td>Sony WF-XB700 Truly Wireless Bluetooth Headpho...</td>\n",
       "      <td>101</td>\n",
       "      <td>0.143266</td>\n",
       "      <td>4.140351</td>\n",
       "    </tr>\n",
       "  </tbody>\n",
       "</table>\n",
       "<p>617 rows × 4 columns</p>\n",
       "</div>"
      ],
      "text/plain": [
       "                                               product  usernames_count  \\\n",
       "0    (Acer Certified) Acer UM.FX1AA.001 Predator XB...               22   \n",
       "1    - Intel 540s Series 240GB M.2 SATA 6GB/s Solid...                2   \n",
       "2    - Seagate 1TB 5400RPM SATA 6Gb/s 128MB Cache 2...              195   \n",
       "4    1.4 cu. ft. Countertop Microwave with Sensor Cook              109   \n",
       "6    1.8 Cu. Ft. Over-the-Range Microwave with Sens...                7   \n",
       "..                                                 ...              ...   \n",
       "865  Sony Professional XQD G Series 64GB Memory Car...              418   \n",
       "867  Sony SRS-XB01 - Speaker - for portable use - w...               83   \n",
       "868                     Sony UHS-II Memory Card (64GB)              156   \n",
       "869  Sony VPL-HW45ES Full HD SXRD Home Cinema Proje...                1   \n",
       "870  Sony WF-XB700 Truly Wireless Bluetooth Headpho...              101   \n",
       "\n",
       "     coreness  rating_medio  \n",
       "0    0.207020      4.028169  \n",
       "1    0.035100      4.550000  \n",
       "2    0.188037      4.585586  \n",
       "4    0.125000      4.110759  \n",
       "6    0.000358      4.092715  \n",
       "..        ...           ...  \n",
       "865  0.126791      4.757009  \n",
       "867  0.006447      4.043011  \n",
       "868  0.010745      4.510417  \n",
       "869  0.082378      4.600000  \n",
       "870  0.143266      4.140351  \n",
       "\n",
       "[617 rows x 4 columns]"
      ]
     },
     "execution_count": 84,
     "metadata": {},
     "output_type": "execute_result"
    }
   ],
   "source": [
    "recorte1"
   ]
  },
  {
   "cell_type": "code",
   "execution_count": 85,
   "metadata": {},
   "outputs": [
    {
     "data": {
      "text/html": [
       "<style type=\"text/css\">\n",
       "</style>\n",
       "<table id=\"T_8cd20\">\n",
       "  <thead>\n",
       "    <tr>\n",
       "      <th id=\"T_8cd20_level0_col0\" class=\"col_heading level0 col0\" >variable</th>\n",
       "      <th id=\"T_8cd20_level0_col1\" class=\"col_heading level0 col1\" >coefficient</th>\n",
       "      <th id=\"T_8cd20_level0_col2\" class=\"col_heading level0 col2\" >std error</th>\n",
       "      <th id=\"T_8cd20_level0_col3\" class=\"col_heading level0 col3\" >p-value</th>\n",
       "    </tr>\n",
       "  </thead>\n",
       "  <tbody>\n",
       "    <tr>\n",
       "      <td id=\"T_8cd20_row0_col0\" class=\"data row0 col0\" >usernames_count</td>\n",
       "      <td id=\"T_8cd20_row0_col1\" class=\"data row0 col1\" >0.000086</td>\n",
       "      <td id=\"T_8cd20_row0_col2\" class=\"data row0 col2\" >0.000122</td>\n",
       "      <td id=\"T_8cd20_row0_col3\" class=\"data row0 col3\" >0.482048</td>\n",
       "    </tr>\n",
       "  </tbody>\n",
       "</table>\n"
      ],
      "text/plain": [
       "<pandas.io.formats.style.Styler at 0x7fafebd48790>"
      ]
     },
     "execution_count": 85,
     "metadata": {},
     "output_type": "execute_result"
    }
   ],
   "source": [
    "result_recorte1 = reg.linear(data=recorte1, formula='coreness ~ usernames_count')\n",
    "result_recorte1.micro_summary() "
   ]
  },
  {
   "cell_type": "code",
   "execution_count": 86,
   "metadata": {},
   "outputs": [
    {
     "data": {
      "image/png": "[encoded data removed]",
      "text/plain": [
       "<Figure size 1280x480 with 2 Axes>"
      ]
     },
     "metadata": {},
     "output_type": "display_data"
    }
   ],
   "source": [
    "result_recorte1.plot_residuals()"
   ]
  },
  {
   "cell_type": "code",
   "execution_count": 87,
   "metadata": {},
   "outputs": [],
   "source": [
    "recorte2 = recorte2.loc[recorte2['rating_medio'] <= 4]"
   ]
  },
  {
   "cell_type": "code",
   "execution_count": 88,
   "metadata": {},
   "outputs": [
    {
     "data": {
      "text/html": [
       "<div>\n",
       "<style scoped>\n",
       "    .dataframe tbody tr th:only-of-type {\n",
       "        vertical-align: middle;\n",
       "    }\n",
       "\n",
       "    .dataframe tbody tr th {\n",
       "        vertical-align: top;\n",
       "    }\n",
       "\n",
       "    .dataframe thead th {\n",
       "        text-align: right;\n",
       "    }\n",
       "</style>\n",
       "<table border=\"1\" class=\"dataframe\">\n",
       "  <thead>\n",
       "    <tr style=\"text-align: right;\">\n",
       "      <th></th>\n",
       "      <th>product</th>\n",
       "      <th>usernames_count</th>\n",
       "      <th>coreness</th>\n",
       "      <th>rating_medio</th>\n",
       "    </tr>\n",
       "  </thead>\n",
       "  <tbody>\n",
       "    <tr>\n",
       "      <th>3</th>\n",
       "      <td>1.2 cu. ft. Countertop Convection Microwave wi...</td>\n",
       "      <td>16</td>\n",
       "      <td>0.011461</td>\n",
       "      <td>3.899160</td>\n",
       "    </tr>\n",
       "    <tr>\n",
       "      <th>5</th>\n",
       "      <td>1.6 cu. ft.  Over-the-Range Fingerprint Resist...</td>\n",
       "      <td>287</td>\n",
       "      <td>0.094198</td>\n",
       "      <td>3.899160</td>\n",
       "    </tr>\n",
       "    <tr>\n",
       "      <th>9</th>\n",
       "      <td>14\" Laptop  - AMD 3020e - 4GB Memory - 64 GB e...</td>\n",
       "      <td>1</td>\n",
       "      <td>0.761429</td>\n",
       "      <td>3.325581</td>\n",
       "    </tr>\n",
       "    <tr>\n",
       "      <th>11</th>\n",
       "      <td>15.6 144HZ FHD I7-9750H RTX 2060 GDDR6 6GB 8GB...</td>\n",
       "      <td>1</td>\n",
       "      <td>0.140401</td>\n",
       "      <td>3.588235</td>\n",
       "    </tr>\n",
       "    <tr>\n",
       "      <th>12</th>\n",
       "      <td>17.3\" FHD Gaming Laptop - Intel Core i7 - 16GB...</td>\n",
       "      <td>6</td>\n",
       "      <td>0.083811</td>\n",
       "      <td>3.466667</td>\n",
       "    </tr>\n",
       "    <tr>\n",
       "      <th>...</th>\n",
       "      <td>...</td>\n",
       "      <td>...</td>\n",
       "      <td>...</td>\n",
       "      <td>...</td>\n",
       "    </tr>\n",
       "    <tr>\n",
       "      <th>859</th>\n",
       "      <td>Sony MDR-EX15AP EX Monitor Headphones (Blue)</td>\n",
       "      <td>74</td>\n",
       "      <td>0.092407</td>\n",
       "      <td>3.724771</td>\n",
       "    </tr>\n",
       "    <tr>\n",
       "      <th>862</th>\n",
       "      <td>Sony MDREX15LP In-Ear Earbud Headphones</td>\n",
       "      <td>5</td>\n",
       "      <td>0.080229</td>\n",
       "      <td>3.640625</td>\n",
       "    </tr>\n",
       "    <tr>\n",
       "      <th>866</th>\n",
       "      <td>Sony SRS-XB01 - Speaker - for portable use - w...</td>\n",
       "      <td>29</td>\n",
       "      <td>0.041905</td>\n",
       "      <td>3.815789</td>\n",
       "    </tr>\n",
       "    <tr>\n",
       "      <th>871</th>\n",
       "      <td>Sony WI-SP500 Wireless In-Ear Sports Headphone...</td>\n",
       "      <td>2</td>\n",
       "      <td>0.068768</td>\n",
       "      <td>2.941176</td>\n",
       "    </tr>\n",
       "    <tr>\n",
       "      <th>872</th>\n",
       "      <td>Sony WI-XB400 Mic-In-Ear Behind the Neck Wirel...</td>\n",
       "      <td>3</td>\n",
       "      <td>0.060530</td>\n",
       "      <td>3.904348</td>\n",
       "    </tr>\n",
       "  </tbody>\n",
       "</table>\n",
       "<p>256 rows × 4 columns</p>\n",
       "</div>"
      ],
      "text/plain": [
       "                                               product  usernames_count  \\\n",
       "3    1.2 cu. ft. Countertop Convection Microwave wi...               16   \n",
       "5    1.6 cu. ft.  Over-the-Range Fingerprint Resist...              287   \n",
       "9    14\" Laptop  - AMD 3020e - 4GB Memory - 64 GB e...                1   \n",
       "11   15.6 144HZ FHD I7-9750H RTX 2060 GDDR6 6GB 8GB...                1   \n",
       "12   17.3\" FHD Gaming Laptop - Intel Core i7 - 16GB...                6   \n",
       "..                                                 ...              ...   \n",
       "859       Sony MDR-EX15AP EX Monitor Headphones (Blue)               74   \n",
       "862            Sony MDREX15LP In-Ear Earbud Headphones                5   \n",
       "866  Sony SRS-XB01 - Speaker - for portable use - w...               29   \n",
       "871  Sony WI-SP500 Wireless In-Ear Sports Headphone...                2   \n",
       "872  Sony WI-XB400 Mic-In-Ear Behind the Neck Wirel...                3   \n",
       "\n",
       "     coreness  rating_medio  \n",
       "3    0.011461      3.899160  \n",
       "5    0.094198      3.899160  \n",
       "9    0.761429      3.325581  \n",
       "11   0.140401      3.588235  \n",
       "12   0.083811      3.466667  \n",
       "..        ...           ...  \n",
       "859  0.092407      3.724771  \n",
       "862  0.080229      3.640625  \n",
       "866  0.041905      3.815789  \n",
       "871  0.068768      2.941176  \n",
       "872  0.060530      3.904348  \n",
       "\n",
       "[256 rows x 4 columns]"
      ]
     },
     "execution_count": 88,
     "metadata": {},
     "output_type": "execute_result"
    }
   ],
   "source": [
    "recorte2"
   ]
  },
  {
   "cell_type": "code",
   "execution_count": 89,
   "metadata": {},
   "outputs": [
    {
     "data": {
      "text/html": [
       "<style type=\"text/css\">\n",
       "</style>\n",
       "<table id=\"T_d82ac\">\n",
       "  <thead>\n",
       "    <tr>\n",
       "      <th id=\"T_d82ac_level0_col0\" class=\"col_heading level0 col0\" >variable</th>\n",
       "      <th id=\"T_d82ac_level0_col1\" class=\"col_heading level0 col1\" >coefficient</th>\n",
       "      <th id=\"T_d82ac_level0_col2\" class=\"col_heading level0 col2\" >std error</th>\n",
       "      <th id=\"T_d82ac_level0_col3\" class=\"col_heading level0 col3\" >p-value</th>\n",
       "    </tr>\n",
       "  </thead>\n",
       "  <tbody>\n",
       "    <tr>\n",
       "      <td id=\"T_d82ac_row0_col0\" class=\"data row0 col0\" >usernames_count</td>\n",
       "      <td id=\"T_d82ac_row0_col1\" class=\"data row0 col1\" >-0.000489</td>\n",
       "      <td id=\"T_d82ac_row0_col2\" class=\"data row0 col2\" >0.000291</td>\n",
       "      <td id=\"T_d82ac_row0_col3\" class=\"data row0 col3\" >0.094137</td>\n",
       "    </tr>\n",
       "  </tbody>\n",
       "</table>\n"
      ],
      "text/plain": [
       "<pandas.io.formats.style.Styler at 0x7fb0206f6560>"
      ]
     },
     "execution_count": 89,
     "metadata": {},
     "output_type": "execute_result"
    }
   ],
   "source": [
    "result_recorte2 = reg.linear(data=recorte2, formula='coreness ~ usernames_count')\n",
    "result_recorte2.micro_summary()"
   ]
  },
  {
   "cell_type": "code",
   "execution_count": 90,
   "metadata": {},
   "outputs": [
    {
     "data": {
      "image/png": "[encoded data removed]",
      "text/plain": [
       "<Figure size 1280x480 with 2 Axes>"
      ]
     },
     "metadata": {},
     "output_type": "display_data"
    }
   ],
   "source": [
    "result_recorte1.plot_residuals()"
   ]
  },
  {
   "cell_type": "code",
   "execution_count": null,
   "metadata": {},
   "outputs": [],
   "source": []
  }
 ],
 "metadata": {
  "kernelspec": {
   "display_name": "Python 3 (ipykernel)",
   "language": "python",
   "name": "python3"
  },
  "language_info": {
   "codemirror_mode": {
    "name": "ipython",
    "version": 3
   },
   "file_extension": ".py",
   "mimetype": "text/x-python",
   "name": "python",
   "nbconvert_exporter": "python",
   "pygments_lexer": "ipython3",
   "version": "3.10.10"
  }
 },
 "nbformat": 4,
 "nbformat_minor": 2
}
